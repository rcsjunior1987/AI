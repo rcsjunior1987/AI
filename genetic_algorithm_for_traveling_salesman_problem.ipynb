{
  "nbformat": 4,
  "nbformat_minor": 0,
  "metadata": {
    "colab": {
      "name": "genetic-algorithm-for-traveling-salesman-problem.ipynb",
      "provenance": [],
      "collapsed_sections": [],
      "authorship_tag": "ABX9TyNDKbxF//n9r7oU/J46+/LU",
      "include_colab_link": true
    },
    "kernelspec": {
      "name": "python3",
      "display_name": "Python 3"
    },
    "language_info": {
      "name": "python"
    }
  },
  "cells": [
    {
      "cell_type": "markdown",
      "metadata": {
        "id": "view-in-github",
        "colab_type": "text"
      },
      "source": [
        "<a href=\"https://colab.research.google.com/github/rcsjunior1987/Artificial-Intelligence/blob/master/genetic_algorithm_for_traveling_salesman_problem.ipynb\" target=\"_parent\"><img src=\"https://colab.research.google.com/assets/colab-badge.svg\" alt=\"Open In Colab\"/></a>"
      ]
    },
    {
      "cell_type": "code",
      "metadata": {
        "id": "8wxV6aUYYfAF"
      },
      "source": [
        "import random\n",
        "import numpy as np"
      ],
      "execution_count": 989,
      "outputs": []
    },
    {
      "cell_type": "code",
      "metadata": {
        "id": "kh5TJNQ7HRd6"
      },
      "source": [
        "\"\"\"\n",
        "  Class location\n",
        "  , which each location is represented by its lattitude and longtude\n",
        "\"\"\"\n",
        "\n",
        "class Location:\n",
        "\n",
        "    def __init__(self, lat, longt):\n",
        "      self.lat = lat;\n",
        "      self.longt = longt;\n",
        "\n",
        "    # Calculates the distance between two locations\n",
        "    def calc_distance(self, location):\n",
        "      distance = np.sqrt((self.lat - location.lat) ** 2 + (self.longt - location.longt ) ** 2)\n",
        "      return distance\n",
        "\n",
        "    def __repr__(self):\n",
        "        return \"(\" + str(self.lat) + \" , \" + str(self.longt) + \")\""
      ],
      "execution_count": 990,
      "outputs": []
    },
    {
      "cell_type": "code",
      "metadata": {
        "id": "EsiEW4W3RDS9"
      },
      "source": [
        "class FitnessFunction:\n",
        "\n",
        "  def __init__(self, route):\n",
        "    self.route = route\n",
        "    self.distance = 0\n",
        "    self.fitness_value = 0.0\n",
        "\n",
        "  # Method to calculate the fitness\n",
        "  def calc_fitness(self):\n",
        "\n",
        "    # If the fitness value has not been calculated yet\n",
        "    if (self.fitness_value == 0):\n",
        "      self.fitness_value = (1 / float(self.calc_route_distance()))\n",
        "    return self.fitness_value\n",
        "\n",
        "  # Method to route distance\n",
        "  def calc_route_distance(self):\n",
        "\n",
        "      if self.distance == 0:\n",
        "\n",
        "        route_distance = 0\n",
        "\n",
        "        # for each city in the route\n",
        "        for i in range(0, len(self.route)):\n",
        "\n",
        "          # Gets the city in the positon i\n",
        "          from_city = self.route[i]\n",
        "\n",
        "          # It starts as none\n",
        "          to_city = None\n",
        "\n",
        "          # If the next city is not the last one in the route\n",
        "          if i + 1 < len(self.route):\n",
        "\n",
        "            # It is assigned as the next city\n",
        "            to_city = self.route[i+1]\n",
        "          else:\n",
        "            # It assigns the first city in the route\n",
        "            to_city = self.route[0]\n",
        "\n",
        "          # Acumulates the distance from the cities\n",
        "          route_distance += from_city.calc_distance(to_city) \n",
        "\n",
        "        # Assigns the route distance into distance\n",
        "        self.distance = route_distance\n",
        "\n",
        "      # Returns the route distance\n",
        "      return self.distance"
      ],
      "execution_count": 991,
      "outputs": []
    },
    {
      "cell_type": "code",
      "metadata": {
        "id": "3dMoPLjEE49f"
      },
      "source": [
        "class GA:\n",
        "\n",
        "  # Method to create the population\n",
        "  def create_population(self, locations, population_size):\n",
        "\n",
        "    # Declares population as None\n",
        "    population = []\n",
        "\n",
        "    # The population \n",
        "    for i in range(0, population_size):\n",
        "      population.append(self.create_route(locations))\n",
        "\n",
        "    # Returns population\n",
        "    return population\n",
        "\n",
        "  # Creates a route from a list of locations\n",
        "  def create_route(self, locations):\n",
        "    route = random.sample(locations, len(locations))\n",
        "    return route\n",
        "\n",
        "  def rank_fitness(self, population):\n",
        "\n",
        "    fitness_results = {}\n",
        "\n",
        "    # If the fitness value has not been calculated yet\n",
        "    for i in range(0, len(population)):\n",
        "\n",
        "      # Calculates the routes distances\n",
        "      fitness_results[i] = FitnessFunction(population[i]).calc_fitness()\n",
        "\n",
        "    # Order by Asc\n",
        "    return sorted(fitness_results.items(), reverse = True)\n",
        "  "
      ],
      "execution_count": 992,
      "outputs": []
    },
    {
      "cell_type": "code",
      "metadata": {
        "colab": {
          "base_uri": "https://localhost:8080/"
        },
        "id": "OGKApSrbSIx5",
        "outputId": "e37a7e41-6658-4a5e-a7bd-7d200268bf4c"
      },
      "source": [
        "locations = []\n",
        "\n",
        "# Creates a 10 dummy locations\n",
        "for i in range(0, 10):\n",
        "  locations.append(Location(lat=int(random.random() * 100), longt=int(random.random() * 100)))\n",
        "\n",
        "# Creates an initial random population\n",
        "population = GA().create_population(locations, 100)\n",
        "\n",
        "# Prints the lowest distance\n",
        "print(\"Initial distance: \" + str(1 / GA().rank_fitness(population)[0][1]))"
      ],
      "execution_count": 993,
      "outputs": [
        {
          "output_type": "stream",
          "name": "stdout",
          "text": [
            "Initial distance: 530.5178735201262\n"
          ]
        }
      ]
    },
    {
      "cell_type": "code",
      "metadata": {
        "id": "3ImO09hDEeTA"
      },
      "source": [
        ""
      ],
      "execution_count": 993,
      "outputs": []
    }
  ]
}