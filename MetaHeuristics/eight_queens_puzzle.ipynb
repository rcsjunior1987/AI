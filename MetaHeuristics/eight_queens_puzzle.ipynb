{
  "nbformat": 4,
  "nbformat_minor": 0,
  "metadata": {
    "colab": {
      "name": "eight_queens_puzzle.ipynb",
      "provenance": [],
      "collapsed_sections": [],
      "mount_file_id": "1GmPjAD2F_2k2oPwhgut3ssQoXHktmh32",
      "authorship_tag": "ABX9TyM8oRWuLn7c6ozNz7oXRLUI",
      "include_colab_link": true
    },
    "kernelspec": {
      "name": "python3",
      "display_name": "Python 3"
    },
    "language_info": {
      "name": "python"
    }
  },
  "cells": [
    {
      "cell_type": "markdown",
      "metadata": {
        "id": "view-in-github",
        "colab_type": "text"
      },
      "source": [
        "<a href=\"https://colab.research.google.com/github/rcsjunior1987/Artificial-Intelligence/blob/master/MetaHeuristics/eight_queens_puzzle.ipynb\" target=\"_parent\"><img src=\"https://colab.research.google.com/assets/colab-badge.svg\" alt=\"Open In Colab\"/></a>"
      ]
    },
    {
      "cell_type": "code",
      "metadata": {
        "id": "Ql9YgpAmMAls"
      },
      "source": [
        "jjj"
      ],
      "execution_count": null,
      "outputs": []
    }
  ]
}