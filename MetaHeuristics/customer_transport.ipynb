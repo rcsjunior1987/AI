{
 "cells": [
  {
   "cell_type": "code",
   "execution_count": 2,
   "metadata": {},
   "outputs": [],
   "source": [
    "import sys\n",
    "import numpy as np"
   ]
  },
  {
   "cell_type": "code",
   "execution_count": 3,
   "metadata": {},
   "outputs": [],
   "source": [
    "# Defines Customers\n",
    "customers = [1,2,3,4,5]\n",
    "\n",
    "# Defines Factories\n",
    "factories = [1,2,3]"
   ]
  },
  {
   "cell_type": "code",
   "execution_count": 4,
   "metadata": {},
   "outputs": [],
   "source": [
    "\"\"\"\n",
    " Defines customer demand {\n",
    "                            Customer 1 = 80\n",
    "                            Customer 2 = 270\n",
    "                            Customer 3 = 250\n",
    "                            Customer 4 = 160  \n",
    "                            Customer 5 = 180\n",
    "                          }\n",
    "\"\"\"\n",
    "customer_demand = {1:80, 2:270, 3:250, 4:160, 5:180}"
   ]
  },
  {
   "cell_type": "code",
   "execution_count": 5,
   "metadata": {},
   "outputs": [],
   "source": [
    "\"\"\"\n",
    "    Defines factory capacity {\n",
    "                                Factory 1 = 500\n",
    "                                Factory 2 = 500\n",
    "                                Factory 3 = 500\n",
    "                             }\n",
    "\"\"\"\n",
    "factory_capacity = {1:500, 2:500, 3:500}"
   ]
  },
  {
   "cell_type": "code",
   "execution_count": 6,
   "metadata": {},
   "outputs": [],
   "source": [
    "# Defines transportation costs\n",
    "transportation_costs = {\n",
    "                        (1,1):4,    (1,2):6,    (1,3):9\n",
    "                      , (2,1):5,    (2,2):4,    (2,3):7\n",
    "                      , (3,1):6,    (3,2):3,    (3,3):3\n",
    "                      , (4,1):8,    (4,2):5,    (4,3):3\n",
    "                      , (5,1):10,   (5,2):8,    (5,3):4\n",
    "                       }"
   ]
  },
  {
   "cell_type": "code",
   "execution_count": 8,
   "metadata": {},
   "outputs": [
    {
     "data": {
      "text/plain": [
       "array([[ 4.,  6.,  9.],\n",
       "       [ 5.,  4.,  7.],\n",
       "       [ 6.,  3.,  3.],\n",
       "       [ 8.,  5.,  3.],\n",
       "       [10.,  8.,  4.]])"
      ]
     },
     "execution_count": 8,
     "metadata": {},
     "output_type": "execute_result"
    }
   ],
   "source": [
    "# Converts transportation_costs into 2D array\n",
    "transportation_costs_2d = np.empty([len(customers), len(factories)])\n",
    "for i in range(len(customers)):\n",
    "    for j in range(len(factories)):\n",
    "        transportation_costs_2d[i, j] = transportation_costs[i+1, j+1]\n",
    "\n",
    "transportation_costs_2d"
   ]
  },
  {
   "cell_type": "code",
   "execution_count": 12,
   "metadata": {},
   "outputs": [
    {
     "data": {
      "text/plain": [
       "15"
      ]
     },
     "execution_count": 12,
     "metadata": {},
     "output_type": "execute_result"
    }
   ],
   "source": [
    "# number of variables\n",
    "n_vars = transportation_costs_2d.size\n",
    "\n",
    "# 3 represents the number of companies for customer demands\n",
    "bounds = 3 * [(0, 80), (0, 270), (0, 250), (0, 160), (0, 180)]"
   ]
  },
  {
   "cell_type": "code",
   "execution_count": 13,
   "metadata": {},
   "outputs": [],
   "source": [
    "\"\"\"\n",
    "    It is created penalties in case of violation constraint,\n",
    "        which are: SUM OF GOODS BE DIFFERENT THAN THE CUSTOMER DEMAND\n",
    "            or IF THE SUM OF GOOD IS GREATER THAN THE FACTORY CAPACITY \n",
    "\"\"\"\n",
    "def objective_function(x):\n",
    "    obj_func = sum(x[idx] * transportation_costs_2d[idx//len(factories), idx%len(factories)] for idx in range(transportation_costs_2d.size))\n",
    "\n",
    "    # Penalty: sum of all factories outputs == customer_i demand\n",
    "    pen_cust_demand = 0\n",
    "    for idx in range(0, transportation_costs_2d.size, len(factories)):\n",
    "        pen_cust_demand += (max(0, abs(sum(x[idx: idx + len(factories)]) - customer_demand[idx//len(factories) + 1])))**2\n",
    "        \n",
    "    obj_func += pen_cust_demand\n",
    "    \n",
    "    # Penalty: sum of all customers demands <= factory_j capacity\n",
    "    pen_fact_capacity = 0\n",
    "    for idx in range(0, transportation_costs_2d.size, len(customers)):\n",
    "        pen_fact_capacity += (max(0, (sum(x[idx: idx + len(customers)]) - factory_capacity[idx//len(customers) + 1])))**3\n",
    "    \n",
    "    obj_func += pen_fact_capacity\n",
    "    \n",
    "    return obj_func"
   ]
  },
  {
   "cell_type": "code",
   "execution_count": 14,
   "metadata": {},
   "outputs": [
    {
     "ename": "NameError",
     "evalue": "name 'plt' is not defined",
     "output_type": "error",
     "traceback": [
      "\u001b[1;31m---------------------------------------------------------------------------\u001b[0m",
      "\u001b[1;31mNameError\u001b[0m                                 Traceback (most recent call last)",
      "\u001b[1;32m~\\AppData\\Local\\Temp/ipykernel_2232/730208405.py\u001b[0m in \u001b[0;36m<module>\u001b[1;34m\u001b[0m\n\u001b[0;32m      8\u001b[0m \u001b[1;33m\u001b[0m\u001b[0m\n\u001b[0;32m      9\u001b[0m \u001b[1;31m# Visualization\u001b[0m\u001b[1;33m\u001b[0m\u001b[1;33m\u001b[0m\u001b[1;33m\u001b[0m\u001b[0m\n\u001b[1;32m---> 10\u001b[1;33m \u001b[0mfig\u001b[0m \u001b[1;33m=\u001b[0m \u001b[0mplt\u001b[0m\u001b[1;33m.\u001b[0m\u001b[0mfigure\u001b[0m\u001b[1;33m(\u001b[0m\u001b[1;33m)\u001b[0m\u001b[1;33m\u001b[0m\u001b[1;33m\u001b[0m\u001b[0m\n\u001b[0m\u001b[0;32m     11\u001b[0m \u001b[0max\u001b[0m \u001b[1;33m=\u001b[0m \u001b[0mfig\u001b[0m\u001b[1;33m.\u001b[0m\u001b[0madd_subplot\u001b[0m\u001b[1;33m(\u001b[0m\u001b[1;33m)\u001b[0m\u001b[1;33m\u001b[0m\u001b[1;33m\u001b[0m\u001b[0m\n\u001b[0;32m     12\u001b[0m \u001b[0mfig\u001b[0m\u001b[1;33m.\u001b[0m\u001b[0mshow\u001b[0m\u001b[1;33m(\u001b[0m\u001b[1;33m)\u001b[0m\u001b[1;33m\u001b[0m\u001b[1;33m\u001b[0m\u001b[0m\n",
      "\u001b[1;31mNameError\u001b[0m: name 'plt' is not defined"
     ]
    }
   ],
   "source": [
    "import matplotlib.pyplot as plt\n",
    "\n",
    "# Parameters of PS algorithm\n",
    "problem = 'minimize'\n",
    "n_particles = 200\n",
    "n_iterations = 500\n",
    "inertia_coeff = 0.9     # inertia constant\n",
    "c1 = 1                  # cognitive constant\n",
    "c2 = 2                  # social constant\n",
    "\n",
    "# Visualization\n",
    "fig = plt.figure()\n",
    "ax = fig.add_subplot()\n",
    "fig.show()\n",
    "plt.title('Evolutionary process of the objective function value')\n",
    "plt.xlabel(\"Iteration\")\n",
    "plt.ylabel(\"Objective function\")"
   ]
  }
 ],
 "metadata": {
  "interpreter": {
   "hash": "232151e7792eb4009285e9b1d63ba41488d76bd8b9c82159a69c73f066ed7f14"
  },
  "kernelspec": {
   "display_name": "Python 3.9.6 64-bit",
   "language": "python",
   "name": "python3"
  },
  "language_info": {
   "codemirror_mode": {
    "name": "ipython",
    "version": 3
   },
   "file_extension": ".py",
   "mimetype": "text/x-python",
   "name": "python",
   "nbconvert_exporter": "python",
   "pygments_lexer": "ipython3",
   "version": "3.9.6"
  },
  "orig_nbformat": 4
 },
 "nbformat": 4,
 "nbformat_minor": 2
}
