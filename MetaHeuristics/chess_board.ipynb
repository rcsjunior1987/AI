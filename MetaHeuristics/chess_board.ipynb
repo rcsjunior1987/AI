{
  "nbformat": 4,
  "nbformat_minor": 0,
  "metadata": {
    "colab": {
      "name": "chess_board.ipynb",
      "provenance": [],
      "collapsed_sections": [],
      "mount_file_id": "1GmPjAD2F_2k2oPwhgut3ssQoXHktmh32",
      "authorship_tag": "ABX9TyNdhjN52V6wlLaiX2o8uGyq",
      "include_colab_link": true
    },
    "kernelspec": {
      "name": "python3",
      "display_name": "Python 3"
    },
    "language_info": {
      "name": "python"
    }
  },
  "cells": [
    {
      "cell_type": "markdown",
      "metadata": {
        "id": "view-in-github",
        "colab_type": "text"
      },
      "source": [
        "<a href=\"https://colab.research.google.com/github/rcsjunior1987/Artificial-Intelligence/blob/master/MetaHeuristics/chess_board.ipynb\" target=\"_parent\"><img src=\"https://colab.research.google.com/assets/colab-badge.svg\" alt=\"Open In Colab\"/></a>"
      ]
    },
    {
      "cell_type": "code",
      "metadata": {
        "id": "6yqKhcWOYfJd"
      },
      "source": [
        "import numpy as np"
      ],
      "execution_count": 12,
      "outputs": []
    },
    {
      "cell_type": "code",
      "metadata": {
        "colab": {
          "base_uri": "https://localhost:8080/",
          "height": 245
        },
        "id": "mqLJz-XPZOJj",
        "outputId": "9c1b77fa-4e6a-4f7c-ecb3-c8dc9eee61ed"
      },
      "source": [
        "class chess_board:\n",
        "\n",
        "  def __init__(self, file=8, rank=8, n=0):\n",
        "    self.file = file\n",
        "    self.rank = rank\n",
        "\n",
        "    # Initialises the number of queens attaking each other\n",
        "    self.n = n\n",
        "       \n",
        "    # Assigns 0 to each position of column of the board\n",
        "    board = = np.array([0] * (file * rank))\n",
        "\n",
        "    # Reshaps the board \n",
        "    board = board.reshape(file, rank)\n",
        "\n",
        "  def attacked_queens_pairs(seqs):\n",
        "    \"\"\"\n",
        "    Calculates the queen logarithm of the attack on the chessboard corresponding\n",
        "      to the sequence n]\n",
        "\n",
        "    We only need to check whether there are other queens on the eight queens of\n",
        "      the current chessboard in their respective rows and two diagonals, without judging whether there are other queens in the same column\n",
        "    \"\"\"\n",
        "\n",
        "    # Creates a one-dimensional array with 81 zeros\n",
        "    a = np.array([0] * 81)\n",
        "\n",
        "    # Change to 9 * 9 two-dimensional array. For the convenience of later use,\n",
        "    #   only the 8 * 8 parts of the last eight rows and columns are used as a blank chessboard\n",
        "    a = a.reshape(9, 9)  \n",
        "\n",
        "    # The number of queens attacking each other is initialized to 0\n",
        "    n = 0  \n",
        "\n",
        "    for i in range(1, 9):\n",
        "        if seqs[i-1] != 0: # An element of seqs is 0, which means that no queen should be placed in the corresponding chessboard column\n",
        "            a[seqs[i - 1]][i] = 1  # Generate the corresponding chessboard sequence, and place it in the order of the first chessboard column\n",
        "\n",
        "    for i in range(1, 9):\n",
        "        if seqs[i - 1] == 0:\n",
        "            continue # If an element of seqs is 0, it represents the corresponding chessboard. If no queen is placed in this column, the next column will be judged directly\n",
        "        for k in list(range(1, i)) + list(range(i + 1, 9)):  # Check whether there are other queens on each queen's line\n",
        "            if a[seqs[i - 1]][k] == 1:  # There are other queens\n",
        "                n += 1\n",
        "        t1 = t2 = seqs[i - 1]\n",
        "        for j in range(i - 1, 0, -1):  # Look at the two diagonals in the left half\n",
        "            if t1 != 1:\n",
        "                t1 -= 1\n",
        "                if a[t1][j] == 1:\n",
        "                    n += 1  # There are other queens on the left half of the diagonal\n",
        "\n",
        "            if t2 != 8:\n",
        "                t2 += 1\n",
        "                if a[t2][j] == 1:\n",
        "                    n += 1  # There are other queens on the left half of the sub diagonal\n",
        "\n",
        "        t1 = t2 = seqs[i - 1]\n",
        "        for j in range(i + 1, 9):  # Look at the two diagonals in the right half\n",
        "            if t1 != 1:\n",
        "                t1 -= 1\n",
        "                if a[t1][j] == 1:\n",
        "                    n += 1  # There are other queens on the right half of the diagonal\n",
        "\n",
        "            if t2 != 8:\n",
        "                t2 += 1\n",
        "                if a[t2][j] == 1:\n",
        "                    n += 1  # There are other queens on the right half of the sub diagonal\n",
        "    return int(n/2)  # Returns n/2, because A attacking B also means B attacking A, so return"
      ],
      "execution_count": 14,
      "outputs": [
        {
          "output_type": "error",
          "ename": "NameError",
          "evalue": "ignored",
          "traceback": [
            "\u001b[0;31m---------------------------------------------------------------------------\u001b[0m",
            "\u001b[0;31mNameError\u001b[0m                                 Traceback (most recent call last)",
            "\u001b[0;32m<ipython-input-14-419695a0b315>\u001b[0m in \u001b[0;36m<module>\u001b[0;34m()\u001b[0m\n\u001b[0;32m----> 1\u001b[0;31m \u001b[0maaaa\u001b[0m\u001b[0;34m\u001b[0m\u001b[0;34m\u001b[0m\u001b[0m\n\u001b[0m\u001b[1;32m      2\u001b[0m \u001b[0;32mdef\u001b[0m \u001b[0mattacked_queens_pairs\u001b[0m\u001b[0;34m(\u001b[0m\u001b[0mseqs\u001b[0m\u001b[0;34m)\u001b[0m\u001b[0;34m:\u001b[0m\u001b[0;34m\u001b[0m\u001b[0;34m\u001b[0m\u001b[0m\n\u001b[1;32m      3\u001b[0m     \"\"\"\n\u001b[1;32m      4\u001b[0m     \u001b[0mCalculates\u001b[0m \u001b[0mthe\u001b[0m \u001b[0mqueen\u001b[0m \u001b[0mlogarithm\u001b[0m \u001b[0mof\u001b[0m \u001b[0mthe\u001b[0m \u001b[0mattack\u001b[0m \u001b[0mon\u001b[0m \u001b[0mthe\u001b[0m \u001b[0mchessboard\u001b[0m \u001b[0mcorresponding\u001b[0m\u001b[0;34m\u001b[0m\u001b[0;34m\u001b[0m\u001b[0m\n\u001b[1;32m      5\u001b[0m       to the sequence n]\n",
            "\u001b[0;31mNameError\u001b[0m: name 'aaaa' is not defined"
          ]
        }
      ]
    }
  ]
}