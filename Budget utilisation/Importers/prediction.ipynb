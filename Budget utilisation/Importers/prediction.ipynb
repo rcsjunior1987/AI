{
 "cells": [
  {
   "cell_type": "code",
   "execution_count": 1,
   "metadata": {},
   "outputs": [],
   "source": [
    "# -------------------------- LIBRARIES NECESSARY IN THIS PROJECT  -------------------------- #\r\n",
    "\r\n",
    "import pandas as pd\r\n",
    "import numpy as np\r\n",
    "import seaborn as sns\r\n",
    "from datetime import *\r\n",
    "import zipfile\r\n",
    "import pylab as plt\r\n",
    "\r\n",
    "import sklearn\r\n",
    "from sklearn.linear_model import LogisticRegression\r\n",
    "from sklearn.model_selection import train_test_split\r\n",
    "from sklearn.metrics import confusion_matrix\r\n",
    "\r\n",
    "# -------------------------- FUNCTIONS -------------------------- #\r\n",
    "\r\n",
    "def getDataSet(data_path):\r\n",
    "    return pd.read_csv(data_path)"
   ]
  },
  {
   "cell_type": "markdown",
   "metadata": {},
   "source": [
    "## Upload dataSets"
   ]
  },
  {
   "cell_type": "markdown",
   "metadata": {},
   "source": [
    "### Members dataset cleasing"
   ]
  },
  {
   "cell_type": "code",
   "execution_count": 2,
   "metadata": {},
   "outputs": [],
   "source": [
    "# -------------------------- PATH OF THE DATASETS USED IN THE PROJECT  -------------------------- #\n",
    "zf = zipfile.ZipFile('../dataSets/main.zip')\n",
    "\n",
    "main_data_set_all_fields = pd.read_csv(zf.open('main.csv'))"
   ]
  },
  {
   "cell_type": "markdown",
   "metadata": {},
   "source": [
    "## Data manipulation and cleansing"
   ]
  },
  {
   "cell_type": "code",
   "execution_count": 3,
   "metadata": {},
   "outputs": [
    {
     "name": "stdout",
     "output_type": "stream",
     "text": [
      "<class 'pandas.core.frame.DataFrame'>\n",
      "RangeIndex: 32950 entries, 0 to 32949\n",
      "Data columns (total 26 columns):\n",
      " #   Column                  Non-Null Count  Dtype  \n",
      "---  ------                  --------------  -----  \n",
      " 0   Unnamed: 0              32950 non-null  int64  \n",
      " 1   member_key              32950 non-null  object \n",
      " 2   updated_at              32950 non-null  object \n",
      " 3   first_name              32950 non-null  object \n",
      " 4   last_name               32950 non-null  object \n",
      " 5   disabilities            8383 non-null   object \n",
      " 6   SA1                     3751 non-null   float64\n",
      " 7   price_zone_code         32950 non-null  object \n",
      " 8   plan_key                32950 non-null  object \n",
      " 9   plan_status             32950 non-null  object \n",
      " 10  plan_start_date         32950 non-null  object \n",
      " 11  plan_end_date           32950 non-null  object \n",
      " 12  budget_level3_name      840 non-null    object \n",
      " 13  budget_level3_key       840 non-null    object \n",
      " 14  budget_level2_key       32950 non-null  object \n",
      " 15  budget_level2_name      32950 non-null  object \n",
      " 16  budget_level1_key       32950 non-null  object \n",
      " 17  budget_level1_name      32950 non-null  object \n",
      " 18  invoice_state           32950 non-null  object \n",
      " 19  claim_state             32950 non-null  object \n",
      " 20  allocated_amount        32950 non-null  float64\n",
      " 21  requested_amount        32950 non-null  float64\n",
      " 22  funded_amount           32950 non-null  float64\n",
      " 23  allocated_amount_total  32950 non-null  float64\n",
      " 24  requested_amount_total  32950 non-null  float64\n",
      " 25  funded_amount_total     32950 non-null  float64\n",
      "dtypes: float64(7), int64(1), object(18)\n",
      "memory usage: 4.3+ MB\n"
     ]
    }
   ],
   "source": [
    "# Check the dataSet fields\n",
    "main_data_set_all_fields.info()"
   ]
  },
  {
   "cell_type": "code",
   "execution_count": 4,
   "metadata": {},
   "outputs": [
    {
     "data": {
      "text/html": "<div>\n<style scoped>\n    .dataframe tbody tr th:only-of-type {\n        vertical-align: middle;\n    }\n\n    .dataframe tbody tr th {\n        vertical-align: top;\n    }\n\n    .dataframe thead th {\n        text-align: right;\n    }\n</style>\n<table border=\"1\" class=\"dataframe\">\n  <thead>\n    <tr style=\"text-align: right;\">\n      <th></th>\n      <th>Unnamed: 0</th>\n      <th>member_key</th>\n      <th>updated_at</th>\n      <th>first_name</th>\n      <th>last_name</th>\n      <th>disabilities</th>\n      <th>SA1</th>\n      <th>price_zone_code</th>\n      <th>plan_key</th>\n      <th>plan_status</th>\n      <th>...</th>\n      <th>budget_level1_key</th>\n      <th>budget_level1_name</th>\n      <th>invoice_state</th>\n      <th>claim_state</th>\n      <th>allocated_amount</th>\n      <th>requested_amount</th>\n      <th>funded_amount</th>\n      <th>allocated_amount_total</th>\n      <th>requested_amount_total</th>\n      <th>funded_amount_total</th>\n    </tr>\n  </thead>\n  <tbody>\n    <tr>\n      <th>0</th>\n      <td>0</td>\n      <td>00109970-7029-11eb-81d6-9d4df94b6224</td>\n      <td>2021-04</td>\n      <td>Wynny</td>\n      <td>Pressman</td>\n      <td>NaN</td>\n      <td>NaN</td>\n      <td>ACT_NSW_QLD_VIC</td>\n      <td>588427f1-e45d-4a6e-b307-9c68a13849ef</td>\n      <td>PLAN_DELIVERY_ACTIVE</td>\n      <td>...</td>\n      <td>58745466-f597-11e9-bfb4-022d4762bb3c</td>\n      <td>Core</td>\n      <td>ALL_PAID</td>\n      <td>PAID</td>\n      <td>50000.00</td>\n      <td>98.8000</td>\n      <td>98.80</td>\n      <td>272168.34</td>\n      <td>11316.7000</td>\n      <td>11316.70</td>\n    </tr>\n    <tr>\n      <th>1</th>\n      <td>1</td>\n      <td>00109970-7029-11eb-81d6-9d4df94b6224</td>\n      <td>2021-04</td>\n      <td>Wynny</td>\n      <td>Pressman</td>\n      <td>NaN</td>\n      <td>NaN</td>\n      <td>ACT_NSW_QLD_VIC</td>\n      <td>588427f1-e45d-4a6e-b307-9c68a13849ef</td>\n      <td>PLAN_DELIVERY_ACTIVE</td>\n      <td>...</td>\n      <td>58745466-f597-11e9-bfb4-022d4762bb3c</td>\n      <td>Core</td>\n      <td>ALL_PAID</td>\n      <td>PAID</td>\n      <td>222168.34</td>\n      <td>11217.9000</td>\n      <td>11217.90</td>\n      <td>272168.34</td>\n      <td>11316.7000</td>\n      <td>11316.70</td>\n    </tr>\n    <tr>\n      <th>2</th>\n      <td>2</td>\n      <td>0010f240-3b5d-11eb-aa73-7be7bbd3c758</td>\n      <td>2021-04</td>\n      <td>Beryl</td>\n      <td>McDuff</td>\n      <td>Asperger syndrome</td>\n      <td>3138648.0</td>\n      <td>ACT_NSW_QLD_VIC</td>\n      <td>ef286fe8-8b36-4d77-97a0-59f9ef3df9b8</td>\n      <td>PLAN_DELIVERY_ACTIVE</td>\n      <td>...</td>\n      <td>5874551b-f597-11e9-bfb4-022d4762bb3c</td>\n      <td>Capacity Building</td>\n      <td>ALL_PAID</td>\n      <td>PAID</td>\n      <td>9801.60</td>\n      <td>2559.6384</td>\n      <td>2559.67</td>\n      <td>9801.60</td>\n      <td>2559.6384</td>\n      <td>2559.67</td>\n    </tr>\n    <tr>\n      <th>3</th>\n      <td>3</td>\n      <td>00117a50-cbc6-11ea-805a-75fc51d39a77</td>\n      <td>2021-04</td>\n      <td>Jethro</td>\n      <td>Perchard</td>\n      <td>NaN</td>\n      <td>NaN</td>\n      <td>ACT_NSW_QLD_VIC</td>\n      <td>8aa26238-d922-4963-bcaf-427d24a610bc</td>\n      <td>COMPLETED</td>\n      <td>...</td>\n      <td>5874551b-f597-11e9-bfb4-022d4762bb3c</td>\n      <td>Capacity Building</td>\n      <td>ALL_PAID</td>\n      <td>PAID</td>\n      <td>64524.00</td>\n      <td>8503.6500</td>\n      <td>8503.65</td>\n      <td>64524.00</td>\n      <td>8503.6500</td>\n      <td>8503.65</td>\n    </tr>\n  </tbody>\n</table>\n<p>4 rows × 26 columns</p>\n</div>",
      "text/plain": "   Unnamed: 0                            member_key updated_at first_name  \\\n0           0  00109970-7029-11eb-81d6-9d4df94b6224    2021-04      Wynny   \n1           1  00109970-7029-11eb-81d6-9d4df94b6224    2021-04      Wynny   \n2           2  0010f240-3b5d-11eb-aa73-7be7bbd3c758    2021-04      Beryl   \n3           3  00117a50-cbc6-11ea-805a-75fc51d39a77    2021-04     Jethro   \n\n  last_name       disabilities        SA1  price_zone_code  \\\n0  Pressman                NaN        NaN  ACT_NSW_QLD_VIC   \n1  Pressman                NaN        NaN  ACT_NSW_QLD_VIC   \n2    McDuff  Asperger syndrome  3138648.0  ACT_NSW_QLD_VIC   \n3  Perchard                NaN        NaN  ACT_NSW_QLD_VIC   \n\n                               plan_key           plan_status  ...  \\\n0  588427f1-e45d-4a6e-b307-9c68a13849ef  PLAN_DELIVERY_ACTIVE  ...   \n1  588427f1-e45d-4a6e-b307-9c68a13849ef  PLAN_DELIVERY_ACTIVE  ...   \n2  ef286fe8-8b36-4d77-97a0-59f9ef3df9b8  PLAN_DELIVERY_ACTIVE  ...   \n3  8aa26238-d922-4963-bcaf-427d24a610bc             COMPLETED  ...   \n\n                      budget_level1_key budget_level1_name invoice_state  \\\n0  58745466-f597-11e9-bfb4-022d4762bb3c               Core      ALL_PAID   \n1  58745466-f597-11e9-bfb4-022d4762bb3c               Core      ALL_PAID   \n2  5874551b-f597-11e9-bfb4-022d4762bb3c  Capacity Building      ALL_PAID   \n3  5874551b-f597-11e9-bfb4-022d4762bb3c  Capacity Building      ALL_PAID   \n\n  claim_state allocated_amount requested_amount funded_amount  \\\n0        PAID         50000.00          98.8000         98.80   \n1        PAID        222168.34       11217.9000      11217.90   \n2        PAID          9801.60        2559.6384       2559.67   \n3        PAID         64524.00        8503.6500       8503.65   \n\n  allocated_amount_total requested_amount_total funded_amount_total  \n0              272168.34             11316.7000            11316.70  \n1              272168.34             11316.7000            11316.70  \n2                9801.60              2559.6384             2559.67  \n3               64524.00              8503.6500             8503.65  \n\n[4 rows x 26 columns]"
     },
     "execution_count": 4,
     "metadata": {},
     "output_type": "execute_result"
    }
   ],
   "source": [
    "main_data_set_all_fields.head(4)"
   ]
  },
  {
   "cell_type": "code",
   "execution_count": 5,
   "metadata": {},
   "outputs": [],
   "source": [
    "main_data_No_NaN = main_data_set_all_fields.replace(np.nan, 'NA')\r\n",
    "\r\n",
    "main_data_No_NaN = main_data_No_NaN[(main_data_No_NaN[\"plan_status\"] == 'PLAN_DELIVERY_ACTIVE')]"
   ]
  },
  {
   "cell_type": "code",
   "execution_count": 6,
   "metadata": {},
   "outputs": [],
   "source": [
    "# Select just the fields to be used\r\n",
    "main_data_set = main_data_No_NaN.groupby([\r\n",
    "                                           \"member_key\"\r\n",
    "                                         , \"first_name\"\r\n",
    "                                         , \"last_name\"\r\n",
    "                                         , \"budget_level1_key\"\r\n",
    "                                         , \"budget_level1_name\"\r\n",
    "                                         , \"plan_start_date\"\r\n",
    "                                         , \"plan_end_date\"\r\n",
    "                                         , \"allocated_amount_total\"\r\n",
    "                                        ]).agg({\"funded_amount\": \"sum\", \"allocated_amount\": \"sum\"}).reset_index().copy()"
   ]
  },
  {
   "cell_type": "code",
   "execution_count": 7,
   "metadata": {},
   "outputs": [],
   "source": [
    "months_total = main_data_set[{\r\n",
    "                              \"member_key\"\r\n",
    "                            , \"plan_start_date\"\r\n",
    "                            , \"plan_end_date\"}].copy()\r\n",
    "\r\n",
    "months_total['plan_months_total'] = ((pd.to_datetime(months_total['plan_end_date']).dt.year\r\n",
    "                                   -  pd.to_datetime(months_total['plan_start_date']).dt.year) * 12) + (pd.to_datetime(months_total['plan_end_date']).dt.month\r\n",
    "                                   -  pd.to_datetime(months_total['plan_start_date']).dt.month)\r\n",
    "\r\n",
    "months_total_merged = months_total[{\"member_key\", \"plan_months_total\"}]\r\n",
    "                            \r\n",
    "months_total_merged = months_total[{\r\n",
    "                                    \"member_key\"\r\n",
    "                                  , \"plan_months_total\"\r\n",
    "                            }].groupby([\r\n",
    "                                       \"member_key\"\r\n",
    "                                     , \"plan_months_total\"\r\n",
    "                                       ]).count().reset_index()\r\n",
    "\r\n",
    "months_total_merged = pd.merge(main_data_set, months_total_merged, how=\"left\", on=[\"member_key\"])"
   ]
  },
  {
   "cell_type": "code",
   "execution_count": 8,
   "metadata": {},
   "outputs": [],
   "source": [
    "allocated_amount_month = months_total_merged[{\r\n",
    "                                              \"member_key\"\r\n",
    "                                            , \"budget_level1_key\"\r\n",
    "                                            , \"plan_months_total\"\r\n",
    "                                            , \"allocated_amount\"\r\n",
    "                                            }].copy()\r\n",
    "\r\n",
    "allocated_amount_month[\"allocated_amount_month\"] = allocated_amount_month[\"allocated_amount\"] / allocated_amount_month[\"plan_months_total\"]                                                    \r\n",
    "\r\n",
    "allocated_amount_month = allocated_amount_month[{'member_key', 'budget_level1_key', 'allocated_amount_month'}]\r\n",
    "\r\n",
    "months_total_merged_monthly = pd.merge(months_total_merged, allocated_amount_month, how=\"left\", on=[\"member_key\", \"budget_level1_key\"])"
   ]
  },
  {
   "cell_type": "code",
   "execution_count": 9,
   "metadata": {},
   "outputs": [],
   "source": [
    "month_today = main_data_set[{\r\n",
    "                           \"member_key\"\r\n",
    "                         , \"budget_level1_key\"\r\n",
    "                         , \"plan_start_date\"\r\n",
    "                            }].copy()\r\n",
    "\r\n",
    "\r\n",
    "month_today['month_actual'] = ((pd.to_datetime(\"today\").year -  pd.to_datetime(month_today['plan_start_date']).dt.year) * 12)                                                                                                                     + (pd.to_datetime(\"today\").month - pd.to_datetime(month_today['plan_start_date']).dt.month)\r\n",
    "\r\n",
    "month_today = month_today[{'member_key', 'budget_level1_key', 'month_actual'}]\r\n",
    "\r\n",
    "month_actual = pd.merge(months_total_merged_monthly, month_today, how=\"left\", on=[\"member_key\", \"budget_level1_key\"])\r\n",
    "\r\n",
    "month_actual[\"spent_amount_predicted\"] = month_actual[\"allocated_amount_month\"] * month_actual[\"month_actual\"]"
   ]
  },
  {
   "cell_type": "code",
   "execution_count": 10,
   "metadata": {},
   "outputs": [],
   "source": [
    "month_actual['funded_amount'] = month_actual['funded_amount'].round(2)\r\n",
    "month_actual['allocated_amount'] = month_actual['allocated_amount'].round(2)\r\n",
    "\r\n",
    "month_actual['allocated_amount_month'] = month_actual['allocated_amount_month'].round(2)\r\n",
    "month_actual['spent_amount_predicted'] = month_actual['spent_amount_predicted'].round(2)\r\n",
    "\r\n",
    "month_actual['months_left'] = month_actual['plan_months_total'] - month_actual['month_actual']"
   ]
  },
  {
   "cell_type": "code",
   "execution_count": 11,
   "metadata": {},
   "outputs": [],
   "source": [
    "month_actual['funded_amount_percentage'] = (month_actual['funded_amount'] / month_actual['allocated_amount']) * 100#).round(2)\r\n",
    "\r\n",
    "month_actual['months_left_percentage'] = (month_actual['months_left'] / month_actual['plan_months_total']) * 100#).round(2)\r\n",
    "\r\n",
    "month_actual['funded_amount_months_left'] = month_actual['funded_amount_percentage'] / month_actual['months_left_percentage']#).round(2)\r\n",
    "\r\n",
    "month_actual = month_actual.loc[\r\n",
    "                                (month_actual[\"plan_months_total\"] >= 12)\r\n",
    "                              & (month_actual[\"allocated_amount\"] > 0)\r\n",
    "                              & (month_actual[\"months_left\"] > 0)\r\n",
    "                               ]"
   ]
  },
  {
   "cell_type": "code",
   "execution_count": 12,
   "metadata": {},
   "outputs": [],
   "source": [
    "month_actual['spending_status'] = np.where(month_actual['funded_amount_months_left'] < 0.9, 'Overspending', 'Underspending')\r\n",
    "\r\n",
    "month_actual['spending_status'] = np.where(((month_actual['funded_amount_months_left'] >= 0.9) & (month_actual['funded_amount_months_left'] <= 1.2)), 'On_Track', month_actual['spending_status'])"
   ]
  },
  {
   "cell_type": "code",
   "execution_count": 13,
   "metadata": {},
   "outputs": [],
   "source": [
    "main_data_set = month_actual[{\r\n",
    "                              \"member_key\"\r\n",
    "                            , \"first_name\" \r\n",
    "                            , \"last_name\" \r\n",
    "                            , \"budget_level1_key\"\r\n",
    "                            , \"budget_level1_name\"\r\n",
    "                            , \"funded_amount_percentage\"\r\n",
    "                            , \"months_left_percentage\"\r\n",
    "                            , \"funded_amount_months_left\"\r\n",
    "                            , \"spending_status\"\r\n",
    "                            }].copy()"
   ]
  },
  {
   "cell_type": "code",
   "execution_count": 14,
   "metadata": {},
   "outputs": [],
   "source": [
    "df_model = main_data_set[{\r\n",
    "                          'funded_amount_percentage'\r\n",
    "                        , 'months_left_percentage'\r\n",
    "                        , 'spending_status'\r\n",
    "                        }].copy()"
   ]
  },
  {
   "cell_type": "code",
   "execution_count": 15,
   "metadata": {},
   "outputs": [
    {
     "data": {
      "text/html": "<div>\n<style scoped>\n    .dataframe tbody tr th:only-of-type {\n        vertical-align: middle;\n    }\n\n    .dataframe tbody tr th {\n        vertical-align: top;\n    }\n\n    .dataframe thead th {\n        text-align: right;\n    }\n</style>\n<table border=\"1\" class=\"dataframe\">\n  <thead>\n    <tr style=\"text-align: right;\">\n      <th></th>\n      <th>spending_status</th>\n      <th>months_left_percentage</th>\n      <th>funded_amount_percentage</th>\n    </tr>\n  </thead>\n  <tbody>\n    <tr>\n      <th>0</th>\n      <td>Overspending</td>\n      <td>91.666667</td>\n      <td>4.157978</td>\n    </tr>\n    <tr>\n      <th>1</th>\n      <td>Overspending</td>\n      <td>33.333333</td>\n      <td>26.114818</td>\n    </tr>\n    <tr>\n      <th>2</th>\n      <td>Overspending</td>\n      <td>91.666667</td>\n      <td>1.234578</td>\n    </tr>\n    <tr>\n      <th>3</th>\n      <td>Overspending</td>\n      <td>91.666667</td>\n      <td>3.835020</td>\n    </tr>\n    <tr>\n      <th>4</th>\n      <td>Overspending</td>\n      <td>25.000000</td>\n      <td>5.743543</td>\n    </tr>\n  </tbody>\n</table>\n</div>",
      "text/plain": "  spending_status  months_left_percentage  funded_amount_percentage\n0    Overspending               91.666667                  4.157978\n1    Overspending               33.333333                 26.114818\n2    Overspending               91.666667                  1.234578\n3    Overspending               91.666667                  3.835020\n4    Overspending               25.000000                  5.743543"
     },
     "execution_count": 15,
     "metadata": {},
     "output_type": "execute_result"
    }
   ],
   "source": [
    "df_model.head()"
   ]
  },
  {
   "cell_type": "code",
   "execution_count": 16,
   "metadata": {},
   "outputs": [],
   "source": [
    "x = df_model[{\r\n",
    "                'funded_amount_percentage'\r\n",
    "              , 'months_left_percentage'\r\n",
    "            }]\r\n",
    "\r\n",
    "y = df_model['spending_status']\r\n",
    "\r\n",
    "normalized_range = sklearn.preprocessing.MinMaxScaler(feature_range=(-1,1))\r\n",
    "x = normalized_range.fit_transform(x)"
   ]
  },
  {
   "cell_type": "code",
   "execution_count": 17,
   "metadata": {},
   "outputs": [],
   "source": [
    "x_train, x_test, y_train, y_test = train_test_split(x, y, test_size=0.25)"
   ]
  },
  {
   "cell_type": "code",
   "execution_count": 18,
   "metadata": {},
   "outputs": [
    {
     "data": {
      "text/plain": "LogisticRegression(max_iter=150, multi_class='multinomial', penalty='none',\n                   random_state=0, solver='newton-cg')"
     },
     "execution_count": 18,
     "metadata": {},
     "output_type": "execute_result"
    }
   ],
   "source": [
    "regression = LogisticRegression(random_state=0, multi_class='multinomial', penalty='none', solver='newton-cg', max_iter = 150, warm_start = False).fit(x_train, y_train)\r\n",
    "\r\n",
    "regression.fit(x_train, y_train)"
   ]
  },
  {
   "cell_type": "code",
   "execution_count": 19,
   "metadata": {},
   "outputs": [
    {
     "name": "stdout",
     "output_type": "stream",
     "text": [
      "Prediction score:  99.80089596814335\n"
     ]
    }
   ],
   "source": [
    "prediction_score = regression.score(x_test, y_test)\r\n",
    "print('Prediction score: ', prediction_score * 100)"
   ]
  },
  {
   "cell_type": "code",
   "execution_count": 20,
   "metadata": {},
   "outputs": [
    {
     "name": "stdout",
     "output_type": "stream",
     "text": [
      "[  5653.65225242 -88995.48231651  83341.83002523]\n"
     ]
    }
   ],
   "source": [
    "print(regression.intercept_)"
   ]
  },
  {
   "cell_type": "code",
   "execution_count": 21,
   "metadata": {},
   "outputs": [
    {
     "name": "stdout",
     "output_type": "stream",
     "text": [
      "[[ 8.66685854e+00  5.64443484e+03]\n",
      " [ 2.74072721e+02 -8.92937014e+04]\n",
      " [-2.82739567e+02  8.36492666e+04]]\n"
     ]
    }
   ],
   "source": [
    "print(regression.coef_)"
   ]
  },
  {
   "cell_type": "code",
   "execution_count": 22,
   "metadata": {},
   "outputs": [],
   "source": [
    "y_pred = regression.predict(x_test)"
   ]
  },
  {
   "cell_type": "code",
   "execution_count": 23,
   "metadata": {},
   "outputs": [
    {
     "data": {
      "text/html": "<div>\n<style scoped>\n    .dataframe tbody tr th:only-of-type {\n        vertical-align: middle;\n    }\n\n    .dataframe tbody tr th {\n        vertical-align: top;\n    }\n\n    .dataframe thead th {\n        text-align: right;\n    }\n</style>\n<table border=\"1\" class=\"dataframe\">\n  <thead>\n    <tr style=\"text-align: right;\">\n      <th></th>\n      <th>predicted_Underspending</th>\n      <th>predicted_Overspending</th>\n      <th>predicted_On_Track</th>\n    </tr>\n  </thead>\n  <tbody>\n    <tr>\n      <th>Underspending</th>\n      <td>94</td>\n      <td>1</td>\n      <td>1</td>\n    </tr>\n    <tr>\n      <th>Overspending</th>\n      <td>0</td>\n      <td>1619</td>\n      <td>0</td>\n    </tr>\n    <tr>\n      <th>On_Track</th>\n      <td>2</td>\n      <td>0</td>\n      <td>292</td>\n    </tr>\n  </tbody>\n</table>\n</div>",
      "text/plain": "               predicted_Underspending  predicted_Overspending  \\\nUnderspending                       94                       1   \nOverspending                         0                    1619   \nOn_Track                             2                       0   \n\n               predicted_On_Track  \nUnderspending                   1  \nOverspending                    0  \nOn_Track                      292  "
     },
     "execution_count": 23,
     "metadata": {},
     "output_type": "execute_result"
    }
   ],
   "source": [
    "confmtrx = np.array(confusion_matrix(y_test, y_pred))\r\n",
    "\r\n",
    "pd.DataFrame(confmtrx, index=['Underspending','Overspending','On_Track'],\r\n",
    "columns=['predicted_Underspending', 'predicted_Overspending', 'predicted_On_Track'])"
   ]
  },
  {
   "cell_type": "code",
   "execution_count": 24,
   "metadata": {},
   "outputs": [],
   "source": [
    "model_to_be_predicted = main_data_set[{\r\n",
    "                                       'member_key'\r\n",
    "                                     , 'first_name'\r\n",
    "                                     , 'last_name'\r\n",
    "                                     , 'budget_level1_key'\r\n",
    "                                     , 'budget_level1_name'\r\n",
    "                                     , 'funded_amount_percentage'\r\n",
    "                                     , 'months_left_percentage'\r\n",
    "                                     , 'spending_status'\r\n",
    "                                    }].copy()"
   ]
  },
  {
   "cell_type": "code",
   "execution_count": 25,
   "metadata": {},
   "outputs": [],
   "source": [
    "df_prediction = pd.DataFrame(columns = ['member_key', 'first_name', 'last_name', 'budget_level1_key', 'budget_level1_name', 'prediction'])\r\n",
    "\r\n",
    "for index in range(len(model_to_be_predicted)):\r\n",
    "    funded_amount_percentage = model_to_be_predicted['funded_amount_percentage'].iloc[index]\r\n",
    "    months_left_percentage = model_to_be_predicted['months_left_percentage'].iloc[index]\r\n",
    "    spending_status = model_to_be_predicted['spending_status'].iloc[index]\r\n",
    "\r\n",
    "    test = regression.predict((np.array([funded_amount_percentage, months_left_percentage]) .reshape(1, -1)))\r\n",
    "\r\n",
    "    if test.astype(str) == 'Underspending':  \r\n",
    "        status = 'Underspending'\r\n",
    "    else:\r\n",
    "        if test.astype(str) == 'Overspending':\r\n",
    "            status = 'Overspending'\r\n",
    "        else:\r\n",
    "            status = 'On_Track'\r\n",
    "\r\n",
    "    df = pd.DataFrame([ [\r\n",
    "                         model_to_be_predicted['member_key'].iloc[index]\r\n",
    "                       , model_to_be_predicted['first_name'].iloc[index]\r\n",
    "                       , model_to_be_predicted['last_name'].iloc[index]\r\n",
    "                       , model_to_be_predicted['budget_level1_key'].iloc[index]\r\n",
    "                       , model_to_be_predicted['budget_level1_name'].iloc[index]\r\n",
    "                       , status\r\n",
    "                       ] ], columns=list(['member_key', 'first_name', 'last_name', 'budget_level1_key', 'budget_level1_name', 'prediction']))\r\n",
    "\r\n",
    "    df_prediction = df_prediction.append(df)\r\n",
    "\r\n",
    "df_prediction\r\n"
   ]
  },
  {
   "cell_type": "code",
   "execution_count": 26,
   "metadata": {},
   "outputs": [
    {
     "data": {
      "text/html": "<div>\n<style scoped>\n    .dataframe tbody tr th:only-of-type {\n        vertical-align: middle;\n    }\n\n    .dataframe tbody tr th {\n        vertical-align: top;\n    }\n\n    .dataframe thead th {\n        text-align: right;\n    }\n</style>\n<table border=\"1\" class=\"dataframe\">\n  <thead>\n    <tr style=\"text-align: right;\">\n      <th></th>\n      <th>member_key</th>\n      <th>first_name</th>\n      <th>last_name</th>\n      <th>budget_level1_key</th>\n      <th>budget_level1_name</th>\n      <th>prediction</th>\n    </tr>\n  </thead>\n  <tbody>\n    <tr>\n      <th>0</th>\n      <td>00109970-7029-11eb-81d6-9d4df94b6224</td>\n      <td>Wynny</td>\n      <td>Pressman</td>\n      <td>58745466-f597-11e9-bfb4-022d4762bb3c</td>\n      <td>Core</td>\n      <td>Underspending</td>\n    </tr>\n    <tr>\n      <th>0</th>\n      <td>0010f240-3b5d-11eb-aa73-7be7bbd3c758</td>\n      <td>Beryl</td>\n      <td>McDuff</td>\n      <td>5874551b-f597-11e9-bfb4-022d4762bb3c</td>\n      <td>Capacity Building</td>\n      <td>Underspending</td>\n    </tr>\n    <tr>\n      <th>0</th>\n      <td>0011ebe0-7722-11eb-9ade-8f3368e47951</td>\n      <td>Eamon</td>\n      <td>Gammage</td>\n      <td>58745466-f597-11e9-bfb4-022d4762bb3c</td>\n      <td>Core</td>\n      <td>Underspending</td>\n    </tr>\n    <tr>\n      <th>0</th>\n      <td>0011ebe0-7722-11eb-9ade-8f3368e47951</td>\n      <td>Eamon</td>\n      <td>Gammage</td>\n      <td>5874551b-f597-11e9-bfb4-022d4762bb3c</td>\n      <td>Capacity Building</td>\n      <td>Underspending</td>\n    </tr>\n    <tr>\n      <th>0</th>\n      <td>007c1090-d6ca-11ea-bb8a-a73bf14c75f9</td>\n      <td>Janean</td>\n      <td>Potzold</td>\n      <td>58745466-f597-11e9-bfb4-022d4762bb3c</td>\n      <td>Core</td>\n      <td>Underspending</td>\n    </tr>\n    <tr>\n      <th>...</th>\n      <td>...</td>\n      <td>...</td>\n      <td>...</td>\n      <td>...</td>\n      <td>...</td>\n      <td>...</td>\n    </tr>\n    <tr>\n      <th>0</th>\n      <td>ff630c80-d094-11ea-847f-196f66acbe45</td>\n      <td>Mureil</td>\n      <td>Labb</td>\n      <td>5874551b-f597-11e9-bfb4-022d4762bb3c</td>\n      <td>Capacity Building</td>\n      <td>Underspending</td>\n    </tr>\n    <tr>\n      <th>0</th>\n      <td>ff656e00-7fce-11eb-8e57-d94003868067</td>\n      <td>Jeramie</td>\n      <td>Burgot</td>\n      <td>58745466-f597-11e9-bfb4-022d4762bb3c</td>\n      <td>Core</td>\n      <td>Underspending</td>\n    </tr>\n    <tr>\n      <th>0</th>\n      <td>ff656e00-7fce-11eb-8e57-d94003868067</td>\n      <td>Jeramie</td>\n      <td>Burgot</td>\n      <td>5874551b-f597-11e9-bfb4-022d4762bb3c</td>\n      <td>Capacity Building</td>\n      <td>Underspending</td>\n    </tr>\n    <tr>\n      <th>0</th>\n      <td>ffddfbc0-0861-11eb-92a0-2d24c44fa781</td>\n      <td>Allard</td>\n      <td>Postle</td>\n      <td>5874551b-f597-11e9-bfb4-022d4762bb3c</td>\n      <td>Capacity Building</td>\n      <td>Underspending</td>\n    </tr>\n    <tr>\n      <th>0</th>\n      <td>ffe69c40-f3f2-11ea-b4b1-b16848150c7f</td>\n      <td>Johanna</td>\n      <td>Hadley</td>\n      <td>5874551b-f597-11e9-bfb4-022d4762bb3c</td>\n      <td>Capacity Building</td>\n      <td>Underspending</td>\n    </tr>\n  </tbody>\n</table>\n<p>8033 rows × 6 columns</p>\n</div>",
      "text/plain": "                              member_key first_name last_name  \\\n0   00109970-7029-11eb-81d6-9d4df94b6224      Wynny  Pressman   \n0   0010f240-3b5d-11eb-aa73-7be7bbd3c758      Beryl    McDuff   \n0   0011ebe0-7722-11eb-9ade-8f3368e47951      Eamon   Gammage   \n0   0011ebe0-7722-11eb-9ade-8f3368e47951      Eamon   Gammage   \n0   007c1090-d6ca-11ea-bb8a-a73bf14c75f9     Janean   Potzold   \n..                                   ...        ...       ...   \n0   ff630c80-d094-11ea-847f-196f66acbe45     Mureil      Labb   \n0   ff656e00-7fce-11eb-8e57-d94003868067    Jeramie    Burgot   \n0   ff656e00-7fce-11eb-8e57-d94003868067    Jeramie    Burgot   \n0   ffddfbc0-0861-11eb-92a0-2d24c44fa781     Allard    Postle   \n0   ffe69c40-f3f2-11ea-b4b1-b16848150c7f    Johanna    Hadley   \n\n                       budget_level1_key budget_level1_name     prediction  \n0   58745466-f597-11e9-bfb4-022d4762bb3c               Core  Underspending  \n0   5874551b-f597-11e9-bfb4-022d4762bb3c  Capacity Building  Underspending  \n0   58745466-f597-11e9-bfb4-022d4762bb3c               Core  Underspending  \n0   5874551b-f597-11e9-bfb4-022d4762bb3c  Capacity Building  Underspending  \n0   58745466-f597-11e9-bfb4-022d4762bb3c               Core  Underspending  \n..                                   ...                ...            ...  \n0   5874551b-f597-11e9-bfb4-022d4762bb3c  Capacity Building  Underspending  \n0   58745466-f597-11e9-bfb4-022d4762bb3c               Core  Underspending  \n0   5874551b-f597-11e9-bfb4-022d4762bb3c  Capacity Building  Underspending  \n0   5874551b-f597-11e9-bfb4-022d4762bb3c  Capacity Building  Underspending  \n0   5874551b-f597-11e9-bfb4-022d4762bb3c  Capacity Building  Underspending  \n\n[8033 rows x 6 columns]"
     },
     "execution_count": 25,
     "metadata": {},
     "output_type": "execute_result"
    }
   ],
   "source": [
    "#compression_opts = dict(method='zip',\r\n",
    "#                        archive_name='prediction.csv')\r\n",
    "\r\n",
    "#df_prediction.to_csv('../dataSets/prediction.zip', compression=compression_opts)"
   ]
  }
 ],
 "metadata": {
  "kernelspec": {
   "display_name": "Python 3.8.5 32-bit",
   "name": "python385jvsc74a57bd0d7c375635162da09f0df265be1ff543fa0e54d4b5ed0ee516c18eaf6e6e8fe7a"
  },
  "language_info": {
   "codemirror_mode": {
    "name": "ipython",
    "version": 3
   },
   "file_extension": ".py",
   "mimetype": "text/x-python",
   "name": "python",
   "nbconvert_exporter": "python",
   "pygments_lexer": "ipython3",
   "version": "3.8.5"
  },
  "metadata": {
   "interpreter": {
    "hash": "d7c375635162da09f0df265be1ff543fa0e54d4b5ed0ee516c18eaf6e6e8fe7a"
   }
  },
  "orig_nbformat": 2
 },
 "nbformat": 4,
 "nbformat_minor": 2
}