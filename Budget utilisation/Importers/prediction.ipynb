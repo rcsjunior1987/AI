{
 "cells": [
  {
   "cell_type": "code",
   "execution_count": 1,
   "metadata": {},
   "outputs": [],
   "source": [
    "# -------------------------- LIBRARIES NECESSARY IN THIS PROJECT  -------------------------- #\r\n",
    "\r\n",
    "import pandas as pd\r\n",
    "import numpy as np\r\n",
    "import seaborn as sns\r\n",
    "from datetime import *\r\n",
    "import zipfile\r\n",
    "import pylab as plt\r\n",
    "\r\n",
    "import sklearn\r\n",
    "from sklearn.linear_model import LogisticRegression\r\n",
    "from sklearn.model_selection import train_test_split\r\n",
    "from sklearn.metrics import confusion_matrix\r\n",
    "\r\n",
    "# -------------------------- FUNCTIONS -------------------------- #\r\n",
    "\r\n",
    "def getDataSet(data_path):\r\n",
    "    return pd.read_csv(data_path)"
   ]
  },
  {
   "cell_type": "markdown",
   "metadata": {},
   "source": [
    "## Upload dataSets"
   ]
  },
  {
   "cell_type": "markdown",
   "metadata": {},
   "source": [
    "### Members dataset cleasing"
   ]
  },
  {
   "cell_type": "code",
   "execution_count": null,
   "metadata": {},
   "outputs": [],
   "source": [
    "# -------------------------- PATH OF THE DATASETS USED IN THE PROJECT  -------------------------- #\n",
    "zf = zipfile.ZipFile('../dataSets/main.zip')\n",
    "\n",
    "main_data_set_all_fields = pd.read_csv(zf.open('main.csv'))"
   ]
  },
  {
   "cell_type": "markdown",
   "metadata": {},
   "source": [
    "## Data manipulation and cleansing"
   ]
  },
  {
   "cell_type": "code",
   "execution_count": null,
   "metadata": {},
   "outputs": [],
   "source": [
    "# Check the dataSet fields\n",
    "main_data_set_all_fields.info()"
   ]
  },
  {
   "cell_type": "code",
   "execution_count": null,
   "metadata": {},
   "outputs": [],
   "source": [
    "main_data_set_all_fields.head(4)"
   ]
  },
  {
   "cell_type": "code",
   "execution_count": null,
   "metadata": {},
   "outputs": [],
   "source": [
    "main_data_No_NaN = main_data_set_all_fields.replace(np.nan, 'NA')\r\n",
    "\r\n",
    "main_data_No_NaN = main_data_No_NaN[(main_data_No_NaN[\"plan_status\"] == 'PLAN_DELIVERY_ACTIVE')]"
   ]
  },
  {
   "cell_type": "code",
   "execution_count": null,
   "metadata": {},
   "outputs": [],
   "source": [
    "# Select just the fields to be used\r\n",
    "main_data_set = main_data_No_NaN.groupby([\r\n",
    "                                           \"member_key\"\r\n",
    "                                         , \"first_name\"\r\n",
    "                                         , \"last_name\"\r\n",
    "                                         , \"budget_level1_key\"\r\n",
    "                                         , \"budget_level1_name\"\r\n",
    "                                         , \"plan_start_date\"\r\n",
    "                                         , \"plan_end_date\"\r\n",
    "                                         , \"allocated_amount_total\"\r\n",
    "                                        ]).agg({\"funded_amount\": \"sum\", \"allocated_amount\": \"sum\"}).reset_index().copy()"
   ]
  },
  {
   "cell_type": "code",
   "execution_count": null,
   "metadata": {},
   "outputs": [],
   "source": [
    "months_total = main_data_set[{\r\n",
    "                              \"member_key\"\r\n",
    "                            , \"plan_start_date\"\r\n",
    "                            , \"plan_end_date\"}].copy()\r\n",
    "\r\n",
    "months_total['plan_months_total'] = ((pd.to_datetime(months_total['plan_end_date']).dt.year\r\n",
    "                                   -  pd.to_datetime(months_total['plan_start_date']).dt.year) * 12) + (pd.to_datetime(months_total['plan_end_date']).dt.month\r\n",
    "                                   -  pd.to_datetime(months_total['plan_start_date']).dt.month)\r\n",
    "\r\n",
    "months_total_merged = months_total[{\"member_key\", \"plan_months_total\"}]\r\n",
    "                            \r\n",
    "months_total_merged = months_total[{\r\n",
    "                                    \"member_key\"\r\n",
    "                                  , \"plan_months_total\"\r\n",
    "                            }].groupby([\r\n",
    "                                       \"member_key\"\r\n",
    "                                     , \"plan_months_total\"\r\n",
    "                                       ]).count().reset_index()\r\n",
    "\r\n",
    "months_total_merged = pd.merge(main_data_set, months_total_merged, how=\"left\", on=[\"member_key\"])"
   ]
  },
  {
   "cell_type": "code",
   "execution_count": null,
   "metadata": {},
   "outputs": [],
   "source": [
    "allocated_amount_month = months_total_merged[{\r\n",
    "                                              \"member_key\"\r\n",
    "                                            , \"budget_level1_key\"\r\n",
    "                                            , \"plan_months_total\"\r\n",
    "                                            , \"allocated_amount\"\r\n",
    "                                            }].copy()\r\n",
    "\r\n",
    "allocated_amount_month[\"allocated_amount_month\"] = allocated_amount_month[\"allocated_amount\"] / allocated_amount_month[\"plan_months_total\"]                                                    \r\n",
    "\r\n",
    "allocated_amount_month = allocated_amount_month[{'member_key', 'budget_level1_key', 'allocated_amount_month'}]\r\n",
    "\r\n",
    "months_total_merged_monthly = pd.merge(months_total_merged, allocated_amount_month, how=\"left\", on=[\"member_key\", \"budget_level1_key\"])"
   ]
  },
  {
   "cell_type": "code",
   "execution_count": null,
   "metadata": {},
   "outputs": [],
   "source": [
    "month_today = main_data_set[{\r\n",
    "                           \"member_key\"\r\n",
    "                         , \"budget_level1_key\"\r\n",
    "                         , \"plan_start_date\"\r\n",
    "                            }].copy()\r\n",
    "\r\n",
    "\r\n",
    "month_today['month_actual'] = ((pd.to_datetime(\"today\").year -  pd.to_datetime(month_today['plan_start_date']).dt.year) * 12)                                                                                                                     + (pd.to_datetime(\"today\").month - pd.to_datetime(month_today['plan_start_date']).dt.month)\r\n",
    "\r\n",
    "month_today = month_today[{'member_key', 'budget_level1_key', 'month_actual'}]\r\n",
    "\r\n",
    "month_actual = pd.merge(months_total_merged_monthly, month_today, how=\"left\", on=[\"member_key\", \"budget_level1_key\"])\r\n",
    "\r\n",
    "month_actual[\"spent_amount_predicted\"] = month_actual[\"allocated_amount_month\"] * month_actual[\"month_actual\"]"
   ]
  },
  {
   "cell_type": "code",
   "execution_count": null,
   "metadata": {},
   "outputs": [],
   "source": [
    "month_actual['funded_amount'] = month_actual['funded_amount'].round(2)\r\n",
    "month_actual['allocated_amount'] = month_actual['allocated_amount'].round(2)\r\n",
    "\r\n",
    "month_actual['allocated_amount_month'] = month_actual['allocated_amount_month'].round(2)\r\n",
    "month_actual['spent_amount_predicted'] = month_actual['spent_amount_predicted'].round(2)\r\n",
    "\r\n",
    "month_actual['months_left'] = month_actual['plan_months_total'] - month_actual['month_actual']"
   ]
  },
  {
   "cell_type": "code",
   "execution_count": null,
   "metadata": {},
   "outputs": [],
   "source": [
    "month_actual['funded_amount_percentage'] = (month_actual['funded_amount'] / month_actual['allocated_amount']) * 100#).round(2)\r\n",
    "\r\n",
    "month_actual['months_left_percentage'] = (month_actual['months_left'] / month_actual['plan_months_total']) * 100#).round(2)\r\n",
    "\r\n",
    "month_actual['funded_amount_months_left'] = month_actual['funded_amount_percentage'] / month_actual['months_left_percentage']#).round(2)\r\n",
    "\r\n",
    "month_actual = month_actual.loc[\r\n",
    "                                (month_actual[\"plan_months_total\"] >= 12)\r\n",
    "                              & (month_actual[\"allocated_amount\"] > 0)\r\n",
    "                              & (month_actual[\"months_left\"] > 0)\r\n",
    "                               ]"
   ]
  },
  {
   "cell_type": "code",
   "execution_count": null,
   "metadata": {},
   "outputs": [],
   "source": [
    "month_actual['spending_status'] = np.where(month_actual['funded_amount_months_left'] < 0.9, 'Overspending', 'Underspending')\r\n",
    "\r\n",
    "month_actual['spending_status'] = np.where(((month_actual['funded_amount_months_left'] >= 0.9) & (month_actual['funded_amount_months_left'] <= 1.2)), 'On_Track', month_actual['spending_status'])"
   ]
  },
  {
   "cell_type": "code",
   "execution_count": null,
   "metadata": {},
   "outputs": [],
   "source": [
    "main_data_set = month_actual[{\r\n",
    "                              \"member_key\"\r\n",
    "                            , \"first_name\" \r\n",
    "                            , \"last_name\" \r\n",
    "                            , \"budget_level1_key\"\r\n",
    "                            , \"budget_level1_name\"\r\n",
    "                            , \"funded_amount_percentage\"\r\n",
    "                            , \"months_left_percentage\"\r\n",
    "                            , \"funded_amount_months_left\"\r\n",
    "                            , \"spending_status\"\r\n",
    "                            }].copy()"
   ]
  },
  {
   "cell_type": "code",
   "execution_count": null,
   "metadata": {},
   "outputs": [],
   "source": [
    "df_model = main_data_set[{\r\n",
    "                          'funded_amount_percentage'\r\n",
    "                        , 'months_left_percentage'\r\n",
    "                        , 'spending_status'\r\n",
    "                        }].copy()"
   ]
  },
  {
   "cell_type": "code",
   "execution_count": null,
   "metadata": {},
   "outputs": [],
   "source": [
    "df_model.head()"
   ]
  },
  {
   "cell_type": "code",
   "execution_count": null,
   "metadata": {},
   "outputs": [],
   "source": [
    "x = df_model[{\r\n",
    "                'funded_amount_percentage'\r\n",
    "              , 'months_left_percentage'\r\n",
    "            }]\r\n",
    "\r\n",
    "y = df_model['spending_status']\r\n",
    "\r\n",
    "normalized_range = sklearn.preprocessing.MinMaxScaler(feature_range=(-1,1))\r\n",
    "x = normalized_range.fit_transform(x)"
   ]
  },
  {
   "cell_type": "code",
   "execution_count": null,
   "metadata": {},
   "outputs": [],
   "source": [
    "x_train, x_test, y_train, y_test = train_test_split(x, y, test_size=0.25)"
   ]
  },
  {
   "cell_type": "code",
   "execution_count": null,
   "metadata": {},
   "outputs": [],
   "source": [
    "regression = LogisticRegression(random_state=0, multi_class='multinomial', penalty='none', solver='newton-cg', max_iter = 150, warm_start = False).fit(x_train, y_train)\r\n",
    "\r\n",
    "regression.fit(x_train, y_train)"
   ]
  },
  {
   "cell_type": "code",
   "execution_count": null,
   "metadata": {},
   "outputs": [],
   "source": [
    "prediction_score = regression.score(x_test, y_test)\r\n",
    "print('Prediction score: ', prediction_score * 100)"
   ]
  },
  {
   "cell_type": "code",
   "execution_count": null,
   "metadata": {},
   "outputs": [],
   "source": [
    "print(regression.intercept_)"
   ]
  },
  {
   "cell_type": "code",
   "execution_count": null,
   "metadata": {},
   "outputs": [],
   "source": [
    "print(regression.coef_)"
   ]
  },
  {
   "cell_type": "code",
   "execution_count": null,
   "metadata": {},
   "outputs": [],
   "source": [
    "y_pred = regression.predict(x_test)"
   ]
  },
  {
   "cell_type": "code",
   "execution_count": null,
   "metadata": {},
   "outputs": [],
   "source": [
    "confmtrx = np.array(confusion_matrix(y_test, y_pred))\r\n",
    "\r\n",
    "pd.DataFrame(confmtrx, index=['Underspending','Overspending','On_Track'],\r\n",
    "columns=['predicted_Underspending', 'predicted_Overspending', 'predicted_On_Track'])"
   ]
  },
  {
   "cell_type": "code",
   "execution_count": null,
   "metadata": {},
   "outputs": [],
   "source": [
    "model_to_be_predicted = main_data_set[{\r\n",
    "                                       'member_key'\r\n",
    "                                     , 'first_name'\r\n",
    "                                     , 'last_name'\r\n",
    "                                     , 'budget_level1_key'\r\n",
    "                                     , 'budget_level1_name'\r\n",
    "                                     , 'funded_amount_percentage'\r\n",
    "                                     , 'months_left_percentage'\r\n",
    "                                     , 'spending_status'\r\n",
    "                                    }].copy()"
   ]
  },
  {
   "cell_type": "code",
   "execution_count": null,
   "metadata": {},
   "outputs": [],
   "source": [
    "df_prediction = pd.DataFrame(columns = ['member_key', 'first_name', 'last_name', 'budget_level1_key', 'budget_level1_name', 'prediction'])\r\n",
    "\r\n",
    "for index in range(len(model_to_be_predicted)):\r\n",
    "    member_key = (' member_key: ' + model_to_be_predicted['member_key'].iloc[index]\r\n",
    "                + ' First name: ' + model_to_be_predicted['first_name'].iloc[index]\r\n",
    "                + ' in Level 1:' + model_to_be_predicted['budget_level1_name'].iloc[index])\r\n",
    "\r\n",
    "    funded_amount_percentage = model_to_be_predicted['funded_amount_percentage'].iloc[index]\r\n",
    "    months_left_percentage = model_to_be_predicted['months_left_percentage'].iloc[index]\r\n",
    "    spending_status = model_to_be_predicted['spending_status'].iloc[index]\r\n",
    "\r\n",
    "    test = regression.predict((np.array([funded_amount_percentage, months_left_percentage]) .reshape(1, -1)))\r\n",
    "\r\n",
    "    if test.astype(str) == 'Underspending':  \r\n",
    "        status = 'Underspending'\r\n",
    "    else:\r\n",
    "        if test.astype(str) == 'Overspending':\r\n",
    "            status = 'Overspending'\r\n",
    "        else:\r\n",
    "            status = 'On_Track'\r\n",
    "\r\n",
    "    df = pd.DataFrame([ [\r\n",
    "                         model_to_be_predicted['member_key'].iloc[index]\r\n",
    "                       , model_to_be_predicted['first_name'].iloc[index]\r\n",
    "                       , model_to_be_predicted['last_name'].iloc[index]\r\n",
    "                       , model_to_be_predicted['budget_level1_key'].iloc[index]\r\n",
    "                       , model_to_be_predicted['budget_level1_name'].iloc[index]\r\n",
    "                       , status\r\n",
    "                       ] ], columns=list(['member_key', 'first_name', 'last_name', 'budget_level1_key', 'budget_level1_name', 'prediction']))\r\n",
    "\r\n",
    "    df_prediction = df_prediction.append(df)\r\n",
    "\r\n",
    "df_prediction\r\n"
   ]
  },
  {
   "cell_type": "code",
   "execution_count": null,
   "metadata": {},
   "outputs": [],
   "source": [
    "#compression_opts = dict(method='zip',\r\n",
    "#                        archive_name='prediction.csv')\r\n",
    "\r\n",
    "#df_prediction.to_csv('../dataSets/prediction.zip', compression=compression_opts)"
   ]
  }
 ],
 "metadata": {
  "kernelspec": {
   "display_name": "Python 3.8.5 32-bit",
   "name": "python385jvsc74a57bd0d7c375635162da09f0df265be1ff543fa0e54d4b5ed0ee516c18eaf6e6e8fe7a"
  },
  "language_info": {
   "codemirror_mode": {
    "name": "ipython",
    "version": 3
   },
   "file_extension": ".py",
   "mimetype": "text/x-python",
   "name": "python",
   "nbconvert_exporter": "python",
   "pygments_lexer": "ipython3",
   "version": "3.8.5"
  },
  "metadata": {
   "interpreter": {
    "hash": "d7c375635162da09f0df265be1ff543fa0e54d4b5ed0ee516c18eaf6e6e8fe7a"
   }
  },
  "orig_nbformat": 2
 },
 "nbformat": 4,
 "nbformat_minor": 2
}