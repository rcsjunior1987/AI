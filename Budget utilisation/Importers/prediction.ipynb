{
 "metadata": {
  "language_info": {
   "codemirror_mode": {
    "name": "ipython",
    "version": 3
   },
   "file_extension": ".py",
   "mimetype": "text/x-python",
   "name": "python",
   "nbconvert_exporter": "python",
   "pygments_lexer": "ipython3",
   "version": "3.8.5"
  },
  "orig_nbformat": 2,
  "kernelspec": {
   "name": "python385jvsc74a57bd0d7c375635162da09f0df265be1ff543fa0e54d4b5ed0ee516c18eaf6e6e8fe7a",
   "display_name": "Python 3.8.5 32-bit"
  },
  "metadata": {
   "interpreter": {
    "hash": "d7c375635162da09f0df265be1ff543fa0e54d4b5ed0ee516c18eaf6e6e8fe7a"
   }
  }
 },
 "nbformat": 4,
 "nbformat_minor": 2,
 "cells": [
  {
   "cell_type": "code",
   "execution_count": null,
   "metadata": {},
   "outputs": [],
   "source": [
    "# -------------------------- LIBRARIES NECESSARY IN THIS PROJECT  -------------------------- #\n",
    "\n",
    "import pandas as pd\n",
    "import numpy as np\n",
    "import seaborn as sns\n",
    "from datetime import *\n",
    "import zipfile\n",
    "import pylab as plt\n",
    "\n",
    "# -------------------------- FUNCTIONS -------------------------- #\n",
    "\n",
    "def getDataSet(data_path):\n",
    "    return pd.read_csv(data_path)\n",
    "\n",
    "def plotNaNValuesColums(dataSet):\n",
    "    # Gets the dataSet Columns with null values\n",
    "    #  and the Percentual of null values per column    \n",
    "    missing_values = (dataSet.isnull().sum() / len(dataSet)) * 100    \n",
    "    missing_values = missing_values[missing_values > 0]\n",
    "    missing_values.sort_values(inplace=True)   \n",
    "\n",
    "    missing_values = missing_values.to_frame()\n",
    "    missing_values.columns = ['Percentual']\n",
    "    missing_values.index.names = ['Name']\n",
    "    missing_values['Column'] = missing_values.index\n",
    "\n",
    "    # Plots the graph\n",
    "    sns.set(style=\"whitegrid\", color_codes=True)\n",
    "    sns.barplot(x = 'Column', y = 'Percentual', data=missing_values)\n",
    "    plt.xticks(rotation = 90)\n",
    "    plt.show()\n",
    "    print(missing_values)\n",
    "    \n",
    "def plotNotNaNValuesColums(dataSet):\n",
    "    # Gets the dataSet Columns with null values\n",
    "    #  and the Percentual of null values per column    \n",
    "    missing_values = (dataSet.notnull().sum() / len(dataSet)) * 100    \n",
    "    missing_values = missing_values[missing_values > 0]\n",
    "    missing_values.sort_values(inplace=True)   \n",
    "\n",
    "    missing_values = missing_values.to_frame()\n",
    "    missing_values.columns = ['Percentual']\n",
    "    missing_values.index.names = ['Name']\n",
    "    missing_values['Column'] = missing_values.index\n",
    "\n",
    "    # Plots the graph\n",
    "    sns.set(style=\"whitegrid\", color_codes=True)\n",
    "    sns.barplot(x = 'Column', y = 'Percentual', data=missing_values)\n",
    "    plt.xticks(rotation = 90)\n",
    "    plt.show()\n",
    "    print(missing_values)"
   ]
  },
  {
   "source": [
    "## Upload dataSets"
   ],
   "cell_type": "markdown",
   "metadata": {}
  },
  {
   "source": [
    "### Members dataset cleasing"
   ],
   "cell_type": "markdown",
   "metadata": {}
  },
  {
   "cell_type": "code",
   "execution_count": null,
   "metadata": {},
   "outputs": [],
   "source": [
    "# -------------------------- PATH OF THE DATASETS USED IN THE PROJECT  -------------------------- #\n",
    "zf = zipfile.ZipFile('../dataSets/main.zip')\n",
    "\n",
    "main_data_set_all_fields = pd.read_csv(zf.open('main.csv'))"
   ]
  },
  {
   "source": [
    "## Data manipulation and cleansing"
   ],
   "cell_type": "markdown",
   "metadata": {}
  },
  {
   "cell_type": "code",
   "execution_count": null,
   "metadata": {},
   "outputs": [],
   "source": [
    "# Check the dataSet fields\n",
    "main_data_set_all_fields.info()"
   ]
  },
  {
   "cell_type": "code",
   "execution_count": null,
   "metadata": {},
   "outputs": [],
   "source": [
    "main_data_set_all_fields.head(4)"
   ]
  },
  {
   "cell_type": "code",
   "execution_count": null,
   "metadata": {},
   "outputs": [],
   "source": [
    "main_data_No_NaN = main_data_set_all_fields.replace(np.nan, 'NA')\n",
    "\n",
    "main_data_No_NaN['updated_at'] = pd.to_datetime(main_data_No_NaN['updated_at']).dt.strftime('%Y-%m')"
   ]
  },
  {
   "cell_type": "code",
   "execution_count": null,
   "metadata": {},
   "outputs": [],
   "source": [
    "# Select just the fields to be used\n",
    "main_data_set = main_data_No_NaN[{\n",
    "                                         \"member_key\"\n",
    "                                       , \"updated_at\" \n",
    "                                       #, \"first_name\"\n",
    "                                       #, \"last_name\"\n",
    "                                       , \"budget_level1_key\"\n",
    "                                       , \"budget_level1_name\"\n",
    "                                       , \"plan_start_date\"\n",
    "                                       , \"plan_end_date\"\n",
    "                                       , \"plan_status\"\n",
    "                                       , \"funded_amount\"\n",
    "                                       , \"allocated_amount\"\n",
    "                                       , \"allocated_amount_total\"\n",
    "                                       }]"
   ]
  },
  {
   "cell_type": "code",
   "execution_count": null,
   "metadata": {},
   "outputs": [],
   "source": [
    "main_data_set = main_data_set[(main_data_set[\"plan_status\"] == 'PLAN_DELIVERY_ACTIVE') & (main_data_set[\"funded_amount\"] > 0)]"
   ]
  },
  {
   "cell_type": "code",
   "execution_count": null,
   "metadata": {},
   "outputs": [],
   "source": [
    "months_total = main_data_set[{\n",
    "                              \"member_key\"\n",
    "                            , \"plan_start_date\"\n",
    "                            , \"plan_end_date\"}].groupby([\n",
    "                                                        \"member_key\"\n",
    "                                                      , \"plan_start_date\"\n",
    "                                                      , \"plan_end_date\"\n",
    "                                                        ]).count().reset_index()\n",
    "\n",
    "months_total['plan_months_total'] = ((pd.to_datetime(months_total['plan_end_date']).dt.year -  pd.to_datetime(months_total['plan_start_date']).dt.year) * 12) + (pd.to_datetime(months_total['plan_end_date']).dt.month -  pd.to_datetime(months_total['plan_start_date']).dt.month)\n",
    "\n",
    "months_total_merged = months_total[{\"member_key\", \"plan_months_total\"}]\n",
    "                            \n",
    "months_total_merged = months_total[{\n",
    "                                    \"member_key\"\n",
    "                                  , \"plan_months_total\"\n",
    "                            }].groupby([\n",
    "                                       \"member_key\"\n",
    "                                     , \"plan_months_total\"\n",
    "                                       ]).count().reset_index()\n",
    "\n",
    "months_total_merged = pd.merge(main_data_set, months_total_merged, how=\"left\", on=[\"member_key\"])   "
   ]
  },
  {
   "cell_type": "code",
   "execution_count": null,
   "metadata": {},
   "outputs": [],
   "source": [
    "allocated_amount_month = months_total_merged.groupby([\n",
    "                                                        \"member_key\"\n",
    "                                                      , \"budget_level1_key\"\n",
    "                                                      #, \"budget_level2_key\"\n",
    "                                                      #, \"budget_level3_key\"\n",
    "                                                      , \"plan_months_total\"\n",
    "                                                        ]).agg({\"allocated_amount\": \"sum\"}).reset_index()\n",
    "\n",
    "allocated_amount_month[\"allocated_amount_month\"] = allocated_amount_month[\"allocated_amount\"] / allocated_amount_month[\"plan_months_total\"]                                                    \n",
    "allocated_amount_month = allocated_amount_month[{'member_key', 'budget_level1_key', 'allocated_amount_month'}]\n",
    "\n",
    "months_total_merged_monthly = pd.merge(months_total_merged, allocated_amount_month, how=\"left\", on=[\"member_key\", \"budget_level1_key\"])   "
   ]
  },
  {
   "cell_type": "code",
   "execution_count": null,
   "metadata": {},
   "outputs": [],
   "source": [
    "month_today = main_data_set[{\n",
    "                           \"member_key\"\n",
    "                         , \"budget_level1_key\"\n",
    "                         , \"plan_start_date\"\n",
    "                            }].groupby([\n",
    "                                       \"member_key\"\n",
    "                                     , \"budget_level1_key\"\n",
    "                                     , \"plan_start_date\"\n",
    "                                       ]).count().reset_index()\n",
    "\n",
    "month_today['month_actual'] = ((pd.to_datetime(\"today\").year -  pd.to_datetime(month_today['plan_start_date']).dt.year) * 12)                                                                                                                     + (pd.to_datetime(\"today\").month - pd.to_datetime(month_today['plan_start_date']).dt.month)\n",
    "\n",
    "\n",
    "month_today = month_today[{'member_key', 'budget_level1_key', 'month_actual'}]\n",
    "\n",
    "month_actual = pd.merge(months_total_merged_monthly, month_today, how=\"left\", on=[\"member_key\", \"budget_level1_key\"])\n",
    "\n",
    "month_actual[\"allocated_amount_predicted\"] = month_actual[\"allocated_amount_month\"] * month_actual[\"month_actual\"]"
   ]
  },
  {
   "cell_type": "code",
   "execution_count": null,
   "metadata": {},
   "outputs": [],
   "source": [
    "month_actual['allocated_amount_percentage'] = (month_actual['allocated_amount'] / month_actual['allocated_amount_total']) * 100\n",
    "month_actual['funded_amount_percentage'] = (month_actual['funded_amount'] / month_actual['allocated_amount']) * 100\n",
    "month_actual['funded_total_percentage'] = (month_actual['funded_amount'] / month_actual['allocated_amount_total']) * 100\n",
    "month_actual['funded_amount_ON_amount_predicted'] = (month_actual['funded_amount'] / month_actual['allocated_amount_predicted']) * 100"
   ]
  },
  {
   "cell_type": "code",
   "execution_count": null,
   "metadata": {},
   "outputs": [],
   "source": [
    "month_actual = month_actual[month_actual[\"plan_months_total\"] >= 12]"
   ]
  },
  {
   "cell_type": "code",
   "execution_count": null,
   "metadata": {},
   "outputs": [],
   "source": [
    "main_data_set = month_actual.groupby([\n",
    "                                       \"member_key\"\n",
    "                                      #, \"first_name\"\n",
    "                                      #, \"last_name\"\n",
    "                                      , \"budget_level1_key\"\n",
    "                                      , \"budget_level1_name\"\n",
    "                                      , \"plan_months_total\"\n",
    "                                      , \"month_actual\"\n",
    "                                      , \"allocated_amount_total\"\n",
    "                                      , \"allocated_amount_predicted\"\n",
    "                                      ]).agg({\"funded_amount\": \"sum\"\n",
    "                                            , \"allocated_amount\": \"sum\"\n",
    "                                            #, \"funded_amount_percentage\": \"sum\"\n",
    "                                            #, \"funded_total_percentage\": \"sum\"\n",
    "                                            , \"funded_amount_ON_amount_predicted\": \"sum\"\n",
    "                                            , \"allocated_amount_percentage\": \"sum\"\n",
    "                                            }).reset_index()"
   ]
  },
  {
   "cell_type": "code",
   "execution_count": null,
   "metadata": {},
   "outputs": [],
   "source": [
    "main_data_set['spending_status'] = np.where((main_data_set['funded_amount'] < main_data_set['allocated_amount_predicted']) , 0, 1)"
   ]
  },
  {
   "cell_type": "code",
   "execution_count": null,
   "metadata": {},
   "outputs": [],
   "source": [
    "compression_opts = dict(method='zip',\n",
    "                        archive_name='prediction.csv')\n",
    "\n",
    "main_data_set.to_csv('../dataSets/prediction.zip', compression=compression_opts)"
   ]
  }
 ]
}