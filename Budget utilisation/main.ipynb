<<<<<<< HEAD
{
 "metadata": {
  "language_info": {
   "codemirror_mode": {
    "name": "ipython",
    "version": 3
   },
   "file_extension": ".py",
   "mimetype": "text/x-python",
   "name": "python",
   "nbconvert_exporter": "python",
   "pygments_lexer": "ipython3",
   "version": "3.8.5"
  },
  "orig_nbformat": 2,
  "kernelspec": {
   "name": "python385jvsc74a57bd0d7c375635162da09f0df265be1ff543fa0e54d4b5ed0ee516c18eaf6e6e8fe7a",
   "display_name": "Python 3.8.5 32-bit"
  },
  "metadata": {
   "interpreter": {
    "hash": "d7c375635162da09f0df265be1ff543fa0e54d4b5ed0ee516c18eaf6e6e8fe7a"
   }
  }
 },
 "nbformat": 4,
 "nbformat_minor": 2,
 "cells": [
  {
   "cell_type": "code",
<<<<<<< HEAD
   "execution_count": 1,
=======
   "execution_count": null,
>>>>>>> 8f720b2b4e9cec63e694a4d42aa154bd5f56dde0
   "metadata": {},
   "outputs": [],
   "source": [
    "# -------------------------- LIBRARIES NECESSARY IN THIS PROJECT  -------------------------- #\n",
    "import pandas as pd\n",
    "import numpy as np\n",
    "import seaborn as sns\n",
    "import matplotlib.pyplot as plt\n",
    "\n",
    "# -------------------------- FUNCTIONS -------------------------- #\n",
    "\n",
    "def getDataSet(data_path):\n",
    "    return pd.read_csv(data_path)\n",
    "\n",
    "def plotNaNValuesColums(dataSet):\n",
    "    # Gets the dataSet Columns with null values\n",
    "    #  and the Percentual of null values per column    \n",
    "    missing_values = (dataSet.isnull().sum() / len(dataSet)) * 100    \n",
    "    missing_values = missing_values[missing_values > 0]\n",
    "    missing_values.sort_values(inplace=True)   \n",
    "\n",
    "    missing_values = missing_values.to_frame()\n",
    "    missing_values.columns = ['Percentual']\n",
    "    missing_values.index.names = ['Name']\n",
    "    missing_values['Column'] = missing_values.index\n",
    "\n",
    "    # Plots the graph\n",
    "    sns.set(style=\"whitegrid\", color_codes=True)\n",
    "    sns.barplot(x = 'Column', y = 'Percentual', data=missing_values)\n",
    "    plt.xticks(rotation = 90)\n",
    "    plt.show()\n",
    "    print(missing_values)\n",
    "\n",
    "def plotNotNaNValuesColums(dataSet):\n",
    "    # Gets the dataSet Columns with null values\n",
    "    #  and the Percentual of null values per column    \n",
    "    missing_values = (dataSet.notnull().sum() / len(dataSet)) * 100    \n",
    "    missing_values = missing_values[missing_values > 0]\n",
    "    missing_values.sort_values(inplace=True)   \n",
    "\n",
    "    missing_values = missing_values.to_frame()\n",
    "    missing_values.columns = ['Percentual']\n",
    "    missing_values.index.names = ['Name']\n",
    "    missing_values['Column'] = missing_values.index\n",
    "\n",
    "    # Plots the graph\n",
    "    sns.set(style=\"whitegrid\", color_codes=True)\n",
    "    sns.barplot(x = 'Column', y = 'Percentual', data=missing_values)\n",
    "    plt.xticks(rotation = 90)\n",
    "    plt.show()\n",
    "    print(missing_values)\n",
    "\n",
    "    \n",
    "\n",
    "# -------------------------- PATH OF THE DATASETS USED IN THE PROJECT  -------------------------- #\n",
    "\n",
    "invoices_claims_last_actived_path=\"dataSets/Invoices_Claims_Last_Actived.csv\"\n",
    "invoices_claims_last_completed_path=\"dataSets/Invoices_Claims_Last_Completed.csv\"\n",
    "invoices_claims_path=\"dataSets/Invoices_Claims.csv\"\n",
    "members_supported=\"dataSets/Members_Supported.csv\"\n",
    "plans_budgets=\"dataSets/Plans_Budgets.csv\"\n",
    "providers=\"dataSets/Providers.csv\""
   ]
  },
  {
   "source": [
    "## Upload dataSets"
   ],
   "cell_type": "markdown",
   "metadata": {}
  },
  {
   "cell_type": "code",
<<<<<<< HEAD
   "execution_count": 2,
   "metadata": {},
   "outputs": [
    {
     "output_type": "stream",
     "name": "stderr",
     "text": [
      "C:\\Users\\dttt1\\AppData\\Roaming\\Python\\Python38\\site-packages\\IPython\\core\\interactiveshell.py:3254: DtypeWarning: Columns (6) have mixed types.Specify dtype option on import or set low_memory=False.\n  if (await self.run_code(code, result,  async_=asy)):\n"
     ]
    }
   ],
=======
   "execution_count": null,
   "metadata": {},
   "outputs": [],
>>>>>>> 8f720b2b4e9cec63e694a4d42aa154bd5f56dde0
   "source": [
    "# upload the dataSet with invoices and claims data\n",
    "invoices_claims_last_actived_all_fields = getDataSet(invoices_claims_last_actived_path)\n",
    "invoices_claims_last_completed_all_fields = getDataSet(invoices_claims_last_completed_path)\n",
    "\n",
    "# upload the dataSet with invoices and claims data\n",
    "df_plans_budgets_all_fields = getDataSet(plans_budgets)\n",
    "\n",
    "# upload the dataSet with invoices and claims data\n",
    "df_members_supported_all_fields = getDataSet(members_supported)"
   ]
  },
  {
   "source": [
    "## Data manipulation and cleansing<a name=\"preparation\"></a>"
   ],
   "cell_type": "markdown",
   "metadata": {}
  },
  {
   "source": [
    "### Members dataset cleasing"
   ],
   "cell_type": "markdown",
   "metadata": {}
  },
  {
   "cell_type": "code",
<<<<<<< HEAD
   "execution_count": 3,
   "metadata": {},
   "outputs": [
    {
     "output_type": "stream",
     "name": "stdout",
     "text": [
      "<class 'pandas.core.frame.DataFrame'>\nRangeIndex: 6019 entries, 0 to 6018\nData columns (total 12 columns):\n #   Column           Non-Null Count  Dtype  \n---  ------           --------------  -----  \n 0   id               6019 non-null   int64  \n 1   member_key       6019 non-null   object \n 2   date_of_birth    6019 non-null   object \n 3   first_name       6019 non-null   object \n 4   last_name        6019 non-null   object \n 5   price_zone_code  6019 non-null   object \n 6   u_disabilities   1272 non-null   object \n 7   u_gender         5304 non-null   object \n 8   SA1              735 non-null    float64\n 9   SA2              735 non-null    float64\n 10  SA3              735 non-null    float64\n 11  SA4              735 non-null    float64\ndtypes: float64(4), int64(1), object(7)\nmemory usage: 399.8+ KB\n"
     ]
    }
   ],
=======
   "execution_count": null,
   "metadata": {},
   "outputs": [],
>>>>>>> 8f720b2b4e9cec63e694a4d42aa154bd5f56dde0
   "source": [
    "# Check the dataSet fields\n",
    "df_members_supported_all_fields.info()"
   ]
  },
  {
   "cell_type": "code",
<<<<<<< HEAD
   "execution_count": 4,
   "metadata": {},
   "outputs": [
    {
     "output_type": "execute_result",
     "data": {
      "text/plain": [
       "     id                            member_key date_of_birth first_name  \\\n",
       "0  1350  f8e1f640-c7f3-11ea-baa6-ebfe92aca975    1957-12-19      Aaron   \n",
       "1   435  df6fef80-c179-11ea-8a11-397bdc21f5a9    2002-11-04       Abba   \n",
       "2  3297  d4762b30-dcef-11ea-a5ac-61abce895864    2013-09-26       Abbe   \n",
       "3  3641  e03ed7f0-ddb7-11ea-a31a-7d25e47a5c0a    1969-12-15       Abbe   \n",
       "\n",
       "    last_name  price_zone_code u_disabilities u_gender  SA1  SA2  SA3  SA4  \n",
       "0       Edney           Remote        Amputee   Female  NaN  NaN  NaN  NaN  \n",
       "1  Joskovitch  ACT_NSW_QLD_VIC            NaN   Female  NaN  NaN  NaN  NaN  \n",
       "2    Claridge  ACT_NSW_QLD_VIC            NaN     Male  NaN  NaN  NaN  NaN  \n",
       "3    Kelloway  ACT_NSW_QLD_VIC  Mental health   Female  NaN  NaN  NaN  NaN  "
      ],
      "text/html": "<div>\n<style scoped>\n    .dataframe tbody tr th:only-of-type {\n        vertical-align: middle;\n    }\n\n    .dataframe tbody tr th {\n        vertical-align: top;\n    }\n\n    .dataframe thead th {\n        text-align: right;\n    }\n</style>\n<table border=\"1\" class=\"dataframe\">\n  <thead>\n    <tr style=\"text-align: right;\">\n      <th></th>\n      <th>id</th>\n      <th>member_key</th>\n      <th>date_of_birth</th>\n      <th>first_name</th>\n      <th>last_name</th>\n      <th>price_zone_code</th>\n      <th>u_disabilities</th>\n      <th>u_gender</th>\n      <th>SA1</th>\n      <th>SA2</th>\n      <th>SA3</th>\n      <th>SA4</th>\n    </tr>\n  </thead>\n  <tbody>\n    <tr>\n      <th>0</th>\n      <td>1350</td>\n      <td>f8e1f640-c7f3-11ea-baa6-ebfe92aca975</td>\n      <td>1957-12-19</td>\n      <td>Aaron</td>\n      <td>Edney</td>\n      <td>Remote</td>\n      <td>Amputee</td>\n      <td>Female</td>\n      <td>NaN</td>\n      <td>NaN</td>\n      <td>NaN</td>\n      <td>NaN</td>\n    </tr>\n    <tr>\n      <th>1</th>\n      <td>435</td>\n      <td>df6fef80-c179-11ea-8a11-397bdc21f5a9</td>\n      <td>2002-11-04</td>\n      <td>Abba</td>\n      <td>Joskovitch</td>\n      <td>ACT_NSW_QLD_VIC</td>\n      <td>NaN</td>\n      <td>Female</td>\n      <td>NaN</td>\n      <td>NaN</td>\n      <td>NaN</td>\n      <td>NaN</td>\n    </tr>\n    <tr>\n      <th>2</th>\n      <td>3297</td>\n      <td>d4762b30-dcef-11ea-a5ac-61abce895864</td>\n      <td>2013-09-26</td>\n      <td>Abbe</td>\n      <td>Claridge</td>\n      <td>ACT_NSW_QLD_VIC</td>\n      <td>NaN</td>\n      <td>Male</td>\n      <td>NaN</td>\n      <td>NaN</td>\n      <td>NaN</td>\n      <td>NaN</td>\n    </tr>\n    <tr>\n      <th>3</th>\n      <td>3641</td>\n      <td>e03ed7f0-ddb7-11ea-a31a-7d25e47a5c0a</td>\n      <td>1969-12-15</td>\n      <td>Abbe</td>\n      <td>Kelloway</td>\n      <td>ACT_NSW_QLD_VIC</td>\n      <td>Mental health</td>\n      <td>Female</td>\n      <td>NaN</td>\n      <td>NaN</td>\n      <td>NaN</td>\n      <td>NaN</td>\n    </tr>\n  </tbody>\n</table>\n</div>"
     },
     "metadata": {},
     "execution_count": 4
    }
   ],
=======
   "execution_count": null,
   "metadata": {},
   "outputs": [],
>>>>>>> 8f720b2b4e9cec63e694a4d42aa154bd5f56dde0
   "source": [
    "df_members_supported_all_fields.head(4)"
   ]
  },
  {
   "cell_type": "code",
<<<<<<< HEAD
   "execution_count": 5,
   "metadata": {},
   "outputs": [
    {
     "output_type": "stream",
     "name": "stderr",
     "text": [
      "C:\\Users\\dttt1\\AppData\\Roaming\\Python\\Python38\\site-packages\\pandas\\core\\frame.py:4125: SettingWithCopyWarning: \nA value is trying to be set on a copy of a slice from a DataFrame\n\nSee the caveats in the documentation: https://pandas.pydata.org/pandas-docs/stable/user_guide/indexing.html#returning-a-view-versus-a-copy\n  return super().rename(\n"
     ]
    }
   ],
=======
   "execution_count": null,
   "metadata": {},
   "outputs": [],
>>>>>>> 8f720b2b4e9cec63e694a4d42aa154bd5f56dde0
   "source": [
    "# Select just the fields to be used\n",
    "df_members_supported = df_members_supported_all_fields[{\"id\"\n",
    "                                                      , \"member_key\" \n",
    "                                                      , \"first_name\"\n",
    "                                                      , \"last_name\"\n",
    "                                                      , \"price_zone_code\"\n",
    "                                                      , \"u_disabilities\"\n",
    "                                                      , \"SA1\"\n",
    "                                                      }]\n",
    "\n",
    "# Rename some dataSet colums to create a name's pattern\n",
    "df_members_supported.rename(columns={'id':'member_id'\n",
    "                                   , 'u_disabilities':'disabilities'\n",
    "                                    } , inplace = True)                                    "
   ]
  },
  {
   "cell_type": "code",
<<<<<<< HEAD
   "execution_count": 6,
   "metadata": {},
   "outputs": [
    {
     "output_type": "display_data",
     "data": {
      "text/plain": "<Figure size 432x288 with 1 Axes>",
      "image/svg+xml": "<?xml version=\"1.0\" encoding=\"utf-8\" standalone=\"no\"?>\r\n<!DOCTYPE svg PUBLIC \"-//W3C//DTD SVG 1.1//EN\"\r\n  \"http://www.w3.org/Graphics/SVG/1.1/DTD/svg11.dtd\">\r\n<!-- Created with matplotlib (https://matplotlib.org/) -->\r\n<svg height=\"307.05875pt\" version=\"1.1\" viewBox=\"0 0 385.908437 307.05875\" width=\"385.908437pt\" xmlns=\"http://www.w3.org/2000/svg\" xmlns:xlink=\"http://www.w3.org/1999/xlink\">\r\n <defs>\r\n  <style type=\"text/css\">\r\n*{stroke-linecap:butt;stroke-linejoin:round;}\r\n  </style>\r\n </defs>\r\n <g id=\"figure_1\">\r\n  <g id=\"patch_1\">\r\n   <path d=\"M 0 307.05875 \r\nL 385.908437 307.05875 \r\nL 385.908437 0 \r\nL 0 0 \r\nz\r\n\" style=\"fill:#ffffff;\"/>\r\n  </g>\r\n  <g id=\"axes_1\">\r\n   <g id=\"patch_2\">\r\n    <path d=\"M 43.908438 224.64 \r\nL 378.708438 224.64 \r\nL 378.708438 7.2 \r\nL 43.908438 7.2 \r\nz\r\n\" style=\"fill:#ffffff;\"/>\r\n   </g>\r\n   <g id=\"matplotlib.axis_1\">\r\n    <g id=\"xtick_1\">\r\n     <g id=\"text_1\">\r\n      <!-- disabilities -->\r\n      <defs>\r\n       <path d=\"M 40.234375 0 \r\nL 40.234375 6.546875 \r\nQ 35.296875 -1.171875 25.734375 -1.171875 \r\nQ 19.53125 -1.171875 14.328125 2.25 \r\nQ 9.125 5.671875 6.265625 11.796875 \r\nQ 3.421875 17.921875 3.421875 25.875 \r\nQ 3.421875 33.640625 6 39.96875 \r\nQ 8.59375 46.296875 13.765625 49.65625 \r\nQ 18.953125 53.03125 25.34375 53.03125 \r\nQ 30.03125 53.03125 33.6875 51.046875 \r\nQ 37.359375 49.078125 39.65625 45.90625 \r\nL 39.65625 71.578125 \r\nL 48.390625 71.578125 \r\nL 48.390625 0 \r\nz\r\nM 12.453125 25.875 \r\nQ 12.453125 15.921875 16.640625 10.984375 \r\nQ 20.84375 6.0625 26.5625 6.0625 \r\nQ 32.328125 6.0625 36.34375 10.765625 \r\nQ 40.375 15.484375 40.375 25.140625 \r\nQ 40.375 35.796875 36.265625 40.765625 \r\nQ 32.171875 45.75 26.171875 45.75 \r\nQ 20.3125 45.75 16.375 40.96875 \r\nQ 12.453125 36.1875 12.453125 25.875 \r\nz\r\n\" id=\"ArialMT-100\"/>\r\n       <path d=\"M 6.640625 61.46875 \r\nL 6.640625 71.578125 \r\nL 15.4375 71.578125 \r\nL 15.4375 61.46875 \r\nz\r\nM 6.640625 0 \r\nL 6.640625 51.859375 \r\nL 15.4375 51.859375 \r\nL 15.4375 0 \r\nz\r\n\" id=\"ArialMT-105\"/>\r\n       <path d=\"M 3.078125 15.484375 \r\nL 11.765625 16.84375 \r\nQ 12.5 11.625 15.84375 8.84375 \r\nQ 19.1875 6.0625 25.203125 6.0625 \r\nQ 31.25 6.0625 34.171875 8.515625 \r\nQ 37.109375 10.984375 37.109375 14.3125 \r\nQ 37.109375 17.28125 34.515625 19 \r\nQ 32.71875 20.171875 25.53125 21.96875 \r\nQ 15.875 24.421875 12.140625 26.203125 \r\nQ 8.40625 27.984375 6.46875 31.125 \r\nQ 4.546875 34.28125 4.546875 38.09375 \r\nQ 4.546875 41.546875 6.125 44.5 \r\nQ 7.71875 47.46875 10.453125 49.421875 \r\nQ 12.5 50.921875 16.03125 51.96875 \r\nQ 19.578125 53.03125 23.640625 53.03125 \r\nQ 29.734375 53.03125 34.34375 51.265625 \r\nQ 38.96875 49.515625 41.15625 46.5 \r\nQ 43.359375 43.5 44.1875 38.484375 \r\nL 35.59375 37.3125 \r\nQ 35.015625 41.3125 32.203125 43.546875 \r\nQ 29.390625 45.796875 24.265625 45.796875 \r\nQ 18.21875 45.796875 15.625 43.796875 \r\nQ 13.03125 41.796875 13.03125 39.109375 \r\nQ 13.03125 37.40625 14.109375 36.03125 \r\nQ 15.1875 34.625 17.484375 33.6875 \r\nQ 18.796875 33.203125 25.25 31.453125 \r\nQ 34.578125 28.953125 38.25 27.359375 \r\nQ 41.9375 25.78125 44.03125 22.75 \r\nQ 46.140625 19.734375 46.140625 15.234375 \r\nQ 46.140625 10.84375 43.578125 6.953125 \r\nQ 41.015625 3.078125 36.171875 0.953125 \r\nQ 31.34375 -1.171875 25.25 -1.171875 \r\nQ 15.140625 -1.171875 9.84375 3.03125 \r\nQ 4.546875 7.234375 3.078125 15.484375 \r\nz\r\n\" id=\"ArialMT-115\"/>\r\n       <path d=\"M 40.4375 6.390625 \r\nQ 35.546875 2.25 31.03125 0.53125 \r\nQ 26.515625 -1.171875 21.34375 -1.171875 \r\nQ 12.796875 -1.171875 8.203125 3 \r\nQ 3.609375 7.171875 3.609375 13.671875 \r\nQ 3.609375 17.484375 5.34375 20.625 \r\nQ 7.078125 23.78125 9.890625 25.6875 \r\nQ 12.703125 27.59375 16.21875 28.5625 \r\nQ 18.796875 29.25 24.03125 29.890625 \r\nQ 34.671875 31.15625 39.703125 32.90625 \r\nQ 39.75 34.71875 39.75 35.203125 \r\nQ 39.75 40.578125 37.25 42.78125 \r\nQ 33.890625 45.75 27.25 45.75 \r\nQ 21.046875 45.75 18.09375 43.578125 \r\nQ 15.140625 41.40625 13.71875 35.890625 \r\nL 5.125 37.0625 \r\nQ 6.296875 42.578125 8.984375 45.96875 \r\nQ 11.671875 49.359375 16.75 51.1875 \r\nQ 21.828125 53.03125 28.515625 53.03125 \r\nQ 35.15625 53.03125 39.296875 51.46875 \r\nQ 43.453125 49.90625 45.40625 47.53125 \r\nQ 47.359375 45.171875 48.140625 41.546875 \r\nQ 48.578125 39.3125 48.578125 33.453125 \r\nL 48.578125 21.734375 \r\nQ 48.578125 9.46875 49.140625 6.21875 \r\nQ 49.703125 2.984375 51.375 0 \r\nL 42.1875 0 \r\nQ 40.828125 2.734375 40.4375 6.390625 \r\nz\r\nM 39.703125 26.03125 \r\nQ 34.90625 24.078125 25.34375 22.703125 \r\nQ 19.921875 21.921875 17.671875 20.9375 \r\nQ 15.4375 19.96875 14.203125 18.09375 \r\nQ 12.984375 16.21875 12.984375 13.921875 \r\nQ 12.984375 10.40625 15.640625 8.0625 \r\nQ 18.3125 5.71875 23.4375 5.71875 \r\nQ 28.515625 5.71875 32.46875 7.9375 \r\nQ 36.421875 10.15625 38.28125 14.015625 \r\nQ 39.703125 17 39.703125 22.796875 \r\nz\r\n\" id=\"ArialMT-97\"/>\r\n       <path d=\"M 14.703125 0 \r\nL 6.546875 0 \r\nL 6.546875 71.578125 \r\nL 15.328125 71.578125 \r\nL 15.328125 46.046875 \r\nQ 20.90625 53.03125 29.546875 53.03125 \r\nQ 34.328125 53.03125 38.59375 51.09375 \r\nQ 42.875 49.171875 45.625 45.671875 \r\nQ 48.390625 42.1875 49.953125 37.25 \r\nQ 51.515625 32.328125 51.515625 26.703125 \r\nQ 51.515625 13.375 44.921875 6.09375 \r\nQ 38.328125 -1.171875 29.109375 -1.171875 \r\nQ 19.921875 -1.171875 14.703125 6.5 \r\nz\r\nM 14.59375 26.3125 \r\nQ 14.59375 17 17.140625 12.84375 \r\nQ 21.296875 6.0625 28.375 6.0625 \r\nQ 34.125 6.0625 38.328125 11.0625 \r\nQ 42.53125 16.0625 42.53125 25.984375 \r\nQ 42.53125 36.140625 38.5 40.96875 \r\nQ 34.46875 45.796875 28.765625 45.796875 \r\nQ 23 45.796875 18.796875 40.796875 \r\nQ 14.59375 35.796875 14.59375 26.3125 \r\nz\r\n\" id=\"ArialMT-98\"/>\r\n       <path d=\"M 6.390625 0 \r\nL 6.390625 71.578125 \r\nL 15.1875 71.578125 \r\nL 15.1875 0 \r\nz\r\n\" id=\"ArialMT-108\"/>\r\n       <path d=\"M 25.78125 7.859375 \r\nL 27.046875 0.09375 \r\nQ 23.34375 -0.6875 20.40625 -0.6875 \r\nQ 15.625 -0.6875 12.984375 0.828125 \r\nQ 10.359375 2.34375 9.28125 4.8125 \r\nQ 8.203125 7.28125 8.203125 15.1875 \r\nL 8.203125 45.015625 \r\nL 1.765625 45.015625 \r\nL 1.765625 51.859375 \r\nL 8.203125 51.859375 \r\nL 8.203125 64.703125 \r\nL 16.9375 69.96875 \r\nL 16.9375 51.859375 \r\nL 25.78125 51.859375 \r\nL 25.78125 45.015625 \r\nL 16.9375 45.015625 \r\nL 16.9375 14.703125 \r\nQ 16.9375 10.9375 17.40625 9.859375 \r\nQ 17.875 8.796875 18.921875 8.15625 \r\nQ 19.96875 7.515625 21.921875 7.515625 \r\nQ 23.390625 7.515625 25.78125 7.859375 \r\nz\r\n\" id=\"ArialMT-116\"/>\r\n       <path d=\"M 42.09375 16.703125 \r\nL 51.171875 15.578125 \r\nQ 49.03125 7.625 43.21875 3.21875 \r\nQ 37.40625 -1.171875 28.375 -1.171875 \r\nQ 17 -1.171875 10.328125 5.828125 \r\nQ 3.65625 12.84375 3.65625 25.484375 \r\nQ 3.65625 38.578125 10.390625 45.796875 \r\nQ 17.140625 53.03125 27.875 53.03125 \r\nQ 38.28125 53.03125 44.875 45.953125 \r\nQ 51.46875 38.875 51.46875 26.03125 \r\nQ 51.46875 25.25 51.421875 23.6875 \r\nL 12.75 23.6875 \r\nQ 13.234375 15.140625 17.578125 10.59375 \r\nQ 21.921875 6.0625 28.421875 6.0625 \r\nQ 33.25 6.0625 36.671875 8.59375 \r\nQ 40.09375 11.140625 42.09375 16.703125 \r\nz\r\nM 13.234375 30.90625 \r\nL 42.1875 30.90625 \r\nQ 41.609375 37.453125 38.875 40.71875 \r\nQ 34.671875 45.796875 27.984375 45.796875 \r\nQ 21.921875 45.796875 17.796875 41.75 \r\nQ 13.671875 37.703125 13.234375 30.90625 \r\nz\r\n\" id=\"ArialMT-101\"/>\r\n      </defs>\r\n      <g style=\"fill:#262626;\" transform=\"translate(130.452109 284.884375)rotate(-90)scale(0.11 -0.11)\">\r\n       <use xlink:href=\"#ArialMT-100\"/>\r\n       <use x=\"55.615234\" xlink:href=\"#ArialMT-105\"/>\r\n       <use x=\"77.832031\" xlink:href=\"#ArialMT-115\"/>\r\n       <use x=\"127.832031\" xlink:href=\"#ArialMT-97\"/>\r\n       <use x=\"183.447266\" xlink:href=\"#ArialMT-98\"/>\r\n       <use x=\"239.0625\" xlink:href=\"#ArialMT-105\"/>\r\n       <use x=\"261.279297\" xlink:href=\"#ArialMT-108\"/>\r\n       <use x=\"283.496094\" xlink:href=\"#ArialMT-105\"/>\r\n       <use x=\"305.712891\" xlink:href=\"#ArialMT-116\"/>\r\n       <use x=\"333.496094\" xlink:href=\"#ArialMT-105\"/>\r\n       <use x=\"355.712891\" xlink:href=\"#ArialMT-101\"/>\r\n       <use x=\"411.328125\" xlink:href=\"#ArialMT-115\"/>\r\n      </g>\r\n     </g>\r\n    </g>\r\n    <g id=\"xtick_2\">\r\n     <g id=\"text_2\">\r\n      <!-- SA1 -->\r\n      <defs>\r\n       <path d=\"M 4.5 23 \r\nL 13.421875 23.78125 \r\nQ 14.0625 18.40625 16.375 14.96875 \r\nQ 18.703125 11.53125 23.578125 9.40625 \r\nQ 28.46875 7.28125 34.578125 7.28125 \r\nQ 39.984375 7.28125 44.140625 8.890625 \r\nQ 48.296875 10.5 50.3125 13.296875 \r\nQ 52.34375 16.109375 52.34375 19.4375 \r\nQ 52.34375 22.796875 50.390625 25.3125 \r\nQ 48.4375 27.828125 43.953125 29.546875 \r\nQ 41.0625 30.671875 31.203125 33.03125 \r\nQ 21.34375 35.40625 17.390625 37.5 \r\nQ 12.25 40.1875 9.734375 44.15625 \r\nQ 7.234375 48.140625 7.234375 53.078125 \r\nQ 7.234375 58.5 10.296875 63.203125 \r\nQ 13.375 67.921875 19.28125 70.359375 \r\nQ 25.203125 72.796875 32.421875 72.796875 \r\nQ 40.375 72.796875 46.453125 70.234375 \r\nQ 52.546875 67.671875 55.8125 62.6875 \r\nQ 59.078125 57.71875 59.328125 51.421875 \r\nL 50.25 50.734375 \r\nQ 49.515625 57.515625 45.28125 60.984375 \r\nQ 41.0625 64.453125 32.8125 64.453125 \r\nQ 24.21875 64.453125 20.28125 61.296875 \r\nQ 16.359375 58.15625 16.359375 53.71875 \r\nQ 16.359375 49.859375 19.140625 47.359375 \r\nQ 21.875 44.875 33.421875 42.265625 \r\nQ 44.96875 39.65625 49.265625 37.703125 \r\nQ 55.515625 34.8125 58.484375 30.390625 \r\nQ 61.46875 25.984375 61.46875 20.21875 \r\nQ 61.46875 14.5 58.203125 9.4375 \r\nQ 54.9375 4.390625 48.796875 1.578125 \r\nQ 42.671875 -1.21875 35.015625 -1.21875 \r\nQ 25.296875 -1.21875 18.71875 1.609375 \r\nQ 12.15625 4.4375 8.421875 10.125 \r\nQ 4.6875 15.828125 4.5 23 \r\nz\r\n\" id=\"ArialMT-83\"/>\r\n       <path d=\"M -0.140625 0 \r\nL 27.34375 71.578125 \r\nL 37.546875 71.578125 \r\nL 66.84375 0 \r\nL 56.0625 0 \r\nL 47.703125 21.6875 \r\nL 17.78125 21.6875 \r\nL 9.90625 0 \r\nz\r\nM 20.515625 29.390625 \r\nL 44.78125 29.390625 \r\nL 37.3125 49.21875 \r\nQ 33.890625 58.25 32.234375 64.0625 \r\nQ 30.859375 57.171875 28.375 50.390625 \r\nz\r\n\" id=\"ArialMT-65\"/>\r\n       <path d=\"M 37.25 0 \r\nL 28.46875 0 \r\nL 28.46875 56 \r\nQ 25.296875 52.984375 20.140625 49.953125 \r\nQ 14.984375 46.921875 10.890625 45.40625 \r\nL 10.890625 53.90625 \r\nQ 18.265625 57.375 23.78125 62.296875 \r\nQ 29.296875 67.234375 31.59375 71.875 \r\nL 37.25 71.875 \r\nz\r\n\" id=\"ArialMT-49\"/>\r\n      </defs>\r\n      <g style=\"fill:#262626;\" transform=\"translate(297.852109 254.931719)rotate(-90)scale(0.11 -0.11)\">\r\n       <use xlink:href=\"#ArialMT-83\"/>\r\n       <use x=\"66.699219\" xlink:href=\"#ArialMT-65\"/>\r\n       <use x=\"133.398438\" xlink:href=\"#ArialMT-49\"/>\r\n      </g>\r\n     </g>\r\n    </g>\r\n    <g id=\"text_3\">\r\n     <!-- Column -->\r\n     <defs>\r\n      <path d=\"M 58.796875 25.09375 \r\nL 68.265625 22.703125 \r\nQ 65.28125 11.03125 57.546875 4.90625 \r\nQ 49.8125 -1.21875 38.625 -1.21875 \r\nQ 27.046875 -1.21875 19.796875 3.484375 \r\nQ 12.546875 8.203125 8.765625 17.140625 \r\nQ 4.984375 26.078125 4.984375 36.328125 \r\nQ 4.984375 47.515625 9.25 55.828125 \r\nQ 13.53125 64.15625 21.40625 68.46875 \r\nQ 29.296875 72.796875 38.765625 72.796875 \r\nQ 49.515625 72.796875 56.828125 67.328125 \r\nQ 64.15625 61.859375 67.046875 51.953125 \r\nL 57.71875 49.75 \r\nQ 55.21875 57.5625 50.484375 61.125 \r\nQ 45.75 64.703125 38.578125 64.703125 \r\nQ 30.328125 64.703125 24.78125 60.734375 \r\nQ 19.234375 56.78125 16.984375 50.109375 \r\nQ 14.75 43.453125 14.75 36.375 \r\nQ 14.75 27.25 17.40625 20.4375 \r\nQ 20.0625 13.625 25.671875 10.25 \r\nQ 31.296875 6.890625 37.84375 6.890625 \r\nQ 45.796875 6.890625 51.3125 11.46875 \r\nQ 56.84375 16.0625 58.796875 25.09375 \r\nz\r\n\" id=\"ArialMT-67\"/>\r\n      <path d=\"M 3.328125 25.921875 \r\nQ 3.328125 40.328125 11.328125 47.265625 \r\nQ 18.015625 53.03125 27.640625 53.03125 \r\nQ 38.328125 53.03125 45.109375 46.015625 \r\nQ 51.90625 39.015625 51.90625 26.65625 \r\nQ 51.90625 16.65625 48.90625 10.90625 \r\nQ 45.90625 5.171875 40.15625 2 \r\nQ 34.421875 -1.171875 27.640625 -1.171875 \r\nQ 16.75 -1.171875 10.03125 5.8125 \r\nQ 3.328125 12.796875 3.328125 25.921875 \r\nz\r\nM 12.359375 25.921875 \r\nQ 12.359375 15.96875 16.703125 11.015625 \r\nQ 21.046875 6.0625 27.640625 6.0625 \r\nQ 34.1875 6.0625 38.53125 11.03125 \r\nQ 42.875 16.015625 42.875 26.21875 \r\nQ 42.875 35.84375 38.5 40.796875 \r\nQ 34.125 45.75 27.640625 45.75 \r\nQ 21.046875 45.75 16.703125 40.8125 \r\nQ 12.359375 35.890625 12.359375 25.921875 \r\nz\r\n\" id=\"ArialMT-111\"/>\r\n      <path d=\"M 40.578125 0 \r\nL 40.578125 7.625 \r\nQ 34.515625 -1.171875 24.125 -1.171875 \r\nQ 19.53125 -1.171875 15.546875 0.578125 \r\nQ 11.578125 2.34375 9.640625 5 \r\nQ 7.71875 7.671875 6.9375 11.53125 \r\nQ 6.390625 14.109375 6.390625 19.734375 \r\nL 6.390625 51.859375 \r\nL 15.1875 51.859375 \r\nL 15.1875 23.09375 \r\nQ 15.1875 16.21875 15.71875 13.8125 \r\nQ 16.546875 10.359375 19.234375 8.375 \r\nQ 21.921875 6.390625 25.875 6.390625 \r\nQ 29.828125 6.390625 33.296875 8.421875 \r\nQ 36.765625 10.453125 38.203125 13.9375 \r\nQ 39.65625 17.4375 39.65625 24.078125 \r\nL 39.65625 51.859375 \r\nL 48.4375 51.859375 \r\nL 48.4375 0 \r\nz\r\n\" id=\"ArialMT-117\"/>\r\n      <path d=\"M 6.59375 0 \r\nL 6.59375 51.859375 \r\nL 14.453125 51.859375 \r\nL 14.453125 44.578125 \r\nQ 16.890625 48.390625 20.9375 50.703125 \r\nQ 25 53.03125 30.171875 53.03125 \r\nQ 35.9375 53.03125 39.625 50.640625 \r\nQ 43.3125 48.25 44.828125 43.953125 \r\nQ 50.984375 53.03125 60.84375 53.03125 \r\nQ 68.5625 53.03125 72.703125 48.75 \r\nQ 76.859375 44.484375 76.859375 35.59375 \r\nL 76.859375 0 \r\nL 68.109375 0 \r\nL 68.109375 32.671875 \r\nQ 68.109375 37.9375 67.25 40.25 \r\nQ 66.40625 42.578125 64.15625 43.984375 \r\nQ 61.921875 45.40625 58.890625 45.40625 \r\nQ 53.421875 45.40625 49.796875 41.765625 \r\nQ 46.1875 38.140625 46.1875 30.125 \r\nL 46.1875 0 \r\nL 37.40625 0 \r\nL 37.40625 33.6875 \r\nQ 37.40625 39.546875 35.25 42.46875 \r\nQ 33.109375 45.40625 28.21875 45.40625 \r\nQ 24.515625 45.40625 21.359375 43.453125 \r\nQ 18.21875 41.5 16.796875 37.734375 \r\nQ 15.375 33.984375 15.375 26.90625 \r\nL 15.375 0 \r\nz\r\n\" id=\"ArialMT-109\"/>\r\n      <path d=\"M 6.59375 0 \r\nL 6.59375 51.859375 \r\nL 14.5 51.859375 \r\nL 14.5 44.484375 \r\nQ 20.21875 53.03125 31 53.03125 \r\nQ 35.6875 53.03125 39.625 51.34375 \r\nQ 43.5625 49.65625 45.515625 46.921875 \r\nQ 47.46875 44.1875 48.25 40.4375 \r\nQ 48.734375 37.984375 48.734375 31.890625 \r\nL 48.734375 0 \r\nL 39.9375 0 \r\nL 39.9375 31.546875 \r\nQ 39.9375 36.921875 38.90625 39.578125 \r\nQ 37.890625 42.234375 35.28125 43.8125 \r\nQ 32.671875 45.40625 29.15625 45.40625 \r\nQ 23.53125 45.40625 19.453125 41.84375 \r\nQ 15.375 38.28125 15.375 28.328125 \r\nL 15.375 0 \r\nz\r\n\" id=\"ArialMT-110\"/>\r\n     </defs>\r\n     <g style=\"fill:#262626;\" transform=\"translate(190.634688 297.47375)scale(0.12 -0.12)\">\r\n      <use xlink:href=\"#ArialMT-67\"/>\r\n      <use x=\"72.216797\" xlink:href=\"#ArialMT-111\"/>\r\n      <use x=\"127.832031\" xlink:href=\"#ArialMT-108\"/>\r\n      <use x=\"150.048828\" xlink:href=\"#ArialMT-117\"/>\r\n      <use x=\"205.664062\" xlink:href=\"#ArialMT-109\"/>\r\n      <use x=\"288.964844\" xlink:href=\"#ArialMT-110\"/>\r\n     </g>\r\n    </g>\r\n   </g>\r\n   <g id=\"matplotlib.axis_2\">\r\n    <g id=\"ytick_1\">\r\n     <g id=\"line2d_1\">\r\n      <path clip-path=\"url(#p86627ce79e)\" d=\"M 43.908438 224.64 \r\nL 378.708438 224.64 \r\n\" style=\"fill:none;stroke:#cccccc;stroke-linecap:round;\"/>\r\n     </g>\r\n     <g id=\"text_4\">\r\n      <!-- 0 -->\r\n      <defs>\r\n       <path d=\"M 4.15625 35.296875 \r\nQ 4.15625 48 6.765625 55.734375 \r\nQ 9.375 63.484375 14.515625 67.671875 \r\nQ 19.671875 71.875 27.484375 71.875 \r\nQ 33.25 71.875 37.59375 69.546875 \r\nQ 41.9375 67.234375 44.765625 62.859375 \r\nQ 47.609375 58.5 49.21875 52.21875 \r\nQ 50.828125 45.953125 50.828125 35.296875 \r\nQ 50.828125 22.703125 48.234375 14.96875 \r\nQ 45.65625 7.234375 40.5 3 \r\nQ 35.359375 -1.21875 27.484375 -1.21875 \r\nQ 17.140625 -1.21875 11.234375 6.203125 \r\nQ 4.15625 15.140625 4.15625 35.296875 \r\nz\r\nM 13.1875 35.296875 \r\nQ 13.1875 17.671875 17.3125 11.828125 \r\nQ 21.4375 6 27.484375 6 \r\nQ 33.546875 6 37.671875 11.859375 \r\nQ 41.796875 17.71875 41.796875 35.296875 \r\nQ 41.796875 52.984375 37.671875 58.78125 \r\nQ 33.546875 64.59375 27.390625 64.59375 \r\nQ 21.34375 64.59375 17.71875 59.46875 \r\nQ 13.1875 52.9375 13.1875 35.296875 \r\nz\r\n\" id=\"ArialMT-48\"/>\r\n      </defs>\r\n      <g style=\"fill:#262626;\" transform=\"translate(28.291406 228.576797)scale(0.11 -0.11)\">\r\n       <use xlink:href=\"#ArialMT-48\"/>\r\n      </g>\r\n     </g>\r\n    </g>\r\n    <g id=\"ytick_2\">\r\n     <g id=\"line2d_2\">\r\n      <path clip-path=\"url(#p86627ce79e)\" d=\"M 43.908438 177.461767 \r\nL 378.708438 177.461767 \r\n\" style=\"fill:none;stroke:#cccccc;stroke-linecap:round;\"/>\r\n     </g>\r\n     <g id=\"text_5\">\r\n      <!-- 20 -->\r\n      <defs>\r\n       <path d=\"M 50.34375 8.453125 \r\nL 50.34375 0 \r\nL 3.03125 0 \r\nQ 2.9375 3.171875 4.046875 6.109375 \r\nQ 5.859375 10.9375 9.828125 15.625 \r\nQ 13.8125 20.3125 21.34375 26.46875 \r\nQ 33.015625 36.03125 37.109375 41.625 \r\nQ 41.21875 47.21875 41.21875 52.203125 \r\nQ 41.21875 57.421875 37.46875 61 \r\nQ 33.734375 64.59375 27.734375 64.59375 \r\nQ 21.390625 64.59375 17.578125 60.78125 \r\nQ 13.765625 56.984375 13.71875 50.25 \r\nL 4.6875 51.171875 \r\nQ 5.609375 61.28125 11.65625 66.578125 \r\nQ 17.71875 71.875 27.9375 71.875 \r\nQ 38.234375 71.875 44.234375 66.15625 \r\nQ 50.25 60.453125 50.25 52 \r\nQ 50.25 47.703125 48.484375 43.546875 \r\nQ 46.734375 39.40625 42.65625 34.8125 \r\nQ 38.578125 30.21875 29.109375 22.21875 \r\nQ 21.1875 15.578125 18.9375 13.203125 \r\nQ 16.703125 10.84375 15.234375 8.453125 \r\nz\r\n\" id=\"ArialMT-50\"/>\r\n      </defs>\r\n      <g style=\"fill:#262626;\" transform=\"translate(22.174375 181.398564)scale(0.11 -0.11)\">\r\n       <use xlink:href=\"#ArialMT-50\"/>\r\n       <use x=\"55.615234\" xlink:href=\"#ArialMT-48\"/>\r\n      </g>\r\n     </g>\r\n    </g>\r\n    <g id=\"ytick_3\">\r\n     <g id=\"line2d_3\">\r\n      <path clip-path=\"url(#p86627ce79e)\" d=\"M 43.908438 130.283534 \r\nL 378.708438 130.283534 \r\n\" style=\"fill:none;stroke:#cccccc;stroke-linecap:round;\"/>\r\n     </g>\r\n     <g id=\"text_6\">\r\n      <!-- 40 -->\r\n      <defs>\r\n       <path d=\"M 32.328125 0 \r\nL 32.328125 17.140625 \r\nL 1.265625 17.140625 \r\nL 1.265625 25.203125 \r\nL 33.9375 71.578125 \r\nL 41.109375 71.578125 \r\nL 41.109375 25.203125 \r\nL 50.78125 25.203125 \r\nL 50.78125 17.140625 \r\nL 41.109375 17.140625 \r\nL 41.109375 0 \r\nz\r\nM 32.328125 25.203125 \r\nL 32.328125 57.46875 \r\nL 9.90625 25.203125 \r\nz\r\n\" id=\"ArialMT-52\"/>\r\n      </defs>\r\n      <g style=\"fill:#262626;\" transform=\"translate(22.174375 134.220331)scale(0.11 -0.11)\">\r\n       <use xlink:href=\"#ArialMT-52\"/>\r\n       <use x=\"55.615234\" xlink:href=\"#ArialMT-48\"/>\r\n      </g>\r\n     </g>\r\n    </g>\r\n    <g id=\"ytick_4\">\r\n     <g id=\"line2d_4\">\r\n      <path clip-path=\"url(#p86627ce79e)\" d=\"M 43.908438 83.105301 \r\nL 378.708438 83.105301 \r\n\" style=\"fill:none;stroke:#cccccc;stroke-linecap:round;\"/>\r\n     </g>\r\n     <g id=\"text_7\">\r\n      <!-- 60 -->\r\n      <defs>\r\n       <path d=\"M 49.75 54.046875 \r\nL 41.015625 53.375 \r\nQ 39.84375 58.546875 37.703125 60.890625 \r\nQ 34.125 64.65625 28.90625 64.65625 \r\nQ 24.703125 64.65625 21.53125 62.3125 \r\nQ 17.390625 59.28125 14.984375 53.46875 \r\nQ 12.59375 47.65625 12.5 36.921875 \r\nQ 15.671875 41.75 20.265625 44.09375 \r\nQ 24.859375 46.4375 29.890625 46.4375 \r\nQ 38.671875 46.4375 44.84375 39.96875 \r\nQ 51.03125 33.5 51.03125 23.25 \r\nQ 51.03125 16.5 48.125 10.71875 \r\nQ 45.21875 4.9375 40.140625 1.859375 \r\nQ 35.0625 -1.21875 28.609375 -1.21875 \r\nQ 17.625 -1.21875 10.6875 6.859375 \r\nQ 3.765625 14.9375 3.765625 33.5 \r\nQ 3.765625 54.25 11.421875 63.671875 \r\nQ 18.109375 71.875 29.4375 71.875 \r\nQ 37.890625 71.875 43.28125 67.140625 \r\nQ 48.6875 62.40625 49.75 54.046875 \r\nz\r\nM 13.875 23.1875 \r\nQ 13.875 18.65625 15.796875 14.5 \r\nQ 17.71875 10.359375 21.1875 8.171875 \r\nQ 24.65625 6 28.46875 6 \r\nQ 34.03125 6 38.03125 10.484375 \r\nQ 42.046875 14.984375 42.046875 22.703125 \r\nQ 42.046875 30.125 38.078125 34.390625 \r\nQ 34.125 38.671875 28.125 38.671875 \r\nQ 22.171875 38.671875 18.015625 34.390625 \r\nQ 13.875 30.125 13.875 23.1875 \r\nz\r\n\" id=\"ArialMT-54\"/>\r\n      </defs>\r\n      <g style=\"fill:#262626;\" transform=\"translate(22.174375 87.042098)scale(0.11 -0.11)\">\r\n       <use xlink:href=\"#ArialMT-54\"/>\r\n       <use x=\"55.615234\" xlink:href=\"#ArialMT-48\"/>\r\n      </g>\r\n     </g>\r\n    </g>\r\n    <g id=\"ytick_5\">\r\n     <g id=\"line2d_5\">\r\n      <path clip-path=\"url(#p86627ce79e)\" d=\"M 43.908438 35.927068 \r\nL 378.708438 35.927068 \r\n\" style=\"fill:none;stroke:#cccccc;stroke-linecap:round;\"/>\r\n     </g>\r\n     <g id=\"text_8\">\r\n      <!-- 80 -->\r\n      <defs>\r\n       <path d=\"M 17.671875 38.8125 \r\nQ 12.203125 40.828125 9.5625 44.53125 \r\nQ 6.9375 48.25 6.9375 53.421875 \r\nQ 6.9375 61.234375 12.546875 66.546875 \r\nQ 18.171875 71.875 27.484375 71.875 \r\nQ 36.859375 71.875 42.578125 66.421875 \r\nQ 48.296875 60.984375 48.296875 53.171875 \r\nQ 48.296875 48.1875 45.671875 44.5 \r\nQ 43.0625 40.828125 37.75 38.8125 \r\nQ 44.34375 36.671875 47.78125 31.875 \r\nQ 51.21875 27.09375 51.21875 20.453125 \r\nQ 51.21875 11.28125 44.71875 5.03125 \r\nQ 38.234375 -1.21875 27.640625 -1.21875 \r\nQ 17.046875 -1.21875 10.546875 5.046875 \r\nQ 4.046875 11.328125 4.046875 20.703125 \r\nQ 4.046875 27.6875 7.59375 32.390625 \r\nQ 11.140625 37.109375 17.671875 38.8125 \r\nz\r\nM 15.921875 53.71875 \r\nQ 15.921875 48.640625 19.1875 45.40625 \r\nQ 22.46875 42.1875 27.6875 42.1875 \r\nQ 32.765625 42.1875 36.015625 45.375 \r\nQ 39.265625 48.578125 39.265625 53.21875 \r\nQ 39.265625 58.0625 35.90625 61.359375 \r\nQ 32.5625 64.65625 27.59375 64.65625 \r\nQ 22.5625 64.65625 19.234375 61.421875 \r\nQ 15.921875 58.203125 15.921875 53.71875 \r\nz\r\nM 13.09375 20.65625 \r\nQ 13.09375 16.890625 14.875 13.375 \r\nQ 16.65625 9.859375 20.171875 7.921875 \r\nQ 23.6875 6 27.734375 6 \r\nQ 34.03125 6 38.125 10.046875 \r\nQ 42.234375 14.109375 42.234375 20.359375 \r\nQ 42.234375 26.703125 38.015625 30.859375 \r\nQ 33.796875 35.015625 27.4375 35.015625 \r\nQ 21.234375 35.015625 17.15625 30.90625 \r\nQ 13.09375 26.8125 13.09375 20.65625 \r\nz\r\n\" id=\"ArialMT-56\"/>\r\n      </defs>\r\n      <g style=\"fill:#262626;\" transform=\"translate(22.174375 39.863865)scale(0.11 -0.11)\">\r\n       <use xlink:href=\"#ArialMT-56\"/>\r\n       <use x=\"55.615234\" xlink:href=\"#ArialMT-48\"/>\r\n      </g>\r\n     </g>\r\n    </g>\r\n    <g id=\"text_9\">\r\n     <!-- Percentual -->\r\n     <defs>\r\n      <path d=\"M 7.71875 0 \r\nL 7.71875 71.578125 \r\nL 34.71875 71.578125 \r\nQ 41.84375 71.578125 45.609375 70.90625 \r\nQ 50.875 70.015625 54.4375 67.546875 \r\nQ 58.015625 65.09375 60.1875 60.640625 \r\nQ 62.359375 56.203125 62.359375 50.875 \r\nQ 62.359375 41.75 56.546875 35.421875 \r\nQ 50.734375 29.109375 35.546875 29.109375 \r\nL 17.1875 29.109375 \r\nL 17.1875 0 \r\nz\r\nM 17.1875 37.546875 \r\nL 35.6875 37.546875 \r\nQ 44.875 37.546875 48.734375 40.96875 \r\nQ 52.59375 44.390625 52.59375 50.59375 \r\nQ 52.59375 55.078125 50.3125 58.265625 \r\nQ 48.046875 61.46875 44.34375 62.5 \r\nQ 41.9375 63.140625 35.5 63.140625 \r\nL 17.1875 63.140625 \r\nz\r\n\" id=\"ArialMT-80\"/>\r\n      <path d=\"M 6.5 0 \r\nL 6.5 51.859375 \r\nL 14.40625 51.859375 \r\nL 14.40625 44 \r\nQ 17.4375 49.515625 20 51.265625 \r\nQ 22.5625 53.03125 25.640625 53.03125 \r\nQ 30.078125 53.03125 34.671875 50.203125 \r\nL 31.640625 42.046875 \r\nQ 28.421875 43.953125 25.203125 43.953125 \r\nQ 22.3125 43.953125 20.015625 42.21875 \r\nQ 17.71875 40.484375 16.75 37.40625 \r\nQ 15.28125 32.71875 15.28125 27.15625 \r\nL 15.28125 0 \r\nz\r\n\" id=\"ArialMT-114\"/>\r\n      <path d=\"M 40.4375 19 \r\nL 49.078125 17.875 \r\nQ 47.65625 8.9375 41.8125 3.875 \r\nQ 35.984375 -1.171875 27.484375 -1.171875 \r\nQ 16.84375 -1.171875 10.375 5.78125 \r\nQ 3.90625 12.75 3.90625 25.734375 \r\nQ 3.90625 34.125 6.6875 40.421875 \r\nQ 9.46875 46.734375 15.15625 49.875 \r\nQ 20.84375 53.03125 27.546875 53.03125 \r\nQ 35.984375 53.03125 41.359375 48.75 \r\nQ 46.734375 44.484375 48.25 36.625 \r\nL 39.703125 35.296875 \r\nQ 38.484375 40.53125 35.375 43.15625 \r\nQ 32.28125 45.796875 27.875 45.796875 \r\nQ 21.234375 45.796875 17.078125 41.03125 \r\nQ 12.9375 36.28125 12.9375 25.984375 \r\nQ 12.9375 15.53125 16.9375 10.796875 \r\nQ 20.953125 6.0625 27.390625 6.0625 \r\nQ 32.5625 6.0625 36.03125 9.234375 \r\nQ 39.5 12.40625 40.4375 19 \r\nz\r\n\" id=\"ArialMT-99\"/>\r\n     </defs>\r\n     <g style=\"fill:#262626;\" transform=\"translate(15.789375 144.602812)rotate(-90)scale(0.12 -0.12)\">\r\n      <use xlink:href=\"#ArialMT-80\"/>\r\n      <use x=\"66.699219\" xlink:href=\"#ArialMT-101\"/>\r\n      <use x=\"122.314453\" xlink:href=\"#ArialMT-114\"/>\r\n      <use x=\"155.615234\" xlink:href=\"#ArialMT-99\"/>\r\n      <use x=\"205.615234\" xlink:href=\"#ArialMT-101\"/>\r\n      <use x=\"261.230469\" xlink:href=\"#ArialMT-110\"/>\r\n      <use x=\"316.845703\" xlink:href=\"#ArialMT-116\"/>\r\n      <use x=\"344.628906\" xlink:href=\"#ArialMT-117\"/>\r\n      <use x=\"400.244141\" xlink:href=\"#ArialMT-97\"/>\r\n      <use x=\"455.859375\" xlink:href=\"#ArialMT-108\"/>\r\n     </g>\r\n    </g>\r\n   </g>\r\n   <g id=\"patch_3\">\r\n    <path clip-path=\"url(#p86627ce79e)\" d=\"M 60.648438 224.64 \r\nL 194.568438 224.64 \r\nL 194.568438 38.599901 \r\nL 60.648438 38.599901 \r\nz\r\n\" style=\"fill:#5875a4;stroke:#ffffff;stroke-linejoin:miter;\"/>\r\n   </g>\r\n   <g id=\"patch_4\">\r\n    <path clip-path=\"url(#p86627ce79e)\" d=\"M 228.048438 224.64 \r\nL 361.968437 224.64 \r\nL 361.968437 17.554286 \r\nL 228.048438 17.554286 \r\nz\r\n\" style=\"fill:#cc8963;stroke:#ffffff;stroke-linejoin:miter;\"/>\r\n   </g>\r\n   <g id=\"line2d_6\">\r\n    <path clip-path=\"url(#p86627ce79e)\" style=\"fill:none;stroke:#424242;stroke-linecap:round;stroke-width:2.7;\"/>\r\n   </g>\r\n   <g id=\"line2d_7\">\r\n    <path clip-path=\"url(#p86627ce79e)\" style=\"fill:none;stroke:#424242;stroke-linecap:round;stroke-width:2.7;\"/>\r\n   </g>\r\n   <g id=\"patch_5\">\r\n    <path d=\"M 43.908438 224.64 \r\nL 43.908438 7.2 \r\n\" style=\"fill:none;stroke:#cccccc;stroke-linecap:square;stroke-linejoin:miter;stroke-width:1.25;\"/>\r\n   </g>\r\n   <g id=\"patch_6\">\r\n    <path d=\"M 378.708438 224.64 \r\nL 378.708438 7.2 \r\n\" style=\"fill:none;stroke:#cccccc;stroke-linecap:square;stroke-linejoin:miter;stroke-width:1.25;\"/>\r\n   </g>\r\n   <g id=\"patch_7\">\r\n    <path d=\"M 43.908438 224.64 \r\nL 378.708438 224.64 \r\n\" style=\"fill:none;stroke:#cccccc;stroke-linecap:square;stroke-linejoin:miter;stroke-width:1.25;\"/>\r\n   </g>\r\n   <g id=\"patch_8\">\r\n    <path d=\"M 43.908438 7.2 \r\nL 378.708438 7.2 \r\n\" style=\"fill:none;stroke:#cccccc;stroke-linecap:square;stroke-linejoin:miter;stroke-width:1.25;\"/>\r\n   </g>\r\n  </g>\r\n </g>\r\n <defs>\r\n  <clipPath id=\"p86627ce79e\">\r\n   <rect height=\"217.44\" width=\"334.8\" x=\"43.908438\" y=\"7.2\"/>\r\n  </clipPath>\r\n </defs>\r\n</svg>\r\n",
      "image/png": "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\n"
     },
     "metadata": {}
    },
    {
     "output_type": "stream",
     "name": "stdout",
     "text": [
      "              Percentual        Column\n",
      "Name                                  \n",
      "disabilities   78.866921  disabilities\n",
      "SA1            87.788669           SA1\n",
      "C:\\Users\\dttt1\\AppData\\Roaming\\Python\\Python38\\site-packages\\pandas\\core\\indexing.py:966: SettingWithCopyWarning: \n",
      "A value is trying to be set on a copy of a slice from a DataFrame.\n",
      "Try using .loc[row_indexer,col_indexer] = value instead\n",
      "\n",
      "See the caveats in the documentation: https://pandas.pydata.org/pandas-docs/stable/user_guide/indexing.html#returning-a-view-versus-a-copy\n",
      "  self.obj[item] = s\n"
     ]
    }
   ],
=======
   "execution_count": null,
   "metadata": {},
   "outputs": [],
>>>>>>> 8f720b2b4e9cec63e694a4d42aa154bd5f56dde0
   "source": [
    "# Check if there any NaN Field\n",
    "plotNaNValuesColums(df_members_supported)\n",
    "\n",
    "# Although amount of null values in the columns is high they are keeped in the dataSet\n",
<<<<<<< HEAD
    "#  And it is assigned 'Not Assigned' to the null values in u_disabilities and SA1\n",
    "df_members_supported.loc[df_members_supported['disabilities'].isnull(),['disabilities']] = \"Not Assigned\"\n",
    "df_members_supported.loc[df_members_supported['SA1'].isnull(),['SA1']] = \"Not Assigned\"\n",
=======
    "#  And it is assigned 'No Assigned' to the null values in u_disabilities and SA1\n",
    "df_members_supported.loc[df_members_supported['disabilities'].isnull(),['disabilities']] = \"No Assigned\"\n",
    "df_members_supported.loc[df_members_supported['SA1'].isnull(),['SA1']] = \"No Assigned\"\n",
>>>>>>> 8f720b2b4e9cec63e694a4d42aa154bd5f56dde0
    "\n",
    "df_members_cleased = df_members_supported"
   ]
  },
  {
   "source": [
    "### Plans and budgets dataset cleasing"
   ],
   "cell_type": "markdown",
   "metadata": {}
  },
  {
   "cell_type": "code",
<<<<<<< HEAD
   "execution_count": 7,
   "metadata": {},
   "outputs": [
    {
     "output_type": "stream",
     "name": "stdout",
     "text": [
      "<class 'pandas.core.frame.DataFrame'>\nRangeIndex: 69470 entries, 0 to 69469\nData columns (total 18 columns):\n #   Column                    Non-Null Count  Dtype  \n---  ------                    --------------  -----  \n 0   member_key                69470 non-null  object \n 1   plan_key                  69470 non-null  object \n 2   plan_start_date           69470 non-null  object \n 3   plan_start_date.1         69470 non-null  object \n 4   status                    69470 non-null  object \n 5   id_budget                 69470 non-null  int64  \n 6   budget_number             66164 non-null  object \n 7   opening_balance           19824 non-null  float64\n 8   closing_balance           19824 non-null  float64\n 9   level2_key                69470 non-null  object \n 10  level2_name               69470 non-null  object \n 11  level1_key                69470 non-null  object \n 12  level1_name               69470 non-null  object \n 13  item_category_level3_key  1213 non-null   object \n 14  budget_level3_name        1213 non-null   object \n 15  value_allocated_budget    69470 non-null  float64\n 16  value_remained_budget     69470 non-null  float64\n 17  status_budget             69470 non-null  object \ndtypes: float64(4), int64(1), object(13)\nmemory usage: 6.1+ MB\n"
     ]
    }
   ],
=======
   "execution_count": null,
   "metadata": {},
   "outputs": [],
>>>>>>> 8f720b2b4e9cec63e694a4d42aa154bd5f56dde0
   "source": [
    "# Check the dataSet fields\n",
    "df_plans_budgets_all_fields.info()"
   ]
  },
  {
   "cell_type": "code",
<<<<<<< HEAD
   "execution_count": 8,
   "metadata": {},
   "outputs": [
    {
     "output_type": "execute_result",
     "data": {
      "text/plain": [
       "                             member_key                              plan_key  \\\n",
       "0  ef0ab4c0-891b-11ea-a119-35e8388a5f49  29b86641-62d2-4eb2-9222-311b16ef74cc   \n",
       "1  6a535640-8b5c-11ea-9eec-315ed4b1385b  ea2cc969-6c3f-4dbc-9ebe-30df0c9f5b33   \n",
       "2  6a535640-8b5c-11ea-9eec-315ed4b1385b  ea2cc969-6c3f-4dbc-9ebe-30df0c9f5b33   \n",
       "3  472c17f0-9409-11ea-ba24-1f1ea52ce5bc  dd735ad0-05eb-42ce-91ba-36e1e032a67a   \n",
       "\n",
       "  plan_start_date plan_start_date.1                status  id_budget  \\\n",
       "0      2020-04-24        2021-04-23  PLAN_DELIVERY_ACTIVE          1   \n",
       "1      2020-04-20        2021-04-20  PLAN_DELIVERY_ACTIVE          2   \n",
       "2      2020-04-20        2021-04-20  PLAN_DELIVERY_ACTIVE          3   \n",
       "3      2019-09-11        2020-08-17             COMPLETED          4   \n",
       "\n",
       "  budget_number  opening_balance  closing_balance  \\\n",
       "0      55508918              NaN              NaN   \n",
       "1      55539563              NaN              NaN   \n",
       "2      55539563              NaN              NaN   \n",
       "3      55612635              NaN              NaN   \n",
       "\n",
       "                             level2_key                   level2_name  \\\n",
       "0  7d0af57b-f597-11e9-bfb4-022d4762bb3c  Improved daily living skills   \n",
       "1  7d0af57b-f597-11e9-bfb4-022d4762bb3c  Improved daily living skills   \n",
       "2  7d0af5b1-f597-11e9-bfb4-022d4762bb3c                   Consumables   \n",
       "3  7d0af57b-f597-11e9-bfb4-022d4762bb3c  Improved daily living skills   \n",
       "\n",
       "                             level1_key        level1_name  \\\n",
       "0  5874551b-f597-11e9-bfb4-022d4762bb3c  Capacity Building   \n",
       "1  5874551b-f597-11e9-bfb4-022d4762bb3c  Capacity Building   \n",
       "2  58745466-f597-11e9-bfb4-022d4762bb3c               Core   \n",
       "3  5874551b-f597-11e9-bfb4-022d4762bb3c  Capacity Building   \n",
       "\n",
       "  item_category_level3_key budget_level3_name  value_allocated_budget  \\\n",
       "0                      NaN                NaN                 8168.00   \n",
       "1                      NaN                NaN                 7682.04   \n",
       "2                      NaN                NaN                  300.00   \n",
       "3                      NaN                NaN                 6972.41   \n",
       "\n",
       "   value_remained_budget status_budget  \n",
       "0                8168.00     CONFIRMED  \n",
       "1                7682.04     CONFIRMED  \n",
       "2                 300.00     CONFIRMED  \n",
       "3                6972.41     CONFIRMED  "
      ],
      "text/html": "<div>\n<style scoped>\n    .dataframe tbody tr th:only-of-type {\n        vertical-align: middle;\n    }\n\n    .dataframe tbody tr th {\n        vertical-align: top;\n    }\n\n    .dataframe thead th {\n        text-align: right;\n    }\n</style>\n<table border=\"1\" class=\"dataframe\">\n  <thead>\n    <tr style=\"text-align: right;\">\n      <th></th>\n      <th>member_key</th>\n      <th>plan_key</th>\n      <th>plan_start_date</th>\n      <th>plan_start_date.1</th>\n      <th>status</th>\n      <th>id_budget</th>\n      <th>budget_number</th>\n      <th>opening_balance</th>\n      <th>closing_balance</th>\n      <th>level2_key</th>\n      <th>level2_name</th>\n      <th>level1_key</th>\n      <th>level1_name</th>\n      <th>item_category_level3_key</th>\n      <th>budget_level3_name</th>\n      <th>value_allocated_budget</th>\n      <th>value_remained_budget</th>\n      <th>status_budget</th>\n    </tr>\n  </thead>\n  <tbody>\n    <tr>\n      <th>0</th>\n      <td>ef0ab4c0-891b-11ea-a119-35e8388a5f49</td>\n      <td>29b86641-62d2-4eb2-9222-311b16ef74cc</td>\n      <td>2020-04-24</td>\n      <td>2021-04-23</td>\n      <td>PLAN_DELIVERY_ACTIVE</td>\n      <td>1</td>\n      <td>55508918</td>\n      <td>NaN</td>\n      <td>NaN</td>\n      <td>7d0af57b-f597-11e9-bfb4-022d4762bb3c</td>\n      <td>Improved daily living skills</td>\n      <td>5874551b-f597-11e9-bfb4-022d4762bb3c</td>\n      <td>Capacity Building</td>\n      <td>NaN</td>\n      <td>NaN</td>\n      <td>8168.00</td>\n      <td>8168.00</td>\n      <td>CONFIRMED</td>\n    </tr>\n    <tr>\n      <th>1</th>\n      <td>6a535640-8b5c-11ea-9eec-315ed4b1385b</td>\n      <td>ea2cc969-6c3f-4dbc-9ebe-30df0c9f5b33</td>\n      <td>2020-04-20</td>\n      <td>2021-04-20</td>\n      <td>PLAN_DELIVERY_ACTIVE</td>\n      <td>2</td>\n      <td>55539563</td>\n      <td>NaN</td>\n      <td>NaN</td>\n      <td>7d0af57b-f597-11e9-bfb4-022d4762bb3c</td>\n      <td>Improved daily living skills</td>\n      <td>5874551b-f597-11e9-bfb4-022d4762bb3c</td>\n      <td>Capacity Building</td>\n      <td>NaN</td>\n      <td>NaN</td>\n      <td>7682.04</td>\n      <td>7682.04</td>\n      <td>CONFIRMED</td>\n    </tr>\n    <tr>\n      <th>2</th>\n      <td>6a535640-8b5c-11ea-9eec-315ed4b1385b</td>\n      <td>ea2cc969-6c3f-4dbc-9ebe-30df0c9f5b33</td>\n      <td>2020-04-20</td>\n      <td>2021-04-20</td>\n      <td>PLAN_DELIVERY_ACTIVE</td>\n      <td>3</td>\n      <td>55539563</td>\n      <td>NaN</td>\n      <td>NaN</td>\n      <td>7d0af5b1-f597-11e9-bfb4-022d4762bb3c</td>\n      <td>Consumables</td>\n      <td>58745466-f597-11e9-bfb4-022d4762bb3c</td>\n      <td>Core</td>\n      <td>NaN</td>\n      <td>NaN</td>\n      <td>300.00</td>\n      <td>300.00</td>\n      <td>CONFIRMED</td>\n    </tr>\n    <tr>\n      <th>3</th>\n      <td>472c17f0-9409-11ea-ba24-1f1ea52ce5bc</td>\n      <td>dd735ad0-05eb-42ce-91ba-36e1e032a67a</td>\n      <td>2019-09-11</td>\n      <td>2020-08-17</td>\n      <td>COMPLETED</td>\n      <td>4</td>\n      <td>55612635</td>\n      <td>NaN</td>\n      <td>NaN</td>\n      <td>7d0af57b-f597-11e9-bfb4-022d4762bb3c</td>\n      <td>Improved daily living skills</td>\n      <td>5874551b-f597-11e9-bfb4-022d4762bb3c</td>\n      <td>Capacity Building</td>\n      <td>NaN</td>\n      <td>NaN</td>\n      <td>6972.41</td>\n      <td>6972.41</td>\n      <td>CONFIRMED</td>\n    </tr>\n  </tbody>\n</table>\n</div>"
     },
     "metadata": {},
     "execution_count": 8
    }
   ],
=======
   "execution_count": null,
   "metadata": {},
   "outputs": [],
>>>>>>> 8f720b2b4e9cec63e694a4d42aa154bd5f56dde0
   "source": [
    "df_plans_budgets_all_fields.head(4)"
   ]
  },
  {
   "cell_type": "code",
<<<<<<< HEAD
   "execution_count": 9,
   "metadata": {},
   "outputs": [
    {
     "output_type": "stream",
     "name": "stderr",
     "text": [
      "C:\\Users\\dttt1\\AppData\\Roaming\\Python\\Python38\\site-packages\\pandas\\core\\frame.py:4125: SettingWithCopyWarning: \nA value is trying to be set on a copy of a slice from a DataFrame\n\nSee the caveats in the documentation: https://pandas.pydata.org/pandas-docs/stable/user_guide/indexing.html#returning-a-view-versus-a-copy\n  return super().rename(\n"
     ]
    }
   ],
=======
   "execution_count": null,
   "metadata": {},
   "outputs": [],
>>>>>>> 8f720b2b4e9cec63e694a4d42aa154bd5f56dde0
   "source": [
    "# Select just the fields to be used\n",
    "df_plans_budgets = df_plans_budgets_all_fields[{\"member_key\"\n",
    "                                              , \"plan_key\"\n",
    "                                              , \"plan_start_date\" \n",
    "                                              , \"plan_start_date.1\"\n",
    "                                              , \"status\"\n",
<<<<<<< HEAD
    "                                              , \"budget_number\"                                              \n",
=======
    "                                              , \"budget_number\"\n",
>>>>>>> 8f720b2b4e9cec63e694a4d42aa154bd5f56dde0
    "                                              , \"level2_key\"\n",
    "                                              , \"level2_name\"\n",
    "                                              , \"level1_key\"\n",
    "                                              , \"level1_name\"\n",
    "                                              , \"item_category_level3_key\"\n",
<<<<<<< HEAD
    "                                              , \"budget_level3_name\"\n",
=======
    "                                              , \"name_stated_item\"\n",
>>>>>>> 8f720b2b4e9cec63e694a4d42aa154bd5f56dde0
    "                                              , \"opening_balance\"\n",
    "                                              , \"closing_balance\"\n",
    "                                              , \"value_allocated_budget\"\n",
    "                                              , \"status_budget\"\n",
    "                                              }]\n",
    "\n",
    "\n",
    "# Rename some dataSet colums to create a name's pattern\n",
    "df_plans_budgets.rename(columns={'plan_start_date.1':'plan_end_date'\n",
    "                               , 'status':'plan_status'                               \n",
    "                               , 'status_budget':'budget_status'\n",
    "                               , 'value_allocated_budget':'budget_value_allocated'\n",
    "                               , 'level2_key':'budget_level2_key'\n",
    "                               , 'level2_name':'budget_level2_name'\n",
    "                               , 'level2_display_name':'budget_level2_display_name'\n",
    "                               , 'level1_key':'budget_level1_key'\n",
    "                               , 'level1_name':'budget_level1_name'\n",
    "                               , 'item_category_level3_key':'budget_level3_key'\n",
<<<<<<< HEAD
    "                               , 'level3_reference_number':'budget_level3_reference_number'                               \n",
=======
    "                               , 'level3_reference_number':'budget_level3_reference_number'\n",
    "                               , 'name_stated_item':'budget_level3_name'                               \n",
>>>>>>> 8f720b2b4e9cec63e694a4d42aa154bd5f56dde0
    "                                } , inplace = True)                            "
   ]
  },
  {
   "cell_type": "code",
<<<<<<< HEAD
   "execution_count": 10,
   "metadata": {},
   "outputs": [
    {
     "output_type": "execute_result",
     "data": {
      "text/plain": [
       "array(['CONFIRMED', 'UNCONFIRMED'], dtype=object)"
      ]
     },
     "metadata": {},
     "execution_count": 10
    }
   ],
=======
   "execution_count": null,
   "metadata": {},
   "outputs": [],
>>>>>>> 8f720b2b4e9cec63e694a4d42aa154bd5f56dde0
   "source": [
    "# Check the Budget's status in the dataSet\n",
    "np.unique(df_plans_budgets['budget_status'])"
   ]
  },
  {
   "cell_type": "code",
<<<<<<< HEAD
   "execution_count": 11,
   "metadata": {},
   "outputs": [
    {
     "output_type": "display_data",
     "data": {
      "text/plain": "<Figure size 432x288 with 1 Axes>",
      "image/svg+xml": "<?xml version=\"1.0\" encoding=\"utf-8\" standalone=\"no\"?>\r\n<!DOCTYPE svg PUBLIC \"-//W3C//DTD SVG 1.1//EN\"\r\n  \"http://www.w3.org/Graphics/SVG/1.1/DTD/svg11.dtd\">\r\n<!-- Created with matplotlib (https://matplotlib.org/) -->\r\n<svg height=\"358.4425pt\" version=\"1.1\" viewBox=\"0 0 392.025469 358.4425\" width=\"392.025469pt\" xmlns=\"http://www.w3.org/2000/svg\" xmlns:xlink=\"http://www.w3.org/1999/xlink\">\r\n <defs>\r\n  <style type=\"text/css\">\r\n*{stroke-linecap:butt;stroke-linejoin:round;}\r\n  </style>\r\n </defs>\r\n <g id=\"figure_1\">\r\n  <g id=\"patch_1\">\r\n   <path d=\"M 0 358.4425 \r\nL 392.025469 358.4425 \r\nL 392.025469 0 \r\nL 0 0 \r\nz\r\n\" style=\"fill:#ffffff;\"/>\r\n  </g>\r\n  <g id=\"axes_1\">\r\n   <g id=\"patch_2\">\r\n    <path d=\"M 50.025469 224.64 \r\nL 384.825469 224.64 \r\nL 384.825469 7.2 \r\nL 50.025469 7.2 \r\nz\r\n\" style=\"fill:#ffffff;\"/>\r\n   </g>\r\n   <g id=\"matplotlib.axis_1\">\r\n    <g id=\"xtick_1\">\r\n     <g id=\"text_1\">\r\n      <!-- budget_number -->\r\n      <defs>\r\n       <path d=\"M 14.703125 0 \r\nL 6.546875 0 \r\nL 6.546875 71.578125 \r\nL 15.328125 71.578125 \r\nL 15.328125 46.046875 \r\nQ 20.90625 53.03125 29.546875 53.03125 \r\nQ 34.328125 53.03125 38.59375 51.09375 \r\nQ 42.875 49.171875 45.625 45.671875 \r\nQ 48.390625 42.1875 49.953125 37.25 \r\nQ 51.515625 32.328125 51.515625 26.703125 \r\nQ 51.515625 13.375 44.921875 6.09375 \r\nQ 38.328125 -1.171875 29.109375 -1.171875 \r\nQ 19.921875 -1.171875 14.703125 6.5 \r\nz\r\nM 14.59375 26.3125 \r\nQ 14.59375 17 17.140625 12.84375 \r\nQ 21.296875 6.0625 28.375 6.0625 \r\nQ 34.125 6.0625 38.328125 11.0625 \r\nQ 42.53125 16.0625 42.53125 25.984375 \r\nQ 42.53125 36.140625 38.5 40.96875 \r\nQ 34.46875 45.796875 28.765625 45.796875 \r\nQ 23 45.796875 18.796875 40.796875 \r\nQ 14.59375 35.796875 14.59375 26.3125 \r\nz\r\n\" id=\"ArialMT-98\"/>\r\n       <path d=\"M 40.578125 0 \r\nL 40.578125 7.625 \r\nQ 34.515625 -1.171875 24.125 -1.171875 \r\nQ 19.53125 -1.171875 15.546875 0.578125 \r\nQ 11.578125 2.34375 9.640625 5 \r\nQ 7.71875 7.671875 6.9375 11.53125 \r\nQ 6.390625 14.109375 6.390625 19.734375 \r\nL 6.390625 51.859375 \r\nL 15.1875 51.859375 \r\nL 15.1875 23.09375 \r\nQ 15.1875 16.21875 15.71875 13.8125 \r\nQ 16.546875 10.359375 19.234375 8.375 \r\nQ 21.921875 6.390625 25.875 6.390625 \r\nQ 29.828125 6.390625 33.296875 8.421875 \r\nQ 36.765625 10.453125 38.203125 13.9375 \r\nQ 39.65625 17.4375 39.65625 24.078125 \r\nL 39.65625 51.859375 \r\nL 48.4375 51.859375 \r\nL 48.4375 0 \r\nz\r\n\" id=\"ArialMT-117\"/>\r\n       <path d=\"M 40.234375 0 \r\nL 40.234375 6.546875 \r\nQ 35.296875 -1.171875 25.734375 -1.171875 \r\nQ 19.53125 -1.171875 14.328125 2.25 \r\nQ 9.125 5.671875 6.265625 11.796875 \r\nQ 3.421875 17.921875 3.421875 25.875 \r\nQ 3.421875 33.640625 6 39.96875 \r\nQ 8.59375 46.296875 13.765625 49.65625 \r\nQ 18.953125 53.03125 25.34375 53.03125 \r\nQ 30.03125 53.03125 33.6875 51.046875 \r\nQ 37.359375 49.078125 39.65625 45.90625 \r\nL 39.65625 71.578125 \r\nL 48.390625 71.578125 \r\nL 48.390625 0 \r\nz\r\nM 12.453125 25.875 \r\nQ 12.453125 15.921875 16.640625 10.984375 \r\nQ 20.84375 6.0625 26.5625 6.0625 \r\nQ 32.328125 6.0625 36.34375 10.765625 \r\nQ 40.375 15.484375 40.375 25.140625 \r\nQ 40.375 35.796875 36.265625 40.765625 \r\nQ 32.171875 45.75 26.171875 45.75 \r\nQ 20.3125 45.75 16.375 40.96875 \r\nQ 12.453125 36.1875 12.453125 25.875 \r\nz\r\n\" id=\"ArialMT-100\"/>\r\n       <path d=\"M 4.984375 -4.296875 \r\nL 13.53125 -5.5625 \r\nQ 14.0625 -9.515625 16.5 -11.328125 \r\nQ 19.78125 -13.765625 25.4375 -13.765625 \r\nQ 31.546875 -13.765625 34.859375 -11.328125 \r\nQ 38.1875 -8.890625 39.359375 -4.5 \r\nQ 40.046875 -1.8125 39.984375 6.78125 \r\nQ 34.234375 0 25.640625 0 \r\nQ 14.9375 0 9.078125 7.71875 \r\nQ 3.21875 15.4375 3.21875 26.21875 \r\nQ 3.21875 33.640625 5.90625 39.90625 \r\nQ 8.59375 46.1875 13.6875 49.609375 \r\nQ 18.796875 53.03125 25.6875 53.03125 \r\nQ 34.859375 53.03125 40.828125 45.609375 \r\nL 40.828125 51.859375 \r\nL 48.921875 51.859375 \r\nL 48.921875 7.03125 \r\nQ 48.921875 -5.078125 46.453125 -10.125 \r\nQ 44 -15.1875 38.640625 -18.109375 \r\nQ 33.296875 -21.046875 25.484375 -21.046875 \r\nQ 16.21875 -21.046875 10.5 -16.875 \r\nQ 4.78125 -12.703125 4.984375 -4.296875 \r\nz\r\nM 12.25 26.859375 \r\nQ 12.25 16.65625 16.296875 11.96875 \r\nQ 20.359375 7.28125 26.46875 7.28125 \r\nQ 32.515625 7.28125 36.609375 11.9375 \r\nQ 40.71875 16.609375 40.71875 26.5625 \r\nQ 40.71875 36.078125 36.5 40.90625 \r\nQ 32.28125 45.75 26.3125 45.75 \r\nQ 20.453125 45.75 16.34375 40.984375 \r\nQ 12.25 36.234375 12.25 26.859375 \r\nz\r\n\" id=\"ArialMT-103\"/>\r\n       <path d=\"M 42.09375 16.703125 \r\nL 51.171875 15.578125 \r\nQ 49.03125 7.625 43.21875 3.21875 \r\nQ 37.40625 -1.171875 28.375 -1.171875 \r\nQ 17 -1.171875 10.328125 5.828125 \r\nQ 3.65625 12.84375 3.65625 25.484375 \r\nQ 3.65625 38.578125 10.390625 45.796875 \r\nQ 17.140625 53.03125 27.875 53.03125 \r\nQ 38.28125 53.03125 44.875 45.953125 \r\nQ 51.46875 38.875 51.46875 26.03125 \r\nQ 51.46875 25.25 51.421875 23.6875 \r\nL 12.75 23.6875 \r\nQ 13.234375 15.140625 17.578125 10.59375 \r\nQ 21.921875 6.0625 28.421875 6.0625 \r\nQ 33.25 6.0625 36.671875 8.59375 \r\nQ 40.09375 11.140625 42.09375 16.703125 \r\nz\r\nM 13.234375 30.90625 \r\nL 42.1875 30.90625 \r\nQ 41.609375 37.453125 38.875 40.71875 \r\nQ 34.671875 45.796875 27.984375 45.796875 \r\nQ 21.921875 45.796875 17.796875 41.75 \r\nQ 13.671875 37.703125 13.234375 30.90625 \r\nz\r\n\" id=\"ArialMT-101\"/>\r\n       <path d=\"M 25.78125 7.859375 \r\nL 27.046875 0.09375 \r\nQ 23.34375 -0.6875 20.40625 -0.6875 \r\nQ 15.625 -0.6875 12.984375 0.828125 \r\nQ 10.359375 2.34375 9.28125 4.8125 \r\nQ 8.203125 7.28125 8.203125 15.1875 \r\nL 8.203125 45.015625 \r\nL 1.765625 45.015625 \r\nL 1.765625 51.859375 \r\nL 8.203125 51.859375 \r\nL 8.203125 64.703125 \r\nL 16.9375 69.96875 \r\nL 16.9375 51.859375 \r\nL 25.78125 51.859375 \r\nL 25.78125 45.015625 \r\nL 16.9375 45.015625 \r\nL 16.9375 14.703125 \r\nQ 16.9375 10.9375 17.40625 9.859375 \r\nQ 17.875 8.796875 18.921875 8.15625 \r\nQ 19.96875 7.515625 21.921875 7.515625 \r\nQ 23.390625 7.515625 25.78125 7.859375 \r\nz\r\n\" id=\"ArialMT-116\"/>\r\n       <path d=\"M -1.515625 -19.875 \r\nL -1.515625 -13.53125 \r\nL 56.734375 -13.53125 \r\nL 56.734375 -19.875 \r\nz\r\n\" id=\"ArialMT-95\"/>\r\n       <path d=\"M 6.59375 0 \r\nL 6.59375 51.859375 \r\nL 14.5 51.859375 \r\nL 14.5 44.484375 \r\nQ 20.21875 53.03125 31 53.03125 \r\nQ 35.6875 53.03125 39.625 51.34375 \r\nQ 43.5625 49.65625 45.515625 46.921875 \r\nQ 47.46875 44.1875 48.25 40.4375 \r\nQ 48.734375 37.984375 48.734375 31.890625 \r\nL 48.734375 0 \r\nL 39.9375 0 \r\nL 39.9375 31.546875 \r\nQ 39.9375 36.921875 38.90625 39.578125 \r\nQ 37.890625 42.234375 35.28125 43.8125 \r\nQ 32.671875 45.40625 29.15625 45.40625 \r\nQ 23.53125 45.40625 19.453125 41.84375 \r\nQ 15.375 38.28125 15.375 28.328125 \r\nL 15.375 0 \r\nz\r\n\" id=\"ArialMT-110\"/>\r\n       <path d=\"M 6.59375 0 \r\nL 6.59375 51.859375 \r\nL 14.453125 51.859375 \r\nL 14.453125 44.578125 \r\nQ 16.890625 48.390625 20.9375 50.703125 \r\nQ 25 53.03125 30.171875 53.03125 \r\nQ 35.9375 53.03125 39.625 50.640625 \r\nQ 43.3125 48.25 44.828125 43.953125 \r\nQ 50.984375 53.03125 60.84375 53.03125 \r\nQ 68.5625 53.03125 72.703125 48.75 \r\nQ 76.859375 44.484375 76.859375 35.59375 \r\nL 76.859375 0 \r\nL 68.109375 0 \r\nL 68.109375 32.671875 \r\nQ 68.109375 37.9375 67.25 40.25 \r\nQ 66.40625 42.578125 64.15625 43.984375 \r\nQ 61.921875 45.40625 58.890625 45.40625 \r\nQ 53.421875 45.40625 49.796875 41.765625 \r\nQ 46.1875 38.140625 46.1875 30.125 \r\nL 46.1875 0 \r\nL 37.40625 0 \r\nL 37.40625 33.6875 \r\nQ 37.40625 39.546875 35.25 42.46875 \r\nQ 33.109375 45.40625 28.21875 45.40625 \r\nQ 24.515625 45.40625 21.359375 43.453125 \r\nQ 18.21875 41.5 16.796875 37.734375 \r\nQ 15.375 33.984375 15.375 26.90625 \r\nL 15.375 0 \r\nz\r\n\" id=\"ArialMT-109\"/>\r\n       <path d=\"M 6.5 0 \r\nL 6.5 51.859375 \r\nL 14.40625 51.859375 \r\nL 14.40625 44 \r\nQ 17.4375 49.515625 20 51.265625 \r\nQ 22.5625 53.03125 25.640625 53.03125 \r\nQ 30.078125 53.03125 34.671875 50.203125 \r\nL 31.640625 42.046875 \r\nQ 28.421875 43.953125 25.203125 43.953125 \r\nQ 22.3125 43.953125 20.015625 42.21875 \r\nQ 17.71875 40.484375 16.75 37.40625 \r\nQ 15.28125 32.71875 15.28125 27.15625 \r\nL 15.28125 0 \r\nz\r\n\" id=\"ArialMT-114\"/>\r\n      </defs>\r\n      <g style=\"fill:#262626;\" transform=\"translate(86.284688 311.191562)rotate(-90)scale(0.11 -0.11)\">\r\n       <use xlink:href=\"#ArialMT-98\"/>\r\n       <use x=\"55.615234\" xlink:href=\"#ArialMT-117\"/>\r\n       <use x=\"111.230469\" xlink:href=\"#ArialMT-100\"/>\r\n       <use x=\"166.845703\" xlink:href=\"#ArialMT-103\"/>\r\n       <use x=\"222.460938\" xlink:href=\"#ArialMT-101\"/>\r\n       <use x=\"278.076172\" xlink:href=\"#ArialMT-116\"/>\r\n       <use x=\"305.859375\" xlink:href=\"#ArialMT-95\"/>\r\n       <use x=\"361.474609\" xlink:href=\"#ArialMT-110\"/>\r\n       <use x=\"417.089844\" xlink:href=\"#ArialMT-117\"/>\r\n       <use x=\"472.705078\" xlink:href=\"#ArialMT-109\"/>\r\n       <use x=\"556.005859\" xlink:href=\"#ArialMT-98\"/>\r\n       <use x=\"611.621094\" xlink:href=\"#ArialMT-101\"/>\r\n       <use x=\"667.236328\" xlink:href=\"#ArialMT-114\"/>\r\n      </g>\r\n     </g>\r\n    </g>\r\n    <g id=\"xtick_2\">\r\n     <g id=\"text_2\">\r\n      <!-- opening_balance -->\r\n      <defs>\r\n       <path d=\"M 3.328125 25.921875 \r\nQ 3.328125 40.328125 11.328125 47.265625 \r\nQ 18.015625 53.03125 27.640625 53.03125 \r\nQ 38.328125 53.03125 45.109375 46.015625 \r\nQ 51.90625 39.015625 51.90625 26.65625 \r\nQ 51.90625 16.65625 48.90625 10.90625 \r\nQ 45.90625 5.171875 40.15625 2 \r\nQ 34.421875 -1.171875 27.640625 -1.171875 \r\nQ 16.75 -1.171875 10.03125 5.8125 \r\nQ 3.328125 12.796875 3.328125 25.921875 \r\nz\r\nM 12.359375 25.921875 \r\nQ 12.359375 15.96875 16.703125 11.015625 \r\nQ 21.046875 6.0625 27.640625 6.0625 \r\nQ 34.1875 6.0625 38.53125 11.03125 \r\nQ 42.875 16.015625 42.875 26.21875 \r\nQ 42.875 35.84375 38.5 40.796875 \r\nQ 34.125 45.75 27.640625 45.75 \r\nQ 21.046875 45.75 16.703125 40.8125 \r\nQ 12.359375 35.890625 12.359375 25.921875 \r\nz\r\n\" id=\"ArialMT-111\"/>\r\n       <path d=\"M 6.59375 -19.875 \r\nL 6.59375 51.859375 \r\nL 14.59375 51.859375 \r\nL 14.59375 45.125 \r\nQ 17.4375 49.078125 21 51.046875 \r\nQ 24.5625 53.03125 29.640625 53.03125 \r\nQ 36.28125 53.03125 41.359375 49.609375 \r\nQ 46.4375 46.1875 49.015625 39.953125 \r\nQ 51.609375 33.734375 51.609375 26.3125 \r\nQ 51.609375 18.359375 48.75 11.984375 \r\nQ 45.90625 5.609375 40.453125 2.21875 \r\nQ 35.015625 -1.171875 29 -1.171875 \r\nQ 24.609375 -1.171875 21.109375 0.6875 \r\nQ 17.625 2.546875 15.375 5.375 \r\nL 15.375 -19.875 \r\nz\r\nM 14.546875 25.640625 \r\nQ 14.546875 15.625 18.59375 10.84375 \r\nQ 22.65625 6.0625 28.421875 6.0625 \r\nQ 34.28125 6.0625 38.453125 11.015625 \r\nQ 42.625 15.96875 42.625 26.375 \r\nQ 42.625 36.28125 38.546875 41.203125 \r\nQ 34.46875 46.140625 28.8125 46.140625 \r\nQ 23.1875 46.140625 18.859375 40.890625 \r\nQ 14.546875 35.640625 14.546875 25.640625 \r\nz\r\n\" id=\"ArialMT-112\"/>\r\n       <path d=\"M 6.640625 61.46875 \r\nL 6.640625 71.578125 \r\nL 15.4375 71.578125 \r\nL 15.4375 61.46875 \r\nz\r\nM 6.640625 0 \r\nL 6.640625 51.859375 \r\nL 15.4375 51.859375 \r\nL 15.4375 0 \r\nz\r\n\" id=\"ArialMT-105\"/>\r\n       <path d=\"M 40.4375 6.390625 \r\nQ 35.546875 2.25 31.03125 0.53125 \r\nQ 26.515625 -1.171875 21.34375 -1.171875 \r\nQ 12.796875 -1.171875 8.203125 3 \r\nQ 3.609375 7.171875 3.609375 13.671875 \r\nQ 3.609375 17.484375 5.34375 20.625 \r\nQ 7.078125 23.78125 9.890625 25.6875 \r\nQ 12.703125 27.59375 16.21875 28.5625 \r\nQ 18.796875 29.25 24.03125 29.890625 \r\nQ 34.671875 31.15625 39.703125 32.90625 \r\nQ 39.75 34.71875 39.75 35.203125 \r\nQ 39.75 40.578125 37.25 42.78125 \r\nQ 33.890625 45.75 27.25 45.75 \r\nQ 21.046875 45.75 18.09375 43.578125 \r\nQ 15.140625 41.40625 13.71875 35.890625 \r\nL 5.125 37.0625 \r\nQ 6.296875 42.578125 8.984375 45.96875 \r\nQ 11.671875 49.359375 16.75 51.1875 \r\nQ 21.828125 53.03125 28.515625 53.03125 \r\nQ 35.15625 53.03125 39.296875 51.46875 \r\nQ 43.453125 49.90625 45.40625 47.53125 \r\nQ 47.359375 45.171875 48.140625 41.546875 \r\nQ 48.578125 39.3125 48.578125 33.453125 \r\nL 48.578125 21.734375 \r\nQ 48.578125 9.46875 49.140625 6.21875 \r\nQ 49.703125 2.984375 51.375 0 \r\nL 42.1875 0 \r\nQ 40.828125 2.734375 40.4375 6.390625 \r\nz\r\nM 39.703125 26.03125 \r\nQ 34.90625 24.078125 25.34375 22.703125 \r\nQ 19.921875 21.921875 17.671875 20.9375 \r\nQ 15.4375 19.96875 14.203125 18.09375 \r\nQ 12.984375 16.21875 12.984375 13.921875 \r\nQ 12.984375 10.40625 15.640625 8.0625 \r\nQ 18.3125 5.71875 23.4375 5.71875 \r\nQ 28.515625 5.71875 32.46875 7.9375 \r\nQ 36.421875 10.15625 38.28125 14.015625 \r\nQ 39.703125 17 39.703125 22.796875 \r\nz\r\n\" id=\"ArialMT-97\"/>\r\n       <path d=\"M 6.390625 0 \r\nL 6.390625 71.578125 \r\nL 15.1875 71.578125 \r\nL 15.1875 0 \r\nz\r\n\" id=\"ArialMT-108\"/>\r\n       <path d=\"M 40.4375 19 \r\nL 49.078125 17.875 \r\nQ 47.65625 8.9375 41.8125 3.875 \r\nQ 35.984375 -1.171875 27.484375 -1.171875 \r\nQ 16.84375 -1.171875 10.375 5.78125 \r\nQ 3.90625 12.75 3.90625 25.734375 \r\nQ 3.90625 34.125 6.6875 40.421875 \r\nQ 9.46875 46.734375 15.15625 49.875 \r\nQ 20.84375 53.03125 27.546875 53.03125 \r\nQ 35.984375 53.03125 41.359375 48.75 \r\nQ 46.734375 44.484375 48.25 36.625 \r\nL 39.703125 35.296875 \r\nQ 38.484375 40.53125 35.375 43.15625 \r\nQ 32.28125 45.796875 27.875 45.796875 \r\nQ 21.234375 45.796875 17.078125 41.03125 \r\nQ 12.9375 36.28125 12.9375 25.984375 \r\nQ 12.9375 15.53125 16.9375 10.796875 \r\nQ 20.953125 6.0625 27.390625 6.0625 \r\nQ 32.5625 6.0625 36.03125 9.234375 \r\nQ 39.5 12.40625 40.4375 19 \r\nz\r\n\" id=\"ArialMT-99\"/>\r\n      </defs>\r\n      <g style=\"fill:#262626;\" transform=\"translate(153.244687 317.9325)rotate(-90)scale(0.11 -0.11)\">\r\n       <use xlink:href=\"#ArialMT-111\"/>\r\n       <use x=\"55.615234\" xlink:href=\"#ArialMT-112\"/>\r\n       <use x=\"111.230469\" xlink:href=\"#ArialMT-101\"/>\r\n       <use x=\"166.845703\" xlink:href=\"#ArialMT-110\"/>\r\n       <use x=\"222.460938\" xlink:href=\"#ArialMT-105\"/>\r\n       <use x=\"244.677734\" xlink:href=\"#ArialMT-110\"/>\r\n       <use x=\"300.292969\" xlink:href=\"#ArialMT-103\"/>\r\n       <use x=\"355.908203\" xlink:href=\"#ArialMT-95\"/>\r\n       <use x=\"411.523438\" xlink:href=\"#ArialMT-98\"/>\r\n       <use x=\"467.138672\" xlink:href=\"#ArialMT-97\"/>\r\n       <use x=\"522.753906\" xlink:href=\"#ArialMT-108\"/>\r\n       <use x=\"544.970703\" xlink:href=\"#ArialMT-97\"/>\r\n       <use x=\"600.585938\" xlink:href=\"#ArialMT-110\"/>\r\n       <use x=\"656.201172\" xlink:href=\"#ArialMT-99\"/>\r\n       <use x=\"706.201172\" xlink:href=\"#ArialMT-101\"/>\r\n      </g>\r\n     </g>\r\n    </g>\r\n    <g id=\"xtick_3\">\r\n     <g id=\"text_3\">\r\n      <!-- closing_balance -->\r\n      <defs>\r\n       <path d=\"M 3.078125 15.484375 \r\nL 11.765625 16.84375 \r\nQ 12.5 11.625 15.84375 8.84375 \r\nQ 19.1875 6.0625 25.203125 6.0625 \r\nQ 31.25 6.0625 34.171875 8.515625 \r\nQ 37.109375 10.984375 37.109375 14.3125 \r\nQ 37.109375 17.28125 34.515625 19 \r\nQ 32.71875 20.171875 25.53125 21.96875 \r\nQ 15.875 24.421875 12.140625 26.203125 \r\nQ 8.40625 27.984375 6.46875 31.125 \r\nQ 4.546875 34.28125 4.546875 38.09375 \r\nQ 4.546875 41.546875 6.125 44.5 \r\nQ 7.71875 47.46875 10.453125 49.421875 \r\nQ 12.5 50.921875 16.03125 51.96875 \r\nQ 19.578125 53.03125 23.640625 53.03125 \r\nQ 29.734375 53.03125 34.34375 51.265625 \r\nQ 38.96875 49.515625 41.15625 46.5 \r\nQ 43.359375 43.5 44.1875 38.484375 \r\nL 35.59375 37.3125 \r\nQ 35.015625 41.3125 32.203125 43.546875 \r\nQ 29.390625 45.796875 24.265625 45.796875 \r\nQ 18.21875 45.796875 15.625 43.796875 \r\nQ 13.03125 41.796875 13.03125 39.109375 \r\nQ 13.03125 37.40625 14.109375 36.03125 \r\nQ 15.1875 34.625 17.484375 33.6875 \r\nQ 18.796875 33.203125 25.25 31.453125 \r\nQ 34.578125 28.953125 38.25 27.359375 \r\nQ 41.9375 25.78125 44.03125 22.75 \r\nQ 46.140625 19.734375 46.140625 15.234375 \r\nQ 46.140625 10.84375 43.578125 6.953125 \r\nQ 41.015625 3.078125 36.171875 0.953125 \r\nQ 31.34375 -1.171875 25.25 -1.171875 \r\nQ 15.140625 -1.171875 9.84375 3.03125 \r\nQ 4.546875 7.234375 3.078125 15.484375 \r\nz\r\n\" id=\"ArialMT-115\"/>\r\n      </defs>\r\n      <g style=\"fill:#262626;\" transform=\"translate(220.204688 313.025469)rotate(-90)scale(0.11 -0.11)\">\r\n       <use xlink:href=\"#ArialMT-99\"/>\r\n       <use x=\"50\" xlink:href=\"#ArialMT-108\"/>\r\n       <use x=\"72.216797\" xlink:href=\"#ArialMT-111\"/>\r\n       <use x=\"127.832031\" xlink:href=\"#ArialMT-115\"/>\r\n       <use x=\"177.832031\" xlink:href=\"#ArialMT-105\"/>\r\n       <use x=\"200.048828\" xlink:href=\"#ArialMT-110\"/>\r\n       <use x=\"255.664062\" xlink:href=\"#ArialMT-103\"/>\r\n       <use x=\"311.279297\" xlink:href=\"#ArialMT-95\"/>\r\n       <use x=\"366.894531\" xlink:href=\"#ArialMT-98\"/>\r\n       <use x=\"422.509766\" xlink:href=\"#ArialMT-97\"/>\r\n       <use x=\"478.125\" xlink:href=\"#ArialMT-108\"/>\r\n       <use x=\"500.341797\" xlink:href=\"#ArialMT-97\"/>\r\n       <use x=\"555.957031\" xlink:href=\"#ArialMT-110\"/>\r\n       <use x=\"611.572266\" xlink:href=\"#ArialMT-99\"/>\r\n       <use x=\"661.572266\" xlink:href=\"#ArialMT-101\"/>\r\n      </g>\r\n     </g>\r\n    </g>\r\n    <g id=\"xtick_4\">\r\n     <g id=\"text_4\">\r\n      <!-- budget_level3_key -->\r\n      <defs>\r\n       <path d=\"M 21 0 \r\nL 1.265625 51.859375 \r\nL 10.546875 51.859375 \r\nL 21.6875 20.796875 \r\nQ 23.484375 15.765625 25 10.359375 \r\nQ 26.171875 14.453125 28.265625 20.21875 \r\nL 39.796875 51.859375 \r\nL 48.828125 51.859375 \r\nL 29.203125 0 \r\nz\r\n\" id=\"ArialMT-118\"/>\r\n       <path d=\"M 4.203125 18.890625 \r\nL 12.984375 20.0625 \r\nQ 14.5 12.59375 18.140625 9.296875 \r\nQ 21.78125 6 27 6 \r\nQ 33.203125 6 37.46875 10.296875 \r\nQ 41.75 14.59375 41.75 20.953125 \r\nQ 41.75 27 37.796875 30.921875 \r\nQ 33.84375 34.859375 27.734375 34.859375 \r\nQ 25.25 34.859375 21.53125 33.890625 \r\nL 22.515625 41.609375 \r\nQ 23.390625 41.5 23.921875 41.5 \r\nQ 29.546875 41.5 34.03125 44.421875 \r\nQ 38.53125 47.359375 38.53125 53.46875 \r\nQ 38.53125 58.296875 35.25 61.46875 \r\nQ 31.984375 64.65625 26.8125 64.65625 \r\nQ 21.6875 64.65625 18.265625 61.421875 \r\nQ 14.84375 58.203125 13.875 51.765625 \r\nL 5.078125 53.328125 \r\nQ 6.6875 62.15625 12.390625 67.015625 \r\nQ 18.109375 71.875 26.609375 71.875 \r\nQ 32.46875 71.875 37.390625 69.359375 \r\nQ 42.328125 66.84375 44.9375 62.5 \r\nQ 47.5625 58.15625 47.5625 53.265625 \r\nQ 47.5625 48.640625 45.0625 44.828125 \r\nQ 42.578125 41.015625 37.703125 38.765625 \r\nQ 44.046875 37.3125 47.5625 32.6875 \r\nQ 51.078125 28.078125 51.078125 21.140625 \r\nQ 51.078125 11.765625 44.234375 5.25 \r\nQ 37.40625 -1.265625 26.953125 -1.265625 \r\nQ 17.53125 -1.265625 11.296875 4.34375 \r\nQ 5.078125 9.96875 4.203125 18.890625 \r\nz\r\n\" id=\"ArialMT-51\"/>\r\n       <path d=\"M 6.640625 0 \r\nL 6.640625 71.578125 \r\nL 15.4375 71.578125 \r\nL 15.4375 30.765625 \r\nL 36.234375 51.859375 \r\nL 47.609375 51.859375 \r\nL 27.78125 32.625 \r\nL 49.609375 0 \r\nL 38.765625 0 \r\nL 21.625 26.515625 \r\nL 15.4375 20.5625 \r\nL 15.4375 0 \r\nz\r\n\" id=\"ArialMT-107\"/>\r\n       <path d=\"M 6.203125 -19.96875 \r\nL 5.21875 -11.71875 \r\nQ 8.109375 -12.5 10.25 -12.5 \r\nQ 13.1875 -12.5 14.9375 -11.515625 \r\nQ 16.703125 -10.546875 17.828125 -8.796875 \r\nQ 18.65625 -7.46875 20.515625 -2.25 \r\nQ 20.75 -1.515625 21.296875 -0.09375 \r\nL 1.609375 51.859375 \r\nL 11.078125 51.859375 \r\nL 21.875 21.828125 \r\nQ 23.96875 16.109375 25.640625 9.8125 \r\nQ 27.15625 15.875 29.25 21.625 \r\nL 40.328125 51.859375 \r\nL 49.125 51.859375 \r\nL 29.390625 -0.875 \r\nQ 26.21875 -9.421875 24.46875 -12.640625 \r\nQ 22.125 -17 19.09375 -19.015625 \r\nQ 16.0625 -21.046875 11.859375 -21.046875 \r\nQ 9.328125 -21.046875 6.203125 -19.96875 \r\nz\r\n\" id=\"ArialMT-121\"/>\r\n      </defs>\r\n      <g style=\"fill:#262626;\" transform=\"translate(287.181016 325.871406)rotate(-90)scale(0.11 -0.11)\">\r\n       <use xlink:href=\"#ArialMT-98\"/>\r\n       <use x=\"55.615234\" xlink:href=\"#ArialMT-117\"/>\r\n       <use x=\"111.230469\" xlink:href=\"#ArialMT-100\"/>\r\n       <use x=\"166.845703\" xlink:href=\"#ArialMT-103\"/>\r\n       <use x=\"222.460938\" xlink:href=\"#ArialMT-101\"/>\r\n       <use x=\"278.076172\" xlink:href=\"#ArialMT-116\"/>\r\n       <use x=\"305.859375\" xlink:href=\"#ArialMT-95\"/>\r\n       <use x=\"361.474609\" xlink:href=\"#ArialMT-108\"/>\r\n       <use x=\"383.691406\" xlink:href=\"#ArialMT-101\"/>\r\n       <use x=\"439.306641\" xlink:href=\"#ArialMT-118\"/>\r\n       <use x=\"489.306641\" xlink:href=\"#ArialMT-101\"/>\r\n       <use x=\"544.921875\" xlink:href=\"#ArialMT-108\"/>\r\n       <use x=\"567.138672\" xlink:href=\"#ArialMT-51\"/>\r\n       <use x=\"622.753906\" xlink:href=\"#ArialMT-95\"/>\r\n       <use x=\"678.369141\" xlink:href=\"#ArialMT-107\"/>\r\n       <use x=\"728.369141\" xlink:href=\"#ArialMT-101\"/>\r\n       <use x=\"783.984375\" xlink:href=\"#ArialMT-121\"/>\r\n      </g>\r\n     </g>\r\n    </g>\r\n    <g id=\"xtick_5\">\r\n     <g id=\"text_5\">\r\n      <!-- budget_level3_name -->\r\n      <g style=\"fill:#262626;\" transform=\"translate(354.141016 336.268125)rotate(-90)scale(0.11 -0.11)\">\r\n       <use xlink:href=\"#ArialMT-98\"/>\r\n       <use x=\"55.615234\" xlink:href=\"#ArialMT-117\"/>\r\n       <use x=\"111.230469\" xlink:href=\"#ArialMT-100\"/>\r\n       <use x=\"166.845703\" xlink:href=\"#ArialMT-103\"/>\r\n       <use x=\"222.460938\" xlink:href=\"#ArialMT-101\"/>\r\n       <use x=\"278.076172\" xlink:href=\"#ArialMT-116\"/>\r\n       <use x=\"305.859375\" xlink:href=\"#ArialMT-95\"/>\r\n       <use x=\"361.474609\" xlink:href=\"#ArialMT-108\"/>\r\n       <use x=\"383.691406\" xlink:href=\"#ArialMT-101\"/>\r\n       <use x=\"439.306641\" xlink:href=\"#ArialMT-118\"/>\r\n       <use x=\"489.306641\" xlink:href=\"#ArialMT-101\"/>\r\n       <use x=\"544.921875\" xlink:href=\"#ArialMT-108\"/>\r\n       <use x=\"567.138672\" xlink:href=\"#ArialMT-51\"/>\r\n       <use x=\"622.753906\" xlink:href=\"#ArialMT-95\"/>\r\n       <use x=\"678.369141\" xlink:href=\"#ArialMT-110\"/>\r\n       <use x=\"733.984375\" xlink:href=\"#ArialMT-97\"/>\r\n       <use x=\"789.599609\" xlink:href=\"#ArialMT-109\"/>\r\n       <use x=\"872.900391\" xlink:href=\"#ArialMT-101\"/>\r\n      </g>\r\n     </g>\r\n    </g>\r\n    <g id=\"text_6\">\r\n     <!-- Column -->\r\n     <defs>\r\n      <path d=\"M 58.796875 25.09375 \r\nL 68.265625 22.703125 \r\nQ 65.28125 11.03125 57.546875 4.90625 \r\nQ 49.8125 -1.21875 38.625 -1.21875 \r\nQ 27.046875 -1.21875 19.796875 3.484375 \r\nQ 12.546875 8.203125 8.765625 17.140625 \r\nQ 4.984375 26.078125 4.984375 36.328125 \r\nQ 4.984375 47.515625 9.25 55.828125 \r\nQ 13.53125 64.15625 21.40625 68.46875 \r\nQ 29.296875 72.796875 38.765625 72.796875 \r\nQ 49.515625 72.796875 56.828125 67.328125 \r\nQ 64.15625 61.859375 67.046875 51.953125 \r\nL 57.71875 49.75 \r\nQ 55.21875 57.5625 50.484375 61.125 \r\nQ 45.75 64.703125 38.578125 64.703125 \r\nQ 30.328125 64.703125 24.78125 60.734375 \r\nQ 19.234375 56.78125 16.984375 50.109375 \r\nQ 14.75 43.453125 14.75 36.375 \r\nQ 14.75 27.25 17.40625 20.4375 \r\nQ 20.0625 13.625 25.671875 10.25 \r\nQ 31.296875 6.890625 37.84375 6.890625 \r\nQ 45.796875 6.890625 51.3125 11.46875 \r\nQ 56.84375 16.0625 58.796875 25.09375 \r\nz\r\n\" id=\"ArialMT-67\"/>\r\n     </defs>\r\n     <g style=\"fill:#262626;\" transform=\"translate(196.751719 348.8575)scale(0.12 -0.12)\">\r\n      <use xlink:href=\"#ArialMT-67\"/>\r\n      <use x=\"72.216797\" xlink:href=\"#ArialMT-111\"/>\r\n      <use x=\"127.832031\" xlink:href=\"#ArialMT-108\"/>\r\n      <use x=\"150.048828\" xlink:href=\"#ArialMT-117\"/>\r\n      <use x=\"205.664062\" xlink:href=\"#ArialMT-109\"/>\r\n      <use x=\"288.964844\" xlink:href=\"#ArialMT-110\"/>\r\n     </g>\r\n    </g>\r\n   </g>\r\n   <g id=\"matplotlib.axis_2\">\r\n    <g id=\"ytick_1\">\r\n     <g id=\"line2d_1\">\r\n      <path clip-path=\"url(#pf1dc2d9ac3)\" d=\"M 50.025469 224.64 \r\nL 384.825469 224.64 \r\n\" style=\"fill:none;stroke:#cccccc;stroke-linecap:round;\"/>\r\n     </g>\r\n     <g id=\"text_7\">\r\n      <!-- 0 -->\r\n      <defs>\r\n       <path d=\"M 4.15625 35.296875 \r\nQ 4.15625 48 6.765625 55.734375 \r\nQ 9.375 63.484375 14.515625 67.671875 \r\nQ 19.671875 71.875 27.484375 71.875 \r\nQ 33.25 71.875 37.59375 69.546875 \r\nQ 41.9375 67.234375 44.765625 62.859375 \r\nQ 47.609375 58.5 49.21875 52.21875 \r\nQ 50.828125 45.953125 50.828125 35.296875 \r\nQ 50.828125 22.703125 48.234375 14.96875 \r\nQ 45.65625 7.234375 40.5 3 \r\nQ 35.359375 -1.21875 27.484375 -1.21875 \r\nQ 17.140625 -1.21875 11.234375 6.203125 \r\nQ 4.15625 15.140625 4.15625 35.296875 \r\nz\r\nM 13.1875 35.296875 \r\nQ 13.1875 17.671875 17.3125 11.828125 \r\nQ 21.4375 6 27.484375 6 \r\nQ 33.546875 6 37.671875 11.859375 \r\nQ 41.796875 17.71875 41.796875 35.296875 \r\nQ 41.796875 52.984375 37.671875 58.78125 \r\nQ 33.546875 64.59375 27.390625 64.59375 \r\nQ 21.34375 64.59375 17.71875 59.46875 \r\nQ 13.1875 52.9375 13.1875 35.296875 \r\nz\r\n\" id=\"ArialMT-48\"/>\r\n      </defs>\r\n      <g style=\"fill:#262626;\" transform=\"translate(34.408438 228.576797)scale(0.11 -0.11)\">\r\n       <use xlink:href=\"#ArialMT-48\"/>\r\n      </g>\r\n     </g>\r\n    </g>\r\n    <g id=\"ytick_2\">\r\n     <g id=\"line2d_2\">\r\n      <path clip-path=\"url(#pf1dc2d9ac3)\" d=\"M 50.025469 182.48683 \r\nL 384.825469 182.48683 \r\n\" style=\"fill:none;stroke:#cccccc;stroke-linecap:round;\"/>\r\n     </g>\r\n     <g id=\"text_8\">\r\n      <!-- 20 -->\r\n      <defs>\r\n       <path d=\"M 50.34375 8.453125 \r\nL 50.34375 0 \r\nL 3.03125 0 \r\nQ 2.9375 3.171875 4.046875 6.109375 \r\nQ 5.859375 10.9375 9.828125 15.625 \r\nQ 13.8125 20.3125 21.34375 26.46875 \r\nQ 33.015625 36.03125 37.109375 41.625 \r\nQ 41.21875 47.21875 41.21875 52.203125 \r\nQ 41.21875 57.421875 37.46875 61 \r\nQ 33.734375 64.59375 27.734375 64.59375 \r\nQ 21.390625 64.59375 17.578125 60.78125 \r\nQ 13.765625 56.984375 13.71875 50.25 \r\nL 4.6875 51.171875 \r\nQ 5.609375 61.28125 11.65625 66.578125 \r\nQ 17.71875 71.875 27.9375 71.875 \r\nQ 38.234375 71.875 44.234375 66.15625 \r\nQ 50.25 60.453125 50.25 52 \r\nQ 50.25 47.703125 48.484375 43.546875 \r\nQ 46.734375 39.40625 42.65625 34.8125 \r\nQ 38.578125 30.21875 29.109375 22.21875 \r\nQ 21.1875 15.578125 18.9375 13.203125 \r\nQ 16.703125 10.84375 15.234375 8.453125 \r\nz\r\n\" id=\"ArialMT-50\"/>\r\n      </defs>\r\n      <g style=\"fill:#262626;\" transform=\"translate(28.291406 186.423627)scale(0.11 -0.11)\">\r\n       <use xlink:href=\"#ArialMT-50\"/>\r\n       <use x=\"55.615234\" xlink:href=\"#ArialMT-48\"/>\r\n      </g>\r\n     </g>\r\n    </g>\r\n    <g id=\"ytick_3\">\r\n     <g id=\"line2d_3\">\r\n      <path clip-path=\"url(#pf1dc2d9ac3)\" d=\"M 50.025469 140.33366 \r\nL 384.825469 140.33366 \r\n\" style=\"fill:none;stroke:#cccccc;stroke-linecap:round;\"/>\r\n     </g>\r\n     <g id=\"text_9\">\r\n      <!-- 40 -->\r\n      <defs>\r\n       <path d=\"M 32.328125 0 \r\nL 32.328125 17.140625 \r\nL 1.265625 17.140625 \r\nL 1.265625 25.203125 \r\nL 33.9375 71.578125 \r\nL 41.109375 71.578125 \r\nL 41.109375 25.203125 \r\nL 50.78125 25.203125 \r\nL 50.78125 17.140625 \r\nL 41.109375 17.140625 \r\nL 41.109375 0 \r\nz\r\nM 32.328125 25.203125 \r\nL 32.328125 57.46875 \r\nL 9.90625 25.203125 \r\nz\r\n\" id=\"ArialMT-52\"/>\r\n      </defs>\r\n      <g style=\"fill:#262626;\" transform=\"translate(28.291406 144.270457)scale(0.11 -0.11)\">\r\n       <use xlink:href=\"#ArialMT-52\"/>\r\n       <use x=\"55.615234\" xlink:href=\"#ArialMT-48\"/>\r\n      </g>\r\n     </g>\r\n    </g>\r\n    <g id=\"ytick_4\">\r\n     <g id=\"line2d_4\">\r\n      <path clip-path=\"url(#pf1dc2d9ac3)\" d=\"M 50.025469 98.18049 \r\nL 384.825469 98.18049 \r\n\" style=\"fill:none;stroke:#cccccc;stroke-linecap:round;\"/>\r\n     </g>\r\n     <g id=\"text_10\">\r\n      <!-- 60 -->\r\n      <defs>\r\n       <path d=\"M 49.75 54.046875 \r\nL 41.015625 53.375 \r\nQ 39.84375 58.546875 37.703125 60.890625 \r\nQ 34.125 64.65625 28.90625 64.65625 \r\nQ 24.703125 64.65625 21.53125 62.3125 \r\nQ 17.390625 59.28125 14.984375 53.46875 \r\nQ 12.59375 47.65625 12.5 36.921875 \r\nQ 15.671875 41.75 20.265625 44.09375 \r\nQ 24.859375 46.4375 29.890625 46.4375 \r\nQ 38.671875 46.4375 44.84375 39.96875 \r\nQ 51.03125 33.5 51.03125 23.25 \r\nQ 51.03125 16.5 48.125 10.71875 \r\nQ 45.21875 4.9375 40.140625 1.859375 \r\nQ 35.0625 -1.21875 28.609375 -1.21875 \r\nQ 17.625 -1.21875 10.6875 6.859375 \r\nQ 3.765625 14.9375 3.765625 33.5 \r\nQ 3.765625 54.25 11.421875 63.671875 \r\nQ 18.109375 71.875 29.4375 71.875 \r\nQ 37.890625 71.875 43.28125 67.140625 \r\nQ 48.6875 62.40625 49.75 54.046875 \r\nz\r\nM 13.875 23.1875 \r\nQ 13.875 18.65625 15.796875 14.5 \r\nQ 17.71875 10.359375 21.1875 8.171875 \r\nQ 24.65625 6 28.46875 6 \r\nQ 34.03125 6 38.03125 10.484375 \r\nQ 42.046875 14.984375 42.046875 22.703125 \r\nQ 42.046875 30.125 38.078125 34.390625 \r\nQ 34.125 38.671875 28.125 38.671875 \r\nQ 22.171875 38.671875 18.015625 34.390625 \r\nQ 13.875 30.125 13.875 23.1875 \r\nz\r\n\" id=\"ArialMT-54\"/>\r\n      </defs>\r\n      <g style=\"fill:#262626;\" transform=\"translate(28.291406 102.117287)scale(0.11 -0.11)\">\r\n       <use xlink:href=\"#ArialMT-54\"/>\r\n       <use x=\"55.615234\" xlink:href=\"#ArialMT-48\"/>\r\n      </g>\r\n     </g>\r\n    </g>\r\n    <g id=\"ytick_5\">\r\n     <g id=\"line2d_5\">\r\n      <path clip-path=\"url(#pf1dc2d9ac3)\" d=\"M 50.025469 56.027321 \r\nL 384.825469 56.027321 \r\n\" style=\"fill:none;stroke:#cccccc;stroke-linecap:round;\"/>\r\n     </g>\r\n     <g id=\"text_11\">\r\n      <!-- 80 -->\r\n      <defs>\r\n       <path d=\"M 17.671875 38.8125 \r\nQ 12.203125 40.828125 9.5625 44.53125 \r\nQ 6.9375 48.25 6.9375 53.421875 \r\nQ 6.9375 61.234375 12.546875 66.546875 \r\nQ 18.171875 71.875 27.484375 71.875 \r\nQ 36.859375 71.875 42.578125 66.421875 \r\nQ 48.296875 60.984375 48.296875 53.171875 \r\nQ 48.296875 48.1875 45.671875 44.5 \r\nQ 43.0625 40.828125 37.75 38.8125 \r\nQ 44.34375 36.671875 47.78125 31.875 \r\nQ 51.21875 27.09375 51.21875 20.453125 \r\nQ 51.21875 11.28125 44.71875 5.03125 \r\nQ 38.234375 -1.21875 27.640625 -1.21875 \r\nQ 17.046875 -1.21875 10.546875 5.046875 \r\nQ 4.046875 11.328125 4.046875 20.703125 \r\nQ 4.046875 27.6875 7.59375 32.390625 \r\nQ 11.140625 37.109375 17.671875 38.8125 \r\nz\r\nM 15.921875 53.71875 \r\nQ 15.921875 48.640625 19.1875 45.40625 \r\nQ 22.46875 42.1875 27.6875 42.1875 \r\nQ 32.765625 42.1875 36.015625 45.375 \r\nQ 39.265625 48.578125 39.265625 53.21875 \r\nQ 39.265625 58.0625 35.90625 61.359375 \r\nQ 32.5625 64.65625 27.59375 64.65625 \r\nQ 22.5625 64.65625 19.234375 61.421875 \r\nQ 15.921875 58.203125 15.921875 53.71875 \r\nz\r\nM 13.09375 20.65625 \r\nQ 13.09375 16.890625 14.875 13.375 \r\nQ 16.65625 9.859375 20.171875 7.921875 \r\nQ 23.6875 6 27.734375 6 \r\nQ 34.03125 6 38.125 10.046875 \r\nQ 42.234375 14.109375 42.234375 20.359375 \r\nQ 42.234375 26.703125 38.015625 30.859375 \r\nQ 33.796875 35.015625 27.4375 35.015625 \r\nQ 21.234375 35.015625 17.15625 30.90625 \r\nQ 13.09375 26.8125 13.09375 20.65625 \r\nz\r\n\" id=\"ArialMT-56\"/>\r\n      </defs>\r\n      <g style=\"fill:#262626;\" transform=\"translate(28.291406 59.964117)scale(0.11 -0.11)\">\r\n       <use xlink:href=\"#ArialMT-56\"/>\r\n       <use x=\"55.615234\" xlink:href=\"#ArialMT-48\"/>\r\n      </g>\r\n     </g>\r\n    </g>\r\n    <g id=\"ytick_6\">\r\n     <g id=\"line2d_6\">\r\n      <path clip-path=\"url(#pf1dc2d9ac3)\" d=\"M 50.025469 13.874151 \r\nL 384.825469 13.874151 \r\n\" style=\"fill:none;stroke:#cccccc;stroke-linecap:round;\"/>\r\n     </g>\r\n     <g id=\"text_12\">\r\n      <!-- 100 -->\r\n      <defs>\r\n       <path d=\"M 37.25 0 \r\nL 28.46875 0 \r\nL 28.46875 56 \r\nQ 25.296875 52.984375 20.140625 49.953125 \r\nQ 14.984375 46.921875 10.890625 45.40625 \r\nL 10.890625 53.90625 \r\nQ 18.265625 57.375 23.78125 62.296875 \r\nQ 29.296875 67.234375 31.59375 71.875 \r\nL 37.25 71.875 \r\nz\r\n\" id=\"ArialMT-49\"/>\r\n      </defs>\r\n      <g style=\"fill:#262626;\" transform=\"translate(22.174375 17.810948)scale(0.11 -0.11)\">\r\n       <use xlink:href=\"#ArialMT-49\"/>\r\n       <use x=\"55.615234\" xlink:href=\"#ArialMT-48\"/>\r\n       <use x=\"111.230469\" xlink:href=\"#ArialMT-48\"/>\r\n      </g>\r\n     </g>\r\n    </g>\r\n    <g id=\"text_13\">\r\n     <!-- Percentual -->\r\n     <defs>\r\n      <path d=\"M 7.71875 0 \r\nL 7.71875 71.578125 \r\nL 34.71875 71.578125 \r\nQ 41.84375 71.578125 45.609375 70.90625 \r\nQ 50.875 70.015625 54.4375 67.546875 \r\nQ 58.015625 65.09375 60.1875 60.640625 \r\nQ 62.359375 56.203125 62.359375 50.875 \r\nQ 62.359375 41.75 56.546875 35.421875 \r\nQ 50.734375 29.109375 35.546875 29.109375 \r\nL 17.1875 29.109375 \r\nL 17.1875 0 \r\nz\r\nM 17.1875 37.546875 \r\nL 35.6875 37.546875 \r\nQ 44.875 37.546875 48.734375 40.96875 \r\nQ 52.59375 44.390625 52.59375 50.59375 \r\nQ 52.59375 55.078125 50.3125 58.265625 \r\nQ 48.046875 61.46875 44.34375 62.5 \r\nQ 41.9375 63.140625 35.5 63.140625 \r\nL 17.1875 63.140625 \r\nz\r\n\" id=\"ArialMT-80\"/>\r\n     </defs>\r\n     <g style=\"fill:#262626;\" transform=\"translate(15.789375 144.602812)rotate(-90)scale(0.12 -0.12)\">\r\n      <use xlink:href=\"#ArialMT-80\"/>\r\n      <use x=\"66.699219\" xlink:href=\"#ArialMT-101\"/>\r\n      <use x=\"122.314453\" xlink:href=\"#ArialMT-114\"/>\r\n      <use x=\"155.615234\" xlink:href=\"#ArialMT-99\"/>\r\n      <use x=\"205.615234\" xlink:href=\"#ArialMT-101\"/>\r\n      <use x=\"261.230469\" xlink:href=\"#ArialMT-110\"/>\r\n      <use x=\"316.845703\" xlink:href=\"#ArialMT-116\"/>\r\n      <use x=\"344.628906\" xlink:href=\"#ArialMT-117\"/>\r\n      <use x=\"400.244141\" xlink:href=\"#ArialMT-97\"/>\r\n      <use x=\"455.859375\" xlink:href=\"#ArialMT-108\"/>\r\n     </g>\r\n    </g>\r\n   </g>\r\n   <g id=\"patch_3\">\r\n    <path clip-path=\"url(#pf1dc2d9ac3)\" d=\"M 56.721469 224.64 \r\nL 110.289469 224.64 \r\nL 110.289469 214.609888 \r\nL 56.721469 214.609888 \r\nz\r\n\" style=\"fill:#5875a4;stroke:#ffffff;stroke-linejoin:miter;\"/>\r\n   </g>\r\n   <g id=\"patch_4\">\r\n    <path clip-path=\"url(#pf1dc2d9ac3)\" d=\"M 123.681469 224.64 \r\nL 177.249469 224.64 \r\nL 177.249469 74.018417 \r\nL 123.681469 74.018417 \r\nz\r\n\" style=\"fill:#cc8963;stroke:#ffffff;stroke-linejoin:miter;\"/>\r\n   </g>\r\n   <g id=\"patch_5\">\r\n    <path clip-path=\"url(#pf1dc2d9ac3)\" d=\"M 190.641469 224.64 \r\nL 244.209469 224.64 \r\nL 244.209469 74.018417 \r\nL 190.641469 74.018417 \r\nz\r\n\" style=\"fill:#5f9e6e;stroke:#ffffff;stroke-linejoin:miter;\"/>\r\n   </g>\r\n   <g id=\"patch_6\">\r\n    <path clip-path=\"url(#pf1dc2d9ac3)\" d=\"M 257.601469 224.64 \r\nL 311.169469 224.64 \r\nL 311.169469 17.554286 \r\nL 257.601469 17.554286 \r\nz\r\n\" style=\"fill:#b55d60;stroke:#ffffff;stroke-linejoin:miter;\"/>\r\n   </g>\r\n   <g id=\"patch_7\">\r\n    <path clip-path=\"url(#pf1dc2d9ac3)\" d=\"M 324.561469 224.64 \r\nL 378.129469 224.64 \r\nL 378.129469 17.554286 \r\nL 324.561469 17.554286 \r\nz\r\n\" style=\"fill:#857aab;stroke:#ffffff;stroke-linejoin:miter;\"/>\r\n   </g>\r\n   <g id=\"line2d_7\">\r\n    <path clip-path=\"url(#pf1dc2d9ac3)\" style=\"fill:none;stroke:#424242;stroke-linecap:round;stroke-width:2.7;\"/>\r\n   </g>\r\n   <g id=\"line2d_8\">\r\n    <path clip-path=\"url(#pf1dc2d9ac3)\" style=\"fill:none;stroke:#424242;stroke-linecap:round;stroke-width:2.7;\"/>\r\n   </g>\r\n   <g id=\"line2d_9\">\r\n    <path clip-path=\"url(#pf1dc2d9ac3)\" style=\"fill:none;stroke:#424242;stroke-linecap:round;stroke-width:2.7;\"/>\r\n   </g>\r\n   <g id=\"line2d_10\">\r\n    <path clip-path=\"url(#pf1dc2d9ac3)\" style=\"fill:none;stroke:#424242;stroke-linecap:round;stroke-width:2.7;\"/>\r\n   </g>\r\n   <g id=\"line2d_11\">\r\n    <path clip-path=\"url(#pf1dc2d9ac3)\" style=\"fill:none;stroke:#424242;stroke-linecap:round;stroke-width:2.7;\"/>\r\n   </g>\r\n   <g id=\"patch_8\">\r\n    <path d=\"M 50.025469 224.64 \r\nL 50.025469 7.2 \r\n\" style=\"fill:none;stroke:#cccccc;stroke-linecap:square;stroke-linejoin:miter;stroke-width:1.25;\"/>\r\n   </g>\r\n   <g id=\"patch_9\">\r\n    <path d=\"M 384.825469 224.64 \r\nL 384.825469 7.2 \r\n\" style=\"fill:none;stroke:#cccccc;stroke-linecap:square;stroke-linejoin:miter;stroke-width:1.25;\"/>\r\n   </g>\r\n   <g id=\"patch_10\">\r\n    <path d=\"M 50.025469 224.64 \r\nL 384.825469 224.64 \r\n\" style=\"fill:none;stroke:#cccccc;stroke-linecap:square;stroke-linejoin:miter;stroke-width:1.25;\"/>\r\n   </g>\r\n   <g id=\"patch_11\">\r\n    <path d=\"M 50.025469 7.2 \r\nL 384.825469 7.2 \r\n\" style=\"fill:none;stroke:#cccccc;stroke-linecap:square;stroke-linejoin:miter;stroke-width:1.25;\"/>\r\n   </g>\r\n  </g>\r\n </g>\r\n <defs>\r\n  <clipPath id=\"pf1dc2d9ac3\">\r\n   <rect height=\"217.44\" width=\"334.8\" x=\"50.025469\" y=\"7.2\"/>\r\n  </clipPath>\r\n </defs>\r\n</svg>\r\n",
      "image/png": "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\n"
     },
     "metadata": {}
    },
    {
     "output_type": "stream",
     "name": "stdout",
     "text": [
      "                    Percentual              Column\nName                                              \nbudget_number         4.758889       budget_number\nopening_balance      71.463941     opening_balance\nclosing_balance      71.463941     closing_balance\nbudget_level3_key    98.253923   budget_level3_key\nbudget_level3_name   98.253923  budget_level3_name\nNone\n"
     ]
    }
   ],
=======
   "execution_count": null,
   "metadata": {},
   "outputs": [],
>>>>>>> 8f720b2b4e9cec63e694a4d42aa154bd5f56dde0
   "source": [
    "# Check if there any Nan Field\n",
    "print(plotNaNValuesColums(df_plans_budgets))"
   ]
  },
  {
   "cell_type": "code",
<<<<<<< HEAD
   "execution_count": 12,
   "metadata": {},
   "outputs": [
    {
     "output_type": "execute_result",
     "data": {
      "text/plain": [
       "   budget_status  opening_balance                            member_key  \\\n",
       "63     CONFIRMED              0.0  b3936f00-b462-11ea-9a7d-99d8a325124d   \n",
       "64     CONFIRMED              0.0  b3936f00-b462-11ea-9a7d-99d8a325124d   \n",
       "65     CONFIRMED              0.0  b3936f00-b462-11ea-9a7d-99d8a325124d   \n",
       "66     CONFIRMED              0.0  b3936f00-b462-11ea-9a7d-99d8a325124d   \n",
       "\n",
       "                       budget_level1_key budget_level3_key plan_end_date  \\\n",
       "63  58745466-f597-11e9-bfb4-022d4762bb3c               NaN    2020-03-23   \n",
       "64  58745466-f597-11e9-bfb4-022d4762bb3c               NaN    2020-03-23   \n",
       "65  58745466-f597-11e9-bfb4-022d4762bb3c               NaN    2020-03-23   \n",
       "66  5874551b-f597-11e9-bfb4-022d4762bb3c               NaN    2020-03-23   \n",
       "\n",
       "                       budget_level2_key  closing_balance  \\\n",
       "63  7d0af71b-f597-11e9-bfb4-022d4762bb3c          2833.24   \n",
       "64  7d0af5b1-f597-11e9-bfb4-022d4762bb3c           232.74   \n",
       "65  7d0af53b-f597-11e9-bfb4-022d4762bb3c          7760.68   \n",
       "66  7d0af57b-f597-11e9-bfb4-022d4762bb3c             6.25   \n",
       "\n",
       "    budget_value_allocated budget_level1_name  \\\n",
       "63                 9084.16               Core   \n",
       "64                 2720.20               Core   \n",
       "65                23353.72               Core   \n",
       "66                12182.38  Capacity Building   \n",
       "\n",
       "                                plan_key budget_number plan_start_date  \\\n",
       "63  b4ebac00-b462-11ea-a898-85942aaecf99           NaN      2020-09-25   \n",
       "64  b4ebac00-b462-11ea-a898-85942aaecf99           NaN      2020-09-25   \n",
       "65  b4ebac00-b462-11ea-a898-85942aaecf99           NaN      2020-09-25   \n",
       "66  b4ebac00-b462-11ea-a898-85942aaecf99           NaN      2020-09-25   \n",
       "\n",
       "   budget_level3_name                                 budget_level2_name  \\\n",
       "63                NaN                       Assistance with daily living   \n",
       "64                NaN                                        Consumables   \n",
       "65                NaN  Assistance with social and community participa...   \n",
       "66                NaN                       Improved daily living skills   \n",
       "\n",
       "   plan_status  \n",
       "63   COMPLETED  \n",
       "64   COMPLETED  \n",
       "65   COMPLETED  \n",
       "66   COMPLETED  "
      ],
      "text/html": "<div>\n<style scoped>\n    .dataframe tbody tr th:only-of-type {\n        vertical-align: middle;\n    }\n\n    .dataframe tbody tr th {\n        vertical-align: top;\n    }\n\n    .dataframe thead th {\n        text-align: right;\n    }\n</style>\n<table border=\"1\" class=\"dataframe\">\n  <thead>\n    <tr style=\"text-align: right;\">\n      <th></th>\n      <th>budget_status</th>\n      <th>opening_balance</th>\n      <th>member_key</th>\n      <th>budget_level1_key</th>\n      <th>budget_level3_key</th>\n      <th>plan_end_date</th>\n      <th>budget_level2_key</th>\n      <th>closing_balance</th>\n      <th>budget_value_allocated</th>\n      <th>budget_level1_name</th>\n      <th>plan_key</th>\n      <th>budget_number</th>\n      <th>plan_start_date</th>\n      <th>budget_level3_name</th>\n      <th>budget_level2_name</th>\n      <th>plan_status</th>\n    </tr>\n  </thead>\n  <tbody>\n    <tr>\n      <th>63</th>\n      <td>CONFIRMED</td>\n      <td>0.0</td>\n      <td>b3936f00-b462-11ea-9a7d-99d8a325124d</td>\n      <td>58745466-f597-11e9-bfb4-022d4762bb3c</td>\n      <td>NaN</td>\n      <td>2020-03-23</td>\n      <td>7d0af71b-f597-11e9-bfb4-022d4762bb3c</td>\n      <td>2833.24</td>\n      <td>9084.16</td>\n      <td>Core</td>\n      <td>b4ebac00-b462-11ea-a898-85942aaecf99</td>\n      <td>NaN</td>\n      <td>2020-09-25</td>\n      <td>NaN</td>\n      <td>Assistance with daily living</td>\n      <td>COMPLETED</td>\n    </tr>\n    <tr>\n      <th>64</th>\n      <td>CONFIRMED</td>\n      <td>0.0</td>\n      <td>b3936f00-b462-11ea-9a7d-99d8a325124d</td>\n      <td>58745466-f597-11e9-bfb4-022d4762bb3c</td>\n      <td>NaN</td>\n      <td>2020-03-23</td>\n      <td>7d0af5b1-f597-11e9-bfb4-022d4762bb3c</td>\n      <td>232.74</td>\n      <td>2720.20</td>\n      <td>Core</td>\n      <td>b4ebac00-b462-11ea-a898-85942aaecf99</td>\n      <td>NaN</td>\n      <td>2020-09-25</td>\n      <td>NaN</td>\n      <td>Consumables</td>\n      <td>COMPLETED</td>\n    </tr>\n    <tr>\n      <th>65</th>\n      <td>CONFIRMED</td>\n      <td>0.0</td>\n      <td>b3936f00-b462-11ea-9a7d-99d8a325124d</td>\n      <td>58745466-f597-11e9-bfb4-022d4762bb3c</td>\n      <td>NaN</td>\n      <td>2020-03-23</td>\n      <td>7d0af53b-f597-11e9-bfb4-022d4762bb3c</td>\n      <td>7760.68</td>\n      <td>23353.72</td>\n      <td>Core</td>\n      <td>b4ebac00-b462-11ea-a898-85942aaecf99</td>\n      <td>NaN</td>\n      <td>2020-09-25</td>\n      <td>NaN</td>\n      <td>Assistance with social and community participa...</td>\n      <td>COMPLETED</td>\n    </tr>\n    <tr>\n      <th>66</th>\n      <td>CONFIRMED</td>\n      <td>0.0</td>\n      <td>b3936f00-b462-11ea-9a7d-99d8a325124d</td>\n      <td>5874551b-f597-11e9-bfb4-022d4762bb3c</td>\n      <td>NaN</td>\n      <td>2020-03-23</td>\n      <td>7d0af57b-f597-11e9-bfb4-022d4762bb3c</td>\n      <td>6.25</td>\n      <td>12182.38</td>\n      <td>Capacity Building</td>\n      <td>b4ebac00-b462-11ea-a898-85942aaecf99</td>\n      <td>NaN</td>\n      <td>2020-09-25</td>\n      <td>NaN</td>\n      <td>Improved daily living skills</td>\n      <td>COMPLETED</td>\n    </tr>\n  </tbody>\n</table>\n</div>"
     },
     "metadata": {},
     "execution_count": 12
    }
   ],
=======
   "execution_count": null,
   "metadata": {},
   "outputs": [],
>>>>>>> 8f720b2b4e9cec63e694a4d42aa154bd5f56dde0
   "source": [
    "# Check some budget_number NaN Data to\n",
    "#  Check these data have in commum\n",
    "#   It is seen that when budget_number is null\n",
    "#    opening_balance and closing_balance are not null\n",
    "Null_budget_number = df_plans_budgets.loc[(df_plans_budgets['budget_number'].isna())]\n",
    "Null_budget_number.head(4)"
   ]
  },
  {
   "cell_type": "code",
<<<<<<< HEAD
   "execution_count": 13,
   "metadata": {},
   "outputs": [
    {
     "output_type": "execute_result",
     "data": {
      "text/plain": [
       "  budget_status  opening_balance                            member_key  \\\n",
       "0     CONFIRMED              NaN  ef0ab4c0-891b-11ea-a119-35e8388a5f49   \n",
       "1     CONFIRMED              NaN  6a535640-8b5c-11ea-9eec-315ed4b1385b   \n",
       "2     CONFIRMED              NaN  6a535640-8b5c-11ea-9eec-315ed4b1385b   \n",
       "3     CONFIRMED              NaN  472c17f0-9409-11ea-ba24-1f1ea52ce5bc   \n",
       "\n",
       "                      budget_level1_key budget_level3_key plan_end_date  \\\n",
       "0  5874551b-f597-11e9-bfb4-022d4762bb3c               NaN    2021-04-23   \n",
       "1  5874551b-f597-11e9-bfb4-022d4762bb3c               NaN    2021-04-20   \n",
       "2  58745466-f597-11e9-bfb4-022d4762bb3c               NaN    2021-04-20   \n",
       "3  5874551b-f597-11e9-bfb4-022d4762bb3c               NaN    2020-08-17   \n",
       "\n",
       "                      budget_level2_key  closing_balance  \\\n",
       "0  7d0af57b-f597-11e9-bfb4-022d4762bb3c              NaN   \n",
       "1  7d0af57b-f597-11e9-bfb4-022d4762bb3c              NaN   \n",
       "2  7d0af5b1-f597-11e9-bfb4-022d4762bb3c              NaN   \n",
       "3  7d0af57b-f597-11e9-bfb4-022d4762bb3c              NaN   \n",
       "\n",
       "   budget_value_allocated budget_level1_name  \\\n",
       "0                 8168.00  Capacity Building   \n",
       "1                 7682.04  Capacity Building   \n",
       "2                  300.00               Core   \n",
       "3                 6972.41  Capacity Building   \n",
       "\n",
       "                               plan_key budget_number plan_start_date  \\\n",
       "0  29b86641-62d2-4eb2-9222-311b16ef74cc      55508918      2020-04-24   \n",
       "1  ea2cc969-6c3f-4dbc-9ebe-30df0c9f5b33      55539563      2020-04-20   \n",
       "2  ea2cc969-6c3f-4dbc-9ebe-30df0c9f5b33      55539563      2020-04-20   \n",
       "3  dd735ad0-05eb-42ce-91ba-36e1e032a67a      55612635      2019-09-11   \n",
       "\n",
       "  budget_level3_name            budget_level2_name           plan_status  \n",
       "0                NaN  Improved daily living skills  PLAN_DELIVERY_ACTIVE  \n",
       "1                NaN  Improved daily living skills  PLAN_DELIVERY_ACTIVE  \n",
       "2                NaN                   Consumables  PLAN_DELIVERY_ACTIVE  \n",
       "3                NaN  Improved daily living skills             COMPLETED  "
      ],
      "text/html": "<div>\n<style scoped>\n    .dataframe tbody tr th:only-of-type {\n        vertical-align: middle;\n    }\n\n    .dataframe tbody tr th {\n        vertical-align: top;\n    }\n\n    .dataframe thead th {\n        text-align: right;\n    }\n</style>\n<table border=\"1\" class=\"dataframe\">\n  <thead>\n    <tr style=\"text-align: right;\">\n      <th></th>\n      <th>budget_status</th>\n      <th>opening_balance</th>\n      <th>member_key</th>\n      <th>budget_level1_key</th>\n      <th>budget_level3_key</th>\n      <th>plan_end_date</th>\n      <th>budget_level2_key</th>\n      <th>closing_balance</th>\n      <th>budget_value_allocated</th>\n      <th>budget_level1_name</th>\n      <th>plan_key</th>\n      <th>budget_number</th>\n      <th>plan_start_date</th>\n      <th>budget_level3_name</th>\n      <th>budget_level2_name</th>\n      <th>plan_status</th>\n    </tr>\n  </thead>\n  <tbody>\n    <tr>\n      <th>0</th>\n      <td>CONFIRMED</td>\n      <td>NaN</td>\n      <td>ef0ab4c0-891b-11ea-a119-35e8388a5f49</td>\n      <td>5874551b-f597-11e9-bfb4-022d4762bb3c</td>\n      <td>NaN</td>\n      <td>2021-04-23</td>\n      <td>7d0af57b-f597-11e9-bfb4-022d4762bb3c</td>\n      <td>NaN</td>\n      <td>8168.00</td>\n      <td>Capacity Building</td>\n      <td>29b86641-62d2-4eb2-9222-311b16ef74cc</td>\n      <td>55508918</td>\n      <td>2020-04-24</td>\n      <td>NaN</td>\n      <td>Improved daily living skills</td>\n      <td>PLAN_DELIVERY_ACTIVE</td>\n    </tr>\n    <tr>\n      <th>1</th>\n      <td>CONFIRMED</td>\n      <td>NaN</td>\n      <td>6a535640-8b5c-11ea-9eec-315ed4b1385b</td>\n      <td>5874551b-f597-11e9-bfb4-022d4762bb3c</td>\n      <td>NaN</td>\n      <td>2021-04-20</td>\n      <td>7d0af57b-f597-11e9-bfb4-022d4762bb3c</td>\n      <td>NaN</td>\n      <td>7682.04</td>\n      <td>Capacity Building</td>\n      <td>ea2cc969-6c3f-4dbc-9ebe-30df0c9f5b33</td>\n      <td>55539563</td>\n      <td>2020-04-20</td>\n      <td>NaN</td>\n      <td>Improved daily living skills</td>\n      <td>PLAN_DELIVERY_ACTIVE</td>\n    </tr>\n    <tr>\n      <th>2</th>\n      <td>CONFIRMED</td>\n      <td>NaN</td>\n      <td>6a535640-8b5c-11ea-9eec-315ed4b1385b</td>\n      <td>58745466-f597-11e9-bfb4-022d4762bb3c</td>\n      <td>NaN</td>\n      <td>2021-04-20</td>\n      <td>7d0af5b1-f597-11e9-bfb4-022d4762bb3c</td>\n      <td>NaN</td>\n      <td>300.00</td>\n      <td>Core</td>\n      <td>ea2cc969-6c3f-4dbc-9ebe-30df0c9f5b33</td>\n      <td>55539563</td>\n      <td>2020-04-20</td>\n      <td>NaN</td>\n      <td>Consumables</td>\n      <td>PLAN_DELIVERY_ACTIVE</td>\n    </tr>\n    <tr>\n      <th>3</th>\n      <td>CONFIRMED</td>\n      <td>NaN</td>\n      <td>472c17f0-9409-11ea-ba24-1f1ea52ce5bc</td>\n      <td>5874551b-f597-11e9-bfb4-022d4762bb3c</td>\n      <td>NaN</td>\n      <td>2020-08-17</td>\n      <td>7d0af57b-f597-11e9-bfb4-022d4762bb3c</td>\n      <td>NaN</td>\n      <td>6972.41</td>\n      <td>Capacity Building</td>\n      <td>dd735ad0-05eb-42ce-91ba-36e1e032a67a</td>\n      <td>55612635</td>\n      <td>2019-09-11</td>\n      <td>NaN</td>\n      <td>Improved daily living skills</td>\n      <td>COMPLETED</td>\n    </tr>\n  </tbody>\n</table>\n</div>"
     },
     "metadata": {},
     "execution_count": 13
    }
   ],
=======
   "execution_count": null,
   "metadata": {},
   "outputs": [],
>>>>>>> 8f720b2b4e9cec63e694a4d42aa154bd5f56dde0
   "source": [
    "# Check some budget_number Not NaN Data to\n",
    "#  Check these data have in commum\n",
    "#   It is seen that when budget_number is null\n",
    "#    opening_balance and closing_balance are null\n",
    "Null_budget_number = df_plans_budgets.loc[(df_plans_budgets['budget_number'].notna())]\n",
    "Null_budget_number.head(4)"
   ]
  },
  {
   "cell_type": "code",
<<<<<<< HEAD
   "execution_count": 14,
   "metadata": {},
   "outputs": [
    {
     "output_type": "display_data",
     "data": {
      "text/plain": "<Figure size 432x288 with 1 Axes>",
      "image/svg+xml": "<?xml version=\"1.0\" encoding=\"utf-8\" standalone=\"no\"?>\r\n<!DOCTYPE svg PUBLIC \"-//W3C//DTD SVG 1.1//EN\"\r\n  \"http://www.w3.org/Graphics/SVG/1.1/DTD/svg11.dtd\">\r\n<!-- Created with matplotlib (https://matplotlib.org/) -->\r\n<svg height=\"340.106875pt\" version=\"1.1\" viewBox=\"0 0 392.025469 340.106875\" width=\"392.025469pt\" xmlns=\"http://www.w3.org/2000/svg\" xmlns:xlink=\"http://www.w3.org/1999/xlink\">\r\n <defs>\r\n  <style type=\"text/css\">\r\n*{stroke-linecap:butt;stroke-linejoin:round;}\r\n  </style>\r\n </defs>\r\n <g id=\"figure_1\">\r\n  <g id=\"patch_1\">\r\n   <path d=\"M 0 340.106875 \r\nL 392.025469 340.106875 \r\nL 392.025469 0 \r\nL 0 0 \r\nz\r\n\" style=\"fill:#ffffff;\"/>\r\n  </g>\r\n  <g id=\"axes_1\">\r\n   <g id=\"patch_2\">\r\n    <path d=\"M 50.025469 224.64 \r\nL 384.825469 224.64 \r\nL 384.825469 7.2 \r\nL 50.025469 7.2 \r\nz\r\n\" style=\"fill:#ffffff;\"/>\r\n   </g>\r\n   <g id=\"matplotlib.axis_1\">\r\n    <g id=\"xtick_1\">\r\n     <g id=\"text_1\">\r\n      <!-- opening_balance -->\r\n      <defs>\r\n       <path d=\"M 3.328125 25.921875 \r\nQ 3.328125 40.328125 11.328125 47.265625 \r\nQ 18.015625 53.03125 27.640625 53.03125 \r\nQ 38.328125 53.03125 45.109375 46.015625 \r\nQ 51.90625 39.015625 51.90625 26.65625 \r\nQ 51.90625 16.65625 48.90625 10.90625 \r\nQ 45.90625 5.171875 40.15625 2 \r\nQ 34.421875 -1.171875 27.640625 -1.171875 \r\nQ 16.75 -1.171875 10.03125 5.8125 \r\nQ 3.328125 12.796875 3.328125 25.921875 \r\nz\r\nM 12.359375 25.921875 \r\nQ 12.359375 15.96875 16.703125 11.015625 \r\nQ 21.046875 6.0625 27.640625 6.0625 \r\nQ 34.1875 6.0625 38.53125 11.03125 \r\nQ 42.875 16.015625 42.875 26.21875 \r\nQ 42.875 35.84375 38.5 40.796875 \r\nQ 34.125 45.75 27.640625 45.75 \r\nQ 21.046875 45.75 16.703125 40.8125 \r\nQ 12.359375 35.890625 12.359375 25.921875 \r\nz\r\n\" id=\"ArialMT-111\"/>\r\n       <path d=\"M 6.59375 -19.875 \r\nL 6.59375 51.859375 \r\nL 14.59375 51.859375 \r\nL 14.59375 45.125 \r\nQ 17.4375 49.078125 21 51.046875 \r\nQ 24.5625 53.03125 29.640625 53.03125 \r\nQ 36.28125 53.03125 41.359375 49.609375 \r\nQ 46.4375 46.1875 49.015625 39.953125 \r\nQ 51.609375 33.734375 51.609375 26.3125 \r\nQ 51.609375 18.359375 48.75 11.984375 \r\nQ 45.90625 5.609375 40.453125 2.21875 \r\nQ 35.015625 -1.171875 29 -1.171875 \r\nQ 24.609375 -1.171875 21.109375 0.6875 \r\nQ 17.625 2.546875 15.375 5.375 \r\nL 15.375 -19.875 \r\nz\r\nM 14.546875 25.640625 \r\nQ 14.546875 15.625 18.59375 10.84375 \r\nQ 22.65625 6.0625 28.421875 6.0625 \r\nQ 34.28125 6.0625 38.453125 11.015625 \r\nQ 42.625 15.96875 42.625 26.375 \r\nQ 42.625 36.28125 38.546875 41.203125 \r\nQ 34.46875 46.140625 28.8125 46.140625 \r\nQ 23.1875 46.140625 18.859375 40.890625 \r\nQ 14.546875 35.640625 14.546875 25.640625 \r\nz\r\n\" id=\"ArialMT-112\"/>\r\n       <path d=\"M 42.09375 16.703125 \r\nL 51.171875 15.578125 \r\nQ 49.03125 7.625 43.21875 3.21875 \r\nQ 37.40625 -1.171875 28.375 -1.171875 \r\nQ 17 -1.171875 10.328125 5.828125 \r\nQ 3.65625 12.84375 3.65625 25.484375 \r\nQ 3.65625 38.578125 10.390625 45.796875 \r\nQ 17.140625 53.03125 27.875 53.03125 \r\nQ 38.28125 53.03125 44.875 45.953125 \r\nQ 51.46875 38.875 51.46875 26.03125 \r\nQ 51.46875 25.25 51.421875 23.6875 \r\nL 12.75 23.6875 \r\nQ 13.234375 15.140625 17.578125 10.59375 \r\nQ 21.921875 6.0625 28.421875 6.0625 \r\nQ 33.25 6.0625 36.671875 8.59375 \r\nQ 40.09375 11.140625 42.09375 16.703125 \r\nz\r\nM 13.234375 30.90625 \r\nL 42.1875 30.90625 \r\nQ 41.609375 37.453125 38.875 40.71875 \r\nQ 34.671875 45.796875 27.984375 45.796875 \r\nQ 21.921875 45.796875 17.796875 41.75 \r\nQ 13.671875 37.703125 13.234375 30.90625 \r\nz\r\n\" id=\"ArialMT-101\"/>\r\n       <path d=\"M 6.59375 0 \r\nL 6.59375 51.859375 \r\nL 14.5 51.859375 \r\nL 14.5 44.484375 \r\nQ 20.21875 53.03125 31 53.03125 \r\nQ 35.6875 53.03125 39.625 51.34375 \r\nQ 43.5625 49.65625 45.515625 46.921875 \r\nQ 47.46875 44.1875 48.25 40.4375 \r\nQ 48.734375 37.984375 48.734375 31.890625 \r\nL 48.734375 0 \r\nL 39.9375 0 \r\nL 39.9375 31.546875 \r\nQ 39.9375 36.921875 38.90625 39.578125 \r\nQ 37.890625 42.234375 35.28125 43.8125 \r\nQ 32.671875 45.40625 29.15625 45.40625 \r\nQ 23.53125 45.40625 19.453125 41.84375 \r\nQ 15.375 38.28125 15.375 28.328125 \r\nL 15.375 0 \r\nz\r\n\" id=\"ArialMT-110\"/>\r\n       <path d=\"M 6.640625 61.46875 \r\nL 6.640625 71.578125 \r\nL 15.4375 71.578125 \r\nL 15.4375 61.46875 \r\nz\r\nM 6.640625 0 \r\nL 6.640625 51.859375 \r\nL 15.4375 51.859375 \r\nL 15.4375 0 \r\nz\r\n\" id=\"ArialMT-105\"/>\r\n       <path d=\"M 4.984375 -4.296875 \r\nL 13.53125 -5.5625 \r\nQ 14.0625 -9.515625 16.5 -11.328125 \r\nQ 19.78125 -13.765625 25.4375 -13.765625 \r\nQ 31.546875 -13.765625 34.859375 -11.328125 \r\nQ 38.1875 -8.890625 39.359375 -4.5 \r\nQ 40.046875 -1.8125 39.984375 6.78125 \r\nQ 34.234375 0 25.640625 0 \r\nQ 14.9375 0 9.078125 7.71875 \r\nQ 3.21875 15.4375 3.21875 26.21875 \r\nQ 3.21875 33.640625 5.90625 39.90625 \r\nQ 8.59375 46.1875 13.6875 49.609375 \r\nQ 18.796875 53.03125 25.6875 53.03125 \r\nQ 34.859375 53.03125 40.828125 45.609375 \r\nL 40.828125 51.859375 \r\nL 48.921875 51.859375 \r\nL 48.921875 7.03125 \r\nQ 48.921875 -5.078125 46.453125 -10.125 \r\nQ 44 -15.1875 38.640625 -18.109375 \r\nQ 33.296875 -21.046875 25.484375 -21.046875 \r\nQ 16.21875 -21.046875 10.5 -16.875 \r\nQ 4.78125 -12.703125 4.984375 -4.296875 \r\nz\r\nM 12.25 26.859375 \r\nQ 12.25 16.65625 16.296875 11.96875 \r\nQ 20.359375 7.28125 26.46875 7.28125 \r\nQ 32.515625 7.28125 36.609375 11.9375 \r\nQ 40.71875 16.609375 40.71875 26.5625 \r\nQ 40.71875 36.078125 36.5 40.90625 \r\nQ 32.28125 45.75 26.3125 45.75 \r\nQ 20.453125 45.75 16.34375 40.984375 \r\nQ 12.25 36.234375 12.25 26.859375 \r\nz\r\n\" id=\"ArialMT-103\"/>\r\n       <path d=\"M -1.515625 -19.875 \r\nL -1.515625 -13.53125 \r\nL 56.734375 -13.53125 \r\nL 56.734375 -19.875 \r\nz\r\n\" id=\"ArialMT-95\"/>\r\n       <path d=\"M 14.703125 0 \r\nL 6.546875 0 \r\nL 6.546875 71.578125 \r\nL 15.328125 71.578125 \r\nL 15.328125 46.046875 \r\nQ 20.90625 53.03125 29.546875 53.03125 \r\nQ 34.328125 53.03125 38.59375 51.09375 \r\nQ 42.875 49.171875 45.625 45.671875 \r\nQ 48.390625 42.1875 49.953125 37.25 \r\nQ 51.515625 32.328125 51.515625 26.703125 \r\nQ 51.515625 13.375 44.921875 6.09375 \r\nQ 38.328125 -1.171875 29.109375 -1.171875 \r\nQ 19.921875 -1.171875 14.703125 6.5 \r\nz\r\nM 14.59375 26.3125 \r\nQ 14.59375 17 17.140625 12.84375 \r\nQ 21.296875 6.0625 28.375 6.0625 \r\nQ 34.125 6.0625 38.328125 11.0625 \r\nQ 42.53125 16.0625 42.53125 25.984375 \r\nQ 42.53125 36.140625 38.5 40.96875 \r\nQ 34.46875 45.796875 28.765625 45.796875 \r\nQ 23 45.796875 18.796875 40.796875 \r\nQ 14.59375 35.796875 14.59375 26.3125 \r\nz\r\n\" id=\"ArialMT-98\"/>\r\n       <path d=\"M 40.4375 6.390625 \r\nQ 35.546875 2.25 31.03125 0.53125 \r\nQ 26.515625 -1.171875 21.34375 -1.171875 \r\nQ 12.796875 -1.171875 8.203125 3 \r\nQ 3.609375 7.171875 3.609375 13.671875 \r\nQ 3.609375 17.484375 5.34375 20.625 \r\nQ 7.078125 23.78125 9.890625 25.6875 \r\nQ 12.703125 27.59375 16.21875 28.5625 \r\nQ 18.796875 29.25 24.03125 29.890625 \r\nQ 34.671875 31.15625 39.703125 32.90625 \r\nQ 39.75 34.71875 39.75 35.203125 \r\nQ 39.75 40.578125 37.25 42.78125 \r\nQ 33.890625 45.75 27.25 45.75 \r\nQ 21.046875 45.75 18.09375 43.578125 \r\nQ 15.140625 41.40625 13.71875 35.890625 \r\nL 5.125 37.0625 \r\nQ 6.296875 42.578125 8.984375 45.96875 \r\nQ 11.671875 49.359375 16.75 51.1875 \r\nQ 21.828125 53.03125 28.515625 53.03125 \r\nQ 35.15625 53.03125 39.296875 51.46875 \r\nQ 43.453125 49.90625 45.40625 47.53125 \r\nQ 47.359375 45.171875 48.140625 41.546875 \r\nQ 48.578125 39.3125 48.578125 33.453125 \r\nL 48.578125 21.734375 \r\nQ 48.578125 9.46875 49.140625 6.21875 \r\nQ 49.703125 2.984375 51.375 0 \r\nL 42.1875 0 \r\nQ 40.828125 2.734375 40.4375 6.390625 \r\nz\r\nM 39.703125 26.03125 \r\nQ 34.90625 24.078125 25.34375 22.703125 \r\nQ 19.921875 21.921875 17.671875 20.9375 \r\nQ 15.4375 19.96875 14.203125 18.09375 \r\nQ 12.984375 16.21875 12.984375 13.921875 \r\nQ 12.984375 10.40625 15.640625 8.0625 \r\nQ 18.3125 5.71875 23.4375 5.71875 \r\nQ 28.515625 5.71875 32.46875 7.9375 \r\nQ 36.421875 10.15625 38.28125 14.015625 \r\nQ 39.703125 17 39.703125 22.796875 \r\nz\r\n\" id=\"ArialMT-97\"/>\r\n       <path d=\"M 6.390625 0 \r\nL 6.390625 71.578125 \r\nL 15.1875 71.578125 \r\nL 15.1875 0 \r\nz\r\n\" id=\"ArialMT-108\"/>\r\n       <path d=\"M 40.4375 19 \r\nL 49.078125 17.875 \r\nQ 47.65625 8.9375 41.8125 3.875 \r\nQ 35.984375 -1.171875 27.484375 -1.171875 \r\nQ 16.84375 -1.171875 10.375 5.78125 \r\nQ 3.90625 12.75 3.90625 25.734375 \r\nQ 3.90625 34.125 6.6875 40.421875 \r\nQ 9.46875 46.734375 15.15625 49.875 \r\nQ 20.84375 53.03125 27.546875 53.03125 \r\nQ 35.984375 53.03125 41.359375 48.75 \r\nQ 46.734375 44.484375 48.25 36.625 \r\nL 39.703125 35.296875 \r\nQ 38.484375 40.53125 35.375 43.15625 \r\nQ 32.28125 45.796875 27.875 45.796875 \r\nQ 21.234375 45.796875 17.078125 41.03125 \r\nQ 12.9375 36.28125 12.9375 25.984375 \r\nQ 12.9375 15.53125 16.9375 10.796875 \r\nQ 20.953125 6.0625 27.390625 6.0625 \r\nQ 32.5625 6.0625 36.03125 9.234375 \r\nQ 39.5 12.40625 40.4375 19 \r\nz\r\n\" id=\"ArialMT-99\"/>\r\n      </defs>\r\n      <g style=\"fill:#262626;\" transform=\"translate(136.504687 317.9325)rotate(-90)scale(0.11 -0.11)\">\r\n       <use xlink:href=\"#ArialMT-111\"/>\r\n       <use x=\"55.615234\" xlink:href=\"#ArialMT-112\"/>\r\n       <use x=\"111.230469\" xlink:href=\"#ArialMT-101\"/>\r\n       <use x=\"166.845703\" xlink:href=\"#ArialMT-110\"/>\r\n       <use x=\"222.460938\" xlink:href=\"#ArialMT-105\"/>\r\n       <use x=\"244.677734\" xlink:href=\"#ArialMT-110\"/>\r\n       <use x=\"300.292969\" xlink:href=\"#ArialMT-103\"/>\r\n       <use x=\"355.908203\" xlink:href=\"#ArialMT-95\"/>\r\n       <use x=\"411.523438\" xlink:href=\"#ArialMT-98\"/>\r\n       <use x=\"467.138672\" xlink:href=\"#ArialMT-97\"/>\r\n       <use x=\"522.753906\" xlink:href=\"#ArialMT-108\"/>\r\n       <use x=\"544.970703\" xlink:href=\"#ArialMT-97\"/>\r\n       <use x=\"600.585938\" xlink:href=\"#ArialMT-110\"/>\r\n       <use x=\"656.201172\" xlink:href=\"#ArialMT-99\"/>\r\n       <use x=\"706.201172\" xlink:href=\"#ArialMT-101\"/>\r\n      </g>\r\n     </g>\r\n    </g>\r\n    <g id=\"xtick_2\">\r\n     <g id=\"text_2\">\r\n      <!-- closing_balance -->\r\n      <defs>\r\n       <path d=\"M 3.078125 15.484375 \r\nL 11.765625 16.84375 \r\nQ 12.5 11.625 15.84375 8.84375 \r\nQ 19.1875 6.0625 25.203125 6.0625 \r\nQ 31.25 6.0625 34.171875 8.515625 \r\nQ 37.109375 10.984375 37.109375 14.3125 \r\nQ 37.109375 17.28125 34.515625 19 \r\nQ 32.71875 20.171875 25.53125 21.96875 \r\nQ 15.875 24.421875 12.140625 26.203125 \r\nQ 8.40625 27.984375 6.46875 31.125 \r\nQ 4.546875 34.28125 4.546875 38.09375 \r\nQ 4.546875 41.546875 6.125 44.5 \r\nQ 7.71875 47.46875 10.453125 49.421875 \r\nQ 12.5 50.921875 16.03125 51.96875 \r\nQ 19.578125 53.03125 23.640625 53.03125 \r\nQ 29.734375 53.03125 34.34375 51.265625 \r\nQ 38.96875 49.515625 41.15625 46.5 \r\nQ 43.359375 43.5 44.1875 38.484375 \r\nL 35.59375 37.3125 \r\nQ 35.015625 41.3125 32.203125 43.546875 \r\nQ 29.390625 45.796875 24.265625 45.796875 \r\nQ 18.21875 45.796875 15.625 43.796875 \r\nQ 13.03125 41.796875 13.03125 39.109375 \r\nQ 13.03125 37.40625 14.109375 36.03125 \r\nQ 15.1875 34.625 17.484375 33.6875 \r\nQ 18.796875 33.203125 25.25 31.453125 \r\nQ 34.578125 28.953125 38.25 27.359375 \r\nQ 41.9375 25.78125 44.03125 22.75 \r\nQ 46.140625 19.734375 46.140625 15.234375 \r\nQ 46.140625 10.84375 43.578125 6.953125 \r\nQ 41.015625 3.078125 36.171875 0.953125 \r\nQ 31.34375 -1.171875 25.25 -1.171875 \r\nQ 15.140625 -1.171875 9.84375 3.03125 \r\nQ 4.546875 7.234375 3.078125 15.484375 \r\nz\r\n\" id=\"ArialMT-115\"/>\r\n      </defs>\r\n      <g style=\"fill:#262626;\" transform=\"translate(303.904687 313.025469)rotate(-90)scale(0.11 -0.11)\">\r\n       <use xlink:href=\"#ArialMT-99\"/>\r\n       <use x=\"50\" xlink:href=\"#ArialMT-108\"/>\r\n       <use x=\"72.216797\" xlink:href=\"#ArialMT-111\"/>\r\n       <use x=\"127.832031\" xlink:href=\"#ArialMT-115\"/>\r\n       <use x=\"177.832031\" xlink:href=\"#ArialMT-105\"/>\r\n       <use x=\"200.048828\" xlink:href=\"#ArialMT-110\"/>\r\n       <use x=\"255.664062\" xlink:href=\"#ArialMT-103\"/>\r\n       <use x=\"311.279297\" xlink:href=\"#ArialMT-95\"/>\r\n       <use x=\"366.894531\" xlink:href=\"#ArialMT-98\"/>\r\n       <use x=\"422.509766\" xlink:href=\"#ArialMT-97\"/>\r\n       <use x=\"478.125\" xlink:href=\"#ArialMT-108\"/>\r\n       <use x=\"500.341797\" xlink:href=\"#ArialMT-97\"/>\r\n       <use x=\"555.957031\" xlink:href=\"#ArialMT-110\"/>\r\n       <use x=\"611.572266\" xlink:href=\"#ArialMT-99\"/>\r\n       <use x=\"661.572266\" xlink:href=\"#ArialMT-101\"/>\r\n      </g>\r\n     </g>\r\n    </g>\r\n    <g id=\"text_3\">\r\n     <!-- Column -->\r\n     <defs>\r\n      <path d=\"M 58.796875 25.09375 \r\nL 68.265625 22.703125 \r\nQ 65.28125 11.03125 57.546875 4.90625 \r\nQ 49.8125 -1.21875 38.625 -1.21875 \r\nQ 27.046875 -1.21875 19.796875 3.484375 \r\nQ 12.546875 8.203125 8.765625 17.140625 \r\nQ 4.984375 26.078125 4.984375 36.328125 \r\nQ 4.984375 47.515625 9.25 55.828125 \r\nQ 13.53125 64.15625 21.40625 68.46875 \r\nQ 29.296875 72.796875 38.765625 72.796875 \r\nQ 49.515625 72.796875 56.828125 67.328125 \r\nQ 64.15625 61.859375 67.046875 51.953125 \r\nL 57.71875 49.75 \r\nQ 55.21875 57.5625 50.484375 61.125 \r\nQ 45.75 64.703125 38.578125 64.703125 \r\nQ 30.328125 64.703125 24.78125 60.734375 \r\nQ 19.234375 56.78125 16.984375 50.109375 \r\nQ 14.75 43.453125 14.75 36.375 \r\nQ 14.75 27.25 17.40625 20.4375 \r\nQ 20.0625 13.625 25.671875 10.25 \r\nQ 31.296875 6.890625 37.84375 6.890625 \r\nQ 45.796875 6.890625 51.3125 11.46875 \r\nQ 56.84375 16.0625 58.796875 25.09375 \r\nz\r\n\" id=\"ArialMT-67\"/>\r\n      <path d=\"M 40.578125 0 \r\nL 40.578125 7.625 \r\nQ 34.515625 -1.171875 24.125 -1.171875 \r\nQ 19.53125 -1.171875 15.546875 0.578125 \r\nQ 11.578125 2.34375 9.640625 5 \r\nQ 7.71875 7.671875 6.9375 11.53125 \r\nQ 6.390625 14.109375 6.390625 19.734375 \r\nL 6.390625 51.859375 \r\nL 15.1875 51.859375 \r\nL 15.1875 23.09375 \r\nQ 15.1875 16.21875 15.71875 13.8125 \r\nQ 16.546875 10.359375 19.234375 8.375 \r\nQ 21.921875 6.390625 25.875 6.390625 \r\nQ 29.828125 6.390625 33.296875 8.421875 \r\nQ 36.765625 10.453125 38.203125 13.9375 \r\nQ 39.65625 17.4375 39.65625 24.078125 \r\nL 39.65625 51.859375 \r\nL 48.4375 51.859375 \r\nL 48.4375 0 \r\nz\r\n\" id=\"ArialMT-117\"/>\r\n      <path d=\"M 6.59375 0 \r\nL 6.59375 51.859375 \r\nL 14.453125 51.859375 \r\nL 14.453125 44.578125 \r\nQ 16.890625 48.390625 20.9375 50.703125 \r\nQ 25 53.03125 30.171875 53.03125 \r\nQ 35.9375 53.03125 39.625 50.640625 \r\nQ 43.3125 48.25 44.828125 43.953125 \r\nQ 50.984375 53.03125 60.84375 53.03125 \r\nQ 68.5625 53.03125 72.703125 48.75 \r\nQ 76.859375 44.484375 76.859375 35.59375 \r\nL 76.859375 0 \r\nL 68.109375 0 \r\nL 68.109375 32.671875 \r\nQ 68.109375 37.9375 67.25 40.25 \r\nQ 66.40625 42.578125 64.15625 43.984375 \r\nQ 61.921875 45.40625 58.890625 45.40625 \r\nQ 53.421875 45.40625 49.796875 41.765625 \r\nQ 46.1875 38.140625 46.1875 30.125 \r\nL 46.1875 0 \r\nL 37.40625 0 \r\nL 37.40625 33.6875 \r\nQ 37.40625 39.546875 35.25 42.46875 \r\nQ 33.109375 45.40625 28.21875 45.40625 \r\nQ 24.515625 45.40625 21.359375 43.453125 \r\nQ 18.21875 41.5 16.796875 37.734375 \r\nQ 15.375 33.984375 15.375 26.90625 \r\nL 15.375 0 \r\nz\r\n\" id=\"ArialMT-109\"/>\r\n     </defs>\r\n     <g style=\"fill:#262626;\" transform=\"translate(196.751719 330.521875)scale(0.12 -0.12)\">\r\n      <use xlink:href=\"#ArialMT-67\"/>\r\n      <use x=\"72.216797\" xlink:href=\"#ArialMT-111\"/>\r\n      <use x=\"127.832031\" xlink:href=\"#ArialMT-108\"/>\r\n      <use x=\"150.048828\" xlink:href=\"#ArialMT-117\"/>\r\n      <use x=\"205.664062\" xlink:href=\"#ArialMT-109\"/>\r\n      <use x=\"288.964844\" xlink:href=\"#ArialMT-110\"/>\r\n     </g>\r\n    </g>\r\n   </g>\r\n   <g id=\"matplotlib.axis_2\">\r\n    <g id=\"ytick_1\">\r\n     <g id=\"line2d_1\">\r\n      <path clip-path=\"url(#p6174758bf5)\" d=\"M 50.025469 224.64 \r\nL 384.825469 224.64 \r\n\" style=\"fill:none;stroke:#cccccc;stroke-linecap:round;\"/>\r\n     </g>\r\n     <g id=\"text_4\">\r\n      <!-- 0 -->\r\n      <defs>\r\n       <path d=\"M 4.15625 35.296875 \r\nQ 4.15625 48 6.765625 55.734375 \r\nQ 9.375 63.484375 14.515625 67.671875 \r\nQ 19.671875 71.875 27.484375 71.875 \r\nQ 33.25 71.875 37.59375 69.546875 \r\nQ 41.9375 67.234375 44.765625 62.859375 \r\nQ 47.609375 58.5 49.21875 52.21875 \r\nQ 50.828125 45.953125 50.828125 35.296875 \r\nQ 50.828125 22.703125 48.234375 14.96875 \r\nQ 45.65625 7.234375 40.5 3 \r\nQ 35.359375 -1.21875 27.484375 -1.21875 \r\nQ 17.140625 -1.21875 11.234375 6.203125 \r\nQ 4.15625 15.140625 4.15625 35.296875 \r\nz\r\nM 13.1875 35.296875 \r\nQ 13.1875 17.671875 17.3125 11.828125 \r\nQ 21.4375 6 27.484375 6 \r\nQ 33.546875 6 37.671875 11.859375 \r\nQ 41.796875 17.71875 41.796875 35.296875 \r\nQ 41.796875 52.984375 37.671875 58.78125 \r\nQ 33.546875 64.59375 27.390625 64.59375 \r\nQ 21.34375 64.59375 17.71875 59.46875 \r\nQ 13.1875 52.9375 13.1875 35.296875 \r\nz\r\n\" id=\"ArialMT-48\"/>\r\n      </defs>\r\n      <g style=\"fill:#262626;\" transform=\"translate(34.408438 228.576797)scale(0.11 -0.11)\">\r\n       <use xlink:href=\"#ArialMT-48\"/>\r\n      </g>\r\n     </g>\r\n    </g>\r\n    <g id=\"ytick_2\">\r\n     <g id=\"line2d_2\">\r\n      <path clip-path=\"url(#p6174758bf5)\" d=\"M 50.025469 183.222857 \r\nL 384.825469 183.222857 \r\n\" style=\"fill:none;stroke:#cccccc;stroke-linecap:round;\"/>\r\n     </g>\r\n     <g id=\"text_5\">\r\n      <!-- 20 -->\r\n      <defs>\r\n       <path d=\"M 50.34375 8.453125 \r\nL 50.34375 0 \r\nL 3.03125 0 \r\nQ 2.9375 3.171875 4.046875 6.109375 \r\nQ 5.859375 10.9375 9.828125 15.625 \r\nQ 13.8125 20.3125 21.34375 26.46875 \r\nQ 33.015625 36.03125 37.109375 41.625 \r\nQ 41.21875 47.21875 41.21875 52.203125 \r\nQ 41.21875 57.421875 37.46875 61 \r\nQ 33.734375 64.59375 27.734375 64.59375 \r\nQ 21.390625 64.59375 17.578125 60.78125 \r\nQ 13.765625 56.984375 13.71875 50.25 \r\nL 4.6875 51.171875 \r\nQ 5.609375 61.28125 11.65625 66.578125 \r\nQ 17.71875 71.875 27.9375 71.875 \r\nQ 38.234375 71.875 44.234375 66.15625 \r\nQ 50.25 60.453125 50.25 52 \r\nQ 50.25 47.703125 48.484375 43.546875 \r\nQ 46.734375 39.40625 42.65625 34.8125 \r\nQ 38.578125 30.21875 29.109375 22.21875 \r\nQ 21.1875 15.578125 18.9375 13.203125 \r\nQ 16.703125 10.84375 15.234375 8.453125 \r\nz\r\n\" id=\"ArialMT-50\"/>\r\n      </defs>\r\n      <g style=\"fill:#262626;\" transform=\"translate(28.291406 187.159654)scale(0.11 -0.11)\">\r\n       <use xlink:href=\"#ArialMT-50\"/>\r\n       <use x=\"55.615234\" xlink:href=\"#ArialMT-48\"/>\r\n      </g>\r\n     </g>\r\n    </g>\r\n    <g id=\"ytick_3\">\r\n     <g id=\"line2d_3\">\r\n      <path clip-path=\"url(#p6174758bf5)\" d=\"M 50.025469 141.805714 \r\nL 384.825469 141.805714 \r\n\" style=\"fill:none;stroke:#cccccc;stroke-linecap:round;\"/>\r\n     </g>\r\n     <g id=\"text_6\">\r\n      <!-- 40 -->\r\n      <defs>\r\n       <path d=\"M 32.328125 0 \r\nL 32.328125 17.140625 \r\nL 1.265625 17.140625 \r\nL 1.265625 25.203125 \r\nL 33.9375 71.578125 \r\nL 41.109375 71.578125 \r\nL 41.109375 25.203125 \r\nL 50.78125 25.203125 \r\nL 50.78125 17.140625 \r\nL 41.109375 17.140625 \r\nL 41.109375 0 \r\nz\r\nM 32.328125 25.203125 \r\nL 32.328125 57.46875 \r\nL 9.90625 25.203125 \r\nz\r\n\" id=\"ArialMT-52\"/>\r\n      </defs>\r\n      <g style=\"fill:#262626;\" transform=\"translate(28.291406 145.742511)scale(0.11 -0.11)\">\r\n       <use xlink:href=\"#ArialMT-52\"/>\r\n       <use x=\"55.615234\" xlink:href=\"#ArialMT-48\"/>\r\n      </g>\r\n     </g>\r\n    </g>\r\n    <g id=\"ytick_4\">\r\n     <g id=\"line2d_4\">\r\n      <path clip-path=\"url(#p6174758bf5)\" d=\"M 50.025469 100.388571 \r\nL 384.825469 100.388571 \r\n\" style=\"fill:none;stroke:#cccccc;stroke-linecap:round;\"/>\r\n     </g>\r\n     <g id=\"text_7\">\r\n      <!-- 60 -->\r\n      <defs>\r\n       <path d=\"M 49.75 54.046875 \r\nL 41.015625 53.375 \r\nQ 39.84375 58.546875 37.703125 60.890625 \r\nQ 34.125 64.65625 28.90625 64.65625 \r\nQ 24.703125 64.65625 21.53125 62.3125 \r\nQ 17.390625 59.28125 14.984375 53.46875 \r\nQ 12.59375 47.65625 12.5 36.921875 \r\nQ 15.671875 41.75 20.265625 44.09375 \r\nQ 24.859375 46.4375 29.890625 46.4375 \r\nQ 38.671875 46.4375 44.84375 39.96875 \r\nQ 51.03125 33.5 51.03125 23.25 \r\nQ 51.03125 16.5 48.125 10.71875 \r\nQ 45.21875 4.9375 40.140625 1.859375 \r\nQ 35.0625 -1.21875 28.609375 -1.21875 \r\nQ 17.625 -1.21875 10.6875 6.859375 \r\nQ 3.765625 14.9375 3.765625 33.5 \r\nQ 3.765625 54.25 11.421875 63.671875 \r\nQ 18.109375 71.875 29.4375 71.875 \r\nQ 37.890625 71.875 43.28125 67.140625 \r\nQ 48.6875 62.40625 49.75 54.046875 \r\nz\r\nM 13.875 23.1875 \r\nQ 13.875 18.65625 15.796875 14.5 \r\nQ 17.71875 10.359375 21.1875 8.171875 \r\nQ 24.65625 6 28.46875 6 \r\nQ 34.03125 6 38.03125 10.484375 \r\nQ 42.046875 14.984375 42.046875 22.703125 \r\nQ 42.046875 30.125 38.078125 34.390625 \r\nQ 34.125 38.671875 28.125 38.671875 \r\nQ 22.171875 38.671875 18.015625 34.390625 \r\nQ 13.875 30.125 13.875 23.1875 \r\nz\r\n\" id=\"ArialMT-54\"/>\r\n      </defs>\r\n      <g style=\"fill:#262626;\" transform=\"translate(28.291406 104.325368)scale(0.11 -0.11)\">\r\n       <use xlink:href=\"#ArialMT-54\"/>\r\n       <use x=\"55.615234\" xlink:href=\"#ArialMT-48\"/>\r\n      </g>\r\n     </g>\r\n    </g>\r\n    <g id=\"ytick_5\">\r\n     <g id=\"line2d_5\">\r\n      <path clip-path=\"url(#p6174758bf5)\" d=\"M 50.025469 58.971429 \r\nL 384.825469 58.971429 \r\n\" style=\"fill:none;stroke:#cccccc;stroke-linecap:round;\"/>\r\n     </g>\r\n     <g id=\"text_8\">\r\n      <!-- 80 -->\r\n      <defs>\r\n       <path d=\"M 17.671875 38.8125 \r\nQ 12.203125 40.828125 9.5625 44.53125 \r\nQ 6.9375 48.25 6.9375 53.421875 \r\nQ 6.9375 61.234375 12.546875 66.546875 \r\nQ 18.171875 71.875 27.484375 71.875 \r\nQ 36.859375 71.875 42.578125 66.421875 \r\nQ 48.296875 60.984375 48.296875 53.171875 \r\nQ 48.296875 48.1875 45.671875 44.5 \r\nQ 43.0625 40.828125 37.75 38.8125 \r\nQ 44.34375 36.671875 47.78125 31.875 \r\nQ 51.21875 27.09375 51.21875 20.453125 \r\nQ 51.21875 11.28125 44.71875 5.03125 \r\nQ 38.234375 -1.21875 27.640625 -1.21875 \r\nQ 17.046875 -1.21875 10.546875 5.046875 \r\nQ 4.046875 11.328125 4.046875 20.703125 \r\nQ 4.046875 27.6875 7.59375 32.390625 \r\nQ 11.140625 37.109375 17.671875 38.8125 \r\nz\r\nM 15.921875 53.71875 \r\nQ 15.921875 48.640625 19.1875 45.40625 \r\nQ 22.46875 42.1875 27.6875 42.1875 \r\nQ 32.765625 42.1875 36.015625 45.375 \r\nQ 39.265625 48.578125 39.265625 53.21875 \r\nQ 39.265625 58.0625 35.90625 61.359375 \r\nQ 32.5625 64.65625 27.59375 64.65625 \r\nQ 22.5625 64.65625 19.234375 61.421875 \r\nQ 15.921875 58.203125 15.921875 53.71875 \r\nz\r\nM 13.09375 20.65625 \r\nQ 13.09375 16.890625 14.875 13.375 \r\nQ 16.65625 9.859375 20.171875 7.921875 \r\nQ 23.6875 6 27.734375 6 \r\nQ 34.03125 6 38.125 10.046875 \r\nQ 42.234375 14.109375 42.234375 20.359375 \r\nQ 42.234375 26.703125 38.015625 30.859375 \r\nQ 33.796875 35.015625 27.4375 35.015625 \r\nQ 21.234375 35.015625 17.15625 30.90625 \r\nQ 13.09375 26.8125 13.09375 20.65625 \r\nz\r\n\" id=\"ArialMT-56\"/>\r\n      </defs>\r\n      <g style=\"fill:#262626;\" transform=\"translate(28.291406 62.908225)scale(0.11 -0.11)\">\r\n       <use xlink:href=\"#ArialMT-56\"/>\r\n       <use x=\"55.615234\" xlink:href=\"#ArialMT-48\"/>\r\n      </g>\r\n     </g>\r\n    </g>\r\n    <g id=\"ytick_6\">\r\n     <g id=\"line2d_6\">\r\n      <path clip-path=\"url(#p6174758bf5)\" d=\"M 50.025469 17.554286 \r\nL 384.825469 17.554286 \r\n\" style=\"fill:none;stroke:#cccccc;stroke-linecap:round;\"/>\r\n     </g>\r\n     <g id=\"text_9\">\r\n      <!-- 100 -->\r\n      <defs>\r\n       <path d=\"M 37.25 0 \r\nL 28.46875 0 \r\nL 28.46875 56 \r\nQ 25.296875 52.984375 20.140625 49.953125 \r\nQ 14.984375 46.921875 10.890625 45.40625 \r\nL 10.890625 53.90625 \r\nQ 18.265625 57.375 23.78125 62.296875 \r\nQ 29.296875 67.234375 31.59375 71.875 \r\nL 37.25 71.875 \r\nz\r\n\" id=\"ArialMT-49\"/>\r\n      </defs>\r\n      <g style=\"fill:#262626;\" transform=\"translate(22.174375 21.491083)scale(0.11 -0.11)\">\r\n       <use xlink:href=\"#ArialMT-49\"/>\r\n       <use x=\"55.615234\" xlink:href=\"#ArialMT-48\"/>\r\n       <use x=\"111.230469\" xlink:href=\"#ArialMT-48\"/>\r\n      </g>\r\n     </g>\r\n    </g>\r\n    <g id=\"text_10\">\r\n     <!-- Percentual -->\r\n     <defs>\r\n      <path d=\"M 7.71875 0 \r\nL 7.71875 71.578125 \r\nL 34.71875 71.578125 \r\nQ 41.84375 71.578125 45.609375 70.90625 \r\nQ 50.875 70.015625 54.4375 67.546875 \r\nQ 58.015625 65.09375 60.1875 60.640625 \r\nQ 62.359375 56.203125 62.359375 50.875 \r\nQ 62.359375 41.75 56.546875 35.421875 \r\nQ 50.734375 29.109375 35.546875 29.109375 \r\nL 17.1875 29.109375 \r\nL 17.1875 0 \r\nz\r\nM 17.1875 37.546875 \r\nL 35.6875 37.546875 \r\nQ 44.875 37.546875 48.734375 40.96875 \r\nQ 52.59375 44.390625 52.59375 50.59375 \r\nQ 52.59375 55.078125 50.3125 58.265625 \r\nQ 48.046875 61.46875 44.34375 62.5 \r\nQ 41.9375 63.140625 35.5 63.140625 \r\nL 17.1875 63.140625 \r\nz\r\n\" id=\"ArialMT-80\"/>\r\n      <path d=\"M 6.5 0 \r\nL 6.5 51.859375 \r\nL 14.40625 51.859375 \r\nL 14.40625 44 \r\nQ 17.4375 49.515625 20 51.265625 \r\nQ 22.5625 53.03125 25.640625 53.03125 \r\nQ 30.078125 53.03125 34.671875 50.203125 \r\nL 31.640625 42.046875 \r\nQ 28.421875 43.953125 25.203125 43.953125 \r\nQ 22.3125 43.953125 20.015625 42.21875 \r\nQ 17.71875 40.484375 16.75 37.40625 \r\nQ 15.28125 32.71875 15.28125 27.15625 \r\nL 15.28125 0 \r\nz\r\n\" id=\"ArialMT-114\"/>\r\n      <path d=\"M 25.78125 7.859375 \r\nL 27.046875 0.09375 \r\nQ 23.34375 -0.6875 20.40625 -0.6875 \r\nQ 15.625 -0.6875 12.984375 0.828125 \r\nQ 10.359375 2.34375 9.28125 4.8125 \r\nQ 8.203125 7.28125 8.203125 15.1875 \r\nL 8.203125 45.015625 \r\nL 1.765625 45.015625 \r\nL 1.765625 51.859375 \r\nL 8.203125 51.859375 \r\nL 8.203125 64.703125 \r\nL 16.9375 69.96875 \r\nL 16.9375 51.859375 \r\nL 25.78125 51.859375 \r\nL 25.78125 45.015625 \r\nL 16.9375 45.015625 \r\nL 16.9375 14.703125 \r\nQ 16.9375 10.9375 17.40625 9.859375 \r\nQ 17.875 8.796875 18.921875 8.15625 \r\nQ 19.96875 7.515625 21.921875 7.515625 \r\nQ 23.390625 7.515625 25.78125 7.859375 \r\nz\r\n\" id=\"ArialMT-116\"/>\r\n     </defs>\r\n     <g style=\"fill:#262626;\" transform=\"translate(15.789375 144.602812)rotate(-90)scale(0.12 -0.12)\">\r\n      <use xlink:href=\"#ArialMT-80\"/>\r\n      <use x=\"66.699219\" xlink:href=\"#ArialMT-101\"/>\r\n      <use x=\"122.314453\" xlink:href=\"#ArialMT-114\"/>\r\n      <use x=\"155.615234\" xlink:href=\"#ArialMT-99\"/>\r\n      <use x=\"205.615234\" xlink:href=\"#ArialMT-101\"/>\r\n      <use x=\"261.230469\" xlink:href=\"#ArialMT-110\"/>\r\n      <use x=\"316.845703\" xlink:href=\"#ArialMT-116\"/>\r\n      <use x=\"344.628906\" xlink:href=\"#ArialMT-117\"/>\r\n      <use x=\"400.244141\" xlink:href=\"#ArialMT-97\"/>\r\n      <use x=\"455.859375\" xlink:href=\"#ArialMT-108\"/>\r\n     </g>\r\n    </g>\r\n   </g>\r\n   <g id=\"patch_3\">\r\n    <path clip-path=\"url(#p6174758bf5)\" d=\"M 66.765469 224.64 \r\nL 200.685469 224.64 \r\nL 200.685469 17.554286 \r\nL 66.765469 17.554286 \r\nz\r\n\" style=\"fill:#5875a4;stroke:#ffffff;stroke-linejoin:miter;\"/>\r\n   </g>\r\n   <g id=\"patch_4\">\r\n    <path clip-path=\"url(#p6174758bf5)\" d=\"M 234.165469 224.64 \r\nL 368.085469 224.64 \r\nL 368.085469 17.554286 \r\nL 234.165469 17.554286 \r\nz\r\n\" style=\"fill:#cc8963;stroke:#ffffff;stroke-linejoin:miter;\"/>\r\n   </g>\r\n   <g id=\"line2d_7\">\r\n    <path clip-path=\"url(#p6174758bf5)\" style=\"fill:none;stroke:#424242;stroke-linecap:round;stroke-width:2.7;\"/>\r\n   </g>\r\n   <g id=\"line2d_8\">\r\n    <path clip-path=\"url(#p6174758bf5)\" style=\"fill:none;stroke:#424242;stroke-linecap:round;stroke-width:2.7;\"/>\r\n   </g>\r\n   <g id=\"patch_5\">\r\n    <path d=\"M 50.025469 224.64 \r\nL 50.025469 7.2 \r\n\" style=\"fill:none;stroke:#cccccc;stroke-linecap:square;stroke-linejoin:miter;stroke-width:1.25;\"/>\r\n   </g>\r\n   <g id=\"patch_6\">\r\n    <path d=\"M 384.825469 224.64 \r\nL 384.825469 7.2 \r\n\" style=\"fill:none;stroke:#cccccc;stroke-linecap:square;stroke-linejoin:miter;stroke-width:1.25;\"/>\r\n   </g>\r\n   <g id=\"patch_7\">\r\n    <path d=\"M 50.025469 224.64 \r\nL 384.825469 224.64 \r\n\" style=\"fill:none;stroke:#cccccc;stroke-linecap:square;stroke-linejoin:miter;stroke-width:1.25;\"/>\r\n   </g>\r\n   <g id=\"patch_8\">\r\n    <path d=\"M 50.025469 7.2 \r\nL 384.825469 7.2 \r\n\" style=\"fill:none;stroke:#cccccc;stroke-linecap:square;stroke-linejoin:miter;stroke-width:1.25;\"/>\r\n   </g>\r\n  </g>\r\n </g>\r\n <defs>\r\n  <clipPath id=\"p6174758bf5\">\r\n   <rect height=\"217.44\" width=\"334.8\" x=\"50.025469\" y=\"7.2\"/>\r\n  </clipPath>\r\n </defs>\r\n</svg>\r\n",
      "image/png": "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\n"
     },
     "metadata": {}
    },
    {
     "output_type": "stream",
     "name": "stdout",
     "text": [
      "                 Percentual           Column\nName                                        \nopening_balance       100.0  opening_balance\nclosing_balance       100.0  closing_balance\n"
     ]
    }
   ],
=======
   "execution_count": null,
   "metadata": {},
   "outputs": [],
>>>>>>> 8f720b2b4e9cec63e694a4d42aa154bd5f56dde0
   "source": [
    "# Plot the percentual of opening_balance and closing_balance not Nan with budget_number Nan\n",
    "Null_budget_number = df_plans_budgets[{'opening_balance', 'closing_balance'}].loc[(df_plans_budgets['budget_number'].isna())]\n",
    "plotNotNaNValuesColums(Null_budget_number)\n",
    "\n",
    "# Deletes the records with budget_number are NaN\n",
    "#  As They are rows that represents Balance\n",
    "df_plans_budgets = df_plans_budgets.drop(df_plans_budgets[df_plans_budgets.budget_number.isna()].index)\n",
    "\n",
    "#  And keeps the ones with level3_reference_number, stated_item_name, level3_key\n",
<<<<<<< HEAD
    "#   Assigns 'Not Assigned' in columns 'level3_key','level3_reference_number', 'stated_item_name'\n",
    "#   because if budget_level3_key, level3_key are NaN\n",
    "#   Means the budget starts in level 2\n",
    "df_plans_budgets.loc[df_plans_budgets['budget_level3_key'].isnull(),['budget_level3_key', 'budget_level3_name']] = \"Not Assigned\""
=======
    "#   Assigns 'no assigned' in columns 'level3_key','level3_reference_number', 'stated_item_name'\n",
    "#   because if level3_reference_number, stated_item_name, level3_key are NaN\n",
    "#   Means the budget starts in level 2\n",
    "df_plans_budgets.loc[df_plans_budgets['budget_level3_key'].isnull(),['budget_level3_key', 'budget_level3_name']] = \"No Assigned\""
>>>>>>> 8f720b2b4e9cec63e694a4d42aa154bd5f56dde0
   ]
  },
  {
   "cell_type": "code",
<<<<<<< HEAD
   "execution_count": 15,
   "metadata": {},
   "outputs": [
    {
     "output_type": "execute_result",
     "data": {
      "text/plain": [
       "0"
      ]
     },
     "metadata": {},
     "execution_count": 15
    }
   ],
=======
   "execution_count": null,
   "metadata": {},
   "outputs": [],
>>>>>>> 8f720b2b4e9cec63e694a4d42aa154bd5f56dde0
   "source": [
    "# Check if there is any DateTime column\n",
    "df_plans_budgets.select_dtypes(include=[np.datetime64]).any().count()"
   ]
  },
  {
   "cell_type": "code",
<<<<<<< HEAD
   "execution_count": 16,
=======
   "execution_count": null,
>>>>>>> 8f720b2b4e9cec63e694a4d42aa154bd5f56dde0
   "metadata": {},
   "outputs": [],
   "source": [
    "# Group the plans from their bugdets\n",
    "df_plans_budgets_cleased = df_plans_budgets.groupby([\"member_key\"\n",
    "                                                   , \"plan_key\"\n",
    "                                                   , \"plan_status\"\n",
    "                                                   , \"plan_start_date\"\n",
    "                                                   , \"plan_end_date\"\n",
    "                                                   , \"budget_status\"\n",
    "                                                   , \"budget_level3_name\"\n",
    "                                                   , \"budget_level3_key\" \n",
    "                                                   , \"budget_level2_key\"\n",
    "                                                   , \"budget_level2_name\"\n",
    "                                                   , \"budget_level1_key\"\n",
    "                                                   , \"budget_level1_name\"]).agg({\"budget_value_allocated\": \"sum\"}).reset_index()                                                   "
   ]
  },
  {
   "source": [
    "### Invoice and claims dataset cleasing"
   ],
   "cell_type": "markdown",
   "metadata": {}
  },
  {
   "source": [
    "### Invoice and claims dataset From LAST ACTIVED plan"
   ],
   "cell_type": "markdown",
   "metadata": {}
  },
  {
   "cell_type": "code",
<<<<<<< HEAD
   "execution_count": 18,
   "metadata": {},
   "outputs": [
    {
     "output_type": "stream",
     "name": "stdout",
     "text": [
      "<class 'pandas.core.frame.DataFrame'>\nRangeIndex: 446540 entries, 0 to 446539\nData columns (total 14 columns):\n #   Column               Non-Null Count   Dtype  \n---  ------               --------------   -----  \n 0   member_id            446540 non-null  int64  \n 1   invoice_total        446540 non-null  float64\n 2   invoice_state        446540 non-null  object \n 3   invoice_id           446540 non-null  int64  \n 4   claim_id             446540 non-null  int64  \n 5   claim_start_date     446540 non-null  object \n 6   claim_end_date       446540 non-null  object \n 7   claim_state          446540 non-null  object \n 8   claim_funded_amount  439038 non-null  float64\n 9   claimed_units        444878 non-null  float64\n 10  claimed_unit_price   446258 non-null  float64\n 11  key                  446540 non-null  object \n 12  key.1                446540 non-null  object \n 13  key.2                446540 non-null  object \ndtypes: float64(4), int64(3), object(7)\nmemory usage: 35.8+ MB\n"
     ]
    }
   ],
=======
   "execution_count": null,
   "metadata": {},
   "outputs": [],
>>>>>>> 8f720b2b4e9cec63e694a4d42aa154bd5f56dde0
   "source": [
    "# Check the dataSet fields\n",
    "invoices_claims_last_actived_all_fields.info()"
   ]
  },
  {
   "cell_type": "code",
<<<<<<< HEAD
   "execution_count": 19,
   "metadata": {},
   "outputs": [
    {
     "output_type": "execute_result",
     "data": {
      "text/plain": [
       "   member_id  invoice_total     invoice_state  invoice_id  claim_id  \\\n",
       "0         53        1136.04          ALL_PAID         955      1212   \n",
       "1         53        1583.88  INVOICE_REJECTED         931      1223   \n",
       "2         53        1583.88  INVOICE_REJECTED         931      1247   \n",
       "3         53        1136.04          ALL_PAID         955      1251   \n",
       "\n",
       "  claim_start_date claim_end_date      claim_state  claim_funded_amount  \\\n",
       "0        5/20/2020      5/29/2020             PAID               378.56   \n",
       "1         6/3/2020      6/12/2020  SCHEME_REJECTED                 0.00   \n",
       "2         5/3/2020      6/12/2020  SCHEME_REJECTED                 0.00   \n",
       "3        5/18/2020      5/29/2020             PAID               374.94   \n",
       "\n",
       "   claimed_units  claimed_unit_price                                   key  \\\n",
       "0            7.0               54.08  2d001d39-754f-11ea-ade9-022376bbb7c0   \n",
       "1            7.0               54.08  2d001d39-754f-11ea-ade9-022376bbb7c0   \n",
       "2           69.0                0.95  bf133220-754f-11ea-ade9-022376bbb7c0   \n",
       "3            6.0               62.49  85e97742-754f-11ea-ade9-022376bbb7c0   \n",
       "\n",
       "                                  key.1                                 key.2  \n",
       "0  7d0af71b-f597-11e9-bfb4-022d4762bb3c  58745466-f597-11e9-bfb4-022d4762bb3c  \n",
       "1  7d0af71b-f597-11e9-bfb4-022d4762bb3c  58745466-f597-11e9-bfb4-022d4762bb3c  \n",
       "2  7d0af53b-f597-11e9-bfb4-022d4762bb3c  58745466-f597-11e9-bfb4-022d4762bb3c  \n",
       "3  7d0af71b-f597-11e9-bfb4-022d4762bb3c  58745466-f597-11e9-bfb4-022d4762bb3c  "
      ],
      "text/html": "<div>\n<style scoped>\n    .dataframe tbody tr th:only-of-type {\n        vertical-align: middle;\n    }\n\n    .dataframe tbody tr th {\n        vertical-align: top;\n    }\n\n    .dataframe thead th {\n        text-align: right;\n    }\n</style>\n<table border=\"1\" class=\"dataframe\">\n  <thead>\n    <tr style=\"text-align: right;\">\n      <th></th>\n      <th>member_id</th>\n      <th>invoice_total</th>\n      <th>invoice_state</th>\n      <th>invoice_id</th>\n      <th>claim_id</th>\n      <th>claim_start_date</th>\n      <th>claim_end_date</th>\n      <th>claim_state</th>\n      <th>claim_funded_amount</th>\n      <th>claimed_units</th>\n      <th>claimed_unit_price</th>\n      <th>key</th>\n      <th>key.1</th>\n      <th>key.2</th>\n    </tr>\n  </thead>\n  <tbody>\n    <tr>\n      <th>0</th>\n      <td>53</td>\n      <td>1136.04</td>\n      <td>ALL_PAID</td>\n      <td>955</td>\n      <td>1212</td>\n      <td>5/20/2020</td>\n      <td>5/29/2020</td>\n      <td>PAID</td>\n      <td>378.56</td>\n      <td>7.0</td>\n      <td>54.08</td>\n      <td>2d001d39-754f-11ea-ade9-022376bbb7c0</td>\n      <td>7d0af71b-f597-11e9-bfb4-022d4762bb3c</td>\n      <td>58745466-f597-11e9-bfb4-022d4762bb3c</td>\n    </tr>\n    <tr>\n      <th>1</th>\n      <td>53</td>\n      <td>1583.88</td>\n      <td>INVOICE_REJECTED</td>\n      <td>931</td>\n      <td>1223</td>\n      <td>6/3/2020</td>\n      <td>6/12/2020</td>\n      <td>SCHEME_REJECTED</td>\n      <td>0.00</td>\n      <td>7.0</td>\n      <td>54.08</td>\n      <td>2d001d39-754f-11ea-ade9-022376bbb7c0</td>\n      <td>7d0af71b-f597-11e9-bfb4-022d4762bb3c</td>\n      <td>58745466-f597-11e9-bfb4-022d4762bb3c</td>\n    </tr>\n    <tr>\n      <th>2</th>\n      <td>53</td>\n      <td>1583.88</td>\n      <td>INVOICE_REJECTED</td>\n      <td>931</td>\n      <td>1247</td>\n      <td>5/3/2020</td>\n      <td>6/12/2020</td>\n      <td>SCHEME_REJECTED</td>\n      <td>0.00</td>\n      <td>69.0</td>\n      <td>0.95</td>\n      <td>bf133220-754f-11ea-ade9-022376bbb7c0</td>\n      <td>7d0af53b-f597-11e9-bfb4-022d4762bb3c</td>\n      <td>58745466-f597-11e9-bfb4-022d4762bb3c</td>\n    </tr>\n    <tr>\n      <th>3</th>\n      <td>53</td>\n      <td>1136.04</td>\n      <td>ALL_PAID</td>\n      <td>955</td>\n      <td>1251</td>\n      <td>5/18/2020</td>\n      <td>5/29/2020</td>\n      <td>PAID</td>\n      <td>374.94</td>\n      <td>6.0</td>\n      <td>62.49</td>\n      <td>85e97742-754f-11ea-ade9-022376bbb7c0</td>\n      <td>7d0af71b-f597-11e9-bfb4-022d4762bb3c</td>\n      <td>58745466-f597-11e9-bfb4-022d4762bb3c</td>\n    </tr>\n  </tbody>\n</table>\n</div>"
     },
     "metadata": {},
     "execution_count": 19
    }
   ],
=======
   "execution_count": null,
   "metadata": {},
   "outputs": [],
>>>>>>> 8f720b2b4e9cec63e694a4d42aa154bd5f56dde0
   "source": [
    "invoices_claims_last_actived_all_fields.head(4)"
   ]
  },
  {
   "cell_type": "code",
<<<<<<< HEAD
   "execution_count": 20,
=======
   "execution_count": null,
>>>>>>> 8f720b2b4e9cec63e694a4d42aa154bd5f56dde0
   "metadata": {},
   "outputs": [],
   "source": [
    "# Select just the fields to be used\n",
    "invoices_claims_last_actived = invoices_claims_last_actived_all_fields[{\"member_id\"\n",
    "                                                                      , \"invoice_state\"\n",
    "                                                                      , \"invoice_id\"\n",
    "                                                                      , \"claim_state\"\n",
    "                                                                      , \"claim_id\"\n",
    "                                                                      , \"key\"  \n",
    "                                                                      , \"key.1\"\n",
    "                                                                      , \"key.2\"\n",
    "                                                                      , \"claim_start_date\"\n",
    "                                                                      , \"claim_end_date\"\n",
    "                                                                      , \"claim_funded_amount\"\n",
    "                                                                      , \"invoice_total\"\n",
    "                                                                      , \"claimed_units\"\n",
    "                                                                      , \"claimed_unit_price\"\n",
    "                                                                      }]\n",
    "\n",
    "# Rename some dataSet colums to create a name's pattern\n",
    "invoices_claims_last_actived.rename(columns={'claim_funded_amount':'funded_amount'\n",
    "                                           , 'invoice_total':'invoiced_amount_total'\n",
    "                                           , 'claimed__units_price':'claimed__units_amount'  \n",
    "                                           , 'key.1':'claim_level2_key'\n",
    "                                           , 'key.2':'claim_level1_key'\n",
    "                                           , 'key':'claim_level3_key'\n",
    "                                              } , inplace = True)                  "
   ]
  },
  {
   "cell_type": "code",
<<<<<<< HEAD
   "execution_count": 21,
   "metadata": {},
   "outputs": [
    {
     "output_type": "execute_result",
     "data": {
      "text/plain": [
       "array(['PAID', 'SCHEME_REJECTED', 'NOT_CLAIMABLE', 'CANCELLED',\n",
       "       'PENDING_APPROVAL', 'PENDING_REFUND', 'REFUNDED',\n",
       "       'OPERATOR_REJECTED', 'MEMBER_REJECTED', 'PENDING_CANCELLATION',\n",
       "       'PENDING_DISBURSEMENT', 'DRAFT_CLAIM', 'PENDING_REVIEW',\n",
       "       'SCHEME_AUTHORIZED', 'OPERATOR_AUTHORIZED'], dtype=object)"
      ]
     },
     "metadata": {},
     "execution_count": 21
    }
   ],
=======
   "execution_count": null,
   "metadata": {},
   "outputs": [],
>>>>>>> 8f720b2b4e9cec63e694a4d42aa154bd5f56dde0
   "source": [
    "# Check the claim_state To check whether there is any dump value\n",
    "invoices_claims_last_actived['claim_state'].unique()"
   ]
  },
  {
   "cell_type": "code",
<<<<<<< HEAD
   "execution_count": 22,
=======
   "execution_count": null,
>>>>>>> 8f720b2b4e9cec63e694a4d42aa154bd5f56dde0
   "metadata": {},
   "outputs": [],
   "source": [
    "invoices_claims_last_actived = invoices_claims_last_actived.drop(invoices_claims_last_actived[invoices_claims_last_actived.invoice_state.isna()].index)"
   ]
  },
  {
   "cell_type": "code",
<<<<<<< HEAD
   "execution_count": 23,
   "metadata": {},
   "outputs": [
    {
     "output_type": "execute_result",
     "data": {
      "text/plain": [
       "array(['ALL_PAID', 'INVOICE_REJECTED', 'SHORT_PAID', 'CANCELLED',\n",
       "       'PENDING_APPROVAL', 'PART_PAID', 'PENDING_REFUND',\n",
       "       'FULLY_REFUNDED', 'NOT_CLAIMABLE', 'PARTIALLY_REFUNDED',\n",
       "       'PENDING_REVIEW', 'PENDING_CANCELLATION', 'PENDING_CLAIM',\n",
       "       'ALL_APPROVED', 'DEED_ERROR_REVIEW_ALL', 'DRAFT_INVOICE',\n",
       "       'SHORT_PAYMENT_APPROVED', 'PARTIALLY_APPROVED'], dtype=object)"
      ]
     },
     "metadata": {},
     "execution_count": 23
    }
   ],
=======
   "execution_count": null,
   "metadata": {},
   "outputs": [],
>>>>>>> 8f720b2b4e9cec63e694a4d42aa154bd5f56dde0
   "source": [
    "# Check the claim_state To check whether there is any dump value\n",
    "invoices_claims_last_actived['invoice_state'].unique()"
   ]
  },
  {
   "cell_type": "code",
<<<<<<< HEAD
   "execution_count": 24,
   "metadata": {},
   "outputs": [
    {
     "output_type": "execute_result",
     "data": {
      "text/plain": [
       "array(['PAID', 'SCHEME_REJECTED', 'NOT_CLAIMABLE', 'CANCELLED',\n",
       "       'PENDING_APPROVAL', 'PENDING_REFUND', 'REFUNDED',\n",
       "       'OPERATOR_REJECTED', 'MEMBER_REJECTED', 'PENDING_CANCELLATION',\n",
       "       'PENDING_DISBURSEMENT', 'DRAFT_CLAIM', 'PENDING_REVIEW',\n",
       "       'SCHEME_AUTHORIZED', 'OPERATOR_AUTHORIZED'], dtype=object)"
      ]
     },
     "metadata": {},
     "execution_count": 24
    }
   ],
=======
   "execution_count": null,
   "metadata": {},
   "outputs": [],
>>>>>>> 8f720b2b4e9cec63e694a4d42aa154bd5f56dde0
   "source": [
    "invoices_claims_last_actived['claim_state'].unique()"
   ]
  },
  {
   "cell_type": "code",
<<<<<<< HEAD
   "execution_count": 25,
   "metadata": {},
   "outputs": [
    {
     "output_type": "display_data",
     "data": {
      "text/plain": "<Figure size 432x288 with 1 Axes>",
      "image/svg+xml": "<?xml version=\"1.0\" encoding=\"utf-8\" standalone=\"no\"?>\r\n<!DOCTYPE svg PUBLIC \"-//W3C//DTD SVG 1.1//EN\"\r\n  \"http://www.w3.org/Graphics/SVG/1.1/DTD/svg11.dtd\">\r\n<!-- Created with matplotlib (https://matplotlib.org/) -->\r\n<svg height=\"348.025156pt\" version=\"1.1\" viewBox=\"0 0 388.964375 348.025156\" width=\"388.964375pt\" xmlns=\"http://www.w3.org/2000/svg\" xmlns:xlink=\"http://www.w3.org/1999/xlink\">\r\n <defs>\r\n  <style type=\"text/css\">\r\n*{stroke-linecap:butt;stroke-linejoin:round;}\r\n  </style>\r\n </defs>\r\n <g id=\"figure_1\">\r\n  <g id=\"patch_1\">\r\n   <path d=\"M -0 348.025156 \r\nL 388.964375 348.025156 \r\nL 388.964375 0 \r\nL -0 0 \r\nz\r\n\" style=\"fill:#ffffff;\"/>\r\n  </g>\r\n  <g id=\"axes_1\">\r\n   <g id=\"patch_2\">\r\n    <path d=\"M 46.964375 224.64 \r\nL 381.764375 224.64 \r\nL 381.764375 7.2 \r\nL 46.964375 7.2 \r\nz\r\n\" style=\"fill:#ffffff;\"/>\r\n   </g>\r\n   <g id=\"matplotlib.axis_1\">\r\n    <g id=\"xtick_1\">\r\n     <g id=\"text_1\">\r\n      <!-- claimed_unit_price -->\r\n      <defs>\r\n       <path d=\"M 40.4375 19 \r\nL 49.078125 17.875 \r\nQ 47.65625 8.9375 41.8125 3.875 \r\nQ 35.984375 -1.171875 27.484375 -1.171875 \r\nQ 16.84375 -1.171875 10.375 5.78125 \r\nQ 3.90625 12.75 3.90625 25.734375 \r\nQ 3.90625 34.125 6.6875 40.421875 \r\nQ 9.46875 46.734375 15.15625 49.875 \r\nQ 20.84375 53.03125 27.546875 53.03125 \r\nQ 35.984375 53.03125 41.359375 48.75 \r\nQ 46.734375 44.484375 48.25 36.625 \r\nL 39.703125 35.296875 \r\nQ 38.484375 40.53125 35.375 43.15625 \r\nQ 32.28125 45.796875 27.875 45.796875 \r\nQ 21.234375 45.796875 17.078125 41.03125 \r\nQ 12.9375 36.28125 12.9375 25.984375 \r\nQ 12.9375 15.53125 16.9375 10.796875 \r\nQ 20.953125 6.0625 27.390625 6.0625 \r\nQ 32.5625 6.0625 36.03125 9.234375 \r\nQ 39.5 12.40625 40.4375 19 \r\nz\r\n\" id=\"ArialMT-99\"/>\r\n       <path d=\"M 6.390625 0 \r\nL 6.390625 71.578125 \r\nL 15.1875 71.578125 \r\nL 15.1875 0 \r\nz\r\n\" id=\"ArialMT-108\"/>\r\n       <path d=\"M 40.4375 6.390625 \r\nQ 35.546875 2.25 31.03125 0.53125 \r\nQ 26.515625 -1.171875 21.34375 -1.171875 \r\nQ 12.796875 -1.171875 8.203125 3 \r\nQ 3.609375 7.171875 3.609375 13.671875 \r\nQ 3.609375 17.484375 5.34375 20.625 \r\nQ 7.078125 23.78125 9.890625 25.6875 \r\nQ 12.703125 27.59375 16.21875 28.5625 \r\nQ 18.796875 29.25 24.03125 29.890625 \r\nQ 34.671875 31.15625 39.703125 32.90625 \r\nQ 39.75 34.71875 39.75 35.203125 \r\nQ 39.75 40.578125 37.25 42.78125 \r\nQ 33.890625 45.75 27.25 45.75 \r\nQ 21.046875 45.75 18.09375 43.578125 \r\nQ 15.140625 41.40625 13.71875 35.890625 \r\nL 5.125 37.0625 \r\nQ 6.296875 42.578125 8.984375 45.96875 \r\nQ 11.671875 49.359375 16.75 51.1875 \r\nQ 21.828125 53.03125 28.515625 53.03125 \r\nQ 35.15625 53.03125 39.296875 51.46875 \r\nQ 43.453125 49.90625 45.40625 47.53125 \r\nQ 47.359375 45.171875 48.140625 41.546875 \r\nQ 48.578125 39.3125 48.578125 33.453125 \r\nL 48.578125 21.734375 \r\nQ 48.578125 9.46875 49.140625 6.21875 \r\nQ 49.703125 2.984375 51.375 0 \r\nL 42.1875 0 \r\nQ 40.828125 2.734375 40.4375 6.390625 \r\nz\r\nM 39.703125 26.03125 \r\nQ 34.90625 24.078125 25.34375 22.703125 \r\nQ 19.921875 21.921875 17.671875 20.9375 \r\nQ 15.4375 19.96875 14.203125 18.09375 \r\nQ 12.984375 16.21875 12.984375 13.921875 \r\nQ 12.984375 10.40625 15.640625 8.0625 \r\nQ 18.3125 5.71875 23.4375 5.71875 \r\nQ 28.515625 5.71875 32.46875 7.9375 \r\nQ 36.421875 10.15625 38.28125 14.015625 \r\nQ 39.703125 17 39.703125 22.796875 \r\nz\r\n\" id=\"ArialMT-97\"/>\r\n       <path d=\"M 6.640625 61.46875 \r\nL 6.640625 71.578125 \r\nL 15.4375 71.578125 \r\nL 15.4375 61.46875 \r\nz\r\nM 6.640625 0 \r\nL 6.640625 51.859375 \r\nL 15.4375 51.859375 \r\nL 15.4375 0 \r\nz\r\n\" id=\"ArialMT-105\"/>\r\n       <path d=\"M 6.59375 0 \r\nL 6.59375 51.859375 \r\nL 14.453125 51.859375 \r\nL 14.453125 44.578125 \r\nQ 16.890625 48.390625 20.9375 50.703125 \r\nQ 25 53.03125 30.171875 53.03125 \r\nQ 35.9375 53.03125 39.625 50.640625 \r\nQ 43.3125 48.25 44.828125 43.953125 \r\nQ 50.984375 53.03125 60.84375 53.03125 \r\nQ 68.5625 53.03125 72.703125 48.75 \r\nQ 76.859375 44.484375 76.859375 35.59375 \r\nL 76.859375 0 \r\nL 68.109375 0 \r\nL 68.109375 32.671875 \r\nQ 68.109375 37.9375 67.25 40.25 \r\nQ 66.40625 42.578125 64.15625 43.984375 \r\nQ 61.921875 45.40625 58.890625 45.40625 \r\nQ 53.421875 45.40625 49.796875 41.765625 \r\nQ 46.1875 38.140625 46.1875 30.125 \r\nL 46.1875 0 \r\nL 37.40625 0 \r\nL 37.40625 33.6875 \r\nQ 37.40625 39.546875 35.25 42.46875 \r\nQ 33.109375 45.40625 28.21875 45.40625 \r\nQ 24.515625 45.40625 21.359375 43.453125 \r\nQ 18.21875 41.5 16.796875 37.734375 \r\nQ 15.375 33.984375 15.375 26.90625 \r\nL 15.375 0 \r\nz\r\n\" id=\"ArialMT-109\"/>\r\n       <path d=\"M 42.09375 16.703125 \r\nL 51.171875 15.578125 \r\nQ 49.03125 7.625 43.21875 3.21875 \r\nQ 37.40625 -1.171875 28.375 -1.171875 \r\nQ 17 -1.171875 10.328125 5.828125 \r\nQ 3.65625 12.84375 3.65625 25.484375 \r\nQ 3.65625 38.578125 10.390625 45.796875 \r\nQ 17.140625 53.03125 27.875 53.03125 \r\nQ 38.28125 53.03125 44.875 45.953125 \r\nQ 51.46875 38.875 51.46875 26.03125 \r\nQ 51.46875 25.25 51.421875 23.6875 \r\nL 12.75 23.6875 \r\nQ 13.234375 15.140625 17.578125 10.59375 \r\nQ 21.921875 6.0625 28.421875 6.0625 \r\nQ 33.25 6.0625 36.671875 8.59375 \r\nQ 40.09375 11.140625 42.09375 16.703125 \r\nz\r\nM 13.234375 30.90625 \r\nL 42.1875 30.90625 \r\nQ 41.609375 37.453125 38.875 40.71875 \r\nQ 34.671875 45.796875 27.984375 45.796875 \r\nQ 21.921875 45.796875 17.796875 41.75 \r\nQ 13.671875 37.703125 13.234375 30.90625 \r\nz\r\n\" id=\"ArialMT-101\"/>\r\n       <path d=\"M 40.234375 0 \r\nL 40.234375 6.546875 \r\nQ 35.296875 -1.171875 25.734375 -1.171875 \r\nQ 19.53125 -1.171875 14.328125 2.25 \r\nQ 9.125 5.671875 6.265625 11.796875 \r\nQ 3.421875 17.921875 3.421875 25.875 \r\nQ 3.421875 33.640625 6 39.96875 \r\nQ 8.59375 46.296875 13.765625 49.65625 \r\nQ 18.953125 53.03125 25.34375 53.03125 \r\nQ 30.03125 53.03125 33.6875 51.046875 \r\nQ 37.359375 49.078125 39.65625 45.90625 \r\nL 39.65625 71.578125 \r\nL 48.390625 71.578125 \r\nL 48.390625 0 \r\nz\r\nM 12.453125 25.875 \r\nQ 12.453125 15.921875 16.640625 10.984375 \r\nQ 20.84375 6.0625 26.5625 6.0625 \r\nQ 32.328125 6.0625 36.34375 10.765625 \r\nQ 40.375 15.484375 40.375 25.140625 \r\nQ 40.375 35.796875 36.265625 40.765625 \r\nQ 32.171875 45.75 26.171875 45.75 \r\nQ 20.3125 45.75 16.375 40.96875 \r\nQ 12.453125 36.1875 12.453125 25.875 \r\nz\r\n\" id=\"ArialMT-100\"/>\r\n       <path d=\"M -1.515625 -19.875 \r\nL -1.515625 -13.53125 \r\nL 56.734375 -13.53125 \r\nL 56.734375 -19.875 \r\nz\r\n\" id=\"ArialMT-95\"/>\r\n       <path d=\"M 40.578125 0 \r\nL 40.578125 7.625 \r\nQ 34.515625 -1.171875 24.125 -1.171875 \r\nQ 19.53125 -1.171875 15.546875 0.578125 \r\nQ 11.578125 2.34375 9.640625 5 \r\nQ 7.71875 7.671875 6.9375 11.53125 \r\nQ 6.390625 14.109375 6.390625 19.734375 \r\nL 6.390625 51.859375 \r\nL 15.1875 51.859375 \r\nL 15.1875 23.09375 \r\nQ 15.1875 16.21875 15.71875 13.8125 \r\nQ 16.546875 10.359375 19.234375 8.375 \r\nQ 21.921875 6.390625 25.875 6.390625 \r\nQ 29.828125 6.390625 33.296875 8.421875 \r\nQ 36.765625 10.453125 38.203125 13.9375 \r\nQ 39.65625 17.4375 39.65625 24.078125 \r\nL 39.65625 51.859375 \r\nL 48.4375 51.859375 \r\nL 48.4375 0 \r\nz\r\n\" id=\"ArialMT-117\"/>\r\n       <path d=\"M 6.59375 0 \r\nL 6.59375 51.859375 \r\nL 14.5 51.859375 \r\nL 14.5 44.484375 \r\nQ 20.21875 53.03125 31 53.03125 \r\nQ 35.6875 53.03125 39.625 51.34375 \r\nQ 43.5625 49.65625 45.515625 46.921875 \r\nQ 47.46875 44.1875 48.25 40.4375 \r\nQ 48.734375 37.984375 48.734375 31.890625 \r\nL 48.734375 0 \r\nL 39.9375 0 \r\nL 39.9375 31.546875 \r\nQ 39.9375 36.921875 38.90625 39.578125 \r\nQ 37.890625 42.234375 35.28125 43.8125 \r\nQ 32.671875 45.40625 29.15625 45.40625 \r\nQ 23.53125 45.40625 19.453125 41.84375 \r\nQ 15.375 38.28125 15.375 28.328125 \r\nL 15.375 0 \r\nz\r\n\" id=\"ArialMT-110\"/>\r\n       <path d=\"M 25.78125 7.859375 \r\nL 27.046875 0.09375 \r\nQ 23.34375 -0.6875 20.40625 -0.6875 \r\nQ 15.625 -0.6875 12.984375 0.828125 \r\nQ 10.359375 2.34375 9.28125 4.8125 \r\nQ 8.203125 7.28125 8.203125 15.1875 \r\nL 8.203125 45.015625 \r\nL 1.765625 45.015625 \r\nL 1.765625 51.859375 \r\nL 8.203125 51.859375 \r\nL 8.203125 64.703125 \r\nL 16.9375 69.96875 \r\nL 16.9375 51.859375 \r\nL 25.78125 51.859375 \r\nL 25.78125 45.015625 \r\nL 16.9375 45.015625 \r\nL 16.9375 14.703125 \r\nQ 16.9375 10.9375 17.40625 9.859375 \r\nQ 17.875 8.796875 18.921875 8.15625 \r\nQ 19.96875 7.515625 21.921875 7.515625 \r\nQ 23.390625 7.515625 25.78125 7.859375 \r\nz\r\n\" id=\"ArialMT-116\"/>\r\n       <path d=\"M 6.59375 -19.875 \r\nL 6.59375 51.859375 \r\nL 14.59375 51.859375 \r\nL 14.59375 45.125 \r\nQ 17.4375 49.078125 21 51.046875 \r\nQ 24.5625 53.03125 29.640625 53.03125 \r\nQ 36.28125 53.03125 41.359375 49.609375 \r\nQ 46.4375 46.1875 49.015625 39.953125 \r\nQ 51.609375 33.734375 51.609375 26.3125 \r\nQ 51.609375 18.359375 48.75 11.984375 \r\nQ 45.90625 5.609375 40.453125 2.21875 \r\nQ 35.015625 -1.171875 29 -1.171875 \r\nQ 24.609375 -1.171875 21.109375 0.6875 \r\nQ 17.625 2.546875 15.375 5.375 \r\nL 15.375 -19.875 \r\nz\r\nM 14.546875 25.640625 \r\nQ 14.546875 15.625 18.59375 10.84375 \r\nQ 22.65625 6.0625 28.421875 6.0625 \r\nQ 34.28125 6.0625 38.453125 11.015625 \r\nQ 42.625 15.96875 42.625 26.375 \r\nQ 42.625 36.28125 38.546875 41.203125 \r\nQ 34.46875 46.140625 28.8125 46.140625 \r\nQ 23.1875 46.140625 18.859375 40.890625 \r\nQ 14.546875 35.640625 14.546875 25.640625 \r\nz\r\n\" id=\"ArialMT-112\"/>\r\n       <path d=\"M 6.5 0 \r\nL 6.5 51.859375 \r\nL 14.40625 51.859375 \r\nL 14.40625 44 \r\nQ 17.4375 49.515625 20 51.265625 \r\nQ 22.5625 53.03125 25.640625 53.03125 \r\nQ 30.078125 53.03125 34.671875 50.203125 \r\nL 31.640625 42.046875 \r\nQ 28.421875 43.953125 25.203125 43.953125 \r\nQ 22.3125 43.953125 20.015625 42.21875 \r\nQ 17.71875 40.484375 16.75 37.40625 \r\nQ 15.28125 32.71875 15.28125 27.15625 \r\nL 15.28125 0 \r\nz\r\n\" id=\"ArialMT-114\"/>\r\n      </defs>\r\n      <g style=\"fill:#262626;\" transform=\"translate(105.608047 325.850781)rotate(-90)scale(0.11 -0.11)\">\r\n       <use xlink:href=\"#ArialMT-99\"/>\r\n       <use x=\"50\" xlink:href=\"#ArialMT-108\"/>\r\n       <use x=\"72.216797\" xlink:href=\"#ArialMT-97\"/>\r\n       <use x=\"127.832031\" xlink:href=\"#ArialMT-105\"/>\r\n       <use x=\"150.048828\" xlink:href=\"#ArialMT-109\"/>\r\n       <use x=\"233.349609\" xlink:href=\"#ArialMT-101\"/>\r\n       <use x=\"288.964844\" xlink:href=\"#ArialMT-100\"/>\r\n       <use x=\"344.580078\" xlink:href=\"#ArialMT-95\"/>\r\n       <use x=\"400.195312\" xlink:href=\"#ArialMT-117\"/>\r\n       <use x=\"455.810547\" xlink:href=\"#ArialMT-110\"/>\r\n       <use x=\"511.425781\" xlink:href=\"#ArialMT-105\"/>\r\n       <use x=\"533.642578\" xlink:href=\"#ArialMT-116\"/>\r\n       <use x=\"561.425781\" xlink:href=\"#ArialMT-95\"/>\r\n       <use x=\"617.041016\" xlink:href=\"#ArialMT-112\"/>\r\n       <use x=\"672.65625\" xlink:href=\"#ArialMT-114\"/>\r\n       <use x=\"705.957031\" xlink:href=\"#ArialMT-105\"/>\r\n       <use x=\"728.173828\" xlink:href=\"#ArialMT-99\"/>\r\n       <use x=\"778.173828\" xlink:href=\"#ArialMT-101\"/>\r\n      </g>\r\n     </g>\r\n    </g>\r\n    <g id=\"xtick_2\">\r\n     <g id=\"text_2\">\r\n      <!-- claimed_units -->\r\n      <defs>\r\n       <path d=\"M 3.078125 15.484375 \r\nL 11.765625 16.84375 \r\nQ 12.5 11.625 15.84375 8.84375 \r\nQ 19.1875 6.0625 25.203125 6.0625 \r\nQ 31.25 6.0625 34.171875 8.515625 \r\nQ 37.109375 10.984375 37.109375 14.3125 \r\nQ 37.109375 17.28125 34.515625 19 \r\nQ 32.71875 20.171875 25.53125 21.96875 \r\nQ 15.875 24.421875 12.140625 26.203125 \r\nQ 8.40625 27.984375 6.46875 31.125 \r\nQ 4.546875 34.28125 4.546875 38.09375 \r\nQ 4.546875 41.546875 6.125 44.5 \r\nQ 7.71875 47.46875 10.453125 49.421875 \r\nQ 12.5 50.921875 16.03125 51.96875 \r\nQ 19.578125 53.03125 23.640625 53.03125 \r\nQ 29.734375 53.03125 34.34375 51.265625 \r\nQ 38.96875 49.515625 41.15625 46.5 \r\nQ 43.359375 43.5 44.1875 38.484375 \r\nL 35.59375 37.3125 \r\nQ 35.015625 41.3125 32.203125 43.546875 \r\nQ 29.390625 45.796875 24.265625 45.796875 \r\nQ 18.21875 45.796875 15.625 43.796875 \r\nQ 13.03125 41.796875 13.03125 39.109375 \r\nQ 13.03125 37.40625 14.109375 36.03125 \r\nQ 15.1875 34.625 17.484375 33.6875 \r\nQ 18.796875 33.203125 25.25 31.453125 \r\nQ 34.578125 28.953125 38.25 27.359375 \r\nQ 41.9375 25.78125 44.03125 22.75 \r\nQ 46.140625 19.734375 46.140625 15.234375 \r\nQ 46.140625 10.84375 43.578125 6.953125 \r\nQ 41.015625 3.078125 36.171875 0.953125 \r\nQ 31.34375 -1.171875 25.25 -1.171875 \r\nQ 15.140625 -1.171875 9.84375 3.03125 \r\nQ 4.546875 7.234375 3.078125 15.484375 \r\nz\r\n\" id=\"ArialMT-115\"/>\r\n      </defs>\r\n      <g style=\"fill:#262626;\" transform=\"translate(217.208047 301.392969)rotate(-90)scale(0.11 -0.11)\">\r\n       <use xlink:href=\"#ArialMT-99\"/>\r\n       <use x=\"50\" xlink:href=\"#ArialMT-108\"/>\r\n       <use x=\"72.216797\" xlink:href=\"#ArialMT-97\"/>\r\n       <use x=\"127.832031\" xlink:href=\"#ArialMT-105\"/>\r\n       <use x=\"150.048828\" xlink:href=\"#ArialMT-109\"/>\r\n       <use x=\"233.349609\" xlink:href=\"#ArialMT-101\"/>\r\n       <use x=\"288.964844\" xlink:href=\"#ArialMT-100\"/>\r\n       <use x=\"344.580078\" xlink:href=\"#ArialMT-95\"/>\r\n       <use x=\"400.195312\" xlink:href=\"#ArialMT-117\"/>\r\n       <use x=\"455.810547\" xlink:href=\"#ArialMT-110\"/>\r\n       <use x=\"511.425781\" xlink:href=\"#ArialMT-105\"/>\r\n       <use x=\"533.642578\" xlink:href=\"#ArialMT-116\"/>\r\n       <use x=\"561.425781\" xlink:href=\"#ArialMT-115\"/>\r\n      </g>\r\n     </g>\r\n    </g>\r\n    <g id=\"xtick_3\">\r\n     <g id=\"text_3\">\r\n      <!-- funded_amount -->\r\n      <defs>\r\n       <path d=\"M 8.6875 0 \r\nL 8.6875 45.015625 \r\nL 0.921875 45.015625 \r\nL 0.921875 51.859375 \r\nL 8.6875 51.859375 \r\nL 8.6875 57.375 \r\nQ 8.6875 62.59375 9.625 65.140625 \r\nQ 10.890625 68.5625 14.078125 70.671875 \r\nQ 17.28125 72.796875 23.046875 72.796875 \r\nQ 26.765625 72.796875 31.25 71.921875 \r\nL 29.9375 64.265625 \r\nQ 27.203125 64.75 24.75 64.75 \r\nQ 20.75 64.75 19.09375 63.03125 \r\nQ 17.4375 61.328125 17.4375 56.640625 \r\nL 17.4375 51.859375 \r\nL 27.546875 51.859375 \r\nL 27.546875 45.015625 \r\nL 17.4375 45.015625 \r\nL 17.4375 0 \r\nz\r\n\" id=\"ArialMT-102\"/>\r\n       <path d=\"M 3.328125 25.921875 \r\nQ 3.328125 40.328125 11.328125 47.265625 \r\nQ 18.015625 53.03125 27.640625 53.03125 \r\nQ 38.328125 53.03125 45.109375 46.015625 \r\nQ 51.90625 39.015625 51.90625 26.65625 \r\nQ 51.90625 16.65625 48.90625 10.90625 \r\nQ 45.90625 5.171875 40.15625 2 \r\nQ 34.421875 -1.171875 27.640625 -1.171875 \r\nQ 16.75 -1.171875 10.03125 5.8125 \r\nQ 3.328125 12.796875 3.328125 25.921875 \r\nz\r\nM 12.359375 25.921875 \r\nQ 12.359375 15.96875 16.703125 11.015625 \r\nQ 21.046875 6.0625 27.640625 6.0625 \r\nQ 34.1875 6.0625 38.53125 11.03125 \r\nQ 42.875 16.015625 42.875 26.21875 \r\nQ 42.875 35.84375 38.5 40.796875 \r\nQ 34.125 45.75 27.640625 45.75 \r\nQ 21.046875 45.75 16.703125 40.8125 \r\nQ 12.359375 35.890625 12.359375 25.921875 \r\nz\r\n\" id=\"ArialMT-111\"/>\r\n      </defs>\r\n      <g style=\"fill:#262626;\" transform=\"translate(328.875078 310.584844)rotate(-90)scale(0.11 -0.11)\">\r\n       <use xlink:href=\"#ArialMT-102\"/>\r\n       <use x=\"27.783203\" xlink:href=\"#ArialMT-117\"/>\r\n       <use x=\"83.398438\" xlink:href=\"#ArialMT-110\"/>\r\n       <use x=\"139.013672\" xlink:href=\"#ArialMT-100\"/>\r\n       <use x=\"194.628906\" xlink:href=\"#ArialMT-101\"/>\r\n       <use x=\"250.244141\" xlink:href=\"#ArialMT-100\"/>\r\n       <use x=\"305.859375\" xlink:href=\"#ArialMT-95\"/>\r\n       <use x=\"361.474609\" xlink:href=\"#ArialMT-97\"/>\r\n       <use x=\"417.089844\" xlink:href=\"#ArialMT-109\"/>\r\n       <use x=\"500.390625\" xlink:href=\"#ArialMT-111\"/>\r\n       <use x=\"556.005859\" xlink:href=\"#ArialMT-117\"/>\r\n       <use x=\"611.621094\" xlink:href=\"#ArialMT-110\"/>\r\n       <use x=\"667.236328\" xlink:href=\"#ArialMT-116\"/>\r\n      </g>\r\n     </g>\r\n    </g>\r\n    <g id=\"text_4\">\r\n     <!-- Column -->\r\n     <defs>\r\n      <path d=\"M 58.796875 25.09375 \r\nL 68.265625 22.703125 \r\nQ 65.28125 11.03125 57.546875 4.90625 \r\nQ 49.8125 -1.21875 38.625 -1.21875 \r\nQ 27.046875 -1.21875 19.796875 3.484375 \r\nQ 12.546875 8.203125 8.765625 17.140625 \r\nQ 4.984375 26.078125 4.984375 36.328125 \r\nQ 4.984375 47.515625 9.25 55.828125 \r\nQ 13.53125 64.15625 21.40625 68.46875 \r\nQ 29.296875 72.796875 38.765625 72.796875 \r\nQ 49.515625 72.796875 56.828125 67.328125 \r\nQ 64.15625 61.859375 67.046875 51.953125 \r\nL 57.71875 49.75 \r\nQ 55.21875 57.5625 50.484375 61.125 \r\nQ 45.75 64.703125 38.578125 64.703125 \r\nQ 30.328125 64.703125 24.78125 60.734375 \r\nQ 19.234375 56.78125 16.984375 50.109375 \r\nQ 14.75 43.453125 14.75 36.375 \r\nQ 14.75 27.25 17.40625 20.4375 \r\nQ 20.0625 13.625 25.671875 10.25 \r\nQ 31.296875 6.890625 37.84375 6.890625 \r\nQ 45.796875 6.890625 51.3125 11.46875 \r\nQ 56.84375 16.0625 58.796875 25.09375 \r\nz\r\n\" id=\"ArialMT-67\"/>\r\n     </defs>\r\n     <g style=\"fill:#262626;\" transform=\"translate(193.690625 338.440156)scale(0.12 -0.12)\">\r\n      <use xlink:href=\"#ArialMT-67\"/>\r\n      <use x=\"72.216797\" xlink:href=\"#ArialMT-111\"/>\r\n      <use x=\"127.832031\" xlink:href=\"#ArialMT-108\"/>\r\n      <use x=\"150.048828\" xlink:href=\"#ArialMT-117\"/>\r\n      <use x=\"205.664062\" xlink:href=\"#ArialMT-109\"/>\r\n      <use x=\"288.964844\" xlink:href=\"#ArialMT-110\"/>\r\n     </g>\r\n    </g>\r\n   </g>\r\n   <g id=\"matplotlib.axis_2\">\r\n    <g id=\"ytick_1\">\r\n     <g id=\"line2d_1\">\r\n      <path clip-path=\"url(#pbf4f58c5c4)\" d=\"M 46.964375 224.64 \r\nL 381.764375 224.64 \r\n\" style=\"fill:none;stroke:#cccccc;stroke-linecap:round;\"/>\r\n     </g>\r\n     <g id=\"text_5\">\r\n      <!-- 0.0 -->\r\n      <defs>\r\n       <path d=\"M 4.15625 35.296875 \r\nQ 4.15625 48 6.765625 55.734375 \r\nQ 9.375 63.484375 14.515625 67.671875 \r\nQ 19.671875 71.875 27.484375 71.875 \r\nQ 33.25 71.875 37.59375 69.546875 \r\nQ 41.9375 67.234375 44.765625 62.859375 \r\nQ 47.609375 58.5 49.21875 52.21875 \r\nQ 50.828125 45.953125 50.828125 35.296875 \r\nQ 50.828125 22.703125 48.234375 14.96875 \r\nQ 45.65625 7.234375 40.5 3 \r\nQ 35.359375 -1.21875 27.484375 -1.21875 \r\nQ 17.140625 -1.21875 11.234375 6.203125 \r\nQ 4.15625 15.140625 4.15625 35.296875 \r\nz\r\nM 13.1875 35.296875 \r\nQ 13.1875 17.671875 17.3125 11.828125 \r\nQ 21.4375 6 27.484375 6 \r\nQ 33.546875 6 37.671875 11.859375 \r\nQ 41.796875 17.71875 41.796875 35.296875 \r\nQ 41.796875 52.984375 37.671875 58.78125 \r\nQ 33.546875 64.59375 27.390625 64.59375 \r\nQ 21.34375 64.59375 17.71875 59.46875 \r\nQ 13.1875 52.9375 13.1875 35.296875 \r\nz\r\n\" id=\"ArialMT-48\"/>\r\n       <path d=\"M 9.078125 0 \r\nL 9.078125 10.015625 \r\nL 19.09375 10.015625 \r\nL 19.09375 0 \r\nz\r\n\" id=\"ArialMT-46\"/>\r\n      </defs>\r\n      <g style=\"fill:#262626;\" transform=\"translate(22.174375 228.576797)scale(0.11 -0.11)\">\r\n       <use xlink:href=\"#ArialMT-48\"/>\r\n       <use x=\"55.615234\" xlink:href=\"#ArialMT-46\"/>\r\n       <use x=\"83.398438\" xlink:href=\"#ArialMT-48\"/>\r\n      </g>\r\n     </g>\r\n    </g>\r\n    <g id=\"ytick_2\">\r\n     <g id=\"line2d_2\">\r\n      <path clip-path=\"url(#pbf4f58c5c4)\" d=\"M 46.964375 199.987359 \r\nL 381.764375 199.987359 \r\n\" style=\"fill:none;stroke:#cccccc;stroke-linecap:round;\"/>\r\n     </g>\r\n     <g id=\"text_6\">\r\n      <!-- 0.2 -->\r\n      <defs>\r\n       <path d=\"M 50.34375 8.453125 \r\nL 50.34375 0 \r\nL 3.03125 0 \r\nQ 2.9375 3.171875 4.046875 6.109375 \r\nQ 5.859375 10.9375 9.828125 15.625 \r\nQ 13.8125 20.3125 21.34375 26.46875 \r\nQ 33.015625 36.03125 37.109375 41.625 \r\nQ 41.21875 47.21875 41.21875 52.203125 \r\nQ 41.21875 57.421875 37.46875 61 \r\nQ 33.734375 64.59375 27.734375 64.59375 \r\nQ 21.390625 64.59375 17.578125 60.78125 \r\nQ 13.765625 56.984375 13.71875 50.25 \r\nL 4.6875 51.171875 \r\nQ 5.609375 61.28125 11.65625 66.578125 \r\nQ 17.71875 71.875 27.9375 71.875 \r\nQ 38.234375 71.875 44.234375 66.15625 \r\nQ 50.25 60.453125 50.25 52 \r\nQ 50.25 47.703125 48.484375 43.546875 \r\nQ 46.734375 39.40625 42.65625 34.8125 \r\nQ 38.578125 30.21875 29.109375 22.21875 \r\nQ 21.1875 15.578125 18.9375 13.203125 \r\nQ 16.703125 10.84375 15.234375 8.453125 \r\nz\r\n\" id=\"ArialMT-50\"/>\r\n      </defs>\r\n      <g style=\"fill:#262626;\" transform=\"translate(22.174375 203.924156)scale(0.11 -0.11)\">\r\n       <use xlink:href=\"#ArialMT-48\"/>\r\n       <use x=\"55.615234\" xlink:href=\"#ArialMT-46\"/>\r\n       <use x=\"83.398438\" xlink:href=\"#ArialMT-50\"/>\r\n      </g>\r\n     </g>\r\n    </g>\r\n    <g id=\"ytick_3\">\r\n     <g id=\"line2d_3\">\r\n      <path clip-path=\"url(#pbf4f58c5c4)\" d=\"M 46.964375 175.334719 \r\nL 381.764375 175.334719 \r\n\" style=\"fill:none;stroke:#cccccc;stroke-linecap:round;\"/>\r\n     </g>\r\n     <g id=\"text_7\">\r\n      <!-- 0.4 -->\r\n      <defs>\r\n       <path d=\"M 32.328125 0 \r\nL 32.328125 17.140625 \r\nL 1.265625 17.140625 \r\nL 1.265625 25.203125 \r\nL 33.9375 71.578125 \r\nL 41.109375 71.578125 \r\nL 41.109375 25.203125 \r\nL 50.78125 25.203125 \r\nL 50.78125 17.140625 \r\nL 41.109375 17.140625 \r\nL 41.109375 0 \r\nz\r\nM 32.328125 25.203125 \r\nL 32.328125 57.46875 \r\nL 9.90625 25.203125 \r\nz\r\n\" id=\"ArialMT-52\"/>\r\n      </defs>\r\n      <g style=\"fill:#262626;\" transform=\"translate(22.174375 179.271516)scale(0.11 -0.11)\">\r\n       <use xlink:href=\"#ArialMT-48\"/>\r\n       <use x=\"55.615234\" xlink:href=\"#ArialMT-46\"/>\r\n       <use x=\"83.398438\" xlink:href=\"#ArialMT-52\"/>\r\n      </g>\r\n     </g>\r\n    </g>\r\n    <g id=\"ytick_4\">\r\n     <g id=\"line2d_4\">\r\n      <path clip-path=\"url(#pbf4f58c5c4)\" d=\"M 46.964375 150.682078 \r\nL 381.764375 150.682078 \r\n\" style=\"fill:none;stroke:#cccccc;stroke-linecap:round;\"/>\r\n     </g>\r\n     <g id=\"text_8\">\r\n      <!-- 0.6 -->\r\n      <defs>\r\n       <path d=\"M 49.75 54.046875 \r\nL 41.015625 53.375 \r\nQ 39.84375 58.546875 37.703125 60.890625 \r\nQ 34.125 64.65625 28.90625 64.65625 \r\nQ 24.703125 64.65625 21.53125 62.3125 \r\nQ 17.390625 59.28125 14.984375 53.46875 \r\nQ 12.59375 47.65625 12.5 36.921875 \r\nQ 15.671875 41.75 20.265625 44.09375 \r\nQ 24.859375 46.4375 29.890625 46.4375 \r\nQ 38.671875 46.4375 44.84375 39.96875 \r\nQ 51.03125 33.5 51.03125 23.25 \r\nQ 51.03125 16.5 48.125 10.71875 \r\nQ 45.21875 4.9375 40.140625 1.859375 \r\nQ 35.0625 -1.21875 28.609375 -1.21875 \r\nQ 17.625 -1.21875 10.6875 6.859375 \r\nQ 3.765625 14.9375 3.765625 33.5 \r\nQ 3.765625 54.25 11.421875 63.671875 \r\nQ 18.109375 71.875 29.4375 71.875 \r\nQ 37.890625 71.875 43.28125 67.140625 \r\nQ 48.6875 62.40625 49.75 54.046875 \r\nz\r\nM 13.875 23.1875 \r\nQ 13.875 18.65625 15.796875 14.5 \r\nQ 17.71875 10.359375 21.1875 8.171875 \r\nQ 24.65625 6 28.46875 6 \r\nQ 34.03125 6 38.03125 10.484375 \r\nQ 42.046875 14.984375 42.046875 22.703125 \r\nQ 42.046875 30.125 38.078125 34.390625 \r\nQ 34.125 38.671875 28.125 38.671875 \r\nQ 22.171875 38.671875 18.015625 34.390625 \r\nQ 13.875 30.125 13.875 23.1875 \r\nz\r\n\" id=\"ArialMT-54\"/>\r\n      </defs>\r\n      <g style=\"fill:#262626;\" transform=\"translate(22.174375 154.618875)scale(0.11 -0.11)\">\r\n       <use xlink:href=\"#ArialMT-48\"/>\r\n       <use x=\"55.615234\" xlink:href=\"#ArialMT-46\"/>\r\n       <use x=\"83.398438\" xlink:href=\"#ArialMT-54\"/>\r\n      </g>\r\n     </g>\r\n    </g>\r\n    <g id=\"ytick_5\">\r\n     <g id=\"line2d_5\">\r\n      <path clip-path=\"url(#pbf4f58c5c4)\" d=\"M 46.964375 126.029438 \r\nL 381.764375 126.029438 \r\n\" style=\"fill:none;stroke:#cccccc;stroke-linecap:round;\"/>\r\n     </g>\r\n     <g id=\"text_9\">\r\n      <!-- 0.8 -->\r\n      <defs>\r\n       <path d=\"M 17.671875 38.8125 \r\nQ 12.203125 40.828125 9.5625 44.53125 \r\nQ 6.9375 48.25 6.9375 53.421875 \r\nQ 6.9375 61.234375 12.546875 66.546875 \r\nQ 18.171875 71.875 27.484375 71.875 \r\nQ 36.859375 71.875 42.578125 66.421875 \r\nQ 48.296875 60.984375 48.296875 53.171875 \r\nQ 48.296875 48.1875 45.671875 44.5 \r\nQ 43.0625 40.828125 37.75 38.8125 \r\nQ 44.34375 36.671875 47.78125 31.875 \r\nQ 51.21875 27.09375 51.21875 20.453125 \r\nQ 51.21875 11.28125 44.71875 5.03125 \r\nQ 38.234375 -1.21875 27.640625 -1.21875 \r\nQ 17.046875 -1.21875 10.546875 5.046875 \r\nQ 4.046875 11.328125 4.046875 20.703125 \r\nQ 4.046875 27.6875 7.59375 32.390625 \r\nQ 11.140625 37.109375 17.671875 38.8125 \r\nz\r\nM 15.921875 53.71875 \r\nQ 15.921875 48.640625 19.1875 45.40625 \r\nQ 22.46875 42.1875 27.6875 42.1875 \r\nQ 32.765625 42.1875 36.015625 45.375 \r\nQ 39.265625 48.578125 39.265625 53.21875 \r\nQ 39.265625 58.0625 35.90625 61.359375 \r\nQ 32.5625 64.65625 27.59375 64.65625 \r\nQ 22.5625 64.65625 19.234375 61.421875 \r\nQ 15.921875 58.203125 15.921875 53.71875 \r\nz\r\nM 13.09375 20.65625 \r\nQ 13.09375 16.890625 14.875 13.375 \r\nQ 16.65625 9.859375 20.171875 7.921875 \r\nQ 23.6875 6 27.734375 6 \r\nQ 34.03125 6 38.125 10.046875 \r\nQ 42.234375 14.109375 42.234375 20.359375 \r\nQ 42.234375 26.703125 38.015625 30.859375 \r\nQ 33.796875 35.015625 27.4375 35.015625 \r\nQ 21.234375 35.015625 17.15625 30.90625 \r\nQ 13.09375 26.8125 13.09375 20.65625 \r\nz\r\n\" id=\"ArialMT-56\"/>\r\n      </defs>\r\n      <g style=\"fill:#262626;\" transform=\"translate(22.174375 129.966235)scale(0.11 -0.11)\">\r\n       <use xlink:href=\"#ArialMT-48\"/>\r\n       <use x=\"55.615234\" xlink:href=\"#ArialMT-46\"/>\r\n       <use x=\"83.398438\" xlink:href=\"#ArialMT-56\"/>\r\n      </g>\r\n     </g>\r\n    </g>\r\n    <g id=\"ytick_6\">\r\n     <g id=\"line2d_6\">\r\n      <path clip-path=\"url(#pbf4f58c5c4)\" d=\"M 46.964375 101.376797 \r\nL 381.764375 101.376797 \r\n\" style=\"fill:none;stroke:#cccccc;stroke-linecap:round;\"/>\r\n     </g>\r\n     <g id=\"text_10\">\r\n      <!-- 1.0 -->\r\n      <defs>\r\n       <path d=\"M 37.25 0 \r\nL 28.46875 0 \r\nL 28.46875 56 \r\nQ 25.296875 52.984375 20.140625 49.953125 \r\nQ 14.984375 46.921875 10.890625 45.40625 \r\nL 10.890625 53.90625 \r\nQ 18.265625 57.375 23.78125 62.296875 \r\nQ 29.296875 67.234375 31.59375 71.875 \r\nL 37.25 71.875 \r\nz\r\n\" id=\"ArialMT-49\"/>\r\n      </defs>\r\n      <g style=\"fill:#262626;\" transform=\"translate(22.174375 105.313594)scale(0.11 -0.11)\">\r\n       <use xlink:href=\"#ArialMT-49\"/>\r\n       <use x=\"55.615234\" xlink:href=\"#ArialMT-46\"/>\r\n       <use x=\"83.398438\" xlink:href=\"#ArialMT-48\"/>\r\n      </g>\r\n     </g>\r\n    </g>\r\n    <g id=\"ytick_7\">\r\n     <g id=\"line2d_7\">\r\n      <path clip-path=\"url(#pbf4f58c5c4)\" d=\"M 46.964375 76.724156 \r\nL 381.764375 76.724156 \r\n\" style=\"fill:none;stroke:#cccccc;stroke-linecap:round;\"/>\r\n     </g>\r\n     <g id=\"text_11\">\r\n      <!-- 1.2 -->\r\n      <g style=\"fill:#262626;\" transform=\"translate(22.174375 80.660953)scale(0.11 -0.11)\">\r\n       <use xlink:href=\"#ArialMT-49\"/>\r\n       <use x=\"55.615234\" xlink:href=\"#ArialMT-46\"/>\r\n       <use x=\"83.398438\" xlink:href=\"#ArialMT-50\"/>\r\n      </g>\r\n     </g>\r\n    </g>\r\n    <g id=\"ytick_8\">\r\n     <g id=\"line2d_8\">\r\n      <path clip-path=\"url(#pbf4f58c5c4)\" d=\"M 46.964375 52.071516 \r\nL 381.764375 52.071516 \r\n\" style=\"fill:none;stroke:#cccccc;stroke-linecap:round;\"/>\r\n     </g>\r\n     <g id=\"text_12\">\r\n      <!-- 1.4 -->\r\n      <g style=\"fill:#262626;\" transform=\"translate(22.174375 56.008313)scale(0.11 -0.11)\">\r\n       <use xlink:href=\"#ArialMT-49\"/>\r\n       <use x=\"55.615234\" xlink:href=\"#ArialMT-46\"/>\r\n       <use x=\"83.398438\" xlink:href=\"#ArialMT-52\"/>\r\n      </g>\r\n     </g>\r\n    </g>\r\n    <g id=\"ytick_9\">\r\n     <g id=\"line2d_9\">\r\n      <path clip-path=\"url(#pbf4f58c5c4)\" d=\"M 46.964375 27.418875 \r\nL 381.764375 27.418875 \r\n\" style=\"fill:none;stroke:#cccccc;stroke-linecap:round;\"/>\r\n     </g>\r\n     <g id=\"text_13\">\r\n      <!-- 1.6 -->\r\n      <g style=\"fill:#262626;\" transform=\"translate(22.174375 31.355672)scale(0.11 -0.11)\">\r\n       <use xlink:href=\"#ArialMT-49\"/>\r\n       <use x=\"55.615234\" xlink:href=\"#ArialMT-46\"/>\r\n       <use x=\"83.398438\" xlink:href=\"#ArialMT-54\"/>\r\n      </g>\r\n     </g>\r\n    </g>\r\n    <g id=\"text_14\">\r\n     <!-- Percentual -->\r\n     <defs>\r\n      <path d=\"M 7.71875 0 \r\nL 7.71875 71.578125 \r\nL 34.71875 71.578125 \r\nQ 41.84375 71.578125 45.609375 70.90625 \r\nQ 50.875 70.015625 54.4375 67.546875 \r\nQ 58.015625 65.09375 60.1875 60.640625 \r\nQ 62.359375 56.203125 62.359375 50.875 \r\nQ 62.359375 41.75 56.546875 35.421875 \r\nQ 50.734375 29.109375 35.546875 29.109375 \r\nL 17.1875 29.109375 \r\nL 17.1875 0 \r\nz\r\nM 17.1875 37.546875 \r\nL 35.6875 37.546875 \r\nQ 44.875 37.546875 48.734375 40.96875 \r\nQ 52.59375 44.390625 52.59375 50.59375 \r\nQ 52.59375 55.078125 50.3125 58.265625 \r\nQ 48.046875 61.46875 44.34375 62.5 \r\nQ 41.9375 63.140625 35.5 63.140625 \r\nL 17.1875 63.140625 \r\nz\r\n\" id=\"ArialMT-80\"/>\r\n     </defs>\r\n     <g style=\"fill:#262626;\" transform=\"translate(15.789375 144.602813)rotate(-90)scale(0.12 -0.12)\">\r\n      <use xlink:href=\"#ArialMT-80\"/>\r\n      <use x=\"66.699219\" xlink:href=\"#ArialMT-101\"/>\r\n      <use x=\"122.314453\" xlink:href=\"#ArialMT-114\"/>\r\n      <use x=\"155.615234\" xlink:href=\"#ArialMT-99\"/>\r\n      <use x=\"205.615234\" xlink:href=\"#ArialMT-101\"/>\r\n      <use x=\"261.230469\" xlink:href=\"#ArialMT-110\"/>\r\n      <use x=\"316.845703\" xlink:href=\"#ArialMT-116\"/>\r\n      <use x=\"344.628906\" xlink:href=\"#ArialMT-117\"/>\r\n      <use x=\"400.244141\" xlink:href=\"#ArialMT-97\"/>\r\n      <use x=\"455.859375\" xlink:href=\"#ArialMT-108\"/>\r\n     </g>\r\n    </g>\r\n   </g>\r\n   <g id=\"patch_3\">\r\n    <path clip-path=\"url(#pbf4f58c5c4)\" d=\"M 58.124375 224.64 \r\nL 147.404375 224.64 \r\nL 147.404375 216.855653 \r\nL 58.124375 216.855653 \r\nz\r\n\" style=\"fill:#5875a4;stroke:#ffffff;stroke-linejoin:miter;\"/>\r\n   </g>\r\n   <g id=\"patch_4\">\r\n    <path clip-path=\"url(#pbf4f58c5c4)\" d=\"M 169.724375 224.64 \r\nL 259.004375 224.64 \r\nL 259.004375 178.76204 \r\nL 169.724375 178.76204 \r\nz\r\n\" style=\"fill:#cc8963;stroke:#ffffff;stroke-linejoin:miter;\"/>\r\n   </g>\r\n   <g id=\"patch_5\">\r\n    <path clip-path=\"url(#pbf4f58c5c4)\" d=\"M 281.324375 224.64 \r\nL 370.604375 224.64 \r\nL 370.604375 17.554286 \r\nL 281.324375 17.554286 \r\nz\r\n\" style=\"fill:#5f9e6e;stroke:#ffffff;stroke-linejoin:miter;\"/>\r\n   </g>\r\n   <g id=\"line2d_10\">\r\n    <path clip-path=\"url(#pbf4f58c5c4)\" style=\"fill:none;stroke:#424242;stroke-linecap:round;stroke-width:2.7;\"/>\r\n   </g>\r\n   <g id=\"line2d_11\">\r\n    <path clip-path=\"url(#pbf4f58c5c4)\" style=\"fill:none;stroke:#424242;stroke-linecap:round;stroke-width:2.7;\"/>\r\n   </g>\r\n   <g id=\"line2d_12\">\r\n    <path clip-path=\"url(#pbf4f58c5c4)\" style=\"fill:none;stroke:#424242;stroke-linecap:round;stroke-width:2.7;\"/>\r\n   </g>\r\n   <g id=\"patch_6\">\r\n    <path d=\"M 46.964375 224.64 \r\nL 46.964375 7.2 \r\n\" style=\"fill:none;stroke:#cccccc;stroke-linecap:square;stroke-linejoin:miter;stroke-width:1.25;\"/>\r\n   </g>\r\n   <g id=\"patch_7\">\r\n    <path d=\"M 381.764375 224.64 \r\nL 381.764375 7.2 \r\n\" style=\"fill:none;stroke:#cccccc;stroke-linecap:square;stroke-linejoin:miter;stroke-width:1.25;\"/>\r\n   </g>\r\n   <g id=\"patch_8\">\r\n    <path d=\"M 46.964375 224.64 \r\nL 381.764375 224.64 \r\n\" style=\"fill:none;stroke:#cccccc;stroke-linecap:square;stroke-linejoin:miter;stroke-width:1.25;\"/>\r\n   </g>\r\n   <g id=\"patch_9\">\r\n    <path d=\"M 46.964375 7.2 \r\nL 381.764375 7.2 \r\n\" style=\"fill:none;stroke:#cccccc;stroke-linecap:square;stroke-linejoin:miter;stroke-width:1.25;\"/>\r\n   </g>\r\n  </g>\r\n </g>\r\n <defs>\r\n  <clipPath id=\"pbf4f58c5c4\">\r\n   <rect height=\"217.44\" width=\"334.8\" x=\"46.964375\" y=\"7.2\"/>\r\n  </clipPath>\r\n </defs>\r\n</svg>\r\n",
      "image/png": "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\n"
     },
     "metadata": {}
    },
    {
     "output_type": "stream",
     "name": "stdout",
     "text": [
      "                    Percentual              Column\nName                                              \nclaimed_unit_price    0.063152  claimed_unit_price\nclaimed_units         0.372195       claimed_units\nfunded_amount         1.680029       funded_amount\nNone\n"
     ]
    }
   ],
=======
   "execution_count": null,
   "metadata": {},
   "outputs": [],
>>>>>>> 8f720b2b4e9cec63e694a4d42aa154bd5f56dde0
   "source": [
    "# Check if there any Nan Field\n",
    "print(plotNaNValuesColums(invoices_claims_last_actived))"
   ]
  },
  {
   "cell_type": "code",
<<<<<<< HEAD
   "execution_count": 26,
   "metadata": {},
   "outputs": [
    {
     "output_type": "execute_result",
     "data": {
      "text/plain": [
       "                claim_state  claimed_units claim_end_date     invoice_state  \\\n",
       "587        PENDING_APPROVAL            1.0       7/8/2020  PENDING_APPROVAL   \n",
       "4257      OPERATOR_REJECTED            8.0       7/6/2020  INVOICE_REJECTED   \n",
       "4258      OPERATOR_REJECTED            1.0       7/7/2020  INVOICE_REJECTED   \n",
       "5420        MEMBER_REJECTED            1.0      7/24/2020  INVOICE_REJECTED   \n",
       "5470        MEMBER_REJECTED            1.0      7/21/2020  INVOICE_REJECTED   \n",
       "...                     ...            ...            ...               ...   \n",
       "446535  OPERATOR_AUTHORIZED            0.5     12/22/2020     PENDING_CLAIM   \n",
       "446536  OPERATOR_AUTHORIZED            0.5     12/23/2020     PENDING_CLAIM   \n",
       "446537  OPERATOR_AUTHORIZED            2.0     12/22/2020     PENDING_CLAIM   \n",
       "446538  OPERATOR_AUTHORIZED            1.0      4/15/2021     PENDING_CLAIM   \n",
       "446539  OPERATOR_AUTHORIZED           36.0       4/9/2021     PENDING_CLAIM   \n",
       "\n",
       "       claim_start_date  funded_amount  claimed_unit_price  \\\n",
       "587            7/8/2020            NaN              193.99   \n",
       "4257           7/6/2020            NaN               54.30   \n",
       "4258           7/7/2020            NaN                1.00   \n",
       "5420          7/24/2020            NaN              125.24   \n",
       "5470          7/21/2020            NaN               97.00   \n",
       "...                 ...            ...                 ...   \n",
       "446535       12/22/2020            NaN              124.05   \n",
       "446536       12/23/2020            NaN              124.05   \n",
       "446537       12/22/2020            NaN              124.05   \n",
       "446538        4/15/2021            NaN              190.00   \n",
       "446539         4/6/2021            NaN               16.00   \n",
       "\n",
       "                            claim_level2_key  \\\n",
       "587     7d0af57b-f597-11e9-bfb4-022d4762bb3c   \n",
       "4257    7d0af53b-f597-11e9-bfb4-022d4762bb3c   \n",
       "4258    7d0af71b-f597-11e9-bfb4-022d4762bb3c   \n",
       "5420    7d0af57b-f597-11e9-bfb4-022d4762bb3c   \n",
       "5470    7d0af57b-f597-11e9-bfb4-022d4762bb3c   \n",
       "...                                      ...   \n",
       "446535  7d0af57b-f597-11e9-bfb4-022d4762bb3c   \n",
       "446536  7d0af57b-f597-11e9-bfb4-022d4762bb3c   \n",
       "446537  7d0af57b-f597-11e9-bfb4-022d4762bb3c   \n",
       "446538  7d0af57b-f597-11e9-bfb4-022d4762bb3c   \n",
       "446539  7d0af57b-f597-11e9-bfb4-022d4762bb3c   \n",
       "\n",
       "                            claim_level3_key  member_id  claim_id  \\\n",
       "587     85e9e810-754f-11ea-ade9-022376bbb7c0        195      2660   \n",
       "4257    2d00284b-754f-11ea-ade9-022376bbb7c0        600     31321   \n",
       "4258    2d0020b4-754f-11ea-ade9-022376bbb7c0        600     31322   \n",
       "5420    85e9e8b9-754f-11ea-ade9-022376bbb7c0        846     33762   \n",
       "5470    85e9e810-754f-11ea-ade9-022376bbb7c0        575     34039   \n",
       "...                                      ...        ...       ...   \n",
       "446535  2d006104-754f-11ea-ade9-022376bbb7c0       4516   1006084   \n",
       "446536  2d006104-754f-11ea-ade9-022376bbb7c0       4516   1006085   \n",
       "446537  2d006104-754f-11ea-ade9-022376bbb7c0       4516   1006086   \n",
       "446538  85e9e810-754f-11ea-ade9-022376bbb7c0       5433   1006087   \n",
       "446539  85e9e810-754f-11ea-ade9-022376bbb7c0       5867   1006088   \n",
       "\n",
       "                            claim_level1_key  invoice_id  \\\n",
       "587     5874551b-f597-11e9-bfb4-022d4762bb3c        1685   \n",
       "4257    58745466-f597-11e9-bfb4-022d4762bb3c       19529   \n",
       "4258    58745466-f597-11e9-bfb4-022d4762bb3c       19529   \n",
       "5420    5874551b-f597-11e9-bfb4-022d4762bb3c       21023   \n",
       "5470    5874551b-f597-11e9-bfb4-022d4762bb3c       21211   \n",
       "...                                      ...         ...   \n",
       "446535  5874551b-f597-11e9-bfb4-022d4762bb3c      539305   \n",
       "446536  5874551b-f597-11e9-bfb4-022d4762bb3c      539306   \n",
       "446537  5874551b-f597-11e9-bfb4-022d4762bb3c      539307   \n",
       "446538  5874551b-f597-11e9-bfb4-022d4762bb3c      539308   \n",
       "446539  5874551b-f597-11e9-bfb4-022d4762bb3c      539309   \n",
       "\n",
       "        invoiced_amount_total  \n",
       "587                    193.99  \n",
       "4257                  1934.40  \n",
       "4258                  1934.40  \n",
       "5420                   125.24  \n",
       "5470                    97.00  \n",
       "...                       ...  \n",
       "446535                  62.02  \n",
       "446536                  62.02  \n",
       "446537                 248.10  \n",
       "446538                 190.00  \n",
       "446539                 576.00  \n",
       "\n",
       "[7502 rows x 14 columns]"
      ],
      "text/html": "<div>\n<style scoped>\n    .dataframe tbody tr th:only-of-type {\n        vertical-align: middle;\n    }\n\n    .dataframe tbody tr th {\n        vertical-align: top;\n    }\n\n    .dataframe thead th {\n        text-align: right;\n    }\n</style>\n<table border=\"1\" class=\"dataframe\">\n  <thead>\n    <tr style=\"text-align: right;\">\n      <th></th>\n      <th>claim_state</th>\n      <th>claimed_units</th>\n      <th>claim_end_date</th>\n      <th>invoice_state</th>\n      <th>claim_start_date</th>\n      <th>funded_amount</th>\n      <th>claimed_unit_price</th>\n      <th>claim_level2_key</th>\n      <th>claim_level3_key</th>\n      <th>member_id</th>\n      <th>claim_id</th>\n      <th>claim_level1_key</th>\n      <th>invoice_id</th>\n      <th>invoiced_amount_total</th>\n    </tr>\n  </thead>\n  <tbody>\n    <tr>\n      <th>587</th>\n      <td>PENDING_APPROVAL</td>\n      <td>1.0</td>\n      <td>7/8/2020</td>\n      <td>PENDING_APPROVAL</td>\n      <td>7/8/2020</td>\n      <td>NaN</td>\n      <td>193.99</td>\n      <td>7d0af57b-f597-11e9-bfb4-022d4762bb3c</td>\n      <td>85e9e810-754f-11ea-ade9-022376bbb7c0</td>\n      <td>195</td>\n      <td>2660</td>\n      <td>5874551b-f597-11e9-bfb4-022d4762bb3c</td>\n      <td>1685</td>\n      <td>193.99</td>\n    </tr>\n    <tr>\n      <th>4257</th>\n      <td>OPERATOR_REJECTED</td>\n      <td>8.0</td>\n      <td>7/6/2020</td>\n      <td>INVOICE_REJECTED</td>\n      <td>7/6/2020</td>\n      <td>NaN</td>\n      <td>54.30</td>\n      <td>7d0af53b-f597-11e9-bfb4-022d4762bb3c</td>\n      <td>2d00284b-754f-11ea-ade9-022376bbb7c0</td>\n      <td>600</td>\n      <td>31321</td>\n      <td>58745466-f597-11e9-bfb4-022d4762bb3c</td>\n      <td>19529</td>\n      <td>1934.40</td>\n    </tr>\n    <tr>\n      <th>4258</th>\n      <td>OPERATOR_REJECTED</td>\n      <td>1.0</td>\n      <td>7/7/2020</td>\n      <td>INVOICE_REJECTED</td>\n      <td>7/7/2020</td>\n      <td>NaN</td>\n      <td>1.00</td>\n      <td>7d0af71b-f597-11e9-bfb4-022d4762bb3c</td>\n      <td>2d0020b4-754f-11ea-ade9-022376bbb7c0</td>\n      <td>600</td>\n      <td>31322</td>\n      <td>58745466-f597-11e9-bfb4-022d4762bb3c</td>\n      <td>19529</td>\n      <td>1934.40</td>\n    </tr>\n    <tr>\n      <th>5420</th>\n      <td>MEMBER_REJECTED</td>\n      <td>1.0</td>\n      <td>7/24/2020</td>\n      <td>INVOICE_REJECTED</td>\n      <td>7/24/2020</td>\n      <td>NaN</td>\n      <td>125.24</td>\n      <td>7d0af57b-f597-11e9-bfb4-022d4762bb3c</td>\n      <td>85e9e8b9-754f-11ea-ade9-022376bbb7c0</td>\n      <td>846</td>\n      <td>33762</td>\n      <td>5874551b-f597-11e9-bfb4-022d4762bb3c</td>\n      <td>21023</td>\n      <td>125.24</td>\n    </tr>\n    <tr>\n      <th>5470</th>\n      <td>MEMBER_REJECTED</td>\n      <td>1.0</td>\n      <td>7/21/2020</td>\n      <td>INVOICE_REJECTED</td>\n      <td>7/21/2020</td>\n      <td>NaN</td>\n      <td>97.00</td>\n      <td>7d0af57b-f597-11e9-bfb4-022d4762bb3c</td>\n      <td>85e9e810-754f-11ea-ade9-022376bbb7c0</td>\n      <td>575</td>\n      <td>34039</td>\n      <td>5874551b-f597-11e9-bfb4-022d4762bb3c</td>\n      <td>21211</td>\n      <td>97.00</td>\n    </tr>\n    <tr>\n      <th>...</th>\n      <td>...</td>\n      <td>...</td>\n      <td>...</td>\n      <td>...</td>\n      <td>...</td>\n      <td>...</td>\n      <td>...</td>\n      <td>...</td>\n      <td>...</td>\n      <td>...</td>\n      <td>...</td>\n      <td>...</td>\n      <td>...</td>\n      <td>...</td>\n    </tr>\n    <tr>\n      <th>446535</th>\n      <td>OPERATOR_AUTHORIZED</td>\n      <td>0.5</td>\n      <td>12/22/2020</td>\n      <td>PENDING_CLAIM</td>\n      <td>12/22/2020</td>\n      <td>NaN</td>\n      <td>124.05</td>\n      <td>7d0af57b-f597-11e9-bfb4-022d4762bb3c</td>\n      <td>2d006104-754f-11ea-ade9-022376bbb7c0</td>\n      <td>4516</td>\n      <td>1006084</td>\n      <td>5874551b-f597-11e9-bfb4-022d4762bb3c</td>\n      <td>539305</td>\n      <td>62.02</td>\n    </tr>\n    <tr>\n      <th>446536</th>\n      <td>OPERATOR_AUTHORIZED</td>\n      <td>0.5</td>\n      <td>12/23/2020</td>\n      <td>PENDING_CLAIM</td>\n      <td>12/23/2020</td>\n      <td>NaN</td>\n      <td>124.05</td>\n      <td>7d0af57b-f597-11e9-bfb4-022d4762bb3c</td>\n      <td>2d006104-754f-11ea-ade9-022376bbb7c0</td>\n      <td>4516</td>\n      <td>1006085</td>\n      <td>5874551b-f597-11e9-bfb4-022d4762bb3c</td>\n      <td>539306</td>\n      <td>62.02</td>\n    </tr>\n    <tr>\n      <th>446537</th>\n      <td>OPERATOR_AUTHORIZED</td>\n      <td>2.0</td>\n      <td>12/22/2020</td>\n      <td>PENDING_CLAIM</td>\n      <td>12/22/2020</td>\n      <td>NaN</td>\n      <td>124.05</td>\n      <td>7d0af57b-f597-11e9-bfb4-022d4762bb3c</td>\n      <td>2d006104-754f-11ea-ade9-022376bbb7c0</td>\n      <td>4516</td>\n      <td>1006086</td>\n      <td>5874551b-f597-11e9-bfb4-022d4762bb3c</td>\n      <td>539307</td>\n      <td>248.10</td>\n    </tr>\n    <tr>\n      <th>446538</th>\n      <td>OPERATOR_AUTHORIZED</td>\n      <td>1.0</td>\n      <td>4/15/2021</td>\n      <td>PENDING_CLAIM</td>\n      <td>4/15/2021</td>\n      <td>NaN</td>\n      <td>190.00</td>\n      <td>7d0af57b-f597-11e9-bfb4-022d4762bb3c</td>\n      <td>85e9e810-754f-11ea-ade9-022376bbb7c0</td>\n      <td>5433</td>\n      <td>1006087</td>\n      <td>5874551b-f597-11e9-bfb4-022d4762bb3c</td>\n      <td>539308</td>\n      <td>190.00</td>\n    </tr>\n    <tr>\n      <th>446539</th>\n      <td>OPERATOR_AUTHORIZED</td>\n      <td>36.0</td>\n      <td>4/9/2021</td>\n      <td>PENDING_CLAIM</td>\n      <td>4/6/2021</td>\n      <td>NaN</td>\n      <td>16.00</td>\n      <td>7d0af57b-f597-11e9-bfb4-022d4762bb3c</td>\n      <td>85e9e810-754f-11ea-ade9-022376bbb7c0</td>\n      <td>5867</td>\n      <td>1006088</td>\n      <td>5874551b-f597-11e9-bfb4-022d4762bb3c</td>\n      <td>539309</td>\n      <td>576.00</td>\n    </tr>\n  </tbody>\n</table>\n<p>7502 rows × 14 columns</p>\n</div>"
     },
     "metadata": {},
     "execution_count": 26
    }
   ],
=======
   "execution_count": null,
   "metadata": {},
   "outputs": [],
>>>>>>> 8f720b2b4e9cec63e694a4d42aa154bd5f56dde0
   "source": [
    "# Check some invoiced_amount and invoiced_amount NaN Data to\n",
    "#  Check these data have in commum\n",
    "df_invoiced_units_NaN = invoices_claims_last_actived.loc[invoices_claims_last_actived['funded_amount'].isna()]\n",
    "df_invoiced_units_NaN"
   ]
  },
  {
   "cell_type": "code",
<<<<<<< HEAD
   "execution_count": 27,
   "metadata": {},
   "outputs": [
    {
     "output_type": "execute_result",
     "data": {
      "text/plain": [
       "Empty DataFrame\n",
       "Columns: []\n",
       "Index: [(ALL_APPROVED, NOT_CLAIMABLE), (ALL_PAID, CANCELLED), (ALL_PAID, NOT_CLAIMABLE), (ALL_PAID, PAID), (CANCELLED, CANCELLED), (DRAFT_INVOICE, DRAFT_CLAIM), (INVOICE_REJECTED, MEMBER_REJECTED), (INVOICE_REJECTED, NOT_CLAIMABLE), (INVOICE_REJECTED, OPERATOR_REJECTED), (NOT_CLAIMABLE, NOT_CLAIMABLE), (PENDING_APPROVAL, PENDING_APPROVAL), (PENDING_CLAIM, OPERATOR_AUTHORIZED), (PENDING_REVIEW, CANCELLED), (PENDING_REVIEW, PENDING_REVIEW)]"
      ],
      "text/html": "<div>\n<style scoped>\n    .dataframe tbody tr th:only-of-type {\n        vertical-align: middle;\n    }\n\n    .dataframe tbody tr th {\n        vertical-align: top;\n    }\n\n    .dataframe thead th {\n        text-align: right;\n    }\n</style>\n<table border=\"1\" class=\"dataframe\">\n  <thead>\n    <tr style=\"text-align: right;\">\n      <th></th>\n      <th></th>\n    </tr>\n    <tr>\n      <th>invoice_state</th>\n      <th>claim_state</th>\n    </tr>\n  </thead>\n  <tbody>\n    <tr>\n      <th>ALL_APPROVED</th>\n      <th>NOT_CLAIMABLE</th>\n    </tr>\n    <tr>\n      <th rowspan=\"3\" valign=\"top\">ALL_PAID</th>\n      <th>CANCELLED</th>\n    </tr>\n    <tr>\n      <th>NOT_CLAIMABLE</th>\n    </tr>\n    <tr>\n      <th>PAID</th>\n    </tr>\n    <tr>\n      <th>CANCELLED</th>\n      <th>CANCELLED</th>\n    </tr>\n    <tr>\n      <th>DRAFT_INVOICE</th>\n      <th>DRAFT_CLAIM</th>\n    </tr>\n    <tr>\n      <th rowspan=\"3\" valign=\"top\">INVOICE_REJECTED</th>\n      <th>MEMBER_REJECTED</th>\n    </tr>\n    <tr>\n      <th>NOT_CLAIMABLE</th>\n    </tr>\n    <tr>\n      <th>OPERATOR_REJECTED</th>\n    </tr>\n    <tr>\n      <th>NOT_CLAIMABLE</th>\n      <th>NOT_CLAIMABLE</th>\n    </tr>\n    <tr>\n      <th>PENDING_APPROVAL</th>\n      <th>PENDING_APPROVAL</th>\n    </tr>\n    <tr>\n      <th>PENDING_CLAIM</th>\n      <th>OPERATOR_AUTHORIZED</th>\n    </tr>\n    <tr>\n      <th rowspan=\"2\" valign=\"top\">PENDING_REVIEW</th>\n      <th>CANCELLED</th>\n    </tr>\n    <tr>\n      <th>PENDING_REVIEW</th>\n    </tr>\n  </tbody>\n</table>\n</div>"
     },
     "metadata": {},
     "execution_count": 27
    }
   ],
=======
   "execution_count": null,
   "metadata": {},
   "outputs": [],
>>>>>>> 8f720b2b4e9cec63e694a4d42aa154bd5f56dde0
   "source": [
    "# Group the state of invoice and claim of all null data\n",
    "#  And Keeps these records\n",
    "#   Because if 'funded_amount' is NaN means the claims is not PAID OR REFUNDED\n",
    "df_invoiced_units_NaN[{\"invoice_state\"\n",
    "                     , \"claim_state\"\n",
    "                      }].groupby([\"invoice_state\"\n",
    "                                , \"claim_state\"\n",
    "                                 ]).count()"
   ]
  },
  {
   "cell_type": "code",
<<<<<<< HEAD
   "execution_count": 28,
   "metadata": {},
   "outputs": [
    {
     "output_type": "execute_result",
     "data": {
      "text/plain": [
       "15"
      ]
     },
     "metadata": {},
     "execution_count": 28
    }
   ],
=======
   "execution_count": null,
   "metadata": {},
   "outputs": [],
>>>>>>> 8f720b2b4e9cec63e694a4d42aa154bd5f56dde0
   "source": [
    "# As seeing above some invoices stated ALL_PAID and PAID are also funded_amount NaN\n",
    "# Check The NaN fields\n",
    "len(invoices_claims_last_actived[(invoices_claims_last_actived['funded_amount'].isna())\n",
    "                               & (invoices_claims_last_actived['invoice_state'] == 'ALL_PAID')\n",
    "                               & (invoices_claims_last_actived['claim_state'] == 'PAID')\n",
    "                                ]\n",
    "   )"
   ]
  },
  {
   "cell_type": "code",
<<<<<<< HEAD
   "execution_count": 29,
   "metadata": {},
   "outputs": [
    {
     "output_type": "stream",
     "name": "stderr",
     "text": [
      "<ipython-input-29-b00eb68bc11b>:7: SettingWithCopyWarning: \nA value is trying to be set on a copy of a slice from a DataFrame.\nTry using .loc[row_indexer,col_indexer] = value instead\n\nSee the caveats in the documentation: https://pandas.pydata.org/pandas-docs/stable/user_guide/indexing.html#returning-a-view-versus-a-copy\n  df_null_funded_amount['funded_amount'] = df_null_funded_amount['claimed_unit_price'].astype(float) * df_null_funded_amount['claimed_units'].astype(float)\n"
     ]
    }
   ],
=======
   "execution_count": null,
   "metadata": {},
   "outputs": [],
>>>>>>> 8f720b2b4e9cec63e694a4d42aa154bd5f56dde0
   "source": [
    "df_null_funded_amount =  invoices_claims_last_actived[(invoices_claims_last_actived['funded_amount'].isna())\n",
    "                                                    & (invoices_claims_last_actived['invoice_state'] == 'ALL_PAID')\n",
    "                                                    & (invoices_claims_last_actived['claim_state'] == 'PAID')\n",
    "                                                     ]\n",
    "\n",
    "# Fixes The funded_amount NaN in invoice_state = ALL_PAID and claim_state = PAID\n",
    "df_null_funded_amount['funded_amount'] = df_null_funded_amount['claimed_unit_price'].astype(float) * df_null_funded_amount['claimed_units'].astype(float)\n",
    "\n",
<<<<<<< HEAD
=======
    "\n",
>>>>>>> 8f720b2b4e9cec63e694a4d42aa154bd5f56dde0
    "invoices_claims_last_actived = invoices_claims_last_actived.set_index('claim_id')\n",
    "invoices_claims_last_actived.update(df_null_funded_amount.set_index('claim_id'))\n",
    "invoices_claims_last_actived.reset_index(inplace=True)                                   "
   ]
  },
  {
   "cell_type": "code",
<<<<<<< HEAD
   "execution_count": 30,
=======
   "execution_count": null,
>>>>>>> 8f720b2b4e9cec63e694a4d42aa154bd5f56dde0
   "metadata": {},
   "outputs": [],
   "source": [
    "# Group the invoices from their claims\n",
    "invoices_claims_last_actived_cleased = invoices_claims_last_actived.groupby([\"member_id\"\n",
    "                                                                           , \"invoice_state\" \n",
    "                                                                           , \"claim_state\"\n",
    "                                                                           , \"claim_level1_key\"\n",
    "                                                                           , \"claim_level2_key\"\n",
    "                                                                           , \"claim_level3_key\"\n",
    "                                                                           , \"invoiced_amount_total\"]).agg({\"funded_amount\": \"sum\"}).reset_index()"
   ]
  },
  {
   "source": [
    "### Invoice and claims dataset From LAST COMPLETED plan"
   ],
   "cell_type": "markdown",
   "metadata": {}
  },
  {
   "cell_type": "code",
<<<<<<< HEAD
   "execution_count": 31,
   "metadata": {},
   "outputs": [
    {
     "output_type": "stream",
     "name": "stdout",
     "text": [
      "<class 'pandas.core.frame.DataFrame'>\nRangeIndex: 233380 entries, 0 to 233379\nData columns (total 14 columns):\n #   Column               Non-Null Count   Dtype  \n---  ------               --------------   -----  \n 0   member_id            233380 non-null  int64  \n 1   invoice_total        233380 non-null  float64\n 2   invoice_state        233380 non-null  object \n 3   invoice_id           233380 non-null  int64  \n 4   claim_id             233380 non-null  int64  \n 5   claim_start_date     233380 non-null  object \n 6   claim_end_date       233380 non-null  object \n 7   claim_state          233380 non-null  object \n 8   claim_funded_amount  232483 non-null  float64\n 9   claimed_units        232748 non-null  float64\n 10  claimed_unit_price   233316 non-null  float64\n 11  key                  233380 non-null  object \n 12  key.1                233380 non-null  object \n 13  key.2                233380 non-null  object \ndtypes: float64(4), int64(3), object(7)\nmemory usage: 18.7+ MB\n"
     ]
    }
   ],
=======
   "execution_count": null,
   "metadata": {},
   "outputs": [],
>>>>>>> 8f720b2b4e9cec63e694a4d42aa154bd5f56dde0
   "source": [
    "# Check the dataSet fields\n",
    "invoices_claims_last_completed_all_fields.info()"
   ]
  },
  {
   "cell_type": "code",
<<<<<<< HEAD
   "execution_count": 32,
   "metadata": {},
   "outputs": [
    {
     "output_type": "execute_result",
     "data": {
      "text/plain": [
       "   member_id  invoice_total invoice_state  invoice_id  claim_id  \\\n",
       "0         15          29.00      ALL_PAID          58        30   \n",
       "1         15        1525.26      ALL_PAID          82        32   \n",
       "2         15         130.00      ALL_PAID          41        33   \n",
       "3         15         104.49      ALL_PAID          79        34   \n",
       "\n",
       "  claim_start_date claim_end_date claim_state  claim_funded_amount  \\\n",
       "0        3/20/2020      3/20/2020        PAID                29.00   \n",
       "1       11/23/2019     11/23/2019        PAID               823.34   \n",
       "2         4/8/2020       4/8/2020        PAID               130.00   \n",
       "3        10/1/2019      10/1/2019        PAID                79.94   \n",
       "\n",
       "   claimed_units  claimed_unit_price                                   key  \\\n",
       "0            1.0               29.00  2d00284b-754f-11ea-ade9-022376bbb7c0   \n",
       "1           14.0               58.81  2d001ca0-754f-11ea-ade9-022376bbb7c0   \n",
       "2            2.6               50.00  2d001d20-754f-11ea-ade9-022376bbb7c0   \n",
       "3            1.0              104.49  2d001d6a-754f-11ea-ade9-022376bbb7c0   \n",
       "\n",
       "                                  key.1                                 key.2  \n",
       "0  7d0af53b-f597-11e9-bfb4-022d4762bb3c  58745466-f597-11e9-bfb4-022d4762bb3c  \n",
       "1  7d0af71b-f597-11e9-bfb4-022d4762bb3c  58745466-f597-11e9-bfb4-022d4762bb3c  \n",
       "2  7d0af71b-f597-11e9-bfb4-022d4762bb3c  58745466-f597-11e9-bfb4-022d4762bb3c  \n",
       "3  7d0af71b-f597-11e9-bfb4-022d4762bb3c  58745466-f597-11e9-bfb4-022d4762bb3c  "
      ],
      "text/html": "<div>\n<style scoped>\n    .dataframe tbody tr th:only-of-type {\n        vertical-align: middle;\n    }\n\n    .dataframe tbody tr th {\n        vertical-align: top;\n    }\n\n    .dataframe thead th {\n        text-align: right;\n    }\n</style>\n<table border=\"1\" class=\"dataframe\">\n  <thead>\n    <tr style=\"text-align: right;\">\n      <th></th>\n      <th>member_id</th>\n      <th>invoice_total</th>\n      <th>invoice_state</th>\n      <th>invoice_id</th>\n      <th>claim_id</th>\n      <th>claim_start_date</th>\n      <th>claim_end_date</th>\n      <th>claim_state</th>\n      <th>claim_funded_amount</th>\n      <th>claimed_units</th>\n      <th>claimed_unit_price</th>\n      <th>key</th>\n      <th>key.1</th>\n      <th>key.2</th>\n    </tr>\n  </thead>\n  <tbody>\n    <tr>\n      <th>0</th>\n      <td>15</td>\n      <td>29.00</td>\n      <td>ALL_PAID</td>\n      <td>58</td>\n      <td>30</td>\n      <td>3/20/2020</td>\n      <td>3/20/2020</td>\n      <td>PAID</td>\n      <td>29.00</td>\n      <td>1.0</td>\n      <td>29.00</td>\n      <td>2d00284b-754f-11ea-ade9-022376bbb7c0</td>\n      <td>7d0af53b-f597-11e9-bfb4-022d4762bb3c</td>\n      <td>58745466-f597-11e9-bfb4-022d4762bb3c</td>\n    </tr>\n    <tr>\n      <th>1</th>\n      <td>15</td>\n      <td>1525.26</td>\n      <td>ALL_PAID</td>\n      <td>82</td>\n      <td>32</td>\n      <td>11/23/2019</td>\n      <td>11/23/2019</td>\n      <td>PAID</td>\n      <td>823.34</td>\n      <td>14.0</td>\n      <td>58.81</td>\n      <td>2d001ca0-754f-11ea-ade9-022376bbb7c0</td>\n      <td>7d0af71b-f597-11e9-bfb4-022d4762bb3c</td>\n      <td>58745466-f597-11e9-bfb4-022d4762bb3c</td>\n    </tr>\n    <tr>\n      <th>2</th>\n      <td>15</td>\n      <td>130.00</td>\n      <td>ALL_PAID</td>\n      <td>41</td>\n      <td>33</td>\n      <td>4/8/2020</td>\n      <td>4/8/2020</td>\n      <td>PAID</td>\n      <td>130.00</td>\n      <td>2.6</td>\n      <td>50.00</td>\n      <td>2d001d20-754f-11ea-ade9-022376bbb7c0</td>\n      <td>7d0af71b-f597-11e9-bfb4-022d4762bb3c</td>\n      <td>58745466-f597-11e9-bfb4-022d4762bb3c</td>\n    </tr>\n    <tr>\n      <th>3</th>\n      <td>15</td>\n      <td>104.49</td>\n      <td>ALL_PAID</td>\n      <td>79</td>\n      <td>34</td>\n      <td>10/1/2019</td>\n      <td>10/1/2019</td>\n      <td>PAID</td>\n      <td>79.94</td>\n      <td>1.0</td>\n      <td>104.49</td>\n      <td>2d001d6a-754f-11ea-ade9-022376bbb7c0</td>\n      <td>7d0af71b-f597-11e9-bfb4-022d4762bb3c</td>\n      <td>58745466-f597-11e9-bfb4-022d4762bb3c</td>\n    </tr>\n  </tbody>\n</table>\n</div>"
     },
     "metadata": {},
     "execution_count": 32
    }
   ],
=======
   "execution_count": null,
   "metadata": {},
   "outputs": [],
>>>>>>> 8f720b2b4e9cec63e694a4d42aa154bd5f56dde0
   "source": [
    "invoices_claims_last_completed_all_fields.head(4)"
   ]
  },
  {
   "cell_type": "code",
<<<<<<< HEAD
   "execution_count": 33,
=======
   "execution_count": null,
>>>>>>> 8f720b2b4e9cec63e694a4d42aa154bd5f56dde0
   "metadata": {},
   "outputs": [],
   "source": [
    "# Select just the fields to be used\n",
    "invoices_claims_last_completed = invoices_claims_last_completed_all_fields[{\"member_id\"\n",
    "                                                                          , \"invoice_state\"\n",
    "                                                                          , \"invoice_id\"\n",
    "                                                                          , \"claim_state\"\n",
    "                                                                          , \"claim_id\"\n",
    "                                                                          , \"key\"  \n",
    "                                                                          , \"key.1\"\n",
    "                                                                          , \"key.2\"\n",
    "                                                                          , \"claim_start_date\"\n",
    "                                                                          , \"claim_end_date\"\n",
    "                                                                          , \"claim_funded_amount\"\n",
    "                                                                          , \"invoice_total\"\n",
    "                                                                          , \"claimed_units\"\n",
    "                                                                          , \"claimed_unit_price\"\n",
    "                                                                      }]\n",
    "\n",
    "# Rename some dataSet colums to create a name's pattern\n",
    "invoices_claims_last_completed.rename(columns={'claim_funded_amount':'funded_amount'\n",
    "                                             , 'invoice_total':'invoiced_amount_total'\n",
    "                                             , 'claimed__units_price':'claimed__units_amount'  \n",
    "                                             , 'key.1':'claim_level2_key'\n",
    "                                             , 'key.2':'claim_level1_key'\n",
    "                                             , 'key':'claim_level3_key'\n",
    "                                              } , inplace = True) "
   ]
  },
  {
   "cell_type": "code",
<<<<<<< HEAD
   "execution_count": 34,
   "metadata": {},
   "outputs": [
    {
     "output_type": "execute_result",
     "data": {
      "text/plain": [
       "array(['PAID', 'CANCELLED', 'REFUNDED', 'SCHEME_REJECTED',\n",
       "       'NOT_CLAIMABLE', 'PENDING_REFUND', 'OPERATOR_REJECTED',\n",
       "       'MEMBER_REJECTED', 'PENDING_APPROVAL', 'PENDING_DISBURSEMENT',\n",
       "       'SCHEME_AUTHORIZED'], dtype=object)"
      ]
     },
     "metadata": {},
     "execution_count": 34
    }
   ],
=======
   "execution_count": null,
   "metadata": {},
   "outputs": [],
>>>>>>> 8f720b2b4e9cec63e694a4d42aa154bd5f56dde0
   "source": [
    "# Check the claim_state To check whether there is any dump value\n",
    "invoices_claims_last_completed['claim_state'].unique()"
   ]
  },
  {
   "cell_type": "code",
<<<<<<< HEAD
   "execution_count": 35,
   "metadata": {},
   "outputs": [
    {
     "output_type": "execute_result",
     "data": {
      "text/plain": [
       "array(['ALL_PAID', 'SHORT_PAID', 'CANCELLED', 'FULLY_REFUNDED',\n",
       "       'INVOICE_REJECTED', 'PART_PAID', 'PENDING_REFUND', 'NOT_CLAIMABLE',\n",
       "       'PARTIALLY_APPROVED', 'SHORT_PAYMENT_APPROVED', 'PENDING_REVIEW',\n",
       "       'PARTIALLY_REFUNDED', 'PENDING_APPROVAL', 'ALL_APPROVED'],\n",
       "      dtype=object)"
      ]
     },
     "metadata": {},
     "execution_count": 35
    }
   ],
=======
   "execution_count": null,
   "metadata": {},
   "outputs": [],
>>>>>>> 8f720b2b4e9cec63e694a4d42aa154bd5f56dde0
   "source": [
    "# Check the claim_state To check whether there is any dump value\n",
    "invoices_claims_last_completed['invoice_state'].unique()"
   ]
  },
  {
   "cell_type": "code",
<<<<<<< HEAD
   "execution_count": 36,
   "metadata": {},
   "outputs": [
    {
     "output_type": "display_data",
     "data": {
      "text/plain": "<Figure size 432x288 with 1 Axes>",
      "image/svg+xml": "<?xml version=\"1.0\" encoding=\"utf-8\" standalone=\"no\"?>\r\n<!DOCTYPE svg PUBLIC \"-//W3C//DTD SVG 1.1//EN\"\r\n  \"http://www.w3.org/Graphics/SVG/1.1/DTD/svg11.dtd\">\r\n<!-- Created with matplotlib (https://matplotlib.org/) -->\r\n<svg height=\"350.038849pt\" version=\"1.1\" viewBox=\"0 0 395.081406 350.038849\" width=\"395.081406pt\" xmlns=\"http://www.w3.org/2000/svg\" xmlns:xlink=\"http://www.w3.org/1999/xlink\">\r\n <defs>\r\n  <style type=\"text/css\">\r\n*{stroke-linecap:butt;stroke-linejoin:round;}\r\n  </style>\r\n </defs>\r\n <g id=\"figure_1\">\r\n  <g id=\"patch_1\">\r\n   <path d=\"M -0 350.038849 \r\nL 395.081406 350.038849 \r\nL 395.081406 0 \r\nL -0 0 \r\nz\r\n\" style=\"fill:#ffffff;\"/>\r\n  </g>\r\n  <g id=\"axes_1\">\r\n   <g id=\"patch_2\">\r\n    <path d=\"M 53.081406 226.653693 \r\nL 387.881406 226.653693 \r\nL 387.881406 9.213693 \r\nL 53.081406 9.213693 \r\nz\r\n\" style=\"fill:#ffffff;\"/>\r\n   </g>\r\n   <g id=\"matplotlib.axis_1\">\r\n    <g id=\"xtick_1\">\r\n     <g id=\"text_1\">\r\n      <!-- claimed_unit_price -->\r\n      <defs>\r\n       <path d=\"M 40.4375 19 \r\nL 49.078125 17.875 \r\nQ 47.65625 8.9375 41.8125 3.875 \r\nQ 35.984375 -1.171875 27.484375 -1.171875 \r\nQ 16.84375 -1.171875 10.375 5.78125 \r\nQ 3.90625 12.75 3.90625 25.734375 \r\nQ 3.90625 34.125 6.6875 40.421875 \r\nQ 9.46875 46.734375 15.15625 49.875 \r\nQ 20.84375 53.03125 27.546875 53.03125 \r\nQ 35.984375 53.03125 41.359375 48.75 \r\nQ 46.734375 44.484375 48.25 36.625 \r\nL 39.703125 35.296875 \r\nQ 38.484375 40.53125 35.375 43.15625 \r\nQ 32.28125 45.796875 27.875 45.796875 \r\nQ 21.234375 45.796875 17.078125 41.03125 \r\nQ 12.9375 36.28125 12.9375 25.984375 \r\nQ 12.9375 15.53125 16.9375 10.796875 \r\nQ 20.953125 6.0625 27.390625 6.0625 \r\nQ 32.5625 6.0625 36.03125 9.234375 \r\nQ 39.5 12.40625 40.4375 19 \r\nz\r\n\" id=\"ArialMT-99\"/>\r\n       <path d=\"M 6.390625 0 \r\nL 6.390625 71.578125 \r\nL 15.1875 71.578125 \r\nL 15.1875 0 \r\nz\r\n\" id=\"ArialMT-108\"/>\r\n       <path d=\"M 40.4375 6.390625 \r\nQ 35.546875 2.25 31.03125 0.53125 \r\nQ 26.515625 -1.171875 21.34375 -1.171875 \r\nQ 12.796875 -1.171875 8.203125 3 \r\nQ 3.609375 7.171875 3.609375 13.671875 \r\nQ 3.609375 17.484375 5.34375 20.625 \r\nQ 7.078125 23.78125 9.890625 25.6875 \r\nQ 12.703125 27.59375 16.21875 28.5625 \r\nQ 18.796875 29.25 24.03125 29.890625 \r\nQ 34.671875 31.15625 39.703125 32.90625 \r\nQ 39.75 34.71875 39.75 35.203125 \r\nQ 39.75 40.578125 37.25 42.78125 \r\nQ 33.890625 45.75 27.25 45.75 \r\nQ 21.046875 45.75 18.09375 43.578125 \r\nQ 15.140625 41.40625 13.71875 35.890625 \r\nL 5.125 37.0625 \r\nQ 6.296875 42.578125 8.984375 45.96875 \r\nQ 11.671875 49.359375 16.75 51.1875 \r\nQ 21.828125 53.03125 28.515625 53.03125 \r\nQ 35.15625 53.03125 39.296875 51.46875 \r\nQ 43.453125 49.90625 45.40625 47.53125 \r\nQ 47.359375 45.171875 48.140625 41.546875 \r\nQ 48.578125 39.3125 48.578125 33.453125 \r\nL 48.578125 21.734375 \r\nQ 48.578125 9.46875 49.140625 6.21875 \r\nQ 49.703125 2.984375 51.375 0 \r\nL 42.1875 0 \r\nQ 40.828125 2.734375 40.4375 6.390625 \r\nz\r\nM 39.703125 26.03125 \r\nQ 34.90625 24.078125 25.34375 22.703125 \r\nQ 19.921875 21.921875 17.671875 20.9375 \r\nQ 15.4375 19.96875 14.203125 18.09375 \r\nQ 12.984375 16.21875 12.984375 13.921875 \r\nQ 12.984375 10.40625 15.640625 8.0625 \r\nQ 18.3125 5.71875 23.4375 5.71875 \r\nQ 28.515625 5.71875 32.46875 7.9375 \r\nQ 36.421875 10.15625 38.28125 14.015625 \r\nQ 39.703125 17 39.703125 22.796875 \r\nz\r\n\" id=\"ArialMT-97\"/>\r\n       <path d=\"M 6.640625 61.46875 \r\nL 6.640625 71.578125 \r\nL 15.4375 71.578125 \r\nL 15.4375 61.46875 \r\nz\r\nM 6.640625 0 \r\nL 6.640625 51.859375 \r\nL 15.4375 51.859375 \r\nL 15.4375 0 \r\nz\r\n\" id=\"ArialMT-105\"/>\r\n       <path d=\"M 6.59375 0 \r\nL 6.59375 51.859375 \r\nL 14.453125 51.859375 \r\nL 14.453125 44.578125 \r\nQ 16.890625 48.390625 20.9375 50.703125 \r\nQ 25 53.03125 30.171875 53.03125 \r\nQ 35.9375 53.03125 39.625 50.640625 \r\nQ 43.3125 48.25 44.828125 43.953125 \r\nQ 50.984375 53.03125 60.84375 53.03125 \r\nQ 68.5625 53.03125 72.703125 48.75 \r\nQ 76.859375 44.484375 76.859375 35.59375 \r\nL 76.859375 0 \r\nL 68.109375 0 \r\nL 68.109375 32.671875 \r\nQ 68.109375 37.9375 67.25 40.25 \r\nQ 66.40625 42.578125 64.15625 43.984375 \r\nQ 61.921875 45.40625 58.890625 45.40625 \r\nQ 53.421875 45.40625 49.796875 41.765625 \r\nQ 46.1875 38.140625 46.1875 30.125 \r\nL 46.1875 0 \r\nL 37.40625 0 \r\nL 37.40625 33.6875 \r\nQ 37.40625 39.546875 35.25 42.46875 \r\nQ 33.109375 45.40625 28.21875 45.40625 \r\nQ 24.515625 45.40625 21.359375 43.453125 \r\nQ 18.21875 41.5 16.796875 37.734375 \r\nQ 15.375 33.984375 15.375 26.90625 \r\nL 15.375 0 \r\nz\r\n\" id=\"ArialMT-109\"/>\r\n       <path d=\"M 42.09375 16.703125 \r\nL 51.171875 15.578125 \r\nQ 49.03125 7.625 43.21875 3.21875 \r\nQ 37.40625 -1.171875 28.375 -1.171875 \r\nQ 17 -1.171875 10.328125 5.828125 \r\nQ 3.65625 12.84375 3.65625 25.484375 \r\nQ 3.65625 38.578125 10.390625 45.796875 \r\nQ 17.140625 53.03125 27.875 53.03125 \r\nQ 38.28125 53.03125 44.875 45.953125 \r\nQ 51.46875 38.875 51.46875 26.03125 \r\nQ 51.46875 25.25 51.421875 23.6875 \r\nL 12.75 23.6875 \r\nQ 13.234375 15.140625 17.578125 10.59375 \r\nQ 21.921875 6.0625 28.421875 6.0625 \r\nQ 33.25 6.0625 36.671875 8.59375 \r\nQ 40.09375 11.140625 42.09375 16.703125 \r\nz\r\nM 13.234375 30.90625 \r\nL 42.1875 30.90625 \r\nQ 41.609375 37.453125 38.875 40.71875 \r\nQ 34.671875 45.796875 27.984375 45.796875 \r\nQ 21.921875 45.796875 17.796875 41.75 \r\nQ 13.671875 37.703125 13.234375 30.90625 \r\nz\r\n\" id=\"ArialMT-101\"/>\r\n       <path d=\"M 40.234375 0 \r\nL 40.234375 6.546875 \r\nQ 35.296875 -1.171875 25.734375 -1.171875 \r\nQ 19.53125 -1.171875 14.328125 2.25 \r\nQ 9.125 5.671875 6.265625 11.796875 \r\nQ 3.421875 17.921875 3.421875 25.875 \r\nQ 3.421875 33.640625 6 39.96875 \r\nQ 8.59375 46.296875 13.765625 49.65625 \r\nQ 18.953125 53.03125 25.34375 53.03125 \r\nQ 30.03125 53.03125 33.6875 51.046875 \r\nQ 37.359375 49.078125 39.65625 45.90625 \r\nL 39.65625 71.578125 \r\nL 48.390625 71.578125 \r\nL 48.390625 0 \r\nz\r\nM 12.453125 25.875 \r\nQ 12.453125 15.921875 16.640625 10.984375 \r\nQ 20.84375 6.0625 26.5625 6.0625 \r\nQ 32.328125 6.0625 36.34375 10.765625 \r\nQ 40.375 15.484375 40.375 25.140625 \r\nQ 40.375 35.796875 36.265625 40.765625 \r\nQ 32.171875 45.75 26.171875 45.75 \r\nQ 20.3125 45.75 16.375 40.96875 \r\nQ 12.453125 36.1875 12.453125 25.875 \r\nz\r\n\" id=\"ArialMT-100\"/>\r\n       <path d=\"M -1.515625 -19.875 \r\nL -1.515625 -13.53125 \r\nL 56.734375 -13.53125 \r\nL 56.734375 -19.875 \r\nz\r\n\" id=\"ArialMT-95\"/>\r\n       <path d=\"M 40.578125 0 \r\nL 40.578125 7.625 \r\nQ 34.515625 -1.171875 24.125 -1.171875 \r\nQ 19.53125 -1.171875 15.546875 0.578125 \r\nQ 11.578125 2.34375 9.640625 5 \r\nQ 7.71875 7.671875 6.9375 11.53125 \r\nQ 6.390625 14.109375 6.390625 19.734375 \r\nL 6.390625 51.859375 \r\nL 15.1875 51.859375 \r\nL 15.1875 23.09375 \r\nQ 15.1875 16.21875 15.71875 13.8125 \r\nQ 16.546875 10.359375 19.234375 8.375 \r\nQ 21.921875 6.390625 25.875 6.390625 \r\nQ 29.828125 6.390625 33.296875 8.421875 \r\nQ 36.765625 10.453125 38.203125 13.9375 \r\nQ 39.65625 17.4375 39.65625 24.078125 \r\nL 39.65625 51.859375 \r\nL 48.4375 51.859375 \r\nL 48.4375 0 \r\nz\r\n\" id=\"ArialMT-117\"/>\r\n       <path d=\"M 6.59375 0 \r\nL 6.59375 51.859375 \r\nL 14.5 51.859375 \r\nL 14.5 44.484375 \r\nQ 20.21875 53.03125 31 53.03125 \r\nQ 35.6875 53.03125 39.625 51.34375 \r\nQ 43.5625 49.65625 45.515625 46.921875 \r\nQ 47.46875 44.1875 48.25 40.4375 \r\nQ 48.734375 37.984375 48.734375 31.890625 \r\nL 48.734375 0 \r\nL 39.9375 0 \r\nL 39.9375 31.546875 \r\nQ 39.9375 36.921875 38.90625 39.578125 \r\nQ 37.890625 42.234375 35.28125 43.8125 \r\nQ 32.671875 45.40625 29.15625 45.40625 \r\nQ 23.53125 45.40625 19.453125 41.84375 \r\nQ 15.375 38.28125 15.375 28.328125 \r\nL 15.375 0 \r\nz\r\n\" id=\"ArialMT-110\"/>\r\n       <path d=\"M 25.78125 7.859375 \r\nL 27.046875 0.09375 \r\nQ 23.34375 -0.6875 20.40625 -0.6875 \r\nQ 15.625 -0.6875 12.984375 0.828125 \r\nQ 10.359375 2.34375 9.28125 4.8125 \r\nQ 8.203125 7.28125 8.203125 15.1875 \r\nL 8.203125 45.015625 \r\nL 1.765625 45.015625 \r\nL 1.765625 51.859375 \r\nL 8.203125 51.859375 \r\nL 8.203125 64.703125 \r\nL 16.9375 69.96875 \r\nL 16.9375 51.859375 \r\nL 25.78125 51.859375 \r\nL 25.78125 45.015625 \r\nL 16.9375 45.015625 \r\nL 16.9375 14.703125 \r\nQ 16.9375 10.9375 17.40625 9.859375 \r\nQ 17.875 8.796875 18.921875 8.15625 \r\nQ 19.96875 7.515625 21.921875 7.515625 \r\nQ 23.390625 7.515625 25.78125 7.859375 \r\nz\r\n\" id=\"ArialMT-116\"/>\r\n       <path d=\"M 6.59375 -19.875 \r\nL 6.59375 51.859375 \r\nL 14.59375 51.859375 \r\nL 14.59375 45.125 \r\nQ 17.4375 49.078125 21 51.046875 \r\nQ 24.5625 53.03125 29.640625 53.03125 \r\nQ 36.28125 53.03125 41.359375 49.609375 \r\nQ 46.4375 46.1875 49.015625 39.953125 \r\nQ 51.609375 33.734375 51.609375 26.3125 \r\nQ 51.609375 18.359375 48.75 11.984375 \r\nQ 45.90625 5.609375 40.453125 2.21875 \r\nQ 35.015625 -1.171875 29 -1.171875 \r\nQ 24.609375 -1.171875 21.109375 0.6875 \r\nQ 17.625 2.546875 15.375 5.375 \r\nL 15.375 -19.875 \r\nz\r\nM 14.546875 25.640625 \r\nQ 14.546875 15.625 18.59375 10.84375 \r\nQ 22.65625 6.0625 28.421875 6.0625 \r\nQ 34.28125 6.0625 38.453125 11.015625 \r\nQ 42.625 15.96875 42.625 26.375 \r\nQ 42.625 36.28125 38.546875 41.203125 \r\nQ 34.46875 46.140625 28.8125 46.140625 \r\nQ 23.1875 46.140625 18.859375 40.890625 \r\nQ 14.546875 35.640625 14.546875 25.640625 \r\nz\r\n\" id=\"ArialMT-112\"/>\r\n       <path d=\"M 6.5 0 \r\nL 6.5 51.859375 \r\nL 14.40625 51.859375 \r\nL 14.40625 44 \r\nQ 17.4375 49.515625 20 51.265625 \r\nQ 22.5625 53.03125 25.640625 53.03125 \r\nQ 30.078125 53.03125 34.671875 50.203125 \r\nL 31.640625 42.046875 \r\nQ 28.421875 43.953125 25.203125 43.953125 \r\nQ 22.3125 43.953125 20.015625 42.21875 \r\nQ 17.71875 40.484375 16.75 37.40625 \r\nQ 15.28125 32.71875 15.28125 27.15625 \r\nL 15.28125 0 \r\nz\r\n\" id=\"ArialMT-114\"/>\r\n      </defs>\r\n      <g style=\"fill:#262626;\" transform=\"translate(111.725078 327.864474)rotate(-90)scale(0.11 -0.11)\">\r\n       <use xlink:href=\"#ArialMT-99\"/>\r\n       <use x=\"50\" xlink:href=\"#ArialMT-108\"/>\r\n       <use x=\"72.216797\" xlink:href=\"#ArialMT-97\"/>\r\n       <use x=\"127.832031\" xlink:href=\"#ArialMT-105\"/>\r\n       <use x=\"150.048828\" xlink:href=\"#ArialMT-109\"/>\r\n       <use x=\"233.349609\" xlink:href=\"#ArialMT-101\"/>\r\n       <use x=\"288.964844\" xlink:href=\"#ArialMT-100\"/>\r\n       <use x=\"344.580078\" xlink:href=\"#ArialMT-95\"/>\r\n       <use x=\"400.195312\" xlink:href=\"#ArialMT-117\"/>\r\n       <use x=\"455.810547\" xlink:href=\"#ArialMT-110\"/>\r\n       <use x=\"511.425781\" xlink:href=\"#ArialMT-105\"/>\r\n       <use x=\"533.642578\" xlink:href=\"#ArialMT-116\"/>\r\n       <use x=\"561.425781\" xlink:href=\"#ArialMT-95\"/>\r\n       <use x=\"617.041016\" xlink:href=\"#ArialMT-112\"/>\r\n       <use x=\"672.65625\" xlink:href=\"#ArialMT-114\"/>\r\n       <use x=\"705.957031\" xlink:href=\"#ArialMT-105\"/>\r\n       <use x=\"728.173828\" xlink:href=\"#ArialMT-99\"/>\r\n       <use x=\"778.173828\" xlink:href=\"#ArialMT-101\"/>\r\n      </g>\r\n     </g>\r\n    </g>\r\n    <g id=\"xtick_2\">\r\n     <g id=\"text_2\">\r\n      <!-- claimed_units -->\r\n      <defs>\r\n       <path d=\"M 3.078125 15.484375 \r\nL 11.765625 16.84375 \r\nQ 12.5 11.625 15.84375 8.84375 \r\nQ 19.1875 6.0625 25.203125 6.0625 \r\nQ 31.25 6.0625 34.171875 8.515625 \r\nQ 37.109375 10.984375 37.109375 14.3125 \r\nQ 37.109375 17.28125 34.515625 19 \r\nQ 32.71875 20.171875 25.53125 21.96875 \r\nQ 15.875 24.421875 12.140625 26.203125 \r\nQ 8.40625 27.984375 6.46875 31.125 \r\nQ 4.546875 34.28125 4.546875 38.09375 \r\nQ 4.546875 41.546875 6.125 44.5 \r\nQ 7.71875 47.46875 10.453125 49.421875 \r\nQ 12.5 50.921875 16.03125 51.96875 \r\nQ 19.578125 53.03125 23.640625 53.03125 \r\nQ 29.734375 53.03125 34.34375 51.265625 \r\nQ 38.96875 49.515625 41.15625 46.5 \r\nQ 43.359375 43.5 44.1875 38.484375 \r\nL 35.59375 37.3125 \r\nQ 35.015625 41.3125 32.203125 43.546875 \r\nQ 29.390625 45.796875 24.265625 45.796875 \r\nQ 18.21875 45.796875 15.625 43.796875 \r\nQ 13.03125 41.796875 13.03125 39.109375 \r\nQ 13.03125 37.40625 14.109375 36.03125 \r\nQ 15.1875 34.625 17.484375 33.6875 \r\nQ 18.796875 33.203125 25.25 31.453125 \r\nQ 34.578125 28.953125 38.25 27.359375 \r\nQ 41.9375 25.78125 44.03125 22.75 \r\nQ 46.140625 19.734375 46.140625 15.234375 \r\nQ 46.140625 10.84375 43.578125 6.953125 \r\nQ 41.015625 3.078125 36.171875 0.953125 \r\nQ 31.34375 -1.171875 25.25 -1.171875 \r\nQ 15.140625 -1.171875 9.84375 3.03125 \r\nQ 4.546875 7.234375 3.078125 15.484375 \r\nz\r\n\" id=\"ArialMT-115\"/>\r\n      </defs>\r\n      <g style=\"fill:#262626;\" transform=\"translate(223.325078 303.406662)rotate(-90)scale(0.11 -0.11)\">\r\n       <use xlink:href=\"#ArialMT-99\"/>\r\n       <use x=\"50\" xlink:href=\"#ArialMT-108\"/>\r\n       <use x=\"72.216797\" xlink:href=\"#ArialMT-97\"/>\r\n       <use x=\"127.832031\" xlink:href=\"#ArialMT-105\"/>\r\n       <use x=\"150.048828\" xlink:href=\"#ArialMT-109\"/>\r\n       <use x=\"233.349609\" xlink:href=\"#ArialMT-101\"/>\r\n       <use x=\"288.964844\" xlink:href=\"#ArialMT-100\"/>\r\n       <use x=\"344.580078\" xlink:href=\"#ArialMT-95\"/>\r\n       <use x=\"400.195312\" xlink:href=\"#ArialMT-117\"/>\r\n       <use x=\"455.810547\" xlink:href=\"#ArialMT-110\"/>\r\n       <use x=\"511.425781\" xlink:href=\"#ArialMT-105\"/>\r\n       <use x=\"533.642578\" xlink:href=\"#ArialMT-116\"/>\r\n       <use x=\"561.425781\" xlink:href=\"#ArialMT-115\"/>\r\n      </g>\r\n     </g>\r\n    </g>\r\n    <g id=\"xtick_3\">\r\n     <g id=\"text_3\">\r\n      <!-- funded_amount -->\r\n      <defs>\r\n       <path d=\"M 8.6875 0 \r\nL 8.6875 45.015625 \r\nL 0.921875 45.015625 \r\nL 0.921875 51.859375 \r\nL 8.6875 51.859375 \r\nL 8.6875 57.375 \r\nQ 8.6875 62.59375 9.625 65.140625 \r\nQ 10.890625 68.5625 14.078125 70.671875 \r\nQ 17.28125 72.796875 23.046875 72.796875 \r\nQ 26.765625 72.796875 31.25 71.921875 \r\nL 29.9375 64.265625 \r\nQ 27.203125 64.75 24.75 64.75 \r\nQ 20.75 64.75 19.09375 63.03125 \r\nQ 17.4375 61.328125 17.4375 56.640625 \r\nL 17.4375 51.859375 \r\nL 27.546875 51.859375 \r\nL 27.546875 45.015625 \r\nL 17.4375 45.015625 \r\nL 17.4375 0 \r\nz\r\n\" id=\"ArialMT-102\"/>\r\n       <path d=\"M 3.328125 25.921875 \r\nQ 3.328125 40.328125 11.328125 47.265625 \r\nQ 18.015625 53.03125 27.640625 53.03125 \r\nQ 38.328125 53.03125 45.109375 46.015625 \r\nQ 51.90625 39.015625 51.90625 26.65625 \r\nQ 51.90625 16.65625 48.90625 10.90625 \r\nQ 45.90625 5.171875 40.15625 2 \r\nQ 34.421875 -1.171875 27.640625 -1.171875 \r\nQ 16.75 -1.171875 10.03125 5.8125 \r\nQ 3.328125 12.796875 3.328125 25.921875 \r\nz\r\nM 12.359375 25.921875 \r\nQ 12.359375 15.96875 16.703125 11.015625 \r\nQ 21.046875 6.0625 27.640625 6.0625 \r\nQ 34.1875 6.0625 38.53125 11.03125 \r\nQ 42.875 16.015625 42.875 26.21875 \r\nQ 42.875 35.84375 38.5 40.796875 \r\nQ 34.125 45.75 27.640625 45.75 \r\nQ 21.046875 45.75 16.703125 40.8125 \r\nQ 12.359375 35.890625 12.359375 25.921875 \r\nz\r\n\" id=\"ArialMT-111\"/>\r\n      </defs>\r\n      <g style=\"fill:#262626;\" transform=\"translate(334.992109 312.598537)rotate(-90)scale(0.11 -0.11)\">\r\n       <use xlink:href=\"#ArialMT-102\"/>\r\n       <use x=\"27.783203\" xlink:href=\"#ArialMT-117\"/>\r\n       <use x=\"83.398438\" xlink:href=\"#ArialMT-110\"/>\r\n       <use x=\"139.013672\" xlink:href=\"#ArialMT-100\"/>\r\n       <use x=\"194.628906\" xlink:href=\"#ArialMT-101\"/>\r\n       <use x=\"250.244141\" xlink:href=\"#ArialMT-100\"/>\r\n       <use x=\"305.859375\" xlink:href=\"#ArialMT-95\"/>\r\n       <use x=\"361.474609\" xlink:href=\"#ArialMT-97\"/>\r\n       <use x=\"417.089844\" xlink:href=\"#ArialMT-109\"/>\r\n       <use x=\"500.390625\" xlink:href=\"#ArialMT-111\"/>\r\n       <use x=\"556.005859\" xlink:href=\"#ArialMT-117\"/>\r\n       <use x=\"611.621094\" xlink:href=\"#ArialMT-110\"/>\r\n       <use x=\"667.236328\" xlink:href=\"#ArialMT-116\"/>\r\n      </g>\r\n     </g>\r\n    </g>\r\n    <g id=\"text_4\">\r\n     <!-- Column -->\r\n     <defs>\r\n      <path d=\"M 58.796875 25.09375 \r\nL 68.265625 22.703125 \r\nQ 65.28125 11.03125 57.546875 4.90625 \r\nQ 49.8125 -1.21875 38.625 -1.21875 \r\nQ 27.046875 -1.21875 19.796875 3.484375 \r\nQ 12.546875 8.203125 8.765625 17.140625 \r\nQ 4.984375 26.078125 4.984375 36.328125 \r\nQ 4.984375 47.515625 9.25 55.828125 \r\nQ 13.53125 64.15625 21.40625 68.46875 \r\nQ 29.296875 72.796875 38.765625 72.796875 \r\nQ 49.515625 72.796875 56.828125 67.328125 \r\nQ 64.15625 61.859375 67.046875 51.953125 \r\nL 57.71875 49.75 \r\nQ 55.21875 57.5625 50.484375 61.125 \r\nQ 45.75 64.703125 38.578125 64.703125 \r\nQ 30.328125 64.703125 24.78125 60.734375 \r\nQ 19.234375 56.78125 16.984375 50.109375 \r\nQ 14.75 43.453125 14.75 36.375 \r\nQ 14.75 27.25 17.40625 20.4375 \r\nQ 20.0625 13.625 25.671875 10.25 \r\nQ 31.296875 6.890625 37.84375 6.890625 \r\nQ 45.796875 6.890625 51.3125 11.46875 \r\nQ 56.84375 16.0625 58.796875 25.09375 \r\nz\r\n\" id=\"ArialMT-67\"/>\r\n     </defs>\r\n     <g style=\"fill:#262626;\" transform=\"translate(199.807656 340.453849)scale(0.12 -0.12)\">\r\n      <use xlink:href=\"#ArialMT-67\"/>\r\n      <use x=\"72.216797\" xlink:href=\"#ArialMT-111\"/>\r\n      <use x=\"127.832031\" xlink:href=\"#ArialMT-108\"/>\r\n      <use x=\"150.048828\" xlink:href=\"#ArialMT-117\"/>\r\n      <use x=\"205.664062\" xlink:href=\"#ArialMT-109\"/>\r\n      <use x=\"288.964844\" xlink:href=\"#ArialMT-110\"/>\r\n     </g>\r\n    </g>\r\n   </g>\r\n   <g id=\"matplotlib.axis_2\">\r\n    <g id=\"ytick_1\">\r\n     <g id=\"line2d_1\">\r\n      <path clip-path=\"url(#pe18700f4ec)\" d=\"M 53.081406 226.653693 \r\nL 387.881406 226.653693 \r\n\" style=\"fill:none;stroke:#cccccc;stroke-linecap:round;\"/>\r\n     </g>\r\n     <g id=\"text_5\">\r\n      <!-- 0.00 -->\r\n      <defs>\r\n       <path d=\"M 4.15625 35.296875 \r\nQ 4.15625 48 6.765625 55.734375 \r\nQ 9.375 63.484375 14.515625 67.671875 \r\nQ 19.671875 71.875 27.484375 71.875 \r\nQ 33.25 71.875 37.59375 69.546875 \r\nQ 41.9375 67.234375 44.765625 62.859375 \r\nQ 47.609375 58.5 49.21875 52.21875 \r\nQ 50.828125 45.953125 50.828125 35.296875 \r\nQ 50.828125 22.703125 48.234375 14.96875 \r\nQ 45.65625 7.234375 40.5 3 \r\nQ 35.359375 -1.21875 27.484375 -1.21875 \r\nQ 17.140625 -1.21875 11.234375 6.203125 \r\nQ 4.15625 15.140625 4.15625 35.296875 \r\nz\r\nM 13.1875 35.296875 \r\nQ 13.1875 17.671875 17.3125 11.828125 \r\nQ 21.4375 6 27.484375 6 \r\nQ 33.546875 6 37.671875 11.859375 \r\nQ 41.796875 17.71875 41.796875 35.296875 \r\nQ 41.796875 52.984375 37.671875 58.78125 \r\nQ 33.546875 64.59375 27.390625 64.59375 \r\nQ 21.34375 64.59375 17.71875 59.46875 \r\nQ 13.1875 52.9375 13.1875 35.296875 \r\nz\r\n\" id=\"ArialMT-48\"/>\r\n       <path d=\"M 9.078125 0 \r\nL 9.078125 10.015625 \r\nL 19.09375 10.015625 \r\nL 19.09375 0 \r\nz\r\n\" id=\"ArialMT-46\"/>\r\n      </defs>\r\n      <g style=\"fill:#262626;\" transform=\"translate(22.174375 230.59049)scale(0.11 -0.11)\">\r\n       <use xlink:href=\"#ArialMT-48\"/>\r\n       <use x=\"55.615234\" xlink:href=\"#ArialMT-46\"/>\r\n       <use x=\"83.398438\" xlink:href=\"#ArialMT-48\"/>\r\n       <use x=\"139.013672\" xlink:href=\"#ArialMT-48\"/>\r\n      </g>\r\n     </g>\r\n    </g>\r\n    <g id=\"ytick_2\">\r\n     <g id=\"line2d_2\">\r\n      <path clip-path=\"url(#pe18700f4ec)\" d=\"M 53.081406 199.714081 \r\nL 387.881406 199.714081 \r\n\" style=\"fill:none;stroke:#cccccc;stroke-linecap:round;\"/>\r\n     </g>\r\n     <g id=\"text_6\">\r\n      <!-- 0.05 -->\r\n      <defs>\r\n       <path d=\"M 4.15625 18.75 \r\nL 13.375 19.53125 \r\nQ 14.40625 12.796875 18.140625 9.390625 \r\nQ 21.875 6 27.15625 6 \r\nQ 33.5 6 37.890625 10.78125 \r\nQ 42.28125 15.578125 42.28125 23.484375 \r\nQ 42.28125 31 38.0625 35.34375 \r\nQ 33.84375 39.703125 27 39.703125 \r\nQ 22.75 39.703125 19.328125 37.765625 \r\nQ 15.921875 35.84375 13.96875 32.765625 \r\nL 5.71875 33.84375 \r\nL 12.640625 70.609375 \r\nL 48.25 70.609375 \r\nL 48.25 62.203125 \r\nL 19.671875 62.203125 \r\nL 15.828125 42.96875 \r\nQ 22.265625 47.46875 29.34375 47.46875 \r\nQ 38.71875 47.46875 45.15625 40.96875 \r\nQ 51.609375 34.46875 51.609375 24.265625 \r\nQ 51.609375 14.546875 45.953125 7.46875 \r\nQ 39.0625 -1.21875 27.15625 -1.21875 \r\nQ 17.390625 -1.21875 11.203125 4.25 \r\nQ 5.03125 9.71875 4.15625 18.75 \r\nz\r\n\" id=\"ArialMT-53\"/>\r\n      </defs>\r\n      <g style=\"fill:#262626;\" transform=\"translate(22.174375 203.650878)scale(0.11 -0.11)\">\r\n       <use xlink:href=\"#ArialMT-48\"/>\r\n       <use x=\"55.615234\" xlink:href=\"#ArialMT-46\"/>\r\n       <use x=\"83.398438\" xlink:href=\"#ArialMT-48\"/>\r\n       <use x=\"139.013672\" xlink:href=\"#ArialMT-53\"/>\r\n      </g>\r\n     </g>\r\n    </g>\r\n    <g id=\"ytick_3\">\r\n     <g id=\"line2d_3\">\r\n      <path clip-path=\"url(#pe18700f4ec)\" d=\"M 53.081406 172.774469 \r\nL 387.881406 172.774469 \r\n\" style=\"fill:none;stroke:#cccccc;stroke-linecap:round;\"/>\r\n     </g>\r\n     <g id=\"text_7\">\r\n      <!-- 0.10 -->\r\n      <defs>\r\n       <path d=\"M 37.25 0 \r\nL 28.46875 0 \r\nL 28.46875 56 \r\nQ 25.296875 52.984375 20.140625 49.953125 \r\nQ 14.984375 46.921875 10.890625 45.40625 \r\nL 10.890625 53.90625 \r\nQ 18.265625 57.375 23.78125 62.296875 \r\nQ 29.296875 67.234375 31.59375 71.875 \r\nL 37.25 71.875 \r\nz\r\n\" id=\"ArialMT-49\"/>\r\n      </defs>\r\n      <g style=\"fill:#262626;\" transform=\"translate(22.174375 176.711266)scale(0.11 -0.11)\">\r\n       <use xlink:href=\"#ArialMT-48\"/>\r\n       <use x=\"55.615234\" xlink:href=\"#ArialMT-46\"/>\r\n       <use x=\"83.398438\" xlink:href=\"#ArialMT-49\"/>\r\n       <use x=\"139.013672\" xlink:href=\"#ArialMT-48\"/>\r\n      </g>\r\n     </g>\r\n    </g>\r\n    <g id=\"ytick_4\">\r\n     <g id=\"line2d_4\">\r\n      <path clip-path=\"url(#pe18700f4ec)\" d=\"M 53.081406 145.834857 \r\nL 387.881406 145.834857 \r\n\" style=\"fill:none;stroke:#cccccc;stroke-linecap:round;\"/>\r\n     </g>\r\n     <g id=\"text_8\">\r\n      <!-- 0.15 -->\r\n      <g style=\"fill:#262626;\" transform=\"translate(22.174375 149.771654)scale(0.11 -0.11)\">\r\n       <use xlink:href=\"#ArialMT-48\"/>\r\n       <use x=\"55.615234\" xlink:href=\"#ArialMT-46\"/>\r\n       <use x=\"83.398438\" xlink:href=\"#ArialMT-49\"/>\r\n       <use x=\"139.013672\" xlink:href=\"#ArialMT-53\"/>\r\n      </g>\r\n     </g>\r\n    </g>\r\n    <g id=\"ytick_5\">\r\n     <g id=\"line2d_5\">\r\n      <path clip-path=\"url(#pe18700f4ec)\" d=\"M 53.081406 118.895245 \r\nL 387.881406 118.895245 \r\n\" style=\"fill:none;stroke:#cccccc;stroke-linecap:round;\"/>\r\n     </g>\r\n     <g id=\"text_9\">\r\n      <!-- 0.20 -->\r\n      <defs>\r\n       <path d=\"M 50.34375 8.453125 \r\nL 50.34375 0 \r\nL 3.03125 0 \r\nQ 2.9375 3.171875 4.046875 6.109375 \r\nQ 5.859375 10.9375 9.828125 15.625 \r\nQ 13.8125 20.3125 21.34375 26.46875 \r\nQ 33.015625 36.03125 37.109375 41.625 \r\nQ 41.21875 47.21875 41.21875 52.203125 \r\nQ 41.21875 57.421875 37.46875 61 \r\nQ 33.734375 64.59375 27.734375 64.59375 \r\nQ 21.390625 64.59375 17.578125 60.78125 \r\nQ 13.765625 56.984375 13.71875 50.25 \r\nL 4.6875 51.171875 \r\nQ 5.609375 61.28125 11.65625 66.578125 \r\nQ 17.71875 71.875 27.9375 71.875 \r\nQ 38.234375 71.875 44.234375 66.15625 \r\nQ 50.25 60.453125 50.25 52 \r\nQ 50.25 47.703125 48.484375 43.546875 \r\nQ 46.734375 39.40625 42.65625 34.8125 \r\nQ 38.578125 30.21875 29.109375 22.21875 \r\nQ 21.1875 15.578125 18.9375 13.203125 \r\nQ 16.703125 10.84375 15.234375 8.453125 \r\nz\r\n\" id=\"ArialMT-50\"/>\r\n      </defs>\r\n      <g style=\"fill:#262626;\" transform=\"translate(22.174375 122.832042)scale(0.11 -0.11)\">\r\n       <use xlink:href=\"#ArialMT-48\"/>\r\n       <use x=\"55.615234\" xlink:href=\"#ArialMT-46\"/>\r\n       <use x=\"83.398438\" xlink:href=\"#ArialMT-50\"/>\r\n       <use x=\"139.013672\" xlink:href=\"#ArialMT-48\"/>\r\n      </g>\r\n     </g>\r\n    </g>\r\n    <g id=\"ytick_6\">\r\n     <g id=\"line2d_6\">\r\n      <path clip-path=\"url(#pe18700f4ec)\" d=\"M 53.081406 91.955633 \r\nL 387.881406 91.955633 \r\n\" style=\"fill:none;stroke:#cccccc;stroke-linecap:round;\"/>\r\n     </g>\r\n     <g id=\"text_10\">\r\n      <!-- 0.25 -->\r\n      <g style=\"fill:#262626;\" transform=\"translate(22.174375 95.89243)scale(0.11 -0.11)\">\r\n       <use xlink:href=\"#ArialMT-48\"/>\r\n       <use x=\"55.615234\" xlink:href=\"#ArialMT-46\"/>\r\n       <use x=\"83.398438\" xlink:href=\"#ArialMT-50\"/>\r\n       <use x=\"139.013672\" xlink:href=\"#ArialMT-53\"/>\r\n      </g>\r\n     </g>\r\n    </g>\r\n    <g id=\"ytick_7\">\r\n     <g id=\"line2d_7\">\r\n      <path clip-path=\"url(#pe18700f4ec)\" d=\"M 53.081406 65.016021 \r\nL 387.881406 65.016021 \r\n\" style=\"fill:none;stroke:#cccccc;stroke-linecap:round;\"/>\r\n     </g>\r\n     <g id=\"text_11\">\r\n      <!-- 0.30 -->\r\n      <defs>\r\n       <path d=\"M 4.203125 18.890625 \r\nL 12.984375 20.0625 \r\nQ 14.5 12.59375 18.140625 9.296875 \r\nQ 21.78125 6 27 6 \r\nQ 33.203125 6 37.46875 10.296875 \r\nQ 41.75 14.59375 41.75 20.953125 \r\nQ 41.75 27 37.796875 30.921875 \r\nQ 33.84375 34.859375 27.734375 34.859375 \r\nQ 25.25 34.859375 21.53125 33.890625 \r\nL 22.515625 41.609375 \r\nQ 23.390625 41.5 23.921875 41.5 \r\nQ 29.546875 41.5 34.03125 44.421875 \r\nQ 38.53125 47.359375 38.53125 53.46875 \r\nQ 38.53125 58.296875 35.25 61.46875 \r\nQ 31.984375 64.65625 26.8125 64.65625 \r\nQ 21.6875 64.65625 18.265625 61.421875 \r\nQ 14.84375 58.203125 13.875 51.765625 \r\nL 5.078125 53.328125 \r\nQ 6.6875 62.15625 12.390625 67.015625 \r\nQ 18.109375 71.875 26.609375 71.875 \r\nQ 32.46875 71.875 37.390625 69.359375 \r\nQ 42.328125 66.84375 44.9375 62.5 \r\nQ 47.5625 58.15625 47.5625 53.265625 \r\nQ 47.5625 48.640625 45.0625 44.828125 \r\nQ 42.578125 41.015625 37.703125 38.765625 \r\nQ 44.046875 37.3125 47.5625 32.6875 \r\nQ 51.078125 28.078125 51.078125 21.140625 \r\nQ 51.078125 11.765625 44.234375 5.25 \r\nQ 37.40625 -1.265625 26.953125 -1.265625 \r\nQ 17.53125 -1.265625 11.296875 4.34375 \r\nQ 5.078125 9.96875 4.203125 18.890625 \r\nz\r\n\" id=\"ArialMT-51\"/>\r\n      </defs>\r\n      <g style=\"fill:#262626;\" transform=\"translate(22.174375 68.952818)scale(0.11 -0.11)\">\r\n       <use xlink:href=\"#ArialMT-48\"/>\r\n       <use x=\"55.615234\" xlink:href=\"#ArialMT-46\"/>\r\n       <use x=\"83.398438\" xlink:href=\"#ArialMT-51\"/>\r\n       <use x=\"139.013672\" xlink:href=\"#ArialMT-48\"/>\r\n      </g>\r\n     </g>\r\n    </g>\r\n    <g id=\"ytick_8\">\r\n     <g id=\"line2d_8\">\r\n      <path clip-path=\"url(#pe18700f4ec)\" d=\"M 53.081406 38.076409 \r\nL 387.881406 38.076409 \r\n\" style=\"fill:none;stroke:#cccccc;stroke-linecap:round;\"/>\r\n     </g>\r\n     <g id=\"text_12\">\r\n      <!-- 0.35 -->\r\n      <g style=\"fill:#262626;\" transform=\"translate(22.174375 42.013206)scale(0.11 -0.11)\">\r\n       <use xlink:href=\"#ArialMT-48\"/>\r\n       <use x=\"55.615234\" xlink:href=\"#ArialMT-46\"/>\r\n       <use x=\"83.398438\" xlink:href=\"#ArialMT-51\"/>\r\n       <use x=\"139.013672\" xlink:href=\"#ArialMT-53\"/>\r\n      </g>\r\n     </g>\r\n    </g>\r\n    <g id=\"ytick_9\">\r\n     <g id=\"line2d_9\">\r\n      <path clip-path=\"url(#pe18700f4ec)\" d=\"M 53.081406 11.136797 \r\nL 387.881406 11.136797 \r\n\" style=\"fill:none;stroke:#cccccc;stroke-linecap:round;\"/>\r\n     </g>\r\n     <g id=\"text_13\">\r\n      <!-- 0.40 -->\r\n      <defs>\r\n       <path d=\"M 32.328125 0 \r\nL 32.328125 17.140625 \r\nL 1.265625 17.140625 \r\nL 1.265625 25.203125 \r\nL 33.9375 71.578125 \r\nL 41.109375 71.578125 \r\nL 41.109375 25.203125 \r\nL 50.78125 25.203125 \r\nL 50.78125 17.140625 \r\nL 41.109375 17.140625 \r\nL 41.109375 0 \r\nz\r\nM 32.328125 25.203125 \r\nL 32.328125 57.46875 \r\nL 9.90625 25.203125 \r\nz\r\n\" id=\"ArialMT-52\"/>\r\n      </defs>\r\n      <g style=\"fill:#262626;\" transform=\"translate(22.174375 15.073594)scale(0.11 -0.11)\">\r\n       <use xlink:href=\"#ArialMT-48\"/>\r\n       <use x=\"55.615234\" xlink:href=\"#ArialMT-46\"/>\r\n       <use x=\"83.398438\" xlink:href=\"#ArialMT-52\"/>\r\n       <use x=\"139.013672\" xlink:href=\"#ArialMT-48\"/>\r\n      </g>\r\n     </g>\r\n    </g>\r\n    <g id=\"text_14\">\r\n     <!-- Percentual -->\r\n     <defs>\r\n      <path d=\"M 7.71875 0 \r\nL 7.71875 71.578125 \r\nL 34.71875 71.578125 \r\nQ 41.84375 71.578125 45.609375 70.90625 \r\nQ 50.875 70.015625 54.4375 67.546875 \r\nQ 58.015625 65.09375 60.1875 60.640625 \r\nQ 62.359375 56.203125 62.359375 50.875 \r\nQ 62.359375 41.75 56.546875 35.421875 \r\nQ 50.734375 29.109375 35.546875 29.109375 \r\nL 17.1875 29.109375 \r\nL 17.1875 0 \r\nz\r\nM 17.1875 37.546875 \r\nL 35.6875 37.546875 \r\nQ 44.875 37.546875 48.734375 40.96875 \r\nQ 52.59375 44.390625 52.59375 50.59375 \r\nQ 52.59375 55.078125 50.3125 58.265625 \r\nQ 48.046875 61.46875 44.34375 62.5 \r\nQ 41.9375 63.140625 35.5 63.140625 \r\nL 17.1875 63.140625 \r\nz\r\n\" id=\"ArialMT-80\"/>\r\n     </defs>\r\n     <g style=\"fill:#262626;\" transform=\"translate(15.789375 146.616506)rotate(-90)scale(0.12 -0.12)\">\r\n      <use xlink:href=\"#ArialMT-80\"/>\r\n      <use x=\"66.699219\" xlink:href=\"#ArialMT-101\"/>\r\n      <use x=\"122.314453\" xlink:href=\"#ArialMT-114\"/>\r\n      <use x=\"155.615234\" xlink:href=\"#ArialMT-99\"/>\r\n      <use x=\"205.615234\" xlink:href=\"#ArialMT-101\"/>\r\n      <use x=\"261.230469\" xlink:href=\"#ArialMT-110\"/>\r\n      <use x=\"316.845703\" xlink:href=\"#ArialMT-116\"/>\r\n      <use x=\"344.628906\" xlink:href=\"#ArialMT-117\"/>\r\n      <use x=\"400.244141\" xlink:href=\"#ArialMT-97\"/>\r\n      <use x=\"455.859375\" xlink:href=\"#ArialMT-108\"/>\r\n     </g>\r\n    </g>\r\n   </g>\r\n   <g id=\"patch_3\">\r\n    <path clip-path=\"url(#pe18700f4ec)\" d=\"M 64.241406 226.653693 \r\nL 153.521406 226.653693 \r\nL 153.521406 211.878347 \r\nL 64.241406 211.878347 \r\nz\r\n\" style=\"fill:#5875a4;stroke:#ffffff;stroke-linejoin:miter;\"/>\r\n   </g>\r\n   <g id=\"patch_4\">\r\n    <path clip-path=\"url(#pe18700f4ec)\" d=\"M 175.841406 226.653693 \r\nL 265.121406 226.653693 \r\nL 265.121406 80.747148 \r\nL 175.841406 80.747148 \r\nz\r\n\" style=\"fill:#cc8963;stroke:#ffffff;stroke-linejoin:miter;\"/>\r\n   </g>\r\n   <g id=\"patch_5\">\r\n    <path clip-path=\"url(#pe18700f4ec)\" d=\"M 287.441406 226.653693 \r\nL 376.721406 226.653693 \r\nL 376.721406 19.567979 \r\nL 287.441406 19.567979 \r\nz\r\n\" style=\"fill:#5f9e6e;stroke:#ffffff;stroke-linejoin:miter;\"/>\r\n   </g>\r\n   <g id=\"line2d_10\">\r\n    <path clip-path=\"url(#pe18700f4ec)\" style=\"fill:none;stroke:#424242;stroke-linecap:round;stroke-width:2.7;\"/>\r\n   </g>\r\n   <g id=\"line2d_11\">\r\n    <path clip-path=\"url(#pe18700f4ec)\" style=\"fill:none;stroke:#424242;stroke-linecap:round;stroke-width:2.7;\"/>\r\n   </g>\r\n   <g id=\"line2d_12\">\r\n    <path clip-path=\"url(#pe18700f4ec)\" style=\"fill:none;stroke:#424242;stroke-linecap:round;stroke-width:2.7;\"/>\r\n   </g>\r\n   <g id=\"patch_6\">\r\n    <path d=\"M 53.081406 226.653693 \r\nL 53.081406 9.213693 \r\n\" style=\"fill:none;stroke:#cccccc;stroke-linecap:square;stroke-linejoin:miter;stroke-width:1.25;\"/>\r\n   </g>\r\n   <g id=\"patch_7\">\r\n    <path d=\"M 387.881406 226.653693 \r\nL 387.881406 9.213693 \r\n\" style=\"fill:none;stroke:#cccccc;stroke-linecap:square;stroke-linejoin:miter;stroke-width:1.25;\"/>\r\n   </g>\r\n   <g id=\"patch_8\">\r\n    <path d=\"M 53.081406 226.653693 \r\nL 387.881406 226.653693 \r\n\" style=\"fill:none;stroke:#cccccc;stroke-linecap:square;stroke-linejoin:miter;stroke-width:1.25;\"/>\r\n   </g>\r\n   <g id=\"patch_9\">\r\n    <path d=\"M 53.081406 9.213693 \r\nL 387.881406 9.213693 \r\n\" style=\"fill:none;stroke:#cccccc;stroke-linecap:square;stroke-linejoin:miter;stroke-width:1.25;\"/>\r\n   </g>\r\n  </g>\r\n </g>\r\n <defs>\r\n  <clipPath id=\"pe18700f4ec\">\r\n   <rect height=\"217.44\" width=\"334.8\" x=\"53.081406\" y=\"9.213693\"/>\r\n  </clipPath>\r\n </defs>\r\n</svg>\r\n",
      "image/png": "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\n"
     },
     "metadata": {}
    },
    {
     "output_type": "stream",
     "name": "stdout",
     "text": [
      "                    Percentual              Column\nName                                              \nclaimed_unit_price    0.027423  claimed_unit_price\nclaimed_units         0.270803       claimed_units\nfunded_amount         0.384352       funded_amount\nNone\n"
     ]
    }
   ],
=======
   "execution_count": null,
   "metadata": {},
   "outputs": [],
>>>>>>> 8f720b2b4e9cec63e694a4d42aa154bd5f56dde0
   "source": [
    "# Check if there any Nan Field\n",
    "print(plotNaNValuesColums(invoices_claims_last_completed))"
   ]
  },
  {
   "cell_type": "code",
<<<<<<< HEAD
   "execution_count": 37,
   "metadata": {},
   "outputs": [
    {
     "output_type": "execute_result",
     "data": {
      "text/plain": [
       "              claim_state  claimed_units claim_end_date     invoice_state  \\\n",
       "106             CANCELLED            1.0      6/25/2020         CANCELLED   \n",
       "931             CANCELLED            8.0       6/8/2020         CANCELLED   \n",
       "18551   OPERATOR_REJECTED            4.0      5/23/2020  INVOICE_REJECTED   \n",
       "18552   OPERATOR_REJECTED            4.0      5/24/2020  INVOICE_REJECTED   \n",
       "19589           CANCELLED            4.0      6/12/2020         CANCELLED   \n",
       "...                   ...            ...            ...               ...   \n",
       "231720          CANCELLED           20.0      3/12/2021         CANCELLED   \n",
       "231971      NOT_CLAIMABLE            0.0      3/11/2021          ALL_PAID   \n",
       "231999    MEMBER_REJECTED            2.0      3/18/2021  INVOICE_REJECTED   \n",
       "232628      NOT_CLAIMABLE            0.0      3/16/2021          ALL_PAID   \n",
       "232842          CANCELLED            1.0      3/24/2021         CANCELLED   \n",
       "\n",
       "       claim_start_date  funded_amount  claimed_unit_price  \\\n",
       "106           6/25/2020            NaN                1.00   \n",
       "931            6/8/2020            NaN               48.28   \n",
       "18551         5/23/2020            NaN               75.00   \n",
       "18552         5/24/2020            NaN               95.00   \n",
       "19589         6/10/2020            NaN               62.49   \n",
       "...                 ...            ...                 ...   \n",
       "231720         3/8/2021            NaN                3.10   \n",
       "231971        3/11/2021            NaN               55.47   \n",
       "231999        3/18/2021            NaN               49.30   \n",
       "232628        3/16/2021            NaN               55.47   \n",
       "232842        3/24/2021            NaN              190.00   \n",
       "\n",
       "                            claim_level2_key  \\\n",
       "106     7d0af71b-f597-11e9-bfb4-022d4762bb3c   \n",
       "931     7d0af71b-f597-11e9-bfb4-022d4762bb3c   \n",
       "18551   7d0af53b-f597-11e9-bfb4-022d4762bb3c   \n",
       "18552   7d0af53b-f597-11e9-bfb4-022d4762bb3c   \n",
       "19589   7d0af53b-f597-11e9-bfb4-022d4762bb3c   \n",
       "...                                      ...   \n",
       "231720  7d0af71b-f597-11e9-bfb4-022d4762bb3c   \n",
       "231971  7d0af53b-f597-11e9-bfb4-022d4762bb3c   \n",
       "231999  7d0af71b-f597-11e9-bfb4-022d4762bb3c   \n",
       "232628  7d0af53b-f597-11e9-bfb4-022d4762bb3c   \n",
       "232842  7d0af57b-f597-11e9-bfb4-022d4762bb3c   \n",
       "\n",
       "                            claim_level3_key  member_id  claim_id  \\\n",
       "106     2d001c6e-754f-11ea-ade9-022376bbb7c0         21      1081   \n",
       "931     2d001d20-754f-11ea-ade9-022376bbb7c0        262      2717   \n",
       "18551   2d002864-754f-11ea-ade9-022376bbb7c0        658     31479   \n",
       "18552   2d00287d-754f-11ea-ade9-022376bbb7c0        658     31480   \n",
       "19589   85e98f73-754f-11ea-ade9-022376bbb7c0       1087     33585   \n",
       "...                                      ...        ...       ...   \n",
       "231720  2d001d52-754f-11ea-ade9-022376bbb7c0       3549    917898   \n",
       "231971  2d0032cb-754f-11ea-ade9-022376bbb7c0        533    926602   \n",
       "231999  2d001d20-754f-11ea-ade9-022376bbb7c0        359    927262   \n",
       "232628  2d00284b-754f-11ea-ade9-022376bbb7c0        533    948762   \n",
       "232842  85e9e7ba-754f-11ea-ade9-022376bbb7c0        822    956883   \n",
       "\n",
       "                            claim_level1_key  invoice_id  \\\n",
       "106     58745466-f597-11e9-bfb4-022d4762bb3c         825   \n",
       "931     58745466-f597-11e9-bfb4-022d4762bb3c        1724   \n",
       "18551   58745466-f597-11e9-bfb4-022d4762bb3c       19626   \n",
       "18552   58745466-f597-11e9-bfb4-022d4762bb3c       19626   \n",
       "19589   58745466-f597-11e9-bfb4-022d4762bb3c       20911   \n",
       "...                                      ...         ...   \n",
       "231720  58745466-f597-11e9-bfb4-022d4762bb3c      495718   \n",
       "231971  58745466-f597-11e9-bfb4-022d4762bb3c      499934   \n",
       "231999  58745466-f597-11e9-bfb4-022d4762bb3c      500343   \n",
       "232628  58745466-f597-11e9-bfb4-022d4762bb3c      511380   \n",
       "232842  5874551b-f597-11e9-bfb4-022d4762bb3c      515579   \n",
       "\n",
       "        invoiced_amount_total  \n",
       "106                      1.00  \n",
       "931                    502.24  \n",
       "18551                  680.00  \n",
       "18552                  680.00  \n",
       "19589                  257.96  \n",
       "...                       ...  \n",
       "231720                1244.92  \n",
       "231971                   0.00  \n",
       "231999                  98.60  \n",
       "232628                   0.00  \n",
       "232842                 190.00  \n",
       "\n",
       "[897 rows x 14 columns]"
      ],
      "text/html": "<div>\n<style scoped>\n    .dataframe tbody tr th:only-of-type {\n        vertical-align: middle;\n    }\n\n    .dataframe tbody tr th {\n        vertical-align: top;\n    }\n\n    .dataframe thead th {\n        text-align: right;\n    }\n</style>\n<table border=\"1\" class=\"dataframe\">\n  <thead>\n    <tr style=\"text-align: right;\">\n      <th></th>\n      <th>claim_state</th>\n      <th>claimed_units</th>\n      <th>claim_end_date</th>\n      <th>invoice_state</th>\n      <th>claim_start_date</th>\n      <th>funded_amount</th>\n      <th>claimed_unit_price</th>\n      <th>claim_level2_key</th>\n      <th>claim_level3_key</th>\n      <th>member_id</th>\n      <th>claim_id</th>\n      <th>claim_level1_key</th>\n      <th>invoice_id</th>\n      <th>invoiced_amount_total</th>\n    </tr>\n  </thead>\n  <tbody>\n    <tr>\n      <th>106</th>\n      <td>CANCELLED</td>\n      <td>1.0</td>\n      <td>6/25/2020</td>\n      <td>CANCELLED</td>\n      <td>6/25/2020</td>\n      <td>NaN</td>\n      <td>1.00</td>\n      <td>7d0af71b-f597-11e9-bfb4-022d4762bb3c</td>\n      <td>2d001c6e-754f-11ea-ade9-022376bbb7c0</td>\n      <td>21</td>\n      <td>1081</td>\n      <td>58745466-f597-11e9-bfb4-022d4762bb3c</td>\n      <td>825</td>\n      <td>1.00</td>\n    </tr>\n    <tr>\n      <th>931</th>\n      <td>CANCELLED</td>\n      <td>8.0</td>\n      <td>6/8/2020</td>\n      <td>CANCELLED</td>\n      <td>6/8/2020</td>\n      <td>NaN</td>\n      <td>48.28</td>\n      <td>7d0af71b-f597-11e9-bfb4-022d4762bb3c</td>\n      <td>2d001d20-754f-11ea-ade9-022376bbb7c0</td>\n      <td>262</td>\n      <td>2717</td>\n      <td>58745466-f597-11e9-bfb4-022d4762bb3c</td>\n      <td>1724</td>\n      <td>502.24</td>\n    </tr>\n    <tr>\n      <th>18551</th>\n      <td>OPERATOR_REJECTED</td>\n      <td>4.0</td>\n      <td>5/23/2020</td>\n      <td>INVOICE_REJECTED</td>\n      <td>5/23/2020</td>\n      <td>NaN</td>\n      <td>75.00</td>\n      <td>7d0af53b-f597-11e9-bfb4-022d4762bb3c</td>\n      <td>2d002864-754f-11ea-ade9-022376bbb7c0</td>\n      <td>658</td>\n      <td>31479</td>\n      <td>58745466-f597-11e9-bfb4-022d4762bb3c</td>\n      <td>19626</td>\n      <td>680.00</td>\n    </tr>\n    <tr>\n      <th>18552</th>\n      <td>OPERATOR_REJECTED</td>\n      <td>4.0</td>\n      <td>5/24/2020</td>\n      <td>INVOICE_REJECTED</td>\n      <td>5/24/2020</td>\n      <td>NaN</td>\n      <td>95.00</td>\n      <td>7d0af53b-f597-11e9-bfb4-022d4762bb3c</td>\n      <td>2d00287d-754f-11ea-ade9-022376bbb7c0</td>\n      <td>658</td>\n      <td>31480</td>\n      <td>58745466-f597-11e9-bfb4-022d4762bb3c</td>\n      <td>19626</td>\n      <td>680.00</td>\n    </tr>\n    <tr>\n      <th>19589</th>\n      <td>CANCELLED</td>\n      <td>4.0</td>\n      <td>6/12/2020</td>\n      <td>CANCELLED</td>\n      <td>6/10/2020</td>\n      <td>NaN</td>\n      <td>62.49</td>\n      <td>7d0af53b-f597-11e9-bfb4-022d4762bb3c</td>\n      <td>85e98f73-754f-11ea-ade9-022376bbb7c0</td>\n      <td>1087</td>\n      <td>33585</td>\n      <td>58745466-f597-11e9-bfb4-022d4762bb3c</td>\n      <td>20911</td>\n      <td>257.96</td>\n    </tr>\n    <tr>\n      <th>...</th>\n      <td>...</td>\n      <td>...</td>\n      <td>...</td>\n      <td>...</td>\n      <td>...</td>\n      <td>...</td>\n      <td>...</td>\n      <td>...</td>\n      <td>...</td>\n      <td>...</td>\n      <td>...</td>\n      <td>...</td>\n      <td>...</td>\n      <td>...</td>\n    </tr>\n    <tr>\n      <th>231720</th>\n      <td>CANCELLED</td>\n      <td>20.0</td>\n      <td>3/12/2021</td>\n      <td>CANCELLED</td>\n      <td>3/8/2021</td>\n      <td>NaN</td>\n      <td>3.10</td>\n      <td>7d0af71b-f597-11e9-bfb4-022d4762bb3c</td>\n      <td>2d001d52-754f-11ea-ade9-022376bbb7c0</td>\n      <td>3549</td>\n      <td>917898</td>\n      <td>58745466-f597-11e9-bfb4-022d4762bb3c</td>\n      <td>495718</td>\n      <td>1244.92</td>\n    </tr>\n    <tr>\n      <th>231971</th>\n      <td>NOT_CLAIMABLE</td>\n      <td>0.0</td>\n      <td>3/11/2021</td>\n      <td>ALL_PAID</td>\n      <td>3/11/2021</td>\n      <td>NaN</td>\n      <td>55.47</td>\n      <td>7d0af53b-f597-11e9-bfb4-022d4762bb3c</td>\n      <td>2d0032cb-754f-11ea-ade9-022376bbb7c0</td>\n      <td>533</td>\n      <td>926602</td>\n      <td>58745466-f597-11e9-bfb4-022d4762bb3c</td>\n      <td>499934</td>\n      <td>0.00</td>\n    </tr>\n    <tr>\n      <th>231999</th>\n      <td>MEMBER_REJECTED</td>\n      <td>2.0</td>\n      <td>3/18/2021</td>\n      <td>INVOICE_REJECTED</td>\n      <td>3/18/2021</td>\n      <td>NaN</td>\n      <td>49.30</td>\n      <td>7d0af71b-f597-11e9-bfb4-022d4762bb3c</td>\n      <td>2d001d20-754f-11ea-ade9-022376bbb7c0</td>\n      <td>359</td>\n      <td>927262</td>\n      <td>58745466-f597-11e9-bfb4-022d4762bb3c</td>\n      <td>500343</td>\n      <td>98.60</td>\n    </tr>\n    <tr>\n      <th>232628</th>\n      <td>NOT_CLAIMABLE</td>\n      <td>0.0</td>\n      <td>3/16/2021</td>\n      <td>ALL_PAID</td>\n      <td>3/16/2021</td>\n      <td>NaN</td>\n      <td>55.47</td>\n      <td>7d0af53b-f597-11e9-bfb4-022d4762bb3c</td>\n      <td>2d00284b-754f-11ea-ade9-022376bbb7c0</td>\n      <td>533</td>\n      <td>948762</td>\n      <td>58745466-f597-11e9-bfb4-022d4762bb3c</td>\n      <td>511380</td>\n      <td>0.00</td>\n    </tr>\n    <tr>\n      <th>232842</th>\n      <td>CANCELLED</td>\n      <td>1.0</td>\n      <td>3/24/2021</td>\n      <td>CANCELLED</td>\n      <td>3/24/2021</td>\n      <td>NaN</td>\n      <td>190.00</td>\n      <td>7d0af57b-f597-11e9-bfb4-022d4762bb3c</td>\n      <td>85e9e7ba-754f-11ea-ade9-022376bbb7c0</td>\n      <td>822</td>\n      <td>956883</td>\n      <td>5874551b-f597-11e9-bfb4-022d4762bb3c</td>\n      <td>515579</td>\n      <td>190.00</td>\n    </tr>\n  </tbody>\n</table>\n<p>897 rows × 14 columns</p>\n</div>"
     },
     "metadata": {},
     "execution_count": 37
    }
   ],
=======
   "execution_count": null,
   "metadata": {},
   "outputs": [],
>>>>>>> 8f720b2b4e9cec63e694a4d42aa154bd5f56dde0
   "source": [
    "# Check some invoiced_amount and invoiced_amount NaN Data to\n",
    "#  Check these data have in commum\n",
    "df_invoiced_units_NaN = invoices_claims_last_completed.loc[invoices_claims_last_completed['funded_amount'].isna()]\n",
    "df_invoiced_units_NaN"
   ]
  },
  {
   "cell_type": "code",
<<<<<<< HEAD
   "execution_count": 38,
=======
   "execution_count": null,
>>>>>>> 8f720b2b4e9cec63e694a4d42aa154bd5f56dde0
   "metadata": {},
   "outputs": [],
   "source": [
    "df_null_funded_amount =  invoices_claims_last_completed[(invoices_claims_last_completed['funded_amount'].isna())\n",
    "                                                      & (invoices_claims_last_completed['invoice_state'] == 'ALL_PAID')\n",
    "                                                      & (invoices_claims_last_completed['claim_state'] == 'PAID')\n",
    "                                                     ]\n",
    "\n",
    "# Fixes The funded_amount NaN in invoice_state = ALL_PAID and claim_state = PAID\n",
    "df_null_funded_amount['funded_amount'] = df_null_funded_amount['claimed_unit_price'].astype(float) * df_null_funded_amount['claimed_units'].astype(float)\n",
    "\n",
    "\n",
    "invoices_claims_last_completed = invoices_claims_last_completed.set_index('claim_id')\n",
    "invoices_claims_last_completed.update(df_null_funded_amount.set_index('claim_id'))\n",
    "invoices_claims_last_completed.reset_index(inplace=True)    "
   ]
  },
  {
   "cell_type": "code",
<<<<<<< HEAD
   "execution_count": 39,
   "metadata": {},
   "outputs": [
    {
     "output_type": "execute_result",
     "data": {
      "text/plain": [
       "Empty DataFrame\n",
       "Columns: []\n",
       "Index: [(ALL_PAID, NOT_CLAIMABLE), (CANCELLED, CANCELLED), (INVOICE_REJECTED, MEMBER_REJECTED), (INVOICE_REJECTED, NOT_CLAIMABLE), (INVOICE_REJECTED, OPERATOR_REJECTED), (NOT_CLAIMABLE, NOT_CLAIMABLE), (PENDING_APPROVAL, PENDING_APPROVAL), (PENDING_REVIEW, CANCELLED)]"
      ],
      "text/html": "<div>\n<style scoped>\n    .dataframe tbody tr th:only-of-type {\n        vertical-align: middle;\n    }\n\n    .dataframe tbody tr th {\n        vertical-align: top;\n    }\n\n    .dataframe thead th {\n        text-align: right;\n    }\n</style>\n<table border=\"1\" class=\"dataframe\">\n  <thead>\n    <tr style=\"text-align: right;\">\n      <th></th>\n      <th></th>\n    </tr>\n    <tr>\n      <th>invoice_state</th>\n      <th>claim_state</th>\n    </tr>\n  </thead>\n  <tbody>\n    <tr>\n      <th>ALL_PAID</th>\n      <th>NOT_CLAIMABLE</th>\n    </tr>\n    <tr>\n      <th>CANCELLED</th>\n      <th>CANCELLED</th>\n    </tr>\n    <tr>\n      <th rowspan=\"3\" valign=\"top\">INVOICE_REJECTED</th>\n      <th>MEMBER_REJECTED</th>\n    </tr>\n    <tr>\n      <th>NOT_CLAIMABLE</th>\n    </tr>\n    <tr>\n      <th>OPERATOR_REJECTED</th>\n    </tr>\n    <tr>\n      <th>NOT_CLAIMABLE</th>\n      <th>NOT_CLAIMABLE</th>\n    </tr>\n    <tr>\n      <th>PENDING_APPROVAL</th>\n      <th>PENDING_APPROVAL</th>\n    </tr>\n    <tr>\n      <th>PENDING_REVIEW</th>\n      <th>CANCELLED</th>\n    </tr>\n  </tbody>\n</table>\n</div>"
     },
     "metadata": {},
     "execution_count": 39
    }
   ],
=======
   "execution_count": null,
   "metadata": {},
   "outputs": [],
>>>>>>> 8f720b2b4e9cec63e694a4d42aa154bd5f56dde0
   "source": [
    "# Group the state of invoice and claim of all null data\n",
    "#  And Keeps these records\n",
    "#   Because if 'funded_amount' is NaN means the claims is not PAID OR REFUNDED\n",
    "df_invoiced_units_NaN[{\"invoice_state\"\n",
    "                     , \"claim_state\"\n",
    "                      }].groupby([\"invoice_state\"\n",
    "                                , \"claim_state\"\n",
    "                                 ]).count()"
   ]
  },
  {
   "cell_type": "code",
<<<<<<< HEAD
   "execution_count": 40,
   "metadata": {},
   "outputs": [
    {
     "output_type": "execute_result",
     "data": {
      "text/plain": [
       "0"
      ]
     },
     "metadata": {},
     "execution_count": 40
    }
   ],
=======
   "execution_count": null,
   "metadata": {},
   "outputs": [],
>>>>>>> 8f720b2b4e9cec63e694a4d42aa154bd5f56dde0
   "source": [
    "# As seeing above some invoices stated ALL_PAID and PAID are also funded_amount NaN\n",
    "# Check The NaN fields\n",
    "len(invoices_claims_last_completed[(invoices_claims_last_completed['funded_amount'].isna())\n",
    "                                 & (invoices_claims_last_completed['invoice_state'] == 'ALL_PAID')\n",
    "                                 & (invoices_claims_last_completed['claim_state'] == 'PAID')\n",
    "                                ]\n",
    "   )"
   ]
  },
  {
   "cell_type": "code",
   "execution_count": null,
   "metadata": {},
   "outputs": [],
   "source": []
  },
  {
   "cell_type": "code",
<<<<<<< HEAD
   "execution_count": 41,
=======
   "execution_count": null,
>>>>>>> 8f720b2b4e9cec63e694a4d42aa154bd5f56dde0
   "metadata": {},
   "outputs": [],
   "source": [
    "# Group the invoices from their claims\n",
    "invoices_claims_last_completed_cleased = invoices_claims_last_completed.groupby([\"member_id\"\n",
    "                                                                               , \"invoice_state\" \n",
    "                                                                               , \"claim_state\"\n",
    "                                                                               , \"claim_level1_key\"\n",
    "                                                                               , \"claim_level2_key\"\n",
    "                                                                               , \"claim_level3_key\"\n",
    "                                                                               , \"invoiced_amount_total\"]).agg({\"funded_amount\": \"sum\"}).reset_index()"
   ]
  },
  {
   "source": [
    "### Merge dataSets cleased"
   ],
   "cell_type": "markdown",
   "metadata": {}
  },
  {
   "source": [
    "### Merges members dataSet with plans and budgets dataSet"
   ],
   "cell_type": "markdown",
   "metadata": {}
  },
  {
   "cell_type": "code",
<<<<<<< HEAD
   "execution_count": 42,
=======
   "execution_count": null,
>>>>>>> 8f720b2b4e9cec63e694a4d42aa154bd5f56dde0
   "metadata": {},
   "outputs": [],
   "source": [
    "# Member dataSet with plans and budgets dataSet\n",
    "df_members_plans_budgets_merged = pd.merge(df_members_cleased, df_plans_budgets_cleased, on=[\"member_key\", \"member_key\"])"
   ]
  },
  {
   "source": [
    "### Merges last PLAN_DELIVERY_ACTIVED plan with members plans budgets merged dataSet"
   ],
   "cell_type": "markdown",
   "metadata": {}
  },
  {
   "cell_type": "code",
<<<<<<< HEAD
   "execution_count": 43,
   "metadata": {},
   "outputs": [
    {
     "output_type": "execute_result",
     "data": {
      "text/plain": [
       "       last_name           SA1                            member_key  \\\n",
       "0          Edney  Not Assigned  f8e1f640-c7f3-11ea-baa6-ebfe92aca975   \n",
       "1          Edney  Not Assigned  f8e1f640-c7f3-11ea-baa6-ebfe92aca975   \n",
       "2          Edney  Not Assigned  f8e1f640-c7f3-11ea-baa6-ebfe92aca975   \n",
       "3          Edney  Not Assigned  f8e1f640-c7f3-11ea-baa6-ebfe92aca975   \n",
       "4          Edney  Not Assigned  f8e1f640-c7f3-11ea-baa6-ebfe92aca975   \n",
       "...          ...           ...                                   ...   \n",
       "917004     Speed  Not Assigned  fc055650-c7f3-11ea-baa6-ebfe92aca975   \n",
       "917005     Speed  Not Assigned  fc055650-c7f3-11ea-baa6-ebfe92aca975   \n",
       "917006     Speed  Not Assigned  fc055650-c7f3-11ea-baa6-ebfe92aca975   \n",
       "917007     Speed  Not Assigned  fc055650-c7f3-11ea-baa6-ebfe92aca975   \n",
       "917008     Speed  Not Assigned  fc055650-c7f3-11ea-baa6-ebfe92aca975   \n",
       "\n",
       "        price_zone_code  disabilities  member_id first_name  \\\n",
       "0                Remote       Amputee       1350      Aaron   \n",
       "1                Remote       Amputee       1350      Aaron   \n",
       "2                Remote       Amputee       1350      Aaron   \n",
       "3                Remote       Amputee       1350      Aaron   \n",
       "4                Remote       Amputee       1350      Aaron   \n",
       "...                 ...           ...        ...        ...   \n",
       "917004  ACT_NSW_QLD_VIC  Not Assigned       1497    Zsa zsa   \n",
       "917005  ACT_NSW_QLD_VIC  Not Assigned       1497    Zsa zsa   \n",
       "917006  ACT_NSW_QLD_VIC  Not Assigned       1497    Zsa zsa   \n",
       "917007  ACT_NSW_QLD_VIC  Not Assigned       1497    Zsa zsa   \n",
       "917008  ACT_NSW_QLD_VIC  Not Assigned       1497    Zsa zsa   \n",
       "\n",
       "                                    plan_key           plan_status  \\\n",
       "0       ffa0a580-c7f3-11ea-b247-07c902e1140e  PLAN_DELIVERY_ACTIVE   \n",
       "1       ffa0a580-c7f3-11ea-b247-07c902e1140e  PLAN_DELIVERY_ACTIVE   \n",
       "2       ffa0a580-c7f3-11ea-b247-07c902e1140e  PLAN_DELIVERY_ACTIVE   \n",
       "3       ffa0a580-c7f3-11ea-b247-07c902e1140e  PLAN_DELIVERY_ACTIVE   \n",
       "4       ffa0a580-c7f3-11ea-b247-07c902e1140e  PLAN_DELIVERY_ACTIVE   \n",
       "...                                      ...                   ...   \n",
       "917004  00a98a00-c7f4-11ea-b247-07c902e1140e  PLAN_DELIVERY_ACTIVE   \n",
       "917005  00a98a00-c7f4-11ea-b247-07c902e1140e  PLAN_DELIVERY_ACTIVE   \n",
       "917006  00a98a00-c7f4-11ea-b247-07c902e1140e  PLAN_DELIVERY_ACTIVE   \n",
       "917007  00a98a00-c7f4-11ea-b247-07c902e1140e  PLAN_DELIVERY_ACTIVE   \n",
       "917008  00a98a00-c7f4-11ea-b247-07c902e1140e  PLAN_DELIVERY_ACTIVE   \n",
       "\n",
       "       plan_start_date  ...                     budget_level1_key  \\\n",
       "0           2020-04-30  ...  58745466-f597-11e9-bfb4-022d4762bb3c   \n",
       "1           2020-04-30  ...  58745466-f597-11e9-bfb4-022d4762bb3c   \n",
       "2           2020-04-30  ...  58745466-f597-11e9-bfb4-022d4762bb3c   \n",
       "3           2020-04-30  ...  58745466-f597-11e9-bfb4-022d4762bb3c   \n",
       "4           2020-04-30  ...  58745466-f597-11e9-bfb4-022d4762bb3c   \n",
       "...                ...  ...                                   ...   \n",
       "917004      2020-06-01  ...  5874551b-f597-11e9-bfb4-022d4762bb3c   \n",
       "917005      2020-06-01  ...  5874551b-f597-11e9-bfb4-022d4762bb3c   \n",
       "917006      2020-06-01  ...  5874551b-f597-11e9-bfb4-022d4762bb3c   \n",
       "917007      2020-06-01  ...  5874551b-f597-11e9-bfb4-022d4762bb3c   \n",
       "917008      2020-06-01  ...  5874551b-f597-11e9-bfb4-022d4762bb3c   \n",
       "\n",
       "       budget_level1_name budget_value_allocated invoice_state claim_state  \\\n",
       "0                    Core                2000.00      ALL_PAID        PAID   \n",
       "1                    Core                2000.00      ALL_PAID        PAID   \n",
       "2                    Core                2000.00      ALL_PAID        PAID   \n",
       "3                    Core                2000.00      ALL_PAID        PAID   \n",
       "4                    Core                2000.00      ALL_PAID        PAID   \n",
       "...                   ...                    ...           ...         ...   \n",
       "917004  Capacity Building               16004.25      ALL_PAID        PAID   \n",
       "917005  Capacity Building               16004.25      ALL_PAID        PAID   \n",
       "917006  Capacity Building               16004.25      ALL_PAID        PAID   \n",
       "917007  Capacity Building               16004.25      ALL_PAID        PAID   \n",
       "917008  Capacity Building               16004.25      ALL_PAID        PAID   \n",
       "\n",
       "                            claim_level1_key  \\\n",
       "0       58745466-f597-11e9-bfb4-022d4762bb3c   \n",
       "1       58745466-f597-11e9-bfb4-022d4762bb3c   \n",
       "2       58745466-f597-11e9-bfb4-022d4762bb3c   \n",
       "3       58745466-f597-11e9-bfb4-022d4762bb3c   \n",
       "4       58745466-f597-11e9-bfb4-022d4762bb3c   \n",
       "...                                      ...   \n",
       "917004  5874551b-f597-11e9-bfb4-022d4762bb3c   \n",
       "917005  5874551b-f597-11e9-bfb4-022d4762bb3c   \n",
       "917006  5874551b-f597-11e9-bfb4-022d4762bb3c   \n",
       "917007  5874551b-f597-11e9-bfb4-022d4762bb3c   \n",
       "917008  5874551b-f597-11e9-bfb4-022d4762bb3c   \n",
       "\n",
       "                            claim_level2_key  \\\n",
       "0       7d0af53b-f597-11e9-bfb4-022d4762bb3c   \n",
       "1       7d0af53b-f597-11e9-bfb4-022d4762bb3c   \n",
       "2       7d0af53b-f597-11e9-bfb4-022d4762bb3c   \n",
       "3       7d0af53b-f597-11e9-bfb4-022d4762bb3c   \n",
       "4       7d0af53b-f597-11e9-bfb4-022d4762bb3c   \n",
       "...                                      ...   \n",
       "917004  7d0af57b-f597-11e9-bfb4-022d4762bb3c   \n",
       "917005  7d0af57b-f597-11e9-bfb4-022d4762bb3c   \n",
       "917006  7d0af57b-f597-11e9-bfb4-022d4762bb3c   \n",
       "917007  7d0af57b-f597-11e9-bfb4-022d4762bb3c   \n",
       "917008  7d0af57b-f597-11e9-bfb4-022d4762bb3c   \n",
       "\n",
       "                            claim_level3_key  invoiced_amount_total  \\\n",
       "0       2d00284b-754f-11ea-ade9-022376bbb7c0                 152.04   \n",
       "1       2d00284b-754f-11ea-ade9-022376bbb7c0                 158.43   \n",
       "2       2d00284b-754f-11ea-ade9-022376bbb7c0                 219.08   \n",
       "3       2d00284b-754f-11ea-ade9-022376bbb7c0                 223.57   \n",
       "4       2d00284b-754f-11ea-ade9-022376bbb7c0                 239.82   \n",
       "...                                      ...                    ...   \n",
       "917004  85e9e51f-754f-11ea-ade9-022376bbb7c0                  96.60   \n",
       "917005  85e9e51f-754f-11ea-ade9-022376bbb7c0                 425.25   \n",
       "917006  85e9e810-754f-11ea-ade9-022376bbb7c0                  94.50   \n",
       "917007  85e9e810-754f-11ea-ade9-022376bbb7c0                  96.60   \n",
       "917008  85e9e810-754f-11ea-ade9-022376bbb7c0                 330.75   \n",
       "\n",
       "       funded_amount  \n",
       "0             304.08  \n",
       "1              81.39  \n",
       "2             152.04  \n",
       "3             152.04  \n",
       "4             162.78  \n",
       "...              ...  \n",
       "917004        966.00  \n",
       "917005        425.25  \n",
       "917006        189.00  \n",
       "917007        483.00  \n",
       "917008        330.75  \n",
       "\n",
       "[917009 rows x 26 columns]"
      ],
      "text/html": "<div>\n<style scoped>\n    .dataframe tbody tr th:only-of-type {\n        vertical-align: middle;\n    }\n\n    .dataframe tbody tr th {\n        vertical-align: top;\n    }\n\n    .dataframe thead th {\n        text-align: right;\n    }\n</style>\n<table border=\"1\" class=\"dataframe\">\n  <thead>\n    <tr style=\"text-align: right;\">\n      <th></th>\n      <th>last_name</th>\n      <th>SA1</th>\n      <th>member_key</th>\n      <th>price_zone_code</th>\n      <th>disabilities</th>\n      <th>member_id</th>\n      <th>first_name</th>\n      <th>plan_key</th>\n      <th>plan_status</th>\n      <th>plan_start_date</th>\n      <th>...</th>\n      <th>budget_level1_key</th>\n      <th>budget_level1_name</th>\n      <th>budget_value_allocated</th>\n      <th>invoice_state</th>\n      <th>claim_state</th>\n      <th>claim_level1_key</th>\n      <th>claim_level2_key</th>\n      <th>claim_level3_key</th>\n      <th>invoiced_amount_total</th>\n      <th>funded_amount</th>\n    </tr>\n  </thead>\n  <tbody>\n    <tr>\n      <th>0</th>\n      <td>Edney</td>\n      <td>Not Assigned</td>\n      <td>f8e1f640-c7f3-11ea-baa6-ebfe92aca975</td>\n      <td>Remote</td>\n      <td>Amputee</td>\n      <td>1350</td>\n      <td>Aaron</td>\n      <td>ffa0a580-c7f3-11ea-b247-07c902e1140e</td>\n      <td>PLAN_DELIVERY_ACTIVE</td>\n      <td>2020-04-30</td>\n      <td>...</td>\n      <td>58745466-f597-11e9-bfb4-022d4762bb3c</td>\n      <td>Core</td>\n      <td>2000.00</td>\n      <td>ALL_PAID</td>\n      <td>PAID</td>\n      <td>58745466-f597-11e9-bfb4-022d4762bb3c</td>\n      <td>7d0af53b-f597-11e9-bfb4-022d4762bb3c</td>\n      <td>2d00284b-754f-11ea-ade9-022376bbb7c0</td>\n      <td>152.04</td>\n      <td>304.08</td>\n    </tr>\n    <tr>\n      <th>1</th>\n      <td>Edney</td>\n      <td>Not Assigned</td>\n      <td>f8e1f640-c7f3-11ea-baa6-ebfe92aca975</td>\n      <td>Remote</td>\n      <td>Amputee</td>\n      <td>1350</td>\n      <td>Aaron</td>\n      <td>ffa0a580-c7f3-11ea-b247-07c902e1140e</td>\n      <td>PLAN_DELIVERY_ACTIVE</td>\n      <td>2020-04-30</td>\n      <td>...</td>\n      <td>58745466-f597-11e9-bfb4-022d4762bb3c</td>\n      <td>Core</td>\n      <td>2000.00</td>\n      <td>ALL_PAID</td>\n      <td>PAID</td>\n      <td>58745466-f597-11e9-bfb4-022d4762bb3c</td>\n      <td>7d0af53b-f597-11e9-bfb4-022d4762bb3c</td>\n      <td>2d00284b-754f-11ea-ade9-022376bbb7c0</td>\n      <td>158.43</td>\n      <td>81.39</td>\n    </tr>\n    <tr>\n      <th>2</th>\n      <td>Edney</td>\n      <td>Not Assigned</td>\n      <td>f8e1f640-c7f3-11ea-baa6-ebfe92aca975</td>\n      <td>Remote</td>\n      <td>Amputee</td>\n      <td>1350</td>\n      <td>Aaron</td>\n      <td>ffa0a580-c7f3-11ea-b247-07c902e1140e</td>\n      <td>PLAN_DELIVERY_ACTIVE</td>\n      <td>2020-04-30</td>\n      <td>...</td>\n      <td>58745466-f597-11e9-bfb4-022d4762bb3c</td>\n      <td>Core</td>\n      <td>2000.00</td>\n      <td>ALL_PAID</td>\n      <td>PAID</td>\n      <td>58745466-f597-11e9-bfb4-022d4762bb3c</td>\n      <td>7d0af53b-f597-11e9-bfb4-022d4762bb3c</td>\n      <td>2d00284b-754f-11ea-ade9-022376bbb7c0</td>\n      <td>219.08</td>\n      <td>152.04</td>\n    </tr>\n    <tr>\n      <th>3</th>\n      <td>Edney</td>\n      <td>Not Assigned</td>\n      <td>f8e1f640-c7f3-11ea-baa6-ebfe92aca975</td>\n      <td>Remote</td>\n      <td>Amputee</td>\n      <td>1350</td>\n      <td>Aaron</td>\n      <td>ffa0a580-c7f3-11ea-b247-07c902e1140e</td>\n      <td>PLAN_DELIVERY_ACTIVE</td>\n      <td>2020-04-30</td>\n      <td>...</td>\n      <td>58745466-f597-11e9-bfb4-022d4762bb3c</td>\n      <td>Core</td>\n      <td>2000.00</td>\n      <td>ALL_PAID</td>\n      <td>PAID</td>\n      <td>58745466-f597-11e9-bfb4-022d4762bb3c</td>\n      <td>7d0af53b-f597-11e9-bfb4-022d4762bb3c</td>\n      <td>2d00284b-754f-11ea-ade9-022376bbb7c0</td>\n      <td>223.57</td>\n      <td>152.04</td>\n    </tr>\n    <tr>\n      <th>4</th>\n      <td>Edney</td>\n      <td>Not Assigned</td>\n      <td>f8e1f640-c7f3-11ea-baa6-ebfe92aca975</td>\n      <td>Remote</td>\n      <td>Amputee</td>\n      <td>1350</td>\n      <td>Aaron</td>\n      <td>ffa0a580-c7f3-11ea-b247-07c902e1140e</td>\n      <td>PLAN_DELIVERY_ACTIVE</td>\n      <td>2020-04-30</td>\n      <td>...</td>\n      <td>58745466-f597-11e9-bfb4-022d4762bb3c</td>\n      <td>Core</td>\n      <td>2000.00</td>\n      <td>ALL_PAID</td>\n      <td>PAID</td>\n      <td>58745466-f597-11e9-bfb4-022d4762bb3c</td>\n      <td>7d0af53b-f597-11e9-bfb4-022d4762bb3c</td>\n      <td>2d00284b-754f-11ea-ade9-022376bbb7c0</td>\n      <td>239.82</td>\n      <td>162.78</td>\n    </tr>\n    <tr>\n      <th>...</th>\n      <td>...</td>\n      <td>...</td>\n      <td>...</td>\n      <td>...</td>\n      <td>...</td>\n      <td>...</td>\n      <td>...</td>\n      <td>...</td>\n      <td>...</td>\n      <td>...</td>\n      <td>...</td>\n      <td>...</td>\n      <td>...</td>\n      <td>...</td>\n      <td>...</td>\n      <td>...</td>\n      <td>...</td>\n      <td>...</td>\n      <td>...</td>\n      <td>...</td>\n      <td>...</td>\n    </tr>\n    <tr>\n      <th>917004</th>\n      <td>Speed</td>\n      <td>Not Assigned</td>\n      <td>fc055650-c7f3-11ea-baa6-ebfe92aca975</td>\n      <td>ACT_NSW_QLD_VIC</td>\n      <td>Not Assigned</td>\n      <td>1497</td>\n      <td>Zsa zsa</td>\n      <td>00a98a00-c7f4-11ea-b247-07c902e1140e</td>\n      <td>PLAN_DELIVERY_ACTIVE</td>\n      <td>2020-06-01</td>\n      <td>...</td>\n      <td>5874551b-f597-11e9-bfb4-022d4762bb3c</td>\n      <td>Capacity Building</td>\n      <td>16004.25</td>\n      <td>ALL_PAID</td>\n      <td>PAID</td>\n      <td>5874551b-f597-11e9-bfb4-022d4762bb3c</td>\n      <td>7d0af57b-f597-11e9-bfb4-022d4762bb3c</td>\n      <td>85e9e51f-754f-11ea-ade9-022376bbb7c0</td>\n      <td>96.60</td>\n      <td>966.00</td>\n    </tr>\n    <tr>\n      <th>917005</th>\n      <td>Speed</td>\n      <td>Not Assigned</td>\n      <td>fc055650-c7f3-11ea-baa6-ebfe92aca975</td>\n      <td>ACT_NSW_QLD_VIC</td>\n      <td>Not Assigned</td>\n      <td>1497</td>\n      <td>Zsa zsa</td>\n      <td>00a98a00-c7f4-11ea-b247-07c902e1140e</td>\n      <td>PLAN_DELIVERY_ACTIVE</td>\n      <td>2020-06-01</td>\n      <td>...</td>\n      <td>5874551b-f597-11e9-bfb4-022d4762bb3c</td>\n      <td>Capacity Building</td>\n      <td>16004.25</td>\n      <td>ALL_PAID</td>\n      <td>PAID</td>\n      <td>5874551b-f597-11e9-bfb4-022d4762bb3c</td>\n      <td>7d0af57b-f597-11e9-bfb4-022d4762bb3c</td>\n      <td>85e9e51f-754f-11ea-ade9-022376bbb7c0</td>\n      <td>425.25</td>\n      <td>425.25</td>\n    </tr>\n    <tr>\n      <th>917006</th>\n      <td>Speed</td>\n      <td>Not Assigned</td>\n      <td>fc055650-c7f3-11ea-baa6-ebfe92aca975</td>\n      <td>ACT_NSW_QLD_VIC</td>\n      <td>Not Assigned</td>\n      <td>1497</td>\n      <td>Zsa zsa</td>\n      <td>00a98a00-c7f4-11ea-b247-07c902e1140e</td>\n      <td>PLAN_DELIVERY_ACTIVE</td>\n      <td>2020-06-01</td>\n      <td>...</td>\n      <td>5874551b-f597-11e9-bfb4-022d4762bb3c</td>\n      <td>Capacity Building</td>\n      <td>16004.25</td>\n      <td>ALL_PAID</td>\n      <td>PAID</td>\n      <td>5874551b-f597-11e9-bfb4-022d4762bb3c</td>\n      <td>7d0af57b-f597-11e9-bfb4-022d4762bb3c</td>\n      <td>85e9e810-754f-11ea-ade9-022376bbb7c0</td>\n      <td>94.50</td>\n      <td>189.00</td>\n    </tr>\n    <tr>\n      <th>917007</th>\n      <td>Speed</td>\n      <td>Not Assigned</td>\n      <td>fc055650-c7f3-11ea-baa6-ebfe92aca975</td>\n      <td>ACT_NSW_QLD_VIC</td>\n      <td>Not Assigned</td>\n      <td>1497</td>\n      <td>Zsa zsa</td>\n      <td>00a98a00-c7f4-11ea-b247-07c902e1140e</td>\n      <td>PLAN_DELIVERY_ACTIVE</td>\n      <td>2020-06-01</td>\n      <td>...</td>\n      <td>5874551b-f597-11e9-bfb4-022d4762bb3c</td>\n      <td>Capacity Building</td>\n      <td>16004.25</td>\n      <td>ALL_PAID</td>\n      <td>PAID</td>\n      <td>5874551b-f597-11e9-bfb4-022d4762bb3c</td>\n      <td>7d0af57b-f597-11e9-bfb4-022d4762bb3c</td>\n      <td>85e9e810-754f-11ea-ade9-022376bbb7c0</td>\n      <td>96.60</td>\n      <td>483.00</td>\n    </tr>\n    <tr>\n      <th>917008</th>\n      <td>Speed</td>\n      <td>Not Assigned</td>\n      <td>fc055650-c7f3-11ea-baa6-ebfe92aca975</td>\n      <td>ACT_NSW_QLD_VIC</td>\n      <td>Not Assigned</td>\n      <td>1497</td>\n      <td>Zsa zsa</td>\n      <td>00a98a00-c7f4-11ea-b247-07c902e1140e</td>\n      <td>PLAN_DELIVERY_ACTIVE</td>\n      <td>2020-06-01</td>\n      <td>...</td>\n      <td>5874551b-f597-11e9-bfb4-022d4762bb3c</td>\n      <td>Capacity Building</td>\n      <td>16004.25</td>\n      <td>ALL_PAID</td>\n      <td>PAID</td>\n      <td>5874551b-f597-11e9-bfb4-022d4762bb3c</td>\n      <td>7d0af57b-f597-11e9-bfb4-022d4762bb3c</td>\n      <td>85e9e810-754f-11ea-ade9-022376bbb7c0</td>\n      <td>330.75</td>\n      <td>330.75</td>\n    </tr>\n  </tbody>\n</table>\n<p>917009 rows × 26 columns</p>\n</div>"
     },
     "metadata": {},
     "execution_count": 43
    }
   ],
   "source": [
    "invoices_claims_plan_delivery_active = df_members_plans_budgets_merged.loc[(df_members_plans_budgets_merged['plan_status'] == 'PLAN_DELIVERY_ACTIVE')]\n",
    "\n",
    "invoices_claims_plan_delivery_active = invoices_claims_plan_delivery_active.merge(invoices_claims_last_actived_cleased, on='member_id')"
=======
   "execution_count": null,
   "metadata": {},
   "outputs": [],
   "source": [
    "invoices_claims_plan_delivery_active = df_members_plans_budgets_merged.loc[(df_members_plans_budgets_merged['plan_status'] == 'PLAN_DELIVERY_ACTIVE')]\n",
    "\n",
    "invoices_claims_plan_delivery_active = invoices_claims_plan_delivery_active.merge(invoices_claims_last_actived_cleased, on='member_id')\n",
    "\n",
    "invoices_claims_plan_delivery_active"
>>>>>>> 8f720b2b4e9cec63e694a4d42aa154bd5f56dde0
   ]
  },
  {
   "cell_type": "code",
<<<<<<< HEAD
   "execution_count": 44,
=======
   "execution_count": null,
>>>>>>> 8f720b2b4e9cec63e694a4d42aa154bd5f56dde0
   "metadata": {},
   "outputs": [],
   "source": [
    "invoices_claims_plan_delivery_active = invoices_claims_plan_delivery_active[\n",
    "\n",
    "   (\n",
<<<<<<< HEAD
    "      (invoices_claims_plan_delivery_active.budget_level3_key == 'Not Assigned')\n",
=======
    "      (invoices_claims_plan_delivery_active.budget_level3_key == 'No Assigned')\n",
>>>>>>> 8f720b2b4e9cec63e694a4d42aa154bd5f56dde0
    "    & (invoices_claims_plan_delivery_active.budget_level2_key == invoices_claims_plan_delivery_active.claim_level2_key)\n",
    "    \n",
    "   )\n",
    "\n",
    "   |\n",
    "\n",
    "   (\n",
<<<<<<< HEAD
    "      (invoices_claims_plan_delivery_active.budget_level3_key != 'Not Assigned')\n",
=======
    "      (invoices_claims_plan_delivery_active.budget_level3_key != 'No Assigned')\n",
>>>>>>> 8f720b2b4e9cec63e694a4d42aa154bd5f56dde0
    "    & (invoices_claims_plan_delivery_active.budget_level3_key == invoices_claims_plan_delivery_active.claim_level3_key)\n",
    "    & (invoices_claims_plan_delivery_active.budget_level2_key == invoices_claims_plan_delivery_active.claim_level2_key)\n",
    "    & (invoices_claims_plan_delivery_active.budget_level1_key == invoices_claims_plan_delivery_active.budget_level1_key)\n",
    "   )\n",
    "\n",
    "       \n",
    "]"
   ]
  },
  {
   "source": [
    "### Merges last COMPLETED plan with members plans budgets merged dataSet"
   ],
   "cell_type": "markdown",
   "metadata": {}
  },
  {
   "cell_type": "code",
<<<<<<< HEAD
   "execution_count": 45,
=======
   "execution_count": null,
>>>>>>> 8f720b2b4e9cec63e694a4d42aa154bd5f56dde0
   "metadata": {},
   "outputs": [],
   "source": [
    "invoices_claims_plan_completed = df_members_plans_budgets_merged.loc[(df_members_plans_budgets_merged['plan_status'] == 'COMPLETED')]\n",
    "\n",
    "invoices_claims_plan_completed = invoices_claims_plan_completed.merge(invoices_claims_last_completed_cleased, on='member_id')\n",
    "\n",
    "invoices_claims_plan_completed = invoices_claims_plan_completed[\n",
    "\n",
    "   (\n",
<<<<<<< HEAD
    "      (invoices_claims_plan_completed.budget_level3_key == 'Not Assigned')\n",
=======
    "      (invoices_claims_plan_completed.budget_level3_key == 'No Assigned')\n",
>>>>>>> 8f720b2b4e9cec63e694a4d42aa154bd5f56dde0
    "    & (invoices_claims_plan_completed.budget_level2_key == invoices_claims_plan_completed.claim_level2_key)\n",
    "    \n",
    "   )\n",
    "\n",
    "   |\n",
    "\n",
    "   (\n",
<<<<<<< HEAD
    "      (invoices_claims_plan_completed.budget_level3_key != 'Not Assigned')\n",
=======
    "      (invoices_claims_plan_completed.budget_level3_key != 'No Assigned')\n",
>>>>>>> 8f720b2b4e9cec63e694a4d42aa154bd5f56dde0
    "    & (invoices_claims_plan_completed.budget_level3_key == invoices_claims_plan_completed.claim_level3_key)\n",
    "    & (invoices_claims_plan_completed.budget_level2_key == invoices_claims_plan_completed.claim_level2_key)\n",
    "    & (invoices_claims_plan_completed.budget_level1_key == invoices_claims_plan_completed.budget_level1_key)\n",
    "   )\n",
    "        \n",
    "]"
   ]
  },
  {
   "source": [
    "### Merges last COMPLETED plan dataSet with PLAN_DELIVERY_ACTIVED plan"
   ],
   "cell_type": "markdown",
   "metadata": {}
  },
  {
   "cell_type": "code",
<<<<<<< HEAD
   "execution_count": 46,
=======
   "execution_count": null,
>>>>>>> 8f720b2b4e9cec63e694a4d42aa154bd5f56dde0
   "metadata": {},
   "outputs": [],
   "source": [
    "frames = [invoices_claims_plan_delivery_active, invoices_claims_plan_completed]\n",
    "invoices_claims_merged = pd.concat(frames)"
   ]
  },
  {
   "cell_type": "code",
<<<<<<< HEAD
   "execution_count": 47,
=======
   "execution_count": null,
>>>>>>> 8f720b2b4e9cec63e694a4d42aa154bd5f56dde0
   "metadata": {},
   "outputs": [],
   "source": [
    "df_model = invoices_claims_merged.groupby([\"member_key\"\n",
    "                                         , \"first_name\"\n",
    "                                         , \"last_name\"\n",
    "                                         , \"disabilities\"\n",
    "                                         , \"SA1\"\n",
    "                                         , \"price_zone_code\"                                         \n",
    "                                         , \"plan_key\"\n",
    "                                         , \"plan_status\"\n",
    "                                         , \"plan_start_date\"\n",
    "                                         , \"plan_end_date\"                                                                               \n",
    "                                         , \"budget_level3_name\"\n",
    "                                         , \"budget_level3_key\"\n",
    "                                         , \"budget_level2_key\"\n",
    "                                         , \"budget_level2_name\"\n",
    "                                         , \"budget_level1_key\"\n",
    "                                         , \"budget_level1_name\"\n",
    "                                         , \"budget_value_allocated\"  \t\n",
    "                                         , \"invoice_state\"\n",
    "                                         , \"claim_state\"\n",
    "                                          ]).agg({\"invoiced_amount_total\": \"sum\", \"funded_amount\": \"sum\"}).reset_index()                                                          "
   ]
  },
  {
   "cell_type": "code",
<<<<<<< HEAD
   "execution_count": 48,
   "metadata": {},
   "outputs": [
    {
     "output_type": "execute_result",
     "data": {
      "text/plain": [
       "                              member_key first_name last_name  disabilities  \\\n",
       "14  007c1090-d6ca-11ea-bb8a-a73bf14c75f9     Janean   Potzold  Not Assigned   \n",
       "15  007c1090-d6ca-11ea-bb8a-a73bf14c75f9     Janean   Potzold  Not Assigned   \n",
       "16  007c1090-d6ca-11ea-bb8a-a73bf14c75f9     Janean   Potzold  Not Assigned   \n",
       "19  007c1090-d6ca-11ea-bb8a-a73bf14c75f9     Janean   Potzold  Not Assigned   \n",
       "\n",
       "             SA1  price_zone_code                              plan_key  \\\n",
       "14  Not Assigned  ACT_NSW_QLD_VIC  812de63d-76f2-4818-96f8-c92ab85c16a0   \n",
       "15  Not Assigned  ACT_NSW_QLD_VIC  812de63d-76f2-4818-96f8-c92ab85c16a0   \n",
       "16  Not Assigned  ACT_NSW_QLD_VIC  812de63d-76f2-4818-96f8-c92ab85c16a0   \n",
       "19  Not Assigned  ACT_NSW_QLD_VIC  8910b6c2-643b-421e-9da6-8f2fea8f3e9a   \n",
       "\n",
       "             plan_status plan_start_date plan_end_date  ... budget_level3_key  \\\n",
       "14  PLAN_DELIVERY_ACTIVE      2020-08-18    2021-08-18  ...      Not Assigned   \n",
       "15  PLAN_DELIVERY_ACTIVE      2020-08-18    2021-08-18  ...      Not Assigned   \n",
       "16  PLAN_DELIVERY_ACTIVE      2020-08-18    2021-08-18  ...      Not Assigned   \n",
       "19             COMPLETED      2020-08-14    2020-08-17  ...      Not Assigned   \n",
       "\n",
       "                       budget_level2_key            budget_level2_name  \\\n",
       "14  7d0af57b-f597-11e9-bfb4-022d4762bb3c  Improved daily living skills   \n",
       "15  7d0af57b-f597-11e9-bfb4-022d4762bb3c  Improved daily living skills   \n",
       "16  7d0af57b-f597-11e9-bfb4-022d4762bb3c  Improved daily living skills   \n",
       "19  7d0af57b-f597-11e9-bfb4-022d4762bb3c  Improved daily living skills   \n",
       "\n",
       "                       budget_level1_key budget_level1_name  \\\n",
       "14  5874551b-f597-11e9-bfb4-022d4762bb3c  Capacity Building   \n",
       "15  5874551b-f597-11e9-bfb4-022d4762bb3c  Capacity Building   \n",
       "16  5874551b-f597-11e9-bfb4-022d4762bb3c  Capacity Building   \n",
       "19  5874551b-f597-11e9-bfb4-022d4762bb3c  Capacity Building   \n",
       "\n",
       "   budget_value_allocated     invoice_state          claim_state  \\\n",
       "14                24504.0          ALL_PAID                 PAID   \n",
       "15                24504.0  INVOICE_REJECTED      SCHEME_REJECTED   \n",
       "16                24504.0     PENDING_CLAIM  OPERATOR_AUTHORIZED   \n",
       "19                 8168.0          ALL_PAID                 PAID   \n",
       "\n",
       "   invoiced_amount_total  funded_amount  \n",
       "14               7206.50        6886.68  \n",
       "15                387.98           0.00  \n",
       "16                193.99           0.00  \n",
       "19                678.97         678.97  \n",
       "\n",
       "[4 rows x 21 columns]"
      ],
      "text/html": "<div>\n<style scoped>\n    .dataframe tbody tr th:only-of-type {\n        vertical-align: middle;\n    }\n\n    .dataframe tbody tr th {\n        vertical-align: top;\n    }\n\n    .dataframe thead th {\n        text-align: right;\n    }\n</style>\n<table border=\"1\" class=\"dataframe\">\n  <thead>\n    <tr style=\"text-align: right;\">\n      <th></th>\n      <th>member_key</th>\n      <th>first_name</th>\n      <th>last_name</th>\n      <th>disabilities</th>\n      <th>SA1</th>\n      <th>price_zone_code</th>\n      <th>plan_key</th>\n      <th>plan_status</th>\n      <th>plan_start_date</th>\n      <th>plan_end_date</th>\n      <th>...</th>\n      <th>budget_level3_key</th>\n      <th>budget_level2_key</th>\n      <th>budget_level2_name</th>\n      <th>budget_level1_key</th>\n      <th>budget_level1_name</th>\n      <th>budget_value_allocated</th>\n      <th>invoice_state</th>\n      <th>claim_state</th>\n      <th>invoiced_amount_total</th>\n      <th>funded_amount</th>\n    </tr>\n  </thead>\n  <tbody>\n    <tr>\n      <th>14</th>\n      <td>007c1090-d6ca-11ea-bb8a-a73bf14c75f9</td>\n      <td>Janean</td>\n      <td>Potzold</td>\n      <td>Not Assigned</td>\n      <td>Not Assigned</td>\n      <td>ACT_NSW_QLD_VIC</td>\n      <td>812de63d-76f2-4818-96f8-c92ab85c16a0</td>\n      <td>PLAN_DELIVERY_ACTIVE</td>\n      <td>2020-08-18</td>\n      <td>2021-08-18</td>\n      <td>...</td>\n      <td>Not Assigned</td>\n      <td>7d0af57b-f597-11e9-bfb4-022d4762bb3c</td>\n      <td>Improved daily living skills</td>\n      <td>5874551b-f597-11e9-bfb4-022d4762bb3c</td>\n      <td>Capacity Building</td>\n      <td>24504.0</td>\n      <td>ALL_PAID</td>\n      <td>PAID</td>\n      <td>7206.50</td>\n      <td>6886.68</td>\n    </tr>\n    <tr>\n      <th>15</th>\n      <td>007c1090-d6ca-11ea-bb8a-a73bf14c75f9</td>\n      <td>Janean</td>\n      <td>Potzold</td>\n      <td>Not Assigned</td>\n      <td>Not Assigned</td>\n      <td>ACT_NSW_QLD_VIC</td>\n      <td>812de63d-76f2-4818-96f8-c92ab85c16a0</td>\n      <td>PLAN_DELIVERY_ACTIVE</td>\n      <td>2020-08-18</td>\n      <td>2021-08-18</td>\n      <td>...</td>\n      <td>Not Assigned</td>\n      <td>7d0af57b-f597-11e9-bfb4-022d4762bb3c</td>\n      <td>Improved daily living skills</td>\n      <td>5874551b-f597-11e9-bfb4-022d4762bb3c</td>\n      <td>Capacity Building</td>\n      <td>24504.0</td>\n      <td>INVOICE_REJECTED</td>\n      <td>SCHEME_REJECTED</td>\n      <td>387.98</td>\n      <td>0.00</td>\n    </tr>\n    <tr>\n      <th>16</th>\n      <td>007c1090-d6ca-11ea-bb8a-a73bf14c75f9</td>\n      <td>Janean</td>\n      <td>Potzold</td>\n      <td>Not Assigned</td>\n      <td>Not Assigned</td>\n      <td>ACT_NSW_QLD_VIC</td>\n      <td>812de63d-76f2-4818-96f8-c92ab85c16a0</td>\n      <td>PLAN_DELIVERY_ACTIVE</td>\n      <td>2020-08-18</td>\n      <td>2021-08-18</td>\n      <td>...</td>\n      <td>Not Assigned</td>\n      <td>7d0af57b-f597-11e9-bfb4-022d4762bb3c</td>\n      <td>Improved daily living skills</td>\n      <td>5874551b-f597-11e9-bfb4-022d4762bb3c</td>\n      <td>Capacity Building</td>\n      <td>24504.0</td>\n      <td>PENDING_CLAIM</td>\n      <td>OPERATOR_AUTHORIZED</td>\n      <td>193.99</td>\n      <td>0.00</td>\n    </tr>\n    <tr>\n      <th>19</th>\n      <td>007c1090-d6ca-11ea-bb8a-a73bf14c75f9</td>\n      <td>Janean</td>\n      <td>Potzold</td>\n      <td>Not Assigned</td>\n      <td>Not Assigned</td>\n      <td>ACT_NSW_QLD_VIC</td>\n      <td>8910b6c2-643b-421e-9da6-8f2fea8f3e9a</td>\n      <td>COMPLETED</td>\n      <td>2020-08-14</td>\n      <td>2020-08-17</td>\n      <td>...</td>\n      <td>Not Assigned</td>\n      <td>7d0af57b-f597-11e9-bfb4-022d4762bb3c</td>\n      <td>Improved daily living skills</td>\n      <td>5874551b-f597-11e9-bfb4-022d4762bb3c</td>\n      <td>Capacity Building</td>\n      <td>8168.0</td>\n      <td>ALL_PAID</td>\n      <td>PAID</td>\n      <td>678.97</td>\n      <td>678.97</td>\n    </tr>\n  </tbody>\n</table>\n<p>4 rows × 21 columns</p>\n</div>"
     },
     "metadata": {},
     "execution_count": 48
    }
   ],
=======
   "execution_count": null,
   "metadata": {},
   "outputs": [],
>>>>>>> 8f720b2b4e9cec63e694a4d42aa154bd5f56dde0
   "source": [
    "df_model.loc[(df_model['member_key'] == '007c1090-d6ca-11ea-bb8a-a73bf14c75f9')\n",
    "           & (df_model['budget_level2_key'] == '7d0af57b-f597-11e9-bfb4-022d4762bb3c')         \n",
    "]  "
   ]
  }
 ]
=======
{
 "metadata": {
  "language_info": {
   "codemirror_mode": {
    "name": "ipython",
    "version": 3
   },
   "file_extension": ".py",
   "mimetype": "text/x-python",
   "name": "python",
   "nbconvert_exporter": "python",
   "pygments_lexer": "ipython3",
   "version": "3.8.5"
  },
  "orig_nbformat": 2,
  "kernelspec": {
   "name": "python385jvsc74a57bd0d7c375635162da09f0df265be1ff543fa0e54d4b5ed0ee516c18eaf6e6e8fe7a",
   "display_name": "Python 3.8.5 32-bit"
  },
  "metadata": {
   "interpreter": {
    "hash": "d7c375635162da09f0df265be1ff543fa0e54d4b5ed0ee516c18eaf6e6e8fe7a"
   }
  }
 },
 "nbformat": 4,
 "nbformat_minor": 2,
 "cells": [
  {
   "cell_type": "code",
<<<<<<< HEAD
   "execution_count": 1,
=======
   "execution_count": null,
>>>>>>> 8f720b2b4e9cec63e694a4d42aa154bd5f56dde0
   "metadata": {},
   "outputs": [],
   "source": [
    "# -------------------------- LIBRARIES NECESSARY IN THIS PROJECT  -------------------------- #\n",
    "import pandas as pd\n",
    "import numpy as np\n",
    "import seaborn as sns\n",
    "import matplotlib.pyplot as plt\n",
    "\n",
    "# -------------------------- FUNCTIONS -------------------------- #\n",
    "\n",
    "def getDataSet(data_path):\n",
    "    return pd.read_csv(data_path)\n",
    "\n",
    "def plotNaNValuesColums(dataSet):\n",
    "    # Gets the dataSet Columns with null values\n",
    "    #  and the Percentual of null values per column    \n",
    "    missing_values = (dataSet.isnull().sum() / len(dataSet)) * 100    \n",
    "    missing_values = missing_values[missing_values > 0]\n",
    "    missing_values.sort_values(inplace=True)   \n",
    "\n",
    "    missing_values = missing_values.to_frame()\n",
    "    missing_values.columns = ['Percentual']\n",
    "    missing_values.index.names = ['Name']\n",
    "    missing_values['Column'] = missing_values.index\n",
    "\n",
    "    # Plots the graph\n",
    "    sns.set(style=\"whitegrid\", color_codes=True)\n",
    "    sns.barplot(x = 'Column', y = 'Percentual', data=missing_values)\n",
    "    plt.xticks(rotation = 90)\n",
    "    plt.show()\n",
    "    print(missing_values)\n",
    "\n",
    "def plotNotNaNValuesColums(dataSet):\n",
    "    # Gets the dataSet Columns with null values\n",
    "    #  and the Percentual of null values per column    \n",
    "    missing_values = (dataSet.notnull().sum() / len(dataSet)) * 100    \n",
    "    missing_values = missing_values[missing_values > 0]\n",
    "    missing_values.sort_values(inplace=True)   \n",
    "\n",
    "    missing_values = missing_values.to_frame()\n",
    "    missing_values.columns = ['Percentual']\n",
    "    missing_values.index.names = ['Name']\n",
    "    missing_values['Column'] = missing_values.index\n",
    "\n",
    "    # Plots the graph\n",
    "    sns.set(style=\"whitegrid\", color_codes=True)\n",
    "    sns.barplot(x = 'Column', y = 'Percentual', data=missing_values)\n",
    "    plt.xticks(rotation = 90)\n",
    "    plt.show()\n",
    "    print(missing_values)\n",
    "\n",
    "    \n",
    "\n",
    "# -------------------------- PATH OF THE DATASETS USED IN THE PROJECT  -------------------------- #\n",
    "\n",
    "invoices_claims_last_actived_path=\"dataSets/Invoices_Claims_Last_Actived.csv\"\n",
    "invoices_claims_last_completed_path=\"dataSets/Invoices_Claims_Last_Completed.csv\"\n",
    "invoices_claims_path=\"dataSets/Invoices_Claims.csv\"\n",
    "members_supported=\"dataSets/Members_Supported.csv\"\n",
    "plans_budgets=\"dataSets/Plans_Budgets.csv\"\n",
    "providers=\"dataSets/Providers.csv\""
   ]
  },
  {
   "source": [
    "## Upload dataSets"
   ],
   "cell_type": "markdown",
   "metadata": {}
  },
  {
   "cell_type": "code",
<<<<<<< HEAD
   "execution_count": 2,
   "metadata": {},
   "outputs": [
    {
     "output_type": "stream",
     "name": "stderr",
     "text": [
      "C:\\Users\\dttt1\\AppData\\Roaming\\Python\\Python38\\site-packages\\IPython\\core\\interactiveshell.py:3254: DtypeWarning: Columns (6) have mixed types.Specify dtype option on import or set low_memory=False.\n  if (await self.run_code(code, result,  async_=asy)):\n"
     ]
    }
   ],
=======
   "execution_count": null,
   "metadata": {},
   "outputs": [],
>>>>>>> 8f720b2b4e9cec63e694a4d42aa154bd5f56dde0
   "source": [
    "# upload the dataSet with invoices and claims data\n",
    "invoices_claims_last_actived_all_fields = getDataSet(invoices_claims_last_actived_path)\n",
    "invoices_claims_last_completed_all_fields = getDataSet(invoices_claims_last_completed_path)\n",
    "\n",
    "# upload the dataSet with invoices and claims data\n",
    "df_plans_budgets_all_fields = getDataSet(plans_budgets)\n",
    "\n",
    "# upload the dataSet with invoices and claims data\n",
    "df_members_supported_all_fields = getDataSet(members_supported)"
   ]
  },
  {
   "source": [
    "## Data manipulation and cleansing<a name=\"preparation\"></a>"
   ],
   "cell_type": "markdown",
   "metadata": {}
  },
  {
   "source": [
    "### Members dataset cleasing"
   ],
   "cell_type": "markdown",
   "metadata": {}
  },
  {
   "cell_type": "code",
<<<<<<< HEAD
   "execution_count": 3,
   "metadata": {},
   "outputs": [
    {
     "output_type": "stream",
     "name": "stdout",
     "text": [
      "<class 'pandas.core.frame.DataFrame'>\nRangeIndex: 6019 entries, 0 to 6018\nData columns (total 12 columns):\n #   Column           Non-Null Count  Dtype  \n---  ------           --------------  -----  \n 0   id               6019 non-null   int64  \n 1   member_key       6019 non-null   object \n 2   date_of_birth    6019 non-null   object \n 3   first_name       6019 non-null   object \n 4   last_name        6019 non-null   object \n 5   price_zone_code  6019 non-null   object \n 6   u_disabilities   1272 non-null   object \n 7   u_gender         5304 non-null   object \n 8   SA1              735 non-null    float64\n 9   SA2              735 non-null    float64\n 10  SA3              735 non-null    float64\n 11  SA4              735 non-null    float64\ndtypes: float64(4), int64(1), object(7)\nmemory usage: 399.8+ KB\n"
     ]
    }
   ],
=======
   "execution_count": null,
   "metadata": {},
   "outputs": [],
>>>>>>> 8f720b2b4e9cec63e694a4d42aa154bd5f56dde0
   "source": [
    "# Check the dataSet fields\n",
    "df_members_supported_all_fields.info()"
   ]
  },
  {
   "cell_type": "code",
<<<<<<< HEAD
   "execution_count": 4,
   "metadata": {},
   "outputs": [
    {
     "output_type": "execute_result",
     "data": {
      "text/plain": [
       "     id                            member_key date_of_birth first_name  \\\n",
       "0  1350  f8e1f640-c7f3-11ea-baa6-ebfe92aca975    1957-12-19      Aaron   \n",
       "1   435  df6fef80-c179-11ea-8a11-397bdc21f5a9    2002-11-04       Abba   \n",
       "2  3297  d4762b30-dcef-11ea-a5ac-61abce895864    2013-09-26       Abbe   \n",
       "3  3641  e03ed7f0-ddb7-11ea-a31a-7d25e47a5c0a    1969-12-15       Abbe   \n",
       "\n",
       "    last_name  price_zone_code u_disabilities u_gender  SA1  SA2  SA3  SA4  \n",
       "0       Edney           Remote        Amputee   Female  NaN  NaN  NaN  NaN  \n",
       "1  Joskovitch  ACT_NSW_QLD_VIC            NaN   Female  NaN  NaN  NaN  NaN  \n",
       "2    Claridge  ACT_NSW_QLD_VIC            NaN     Male  NaN  NaN  NaN  NaN  \n",
       "3    Kelloway  ACT_NSW_QLD_VIC  Mental health   Female  NaN  NaN  NaN  NaN  "
      ],
      "text/html": "<div>\n<style scoped>\n    .dataframe tbody tr th:only-of-type {\n        vertical-align: middle;\n    }\n\n    .dataframe tbody tr th {\n        vertical-align: top;\n    }\n\n    .dataframe thead th {\n        text-align: right;\n    }\n</style>\n<table border=\"1\" class=\"dataframe\">\n  <thead>\n    <tr style=\"text-align: right;\">\n      <th></th>\n      <th>id</th>\n      <th>member_key</th>\n      <th>date_of_birth</th>\n      <th>first_name</th>\n      <th>last_name</th>\n      <th>price_zone_code</th>\n      <th>u_disabilities</th>\n      <th>u_gender</th>\n      <th>SA1</th>\n      <th>SA2</th>\n      <th>SA3</th>\n      <th>SA4</th>\n    </tr>\n  </thead>\n  <tbody>\n    <tr>\n      <th>0</th>\n      <td>1350</td>\n      <td>f8e1f640-c7f3-11ea-baa6-ebfe92aca975</td>\n      <td>1957-12-19</td>\n      <td>Aaron</td>\n      <td>Edney</td>\n      <td>Remote</td>\n      <td>Amputee</td>\n      <td>Female</td>\n      <td>NaN</td>\n      <td>NaN</td>\n      <td>NaN</td>\n      <td>NaN</td>\n    </tr>\n    <tr>\n      <th>1</th>\n      <td>435</td>\n      <td>df6fef80-c179-11ea-8a11-397bdc21f5a9</td>\n      <td>2002-11-04</td>\n      <td>Abba</td>\n      <td>Joskovitch</td>\n      <td>ACT_NSW_QLD_VIC</td>\n      <td>NaN</td>\n      <td>Female</td>\n      <td>NaN</td>\n      <td>NaN</td>\n      <td>NaN</td>\n      <td>NaN</td>\n    </tr>\n    <tr>\n      <th>2</th>\n      <td>3297</td>\n      <td>d4762b30-dcef-11ea-a5ac-61abce895864</td>\n      <td>2013-09-26</td>\n      <td>Abbe</td>\n      <td>Claridge</td>\n      <td>ACT_NSW_QLD_VIC</td>\n      <td>NaN</td>\n      <td>Male</td>\n      <td>NaN</td>\n      <td>NaN</td>\n      <td>NaN</td>\n      <td>NaN</td>\n    </tr>\n    <tr>\n      <th>3</th>\n      <td>3641</td>\n      <td>e03ed7f0-ddb7-11ea-a31a-7d25e47a5c0a</td>\n      <td>1969-12-15</td>\n      <td>Abbe</td>\n      <td>Kelloway</td>\n      <td>ACT_NSW_QLD_VIC</td>\n      <td>Mental health</td>\n      <td>Female</td>\n      <td>NaN</td>\n      <td>NaN</td>\n      <td>NaN</td>\n      <td>NaN</td>\n    </tr>\n  </tbody>\n</table>\n</div>"
     },
     "metadata": {},
     "execution_count": 4
    }
   ],
=======
   "execution_count": null,
   "metadata": {},
   "outputs": [],
>>>>>>> 8f720b2b4e9cec63e694a4d42aa154bd5f56dde0
   "source": [
    "df_members_supported_all_fields.head(4)"
   ]
  },
  {
   "cell_type": "code",
<<<<<<< HEAD
   "execution_count": 5,
   "metadata": {},
   "outputs": [
    {
     "output_type": "stream",
     "name": "stderr",
     "text": [
      "C:\\Users\\dttt1\\AppData\\Roaming\\Python\\Python38\\site-packages\\pandas\\core\\frame.py:4125: SettingWithCopyWarning: \nA value is trying to be set on a copy of a slice from a DataFrame\n\nSee the caveats in the documentation: https://pandas.pydata.org/pandas-docs/stable/user_guide/indexing.html#returning-a-view-versus-a-copy\n  return super().rename(\n"
     ]
    }
   ],
=======
   "execution_count": null,
   "metadata": {},
   "outputs": [],
>>>>>>> 8f720b2b4e9cec63e694a4d42aa154bd5f56dde0
   "source": [
    "# Select just the fields to be used\n",
    "df_members_supported = df_members_supported_all_fields[{\"id\"\n",
    "                                                      , \"member_key\" \n",
    "                                                      , \"first_name\"\n",
    "                                                      , \"last_name\"\n",
    "                                                      , \"price_zone_code\"\n",
    "                                                      , \"u_disabilities\"\n",
    "                                                      , \"SA1\"\n",
    "                                                      }]\n",
    "\n",
    "# Rename some dataSet colums to create a name's pattern\n",
    "df_members_supported.rename(columns={'id':'member_id'\n",
    "                                   , 'u_disabilities':'disabilities'\n",
    "                                    } , inplace = True)                                    "
   ]
  },
  {
   "cell_type": "code",
<<<<<<< HEAD
   "execution_count": 6,
   "metadata": {},
   "outputs": [
    {
     "output_type": "display_data",
     "data": {
      "text/plain": "<Figure size 432x288 with 1 Axes>",
      "image/svg+xml": "<?xml version=\"1.0\" encoding=\"utf-8\" standalone=\"no\"?>\r\n<!DOCTYPE svg PUBLIC \"-//W3C//DTD SVG 1.1//EN\"\r\n  \"http://www.w3.org/Graphics/SVG/1.1/DTD/svg11.dtd\">\r\n<!-- Created with matplotlib (https://matplotlib.org/) -->\r\n<svg height=\"307.05875pt\" version=\"1.1\" viewBox=\"0 0 385.908437 307.05875\" width=\"385.908437pt\" xmlns=\"http://www.w3.org/2000/svg\" xmlns:xlink=\"http://www.w3.org/1999/xlink\">\r\n <defs>\r\n  <style type=\"text/css\">\r\n*{stroke-linecap:butt;stroke-linejoin:round;}\r\n  </style>\r\n </defs>\r\n <g id=\"figure_1\">\r\n  <g id=\"patch_1\">\r\n   <path d=\"M 0 307.05875 \r\nL 385.908437 307.05875 \r\nL 385.908437 0 \r\nL 0 0 \r\nz\r\n\" style=\"fill:#ffffff;\"/>\r\n  </g>\r\n  <g id=\"axes_1\">\r\n   <g id=\"patch_2\">\r\n    <path d=\"M 43.908438 224.64 \r\nL 378.708438 224.64 \r\nL 378.708438 7.2 \r\nL 43.908438 7.2 \r\nz\r\n\" style=\"fill:#ffffff;\"/>\r\n   </g>\r\n   <g id=\"matplotlib.axis_1\">\r\n    <g id=\"xtick_1\">\r\n     <g id=\"text_1\">\r\n      <!-- disabilities -->\r\n      <defs>\r\n       <path d=\"M 40.234375 0 \r\nL 40.234375 6.546875 \r\nQ 35.296875 -1.171875 25.734375 -1.171875 \r\nQ 19.53125 -1.171875 14.328125 2.25 \r\nQ 9.125 5.671875 6.265625 11.796875 \r\nQ 3.421875 17.921875 3.421875 25.875 \r\nQ 3.421875 33.640625 6 39.96875 \r\nQ 8.59375 46.296875 13.765625 49.65625 \r\nQ 18.953125 53.03125 25.34375 53.03125 \r\nQ 30.03125 53.03125 33.6875 51.046875 \r\nQ 37.359375 49.078125 39.65625 45.90625 \r\nL 39.65625 71.578125 \r\nL 48.390625 71.578125 \r\nL 48.390625 0 \r\nz\r\nM 12.453125 25.875 \r\nQ 12.453125 15.921875 16.640625 10.984375 \r\nQ 20.84375 6.0625 26.5625 6.0625 \r\nQ 32.328125 6.0625 36.34375 10.765625 \r\nQ 40.375 15.484375 40.375 25.140625 \r\nQ 40.375 35.796875 36.265625 40.765625 \r\nQ 32.171875 45.75 26.171875 45.75 \r\nQ 20.3125 45.75 16.375 40.96875 \r\nQ 12.453125 36.1875 12.453125 25.875 \r\nz\r\n\" id=\"ArialMT-100\"/>\r\n       <path d=\"M 6.640625 61.46875 \r\nL 6.640625 71.578125 \r\nL 15.4375 71.578125 \r\nL 15.4375 61.46875 \r\nz\r\nM 6.640625 0 \r\nL 6.640625 51.859375 \r\nL 15.4375 51.859375 \r\nL 15.4375 0 \r\nz\r\n\" id=\"ArialMT-105\"/>\r\n       <path d=\"M 3.078125 15.484375 \r\nL 11.765625 16.84375 \r\nQ 12.5 11.625 15.84375 8.84375 \r\nQ 19.1875 6.0625 25.203125 6.0625 \r\nQ 31.25 6.0625 34.171875 8.515625 \r\nQ 37.109375 10.984375 37.109375 14.3125 \r\nQ 37.109375 17.28125 34.515625 19 \r\nQ 32.71875 20.171875 25.53125 21.96875 \r\nQ 15.875 24.421875 12.140625 26.203125 \r\nQ 8.40625 27.984375 6.46875 31.125 \r\nQ 4.546875 34.28125 4.546875 38.09375 \r\nQ 4.546875 41.546875 6.125 44.5 \r\nQ 7.71875 47.46875 10.453125 49.421875 \r\nQ 12.5 50.921875 16.03125 51.96875 \r\nQ 19.578125 53.03125 23.640625 53.03125 \r\nQ 29.734375 53.03125 34.34375 51.265625 \r\nQ 38.96875 49.515625 41.15625 46.5 \r\nQ 43.359375 43.5 44.1875 38.484375 \r\nL 35.59375 37.3125 \r\nQ 35.015625 41.3125 32.203125 43.546875 \r\nQ 29.390625 45.796875 24.265625 45.796875 \r\nQ 18.21875 45.796875 15.625 43.796875 \r\nQ 13.03125 41.796875 13.03125 39.109375 \r\nQ 13.03125 37.40625 14.109375 36.03125 \r\nQ 15.1875 34.625 17.484375 33.6875 \r\nQ 18.796875 33.203125 25.25 31.453125 \r\nQ 34.578125 28.953125 38.25 27.359375 \r\nQ 41.9375 25.78125 44.03125 22.75 \r\nQ 46.140625 19.734375 46.140625 15.234375 \r\nQ 46.140625 10.84375 43.578125 6.953125 \r\nQ 41.015625 3.078125 36.171875 0.953125 \r\nQ 31.34375 -1.171875 25.25 -1.171875 \r\nQ 15.140625 -1.171875 9.84375 3.03125 \r\nQ 4.546875 7.234375 3.078125 15.484375 \r\nz\r\n\" id=\"ArialMT-115\"/>\r\n       <path d=\"M 40.4375 6.390625 \r\nQ 35.546875 2.25 31.03125 0.53125 \r\nQ 26.515625 -1.171875 21.34375 -1.171875 \r\nQ 12.796875 -1.171875 8.203125 3 \r\nQ 3.609375 7.171875 3.609375 13.671875 \r\nQ 3.609375 17.484375 5.34375 20.625 \r\nQ 7.078125 23.78125 9.890625 25.6875 \r\nQ 12.703125 27.59375 16.21875 28.5625 \r\nQ 18.796875 29.25 24.03125 29.890625 \r\nQ 34.671875 31.15625 39.703125 32.90625 \r\nQ 39.75 34.71875 39.75 35.203125 \r\nQ 39.75 40.578125 37.25 42.78125 \r\nQ 33.890625 45.75 27.25 45.75 \r\nQ 21.046875 45.75 18.09375 43.578125 \r\nQ 15.140625 41.40625 13.71875 35.890625 \r\nL 5.125 37.0625 \r\nQ 6.296875 42.578125 8.984375 45.96875 \r\nQ 11.671875 49.359375 16.75 51.1875 \r\nQ 21.828125 53.03125 28.515625 53.03125 \r\nQ 35.15625 53.03125 39.296875 51.46875 \r\nQ 43.453125 49.90625 45.40625 47.53125 \r\nQ 47.359375 45.171875 48.140625 41.546875 \r\nQ 48.578125 39.3125 48.578125 33.453125 \r\nL 48.578125 21.734375 \r\nQ 48.578125 9.46875 49.140625 6.21875 \r\nQ 49.703125 2.984375 51.375 0 \r\nL 42.1875 0 \r\nQ 40.828125 2.734375 40.4375 6.390625 \r\nz\r\nM 39.703125 26.03125 \r\nQ 34.90625 24.078125 25.34375 22.703125 \r\nQ 19.921875 21.921875 17.671875 20.9375 \r\nQ 15.4375 19.96875 14.203125 18.09375 \r\nQ 12.984375 16.21875 12.984375 13.921875 \r\nQ 12.984375 10.40625 15.640625 8.0625 \r\nQ 18.3125 5.71875 23.4375 5.71875 \r\nQ 28.515625 5.71875 32.46875 7.9375 \r\nQ 36.421875 10.15625 38.28125 14.015625 \r\nQ 39.703125 17 39.703125 22.796875 \r\nz\r\n\" id=\"ArialMT-97\"/>\r\n       <path d=\"M 14.703125 0 \r\nL 6.546875 0 \r\nL 6.546875 71.578125 \r\nL 15.328125 71.578125 \r\nL 15.328125 46.046875 \r\nQ 20.90625 53.03125 29.546875 53.03125 \r\nQ 34.328125 53.03125 38.59375 51.09375 \r\nQ 42.875 49.171875 45.625 45.671875 \r\nQ 48.390625 42.1875 49.953125 37.25 \r\nQ 51.515625 32.328125 51.515625 26.703125 \r\nQ 51.515625 13.375 44.921875 6.09375 \r\nQ 38.328125 -1.171875 29.109375 -1.171875 \r\nQ 19.921875 -1.171875 14.703125 6.5 \r\nz\r\nM 14.59375 26.3125 \r\nQ 14.59375 17 17.140625 12.84375 \r\nQ 21.296875 6.0625 28.375 6.0625 \r\nQ 34.125 6.0625 38.328125 11.0625 \r\nQ 42.53125 16.0625 42.53125 25.984375 \r\nQ 42.53125 36.140625 38.5 40.96875 \r\nQ 34.46875 45.796875 28.765625 45.796875 \r\nQ 23 45.796875 18.796875 40.796875 \r\nQ 14.59375 35.796875 14.59375 26.3125 \r\nz\r\n\" id=\"ArialMT-98\"/>\r\n       <path d=\"M 6.390625 0 \r\nL 6.390625 71.578125 \r\nL 15.1875 71.578125 \r\nL 15.1875 0 \r\nz\r\n\" id=\"ArialMT-108\"/>\r\n       <path d=\"M 25.78125 7.859375 \r\nL 27.046875 0.09375 \r\nQ 23.34375 -0.6875 20.40625 -0.6875 \r\nQ 15.625 -0.6875 12.984375 0.828125 \r\nQ 10.359375 2.34375 9.28125 4.8125 \r\nQ 8.203125 7.28125 8.203125 15.1875 \r\nL 8.203125 45.015625 \r\nL 1.765625 45.015625 \r\nL 1.765625 51.859375 \r\nL 8.203125 51.859375 \r\nL 8.203125 64.703125 \r\nL 16.9375 69.96875 \r\nL 16.9375 51.859375 \r\nL 25.78125 51.859375 \r\nL 25.78125 45.015625 \r\nL 16.9375 45.015625 \r\nL 16.9375 14.703125 \r\nQ 16.9375 10.9375 17.40625 9.859375 \r\nQ 17.875 8.796875 18.921875 8.15625 \r\nQ 19.96875 7.515625 21.921875 7.515625 \r\nQ 23.390625 7.515625 25.78125 7.859375 \r\nz\r\n\" id=\"ArialMT-116\"/>\r\n       <path d=\"M 42.09375 16.703125 \r\nL 51.171875 15.578125 \r\nQ 49.03125 7.625 43.21875 3.21875 \r\nQ 37.40625 -1.171875 28.375 -1.171875 \r\nQ 17 -1.171875 10.328125 5.828125 \r\nQ 3.65625 12.84375 3.65625 25.484375 \r\nQ 3.65625 38.578125 10.390625 45.796875 \r\nQ 17.140625 53.03125 27.875 53.03125 \r\nQ 38.28125 53.03125 44.875 45.953125 \r\nQ 51.46875 38.875 51.46875 26.03125 \r\nQ 51.46875 25.25 51.421875 23.6875 \r\nL 12.75 23.6875 \r\nQ 13.234375 15.140625 17.578125 10.59375 \r\nQ 21.921875 6.0625 28.421875 6.0625 \r\nQ 33.25 6.0625 36.671875 8.59375 \r\nQ 40.09375 11.140625 42.09375 16.703125 \r\nz\r\nM 13.234375 30.90625 \r\nL 42.1875 30.90625 \r\nQ 41.609375 37.453125 38.875 40.71875 \r\nQ 34.671875 45.796875 27.984375 45.796875 \r\nQ 21.921875 45.796875 17.796875 41.75 \r\nQ 13.671875 37.703125 13.234375 30.90625 \r\nz\r\n\" id=\"ArialMT-101\"/>\r\n      </defs>\r\n      <g style=\"fill:#262626;\" transform=\"translate(130.452109 284.884375)rotate(-90)scale(0.11 -0.11)\">\r\n       <use xlink:href=\"#ArialMT-100\"/>\r\n       <use x=\"55.615234\" xlink:href=\"#ArialMT-105\"/>\r\n       <use x=\"77.832031\" xlink:href=\"#ArialMT-115\"/>\r\n       <use x=\"127.832031\" xlink:href=\"#ArialMT-97\"/>\r\n       <use x=\"183.447266\" xlink:href=\"#ArialMT-98\"/>\r\n       <use x=\"239.0625\" xlink:href=\"#ArialMT-105\"/>\r\n       <use x=\"261.279297\" xlink:href=\"#ArialMT-108\"/>\r\n       <use x=\"283.496094\" xlink:href=\"#ArialMT-105\"/>\r\n       <use x=\"305.712891\" xlink:href=\"#ArialMT-116\"/>\r\n       <use x=\"333.496094\" xlink:href=\"#ArialMT-105\"/>\r\n       <use x=\"355.712891\" xlink:href=\"#ArialMT-101\"/>\r\n       <use x=\"411.328125\" xlink:href=\"#ArialMT-115\"/>\r\n      </g>\r\n     </g>\r\n    </g>\r\n    <g id=\"xtick_2\">\r\n     <g id=\"text_2\">\r\n      <!-- SA1 -->\r\n      <defs>\r\n       <path d=\"M 4.5 23 \r\nL 13.421875 23.78125 \r\nQ 14.0625 18.40625 16.375 14.96875 \r\nQ 18.703125 11.53125 23.578125 9.40625 \r\nQ 28.46875 7.28125 34.578125 7.28125 \r\nQ 39.984375 7.28125 44.140625 8.890625 \r\nQ 48.296875 10.5 50.3125 13.296875 \r\nQ 52.34375 16.109375 52.34375 19.4375 \r\nQ 52.34375 22.796875 50.390625 25.3125 \r\nQ 48.4375 27.828125 43.953125 29.546875 \r\nQ 41.0625 30.671875 31.203125 33.03125 \r\nQ 21.34375 35.40625 17.390625 37.5 \r\nQ 12.25 40.1875 9.734375 44.15625 \r\nQ 7.234375 48.140625 7.234375 53.078125 \r\nQ 7.234375 58.5 10.296875 63.203125 \r\nQ 13.375 67.921875 19.28125 70.359375 \r\nQ 25.203125 72.796875 32.421875 72.796875 \r\nQ 40.375 72.796875 46.453125 70.234375 \r\nQ 52.546875 67.671875 55.8125 62.6875 \r\nQ 59.078125 57.71875 59.328125 51.421875 \r\nL 50.25 50.734375 \r\nQ 49.515625 57.515625 45.28125 60.984375 \r\nQ 41.0625 64.453125 32.8125 64.453125 \r\nQ 24.21875 64.453125 20.28125 61.296875 \r\nQ 16.359375 58.15625 16.359375 53.71875 \r\nQ 16.359375 49.859375 19.140625 47.359375 \r\nQ 21.875 44.875 33.421875 42.265625 \r\nQ 44.96875 39.65625 49.265625 37.703125 \r\nQ 55.515625 34.8125 58.484375 30.390625 \r\nQ 61.46875 25.984375 61.46875 20.21875 \r\nQ 61.46875 14.5 58.203125 9.4375 \r\nQ 54.9375 4.390625 48.796875 1.578125 \r\nQ 42.671875 -1.21875 35.015625 -1.21875 \r\nQ 25.296875 -1.21875 18.71875 1.609375 \r\nQ 12.15625 4.4375 8.421875 10.125 \r\nQ 4.6875 15.828125 4.5 23 \r\nz\r\n\" id=\"ArialMT-83\"/>\r\n       <path d=\"M -0.140625 0 \r\nL 27.34375 71.578125 \r\nL 37.546875 71.578125 \r\nL 66.84375 0 \r\nL 56.0625 0 \r\nL 47.703125 21.6875 \r\nL 17.78125 21.6875 \r\nL 9.90625 0 \r\nz\r\nM 20.515625 29.390625 \r\nL 44.78125 29.390625 \r\nL 37.3125 49.21875 \r\nQ 33.890625 58.25 32.234375 64.0625 \r\nQ 30.859375 57.171875 28.375 50.390625 \r\nz\r\n\" id=\"ArialMT-65\"/>\r\n       <path d=\"M 37.25 0 \r\nL 28.46875 0 \r\nL 28.46875 56 \r\nQ 25.296875 52.984375 20.140625 49.953125 \r\nQ 14.984375 46.921875 10.890625 45.40625 \r\nL 10.890625 53.90625 \r\nQ 18.265625 57.375 23.78125 62.296875 \r\nQ 29.296875 67.234375 31.59375 71.875 \r\nL 37.25 71.875 \r\nz\r\n\" id=\"ArialMT-49\"/>\r\n      </defs>\r\n      <g style=\"fill:#262626;\" transform=\"translate(297.852109 254.931719)rotate(-90)scale(0.11 -0.11)\">\r\n       <use xlink:href=\"#ArialMT-83\"/>\r\n       <use x=\"66.699219\" xlink:href=\"#ArialMT-65\"/>\r\n       <use x=\"133.398438\" xlink:href=\"#ArialMT-49\"/>\r\n      </g>\r\n     </g>\r\n    </g>\r\n    <g id=\"text_3\">\r\n     <!-- Column -->\r\n     <defs>\r\n      <path d=\"M 58.796875 25.09375 \r\nL 68.265625 22.703125 \r\nQ 65.28125 11.03125 57.546875 4.90625 \r\nQ 49.8125 -1.21875 38.625 -1.21875 \r\nQ 27.046875 -1.21875 19.796875 3.484375 \r\nQ 12.546875 8.203125 8.765625 17.140625 \r\nQ 4.984375 26.078125 4.984375 36.328125 \r\nQ 4.984375 47.515625 9.25 55.828125 \r\nQ 13.53125 64.15625 21.40625 68.46875 \r\nQ 29.296875 72.796875 38.765625 72.796875 \r\nQ 49.515625 72.796875 56.828125 67.328125 \r\nQ 64.15625 61.859375 67.046875 51.953125 \r\nL 57.71875 49.75 \r\nQ 55.21875 57.5625 50.484375 61.125 \r\nQ 45.75 64.703125 38.578125 64.703125 \r\nQ 30.328125 64.703125 24.78125 60.734375 \r\nQ 19.234375 56.78125 16.984375 50.109375 \r\nQ 14.75 43.453125 14.75 36.375 \r\nQ 14.75 27.25 17.40625 20.4375 \r\nQ 20.0625 13.625 25.671875 10.25 \r\nQ 31.296875 6.890625 37.84375 6.890625 \r\nQ 45.796875 6.890625 51.3125 11.46875 \r\nQ 56.84375 16.0625 58.796875 25.09375 \r\nz\r\n\" id=\"ArialMT-67\"/>\r\n      <path d=\"M 3.328125 25.921875 \r\nQ 3.328125 40.328125 11.328125 47.265625 \r\nQ 18.015625 53.03125 27.640625 53.03125 \r\nQ 38.328125 53.03125 45.109375 46.015625 \r\nQ 51.90625 39.015625 51.90625 26.65625 \r\nQ 51.90625 16.65625 48.90625 10.90625 \r\nQ 45.90625 5.171875 40.15625 2 \r\nQ 34.421875 -1.171875 27.640625 -1.171875 \r\nQ 16.75 -1.171875 10.03125 5.8125 \r\nQ 3.328125 12.796875 3.328125 25.921875 \r\nz\r\nM 12.359375 25.921875 \r\nQ 12.359375 15.96875 16.703125 11.015625 \r\nQ 21.046875 6.0625 27.640625 6.0625 \r\nQ 34.1875 6.0625 38.53125 11.03125 \r\nQ 42.875 16.015625 42.875 26.21875 \r\nQ 42.875 35.84375 38.5 40.796875 \r\nQ 34.125 45.75 27.640625 45.75 \r\nQ 21.046875 45.75 16.703125 40.8125 \r\nQ 12.359375 35.890625 12.359375 25.921875 \r\nz\r\n\" id=\"ArialMT-111\"/>\r\n      <path d=\"M 40.578125 0 \r\nL 40.578125 7.625 \r\nQ 34.515625 -1.171875 24.125 -1.171875 \r\nQ 19.53125 -1.171875 15.546875 0.578125 \r\nQ 11.578125 2.34375 9.640625 5 \r\nQ 7.71875 7.671875 6.9375 11.53125 \r\nQ 6.390625 14.109375 6.390625 19.734375 \r\nL 6.390625 51.859375 \r\nL 15.1875 51.859375 \r\nL 15.1875 23.09375 \r\nQ 15.1875 16.21875 15.71875 13.8125 \r\nQ 16.546875 10.359375 19.234375 8.375 \r\nQ 21.921875 6.390625 25.875 6.390625 \r\nQ 29.828125 6.390625 33.296875 8.421875 \r\nQ 36.765625 10.453125 38.203125 13.9375 \r\nQ 39.65625 17.4375 39.65625 24.078125 \r\nL 39.65625 51.859375 \r\nL 48.4375 51.859375 \r\nL 48.4375 0 \r\nz\r\n\" id=\"ArialMT-117\"/>\r\n      <path d=\"M 6.59375 0 \r\nL 6.59375 51.859375 \r\nL 14.453125 51.859375 \r\nL 14.453125 44.578125 \r\nQ 16.890625 48.390625 20.9375 50.703125 \r\nQ 25 53.03125 30.171875 53.03125 \r\nQ 35.9375 53.03125 39.625 50.640625 \r\nQ 43.3125 48.25 44.828125 43.953125 \r\nQ 50.984375 53.03125 60.84375 53.03125 \r\nQ 68.5625 53.03125 72.703125 48.75 \r\nQ 76.859375 44.484375 76.859375 35.59375 \r\nL 76.859375 0 \r\nL 68.109375 0 \r\nL 68.109375 32.671875 \r\nQ 68.109375 37.9375 67.25 40.25 \r\nQ 66.40625 42.578125 64.15625 43.984375 \r\nQ 61.921875 45.40625 58.890625 45.40625 \r\nQ 53.421875 45.40625 49.796875 41.765625 \r\nQ 46.1875 38.140625 46.1875 30.125 \r\nL 46.1875 0 \r\nL 37.40625 0 \r\nL 37.40625 33.6875 \r\nQ 37.40625 39.546875 35.25 42.46875 \r\nQ 33.109375 45.40625 28.21875 45.40625 \r\nQ 24.515625 45.40625 21.359375 43.453125 \r\nQ 18.21875 41.5 16.796875 37.734375 \r\nQ 15.375 33.984375 15.375 26.90625 \r\nL 15.375 0 \r\nz\r\n\" id=\"ArialMT-109\"/>\r\n      <path d=\"M 6.59375 0 \r\nL 6.59375 51.859375 \r\nL 14.5 51.859375 \r\nL 14.5 44.484375 \r\nQ 20.21875 53.03125 31 53.03125 \r\nQ 35.6875 53.03125 39.625 51.34375 \r\nQ 43.5625 49.65625 45.515625 46.921875 \r\nQ 47.46875 44.1875 48.25 40.4375 \r\nQ 48.734375 37.984375 48.734375 31.890625 \r\nL 48.734375 0 \r\nL 39.9375 0 \r\nL 39.9375 31.546875 \r\nQ 39.9375 36.921875 38.90625 39.578125 \r\nQ 37.890625 42.234375 35.28125 43.8125 \r\nQ 32.671875 45.40625 29.15625 45.40625 \r\nQ 23.53125 45.40625 19.453125 41.84375 \r\nQ 15.375 38.28125 15.375 28.328125 \r\nL 15.375 0 \r\nz\r\n\" id=\"ArialMT-110\"/>\r\n     </defs>\r\n     <g style=\"fill:#262626;\" transform=\"translate(190.634688 297.47375)scale(0.12 -0.12)\">\r\n      <use xlink:href=\"#ArialMT-67\"/>\r\n      <use x=\"72.216797\" xlink:href=\"#ArialMT-111\"/>\r\n      <use x=\"127.832031\" xlink:href=\"#ArialMT-108\"/>\r\n      <use x=\"150.048828\" xlink:href=\"#ArialMT-117\"/>\r\n      <use x=\"205.664062\" xlink:href=\"#ArialMT-109\"/>\r\n      <use x=\"288.964844\" xlink:href=\"#ArialMT-110\"/>\r\n     </g>\r\n    </g>\r\n   </g>\r\n   <g id=\"matplotlib.axis_2\">\r\n    <g id=\"ytick_1\">\r\n     <g id=\"line2d_1\">\r\n      <path clip-path=\"url(#p86627ce79e)\" d=\"M 43.908438 224.64 \r\nL 378.708438 224.64 \r\n\" style=\"fill:none;stroke:#cccccc;stroke-linecap:round;\"/>\r\n     </g>\r\n     <g id=\"text_4\">\r\n      <!-- 0 -->\r\n      <defs>\r\n       <path d=\"M 4.15625 35.296875 \r\nQ 4.15625 48 6.765625 55.734375 \r\nQ 9.375 63.484375 14.515625 67.671875 \r\nQ 19.671875 71.875 27.484375 71.875 \r\nQ 33.25 71.875 37.59375 69.546875 \r\nQ 41.9375 67.234375 44.765625 62.859375 \r\nQ 47.609375 58.5 49.21875 52.21875 \r\nQ 50.828125 45.953125 50.828125 35.296875 \r\nQ 50.828125 22.703125 48.234375 14.96875 \r\nQ 45.65625 7.234375 40.5 3 \r\nQ 35.359375 -1.21875 27.484375 -1.21875 \r\nQ 17.140625 -1.21875 11.234375 6.203125 \r\nQ 4.15625 15.140625 4.15625 35.296875 \r\nz\r\nM 13.1875 35.296875 \r\nQ 13.1875 17.671875 17.3125 11.828125 \r\nQ 21.4375 6 27.484375 6 \r\nQ 33.546875 6 37.671875 11.859375 \r\nQ 41.796875 17.71875 41.796875 35.296875 \r\nQ 41.796875 52.984375 37.671875 58.78125 \r\nQ 33.546875 64.59375 27.390625 64.59375 \r\nQ 21.34375 64.59375 17.71875 59.46875 \r\nQ 13.1875 52.9375 13.1875 35.296875 \r\nz\r\n\" id=\"ArialMT-48\"/>\r\n      </defs>\r\n      <g style=\"fill:#262626;\" transform=\"translate(28.291406 228.576797)scale(0.11 -0.11)\">\r\n       <use xlink:href=\"#ArialMT-48\"/>\r\n      </g>\r\n     </g>\r\n    </g>\r\n    <g id=\"ytick_2\">\r\n     <g id=\"line2d_2\">\r\n      <path clip-path=\"url(#p86627ce79e)\" d=\"M 43.908438 177.461767 \r\nL 378.708438 177.461767 \r\n\" style=\"fill:none;stroke:#cccccc;stroke-linecap:round;\"/>\r\n     </g>\r\n     <g id=\"text_5\">\r\n      <!-- 20 -->\r\n      <defs>\r\n       <path d=\"M 50.34375 8.453125 \r\nL 50.34375 0 \r\nL 3.03125 0 \r\nQ 2.9375 3.171875 4.046875 6.109375 \r\nQ 5.859375 10.9375 9.828125 15.625 \r\nQ 13.8125 20.3125 21.34375 26.46875 \r\nQ 33.015625 36.03125 37.109375 41.625 \r\nQ 41.21875 47.21875 41.21875 52.203125 \r\nQ 41.21875 57.421875 37.46875 61 \r\nQ 33.734375 64.59375 27.734375 64.59375 \r\nQ 21.390625 64.59375 17.578125 60.78125 \r\nQ 13.765625 56.984375 13.71875 50.25 \r\nL 4.6875 51.171875 \r\nQ 5.609375 61.28125 11.65625 66.578125 \r\nQ 17.71875 71.875 27.9375 71.875 \r\nQ 38.234375 71.875 44.234375 66.15625 \r\nQ 50.25 60.453125 50.25 52 \r\nQ 50.25 47.703125 48.484375 43.546875 \r\nQ 46.734375 39.40625 42.65625 34.8125 \r\nQ 38.578125 30.21875 29.109375 22.21875 \r\nQ 21.1875 15.578125 18.9375 13.203125 \r\nQ 16.703125 10.84375 15.234375 8.453125 \r\nz\r\n\" id=\"ArialMT-50\"/>\r\n      </defs>\r\n      <g style=\"fill:#262626;\" transform=\"translate(22.174375 181.398564)scale(0.11 -0.11)\">\r\n       <use xlink:href=\"#ArialMT-50\"/>\r\n       <use x=\"55.615234\" xlink:href=\"#ArialMT-48\"/>\r\n      </g>\r\n     </g>\r\n    </g>\r\n    <g id=\"ytick_3\">\r\n     <g id=\"line2d_3\">\r\n      <path clip-path=\"url(#p86627ce79e)\" d=\"M 43.908438 130.283534 \r\nL 378.708438 130.283534 \r\n\" style=\"fill:none;stroke:#cccccc;stroke-linecap:round;\"/>\r\n     </g>\r\n     <g id=\"text_6\">\r\n      <!-- 40 -->\r\n      <defs>\r\n       <path d=\"M 32.328125 0 \r\nL 32.328125 17.140625 \r\nL 1.265625 17.140625 \r\nL 1.265625 25.203125 \r\nL 33.9375 71.578125 \r\nL 41.109375 71.578125 \r\nL 41.109375 25.203125 \r\nL 50.78125 25.203125 \r\nL 50.78125 17.140625 \r\nL 41.109375 17.140625 \r\nL 41.109375 0 \r\nz\r\nM 32.328125 25.203125 \r\nL 32.328125 57.46875 \r\nL 9.90625 25.203125 \r\nz\r\n\" id=\"ArialMT-52\"/>\r\n      </defs>\r\n      <g style=\"fill:#262626;\" transform=\"translate(22.174375 134.220331)scale(0.11 -0.11)\">\r\n       <use xlink:href=\"#ArialMT-52\"/>\r\n       <use x=\"55.615234\" xlink:href=\"#ArialMT-48\"/>\r\n      </g>\r\n     </g>\r\n    </g>\r\n    <g id=\"ytick_4\">\r\n     <g id=\"line2d_4\">\r\n      <path clip-path=\"url(#p86627ce79e)\" d=\"M 43.908438 83.105301 \r\nL 378.708438 83.105301 \r\n\" style=\"fill:none;stroke:#cccccc;stroke-linecap:round;\"/>\r\n     </g>\r\n     <g id=\"text_7\">\r\n      <!-- 60 -->\r\n      <defs>\r\n       <path d=\"M 49.75 54.046875 \r\nL 41.015625 53.375 \r\nQ 39.84375 58.546875 37.703125 60.890625 \r\nQ 34.125 64.65625 28.90625 64.65625 \r\nQ 24.703125 64.65625 21.53125 62.3125 \r\nQ 17.390625 59.28125 14.984375 53.46875 \r\nQ 12.59375 47.65625 12.5 36.921875 \r\nQ 15.671875 41.75 20.265625 44.09375 \r\nQ 24.859375 46.4375 29.890625 46.4375 \r\nQ 38.671875 46.4375 44.84375 39.96875 \r\nQ 51.03125 33.5 51.03125 23.25 \r\nQ 51.03125 16.5 48.125 10.71875 \r\nQ 45.21875 4.9375 40.140625 1.859375 \r\nQ 35.0625 -1.21875 28.609375 -1.21875 \r\nQ 17.625 -1.21875 10.6875 6.859375 \r\nQ 3.765625 14.9375 3.765625 33.5 \r\nQ 3.765625 54.25 11.421875 63.671875 \r\nQ 18.109375 71.875 29.4375 71.875 \r\nQ 37.890625 71.875 43.28125 67.140625 \r\nQ 48.6875 62.40625 49.75 54.046875 \r\nz\r\nM 13.875 23.1875 \r\nQ 13.875 18.65625 15.796875 14.5 \r\nQ 17.71875 10.359375 21.1875 8.171875 \r\nQ 24.65625 6 28.46875 6 \r\nQ 34.03125 6 38.03125 10.484375 \r\nQ 42.046875 14.984375 42.046875 22.703125 \r\nQ 42.046875 30.125 38.078125 34.390625 \r\nQ 34.125 38.671875 28.125 38.671875 \r\nQ 22.171875 38.671875 18.015625 34.390625 \r\nQ 13.875 30.125 13.875 23.1875 \r\nz\r\n\" id=\"ArialMT-54\"/>\r\n      </defs>\r\n      <g style=\"fill:#262626;\" transform=\"translate(22.174375 87.042098)scale(0.11 -0.11)\">\r\n       <use xlink:href=\"#ArialMT-54\"/>\r\n       <use x=\"55.615234\" xlink:href=\"#ArialMT-48\"/>\r\n      </g>\r\n     </g>\r\n    </g>\r\n    <g id=\"ytick_5\">\r\n     <g id=\"line2d_5\">\r\n      <path clip-path=\"url(#p86627ce79e)\" d=\"M 43.908438 35.927068 \r\nL 378.708438 35.927068 \r\n\" style=\"fill:none;stroke:#cccccc;stroke-linecap:round;\"/>\r\n     </g>\r\n     <g id=\"text_8\">\r\n      <!-- 80 -->\r\n      <defs>\r\n       <path d=\"M 17.671875 38.8125 \r\nQ 12.203125 40.828125 9.5625 44.53125 \r\nQ 6.9375 48.25 6.9375 53.421875 \r\nQ 6.9375 61.234375 12.546875 66.546875 \r\nQ 18.171875 71.875 27.484375 71.875 \r\nQ 36.859375 71.875 42.578125 66.421875 \r\nQ 48.296875 60.984375 48.296875 53.171875 \r\nQ 48.296875 48.1875 45.671875 44.5 \r\nQ 43.0625 40.828125 37.75 38.8125 \r\nQ 44.34375 36.671875 47.78125 31.875 \r\nQ 51.21875 27.09375 51.21875 20.453125 \r\nQ 51.21875 11.28125 44.71875 5.03125 \r\nQ 38.234375 -1.21875 27.640625 -1.21875 \r\nQ 17.046875 -1.21875 10.546875 5.046875 \r\nQ 4.046875 11.328125 4.046875 20.703125 \r\nQ 4.046875 27.6875 7.59375 32.390625 \r\nQ 11.140625 37.109375 17.671875 38.8125 \r\nz\r\nM 15.921875 53.71875 \r\nQ 15.921875 48.640625 19.1875 45.40625 \r\nQ 22.46875 42.1875 27.6875 42.1875 \r\nQ 32.765625 42.1875 36.015625 45.375 \r\nQ 39.265625 48.578125 39.265625 53.21875 \r\nQ 39.265625 58.0625 35.90625 61.359375 \r\nQ 32.5625 64.65625 27.59375 64.65625 \r\nQ 22.5625 64.65625 19.234375 61.421875 \r\nQ 15.921875 58.203125 15.921875 53.71875 \r\nz\r\nM 13.09375 20.65625 \r\nQ 13.09375 16.890625 14.875 13.375 \r\nQ 16.65625 9.859375 20.171875 7.921875 \r\nQ 23.6875 6 27.734375 6 \r\nQ 34.03125 6 38.125 10.046875 \r\nQ 42.234375 14.109375 42.234375 20.359375 \r\nQ 42.234375 26.703125 38.015625 30.859375 \r\nQ 33.796875 35.015625 27.4375 35.015625 \r\nQ 21.234375 35.015625 17.15625 30.90625 \r\nQ 13.09375 26.8125 13.09375 20.65625 \r\nz\r\n\" id=\"ArialMT-56\"/>\r\n      </defs>\r\n      <g style=\"fill:#262626;\" transform=\"translate(22.174375 39.863865)scale(0.11 -0.11)\">\r\n       <use xlink:href=\"#ArialMT-56\"/>\r\n       <use x=\"55.615234\" xlink:href=\"#ArialMT-48\"/>\r\n      </g>\r\n     </g>\r\n    </g>\r\n    <g id=\"text_9\">\r\n     <!-- Percentual -->\r\n     <defs>\r\n      <path d=\"M 7.71875 0 \r\nL 7.71875 71.578125 \r\nL 34.71875 71.578125 \r\nQ 41.84375 71.578125 45.609375 70.90625 \r\nQ 50.875 70.015625 54.4375 67.546875 \r\nQ 58.015625 65.09375 60.1875 60.640625 \r\nQ 62.359375 56.203125 62.359375 50.875 \r\nQ 62.359375 41.75 56.546875 35.421875 \r\nQ 50.734375 29.109375 35.546875 29.109375 \r\nL 17.1875 29.109375 \r\nL 17.1875 0 \r\nz\r\nM 17.1875 37.546875 \r\nL 35.6875 37.546875 \r\nQ 44.875 37.546875 48.734375 40.96875 \r\nQ 52.59375 44.390625 52.59375 50.59375 \r\nQ 52.59375 55.078125 50.3125 58.265625 \r\nQ 48.046875 61.46875 44.34375 62.5 \r\nQ 41.9375 63.140625 35.5 63.140625 \r\nL 17.1875 63.140625 \r\nz\r\n\" id=\"ArialMT-80\"/>\r\n      <path d=\"M 6.5 0 \r\nL 6.5 51.859375 \r\nL 14.40625 51.859375 \r\nL 14.40625 44 \r\nQ 17.4375 49.515625 20 51.265625 \r\nQ 22.5625 53.03125 25.640625 53.03125 \r\nQ 30.078125 53.03125 34.671875 50.203125 \r\nL 31.640625 42.046875 \r\nQ 28.421875 43.953125 25.203125 43.953125 \r\nQ 22.3125 43.953125 20.015625 42.21875 \r\nQ 17.71875 40.484375 16.75 37.40625 \r\nQ 15.28125 32.71875 15.28125 27.15625 \r\nL 15.28125 0 \r\nz\r\n\" id=\"ArialMT-114\"/>\r\n      <path d=\"M 40.4375 19 \r\nL 49.078125 17.875 \r\nQ 47.65625 8.9375 41.8125 3.875 \r\nQ 35.984375 -1.171875 27.484375 -1.171875 \r\nQ 16.84375 -1.171875 10.375 5.78125 \r\nQ 3.90625 12.75 3.90625 25.734375 \r\nQ 3.90625 34.125 6.6875 40.421875 \r\nQ 9.46875 46.734375 15.15625 49.875 \r\nQ 20.84375 53.03125 27.546875 53.03125 \r\nQ 35.984375 53.03125 41.359375 48.75 \r\nQ 46.734375 44.484375 48.25 36.625 \r\nL 39.703125 35.296875 \r\nQ 38.484375 40.53125 35.375 43.15625 \r\nQ 32.28125 45.796875 27.875 45.796875 \r\nQ 21.234375 45.796875 17.078125 41.03125 \r\nQ 12.9375 36.28125 12.9375 25.984375 \r\nQ 12.9375 15.53125 16.9375 10.796875 \r\nQ 20.953125 6.0625 27.390625 6.0625 \r\nQ 32.5625 6.0625 36.03125 9.234375 \r\nQ 39.5 12.40625 40.4375 19 \r\nz\r\n\" id=\"ArialMT-99\"/>\r\n     </defs>\r\n     <g style=\"fill:#262626;\" transform=\"translate(15.789375 144.602812)rotate(-90)scale(0.12 -0.12)\">\r\n      <use xlink:href=\"#ArialMT-80\"/>\r\n      <use x=\"66.699219\" xlink:href=\"#ArialMT-101\"/>\r\n      <use x=\"122.314453\" xlink:href=\"#ArialMT-114\"/>\r\n      <use x=\"155.615234\" xlink:href=\"#ArialMT-99\"/>\r\n      <use x=\"205.615234\" xlink:href=\"#ArialMT-101\"/>\r\n      <use x=\"261.230469\" xlink:href=\"#ArialMT-110\"/>\r\n      <use x=\"316.845703\" xlink:href=\"#ArialMT-116\"/>\r\n      <use x=\"344.628906\" xlink:href=\"#ArialMT-117\"/>\r\n      <use x=\"400.244141\" xlink:href=\"#ArialMT-97\"/>\r\n      <use x=\"455.859375\" xlink:href=\"#ArialMT-108\"/>\r\n     </g>\r\n    </g>\r\n   </g>\r\n   <g id=\"patch_3\">\r\n    <path clip-path=\"url(#p86627ce79e)\" d=\"M 60.648438 224.64 \r\nL 194.568438 224.64 \r\nL 194.568438 38.599901 \r\nL 60.648438 38.599901 \r\nz\r\n\" style=\"fill:#5875a4;stroke:#ffffff;stroke-linejoin:miter;\"/>\r\n   </g>\r\n   <g id=\"patch_4\">\r\n    <path clip-path=\"url(#p86627ce79e)\" d=\"M 228.048438 224.64 \r\nL 361.968437 224.64 \r\nL 361.968437 17.554286 \r\nL 228.048438 17.554286 \r\nz\r\n\" style=\"fill:#cc8963;stroke:#ffffff;stroke-linejoin:miter;\"/>\r\n   </g>\r\n   <g id=\"line2d_6\">\r\n    <path clip-path=\"url(#p86627ce79e)\" style=\"fill:none;stroke:#424242;stroke-linecap:round;stroke-width:2.7;\"/>\r\n   </g>\r\n   <g id=\"line2d_7\">\r\n    <path clip-path=\"url(#p86627ce79e)\" style=\"fill:none;stroke:#424242;stroke-linecap:round;stroke-width:2.7;\"/>\r\n   </g>\r\n   <g id=\"patch_5\">\r\n    <path d=\"M 43.908438 224.64 \r\nL 43.908438 7.2 \r\n\" style=\"fill:none;stroke:#cccccc;stroke-linecap:square;stroke-linejoin:miter;stroke-width:1.25;\"/>\r\n   </g>\r\n   <g id=\"patch_6\">\r\n    <path d=\"M 378.708438 224.64 \r\nL 378.708438 7.2 \r\n\" style=\"fill:none;stroke:#cccccc;stroke-linecap:square;stroke-linejoin:miter;stroke-width:1.25;\"/>\r\n   </g>\r\n   <g id=\"patch_7\">\r\n    <path d=\"M 43.908438 224.64 \r\nL 378.708438 224.64 \r\n\" style=\"fill:none;stroke:#cccccc;stroke-linecap:square;stroke-linejoin:miter;stroke-width:1.25;\"/>\r\n   </g>\r\n   <g id=\"patch_8\">\r\n    <path d=\"M 43.908438 7.2 \r\nL 378.708438 7.2 \r\n\" style=\"fill:none;stroke:#cccccc;stroke-linecap:square;stroke-linejoin:miter;stroke-width:1.25;\"/>\r\n   </g>\r\n  </g>\r\n </g>\r\n <defs>\r\n  <clipPath id=\"p86627ce79e\">\r\n   <rect height=\"217.44\" width=\"334.8\" x=\"43.908438\" y=\"7.2\"/>\r\n  </clipPath>\r\n </defs>\r\n</svg>\r\n",
      "image/png": "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\n"
     },
     "metadata": {}
    },
    {
     "output_type": "stream",
     "name": "stdout",
     "text": [
      "              Percentual        Column\n",
      "Name                                  \n",
      "disabilities   78.866921  disabilities\n",
      "SA1            87.788669           SA1\n",
      "C:\\Users\\dttt1\\AppData\\Roaming\\Python\\Python38\\site-packages\\pandas\\core\\indexing.py:966: SettingWithCopyWarning: \n",
      "A value is trying to be set on a copy of a slice from a DataFrame.\n",
      "Try using .loc[row_indexer,col_indexer] = value instead\n",
      "\n",
      "See the caveats in the documentation: https://pandas.pydata.org/pandas-docs/stable/user_guide/indexing.html#returning-a-view-versus-a-copy\n",
      "  self.obj[item] = s\n"
     ]
    }
   ],
=======
   "execution_count": null,
   "metadata": {},
   "outputs": [],
>>>>>>> 8f720b2b4e9cec63e694a4d42aa154bd5f56dde0
   "source": [
    "# Check if there any NaN Field\n",
    "plotNaNValuesColums(df_members_supported)\n",
    "\n",
    "# Although amount of null values in the columns is high they are keeped in the dataSet\n",
<<<<<<< HEAD
    "#  And it is assigned 'Not Assigned' to the null values in u_disabilities and SA1\n",
    "df_members_supported.loc[df_members_supported['disabilities'].isnull(),['disabilities']] = \"Not Assigned\"\n",
    "df_members_supported.loc[df_members_supported['SA1'].isnull(),['SA1']] = \"Not Assigned\"\n",
=======
    "#  And it is assigned 'No Assigned' to the null values in u_disabilities and SA1\n",
    "df_members_supported.loc[df_members_supported['disabilities'].isnull(),['disabilities']] = \"No Assigned\"\n",
    "df_members_supported.loc[df_members_supported['SA1'].isnull(),['SA1']] = \"No Assigned\"\n",
>>>>>>> 8f720b2b4e9cec63e694a4d42aa154bd5f56dde0
    "\n",
    "df_members_cleased = df_members_supported"
   ]
  },
  {
   "source": [
    "### Plans and budgets dataset cleasing"
   ],
   "cell_type": "markdown",
   "metadata": {}
  },
  {
   "cell_type": "code",
<<<<<<< HEAD
   "execution_count": 7,
   "metadata": {},
   "outputs": [
    {
     "output_type": "stream",
     "name": "stdout",
     "text": [
      "<class 'pandas.core.frame.DataFrame'>\nRangeIndex: 69470 entries, 0 to 69469\nData columns (total 18 columns):\n #   Column                    Non-Null Count  Dtype  \n---  ------                    --------------  -----  \n 0   member_key                69470 non-null  object \n 1   plan_key                  69470 non-null  object \n 2   plan_start_date           69470 non-null  object \n 3   plan_start_date.1         69470 non-null  object \n 4   status                    69470 non-null  object \n 5   id_budget                 69470 non-null  int64  \n 6   budget_number             66164 non-null  object \n 7   opening_balance           19824 non-null  float64\n 8   closing_balance           19824 non-null  float64\n 9   level2_key                69470 non-null  object \n 10  level2_name               69470 non-null  object \n 11  level1_key                69470 non-null  object \n 12  level1_name               69470 non-null  object \n 13  item_category_level3_key  1213 non-null   object \n 14  budget_level3_name        1213 non-null   object \n 15  value_allocated_budget    69470 non-null  float64\n 16  value_remained_budget     69470 non-null  float64\n 17  status_budget             69470 non-null  object \ndtypes: float64(4), int64(1), object(13)\nmemory usage: 6.1+ MB\n"
     ]
    }
   ],
=======
   "execution_count": null,
   "metadata": {},
   "outputs": [],
>>>>>>> 8f720b2b4e9cec63e694a4d42aa154bd5f56dde0
   "source": [
    "# Check the dataSet fields\n",
    "df_plans_budgets_all_fields.info()"
   ]
  },
  {
   "cell_type": "code",
<<<<<<< HEAD
   "execution_count": 8,
   "metadata": {},
   "outputs": [
    {
     "output_type": "execute_result",
     "data": {
      "text/plain": [
       "                             member_key                              plan_key  \\\n",
       "0  ef0ab4c0-891b-11ea-a119-35e8388a5f49  29b86641-62d2-4eb2-9222-311b16ef74cc   \n",
       "1  6a535640-8b5c-11ea-9eec-315ed4b1385b  ea2cc969-6c3f-4dbc-9ebe-30df0c9f5b33   \n",
       "2  6a535640-8b5c-11ea-9eec-315ed4b1385b  ea2cc969-6c3f-4dbc-9ebe-30df0c9f5b33   \n",
       "3  472c17f0-9409-11ea-ba24-1f1ea52ce5bc  dd735ad0-05eb-42ce-91ba-36e1e032a67a   \n",
       "\n",
       "  plan_start_date plan_start_date.1                status  id_budget  \\\n",
       "0      2020-04-24        2021-04-23  PLAN_DELIVERY_ACTIVE          1   \n",
       "1      2020-04-20        2021-04-20  PLAN_DELIVERY_ACTIVE          2   \n",
       "2      2020-04-20        2021-04-20  PLAN_DELIVERY_ACTIVE          3   \n",
       "3      2019-09-11        2020-08-17             COMPLETED          4   \n",
       "\n",
       "  budget_number  opening_balance  closing_balance  \\\n",
       "0      55508918              NaN              NaN   \n",
       "1      55539563              NaN              NaN   \n",
       "2      55539563              NaN              NaN   \n",
       "3      55612635              NaN              NaN   \n",
       "\n",
       "                             level2_key                   level2_name  \\\n",
       "0  7d0af57b-f597-11e9-bfb4-022d4762bb3c  Improved daily living skills   \n",
       "1  7d0af57b-f597-11e9-bfb4-022d4762bb3c  Improved daily living skills   \n",
       "2  7d0af5b1-f597-11e9-bfb4-022d4762bb3c                   Consumables   \n",
       "3  7d0af57b-f597-11e9-bfb4-022d4762bb3c  Improved daily living skills   \n",
       "\n",
       "                             level1_key        level1_name  \\\n",
       "0  5874551b-f597-11e9-bfb4-022d4762bb3c  Capacity Building   \n",
       "1  5874551b-f597-11e9-bfb4-022d4762bb3c  Capacity Building   \n",
       "2  58745466-f597-11e9-bfb4-022d4762bb3c               Core   \n",
       "3  5874551b-f597-11e9-bfb4-022d4762bb3c  Capacity Building   \n",
       "\n",
       "  item_category_level3_key budget_level3_name  value_allocated_budget  \\\n",
       "0                      NaN                NaN                 8168.00   \n",
       "1                      NaN                NaN                 7682.04   \n",
       "2                      NaN                NaN                  300.00   \n",
       "3                      NaN                NaN                 6972.41   \n",
       "\n",
       "   value_remained_budget status_budget  \n",
       "0                8168.00     CONFIRMED  \n",
       "1                7682.04     CONFIRMED  \n",
       "2                 300.00     CONFIRMED  \n",
       "3                6972.41     CONFIRMED  "
      ],
      "text/html": "<div>\n<style scoped>\n    .dataframe tbody tr th:only-of-type {\n        vertical-align: middle;\n    }\n\n    .dataframe tbody tr th {\n        vertical-align: top;\n    }\n\n    .dataframe thead th {\n        text-align: right;\n    }\n</style>\n<table border=\"1\" class=\"dataframe\">\n  <thead>\n    <tr style=\"text-align: right;\">\n      <th></th>\n      <th>member_key</th>\n      <th>plan_key</th>\n      <th>plan_start_date</th>\n      <th>plan_start_date.1</th>\n      <th>status</th>\n      <th>id_budget</th>\n      <th>budget_number</th>\n      <th>opening_balance</th>\n      <th>closing_balance</th>\n      <th>level2_key</th>\n      <th>level2_name</th>\n      <th>level1_key</th>\n      <th>level1_name</th>\n      <th>item_category_level3_key</th>\n      <th>budget_level3_name</th>\n      <th>value_allocated_budget</th>\n      <th>value_remained_budget</th>\n      <th>status_budget</th>\n    </tr>\n  </thead>\n  <tbody>\n    <tr>\n      <th>0</th>\n      <td>ef0ab4c0-891b-11ea-a119-35e8388a5f49</td>\n      <td>29b86641-62d2-4eb2-9222-311b16ef74cc</td>\n      <td>2020-04-24</td>\n      <td>2021-04-23</td>\n      <td>PLAN_DELIVERY_ACTIVE</td>\n      <td>1</td>\n      <td>55508918</td>\n      <td>NaN</td>\n      <td>NaN</td>\n      <td>7d0af57b-f597-11e9-bfb4-022d4762bb3c</td>\n      <td>Improved daily living skills</td>\n      <td>5874551b-f597-11e9-bfb4-022d4762bb3c</td>\n      <td>Capacity Building</td>\n      <td>NaN</td>\n      <td>NaN</td>\n      <td>8168.00</td>\n      <td>8168.00</td>\n      <td>CONFIRMED</td>\n    </tr>\n    <tr>\n      <th>1</th>\n      <td>6a535640-8b5c-11ea-9eec-315ed4b1385b</td>\n      <td>ea2cc969-6c3f-4dbc-9ebe-30df0c9f5b33</td>\n      <td>2020-04-20</td>\n      <td>2021-04-20</td>\n      <td>PLAN_DELIVERY_ACTIVE</td>\n      <td>2</td>\n      <td>55539563</td>\n      <td>NaN</td>\n      <td>NaN</td>\n      <td>7d0af57b-f597-11e9-bfb4-022d4762bb3c</td>\n      <td>Improved daily living skills</td>\n      <td>5874551b-f597-11e9-bfb4-022d4762bb3c</td>\n      <td>Capacity Building</td>\n      <td>NaN</td>\n      <td>NaN</td>\n      <td>7682.04</td>\n      <td>7682.04</td>\n      <td>CONFIRMED</td>\n    </tr>\n    <tr>\n      <th>2</th>\n      <td>6a535640-8b5c-11ea-9eec-315ed4b1385b</td>\n      <td>ea2cc969-6c3f-4dbc-9ebe-30df0c9f5b33</td>\n      <td>2020-04-20</td>\n      <td>2021-04-20</td>\n      <td>PLAN_DELIVERY_ACTIVE</td>\n      <td>3</td>\n      <td>55539563</td>\n      <td>NaN</td>\n      <td>NaN</td>\n      <td>7d0af5b1-f597-11e9-bfb4-022d4762bb3c</td>\n      <td>Consumables</td>\n      <td>58745466-f597-11e9-bfb4-022d4762bb3c</td>\n      <td>Core</td>\n      <td>NaN</td>\n      <td>NaN</td>\n      <td>300.00</td>\n      <td>300.00</td>\n      <td>CONFIRMED</td>\n    </tr>\n    <tr>\n      <th>3</th>\n      <td>472c17f0-9409-11ea-ba24-1f1ea52ce5bc</td>\n      <td>dd735ad0-05eb-42ce-91ba-36e1e032a67a</td>\n      <td>2019-09-11</td>\n      <td>2020-08-17</td>\n      <td>COMPLETED</td>\n      <td>4</td>\n      <td>55612635</td>\n      <td>NaN</td>\n      <td>NaN</td>\n      <td>7d0af57b-f597-11e9-bfb4-022d4762bb3c</td>\n      <td>Improved daily living skills</td>\n      <td>5874551b-f597-11e9-bfb4-022d4762bb3c</td>\n      <td>Capacity Building</td>\n      <td>NaN</td>\n      <td>NaN</td>\n      <td>6972.41</td>\n      <td>6972.41</td>\n      <td>CONFIRMED</td>\n    </tr>\n  </tbody>\n</table>\n</div>"
     },
     "metadata": {},
     "execution_count": 8
    }
   ],
=======
   "execution_count": null,
   "metadata": {},
   "outputs": [],
>>>>>>> 8f720b2b4e9cec63e694a4d42aa154bd5f56dde0
   "source": [
    "df_plans_budgets_all_fields.head(4)"
   ]
  },
  {
   "cell_type": "code",
<<<<<<< HEAD
   "execution_count": 9,
   "metadata": {},
   "outputs": [
    {
     "output_type": "stream",
     "name": "stderr",
     "text": [
      "C:\\Users\\dttt1\\AppData\\Roaming\\Python\\Python38\\site-packages\\pandas\\core\\frame.py:4125: SettingWithCopyWarning: \nA value is trying to be set on a copy of a slice from a DataFrame\n\nSee the caveats in the documentation: https://pandas.pydata.org/pandas-docs/stable/user_guide/indexing.html#returning-a-view-versus-a-copy\n  return super().rename(\n"
     ]
    }
   ],
=======
   "execution_count": null,
   "metadata": {},
   "outputs": [],
>>>>>>> 8f720b2b4e9cec63e694a4d42aa154bd5f56dde0
   "source": [
    "# Select just the fields to be used\n",
    "df_plans_budgets = df_plans_budgets_all_fields[{\"member_key\"\n",
    "                                              , \"plan_key\"\n",
    "                                              , \"plan_start_date\" \n",
    "                                              , \"plan_start_date.1\"\n",
    "                                              , \"status\"\n",
<<<<<<< HEAD
    "                                              , \"budget_number\"                                              \n",
=======
    "                                              , \"budget_number\"\n",
>>>>>>> 8f720b2b4e9cec63e694a4d42aa154bd5f56dde0
    "                                              , \"level2_key\"\n",
    "                                              , \"level2_name\"\n",
    "                                              , \"level1_key\"\n",
    "                                              , \"level1_name\"\n",
    "                                              , \"item_category_level3_key\"\n",
<<<<<<< HEAD
    "                                              , \"budget_level3_name\"\n",
=======
    "                                              , \"name_stated_item\"\n",
>>>>>>> 8f720b2b4e9cec63e694a4d42aa154bd5f56dde0
    "                                              , \"opening_balance\"\n",
    "                                              , \"closing_balance\"\n",
    "                                              , \"value_allocated_budget\"\n",
    "                                              , \"status_budget\"\n",
    "                                              }]\n",
    "\n",
    "\n",
    "# Rename some dataSet colums to create a name's pattern\n",
    "df_plans_budgets.rename(columns={'plan_start_date.1':'plan_end_date'\n",
    "                               , 'status':'plan_status'                               \n",
    "                               , 'status_budget':'budget_status'\n",
    "                               , 'value_allocated_budget':'budget_value_allocated'\n",
    "                               , 'level2_key':'budget_level2_key'\n",
    "                               , 'level2_name':'budget_level2_name'\n",
    "                               , 'level2_display_name':'budget_level2_display_name'\n",
    "                               , 'level1_key':'budget_level1_key'\n",
    "                               , 'level1_name':'budget_level1_name'\n",
    "                               , 'item_category_level3_key':'budget_level3_key'\n",
<<<<<<< HEAD
    "                               , 'level3_reference_number':'budget_level3_reference_number'                               \n",
=======
    "                               , 'level3_reference_number':'budget_level3_reference_number'\n",
    "                               , 'name_stated_item':'budget_level3_name'                               \n",
>>>>>>> 8f720b2b4e9cec63e694a4d42aa154bd5f56dde0
    "                                } , inplace = True)                            "
   ]
  },
  {
   "cell_type": "code",
<<<<<<< HEAD
   "execution_count": 10,
   "metadata": {},
   "outputs": [
    {
     "output_type": "execute_result",
     "data": {
      "text/plain": [
       "array(['CONFIRMED', 'UNCONFIRMED'], dtype=object)"
      ]
     },
     "metadata": {},
     "execution_count": 10
    }
   ],
=======
   "execution_count": null,
   "metadata": {},
   "outputs": [],
>>>>>>> 8f720b2b4e9cec63e694a4d42aa154bd5f56dde0
   "source": [
    "# Check the Budget's status in the dataSet\n",
    "np.unique(df_plans_budgets['budget_status'])"
   ]
  },
  {
   "cell_type": "code",
<<<<<<< HEAD
   "execution_count": 11,
   "metadata": {},
   "outputs": [
    {
     "output_type": "display_data",
     "data": {
      "text/plain": "<Figure size 432x288 with 1 Axes>",
      "image/svg+xml": "<?xml version=\"1.0\" encoding=\"utf-8\" standalone=\"no\"?>\r\n<!DOCTYPE svg PUBLIC \"-//W3C//DTD SVG 1.1//EN\"\r\n  \"http://www.w3.org/Graphics/SVG/1.1/DTD/svg11.dtd\">\r\n<!-- Created with matplotlib (https://matplotlib.org/) -->\r\n<svg height=\"358.4425pt\" version=\"1.1\" viewBox=\"0 0 392.025469 358.4425\" width=\"392.025469pt\" xmlns=\"http://www.w3.org/2000/svg\" xmlns:xlink=\"http://www.w3.org/1999/xlink\">\r\n <defs>\r\n  <style type=\"text/css\">\r\n*{stroke-linecap:butt;stroke-linejoin:round;}\r\n  </style>\r\n </defs>\r\n <g id=\"figure_1\">\r\n  <g id=\"patch_1\">\r\n   <path d=\"M 0 358.4425 \r\nL 392.025469 358.4425 \r\nL 392.025469 0 \r\nL 0 0 \r\nz\r\n\" style=\"fill:#ffffff;\"/>\r\n  </g>\r\n  <g id=\"axes_1\">\r\n   <g id=\"patch_2\">\r\n    <path d=\"M 50.025469 224.64 \r\nL 384.825469 224.64 \r\nL 384.825469 7.2 \r\nL 50.025469 7.2 \r\nz\r\n\" style=\"fill:#ffffff;\"/>\r\n   </g>\r\n   <g id=\"matplotlib.axis_1\">\r\n    <g id=\"xtick_1\">\r\n     <g id=\"text_1\">\r\n      <!-- budget_number -->\r\n      <defs>\r\n       <path d=\"M 14.703125 0 \r\nL 6.546875 0 \r\nL 6.546875 71.578125 \r\nL 15.328125 71.578125 \r\nL 15.328125 46.046875 \r\nQ 20.90625 53.03125 29.546875 53.03125 \r\nQ 34.328125 53.03125 38.59375 51.09375 \r\nQ 42.875 49.171875 45.625 45.671875 \r\nQ 48.390625 42.1875 49.953125 37.25 \r\nQ 51.515625 32.328125 51.515625 26.703125 \r\nQ 51.515625 13.375 44.921875 6.09375 \r\nQ 38.328125 -1.171875 29.109375 -1.171875 \r\nQ 19.921875 -1.171875 14.703125 6.5 \r\nz\r\nM 14.59375 26.3125 \r\nQ 14.59375 17 17.140625 12.84375 \r\nQ 21.296875 6.0625 28.375 6.0625 \r\nQ 34.125 6.0625 38.328125 11.0625 \r\nQ 42.53125 16.0625 42.53125 25.984375 \r\nQ 42.53125 36.140625 38.5 40.96875 \r\nQ 34.46875 45.796875 28.765625 45.796875 \r\nQ 23 45.796875 18.796875 40.796875 \r\nQ 14.59375 35.796875 14.59375 26.3125 \r\nz\r\n\" id=\"ArialMT-98\"/>\r\n       <path d=\"M 40.578125 0 \r\nL 40.578125 7.625 \r\nQ 34.515625 -1.171875 24.125 -1.171875 \r\nQ 19.53125 -1.171875 15.546875 0.578125 \r\nQ 11.578125 2.34375 9.640625 5 \r\nQ 7.71875 7.671875 6.9375 11.53125 \r\nQ 6.390625 14.109375 6.390625 19.734375 \r\nL 6.390625 51.859375 \r\nL 15.1875 51.859375 \r\nL 15.1875 23.09375 \r\nQ 15.1875 16.21875 15.71875 13.8125 \r\nQ 16.546875 10.359375 19.234375 8.375 \r\nQ 21.921875 6.390625 25.875 6.390625 \r\nQ 29.828125 6.390625 33.296875 8.421875 \r\nQ 36.765625 10.453125 38.203125 13.9375 \r\nQ 39.65625 17.4375 39.65625 24.078125 \r\nL 39.65625 51.859375 \r\nL 48.4375 51.859375 \r\nL 48.4375 0 \r\nz\r\n\" id=\"ArialMT-117\"/>\r\n       <path d=\"M 40.234375 0 \r\nL 40.234375 6.546875 \r\nQ 35.296875 -1.171875 25.734375 -1.171875 \r\nQ 19.53125 -1.171875 14.328125 2.25 \r\nQ 9.125 5.671875 6.265625 11.796875 \r\nQ 3.421875 17.921875 3.421875 25.875 \r\nQ 3.421875 33.640625 6 39.96875 \r\nQ 8.59375 46.296875 13.765625 49.65625 \r\nQ 18.953125 53.03125 25.34375 53.03125 \r\nQ 30.03125 53.03125 33.6875 51.046875 \r\nQ 37.359375 49.078125 39.65625 45.90625 \r\nL 39.65625 71.578125 \r\nL 48.390625 71.578125 \r\nL 48.390625 0 \r\nz\r\nM 12.453125 25.875 \r\nQ 12.453125 15.921875 16.640625 10.984375 \r\nQ 20.84375 6.0625 26.5625 6.0625 \r\nQ 32.328125 6.0625 36.34375 10.765625 \r\nQ 40.375 15.484375 40.375 25.140625 \r\nQ 40.375 35.796875 36.265625 40.765625 \r\nQ 32.171875 45.75 26.171875 45.75 \r\nQ 20.3125 45.75 16.375 40.96875 \r\nQ 12.453125 36.1875 12.453125 25.875 \r\nz\r\n\" id=\"ArialMT-100\"/>\r\n       <path d=\"M 4.984375 -4.296875 \r\nL 13.53125 -5.5625 \r\nQ 14.0625 -9.515625 16.5 -11.328125 \r\nQ 19.78125 -13.765625 25.4375 -13.765625 \r\nQ 31.546875 -13.765625 34.859375 -11.328125 \r\nQ 38.1875 -8.890625 39.359375 -4.5 \r\nQ 40.046875 -1.8125 39.984375 6.78125 \r\nQ 34.234375 0 25.640625 0 \r\nQ 14.9375 0 9.078125 7.71875 \r\nQ 3.21875 15.4375 3.21875 26.21875 \r\nQ 3.21875 33.640625 5.90625 39.90625 \r\nQ 8.59375 46.1875 13.6875 49.609375 \r\nQ 18.796875 53.03125 25.6875 53.03125 \r\nQ 34.859375 53.03125 40.828125 45.609375 \r\nL 40.828125 51.859375 \r\nL 48.921875 51.859375 \r\nL 48.921875 7.03125 \r\nQ 48.921875 -5.078125 46.453125 -10.125 \r\nQ 44 -15.1875 38.640625 -18.109375 \r\nQ 33.296875 -21.046875 25.484375 -21.046875 \r\nQ 16.21875 -21.046875 10.5 -16.875 \r\nQ 4.78125 -12.703125 4.984375 -4.296875 \r\nz\r\nM 12.25 26.859375 \r\nQ 12.25 16.65625 16.296875 11.96875 \r\nQ 20.359375 7.28125 26.46875 7.28125 \r\nQ 32.515625 7.28125 36.609375 11.9375 \r\nQ 40.71875 16.609375 40.71875 26.5625 \r\nQ 40.71875 36.078125 36.5 40.90625 \r\nQ 32.28125 45.75 26.3125 45.75 \r\nQ 20.453125 45.75 16.34375 40.984375 \r\nQ 12.25 36.234375 12.25 26.859375 \r\nz\r\n\" id=\"ArialMT-103\"/>\r\n       <path d=\"M 42.09375 16.703125 \r\nL 51.171875 15.578125 \r\nQ 49.03125 7.625 43.21875 3.21875 \r\nQ 37.40625 -1.171875 28.375 -1.171875 \r\nQ 17 -1.171875 10.328125 5.828125 \r\nQ 3.65625 12.84375 3.65625 25.484375 \r\nQ 3.65625 38.578125 10.390625 45.796875 \r\nQ 17.140625 53.03125 27.875 53.03125 \r\nQ 38.28125 53.03125 44.875 45.953125 \r\nQ 51.46875 38.875 51.46875 26.03125 \r\nQ 51.46875 25.25 51.421875 23.6875 \r\nL 12.75 23.6875 \r\nQ 13.234375 15.140625 17.578125 10.59375 \r\nQ 21.921875 6.0625 28.421875 6.0625 \r\nQ 33.25 6.0625 36.671875 8.59375 \r\nQ 40.09375 11.140625 42.09375 16.703125 \r\nz\r\nM 13.234375 30.90625 \r\nL 42.1875 30.90625 \r\nQ 41.609375 37.453125 38.875 40.71875 \r\nQ 34.671875 45.796875 27.984375 45.796875 \r\nQ 21.921875 45.796875 17.796875 41.75 \r\nQ 13.671875 37.703125 13.234375 30.90625 \r\nz\r\n\" id=\"ArialMT-101\"/>\r\n       <path d=\"M 25.78125 7.859375 \r\nL 27.046875 0.09375 \r\nQ 23.34375 -0.6875 20.40625 -0.6875 \r\nQ 15.625 -0.6875 12.984375 0.828125 \r\nQ 10.359375 2.34375 9.28125 4.8125 \r\nQ 8.203125 7.28125 8.203125 15.1875 \r\nL 8.203125 45.015625 \r\nL 1.765625 45.015625 \r\nL 1.765625 51.859375 \r\nL 8.203125 51.859375 \r\nL 8.203125 64.703125 \r\nL 16.9375 69.96875 \r\nL 16.9375 51.859375 \r\nL 25.78125 51.859375 \r\nL 25.78125 45.015625 \r\nL 16.9375 45.015625 \r\nL 16.9375 14.703125 \r\nQ 16.9375 10.9375 17.40625 9.859375 \r\nQ 17.875 8.796875 18.921875 8.15625 \r\nQ 19.96875 7.515625 21.921875 7.515625 \r\nQ 23.390625 7.515625 25.78125 7.859375 \r\nz\r\n\" id=\"ArialMT-116\"/>\r\n       <path d=\"M -1.515625 -19.875 \r\nL -1.515625 -13.53125 \r\nL 56.734375 -13.53125 \r\nL 56.734375 -19.875 \r\nz\r\n\" id=\"ArialMT-95\"/>\r\n       <path d=\"M 6.59375 0 \r\nL 6.59375 51.859375 \r\nL 14.5 51.859375 \r\nL 14.5 44.484375 \r\nQ 20.21875 53.03125 31 53.03125 \r\nQ 35.6875 53.03125 39.625 51.34375 \r\nQ 43.5625 49.65625 45.515625 46.921875 \r\nQ 47.46875 44.1875 48.25 40.4375 \r\nQ 48.734375 37.984375 48.734375 31.890625 \r\nL 48.734375 0 \r\nL 39.9375 0 \r\nL 39.9375 31.546875 \r\nQ 39.9375 36.921875 38.90625 39.578125 \r\nQ 37.890625 42.234375 35.28125 43.8125 \r\nQ 32.671875 45.40625 29.15625 45.40625 \r\nQ 23.53125 45.40625 19.453125 41.84375 \r\nQ 15.375 38.28125 15.375 28.328125 \r\nL 15.375 0 \r\nz\r\n\" id=\"ArialMT-110\"/>\r\n       <path d=\"M 6.59375 0 \r\nL 6.59375 51.859375 \r\nL 14.453125 51.859375 \r\nL 14.453125 44.578125 \r\nQ 16.890625 48.390625 20.9375 50.703125 \r\nQ 25 53.03125 30.171875 53.03125 \r\nQ 35.9375 53.03125 39.625 50.640625 \r\nQ 43.3125 48.25 44.828125 43.953125 \r\nQ 50.984375 53.03125 60.84375 53.03125 \r\nQ 68.5625 53.03125 72.703125 48.75 \r\nQ 76.859375 44.484375 76.859375 35.59375 \r\nL 76.859375 0 \r\nL 68.109375 0 \r\nL 68.109375 32.671875 \r\nQ 68.109375 37.9375 67.25 40.25 \r\nQ 66.40625 42.578125 64.15625 43.984375 \r\nQ 61.921875 45.40625 58.890625 45.40625 \r\nQ 53.421875 45.40625 49.796875 41.765625 \r\nQ 46.1875 38.140625 46.1875 30.125 \r\nL 46.1875 0 \r\nL 37.40625 0 \r\nL 37.40625 33.6875 \r\nQ 37.40625 39.546875 35.25 42.46875 \r\nQ 33.109375 45.40625 28.21875 45.40625 \r\nQ 24.515625 45.40625 21.359375 43.453125 \r\nQ 18.21875 41.5 16.796875 37.734375 \r\nQ 15.375 33.984375 15.375 26.90625 \r\nL 15.375 0 \r\nz\r\n\" id=\"ArialMT-109\"/>\r\n       <path d=\"M 6.5 0 \r\nL 6.5 51.859375 \r\nL 14.40625 51.859375 \r\nL 14.40625 44 \r\nQ 17.4375 49.515625 20 51.265625 \r\nQ 22.5625 53.03125 25.640625 53.03125 \r\nQ 30.078125 53.03125 34.671875 50.203125 \r\nL 31.640625 42.046875 \r\nQ 28.421875 43.953125 25.203125 43.953125 \r\nQ 22.3125 43.953125 20.015625 42.21875 \r\nQ 17.71875 40.484375 16.75 37.40625 \r\nQ 15.28125 32.71875 15.28125 27.15625 \r\nL 15.28125 0 \r\nz\r\n\" id=\"ArialMT-114\"/>\r\n      </defs>\r\n      <g style=\"fill:#262626;\" transform=\"translate(86.284688 311.191562)rotate(-90)scale(0.11 -0.11)\">\r\n       <use xlink:href=\"#ArialMT-98\"/>\r\n       <use x=\"55.615234\" xlink:href=\"#ArialMT-117\"/>\r\n       <use x=\"111.230469\" xlink:href=\"#ArialMT-100\"/>\r\n       <use x=\"166.845703\" xlink:href=\"#ArialMT-103\"/>\r\n       <use x=\"222.460938\" xlink:href=\"#ArialMT-101\"/>\r\n       <use x=\"278.076172\" xlink:href=\"#ArialMT-116\"/>\r\n       <use x=\"305.859375\" xlink:href=\"#ArialMT-95\"/>\r\n       <use x=\"361.474609\" xlink:href=\"#ArialMT-110\"/>\r\n       <use x=\"417.089844\" xlink:href=\"#ArialMT-117\"/>\r\n       <use x=\"472.705078\" xlink:href=\"#ArialMT-109\"/>\r\n       <use x=\"556.005859\" xlink:href=\"#ArialMT-98\"/>\r\n       <use x=\"611.621094\" xlink:href=\"#ArialMT-101\"/>\r\n       <use x=\"667.236328\" xlink:href=\"#ArialMT-114\"/>\r\n      </g>\r\n     </g>\r\n    </g>\r\n    <g id=\"xtick_2\">\r\n     <g id=\"text_2\">\r\n      <!-- opening_balance -->\r\n      <defs>\r\n       <path d=\"M 3.328125 25.921875 \r\nQ 3.328125 40.328125 11.328125 47.265625 \r\nQ 18.015625 53.03125 27.640625 53.03125 \r\nQ 38.328125 53.03125 45.109375 46.015625 \r\nQ 51.90625 39.015625 51.90625 26.65625 \r\nQ 51.90625 16.65625 48.90625 10.90625 \r\nQ 45.90625 5.171875 40.15625 2 \r\nQ 34.421875 -1.171875 27.640625 -1.171875 \r\nQ 16.75 -1.171875 10.03125 5.8125 \r\nQ 3.328125 12.796875 3.328125 25.921875 \r\nz\r\nM 12.359375 25.921875 \r\nQ 12.359375 15.96875 16.703125 11.015625 \r\nQ 21.046875 6.0625 27.640625 6.0625 \r\nQ 34.1875 6.0625 38.53125 11.03125 \r\nQ 42.875 16.015625 42.875 26.21875 \r\nQ 42.875 35.84375 38.5 40.796875 \r\nQ 34.125 45.75 27.640625 45.75 \r\nQ 21.046875 45.75 16.703125 40.8125 \r\nQ 12.359375 35.890625 12.359375 25.921875 \r\nz\r\n\" id=\"ArialMT-111\"/>\r\n       <path d=\"M 6.59375 -19.875 \r\nL 6.59375 51.859375 \r\nL 14.59375 51.859375 \r\nL 14.59375 45.125 \r\nQ 17.4375 49.078125 21 51.046875 \r\nQ 24.5625 53.03125 29.640625 53.03125 \r\nQ 36.28125 53.03125 41.359375 49.609375 \r\nQ 46.4375 46.1875 49.015625 39.953125 \r\nQ 51.609375 33.734375 51.609375 26.3125 \r\nQ 51.609375 18.359375 48.75 11.984375 \r\nQ 45.90625 5.609375 40.453125 2.21875 \r\nQ 35.015625 -1.171875 29 -1.171875 \r\nQ 24.609375 -1.171875 21.109375 0.6875 \r\nQ 17.625 2.546875 15.375 5.375 \r\nL 15.375 -19.875 \r\nz\r\nM 14.546875 25.640625 \r\nQ 14.546875 15.625 18.59375 10.84375 \r\nQ 22.65625 6.0625 28.421875 6.0625 \r\nQ 34.28125 6.0625 38.453125 11.015625 \r\nQ 42.625 15.96875 42.625 26.375 \r\nQ 42.625 36.28125 38.546875 41.203125 \r\nQ 34.46875 46.140625 28.8125 46.140625 \r\nQ 23.1875 46.140625 18.859375 40.890625 \r\nQ 14.546875 35.640625 14.546875 25.640625 \r\nz\r\n\" id=\"ArialMT-112\"/>\r\n       <path d=\"M 6.640625 61.46875 \r\nL 6.640625 71.578125 \r\nL 15.4375 71.578125 \r\nL 15.4375 61.46875 \r\nz\r\nM 6.640625 0 \r\nL 6.640625 51.859375 \r\nL 15.4375 51.859375 \r\nL 15.4375 0 \r\nz\r\n\" id=\"ArialMT-105\"/>\r\n       <path d=\"M 40.4375 6.390625 \r\nQ 35.546875 2.25 31.03125 0.53125 \r\nQ 26.515625 -1.171875 21.34375 -1.171875 \r\nQ 12.796875 -1.171875 8.203125 3 \r\nQ 3.609375 7.171875 3.609375 13.671875 \r\nQ 3.609375 17.484375 5.34375 20.625 \r\nQ 7.078125 23.78125 9.890625 25.6875 \r\nQ 12.703125 27.59375 16.21875 28.5625 \r\nQ 18.796875 29.25 24.03125 29.890625 \r\nQ 34.671875 31.15625 39.703125 32.90625 \r\nQ 39.75 34.71875 39.75 35.203125 \r\nQ 39.75 40.578125 37.25 42.78125 \r\nQ 33.890625 45.75 27.25 45.75 \r\nQ 21.046875 45.75 18.09375 43.578125 \r\nQ 15.140625 41.40625 13.71875 35.890625 \r\nL 5.125 37.0625 \r\nQ 6.296875 42.578125 8.984375 45.96875 \r\nQ 11.671875 49.359375 16.75 51.1875 \r\nQ 21.828125 53.03125 28.515625 53.03125 \r\nQ 35.15625 53.03125 39.296875 51.46875 \r\nQ 43.453125 49.90625 45.40625 47.53125 \r\nQ 47.359375 45.171875 48.140625 41.546875 \r\nQ 48.578125 39.3125 48.578125 33.453125 \r\nL 48.578125 21.734375 \r\nQ 48.578125 9.46875 49.140625 6.21875 \r\nQ 49.703125 2.984375 51.375 0 \r\nL 42.1875 0 \r\nQ 40.828125 2.734375 40.4375 6.390625 \r\nz\r\nM 39.703125 26.03125 \r\nQ 34.90625 24.078125 25.34375 22.703125 \r\nQ 19.921875 21.921875 17.671875 20.9375 \r\nQ 15.4375 19.96875 14.203125 18.09375 \r\nQ 12.984375 16.21875 12.984375 13.921875 \r\nQ 12.984375 10.40625 15.640625 8.0625 \r\nQ 18.3125 5.71875 23.4375 5.71875 \r\nQ 28.515625 5.71875 32.46875 7.9375 \r\nQ 36.421875 10.15625 38.28125 14.015625 \r\nQ 39.703125 17 39.703125 22.796875 \r\nz\r\n\" id=\"ArialMT-97\"/>\r\n       <path d=\"M 6.390625 0 \r\nL 6.390625 71.578125 \r\nL 15.1875 71.578125 \r\nL 15.1875 0 \r\nz\r\n\" id=\"ArialMT-108\"/>\r\n       <path d=\"M 40.4375 19 \r\nL 49.078125 17.875 \r\nQ 47.65625 8.9375 41.8125 3.875 \r\nQ 35.984375 -1.171875 27.484375 -1.171875 \r\nQ 16.84375 -1.171875 10.375 5.78125 \r\nQ 3.90625 12.75 3.90625 25.734375 \r\nQ 3.90625 34.125 6.6875 40.421875 \r\nQ 9.46875 46.734375 15.15625 49.875 \r\nQ 20.84375 53.03125 27.546875 53.03125 \r\nQ 35.984375 53.03125 41.359375 48.75 \r\nQ 46.734375 44.484375 48.25 36.625 \r\nL 39.703125 35.296875 \r\nQ 38.484375 40.53125 35.375 43.15625 \r\nQ 32.28125 45.796875 27.875 45.796875 \r\nQ 21.234375 45.796875 17.078125 41.03125 \r\nQ 12.9375 36.28125 12.9375 25.984375 \r\nQ 12.9375 15.53125 16.9375 10.796875 \r\nQ 20.953125 6.0625 27.390625 6.0625 \r\nQ 32.5625 6.0625 36.03125 9.234375 \r\nQ 39.5 12.40625 40.4375 19 \r\nz\r\n\" id=\"ArialMT-99\"/>\r\n      </defs>\r\n      <g style=\"fill:#262626;\" transform=\"translate(153.244687 317.9325)rotate(-90)scale(0.11 -0.11)\">\r\n       <use xlink:href=\"#ArialMT-111\"/>\r\n       <use x=\"55.615234\" xlink:href=\"#ArialMT-112\"/>\r\n       <use x=\"111.230469\" xlink:href=\"#ArialMT-101\"/>\r\n       <use x=\"166.845703\" xlink:href=\"#ArialMT-110\"/>\r\n       <use x=\"222.460938\" xlink:href=\"#ArialMT-105\"/>\r\n       <use x=\"244.677734\" xlink:href=\"#ArialMT-110\"/>\r\n       <use x=\"300.292969\" xlink:href=\"#ArialMT-103\"/>\r\n       <use x=\"355.908203\" xlink:href=\"#ArialMT-95\"/>\r\n       <use x=\"411.523438\" xlink:href=\"#ArialMT-98\"/>\r\n       <use x=\"467.138672\" xlink:href=\"#ArialMT-97\"/>\r\n       <use x=\"522.753906\" xlink:href=\"#ArialMT-108\"/>\r\n       <use x=\"544.970703\" xlink:href=\"#ArialMT-97\"/>\r\n       <use x=\"600.585938\" xlink:href=\"#ArialMT-110\"/>\r\n       <use x=\"656.201172\" xlink:href=\"#ArialMT-99\"/>\r\n       <use x=\"706.201172\" xlink:href=\"#ArialMT-101\"/>\r\n      </g>\r\n     </g>\r\n    </g>\r\n    <g id=\"xtick_3\">\r\n     <g id=\"text_3\">\r\n      <!-- closing_balance -->\r\n      <defs>\r\n       <path d=\"M 3.078125 15.484375 \r\nL 11.765625 16.84375 \r\nQ 12.5 11.625 15.84375 8.84375 \r\nQ 19.1875 6.0625 25.203125 6.0625 \r\nQ 31.25 6.0625 34.171875 8.515625 \r\nQ 37.109375 10.984375 37.109375 14.3125 \r\nQ 37.109375 17.28125 34.515625 19 \r\nQ 32.71875 20.171875 25.53125 21.96875 \r\nQ 15.875 24.421875 12.140625 26.203125 \r\nQ 8.40625 27.984375 6.46875 31.125 \r\nQ 4.546875 34.28125 4.546875 38.09375 \r\nQ 4.546875 41.546875 6.125 44.5 \r\nQ 7.71875 47.46875 10.453125 49.421875 \r\nQ 12.5 50.921875 16.03125 51.96875 \r\nQ 19.578125 53.03125 23.640625 53.03125 \r\nQ 29.734375 53.03125 34.34375 51.265625 \r\nQ 38.96875 49.515625 41.15625 46.5 \r\nQ 43.359375 43.5 44.1875 38.484375 \r\nL 35.59375 37.3125 \r\nQ 35.015625 41.3125 32.203125 43.546875 \r\nQ 29.390625 45.796875 24.265625 45.796875 \r\nQ 18.21875 45.796875 15.625 43.796875 \r\nQ 13.03125 41.796875 13.03125 39.109375 \r\nQ 13.03125 37.40625 14.109375 36.03125 \r\nQ 15.1875 34.625 17.484375 33.6875 \r\nQ 18.796875 33.203125 25.25 31.453125 \r\nQ 34.578125 28.953125 38.25 27.359375 \r\nQ 41.9375 25.78125 44.03125 22.75 \r\nQ 46.140625 19.734375 46.140625 15.234375 \r\nQ 46.140625 10.84375 43.578125 6.953125 \r\nQ 41.015625 3.078125 36.171875 0.953125 \r\nQ 31.34375 -1.171875 25.25 -1.171875 \r\nQ 15.140625 -1.171875 9.84375 3.03125 \r\nQ 4.546875 7.234375 3.078125 15.484375 \r\nz\r\n\" id=\"ArialMT-115\"/>\r\n      </defs>\r\n      <g style=\"fill:#262626;\" transform=\"translate(220.204688 313.025469)rotate(-90)scale(0.11 -0.11)\">\r\n       <use xlink:href=\"#ArialMT-99\"/>\r\n       <use x=\"50\" xlink:href=\"#ArialMT-108\"/>\r\n       <use x=\"72.216797\" xlink:href=\"#ArialMT-111\"/>\r\n       <use x=\"127.832031\" xlink:href=\"#ArialMT-115\"/>\r\n       <use x=\"177.832031\" xlink:href=\"#ArialMT-105\"/>\r\n       <use x=\"200.048828\" xlink:href=\"#ArialMT-110\"/>\r\n       <use x=\"255.664062\" xlink:href=\"#ArialMT-103\"/>\r\n       <use x=\"311.279297\" xlink:href=\"#ArialMT-95\"/>\r\n       <use x=\"366.894531\" xlink:href=\"#ArialMT-98\"/>\r\n       <use x=\"422.509766\" xlink:href=\"#ArialMT-97\"/>\r\n       <use x=\"478.125\" xlink:href=\"#ArialMT-108\"/>\r\n       <use x=\"500.341797\" xlink:href=\"#ArialMT-97\"/>\r\n       <use x=\"555.957031\" xlink:href=\"#ArialMT-110\"/>\r\n       <use x=\"611.572266\" xlink:href=\"#ArialMT-99\"/>\r\n       <use x=\"661.572266\" xlink:href=\"#ArialMT-101\"/>\r\n      </g>\r\n     </g>\r\n    </g>\r\n    <g id=\"xtick_4\">\r\n     <g id=\"text_4\">\r\n      <!-- budget_level3_key -->\r\n      <defs>\r\n       <path d=\"M 21 0 \r\nL 1.265625 51.859375 \r\nL 10.546875 51.859375 \r\nL 21.6875 20.796875 \r\nQ 23.484375 15.765625 25 10.359375 \r\nQ 26.171875 14.453125 28.265625 20.21875 \r\nL 39.796875 51.859375 \r\nL 48.828125 51.859375 \r\nL 29.203125 0 \r\nz\r\n\" id=\"ArialMT-118\"/>\r\n       <path d=\"M 4.203125 18.890625 \r\nL 12.984375 20.0625 \r\nQ 14.5 12.59375 18.140625 9.296875 \r\nQ 21.78125 6 27 6 \r\nQ 33.203125 6 37.46875 10.296875 \r\nQ 41.75 14.59375 41.75 20.953125 \r\nQ 41.75 27 37.796875 30.921875 \r\nQ 33.84375 34.859375 27.734375 34.859375 \r\nQ 25.25 34.859375 21.53125 33.890625 \r\nL 22.515625 41.609375 \r\nQ 23.390625 41.5 23.921875 41.5 \r\nQ 29.546875 41.5 34.03125 44.421875 \r\nQ 38.53125 47.359375 38.53125 53.46875 \r\nQ 38.53125 58.296875 35.25 61.46875 \r\nQ 31.984375 64.65625 26.8125 64.65625 \r\nQ 21.6875 64.65625 18.265625 61.421875 \r\nQ 14.84375 58.203125 13.875 51.765625 \r\nL 5.078125 53.328125 \r\nQ 6.6875 62.15625 12.390625 67.015625 \r\nQ 18.109375 71.875 26.609375 71.875 \r\nQ 32.46875 71.875 37.390625 69.359375 \r\nQ 42.328125 66.84375 44.9375 62.5 \r\nQ 47.5625 58.15625 47.5625 53.265625 \r\nQ 47.5625 48.640625 45.0625 44.828125 \r\nQ 42.578125 41.015625 37.703125 38.765625 \r\nQ 44.046875 37.3125 47.5625 32.6875 \r\nQ 51.078125 28.078125 51.078125 21.140625 \r\nQ 51.078125 11.765625 44.234375 5.25 \r\nQ 37.40625 -1.265625 26.953125 -1.265625 \r\nQ 17.53125 -1.265625 11.296875 4.34375 \r\nQ 5.078125 9.96875 4.203125 18.890625 \r\nz\r\n\" id=\"ArialMT-51\"/>\r\n       <path d=\"M 6.640625 0 \r\nL 6.640625 71.578125 \r\nL 15.4375 71.578125 \r\nL 15.4375 30.765625 \r\nL 36.234375 51.859375 \r\nL 47.609375 51.859375 \r\nL 27.78125 32.625 \r\nL 49.609375 0 \r\nL 38.765625 0 \r\nL 21.625 26.515625 \r\nL 15.4375 20.5625 \r\nL 15.4375 0 \r\nz\r\n\" id=\"ArialMT-107\"/>\r\n       <path d=\"M 6.203125 -19.96875 \r\nL 5.21875 -11.71875 \r\nQ 8.109375 -12.5 10.25 -12.5 \r\nQ 13.1875 -12.5 14.9375 -11.515625 \r\nQ 16.703125 -10.546875 17.828125 -8.796875 \r\nQ 18.65625 -7.46875 20.515625 -2.25 \r\nQ 20.75 -1.515625 21.296875 -0.09375 \r\nL 1.609375 51.859375 \r\nL 11.078125 51.859375 \r\nL 21.875 21.828125 \r\nQ 23.96875 16.109375 25.640625 9.8125 \r\nQ 27.15625 15.875 29.25 21.625 \r\nL 40.328125 51.859375 \r\nL 49.125 51.859375 \r\nL 29.390625 -0.875 \r\nQ 26.21875 -9.421875 24.46875 -12.640625 \r\nQ 22.125 -17 19.09375 -19.015625 \r\nQ 16.0625 -21.046875 11.859375 -21.046875 \r\nQ 9.328125 -21.046875 6.203125 -19.96875 \r\nz\r\n\" id=\"ArialMT-121\"/>\r\n      </defs>\r\n      <g style=\"fill:#262626;\" transform=\"translate(287.181016 325.871406)rotate(-90)scale(0.11 -0.11)\">\r\n       <use xlink:href=\"#ArialMT-98\"/>\r\n       <use x=\"55.615234\" xlink:href=\"#ArialMT-117\"/>\r\n       <use x=\"111.230469\" xlink:href=\"#ArialMT-100\"/>\r\n       <use x=\"166.845703\" xlink:href=\"#ArialMT-103\"/>\r\n       <use x=\"222.460938\" xlink:href=\"#ArialMT-101\"/>\r\n       <use x=\"278.076172\" xlink:href=\"#ArialMT-116\"/>\r\n       <use x=\"305.859375\" xlink:href=\"#ArialMT-95\"/>\r\n       <use x=\"361.474609\" xlink:href=\"#ArialMT-108\"/>\r\n       <use x=\"383.691406\" xlink:href=\"#ArialMT-101\"/>\r\n       <use x=\"439.306641\" xlink:href=\"#ArialMT-118\"/>\r\n       <use x=\"489.306641\" xlink:href=\"#ArialMT-101\"/>\r\n       <use x=\"544.921875\" xlink:href=\"#ArialMT-108\"/>\r\n       <use x=\"567.138672\" xlink:href=\"#ArialMT-51\"/>\r\n       <use x=\"622.753906\" xlink:href=\"#ArialMT-95\"/>\r\n       <use x=\"678.369141\" xlink:href=\"#ArialMT-107\"/>\r\n       <use x=\"728.369141\" xlink:href=\"#ArialMT-101\"/>\r\n       <use x=\"783.984375\" xlink:href=\"#ArialMT-121\"/>\r\n      </g>\r\n     </g>\r\n    </g>\r\n    <g id=\"xtick_5\">\r\n     <g id=\"text_5\">\r\n      <!-- budget_level3_name -->\r\n      <g style=\"fill:#262626;\" transform=\"translate(354.141016 336.268125)rotate(-90)scale(0.11 -0.11)\">\r\n       <use xlink:href=\"#ArialMT-98\"/>\r\n       <use x=\"55.615234\" xlink:href=\"#ArialMT-117\"/>\r\n       <use x=\"111.230469\" xlink:href=\"#ArialMT-100\"/>\r\n       <use x=\"166.845703\" xlink:href=\"#ArialMT-103\"/>\r\n       <use x=\"222.460938\" xlink:href=\"#ArialMT-101\"/>\r\n       <use x=\"278.076172\" xlink:href=\"#ArialMT-116\"/>\r\n       <use x=\"305.859375\" xlink:href=\"#ArialMT-95\"/>\r\n       <use x=\"361.474609\" xlink:href=\"#ArialMT-108\"/>\r\n       <use x=\"383.691406\" xlink:href=\"#ArialMT-101\"/>\r\n       <use x=\"439.306641\" xlink:href=\"#ArialMT-118\"/>\r\n       <use x=\"489.306641\" xlink:href=\"#ArialMT-101\"/>\r\n       <use x=\"544.921875\" xlink:href=\"#ArialMT-108\"/>\r\n       <use x=\"567.138672\" xlink:href=\"#ArialMT-51\"/>\r\n       <use x=\"622.753906\" xlink:href=\"#ArialMT-95\"/>\r\n       <use x=\"678.369141\" xlink:href=\"#ArialMT-110\"/>\r\n       <use x=\"733.984375\" xlink:href=\"#ArialMT-97\"/>\r\n       <use x=\"789.599609\" xlink:href=\"#ArialMT-109\"/>\r\n       <use x=\"872.900391\" xlink:href=\"#ArialMT-101\"/>\r\n      </g>\r\n     </g>\r\n    </g>\r\n    <g id=\"text_6\">\r\n     <!-- Column -->\r\n     <defs>\r\n      <path d=\"M 58.796875 25.09375 \r\nL 68.265625 22.703125 \r\nQ 65.28125 11.03125 57.546875 4.90625 \r\nQ 49.8125 -1.21875 38.625 -1.21875 \r\nQ 27.046875 -1.21875 19.796875 3.484375 \r\nQ 12.546875 8.203125 8.765625 17.140625 \r\nQ 4.984375 26.078125 4.984375 36.328125 \r\nQ 4.984375 47.515625 9.25 55.828125 \r\nQ 13.53125 64.15625 21.40625 68.46875 \r\nQ 29.296875 72.796875 38.765625 72.796875 \r\nQ 49.515625 72.796875 56.828125 67.328125 \r\nQ 64.15625 61.859375 67.046875 51.953125 \r\nL 57.71875 49.75 \r\nQ 55.21875 57.5625 50.484375 61.125 \r\nQ 45.75 64.703125 38.578125 64.703125 \r\nQ 30.328125 64.703125 24.78125 60.734375 \r\nQ 19.234375 56.78125 16.984375 50.109375 \r\nQ 14.75 43.453125 14.75 36.375 \r\nQ 14.75 27.25 17.40625 20.4375 \r\nQ 20.0625 13.625 25.671875 10.25 \r\nQ 31.296875 6.890625 37.84375 6.890625 \r\nQ 45.796875 6.890625 51.3125 11.46875 \r\nQ 56.84375 16.0625 58.796875 25.09375 \r\nz\r\n\" id=\"ArialMT-67\"/>\r\n     </defs>\r\n     <g style=\"fill:#262626;\" transform=\"translate(196.751719 348.8575)scale(0.12 -0.12)\">\r\n      <use xlink:href=\"#ArialMT-67\"/>\r\n      <use x=\"72.216797\" xlink:href=\"#ArialMT-111\"/>\r\n      <use x=\"127.832031\" xlink:href=\"#ArialMT-108\"/>\r\n      <use x=\"150.048828\" xlink:href=\"#ArialMT-117\"/>\r\n      <use x=\"205.664062\" xlink:href=\"#ArialMT-109\"/>\r\n      <use x=\"288.964844\" xlink:href=\"#ArialMT-110\"/>\r\n     </g>\r\n    </g>\r\n   </g>\r\n   <g id=\"matplotlib.axis_2\">\r\n    <g id=\"ytick_1\">\r\n     <g id=\"line2d_1\">\r\n      <path clip-path=\"url(#pf1dc2d9ac3)\" d=\"M 50.025469 224.64 \r\nL 384.825469 224.64 \r\n\" style=\"fill:none;stroke:#cccccc;stroke-linecap:round;\"/>\r\n     </g>\r\n     <g id=\"text_7\">\r\n      <!-- 0 -->\r\n      <defs>\r\n       <path d=\"M 4.15625 35.296875 \r\nQ 4.15625 48 6.765625 55.734375 \r\nQ 9.375 63.484375 14.515625 67.671875 \r\nQ 19.671875 71.875 27.484375 71.875 \r\nQ 33.25 71.875 37.59375 69.546875 \r\nQ 41.9375 67.234375 44.765625 62.859375 \r\nQ 47.609375 58.5 49.21875 52.21875 \r\nQ 50.828125 45.953125 50.828125 35.296875 \r\nQ 50.828125 22.703125 48.234375 14.96875 \r\nQ 45.65625 7.234375 40.5 3 \r\nQ 35.359375 -1.21875 27.484375 -1.21875 \r\nQ 17.140625 -1.21875 11.234375 6.203125 \r\nQ 4.15625 15.140625 4.15625 35.296875 \r\nz\r\nM 13.1875 35.296875 \r\nQ 13.1875 17.671875 17.3125 11.828125 \r\nQ 21.4375 6 27.484375 6 \r\nQ 33.546875 6 37.671875 11.859375 \r\nQ 41.796875 17.71875 41.796875 35.296875 \r\nQ 41.796875 52.984375 37.671875 58.78125 \r\nQ 33.546875 64.59375 27.390625 64.59375 \r\nQ 21.34375 64.59375 17.71875 59.46875 \r\nQ 13.1875 52.9375 13.1875 35.296875 \r\nz\r\n\" id=\"ArialMT-48\"/>\r\n      </defs>\r\n      <g style=\"fill:#262626;\" transform=\"translate(34.408438 228.576797)scale(0.11 -0.11)\">\r\n       <use xlink:href=\"#ArialMT-48\"/>\r\n      </g>\r\n     </g>\r\n    </g>\r\n    <g id=\"ytick_2\">\r\n     <g id=\"line2d_2\">\r\n      <path clip-path=\"url(#pf1dc2d9ac3)\" d=\"M 50.025469 182.48683 \r\nL 384.825469 182.48683 \r\n\" style=\"fill:none;stroke:#cccccc;stroke-linecap:round;\"/>\r\n     </g>\r\n     <g id=\"text_8\">\r\n      <!-- 20 -->\r\n      <defs>\r\n       <path d=\"M 50.34375 8.453125 \r\nL 50.34375 0 \r\nL 3.03125 0 \r\nQ 2.9375 3.171875 4.046875 6.109375 \r\nQ 5.859375 10.9375 9.828125 15.625 \r\nQ 13.8125 20.3125 21.34375 26.46875 \r\nQ 33.015625 36.03125 37.109375 41.625 \r\nQ 41.21875 47.21875 41.21875 52.203125 \r\nQ 41.21875 57.421875 37.46875 61 \r\nQ 33.734375 64.59375 27.734375 64.59375 \r\nQ 21.390625 64.59375 17.578125 60.78125 \r\nQ 13.765625 56.984375 13.71875 50.25 \r\nL 4.6875 51.171875 \r\nQ 5.609375 61.28125 11.65625 66.578125 \r\nQ 17.71875 71.875 27.9375 71.875 \r\nQ 38.234375 71.875 44.234375 66.15625 \r\nQ 50.25 60.453125 50.25 52 \r\nQ 50.25 47.703125 48.484375 43.546875 \r\nQ 46.734375 39.40625 42.65625 34.8125 \r\nQ 38.578125 30.21875 29.109375 22.21875 \r\nQ 21.1875 15.578125 18.9375 13.203125 \r\nQ 16.703125 10.84375 15.234375 8.453125 \r\nz\r\n\" id=\"ArialMT-50\"/>\r\n      </defs>\r\n      <g style=\"fill:#262626;\" transform=\"translate(28.291406 186.423627)scale(0.11 -0.11)\">\r\n       <use xlink:href=\"#ArialMT-50\"/>\r\n       <use x=\"55.615234\" xlink:href=\"#ArialMT-48\"/>\r\n      </g>\r\n     </g>\r\n    </g>\r\n    <g id=\"ytick_3\">\r\n     <g id=\"line2d_3\">\r\n      <path clip-path=\"url(#pf1dc2d9ac3)\" d=\"M 50.025469 140.33366 \r\nL 384.825469 140.33366 \r\n\" style=\"fill:none;stroke:#cccccc;stroke-linecap:round;\"/>\r\n     </g>\r\n     <g id=\"text_9\">\r\n      <!-- 40 -->\r\n      <defs>\r\n       <path d=\"M 32.328125 0 \r\nL 32.328125 17.140625 \r\nL 1.265625 17.140625 \r\nL 1.265625 25.203125 \r\nL 33.9375 71.578125 \r\nL 41.109375 71.578125 \r\nL 41.109375 25.203125 \r\nL 50.78125 25.203125 \r\nL 50.78125 17.140625 \r\nL 41.109375 17.140625 \r\nL 41.109375 0 \r\nz\r\nM 32.328125 25.203125 \r\nL 32.328125 57.46875 \r\nL 9.90625 25.203125 \r\nz\r\n\" id=\"ArialMT-52\"/>\r\n      </defs>\r\n      <g style=\"fill:#262626;\" transform=\"translate(28.291406 144.270457)scale(0.11 -0.11)\">\r\n       <use xlink:href=\"#ArialMT-52\"/>\r\n       <use x=\"55.615234\" xlink:href=\"#ArialMT-48\"/>\r\n      </g>\r\n     </g>\r\n    </g>\r\n    <g id=\"ytick_4\">\r\n     <g id=\"line2d_4\">\r\n      <path clip-path=\"url(#pf1dc2d9ac3)\" d=\"M 50.025469 98.18049 \r\nL 384.825469 98.18049 \r\n\" style=\"fill:none;stroke:#cccccc;stroke-linecap:round;\"/>\r\n     </g>\r\n     <g id=\"text_10\">\r\n      <!-- 60 -->\r\n      <defs>\r\n       <path d=\"M 49.75 54.046875 \r\nL 41.015625 53.375 \r\nQ 39.84375 58.546875 37.703125 60.890625 \r\nQ 34.125 64.65625 28.90625 64.65625 \r\nQ 24.703125 64.65625 21.53125 62.3125 \r\nQ 17.390625 59.28125 14.984375 53.46875 \r\nQ 12.59375 47.65625 12.5 36.921875 \r\nQ 15.671875 41.75 20.265625 44.09375 \r\nQ 24.859375 46.4375 29.890625 46.4375 \r\nQ 38.671875 46.4375 44.84375 39.96875 \r\nQ 51.03125 33.5 51.03125 23.25 \r\nQ 51.03125 16.5 48.125 10.71875 \r\nQ 45.21875 4.9375 40.140625 1.859375 \r\nQ 35.0625 -1.21875 28.609375 -1.21875 \r\nQ 17.625 -1.21875 10.6875 6.859375 \r\nQ 3.765625 14.9375 3.765625 33.5 \r\nQ 3.765625 54.25 11.421875 63.671875 \r\nQ 18.109375 71.875 29.4375 71.875 \r\nQ 37.890625 71.875 43.28125 67.140625 \r\nQ 48.6875 62.40625 49.75 54.046875 \r\nz\r\nM 13.875 23.1875 \r\nQ 13.875 18.65625 15.796875 14.5 \r\nQ 17.71875 10.359375 21.1875 8.171875 \r\nQ 24.65625 6 28.46875 6 \r\nQ 34.03125 6 38.03125 10.484375 \r\nQ 42.046875 14.984375 42.046875 22.703125 \r\nQ 42.046875 30.125 38.078125 34.390625 \r\nQ 34.125 38.671875 28.125 38.671875 \r\nQ 22.171875 38.671875 18.015625 34.390625 \r\nQ 13.875 30.125 13.875 23.1875 \r\nz\r\n\" id=\"ArialMT-54\"/>\r\n      </defs>\r\n      <g style=\"fill:#262626;\" transform=\"translate(28.291406 102.117287)scale(0.11 -0.11)\">\r\n       <use xlink:href=\"#ArialMT-54\"/>\r\n       <use x=\"55.615234\" xlink:href=\"#ArialMT-48\"/>\r\n      </g>\r\n     </g>\r\n    </g>\r\n    <g id=\"ytick_5\">\r\n     <g id=\"line2d_5\">\r\n      <path clip-path=\"url(#pf1dc2d9ac3)\" d=\"M 50.025469 56.027321 \r\nL 384.825469 56.027321 \r\n\" style=\"fill:none;stroke:#cccccc;stroke-linecap:round;\"/>\r\n     </g>\r\n     <g id=\"text_11\">\r\n      <!-- 80 -->\r\n      <defs>\r\n       <path d=\"M 17.671875 38.8125 \r\nQ 12.203125 40.828125 9.5625 44.53125 \r\nQ 6.9375 48.25 6.9375 53.421875 \r\nQ 6.9375 61.234375 12.546875 66.546875 \r\nQ 18.171875 71.875 27.484375 71.875 \r\nQ 36.859375 71.875 42.578125 66.421875 \r\nQ 48.296875 60.984375 48.296875 53.171875 \r\nQ 48.296875 48.1875 45.671875 44.5 \r\nQ 43.0625 40.828125 37.75 38.8125 \r\nQ 44.34375 36.671875 47.78125 31.875 \r\nQ 51.21875 27.09375 51.21875 20.453125 \r\nQ 51.21875 11.28125 44.71875 5.03125 \r\nQ 38.234375 -1.21875 27.640625 -1.21875 \r\nQ 17.046875 -1.21875 10.546875 5.046875 \r\nQ 4.046875 11.328125 4.046875 20.703125 \r\nQ 4.046875 27.6875 7.59375 32.390625 \r\nQ 11.140625 37.109375 17.671875 38.8125 \r\nz\r\nM 15.921875 53.71875 \r\nQ 15.921875 48.640625 19.1875 45.40625 \r\nQ 22.46875 42.1875 27.6875 42.1875 \r\nQ 32.765625 42.1875 36.015625 45.375 \r\nQ 39.265625 48.578125 39.265625 53.21875 \r\nQ 39.265625 58.0625 35.90625 61.359375 \r\nQ 32.5625 64.65625 27.59375 64.65625 \r\nQ 22.5625 64.65625 19.234375 61.421875 \r\nQ 15.921875 58.203125 15.921875 53.71875 \r\nz\r\nM 13.09375 20.65625 \r\nQ 13.09375 16.890625 14.875 13.375 \r\nQ 16.65625 9.859375 20.171875 7.921875 \r\nQ 23.6875 6 27.734375 6 \r\nQ 34.03125 6 38.125 10.046875 \r\nQ 42.234375 14.109375 42.234375 20.359375 \r\nQ 42.234375 26.703125 38.015625 30.859375 \r\nQ 33.796875 35.015625 27.4375 35.015625 \r\nQ 21.234375 35.015625 17.15625 30.90625 \r\nQ 13.09375 26.8125 13.09375 20.65625 \r\nz\r\n\" id=\"ArialMT-56\"/>\r\n      </defs>\r\n      <g style=\"fill:#262626;\" transform=\"translate(28.291406 59.964117)scale(0.11 -0.11)\">\r\n       <use xlink:href=\"#ArialMT-56\"/>\r\n       <use x=\"55.615234\" xlink:href=\"#ArialMT-48\"/>\r\n      </g>\r\n     </g>\r\n    </g>\r\n    <g id=\"ytick_6\">\r\n     <g id=\"line2d_6\">\r\n      <path clip-path=\"url(#pf1dc2d9ac3)\" d=\"M 50.025469 13.874151 \r\nL 384.825469 13.874151 \r\n\" style=\"fill:none;stroke:#cccccc;stroke-linecap:round;\"/>\r\n     </g>\r\n     <g id=\"text_12\">\r\n      <!-- 100 -->\r\n      <defs>\r\n       <path d=\"M 37.25 0 \r\nL 28.46875 0 \r\nL 28.46875 56 \r\nQ 25.296875 52.984375 20.140625 49.953125 \r\nQ 14.984375 46.921875 10.890625 45.40625 \r\nL 10.890625 53.90625 \r\nQ 18.265625 57.375 23.78125 62.296875 \r\nQ 29.296875 67.234375 31.59375 71.875 \r\nL 37.25 71.875 \r\nz\r\n\" id=\"ArialMT-49\"/>\r\n      </defs>\r\n      <g style=\"fill:#262626;\" transform=\"translate(22.174375 17.810948)scale(0.11 -0.11)\">\r\n       <use xlink:href=\"#ArialMT-49\"/>\r\n       <use x=\"55.615234\" xlink:href=\"#ArialMT-48\"/>\r\n       <use x=\"111.230469\" xlink:href=\"#ArialMT-48\"/>\r\n      </g>\r\n     </g>\r\n    </g>\r\n    <g id=\"text_13\">\r\n     <!-- Percentual -->\r\n     <defs>\r\n      <path d=\"M 7.71875 0 \r\nL 7.71875 71.578125 \r\nL 34.71875 71.578125 \r\nQ 41.84375 71.578125 45.609375 70.90625 \r\nQ 50.875 70.015625 54.4375 67.546875 \r\nQ 58.015625 65.09375 60.1875 60.640625 \r\nQ 62.359375 56.203125 62.359375 50.875 \r\nQ 62.359375 41.75 56.546875 35.421875 \r\nQ 50.734375 29.109375 35.546875 29.109375 \r\nL 17.1875 29.109375 \r\nL 17.1875 0 \r\nz\r\nM 17.1875 37.546875 \r\nL 35.6875 37.546875 \r\nQ 44.875 37.546875 48.734375 40.96875 \r\nQ 52.59375 44.390625 52.59375 50.59375 \r\nQ 52.59375 55.078125 50.3125 58.265625 \r\nQ 48.046875 61.46875 44.34375 62.5 \r\nQ 41.9375 63.140625 35.5 63.140625 \r\nL 17.1875 63.140625 \r\nz\r\n\" id=\"ArialMT-80\"/>\r\n     </defs>\r\n     <g style=\"fill:#262626;\" transform=\"translate(15.789375 144.602812)rotate(-90)scale(0.12 -0.12)\">\r\n      <use xlink:href=\"#ArialMT-80\"/>\r\n      <use x=\"66.699219\" xlink:href=\"#ArialMT-101\"/>\r\n      <use x=\"122.314453\" xlink:href=\"#ArialMT-114\"/>\r\n      <use x=\"155.615234\" xlink:href=\"#ArialMT-99\"/>\r\n      <use x=\"205.615234\" xlink:href=\"#ArialMT-101\"/>\r\n      <use x=\"261.230469\" xlink:href=\"#ArialMT-110\"/>\r\n      <use x=\"316.845703\" xlink:href=\"#ArialMT-116\"/>\r\n      <use x=\"344.628906\" xlink:href=\"#ArialMT-117\"/>\r\n      <use x=\"400.244141\" xlink:href=\"#ArialMT-97\"/>\r\n      <use x=\"455.859375\" xlink:href=\"#ArialMT-108\"/>\r\n     </g>\r\n    </g>\r\n   </g>\r\n   <g id=\"patch_3\">\r\n    <path clip-path=\"url(#pf1dc2d9ac3)\" d=\"M 56.721469 224.64 \r\nL 110.289469 224.64 \r\nL 110.289469 214.609888 \r\nL 56.721469 214.609888 \r\nz\r\n\" style=\"fill:#5875a4;stroke:#ffffff;stroke-linejoin:miter;\"/>\r\n   </g>\r\n   <g id=\"patch_4\">\r\n    <path clip-path=\"url(#pf1dc2d9ac3)\" d=\"M 123.681469 224.64 \r\nL 177.249469 224.64 \r\nL 177.249469 74.018417 \r\nL 123.681469 74.018417 \r\nz\r\n\" style=\"fill:#cc8963;stroke:#ffffff;stroke-linejoin:miter;\"/>\r\n   </g>\r\n   <g id=\"patch_5\">\r\n    <path clip-path=\"url(#pf1dc2d9ac3)\" d=\"M 190.641469 224.64 \r\nL 244.209469 224.64 \r\nL 244.209469 74.018417 \r\nL 190.641469 74.018417 \r\nz\r\n\" style=\"fill:#5f9e6e;stroke:#ffffff;stroke-linejoin:miter;\"/>\r\n   </g>\r\n   <g id=\"patch_6\">\r\n    <path clip-path=\"url(#pf1dc2d9ac3)\" d=\"M 257.601469 224.64 \r\nL 311.169469 224.64 \r\nL 311.169469 17.554286 \r\nL 257.601469 17.554286 \r\nz\r\n\" style=\"fill:#b55d60;stroke:#ffffff;stroke-linejoin:miter;\"/>\r\n   </g>\r\n   <g id=\"patch_7\">\r\n    <path clip-path=\"url(#pf1dc2d9ac3)\" d=\"M 324.561469 224.64 \r\nL 378.129469 224.64 \r\nL 378.129469 17.554286 \r\nL 324.561469 17.554286 \r\nz\r\n\" style=\"fill:#857aab;stroke:#ffffff;stroke-linejoin:miter;\"/>\r\n   </g>\r\n   <g id=\"line2d_7\">\r\n    <path clip-path=\"url(#pf1dc2d9ac3)\" style=\"fill:none;stroke:#424242;stroke-linecap:round;stroke-width:2.7;\"/>\r\n   </g>\r\n   <g id=\"line2d_8\">\r\n    <path clip-path=\"url(#pf1dc2d9ac3)\" style=\"fill:none;stroke:#424242;stroke-linecap:round;stroke-width:2.7;\"/>\r\n   </g>\r\n   <g id=\"line2d_9\">\r\n    <path clip-path=\"url(#pf1dc2d9ac3)\" style=\"fill:none;stroke:#424242;stroke-linecap:round;stroke-width:2.7;\"/>\r\n   </g>\r\n   <g id=\"line2d_10\">\r\n    <path clip-path=\"url(#pf1dc2d9ac3)\" style=\"fill:none;stroke:#424242;stroke-linecap:round;stroke-width:2.7;\"/>\r\n   </g>\r\n   <g id=\"line2d_11\">\r\n    <path clip-path=\"url(#pf1dc2d9ac3)\" style=\"fill:none;stroke:#424242;stroke-linecap:round;stroke-width:2.7;\"/>\r\n   </g>\r\n   <g id=\"patch_8\">\r\n    <path d=\"M 50.025469 224.64 \r\nL 50.025469 7.2 \r\n\" style=\"fill:none;stroke:#cccccc;stroke-linecap:square;stroke-linejoin:miter;stroke-width:1.25;\"/>\r\n   </g>\r\n   <g id=\"patch_9\">\r\n    <path d=\"M 384.825469 224.64 \r\nL 384.825469 7.2 \r\n\" style=\"fill:none;stroke:#cccccc;stroke-linecap:square;stroke-linejoin:miter;stroke-width:1.25;\"/>\r\n   </g>\r\n   <g id=\"patch_10\">\r\n    <path d=\"M 50.025469 224.64 \r\nL 384.825469 224.64 \r\n\" style=\"fill:none;stroke:#cccccc;stroke-linecap:square;stroke-linejoin:miter;stroke-width:1.25;\"/>\r\n   </g>\r\n   <g id=\"patch_11\">\r\n    <path d=\"M 50.025469 7.2 \r\nL 384.825469 7.2 \r\n\" style=\"fill:none;stroke:#cccccc;stroke-linecap:square;stroke-linejoin:miter;stroke-width:1.25;\"/>\r\n   </g>\r\n  </g>\r\n </g>\r\n <defs>\r\n  <clipPath id=\"pf1dc2d9ac3\">\r\n   <rect height=\"217.44\" width=\"334.8\" x=\"50.025469\" y=\"7.2\"/>\r\n  </clipPath>\r\n </defs>\r\n</svg>\r\n",
      "image/png": "iVBORw0KGgoAAAANSUhEUgAAAYcAAAFlCAYAAAAAkiT3AAAABHNCSVQICAgIfAhkiAAAAAlwSFlzAAALEgAACxIB0t1+/AAAADh0RVh0U29mdHdhcmUAbWF0cGxvdGxpYiB2ZXJzaW9uMy4yLjEsIGh0dHA6Ly9tYXRwbG90bGliLm9yZy+j8jraAAAgAElEQVR4nO3deViU9d4G8HvYBfSQBrimaS7vUbOTK0fEJUMURwx5c0nwWEfjHEVzJ1xzSVCMjnUofY+VW7miLBmaSy6hKVRHUdwX1BRGDRSQYWCe9w9jcHqARoaZ34xzf66r63Ielrn5pdzzbN9RSJIkgYiI6DF2ogMQEZHlYTkQEZEMy4GIiGRYDkREJOMgOoCxtFotCgsL4ejoCIVCIToOEZFVkCQJGo0Gbm5usLOT7ydYfTkUFhbi/PnzomMQEVmlNm3aoG7durLtVl8Ojo6OAB79gE5OToLTEBFZh5KSEpw/f173O/T3rL4cyg8lOTk5wdnZWXAaIiLrUtXheJ6QJiIiGZOWQ0FBAQYPHowbN24AANLS0qBUKuHv74+4uDjd52VlZSE4OBgDBgzA7NmzUVpaaspYRET0B0xWDv/9738xcuRIXL16FQBQXFyMqKgoxMfHY9euXcjMzMTBgwcBADNmzMC8efOwe/duSJKELVu2mCoWEREZwGTlsGXLFsyfPx9eXl4AgJMnT6J58+Zo1qwZHBwcoFQqkZqaips3b6K4uBgvvfQSACA4OBipqammikVERAYw2QnpJUuW6D3Ozc2Fp6en7rGXlxdycnJk2z09PZGTk/PEz5eZmVnzsEREpMdsVytptVq9s+KSJEGhUFS5/Ul16NCBVysRERlIrVZX+6LabFcrNWzYECqVSvdYpVLBy8tLtv3OnTu6Q1FERCSG2cqhU6dOuHLlCq5du4aysjKkpKTAz88PTZo0gbOzMzIyMgAAiYmJ8PPzM1csIiKqhNkOKzk7OyM6OhoRERFQq9Xo3bs3AgICAACxsbGYM2cOCgoK0L59e4SFhZkrFpHNKyvRwN6p8rtkrVVNf6ZSTRkcHO1NkEicmv5MCmt/J7jy42Y850BUc7vCxoqOUKsGrfu8xl/7/uxttZhEvKglIZVu/6PfnbxDmoiIZFgOREQkw3IgIiIZlgMREcmwHIiISIblQEREMiwHIiKSYTkQEZEMy4GIiGRYDkREJMNyICIiGZYDERHJsByIiEiG5UBERDIsByIikmE5EBGRDMuBiIhkWA5ERCTDciAiIhmWAxERybAciIhIhuVAREQyLAciIpJhORARkQzLgYiIZFgOREQkw3IgIiIZlgMREcmwHIiISIblQEREMiwHIiKSYTkQEZEMy4GIiGSElENiYiICAwMRGBiImJgYAEBaWhqUSiX8/f0RFxcnIhYREf3G7OXw8OFDLFmyBOvXr0diYiLS09Oxf/9+REVFIT4+Hrt27UJmZiYOHjxo7mhERPQbs5dDWVkZtFotHj58iNLSUpSWlsLd3R3NmzdHs2bN4ODgAKVSidTUVHNHIyKi3ziY+wnd3d0xefJkDBw4EHXq1EHXrl2Rm5sLT09P3ed4eXkhJyfnib5vZmZmbUclsgmdO3cWHcEkMjIynvhruBYVzF4OZ8+exfbt23HgwAHUrVsX06dPx9WrV6FQKHSfI0mS3mNDdOjQAc7OzrUdl4is1NP6i74mKlsLtVpd7Ytqsx9WOnLkCHx8fNCgQQM4OTkhODgYP/zwA1Qqle5zVCoVvLy8zB2NiIh+Y/ZyaNeuHdLS0lBUVARJkrB//3506tQJV65cwbVr11BWVoaUlBT4+fmZOxoREf3G7IeVfH19cebMGQQHB8PR0REdO3ZEREQEevbsiYiICKjVavTu3RsBAQHmjkZERL8xezkAwPjx4zF+/Hi9bT4+PkhKShIRh4iIfod3SBMRkQzLgYiIZFgOREQkw3IgIiIZlgMREcmwHIiISIblQEREMiwHIiKSYTkQEZEMy4GIiGRYDkREJMNyICIiGZaDDdGWakRHqHU1/ZlKnsK1eBp/JhJHyFRWEsPOwREZy/4uOkat6jzzPzX6OicHR/zt88m1nEasL8b+S3QEeopwz4GIiGRYDkREJMNyICIiGZYDERHJsByIiEiG5UBERDIsByIikmE5EBGRDMuBiIhkWA5ERCTDciAiIhmWAxERybAciIhIhuVAREQyLAciIpKp9v0cFi9eXO0Xz5kzp1bDEBGRZai2HDw8PMyVg4iILEi15TBx4sQqP1ZUVFTrYYiIyDIY9Dahe/fuxcqVK1FUVARJkqDVapGXl4effvrJ1PmIiEgAg05IL1u2DOHh4WjUqBHmz5+PXr16YcSIETV+0v379yM4OBgDBw7UnddIS0uDUqmEv78/4uLiavy9iYjIeAaVQ506dTBo0CC89NJLcHZ2xoIFC/Ddd9/V6AmvX7+O+fPnIz4+HklJSThz5gwOHjyIqKgoxMfHY9euXcjMzMTBgwdr9P2JiMh4BpWDs7MzSkpK8NxzzyErKwt2dnZQKBQ1esJvv/0WgwYNQsOGDeHo6Ii4uDjUqVMHzZs3R7NmzeDg4AClUonU1NQafX8iIjKeQecc+vXrh/HjxyMmJgbDhw9HRkYGnnnmmRo94bVr1+Do6Ijw8HDcunULffr0QevWreHp6an7HC8vL+Tk5DzR983MzKxRHlvSuXNn0RFMIiMj44m/hmtRgWtRgWtRwaByCA8Px5AhQ+Dt7Y34+HicOHECgwcPfuInA4CysjKkp6dj/fr1cHV1xT/+8Q+4uLjo7YlIkvTEeyYdOnSAs7NzjTKRdXta/0HXBNeiAteiQmVroVarq31RbVA5nD59GgDw66+/AgC6dOmC27dvo0GDBk8c8tlnn4WPjw/q168PAOjfvz9SU1Nhb2+v+xyVSgUvL68n/t5ERFQ7DCqHiIgI3Z81Gg3u3LmD9u3bY9u2bU/8hH379sWsWbNw//59uLm54fDhwwgICMDq1atx7do1NG3aFCkpKRg2bNgTf28iIqodBpXD/v379R7/8MMPSE5OrtETdurUCX//+98xatQoaDQa9OzZEyNHjkTLli0REREBtVqN3r17IyAgoEbfn4iIjGdQOfxe9+7dER0dXeMnDQkJQUhIiN42Hx8fJCUl1fh7EhFR7Xmicw7Ao5PFmZmZKC4uNlkoIiIS64nPOSgUCjRo0AALFiwwVSYiIhLMoHL48ssv0bBhQ71tFy9eNEkgIiISr9o7pPPy8pCXl4fx48cjPz8feXl5yM/Px507d6qd2EpERNat2j2HadOm4fvvvwfw6CS07oscHDBgwADTJiMiImGqLYc1a9YAAN59910sXbrULIGIiEg8g845LF26FDdv3kR+fj4kSdJtb9++vcmCERGROAaVw8qVK7FmzRq9cRkKhQL79u0zWTAiIhLHoHLYuXMn9uzZA29vb1PnISIiC2DQ+zk0atSIxUBEZEMM2nPw8fHBsmXL8Morr8DFxUW3necciIieTgaVQ0JCAgDovTsbzzkQET29ajSVlYiInm4GnXMoLCzEwoULMWbMGOTl5WHevHkoLCw0dTYiIhLEoHJYvHgx6tati7t378LZ2RkFBQWYN2+eqbMREZEgBpVDVlYWpkyZAgcHB9SpUwexsbHIysoydTYiIhLEoHKws9P/tLKyMtk2IiJ6ehh0Qrpr165Yvnw5iouLcfjwYWzYsEFvEB8RET1dDHr5P336dLi6uqJu3bqIi4tDu3btMHPmTFNnIyIiQQzac3B0dES3bt0wYcIE5OXlIT09Hc7OzqbORkREghi05xAXF4eVK1cCAIqLi7F69WrEx8ebNBgREYljUDns27cPn332GQCgYcOG2LBhA3bt2mXSYEREJI5B5aDRaODo6Kh77OjoCIVCYbJQREQklkHnHF5++WVMmzYNISEhUCgU2LlzJzp16mTqbEREJIhB5TB37lysXLkSS5cuhYODA3x8fDBx4kRTZyMiIkEMKodPPvkEkZGRps5CREQWwqBzDt99952JYxARkSUxaM+hadOmePPNN/Hyyy/Dzc1Nt33s2LEmC0ZEROIYVA4eHh4AgJs3b5o0DBERWQaDymHp0qUAgPv376NevXomDUREROIZdM7hypUrGDRoEAIDA5GTk4OBAwfi0qVLps5GRESCGFQOixYtwuzZs9GgQQN4e3tj9OjRfLMfIqKnmEHlkJeXh549e+oev/HGGygoKDBZKCIiEsvgd+xRq9W6kRkqlQpardboJ4+JidHdP5GWlgalUgl/f3/ExcUZ/b2JiKjmDCqHUaNG4a233sLdu3exYsUKDB8+HCNHjjTqiY8ePYodO3YAeDTpNSoqCvHx8di1axcyMzNx8OBBo74/ERHV3B+Ww/nz51GvXj1MnjwZSqUSpaWlWLRoEUaNGlXjJ83Ly0NcXBzCw8MBACdPnkTz5s3RrFkzODg4QKlUIjU1tcbfn4iIjFPtpazbt29HTEwMmjdvjuzsbMTGxqJXr15GP+m8efMwZcoU3Lp1CwCQm5sLT09P3ce9vLyQk5PzRN8zMzPT6FxPu86dO4uOYBIZGRlP/DVciwpciwpciwrVlsP69euRnJwMb29v/PTTT4iLizO6HLZu3YpGjRrBx8cHCQkJAACtVqs3AlySpCceCd6hQwe+O52Nelr/QdcE16IC16JCZWuhVqurfVH9hzfBeXt7AwD+8pe/4NdffzUi3iO7du2CSqVCUFAQ8vPzUVRUhJs3b8Le3l73OSqVCl5eXkY/FxER1Uy15fD7V++P/wKvqc8//1z354SEBBw/fhzvvfce/P39ce3aNTRt2hQpKSkYNmyY0c9FREQ1Y9D4jHKmevc3Z2dnREdHIyIiAmq1Gr1790ZAQIBJnouIiP5YteVw7tw5vPzyy7rHxcXFePnll3XnBH788Uejnjw4OBjBwcEAAB8fHyQlJRn1/YiIqHZUWw7ffvutuXIQEZEFqbYcmjRpYq4cRERkQQwen0FERLaD5UBERDIsByIikmE5EBGRDMuBiIhkWA5ERCTDciAiIhmWAxERybAciIhIhuVAREQyLAciIpJhORARkQzLgYiIZFgOREQkw3IgIiIZlgMREcmwHIiISIblQEREMiwHIiKSYTkQEZEMy4GIiGRYDkREJMNyICIiGZYDERHJsByIiEiG5UBERDIsByIikmE5EBGRDMuBiIhkWA5ERCTDciAiIhkh5fDxxx8jMDAQgYGBWLZsGQAgLS0NSqUS/v7+iIuLExGLiIh+Y/ZySEtLw5EjR7Bjxw7s3LkTp0+fRkpKCqKiohAfH49du3YhMzMTBw8eNHc0IiL6jdnLwdPTE5GRkXBycoKjoyNatWqFq1evonnz5mjWrBkcHBygVCqRmppq7mhERPQbs5dD69at8dJLLwEArl69im+++QYKhQKenp66z/Hy8kJOTo65oxER0W8cRD3xhQsX8Pbbb2PmzJmwt7fH1atXdR+TJAkKheKJvl9mZmYtJ3z6dO7cWXQEk8jIyHjir+FaVOBaVOBaVBBSDhkZGZg0aRKioqIQGBiI48ePQ6VS6T6uUqng5eX1RN+zQ4cOcHZ2ru2oZAWe1n/QNcG1qMC1qFDZWqjV6mpfVJv9sNKtW7cwYcIExMbGIjAwEADQqVMnXLlyBdeuXUNZWRlSUlLg5+dn7mhERPQbs+85rFmzBmq1GtHR0bptI0aMQHR0NCIiIqBWq9G7d28EBASYOxoREf3G7OUwZ84czJkzp9KPJSUlmTkNERFVhndIExGRDMuBiIhkWA5ERCTDciAiIhmWAxERybAciIhIhuVAREQyLAciIpJhORARkQzLgYiIZFgOREQkw3IgIiIZlgMREcmwHIiISIblQEREMiwHIiKSYTkQEZEMy4GIiGRYDkREJMNyICIiGZYDERHJsByIiEiG5UBERDIsByIikmE5EBGRDMuBiIhkWA5ERCTz1JdDiaZMdIRa9zT+TERkWRxEBzA1J0d7jJq5UXSMWvXlsjdERyCip9xTv+dARERPjuVAREQyLAciIpJhORARkQzLgYiIZCyqHJKTkzFo0CD4+/tj48an6wojIiJrYjGXsubk5CAuLg4JCQlwcnLCiBEj0L17d7zwwguioxER2RyLKYe0tDT06NEDHh4eAIABAwYgNTUVEydOrPbrJEkCAJSUlFT5OfVcHWsvqAVQq9U1/2KXurUXxAIYsxZ1Hd1qMYl4xqyFXV3+vSjn4moxvxZrRVVrUf47s/x36O8ppKo+YmarVq1CUVERpkyZAgDYunUrTp48iUWLFlX7dQ8ePMD58+fNEZGI6KnTpk0b1K3kxYHFVKRWq4VCodA9liRJ73FV3Nzc0KZNGzg6Ohr0+URE9Oh3rEajgZtb5XvQFlMODRs2RHp6uu6xSqWCl5fXH36dnZ1dpa1HRETVc3FxqfJjFnO10l//+lccPXoU9+7dw8OHD7Fnzx74+fmJjkVEZJMsZs/B29sbU6ZMQVhYGDQaDUJCQvDiiy+KjkVEZJMs5oQ0ERFZDos5rERERJaD5UBERDIsByIikmE5EBGRDMuBiIhkWA5ERCTDcjBCXFyc6AgWJTk5GXFxcXj48CF27twpOo5QXItHAgMD8Z///AcqlUp0FIuRn58vOoJBWA5GOHDgQJUTDW1NbGwsDh48iD179qCsrAzbt29HdHS06FhCcC0qrF69Gmq1GmFhYRg/fjxSU1Oh0WhExxIiKysLAQEBCAoKQk5ODl599VWcPn1adKyqSVRjoaGhkr+/vzRlyhQpMjJS958tCgoKkrRarRQUFCRJkiRpNBpp4MCBglOJwbWo3J49eyQ/Pz+pW7du0uLFi6V79+6JjmRWo0aNki5evKj7e3HkyBFp2LBhglNVzWLGZ1ij1157TXQEi2Fn92gntHwybklJiW6breFaVCgsLMTu3buRmJiInJwcjBw5EoGBgTh06BDeeustJCQkiI5oNg8fPkSrVq10j3v27ImYmBiBiarHcjDCa6+9hhs3buDixYvw9fXFrVu30KxZM9GxhAgICMA777yD/Px8fPHFF0hMTMTgwYNFxxKCa1HhlVdeQd++fTFx4kR07dpVt33UqFFIS0sTmMz8PDw8cPbsWd2LhqSkJPzpT38SnKpqnK1khF27duGTTz5BcXExNm3ahCFDhmDmzJkICgoSHU2Iw4cPIy0tDVqtFj4+PujTp4/oSMJwLR4pKCiAu7s78vPzLfoXoTlkZ2dj1qxZOHXqFFxcXNC8eXMsX74cLVu2FB2tcqKPa1mzoUOHSg8ePNAdQ8zJyZEGDRokOJUYt2/flpYtWyZJkiRlZ2dLM2bMkFQqleBUYnAtKmRlZUkDBgyQevfuLd2+fVvq37+/lJmZKTqWUIWFhdKDBw9Ex/hDtnkgtJbY2dnB3d1d99jLy8tmjy1Pnz5dd0jN29sbXbp0wcyZMwWnEoNrUWHRokX497//DQ8PD3h7e2PBggWYP3++6FhCpKenIyIiAuHh4fjnP/+JsLAwhIWFiY5VJZ5zMELr1q2xYcMGlJaWIisrC19++SXatWsnOpYQ+fn5GDFiBADAyckJr7/+Or766ivBqcTgWlSwtpOwphQZGYmJEyeicePGoqMYxDZf5taSefPmIScnB87OzoiKioK7u7vNvipycXHBwYMHdY/T0tJQp04dgYnE4VpUsLaTsKbk7e2NoUOHolu3bnr/WSqekDaSRqPBpUuX4OjoiBYtWsDe3l50JCGysrIwY8YM3Z2wjRo1wrJly9CmTRvBycyPa1GhspOwsbGxeP7550VHM7vU1FTs3bsXPXr0gINDxUGboUOHCkxVNZaDEY4fP44ZM2agQYMG0Gq1KCoqwooVK9CxY0fR0YT59ddf4ejoqHcuxlZxLQC1Wg1nZ2cUFRVBq9XC3d0dWVlZ+J//+R/R0cxu3LhxUKvVaNKkid72pUuXCkpUPZ5zMEJ0dDRWr16Ntm3bAgBOnTqF9957D9u2bROczPzOnDmDTz/9FPn5+XojRdatWycwlRhciwrjxo3D6tWr4erqiuLiYsTExCA5ORlHjhwRHc3s7ty5gx07doiOYTCWgxEkSdIVAwB07NgRZWVlAhOJM2vWLAwfPhytW7fWHV+2VVyLCq+88grGjRuHsLAwxMTEoHv37khJSREdS4gXX3wRBw4cgJ+fn1UcfmY51MCJEycAAC1btsS8efMQEhICBwcHJCcn2+whJRcXF4wePVp0DIvAtagwZswY1KtXD1OmTMHHH39sszcDAsC+ffuwefNmvW0KhQJZWVmCElWP5xxqIDQ0tMqPKRQKmzx88K9//Qv169eHr68vnJ2dddut5bK92sS1ePRvpHyvSZIkXLhwAe7u7ro1sMV/I9aG5UC1ol+/frJtCoUC+/btE5BGLK7Fo4s1qtOtWzeoVCp4enqaKZF49+7dQ1JSEgoLCyFJErRaLW7cuIFly5aJjlYploMR0tPTsXbtWtmbd/BVEdEfe+2116zqBK2xwsLC0KhRI/z888/o378/vvvuO3Ts2NFi3+uD5xyMYG13PJrS1atXsWHDBhQVFem9Ktq4caPoaGbHtTCMrb0uzc3Nxbp16xATEwN/f3/8/e9/x5gxY0THqhLvkDaCtd3xaEpTp05FvXr1dNew//LLL2jdurXoWEJwLQxja1dyld8Z/vzzz+Ps2bN45plnBCeqHvccjBAaGorp06dbzR2PpqTRaDBp0iSUlpbiz3/+M15//XUMGzZMdCwhuBZUmR49emDSpEmYNWsW3nzzTZw+fRouLi6iY1WJ5WCE7du3Q61WIyMjQ2+7LZZDnTp1UFJSghYtWuD06dPo0qWL6EjCcC2oMlOmTEF2djaaNGmCDz74ACdOnMDEiRNFx6oSy8EI1nbHoykNGTIE4eHhiI2NxfDhw3H48GF4e3uLjiUE18IwtnbOobS0FJcvX8aPP/4I4NFQwrS0NIt9McmrlYwwf/589OnTx2rueDS18nf9un37Nk6dOgVfX1+bnUbKtdB3+fJlXLx4ER07dkSjRo0APLraz5b2qiZPnoxffvkFrVq10jvfYqmzlVgORvD19cWdO3f0tlnyHY+m8PHHH1f7cUveba5tXIsKR48excyZM+Hh4YGxY8fiww8/xF/+8hdkZmZi9uzZld4L8rQLCAjAN998YzUn4nlYyQi2ODyMyBDLly/H2rVrcf36dUyYMAF79uxB48aNkZubi/DwcJssh1atWkGlUsHLy0t0FIOwHIxQ1StFW3qFWNXPKkkSbty4YeY0YnEtKpSWlqJly5Zo2bIlunfvrrsXyMvLCxqNRnA6MYqLixEQEIA2bdrAyclJt91Sb5plOdQSjUaDw4cPo1OnTqKjCLF582bExMTg4cOHum1NmzbFt99+KzCVGFwLoEWLFvjggw/wzjvvYM2aNQAAlUqF1atX671tqC15++23q/yYRY4SkajWqNVq6Y033hAdQ4i+fftK2dnZ0tSpU6Xr169LGzZskKZOnSo6lhBcC0kqLCyUPvroI71tx48fl5YtWyYVFBQISmW5hg4dKjqCDO+QrkWFhYX45ZdfRMcQokGDBmjWrBnatm2L8+fP44033sC5c+dExxKCawG4urrKDrN17doVM2bMgJubm6BUlkuywOuCeFjJCP369dMbS5yfn4+33npLcCox6tSpg2PHjqFt27bYu3cvOnbsiOLiYtGxhOBaAO3atdP7twE8upJPkiSbu6LPEJZ4BRPLwQjr16/X/VmhUKBevXo2+37Bc+fOxdatWxEZGYlt27YhICAAERERomMJwbUAzp49KzoCGYn3ORihtLQUR44cQV5ent52S73j0RwKCgrg4OBg0TNjzIVrAZSUlOCzzz7DlStXMHfuXHzxxRcYP3683tU6ZJnjy7nnYIRp06ZVesejLZbDuXPnEBkZqTvn0rJlS8TExOC5554TnMz8uBYVFi5ciPr16+P06dOwt7fHtWvXEBUVhdjYWNHRLIpFvkYXeDLc6g0YMEB0BIsxfPhw6bvvvtM93rNnj81eucW1qFB+FU5QUJAkSZKk1WqlwMBAkZGEu3TpkrR7927pl19+0W07ceKEwESV49VKRmjVqhVyc3NFx7AIarUavXv31j1+9dVXUVBQIDCROFyLCgqFAiUlJbo9619//dUiT76a0tGjR9GrVy8olUokJCTgb3/7G77++muMHj0a+/fvBwCLnDHFw0pGsLY7Hk2h/NBJu3btsHr1aoSEhMDe3h7JyckW+RfelLgWcmFhYRg7dixUKhWWLFmCvXv3YsKECaJjmZW1jhLhCWkjVPUm6rb05unll/NW9tdIoVBg3759AlKJwbWo3MWLF/HDDz+grKwM3bp1Q7t27URHMqshQ4YgKSkJAPDWW2/p7hgHAKVSieTkZFHRqsVyMBFLvPpAlM2bN2P48OGiY1gEW1uLoKAgBAUFYfDgwVYzcK62TZo0CS1atMA777wDO7tHR/LLR4moVCp8+OGHghNWjuccTISdW2HTpk2iI1gMW1uL2NhY5OfnIzQ0FGPHjsWOHTtQWFgoOpZZRUdHw8nJSVcMAHD16lU4OTlhyZIlApNVj3sOJsI9hwpDhw7Fzp07RcewCLa8Funp6Xj//fdx+fJl/Pzzz6Lj0B/gCWkyOVu7OqU6trYWZWVlOHLkCL7++mucOHECvr6+iIqKEh3LrKx1lAjLgYhMpnfv3ujUqROUSiUWL15sk3dGW+soEZaDifBoHRGQkpICDw8P5Ofn22QxPM7aRonwhLQRVq1aJdv2wQcfAADmzJlj7jgWq27duqIjWAxbW4vbt28jICAAQUFByMnJwauvvorTp0+LjiXEwoULUVRUJBslYql4QroGYmNjcffuXezfv1/vBpbS0lKcPHkSu3fvFphOjN+/ZapCoYCLiwtatWqFPn36iAklCNeiwhtvvIGFCxdi2rRp2LlzJ77//nvExcVh27ZtoqOZXflFKuUXJUiSBKVSiZSUFNHRKsXDSjXg7++PS5cu4dixY+jWrZtuu729vc3d/VkuOzsb165dQ2BgIABgz549cHd3R0ZGBk6cOIEZM2YITmg+XIsKDx8+1Htb0J49eyImJkZgInGsbpSIgNZnMzIAAA6qSURBVHlOT4379+9LhYWFUlZWllRWViYVFhaKjiRMSEiIpFardY/VarX0+uuvS5IkSUqlUlQsIbgWFcaOHStlZWXpBvAlJiZKo0ePFpxKjB07dkijRo2SevbsKS1evFjq06ePtHXrVtGxqsQ9ByNkZmZi3rx5KCsrw+bNmzF48GCsWLECvr6+oqOZ3f3791FaWqo7uabRaFBUVATA9k7Ocy0qLFiwALNmzcKFCxfQpUsXNG/eHMuXLxcdS4ihQ4eiQ4cOulEin3zyiUWPEuE5ByP87//+L+Lj4zFu3Djs3LkTFy9exNSpU3VzVGzJunXr8NVXX6FPnz7QarU4dOgQRo8eDY1Gg1OnTmHFihWiI5oN10KuqKgIWq3WZt8pEbC+USIsByMMGzYM27dv17vr9fEhW7bm3LlzOHr0KOzs7ODj44PWrVvj6tWraNy4scVermcqtr4WoaGh1R5Pt6XJxeUuXLiAlJQUpKamonHjxhgyZAj8/f3h5uYmOlqlWA5GmDBhAkJCQrBy5UqsXbsWGzduxH//+198+umnoqOZHd8ytQLXouqJxeVsaXJxZaxhlAjLwQh3797FkiVLkJaWBq1Wix49emDOnDlWsctY2yZPnlzpW6YuXbpUYCoxuBaGsbX5Y5WNEgkKCrLY9/rgCWkjNGjQQHfTm607d+4cvvnmG8u+NM9MuBaGsbXXpdY2SoTlYAR/f3+UlZXpHpff7NSyZUvMmjULTZo0EZjOvFq1agWVSmWTe02/x7UwjK2Vp7WNEmE5GMHPzw9NmzZFSEgIACApKQmnTp1Cv379MHv2bHzxxRdiA5oR3zK1AteCKnP79m2MGDECxcXF2Lx5M0aPHo0PP/wQ7du3Fx2tUiwHI2RkZOjNUBo1ahSCg4OxdOlSxMfHC0xmfm+//bboCBaDa0GVWbRoEf79739j2rRp8Pb2xoIFCzB//nyLHSXCwXtGsLOzw+HDh3WPDx8+DCcnJ9y5cwelpaUCk5lP+RA1hUJR6X+2hGvxZGztnENlo0RKSkoEJqoe9xyMsHTpUkRGRmL69OkAgOeeew7R0dHYvHkz3nzzTcHpzGPTpk1YtGgRVq5cKfuYQqGwqUMpXAu5VatWyfakPvjgA0ydOtXmJhd7eHjg7NmzuhcKSUlJ+NOf/iQ4VdV4KWstyM/Ph729vU3f/UmVkyQJhYWFNvd3g5OL5bKzszFr1iycOnUKLi4uulEiLVu2FB2tUiyHGuDdn3JnzpzBp59+ivz8fL3DBba4FgcOHEB6ejr++c9/IiQkBPfu3cOsWbMQHBwsOprZnDx5EpcuXcLKlSsxadIk3XZ7e3u8+OKLaNGihbhwglnLKBGWQw2U3/25ZcsWuLi4YOjQoXBwcEBKSgrUajUWLVokOKH5KZVKDB8+HK1bt9YrzsdHmtuKYcOGYcmSJTh16hTS09Mxb948hIaGIiEhQXQ0s3vw4AHs7e2RnZ2NNm3aoLi4GK6urqJjmZW1vpjkOYcaKP+FFxMTg+3bt+u2v/TSSzb16vBxLi4uGD16tOgYFqNdu3b46KOPMGTIELi5uUGj0YiOJAQnFwMRERF/+DmWOEqE5WAEtVqNK1eu4Pnnnwfw6M5YW7lK6fd8fX2xfv16+Pr6wtnZWbe9cePGAlOJ8eyzz2LRokU4deoUli9fjujoaJtcB+DRyecvv/wS48aNg6enJzZu3IipU6faVDkYsvc8fvx4ixslwnIwQmRkJEJDQ+Ht7Q1JknD37l2bHMcMAImJiQCAzz//XLdNoVBg3759oiIJs2LFCuzduxdjxoyBq6srmjVrhokTJ4qOJYRWq9V7RfzCCy8ITGO5LPHoPsvBCL6+vti/fz/Onz8PhUKBtm3bwsHBNpd0//79oiNYDDc3NxQWFiI2NhalpaXo3r27zR1nL9ewYUMcOHAACoUC9+/fx8aNG212L6o6lngfjG3+Jqsl7777bqXbbXH6Zn5+PpYvX47s7GysXLkSMTExePfdd1GvXj3R0cxu2bJluHbtGoYNGwZJkpCQkIDr16/b3HX9ALBw4UIsWbIEt27dQv/+/dGjRw8sXLhQdCwyAMvBCI8fSywtLcW+ffss9pplU5s7dy569uyJkydPwtXVFV5eXpg+fTpWr14tOprZff/999i5cyfs7B4NIOjTpw+USqXgVGJwcrH1YjkY4bXXXtN7HBISgpEjRwpKI9aNGzcwfPhwfPXVV3BycsKUKVMwZMgQ0bGEKCsr03sP6bKyMtjb2wtOJQYnFxvGEs85cLZSLbp06RJyc3NFxxDC3t4eDx480B07vXr1qu6Vs61RKpUICwvD+vXrsX79eowZMwaBgYGiYwnh5+eH0NBQJCYmIjExEW+++SY6duwIpVKJ2bNni45nVqtWrZJtK9+rssRDjrwJzgjt2rXTO5H0zDPPYOrUqboR3rbk8OHDWLFiBW7duoXOnTvj559/xvvvv48+ffqIjibEoUOHcPToUUiShB49etjsOlT2bm/BwcFISEiwmXeCs9ZRIjysZISTJ09i06ZNOH78OBwcHNCzZ08MGzZMdCwhevXqhfbt2+PkyZPQarVYuHAhnn32WdGxzOrEiRO6P9epU0fvF8GJEyfQtWtXEbGEKp9c3KtXLwC2ObnY398fly5dwrFjx/TOU9rb22PChAkCk1WPew5GmDt3LgoLCzF48GBotVokJiaiYcOGNre7DAD379/HRx99hGPHjsHBwQF+fn74xz/+ARcXF9HRzCY0NFT357t376JBgwZ4+PAhcnNz0aJFC4sdk2BK58+fR2RkJG7evAmgYnJxamoqGjduLDtv9zSztlEiLAcjKJVKJCcn6x5rtVoEBQXpbbMVb7/9Nlq2bImhQ4dCkiRs374d9+7ds8mbAtetW4eEhATs3LkTN27cwLhx4zBmzBiMGDFCdDRhOLkYOHr0qFWNEuFhJSN4e3vj+vXraNasGQAgNzfX4uajmMvNmzf1TrjNnj0bgwcPFphInC1btmDr1q0AgKZNmyIhIQGvv/66TZWDtQ6bMyVrGyXCcqiB8r/4v/76K4YMGYKuXbvC3t4eGRkZaN26teh4QrzwwgtIT09Hly5dAABnz55F8+bNBacSQ6PRwNHRUff48T/bivJhc1VNLrZF1jZKhOVQA1VNWRw7dqyZk1iOy5cvIzQ0FC1atICDgwOuXLmCevXqoV+/fjY3Y6l///4YM2YMBg4cCIVCgd27d+OVV14RHcusOLlYztpGifCcA9WK69ev49ChQzh27BhKS0vRo0cP9O3bV3fzl63d7JSamooTJ07AwcEBXbt2Rf/+/UVHEmLw4MH46KOP9CYXz5gxA0lJSYKTmd/du3exZMkSpKWlQavVokePHpgzZw68vLxER6sUy4FqRUxMDLKzsxEcHKybJ9SkSRObvHKLKhw5cgSRkZGyycXlhx/JcrEcqFYMGTJEb55QaWkplEolvvnmG8HJSLSSkhJOLob1jRKxzf9LVOs4T4gqw8nFFfz8/NC0aVPdBIWkpCScOnUK/fr1w+zZs/HFF1+IDfg7LAeqFeXzhMpnCH399dc2eykrVeDk4goZGRl6M5RGjRqF4OBgLF26FPHx8QKTVY7lQLUiPDwcf/7zn3XzhMLDw212nhBV4OTiCtY2SoTnHIjIbC5evIjx48fb5DsHWtsoEZYDEZkMJxfLWcsoEZYDEZlMSUmJbHJxSEiIRb5nsqlY6ygRnnMgIpNZtGgRCgsLERwcrJtcfP78eZu6/8VaR4lwz4GITIaTiysMGzZMb5QIUPHGR5bINt/HkYjMonxycTlbnlysVqtx5coV3eNz585Z5FVK5XhYiYhqHScXy0VGRiI0NFQ2SsRS8bASEdW648ePV/vxx2+OsyXWNEqE5UBEZAbWNkrEcmuLiOgpYm2jRLjnQEQkgCRJGDlyJDZt2iQ6SqV4tRIRkQCXLl1Cbm6u6BhV4mElIiIzqGqUiKXiYSUiIjOwtlEiLAciIjOYO3cuCgsLMXjwYN0okYYNG1rsKBEeViIiMoOff/5Zb2xIv379EBQUJDBR9XhCmojIDKxtlAj3HIiITMhaR4nwnAMRkQlZ6ygRlgMREcnwnAMREcmwHIiISIYnpIl+p6ysDOvWrUNycjLKysqg0WjQt29fTJ48GU5OTlV+Xdu2bXH06FHUr1/fjGmJTIN7DkS/s2DBAvz0009Yu3YtEhMTsW3bNly5csVib1YiMgXuORA95saNG0hOTsaRI0fg7u4OAHB1dcV7772HH3/8EQ8ePMB7772Hs2fPQqFQoFevXpg6darem7YkJCRg9+7dWLVqlexxZGQkXFxccP78edy9exf9+vWDh4cHDhw4AJVKhcWLF8PHxweRkZFwd3fHuXPncPv2bbRt2xYxMTFwc3MTsi5ke7jnQPSY06dP44UXXtAVQzlPT08MGDAAixcvhoeHB5KTk7F9+3acO3cOn3322RM9x5kzZ7B27Vps2LABn332GVxdXbFp0yaEhYXh//7v/3Sfl5mZiTVr1mDXrl24efMmUlNTa+VnJDIEy4HoMXZ2dtBqtVV+/NChQxg9ejQUCgWcnJwwYsQIHDp06Imeo2/fvnB0dISnpydcXV3Rq1cvAMBzzz2HvLw83ef16tULTk5OcHR0RJs2bZCfn1+zH4qoBlgORI958cUXcfnyZRQUFOhtz8nJwfjx46HVavWmaGq1WpSWlup9rkKhwOO3D2k0Gr2P//6kdlXvI+zi4lLl9yQyNZYD0WO8vb2hVCoRFRWlK4iCggIsWLAAHh4e8PX1xYYNGyBJEkpKSrBlyxb89a9/1fse9evXx4ULF6BWq6HRaLB7924RPwqRUXhCmuh35s+fj/j4eIwYMQL29vYoKSlB//79ERERgcLCQixevBhKpRIajQa9evVCeHi43tf37NkTXbt2xcCBA+Hp6Ynu3bvj3Llzgn4aoprh+AwiIpLhYSUiIpJhORARkQzLgYiIZFgOREQkw3IgIiIZlgMREcmwHIiISOb/AUlZ6qJY71mUAAAAAElFTkSuQmCC\n"
     },
     "metadata": {}
    },
    {
     "output_type": "stream",
     "name": "stdout",
     "text": [
      "                    Percentual              Column\nName                                              \nbudget_number         4.758889       budget_number\nopening_balance      71.463941     opening_balance\nclosing_balance      71.463941     closing_balance\nbudget_level3_key    98.253923   budget_level3_key\nbudget_level3_name   98.253923  budget_level3_name\nNone\n"
     ]
    }
   ],
=======
   "execution_count": null,
   "metadata": {},
   "outputs": [],
>>>>>>> 8f720b2b4e9cec63e694a4d42aa154bd5f56dde0
   "source": [
    "# Check if there any Nan Field\n",
    "print(plotNaNValuesColums(df_plans_budgets))"
   ]
  },
  {
   "cell_type": "code",
<<<<<<< HEAD
   "execution_count": 12,
   "metadata": {},
   "outputs": [
    {
     "output_type": "execute_result",
     "data": {
      "text/plain": [
       "   budget_status  opening_balance                            member_key  \\\n",
       "63     CONFIRMED              0.0  b3936f00-b462-11ea-9a7d-99d8a325124d   \n",
       "64     CONFIRMED              0.0  b3936f00-b462-11ea-9a7d-99d8a325124d   \n",
       "65     CONFIRMED              0.0  b3936f00-b462-11ea-9a7d-99d8a325124d   \n",
       "66     CONFIRMED              0.0  b3936f00-b462-11ea-9a7d-99d8a325124d   \n",
       "\n",
       "                       budget_level1_key budget_level3_key plan_end_date  \\\n",
       "63  58745466-f597-11e9-bfb4-022d4762bb3c               NaN    2020-03-23   \n",
       "64  58745466-f597-11e9-bfb4-022d4762bb3c               NaN    2020-03-23   \n",
       "65  58745466-f597-11e9-bfb4-022d4762bb3c               NaN    2020-03-23   \n",
       "66  5874551b-f597-11e9-bfb4-022d4762bb3c               NaN    2020-03-23   \n",
       "\n",
       "                       budget_level2_key  closing_balance  \\\n",
       "63  7d0af71b-f597-11e9-bfb4-022d4762bb3c          2833.24   \n",
       "64  7d0af5b1-f597-11e9-bfb4-022d4762bb3c           232.74   \n",
       "65  7d0af53b-f597-11e9-bfb4-022d4762bb3c          7760.68   \n",
       "66  7d0af57b-f597-11e9-bfb4-022d4762bb3c             6.25   \n",
       "\n",
       "    budget_value_allocated budget_level1_name  \\\n",
       "63                 9084.16               Core   \n",
       "64                 2720.20               Core   \n",
       "65                23353.72               Core   \n",
       "66                12182.38  Capacity Building   \n",
       "\n",
       "                                plan_key budget_number plan_start_date  \\\n",
       "63  b4ebac00-b462-11ea-a898-85942aaecf99           NaN      2020-09-25   \n",
       "64  b4ebac00-b462-11ea-a898-85942aaecf99           NaN      2020-09-25   \n",
       "65  b4ebac00-b462-11ea-a898-85942aaecf99           NaN      2020-09-25   \n",
       "66  b4ebac00-b462-11ea-a898-85942aaecf99           NaN      2020-09-25   \n",
       "\n",
       "   budget_level3_name                                 budget_level2_name  \\\n",
       "63                NaN                       Assistance with daily living   \n",
       "64                NaN                                        Consumables   \n",
       "65                NaN  Assistance with social and community participa...   \n",
       "66                NaN                       Improved daily living skills   \n",
       "\n",
       "   plan_status  \n",
       "63   COMPLETED  \n",
       "64   COMPLETED  \n",
       "65   COMPLETED  \n",
       "66   COMPLETED  "
      ],
      "text/html": "<div>\n<style scoped>\n    .dataframe tbody tr th:only-of-type {\n        vertical-align: middle;\n    }\n\n    .dataframe tbody tr th {\n        vertical-align: top;\n    }\n\n    .dataframe thead th {\n        text-align: right;\n    }\n</style>\n<table border=\"1\" class=\"dataframe\">\n  <thead>\n    <tr style=\"text-align: right;\">\n      <th></th>\n      <th>budget_status</th>\n      <th>opening_balance</th>\n      <th>member_key</th>\n      <th>budget_level1_key</th>\n      <th>budget_level3_key</th>\n      <th>plan_end_date</th>\n      <th>budget_level2_key</th>\n      <th>closing_balance</th>\n      <th>budget_value_allocated</th>\n      <th>budget_level1_name</th>\n      <th>plan_key</th>\n      <th>budget_number</th>\n      <th>plan_start_date</th>\n      <th>budget_level3_name</th>\n      <th>budget_level2_name</th>\n      <th>plan_status</th>\n    </tr>\n  </thead>\n  <tbody>\n    <tr>\n      <th>63</th>\n      <td>CONFIRMED</td>\n      <td>0.0</td>\n      <td>b3936f00-b462-11ea-9a7d-99d8a325124d</td>\n      <td>58745466-f597-11e9-bfb4-022d4762bb3c</td>\n      <td>NaN</td>\n      <td>2020-03-23</td>\n      <td>7d0af71b-f597-11e9-bfb4-022d4762bb3c</td>\n      <td>2833.24</td>\n      <td>9084.16</td>\n      <td>Core</td>\n      <td>b4ebac00-b462-11ea-a898-85942aaecf99</td>\n      <td>NaN</td>\n      <td>2020-09-25</td>\n      <td>NaN</td>\n      <td>Assistance with daily living</td>\n      <td>COMPLETED</td>\n    </tr>\n    <tr>\n      <th>64</th>\n      <td>CONFIRMED</td>\n      <td>0.0</td>\n      <td>b3936f00-b462-11ea-9a7d-99d8a325124d</td>\n      <td>58745466-f597-11e9-bfb4-022d4762bb3c</td>\n      <td>NaN</td>\n      <td>2020-03-23</td>\n      <td>7d0af5b1-f597-11e9-bfb4-022d4762bb3c</td>\n      <td>232.74</td>\n      <td>2720.20</td>\n      <td>Core</td>\n      <td>b4ebac00-b462-11ea-a898-85942aaecf99</td>\n      <td>NaN</td>\n      <td>2020-09-25</td>\n      <td>NaN</td>\n      <td>Consumables</td>\n      <td>COMPLETED</td>\n    </tr>\n    <tr>\n      <th>65</th>\n      <td>CONFIRMED</td>\n      <td>0.0</td>\n      <td>b3936f00-b462-11ea-9a7d-99d8a325124d</td>\n      <td>58745466-f597-11e9-bfb4-022d4762bb3c</td>\n      <td>NaN</td>\n      <td>2020-03-23</td>\n      <td>7d0af53b-f597-11e9-bfb4-022d4762bb3c</td>\n      <td>7760.68</td>\n      <td>23353.72</td>\n      <td>Core</td>\n      <td>b4ebac00-b462-11ea-a898-85942aaecf99</td>\n      <td>NaN</td>\n      <td>2020-09-25</td>\n      <td>NaN</td>\n      <td>Assistance with social and community participa...</td>\n      <td>COMPLETED</td>\n    </tr>\n    <tr>\n      <th>66</th>\n      <td>CONFIRMED</td>\n      <td>0.0</td>\n      <td>b3936f00-b462-11ea-9a7d-99d8a325124d</td>\n      <td>5874551b-f597-11e9-bfb4-022d4762bb3c</td>\n      <td>NaN</td>\n      <td>2020-03-23</td>\n      <td>7d0af57b-f597-11e9-bfb4-022d4762bb3c</td>\n      <td>6.25</td>\n      <td>12182.38</td>\n      <td>Capacity Building</td>\n      <td>b4ebac00-b462-11ea-a898-85942aaecf99</td>\n      <td>NaN</td>\n      <td>2020-09-25</td>\n      <td>NaN</td>\n      <td>Improved daily living skills</td>\n      <td>COMPLETED</td>\n    </tr>\n  </tbody>\n</table>\n</div>"
     },
     "metadata": {},
     "execution_count": 12
    }
   ],
=======
   "execution_count": null,
   "metadata": {},
   "outputs": [],
>>>>>>> 8f720b2b4e9cec63e694a4d42aa154bd5f56dde0
   "source": [
    "# Check some budget_number NaN Data to\n",
    "#  Check these data have in commum\n",
    "#   It is seen that when budget_number is null\n",
    "#    opening_balance and closing_balance are not null\n",
    "Null_budget_number = df_plans_budgets.loc[(df_plans_budgets['budget_number'].isna())]\n",
    "Null_budget_number.head(4)"
   ]
  },
  {
   "cell_type": "code",
<<<<<<< HEAD
   "execution_count": 13,
   "metadata": {},
   "outputs": [
    {
     "output_type": "execute_result",
     "data": {
      "text/plain": [
       "  budget_status  opening_balance                            member_key  \\\n",
       "0     CONFIRMED              NaN  ef0ab4c0-891b-11ea-a119-35e8388a5f49   \n",
       "1     CONFIRMED              NaN  6a535640-8b5c-11ea-9eec-315ed4b1385b   \n",
       "2     CONFIRMED              NaN  6a535640-8b5c-11ea-9eec-315ed4b1385b   \n",
       "3     CONFIRMED              NaN  472c17f0-9409-11ea-ba24-1f1ea52ce5bc   \n",
       "\n",
       "                      budget_level1_key budget_level3_key plan_end_date  \\\n",
       "0  5874551b-f597-11e9-bfb4-022d4762bb3c               NaN    2021-04-23   \n",
       "1  5874551b-f597-11e9-bfb4-022d4762bb3c               NaN    2021-04-20   \n",
       "2  58745466-f597-11e9-bfb4-022d4762bb3c               NaN    2021-04-20   \n",
       "3  5874551b-f597-11e9-bfb4-022d4762bb3c               NaN    2020-08-17   \n",
       "\n",
       "                      budget_level2_key  closing_balance  \\\n",
       "0  7d0af57b-f597-11e9-bfb4-022d4762bb3c              NaN   \n",
       "1  7d0af57b-f597-11e9-bfb4-022d4762bb3c              NaN   \n",
       "2  7d0af5b1-f597-11e9-bfb4-022d4762bb3c              NaN   \n",
       "3  7d0af57b-f597-11e9-bfb4-022d4762bb3c              NaN   \n",
       "\n",
       "   budget_value_allocated budget_level1_name  \\\n",
       "0                 8168.00  Capacity Building   \n",
       "1                 7682.04  Capacity Building   \n",
       "2                  300.00               Core   \n",
       "3                 6972.41  Capacity Building   \n",
       "\n",
       "                               plan_key budget_number plan_start_date  \\\n",
       "0  29b86641-62d2-4eb2-9222-311b16ef74cc      55508918      2020-04-24   \n",
       "1  ea2cc969-6c3f-4dbc-9ebe-30df0c9f5b33      55539563      2020-04-20   \n",
       "2  ea2cc969-6c3f-4dbc-9ebe-30df0c9f5b33      55539563      2020-04-20   \n",
       "3  dd735ad0-05eb-42ce-91ba-36e1e032a67a      55612635      2019-09-11   \n",
       "\n",
       "  budget_level3_name            budget_level2_name           plan_status  \n",
       "0                NaN  Improved daily living skills  PLAN_DELIVERY_ACTIVE  \n",
       "1                NaN  Improved daily living skills  PLAN_DELIVERY_ACTIVE  \n",
       "2                NaN                   Consumables  PLAN_DELIVERY_ACTIVE  \n",
       "3                NaN  Improved daily living skills             COMPLETED  "
      ],
      "text/html": "<div>\n<style scoped>\n    .dataframe tbody tr th:only-of-type {\n        vertical-align: middle;\n    }\n\n    .dataframe tbody tr th {\n        vertical-align: top;\n    }\n\n    .dataframe thead th {\n        text-align: right;\n    }\n</style>\n<table border=\"1\" class=\"dataframe\">\n  <thead>\n    <tr style=\"text-align: right;\">\n      <th></th>\n      <th>budget_status</th>\n      <th>opening_balance</th>\n      <th>member_key</th>\n      <th>budget_level1_key</th>\n      <th>budget_level3_key</th>\n      <th>plan_end_date</th>\n      <th>budget_level2_key</th>\n      <th>closing_balance</th>\n      <th>budget_value_allocated</th>\n      <th>budget_level1_name</th>\n      <th>plan_key</th>\n      <th>budget_number</th>\n      <th>plan_start_date</th>\n      <th>budget_level3_name</th>\n      <th>budget_level2_name</th>\n      <th>plan_status</th>\n    </tr>\n  </thead>\n  <tbody>\n    <tr>\n      <th>0</th>\n      <td>CONFIRMED</td>\n      <td>NaN</td>\n      <td>ef0ab4c0-891b-11ea-a119-35e8388a5f49</td>\n      <td>5874551b-f597-11e9-bfb4-022d4762bb3c</td>\n      <td>NaN</td>\n      <td>2021-04-23</td>\n      <td>7d0af57b-f597-11e9-bfb4-022d4762bb3c</td>\n      <td>NaN</td>\n      <td>8168.00</td>\n      <td>Capacity Building</td>\n      <td>29b86641-62d2-4eb2-9222-311b16ef74cc</td>\n      <td>55508918</td>\n      <td>2020-04-24</td>\n      <td>NaN</td>\n      <td>Improved daily living skills</td>\n      <td>PLAN_DELIVERY_ACTIVE</td>\n    </tr>\n    <tr>\n      <th>1</th>\n      <td>CONFIRMED</td>\n      <td>NaN</td>\n      <td>6a535640-8b5c-11ea-9eec-315ed4b1385b</td>\n      <td>5874551b-f597-11e9-bfb4-022d4762bb3c</td>\n      <td>NaN</td>\n      <td>2021-04-20</td>\n      <td>7d0af57b-f597-11e9-bfb4-022d4762bb3c</td>\n      <td>NaN</td>\n      <td>7682.04</td>\n      <td>Capacity Building</td>\n      <td>ea2cc969-6c3f-4dbc-9ebe-30df0c9f5b33</td>\n      <td>55539563</td>\n      <td>2020-04-20</td>\n      <td>NaN</td>\n      <td>Improved daily living skills</td>\n      <td>PLAN_DELIVERY_ACTIVE</td>\n    </tr>\n    <tr>\n      <th>2</th>\n      <td>CONFIRMED</td>\n      <td>NaN</td>\n      <td>6a535640-8b5c-11ea-9eec-315ed4b1385b</td>\n      <td>58745466-f597-11e9-bfb4-022d4762bb3c</td>\n      <td>NaN</td>\n      <td>2021-04-20</td>\n      <td>7d0af5b1-f597-11e9-bfb4-022d4762bb3c</td>\n      <td>NaN</td>\n      <td>300.00</td>\n      <td>Core</td>\n      <td>ea2cc969-6c3f-4dbc-9ebe-30df0c9f5b33</td>\n      <td>55539563</td>\n      <td>2020-04-20</td>\n      <td>NaN</td>\n      <td>Consumables</td>\n      <td>PLAN_DELIVERY_ACTIVE</td>\n    </tr>\n    <tr>\n      <th>3</th>\n      <td>CONFIRMED</td>\n      <td>NaN</td>\n      <td>472c17f0-9409-11ea-ba24-1f1ea52ce5bc</td>\n      <td>5874551b-f597-11e9-bfb4-022d4762bb3c</td>\n      <td>NaN</td>\n      <td>2020-08-17</td>\n      <td>7d0af57b-f597-11e9-bfb4-022d4762bb3c</td>\n      <td>NaN</td>\n      <td>6972.41</td>\n      <td>Capacity Building</td>\n      <td>dd735ad0-05eb-42ce-91ba-36e1e032a67a</td>\n      <td>55612635</td>\n      <td>2019-09-11</td>\n      <td>NaN</td>\n      <td>Improved daily living skills</td>\n      <td>COMPLETED</td>\n    </tr>\n  </tbody>\n</table>\n</div>"
     },
     "metadata": {},
     "execution_count": 13
    }
   ],
=======
   "execution_count": null,
   "metadata": {},
   "outputs": [],
>>>>>>> 8f720b2b4e9cec63e694a4d42aa154bd5f56dde0
   "source": [
    "# Check some budget_number Not NaN Data to\n",
    "#  Check these data have in commum\n",
    "#   It is seen that when budget_number is null\n",
    "#    opening_balance and closing_balance are null\n",
    "Null_budget_number = df_plans_budgets.loc[(df_plans_budgets['budget_number'].notna())]\n",
    "Null_budget_number.head(4)"
   ]
  },
  {
   "cell_type": "code",
<<<<<<< HEAD
   "execution_count": 14,
   "metadata": {},
   "outputs": [
    {
     "output_type": "display_data",
     "data": {
      "text/plain": "<Figure size 432x288 with 1 Axes>",
      "image/svg+xml": "<?xml version=\"1.0\" encoding=\"utf-8\" standalone=\"no\"?>\r\n<!DOCTYPE svg PUBLIC \"-//W3C//DTD SVG 1.1//EN\"\r\n  \"http://www.w3.org/Graphics/SVG/1.1/DTD/svg11.dtd\">\r\n<!-- Created with matplotlib (https://matplotlib.org/) -->\r\n<svg height=\"340.106875pt\" version=\"1.1\" viewBox=\"0 0 392.025469 340.106875\" width=\"392.025469pt\" xmlns=\"http://www.w3.org/2000/svg\" xmlns:xlink=\"http://www.w3.org/1999/xlink\">\r\n <defs>\r\n  <style type=\"text/css\">\r\n*{stroke-linecap:butt;stroke-linejoin:round;}\r\n  </style>\r\n </defs>\r\n <g id=\"figure_1\">\r\n  <g id=\"patch_1\">\r\n   <path d=\"M 0 340.106875 \r\nL 392.025469 340.106875 \r\nL 392.025469 0 \r\nL 0 0 \r\nz\r\n\" style=\"fill:#ffffff;\"/>\r\n  </g>\r\n  <g id=\"axes_1\">\r\n   <g id=\"patch_2\">\r\n    <path d=\"M 50.025469 224.64 \r\nL 384.825469 224.64 \r\nL 384.825469 7.2 \r\nL 50.025469 7.2 \r\nz\r\n\" style=\"fill:#ffffff;\"/>\r\n   </g>\r\n   <g id=\"matplotlib.axis_1\">\r\n    <g id=\"xtick_1\">\r\n     <g id=\"text_1\">\r\n      <!-- opening_balance -->\r\n      <defs>\r\n       <path d=\"M 3.328125 25.921875 \r\nQ 3.328125 40.328125 11.328125 47.265625 \r\nQ 18.015625 53.03125 27.640625 53.03125 \r\nQ 38.328125 53.03125 45.109375 46.015625 \r\nQ 51.90625 39.015625 51.90625 26.65625 \r\nQ 51.90625 16.65625 48.90625 10.90625 \r\nQ 45.90625 5.171875 40.15625 2 \r\nQ 34.421875 -1.171875 27.640625 -1.171875 \r\nQ 16.75 -1.171875 10.03125 5.8125 \r\nQ 3.328125 12.796875 3.328125 25.921875 \r\nz\r\nM 12.359375 25.921875 \r\nQ 12.359375 15.96875 16.703125 11.015625 \r\nQ 21.046875 6.0625 27.640625 6.0625 \r\nQ 34.1875 6.0625 38.53125 11.03125 \r\nQ 42.875 16.015625 42.875 26.21875 \r\nQ 42.875 35.84375 38.5 40.796875 \r\nQ 34.125 45.75 27.640625 45.75 \r\nQ 21.046875 45.75 16.703125 40.8125 \r\nQ 12.359375 35.890625 12.359375 25.921875 \r\nz\r\n\" id=\"ArialMT-111\"/>\r\n       <path d=\"M 6.59375 -19.875 \r\nL 6.59375 51.859375 \r\nL 14.59375 51.859375 \r\nL 14.59375 45.125 \r\nQ 17.4375 49.078125 21 51.046875 \r\nQ 24.5625 53.03125 29.640625 53.03125 \r\nQ 36.28125 53.03125 41.359375 49.609375 \r\nQ 46.4375 46.1875 49.015625 39.953125 \r\nQ 51.609375 33.734375 51.609375 26.3125 \r\nQ 51.609375 18.359375 48.75 11.984375 \r\nQ 45.90625 5.609375 40.453125 2.21875 \r\nQ 35.015625 -1.171875 29 -1.171875 \r\nQ 24.609375 -1.171875 21.109375 0.6875 \r\nQ 17.625 2.546875 15.375 5.375 \r\nL 15.375 -19.875 \r\nz\r\nM 14.546875 25.640625 \r\nQ 14.546875 15.625 18.59375 10.84375 \r\nQ 22.65625 6.0625 28.421875 6.0625 \r\nQ 34.28125 6.0625 38.453125 11.015625 \r\nQ 42.625 15.96875 42.625 26.375 \r\nQ 42.625 36.28125 38.546875 41.203125 \r\nQ 34.46875 46.140625 28.8125 46.140625 \r\nQ 23.1875 46.140625 18.859375 40.890625 \r\nQ 14.546875 35.640625 14.546875 25.640625 \r\nz\r\n\" id=\"ArialMT-112\"/>\r\n       <path d=\"M 42.09375 16.703125 \r\nL 51.171875 15.578125 \r\nQ 49.03125 7.625 43.21875 3.21875 \r\nQ 37.40625 -1.171875 28.375 -1.171875 \r\nQ 17 -1.171875 10.328125 5.828125 \r\nQ 3.65625 12.84375 3.65625 25.484375 \r\nQ 3.65625 38.578125 10.390625 45.796875 \r\nQ 17.140625 53.03125 27.875 53.03125 \r\nQ 38.28125 53.03125 44.875 45.953125 \r\nQ 51.46875 38.875 51.46875 26.03125 \r\nQ 51.46875 25.25 51.421875 23.6875 \r\nL 12.75 23.6875 \r\nQ 13.234375 15.140625 17.578125 10.59375 \r\nQ 21.921875 6.0625 28.421875 6.0625 \r\nQ 33.25 6.0625 36.671875 8.59375 \r\nQ 40.09375 11.140625 42.09375 16.703125 \r\nz\r\nM 13.234375 30.90625 \r\nL 42.1875 30.90625 \r\nQ 41.609375 37.453125 38.875 40.71875 \r\nQ 34.671875 45.796875 27.984375 45.796875 \r\nQ 21.921875 45.796875 17.796875 41.75 \r\nQ 13.671875 37.703125 13.234375 30.90625 \r\nz\r\n\" id=\"ArialMT-101\"/>\r\n       <path d=\"M 6.59375 0 \r\nL 6.59375 51.859375 \r\nL 14.5 51.859375 \r\nL 14.5 44.484375 \r\nQ 20.21875 53.03125 31 53.03125 \r\nQ 35.6875 53.03125 39.625 51.34375 \r\nQ 43.5625 49.65625 45.515625 46.921875 \r\nQ 47.46875 44.1875 48.25 40.4375 \r\nQ 48.734375 37.984375 48.734375 31.890625 \r\nL 48.734375 0 \r\nL 39.9375 0 \r\nL 39.9375 31.546875 \r\nQ 39.9375 36.921875 38.90625 39.578125 \r\nQ 37.890625 42.234375 35.28125 43.8125 \r\nQ 32.671875 45.40625 29.15625 45.40625 \r\nQ 23.53125 45.40625 19.453125 41.84375 \r\nQ 15.375 38.28125 15.375 28.328125 \r\nL 15.375 0 \r\nz\r\n\" id=\"ArialMT-110\"/>\r\n       <path d=\"M 6.640625 61.46875 \r\nL 6.640625 71.578125 \r\nL 15.4375 71.578125 \r\nL 15.4375 61.46875 \r\nz\r\nM 6.640625 0 \r\nL 6.640625 51.859375 \r\nL 15.4375 51.859375 \r\nL 15.4375 0 \r\nz\r\n\" id=\"ArialMT-105\"/>\r\n       <path d=\"M 4.984375 -4.296875 \r\nL 13.53125 -5.5625 \r\nQ 14.0625 -9.515625 16.5 -11.328125 \r\nQ 19.78125 -13.765625 25.4375 -13.765625 \r\nQ 31.546875 -13.765625 34.859375 -11.328125 \r\nQ 38.1875 -8.890625 39.359375 -4.5 \r\nQ 40.046875 -1.8125 39.984375 6.78125 \r\nQ 34.234375 0 25.640625 0 \r\nQ 14.9375 0 9.078125 7.71875 \r\nQ 3.21875 15.4375 3.21875 26.21875 \r\nQ 3.21875 33.640625 5.90625 39.90625 \r\nQ 8.59375 46.1875 13.6875 49.609375 \r\nQ 18.796875 53.03125 25.6875 53.03125 \r\nQ 34.859375 53.03125 40.828125 45.609375 \r\nL 40.828125 51.859375 \r\nL 48.921875 51.859375 \r\nL 48.921875 7.03125 \r\nQ 48.921875 -5.078125 46.453125 -10.125 \r\nQ 44 -15.1875 38.640625 -18.109375 \r\nQ 33.296875 -21.046875 25.484375 -21.046875 \r\nQ 16.21875 -21.046875 10.5 -16.875 \r\nQ 4.78125 -12.703125 4.984375 -4.296875 \r\nz\r\nM 12.25 26.859375 \r\nQ 12.25 16.65625 16.296875 11.96875 \r\nQ 20.359375 7.28125 26.46875 7.28125 \r\nQ 32.515625 7.28125 36.609375 11.9375 \r\nQ 40.71875 16.609375 40.71875 26.5625 \r\nQ 40.71875 36.078125 36.5 40.90625 \r\nQ 32.28125 45.75 26.3125 45.75 \r\nQ 20.453125 45.75 16.34375 40.984375 \r\nQ 12.25 36.234375 12.25 26.859375 \r\nz\r\n\" id=\"ArialMT-103\"/>\r\n       <path d=\"M -1.515625 -19.875 \r\nL -1.515625 -13.53125 \r\nL 56.734375 -13.53125 \r\nL 56.734375 -19.875 \r\nz\r\n\" id=\"ArialMT-95\"/>\r\n       <path d=\"M 14.703125 0 \r\nL 6.546875 0 \r\nL 6.546875 71.578125 \r\nL 15.328125 71.578125 \r\nL 15.328125 46.046875 \r\nQ 20.90625 53.03125 29.546875 53.03125 \r\nQ 34.328125 53.03125 38.59375 51.09375 \r\nQ 42.875 49.171875 45.625 45.671875 \r\nQ 48.390625 42.1875 49.953125 37.25 \r\nQ 51.515625 32.328125 51.515625 26.703125 \r\nQ 51.515625 13.375 44.921875 6.09375 \r\nQ 38.328125 -1.171875 29.109375 -1.171875 \r\nQ 19.921875 -1.171875 14.703125 6.5 \r\nz\r\nM 14.59375 26.3125 \r\nQ 14.59375 17 17.140625 12.84375 \r\nQ 21.296875 6.0625 28.375 6.0625 \r\nQ 34.125 6.0625 38.328125 11.0625 \r\nQ 42.53125 16.0625 42.53125 25.984375 \r\nQ 42.53125 36.140625 38.5 40.96875 \r\nQ 34.46875 45.796875 28.765625 45.796875 \r\nQ 23 45.796875 18.796875 40.796875 \r\nQ 14.59375 35.796875 14.59375 26.3125 \r\nz\r\n\" id=\"ArialMT-98\"/>\r\n       <path d=\"M 40.4375 6.390625 \r\nQ 35.546875 2.25 31.03125 0.53125 \r\nQ 26.515625 -1.171875 21.34375 -1.171875 \r\nQ 12.796875 -1.171875 8.203125 3 \r\nQ 3.609375 7.171875 3.609375 13.671875 \r\nQ 3.609375 17.484375 5.34375 20.625 \r\nQ 7.078125 23.78125 9.890625 25.6875 \r\nQ 12.703125 27.59375 16.21875 28.5625 \r\nQ 18.796875 29.25 24.03125 29.890625 \r\nQ 34.671875 31.15625 39.703125 32.90625 \r\nQ 39.75 34.71875 39.75 35.203125 \r\nQ 39.75 40.578125 37.25 42.78125 \r\nQ 33.890625 45.75 27.25 45.75 \r\nQ 21.046875 45.75 18.09375 43.578125 \r\nQ 15.140625 41.40625 13.71875 35.890625 \r\nL 5.125 37.0625 \r\nQ 6.296875 42.578125 8.984375 45.96875 \r\nQ 11.671875 49.359375 16.75 51.1875 \r\nQ 21.828125 53.03125 28.515625 53.03125 \r\nQ 35.15625 53.03125 39.296875 51.46875 \r\nQ 43.453125 49.90625 45.40625 47.53125 \r\nQ 47.359375 45.171875 48.140625 41.546875 \r\nQ 48.578125 39.3125 48.578125 33.453125 \r\nL 48.578125 21.734375 \r\nQ 48.578125 9.46875 49.140625 6.21875 \r\nQ 49.703125 2.984375 51.375 0 \r\nL 42.1875 0 \r\nQ 40.828125 2.734375 40.4375 6.390625 \r\nz\r\nM 39.703125 26.03125 \r\nQ 34.90625 24.078125 25.34375 22.703125 \r\nQ 19.921875 21.921875 17.671875 20.9375 \r\nQ 15.4375 19.96875 14.203125 18.09375 \r\nQ 12.984375 16.21875 12.984375 13.921875 \r\nQ 12.984375 10.40625 15.640625 8.0625 \r\nQ 18.3125 5.71875 23.4375 5.71875 \r\nQ 28.515625 5.71875 32.46875 7.9375 \r\nQ 36.421875 10.15625 38.28125 14.015625 \r\nQ 39.703125 17 39.703125 22.796875 \r\nz\r\n\" id=\"ArialMT-97\"/>\r\n       <path d=\"M 6.390625 0 \r\nL 6.390625 71.578125 \r\nL 15.1875 71.578125 \r\nL 15.1875 0 \r\nz\r\n\" id=\"ArialMT-108\"/>\r\n       <path d=\"M 40.4375 19 \r\nL 49.078125 17.875 \r\nQ 47.65625 8.9375 41.8125 3.875 \r\nQ 35.984375 -1.171875 27.484375 -1.171875 \r\nQ 16.84375 -1.171875 10.375 5.78125 \r\nQ 3.90625 12.75 3.90625 25.734375 \r\nQ 3.90625 34.125 6.6875 40.421875 \r\nQ 9.46875 46.734375 15.15625 49.875 \r\nQ 20.84375 53.03125 27.546875 53.03125 \r\nQ 35.984375 53.03125 41.359375 48.75 \r\nQ 46.734375 44.484375 48.25 36.625 \r\nL 39.703125 35.296875 \r\nQ 38.484375 40.53125 35.375 43.15625 \r\nQ 32.28125 45.796875 27.875 45.796875 \r\nQ 21.234375 45.796875 17.078125 41.03125 \r\nQ 12.9375 36.28125 12.9375 25.984375 \r\nQ 12.9375 15.53125 16.9375 10.796875 \r\nQ 20.953125 6.0625 27.390625 6.0625 \r\nQ 32.5625 6.0625 36.03125 9.234375 \r\nQ 39.5 12.40625 40.4375 19 \r\nz\r\n\" id=\"ArialMT-99\"/>\r\n      </defs>\r\n      <g style=\"fill:#262626;\" transform=\"translate(136.504687 317.9325)rotate(-90)scale(0.11 -0.11)\">\r\n       <use xlink:href=\"#ArialMT-111\"/>\r\n       <use x=\"55.615234\" xlink:href=\"#ArialMT-112\"/>\r\n       <use x=\"111.230469\" xlink:href=\"#ArialMT-101\"/>\r\n       <use x=\"166.845703\" xlink:href=\"#ArialMT-110\"/>\r\n       <use x=\"222.460938\" xlink:href=\"#ArialMT-105\"/>\r\n       <use x=\"244.677734\" xlink:href=\"#ArialMT-110\"/>\r\n       <use x=\"300.292969\" xlink:href=\"#ArialMT-103\"/>\r\n       <use x=\"355.908203\" xlink:href=\"#ArialMT-95\"/>\r\n       <use x=\"411.523438\" xlink:href=\"#ArialMT-98\"/>\r\n       <use x=\"467.138672\" xlink:href=\"#ArialMT-97\"/>\r\n       <use x=\"522.753906\" xlink:href=\"#ArialMT-108\"/>\r\n       <use x=\"544.970703\" xlink:href=\"#ArialMT-97\"/>\r\n       <use x=\"600.585938\" xlink:href=\"#ArialMT-110\"/>\r\n       <use x=\"656.201172\" xlink:href=\"#ArialMT-99\"/>\r\n       <use x=\"706.201172\" xlink:href=\"#ArialMT-101\"/>\r\n      </g>\r\n     </g>\r\n    </g>\r\n    <g id=\"xtick_2\">\r\n     <g id=\"text_2\">\r\n      <!-- closing_balance -->\r\n      <defs>\r\n       <path d=\"M 3.078125 15.484375 \r\nL 11.765625 16.84375 \r\nQ 12.5 11.625 15.84375 8.84375 \r\nQ 19.1875 6.0625 25.203125 6.0625 \r\nQ 31.25 6.0625 34.171875 8.515625 \r\nQ 37.109375 10.984375 37.109375 14.3125 \r\nQ 37.109375 17.28125 34.515625 19 \r\nQ 32.71875 20.171875 25.53125 21.96875 \r\nQ 15.875 24.421875 12.140625 26.203125 \r\nQ 8.40625 27.984375 6.46875 31.125 \r\nQ 4.546875 34.28125 4.546875 38.09375 \r\nQ 4.546875 41.546875 6.125 44.5 \r\nQ 7.71875 47.46875 10.453125 49.421875 \r\nQ 12.5 50.921875 16.03125 51.96875 \r\nQ 19.578125 53.03125 23.640625 53.03125 \r\nQ 29.734375 53.03125 34.34375 51.265625 \r\nQ 38.96875 49.515625 41.15625 46.5 \r\nQ 43.359375 43.5 44.1875 38.484375 \r\nL 35.59375 37.3125 \r\nQ 35.015625 41.3125 32.203125 43.546875 \r\nQ 29.390625 45.796875 24.265625 45.796875 \r\nQ 18.21875 45.796875 15.625 43.796875 \r\nQ 13.03125 41.796875 13.03125 39.109375 \r\nQ 13.03125 37.40625 14.109375 36.03125 \r\nQ 15.1875 34.625 17.484375 33.6875 \r\nQ 18.796875 33.203125 25.25 31.453125 \r\nQ 34.578125 28.953125 38.25 27.359375 \r\nQ 41.9375 25.78125 44.03125 22.75 \r\nQ 46.140625 19.734375 46.140625 15.234375 \r\nQ 46.140625 10.84375 43.578125 6.953125 \r\nQ 41.015625 3.078125 36.171875 0.953125 \r\nQ 31.34375 -1.171875 25.25 -1.171875 \r\nQ 15.140625 -1.171875 9.84375 3.03125 \r\nQ 4.546875 7.234375 3.078125 15.484375 \r\nz\r\n\" id=\"ArialMT-115\"/>\r\n      </defs>\r\n      <g style=\"fill:#262626;\" transform=\"translate(303.904687 313.025469)rotate(-90)scale(0.11 -0.11)\">\r\n       <use xlink:href=\"#ArialMT-99\"/>\r\n       <use x=\"50\" xlink:href=\"#ArialMT-108\"/>\r\n       <use x=\"72.216797\" xlink:href=\"#ArialMT-111\"/>\r\n       <use x=\"127.832031\" xlink:href=\"#ArialMT-115\"/>\r\n       <use x=\"177.832031\" xlink:href=\"#ArialMT-105\"/>\r\n       <use x=\"200.048828\" xlink:href=\"#ArialMT-110\"/>\r\n       <use x=\"255.664062\" xlink:href=\"#ArialMT-103\"/>\r\n       <use x=\"311.279297\" xlink:href=\"#ArialMT-95\"/>\r\n       <use x=\"366.894531\" xlink:href=\"#ArialMT-98\"/>\r\n       <use x=\"422.509766\" xlink:href=\"#ArialMT-97\"/>\r\n       <use x=\"478.125\" xlink:href=\"#ArialMT-108\"/>\r\n       <use x=\"500.341797\" xlink:href=\"#ArialMT-97\"/>\r\n       <use x=\"555.957031\" xlink:href=\"#ArialMT-110\"/>\r\n       <use x=\"611.572266\" xlink:href=\"#ArialMT-99\"/>\r\n       <use x=\"661.572266\" xlink:href=\"#ArialMT-101\"/>\r\n      </g>\r\n     </g>\r\n    </g>\r\n    <g id=\"text_3\">\r\n     <!-- Column -->\r\n     <defs>\r\n      <path d=\"M 58.796875 25.09375 \r\nL 68.265625 22.703125 \r\nQ 65.28125 11.03125 57.546875 4.90625 \r\nQ 49.8125 -1.21875 38.625 -1.21875 \r\nQ 27.046875 -1.21875 19.796875 3.484375 \r\nQ 12.546875 8.203125 8.765625 17.140625 \r\nQ 4.984375 26.078125 4.984375 36.328125 \r\nQ 4.984375 47.515625 9.25 55.828125 \r\nQ 13.53125 64.15625 21.40625 68.46875 \r\nQ 29.296875 72.796875 38.765625 72.796875 \r\nQ 49.515625 72.796875 56.828125 67.328125 \r\nQ 64.15625 61.859375 67.046875 51.953125 \r\nL 57.71875 49.75 \r\nQ 55.21875 57.5625 50.484375 61.125 \r\nQ 45.75 64.703125 38.578125 64.703125 \r\nQ 30.328125 64.703125 24.78125 60.734375 \r\nQ 19.234375 56.78125 16.984375 50.109375 \r\nQ 14.75 43.453125 14.75 36.375 \r\nQ 14.75 27.25 17.40625 20.4375 \r\nQ 20.0625 13.625 25.671875 10.25 \r\nQ 31.296875 6.890625 37.84375 6.890625 \r\nQ 45.796875 6.890625 51.3125 11.46875 \r\nQ 56.84375 16.0625 58.796875 25.09375 \r\nz\r\n\" id=\"ArialMT-67\"/>\r\n      <path d=\"M 40.578125 0 \r\nL 40.578125 7.625 \r\nQ 34.515625 -1.171875 24.125 -1.171875 \r\nQ 19.53125 -1.171875 15.546875 0.578125 \r\nQ 11.578125 2.34375 9.640625 5 \r\nQ 7.71875 7.671875 6.9375 11.53125 \r\nQ 6.390625 14.109375 6.390625 19.734375 \r\nL 6.390625 51.859375 \r\nL 15.1875 51.859375 \r\nL 15.1875 23.09375 \r\nQ 15.1875 16.21875 15.71875 13.8125 \r\nQ 16.546875 10.359375 19.234375 8.375 \r\nQ 21.921875 6.390625 25.875 6.390625 \r\nQ 29.828125 6.390625 33.296875 8.421875 \r\nQ 36.765625 10.453125 38.203125 13.9375 \r\nQ 39.65625 17.4375 39.65625 24.078125 \r\nL 39.65625 51.859375 \r\nL 48.4375 51.859375 \r\nL 48.4375 0 \r\nz\r\n\" id=\"ArialMT-117\"/>\r\n      <path d=\"M 6.59375 0 \r\nL 6.59375 51.859375 \r\nL 14.453125 51.859375 \r\nL 14.453125 44.578125 \r\nQ 16.890625 48.390625 20.9375 50.703125 \r\nQ 25 53.03125 30.171875 53.03125 \r\nQ 35.9375 53.03125 39.625 50.640625 \r\nQ 43.3125 48.25 44.828125 43.953125 \r\nQ 50.984375 53.03125 60.84375 53.03125 \r\nQ 68.5625 53.03125 72.703125 48.75 \r\nQ 76.859375 44.484375 76.859375 35.59375 \r\nL 76.859375 0 \r\nL 68.109375 0 \r\nL 68.109375 32.671875 \r\nQ 68.109375 37.9375 67.25 40.25 \r\nQ 66.40625 42.578125 64.15625 43.984375 \r\nQ 61.921875 45.40625 58.890625 45.40625 \r\nQ 53.421875 45.40625 49.796875 41.765625 \r\nQ 46.1875 38.140625 46.1875 30.125 \r\nL 46.1875 0 \r\nL 37.40625 0 \r\nL 37.40625 33.6875 \r\nQ 37.40625 39.546875 35.25 42.46875 \r\nQ 33.109375 45.40625 28.21875 45.40625 \r\nQ 24.515625 45.40625 21.359375 43.453125 \r\nQ 18.21875 41.5 16.796875 37.734375 \r\nQ 15.375 33.984375 15.375 26.90625 \r\nL 15.375 0 \r\nz\r\n\" id=\"ArialMT-109\"/>\r\n     </defs>\r\n     <g style=\"fill:#262626;\" transform=\"translate(196.751719 330.521875)scale(0.12 -0.12)\">\r\n      <use xlink:href=\"#ArialMT-67\"/>\r\n      <use x=\"72.216797\" xlink:href=\"#ArialMT-111\"/>\r\n      <use x=\"127.832031\" xlink:href=\"#ArialMT-108\"/>\r\n      <use x=\"150.048828\" xlink:href=\"#ArialMT-117\"/>\r\n      <use x=\"205.664062\" xlink:href=\"#ArialMT-109\"/>\r\n      <use x=\"288.964844\" xlink:href=\"#ArialMT-110\"/>\r\n     </g>\r\n    </g>\r\n   </g>\r\n   <g id=\"matplotlib.axis_2\">\r\n    <g id=\"ytick_1\">\r\n     <g id=\"line2d_1\">\r\n      <path clip-path=\"url(#p6174758bf5)\" d=\"M 50.025469 224.64 \r\nL 384.825469 224.64 \r\n\" style=\"fill:none;stroke:#cccccc;stroke-linecap:round;\"/>\r\n     </g>\r\n     <g id=\"text_4\">\r\n      <!-- 0 -->\r\n      <defs>\r\n       <path d=\"M 4.15625 35.296875 \r\nQ 4.15625 48 6.765625 55.734375 \r\nQ 9.375 63.484375 14.515625 67.671875 \r\nQ 19.671875 71.875 27.484375 71.875 \r\nQ 33.25 71.875 37.59375 69.546875 \r\nQ 41.9375 67.234375 44.765625 62.859375 \r\nQ 47.609375 58.5 49.21875 52.21875 \r\nQ 50.828125 45.953125 50.828125 35.296875 \r\nQ 50.828125 22.703125 48.234375 14.96875 \r\nQ 45.65625 7.234375 40.5 3 \r\nQ 35.359375 -1.21875 27.484375 -1.21875 \r\nQ 17.140625 -1.21875 11.234375 6.203125 \r\nQ 4.15625 15.140625 4.15625 35.296875 \r\nz\r\nM 13.1875 35.296875 \r\nQ 13.1875 17.671875 17.3125 11.828125 \r\nQ 21.4375 6 27.484375 6 \r\nQ 33.546875 6 37.671875 11.859375 \r\nQ 41.796875 17.71875 41.796875 35.296875 \r\nQ 41.796875 52.984375 37.671875 58.78125 \r\nQ 33.546875 64.59375 27.390625 64.59375 \r\nQ 21.34375 64.59375 17.71875 59.46875 \r\nQ 13.1875 52.9375 13.1875 35.296875 \r\nz\r\n\" id=\"ArialMT-48\"/>\r\n      </defs>\r\n      <g style=\"fill:#262626;\" transform=\"translate(34.408438 228.576797)scale(0.11 -0.11)\">\r\n       <use xlink:href=\"#ArialMT-48\"/>\r\n      </g>\r\n     </g>\r\n    </g>\r\n    <g id=\"ytick_2\">\r\n     <g id=\"line2d_2\">\r\n      <path clip-path=\"url(#p6174758bf5)\" d=\"M 50.025469 183.222857 \r\nL 384.825469 183.222857 \r\n\" style=\"fill:none;stroke:#cccccc;stroke-linecap:round;\"/>\r\n     </g>\r\n     <g id=\"text_5\">\r\n      <!-- 20 -->\r\n      <defs>\r\n       <path d=\"M 50.34375 8.453125 \r\nL 50.34375 0 \r\nL 3.03125 0 \r\nQ 2.9375 3.171875 4.046875 6.109375 \r\nQ 5.859375 10.9375 9.828125 15.625 \r\nQ 13.8125 20.3125 21.34375 26.46875 \r\nQ 33.015625 36.03125 37.109375 41.625 \r\nQ 41.21875 47.21875 41.21875 52.203125 \r\nQ 41.21875 57.421875 37.46875 61 \r\nQ 33.734375 64.59375 27.734375 64.59375 \r\nQ 21.390625 64.59375 17.578125 60.78125 \r\nQ 13.765625 56.984375 13.71875 50.25 \r\nL 4.6875 51.171875 \r\nQ 5.609375 61.28125 11.65625 66.578125 \r\nQ 17.71875 71.875 27.9375 71.875 \r\nQ 38.234375 71.875 44.234375 66.15625 \r\nQ 50.25 60.453125 50.25 52 \r\nQ 50.25 47.703125 48.484375 43.546875 \r\nQ 46.734375 39.40625 42.65625 34.8125 \r\nQ 38.578125 30.21875 29.109375 22.21875 \r\nQ 21.1875 15.578125 18.9375 13.203125 \r\nQ 16.703125 10.84375 15.234375 8.453125 \r\nz\r\n\" id=\"ArialMT-50\"/>\r\n      </defs>\r\n      <g style=\"fill:#262626;\" transform=\"translate(28.291406 187.159654)scale(0.11 -0.11)\">\r\n       <use xlink:href=\"#ArialMT-50\"/>\r\n       <use x=\"55.615234\" xlink:href=\"#ArialMT-48\"/>\r\n      </g>\r\n     </g>\r\n    </g>\r\n    <g id=\"ytick_3\">\r\n     <g id=\"line2d_3\">\r\n      <path clip-path=\"url(#p6174758bf5)\" d=\"M 50.025469 141.805714 \r\nL 384.825469 141.805714 \r\n\" style=\"fill:none;stroke:#cccccc;stroke-linecap:round;\"/>\r\n     </g>\r\n     <g id=\"text_6\">\r\n      <!-- 40 -->\r\n      <defs>\r\n       <path d=\"M 32.328125 0 \r\nL 32.328125 17.140625 \r\nL 1.265625 17.140625 \r\nL 1.265625 25.203125 \r\nL 33.9375 71.578125 \r\nL 41.109375 71.578125 \r\nL 41.109375 25.203125 \r\nL 50.78125 25.203125 \r\nL 50.78125 17.140625 \r\nL 41.109375 17.140625 \r\nL 41.109375 0 \r\nz\r\nM 32.328125 25.203125 \r\nL 32.328125 57.46875 \r\nL 9.90625 25.203125 \r\nz\r\n\" id=\"ArialMT-52\"/>\r\n      </defs>\r\n      <g style=\"fill:#262626;\" transform=\"translate(28.291406 145.742511)scale(0.11 -0.11)\">\r\n       <use xlink:href=\"#ArialMT-52\"/>\r\n       <use x=\"55.615234\" xlink:href=\"#ArialMT-48\"/>\r\n      </g>\r\n     </g>\r\n    </g>\r\n    <g id=\"ytick_4\">\r\n     <g id=\"line2d_4\">\r\n      <path clip-path=\"url(#p6174758bf5)\" d=\"M 50.025469 100.388571 \r\nL 384.825469 100.388571 \r\n\" style=\"fill:none;stroke:#cccccc;stroke-linecap:round;\"/>\r\n     </g>\r\n     <g id=\"text_7\">\r\n      <!-- 60 -->\r\n      <defs>\r\n       <path d=\"M 49.75 54.046875 \r\nL 41.015625 53.375 \r\nQ 39.84375 58.546875 37.703125 60.890625 \r\nQ 34.125 64.65625 28.90625 64.65625 \r\nQ 24.703125 64.65625 21.53125 62.3125 \r\nQ 17.390625 59.28125 14.984375 53.46875 \r\nQ 12.59375 47.65625 12.5 36.921875 \r\nQ 15.671875 41.75 20.265625 44.09375 \r\nQ 24.859375 46.4375 29.890625 46.4375 \r\nQ 38.671875 46.4375 44.84375 39.96875 \r\nQ 51.03125 33.5 51.03125 23.25 \r\nQ 51.03125 16.5 48.125 10.71875 \r\nQ 45.21875 4.9375 40.140625 1.859375 \r\nQ 35.0625 -1.21875 28.609375 -1.21875 \r\nQ 17.625 -1.21875 10.6875 6.859375 \r\nQ 3.765625 14.9375 3.765625 33.5 \r\nQ 3.765625 54.25 11.421875 63.671875 \r\nQ 18.109375 71.875 29.4375 71.875 \r\nQ 37.890625 71.875 43.28125 67.140625 \r\nQ 48.6875 62.40625 49.75 54.046875 \r\nz\r\nM 13.875 23.1875 \r\nQ 13.875 18.65625 15.796875 14.5 \r\nQ 17.71875 10.359375 21.1875 8.171875 \r\nQ 24.65625 6 28.46875 6 \r\nQ 34.03125 6 38.03125 10.484375 \r\nQ 42.046875 14.984375 42.046875 22.703125 \r\nQ 42.046875 30.125 38.078125 34.390625 \r\nQ 34.125 38.671875 28.125 38.671875 \r\nQ 22.171875 38.671875 18.015625 34.390625 \r\nQ 13.875 30.125 13.875 23.1875 \r\nz\r\n\" id=\"ArialMT-54\"/>\r\n      </defs>\r\n      <g style=\"fill:#262626;\" transform=\"translate(28.291406 104.325368)scale(0.11 -0.11)\">\r\n       <use xlink:href=\"#ArialMT-54\"/>\r\n       <use x=\"55.615234\" xlink:href=\"#ArialMT-48\"/>\r\n      </g>\r\n     </g>\r\n    </g>\r\n    <g id=\"ytick_5\">\r\n     <g id=\"line2d_5\">\r\n      <path clip-path=\"url(#p6174758bf5)\" d=\"M 50.025469 58.971429 \r\nL 384.825469 58.971429 \r\n\" style=\"fill:none;stroke:#cccccc;stroke-linecap:round;\"/>\r\n     </g>\r\n     <g id=\"text_8\">\r\n      <!-- 80 -->\r\n      <defs>\r\n       <path d=\"M 17.671875 38.8125 \r\nQ 12.203125 40.828125 9.5625 44.53125 \r\nQ 6.9375 48.25 6.9375 53.421875 \r\nQ 6.9375 61.234375 12.546875 66.546875 \r\nQ 18.171875 71.875 27.484375 71.875 \r\nQ 36.859375 71.875 42.578125 66.421875 \r\nQ 48.296875 60.984375 48.296875 53.171875 \r\nQ 48.296875 48.1875 45.671875 44.5 \r\nQ 43.0625 40.828125 37.75 38.8125 \r\nQ 44.34375 36.671875 47.78125 31.875 \r\nQ 51.21875 27.09375 51.21875 20.453125 \r\nQ 51.21875 11.28125 44.71875 5.03125 \r\nQ 38.234375 -1.21875 27.640625 -1.21875 \r\nQ 17.046875 -1.21875 10.546875 5.046875 \r\nQ 4.046875 11.328125 4.046875 20.703125 \r\nQ 4.046875 27.6875 7.59375 32.390625 \r\nQ 11.140625 37.109375 17.671875 38.8125 \r\nz\r\nM 15.921875 53.71875 \r\nQ 15.921875 48.640625 19.1875 45.40625 \r\nQ 22.46875 42.1875 27.6875 42.1875 \r\nQ 32.765625 42.1875 36.015625 45.375 \r\nQ 39.265625 48.578125 39.265625 53.21875 \r\nQ 39.265625 58.0625 35.90625 61.359375 \r\nQ 32.5625 64.65625 27.59375 64.65625 \r\nQ 22.5625 64.65625 19.234375 61.421875 \r\nQ 15.921875 58.203125 15.921875 53.71875 \r\nz\r\nM 13.09375 20.65625 \r\nQ 13.09375 16.890625 14.875 13.375 \r\nQ 16.65625 9.859375 20.171875 7.921875 \r\nQ 23.6875 6 27.734375 6 \r\nQ 34.03125 6 38.125 10.046875 \r\nQ 42.234375 14.109375 42.234375 20.359375 \r\nQ 42.234375 26.703125 38.015625 30.859375 \r\nQ 33.796875 35.015625 27.4375 35.015625 \r\nQ 21.234375 35.015625 17.15625 30.90625 \r\nQ 13.09375 26.8125 13.09375 20.65625 \r\nz\r\n\" id=\"ArialMT-56\"/>\r\n      </defs>\r\n      <g style=\"fill:#262626;\" transform=\"translate(28.291406 62.908225)scale(0.11 -0.11)\">\r\n       <use xlink:href=\"#ArialMT-56\"/>\r\n       <use x=\"55.615234\" xlink:href=\"#ArialMT-48\"/>\r\n      </g>\r\n     </g>\r\n    </g>\r\n    <g id=\"ytick_6\">\r\n     <g id=\"line2d_6\">\r\n      <path clip-path=\"url(#p6174758bf5)\" d=\"M 50.025469 17.554286 \r\nL 384.825469 17.554286 \r\n\" style=\"fill:none;stroke:#cccccc;stroke-linecap:round;\"/>\r\n     </g>\r\n     <g id=\"text_9\">\r\n      <!-- 100 -->\r\n      <defs>\r\n       <path d=\"M 37.25 0 \r\nL 28.46875 0 \r\nL 28.46875 56 \r\nQ 25.296875 52.984375 20.140625 49.953125 \r\nQ 14.984375 46.921875 10.890625 45.40625 \r\nL 10.890625 53.90625 \r\nQ 18.265625 57.375 23.78125 62.296875 \r\nQ 29.296875 67.234375 31.59375 71.875 \r\nL 37.25 71.875 \r\nz\r\n\" id=\"ArialMT-49\"/>\r\n      </defs>\r\n      <g style=\"fill:#262626;\" transform=\"translate(22.174375 21.491083)scale(0.11 -0.11)\">\r\n       <use xlink:href=\"#ArialMT-49\"/>\r\n       <use x=\"55.615234\" xlink:href=\"#ArialMT-48\"/>\r\n       <use x=\"111.230469\" xlink:href=\"#ArialMT-48\"/>\r\n      </g>\r\n     </g>\r\n    </g>\r\n    <g id=\"text_10\">\r\n     <!-- Percentual -->\r\n     <defs>\r\n      <path d=\"M 7.71875 0 \r\nL 7.71875 71.578125 \r\nL 34.71875 71.578125 \r\nQ 41.84375 71.578125 45.609375 70.90625 \r\nQ 50.875 70.015625 54.4375 67.546875 \r\nQ 58.015625 65.09375 60.1875 60.640625 \r\nQ 62.359375 56.203125 62.359375 50.875 \r\nQ 62.359375 41.75 56.546875 35.421875 \r\nQ 50.734375 29.109375 35.546875 29.109375 \r\nL 17.1875 29.109375 \r\nL 17.1875 0 \r\nz\r\nM 17.1875 37.546875 \r\nL 35.6875 37.546875 \r\nQ 44.875 37.546875 48.734375 40.96875 \r\nQ 52.59375 44.390625 52.59375 50.59375 \r\nQ 52.59375 55.078125 50.3125 58.265625 \r\nQ 48.046875 61.46875 44.34375 62.5 \r\nQ 41.9375 63.140625 35.5 63.140625 \r\nL 17.1875 63.140625 \r\nz\r\n\" id=\"ArialMT-80\"/>\r\n      <path d=\"M 6.5 0 \r\nL 6.5 51.859375 \r\nL 14.40625 51.859375 \r\nL 14.40625 44 \r\nQ 17.4375 49.515625 20 51.265625 \r\nQ 22.5625 53.03125 25.640625 53.03125 \r\nQ 30.078125 53.03125 34.671875 50.203125 \r\nL 31.640625 42.046875 \r\nQ 28.421875 43.953125 25.203125 43.953125 \r\nQ 22.3125 43.953125 20.015625 42.21875 \r\nQ 17.71875 40.484375 16.75 37.40625 \r\nQ 15.28125 32.71875 15.28125 27.15625 \r\nL 15.28125 0 \r\nz\r\n\" id=\"ArialMT-114\"/>\r\n      <path d=\"M 25.78125 7.859375 \r\nL 27.046875 0.09375 \r\nQ 23.34375 -0.6875 20.40625 -0.6875 \r\nQ 15.625 -0.6875 12.984375 0.828125 \r\nQ 10.359375 2.34375 9.28125 4.8125 \r\nQ 8.203125 7.28125 8.203125 15.1875 \r\nL 8.203125 45.015625 \r\nL 1.765625 45.015625 \r\nL 1.765625 51.859375 \r\nL 8.203125 51.859375 \r\nL 8.203125 64.703125 \r\nL 16.9375 69.96875 \r\nL 16.9375 51.859375 \r\nL 25.78125 51.859375 \r\nL 25.78125 45.015625 \r\nL 16.9375 45.015625 \r\nL 16.9375 14.703125 \r\nQ 16.9375 10.9375 17.40625 9.859375 \r\nQ 17.875 8.796875 18.921875 8.15625 \r\nQ 19.96875 7.515625 21.921875 7.515625 \r\nQ 23.390625 7.515625 25.78125 7.859375 \r\nz\r\n\" id=\"ArialMT-116\"/>\r\n     </defs>\r\n     <g style=\"fill:#262626;\" transform=\"translate(15.789375 144.602812)rotate(-90)scale(0.12 -0.12)\">\r\n      <use xlink:href=\"#ArialMT-80\"/>\r\n      <use x=\"66.699219\" xlink:href=\"#ArialMT-101\"/>\r\n      <use x=\"122.314453\" xlink:href=\"#ArialMT-114\"/>\r\n      <use x=\"155.615234\" xlink:href=\"#ArialMT-99\"/>\r\n      <use x=\"205.615234\" xlink:href=\"#ArialMT-101\"/>\r\n      <use x=\"261.230469\" xlink:href=\"#ArialMT-110\"/>\r\n      <use x=\"316.845703\" xlink:href=\"#ArialMT-116\"/>\r\n      <use x=\"344.628906\" xlink:href=\"#ArialMT-117\"/>\r\n      <use x=\"400.244141\" xlink:href=\"#ArialMT-97\"/>\r\n      <use x=\"455.859375\" xlink:href=\"#ArialMT-108\"/>\r\n     </g>\r\n    </g>\r\n   </g>\r\n   <g id=\"patch_3\">\r\n    <path clip-path=\"url(#p6174758bf5)\" d=\"M 66.765469 224.64 \r\nL 200.685469 224.64 \r\nL 200.685469 17.554286 \r\nL 66.765469 17.554286 \r\nz\r\n\" style=\"fill:#5875a4;stroke:#ffffff;stroke-linejoin:miter;\"/>\r\n   </g>\r\n   <g id=\"patch_4\">\r\n    <path clip-path=\"url(#p6174758bf5)\" d=\"M 234.165469 224.64 \r\nL 368.085469 224.64 \r\nL 368.085469 17.554286 \r\nL 234.165469 17.554286 \r\nz\r\n\" style=\"fill:#cc8963;stroke:#ffffff;stroke-linejoin:miter;\"/>\r\n   </g>\r\n   <g id=\"line2d_7\">\r\n    <path clip-path=\"url(#p6174758bf5)\" style=\"fill:none;stroke:#424242;stroke-linecap:round;stroke-width:2.7;\"/>\r\n   </g>\r\n   <g id=\"line2d_8\">\r\n    <path clip-path=\"url(#p6174758bf5)\" style=\"fill:none;stroke:#424242;stroke-linecap:round;stroke-width:2.7;\"/>\r\n   </g>\r\n   <g id=\"patch_5\">\r\n    <path d=\"M 50.025469 224.64 \r\nL 50.025469 7.2 \r\n\" style=\"fill:none;stroke:#cccccc;stroke-linecap:square;stroke-linejoin:miter;stroke-width:1.25;\"/>\r\n   </g>\r\n   <g id=\"patch_6\">\r\n    <path d=\"M 384.825469 224.64 \r\nL 384.825469 7.2 \r\n\" style=\"fill:none;stroke:#cccccc;stroke-linecap:square;stroke-linejoin:miter;stroke-width:1.25;\"/>\r\n   </g>\r\n   <g id=\"patch_7\">\r\n    <path d=\"M 50.025469 224.64 \r\nL 384.825469 224.64 \r\n\" style=\"fill:none;stroke:#cccccc;stroke-linecap:square;stroke-linejoin:miter;stroke-width:1.25;\"/>\r\n   </g>\r\n   <g id=\"patch_8\">\r\n    <path d=\"M 50.025469 7.2 \r\nL 384.825469 7.2 \r\n\" style=\"fill:none;stroke:#cccccc;stroke-linecap:square;stroke-linejoin:miter;stroke-width:1.25;\"/>\r\n   </g>\r\n  </g>\r\n </g>\r\n <defs>\r\n  <clipPath id=\"p6174758bf5\">\r\n   <rect height=\"217.44\" width=\"334.8\" x=\"50.025469\" y=\"7.2\"/>\r\n  </clipPath>\r\n </defs>\r\n</svg>\r\n",
      "image/png": "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\n"
     },
     "metadata": {}
    },
    {
     "output_type": "stream",
     "name": "stdout",
     "text": [
      "                 Percentual           Column\nName                                        \nopening_balance       100.0  opening_balance\nclosing_balance       100.0  closing_balance\n"
     ]
    }
   ],
=======
   "execution_count": null,
   "metadata": {},
   "outputs": [],
>>>>>>> 8f720b2b4e9cec63e694a4d42aa154bd5f56dde0
   "source": [
    "# Plot the percentual of opening_balance and closing_balance not Nan with budget_number Nan\n",
    "Null_budget_number = df_plans_budgets[{'opening_balance', 'closing_balance'}].loc[(df_plans_budgets['budget_number'].isna())]\n",
    "plotNotNaNValuesColums(Null_budget_number)\n",
    "\n",
    "# Deletes the records with budget_number are NaN\n",
    "#  As They are rows that represents Balance\n",
    "df_plans_budgets = df_plans_budgets.drop(df_plans_budgets[df_plans_budgets.budget_number.isna()].index)\n",
    "\n",
    "#  And keeps the ones with level3_reference_number, stated_item_name, level3_key\n",
<<<<<<< HEAD
    "#   Assigns 'Not Assigned' in columns 'level3_key','level3_reference_number', 'stated_item_name'\n",
    "#   because if budget_level3_key, level3_key are NaN\n",
    "#   Means the budget starts in level 2\n",
    "df_plans_budgets.loc[df_plans_budgets['budget_level3_key'].isnull(),['budget_level3_key', 'budget_level3_name']] = \"Not Assigned\""
=======
    "#   Assigns 'no assigned' in columns 'level3_key','level3_reference_number', 'stated_item_name'\n",
    "#   because if level3_reference_number, stated_item_name, level3_key are NaN\n",
    "#   Means the budget starts in level 2\n",
    "df_plans_budgets.loc[df_plans_budgets['budget_level3_key'].isnull(),['budget_level3_key', 'budget_level3_name']] = \"No Assigned\""
>>>>>>> 8f720b2b4e9cec63e694a4d42aa154bd5f56dde0
   ]
  },
  {
   "cell_type": "code",
<<<<<<< HEAD
   "execution_count": 15,
   "metadata": {},
   "outputs": [
    {
     "output_type": "execute_result",
     "data": {
      "text/plain": [
       "0"
      ]
     },
     "metadata": {},
     "execution_count": 15
    }
   ],
=======
   "execution_count": null,
   "metadata": {},
   "outputs": [],
>>>>>>> 8f720b2b4e9cec63e694a4d42aa154bd5f56dde0
   "source": [
    "# Check if there is any DateTime column\n",
    "df_plans_budgets.select_dtypes(include=[np.datetime64]).any().count()"
   ]
  },
  {
   "cell_type": "code",
<<<<<<< HEAD
   "execution_count": 16,
=======
   "execution_count": null,
>>>>>>> 8f720b2b4e9cec63e694a4d42aa154bd5f56dde0
   "metadata": {},
   "outputs": [],
   "source": [
    "# Group the plans from their bugdets\n",
    "df_plans_budgets_cleased = df_plans_budgets.groupby([\"member_key\"\n",
    "                                                   , \"plan_key\"\n",
    "                                                   , \"plan_status\"\n",
    "                                                   , \"plan_start_date\"\n",
    "                                                   , \"plan_end_date\"\n",
    "                                                   , \"budget_status\"\n",
    "                                                   , \"budget_level3_name\"\n",
    "                                                   , \"budget_level3_key\" \n",
    "                                                   , \"budget_level2_key\"\n",
    "                                                   , \"budget_level2_name\"\n",
    "                                                   , \"budget_level1_key\"\n",
    "                                                   , \"budget_level1_name\"]).agg({\"budget_value_allocated\": \"sum\"}).reset_index()                                                   "
   ]
  },
  {
   "source": [
    "### Invoice and claims dataset cleasing"
   ],
   "cell_type": "markdown",
   "metadata": {}
  },
  {
   "source": [
    "### Invoice and claims dataset From LAST ACTIVED plan"
   ],
   "cell_type": "markdown",
   "metadata": {}
  },
  {
   "cell_type": "code",
<<<<<<< HEAD
   "execution_count": 18,
   "metadata": {},
   "outputs": [
    {
     "output_type": "stream",
     "name": "stdout",
     "text": [
      "<class 'pandas.core.frame.DataFrame'>\nRangeIndex: 446540 entries, 0 to 446539\nData columns (total 14 columns):\n #   Column               Non-Null Count   Dtype  \n---  ------               --------------   -----  \n 0   member_id            446540 non-null  int64  \n 1   invoice_total        446540 non-null  float64\n 2   invoice_state        446540 non-null  object \n 3   invoice_id           446540 non-null  int64  \n 4   claim_id             446540 non-null  int64  \n 5   claim_start_date     446540 non-null  object \n 6   claim_end_date       446540 non-null  object \n 7   claim_state          446540 non-null  object \n 8   claim_funded_amount  439038 non-null  float64\n 9   claimed_units        444878 non-null  float64\n 10  claimed_unit_price   446258 non-null  float64\n 11  key                  446540 non-null  object \n 12  key.1                446540 non-null  object \n 13  key.2                446540 non-null  object \ndtypes: float64(4), int64(3), object(7)\nmemory usage: 35.8+ MB\n"
     ]
    }
   ],
=======
   "execution_count": null,
   "metadata": {},
   "outputs": [],
>>>>>>> 8f720b2b4e9cec63e694a4d42aa154bd5f56dde0
   "source": [
    "# Check the dataSet fields\n",
    "invoices_claims_last_actived_all_fields.info()"
   ]
  },
  {
   "cell_type": "code",
<<<<<<< HEAD
   "execution_count": 19,
   "metadata": {},
   "outputs": [
    {
     "output_type": "execute_result",
     "data": {
      "text/plain": [
       "   member_id  invoice_total     invoice_state  invoice_id  claim_id  \\\n",
       "0         53        1136.04          ALL_PAID         955      1212   \n",
       "1         53        1583.88  INVOICE_REJECTED         931      1223   \n",
       "2         53        1583.88  INVOICE_REJECTED         931      1247   \n",
       "3         53        1136.04          ALL_PAID         955      1251   \n",
       "\n",
       "  claim_start_date claim_end_date      claim_state  claim_funded_amount  \\\n",
       "0        5/20/2020      5/29/2020             PAID               378.56   \n",
       "1         6/3/2020      6/12/2020  SCHEME_REJECTED                 0.00   \n",
       "2         5/3/2020      6/12/2020  SCHEME_REJECTED                 0.00   \n",
       "3        5/18/2020      5/29/2020             PAID               374.94   \n",
       "\n",
       "   claimed_units  claimed_unit_price                                   key  \\\n",
       "0            7.0               54.08  2d001d39-754f-11ea-ade9-022376bbb7c0   \n",
       "1            7.0               54.08  2d001d39-754f-11ea-ade9-022376bbb7c0   \n",
       "2           69.0                0.95  bf133220-754f-11ea-ade9-022376bbb7c0   \n",
       "3            6.0               62.49  85e97742-754f-11ea-ade9-022376bbb7c0   \n",
       "\n",
       "                                  key.1                                 key.2  \n",
       "0  7d0af71b-f597-11e9-bfb4-022d4762bb3c  58745466-f597-11e9-bfb4-022d4762bb3c  \n",
       "1  7d0af71b-f597-11e9-bfb4-022d4762bb3c  58745466-f597-11e9-bfb4-022d4762bb3c  \n",
       "2  7d0af53b-f597-11e9-bfb4-022d4762bb3c  58745466-f597-11e9-bfb4-022d4762bb3c  \n",
       "3  7d0af71b-f597-11e9-bfb4-022d4762bb3c  58745466-f597-11e9-bfb4-022d4762bb3c  "
      ],
      "text/html": "<div>\n<style scoped>\n    .dataframe tbody tr th:only-of-type {\n        vertical-align: middle;\n    }\n\n    .dataframe tbody tr th {\n        vertical-align: top;\n    }\n\n    .dataframe thead th {\n        text-align: right;\n    }\n</style>\n<table border=\"1\" class=\"dataframe\">\n  <thead>\n    <tr style=\"text-align: right;\">\n      <th></th>\n      <th>member_id</th>\n      <th>invoice_total</th>\n      <th>invoice_state</th>\n      <th>invoice_id</th>\n      <th>claim_id</th>\n      <th>claim_start_date</th>\n      <th>claim_end_date</th>\n      <th>claim_state</th>\n      <th>claim_funded_amount</th>\n      <th>claimed_units</th>\n      <th>claimed_unit_price</th>\n      <th>key</th>\n      <th>key.1</th>\n      <th>key.2</th>\n    </tr>\n  </thead>\n  <tbody>\n    <tr>\n      <th>0</th>\n      <td>53</td>\n      <td>1136.04</td>\n      <td>ALL_PAID</td>\n      <td>955</td>\n      <td>1212</td>\n      <td>5/20/2020</td>\n      <td>5/29/2020</td>\n      <td>PAID</td>\n      <td>378.56</td>\n      <td>7.0</td>\n      <td>54.08</td>\n      <td>2d001d39-754f-11ea-ade9-022376bbb7c0</td>\n      <td>7d0af71b-f597-11e9-bfb4-022d4762bb3c</td>\n      <td>58745466-f597-11e9-bfb4-022d4762bb3c</td>\n    </tr>\n    <tr>\n      <th>1</th>\n      <td>53</td>\n      <td>1583.88</td>\n      <td>INVOICE_REJECTED</td>\n      <td>931</td>\n      <td>1223</td>\n      <td>6/3/2020</td>\n      <td>6/12/2020</td>\n      <td>SCHEME_REJECTED</td>\n      <td>0.00</td>\n      <td>7.0</td>\n      <td>54.08</td>\n      <td>2d001d39-754f-11ea-ade9-022376bbb7c0</td>\n      <td>7d0af71b-f597-11e9-bfb4-022d4762bb3c</td>\n      <td>58745466-f597-11e9-bfb4-022d4762bb3c</td>\n    </tr>\n    <tr>\n      <th>2</th>\n      <td>53</td>\n      <td>1583.88</td>\n      <td>INVOICE_REJECTED</td>\n      <td>931</td>\n      <td>1247</td>\n      <td>5/3/2020</td>\n      <td>6/12/2020</td>\n      <td>SCHEME_REJECTED</td>\n      <td>0.00</td>\n      <td>69.0</td>\n      <td>0.95</td>\n      <td>bf133220-754f-11ea-ade9-022376bbb7c0</td>\n      <td>7d0af53b-f597-11e9-bfb4-022d4762bb3c</td>\n      <td>58745466-f597-11e9-bfb4-022d4762bb3c</td>\n    </tr>\n    <tr>\n      <th>3</th>\n      <td>53</td>\n      <td>1136.04</td>\n      <td>ALL_PAID</td>\n      <td>955</td>\n      <td>1251</td>\n      <td>5/18/2020</td>\n      <td>5/29/2020</td>\n      <td>PAID</td>\n      <td>374.94</td>\n      <td>6.0</td>\n      <td>62.49</td>\n      <td>85e97742-754f-11ea-ade9-022376bbb7c0</td>\n      <td>7d0af71b-f597-11e9-bfb4-022d4762bb3c</td>\n      <td>58745466-f597-11e9-bfb4-022d4762bb3c</td>\n    </tr>\n  </tbody>\n</table>\n</div>"
     },
     "metadata": {},
     "execution_count": 19
    }
   ],
=======
   "execution_count": null,
   "metadata": {},
   "outputs": [],
>>>>>>> 8f720b2b4e9cec63e694a4d42aa154bd5f56dde0
   "source": [
    "invoices_claims_last_actived_all_fields.head(4)"
   ]
  },
  {
   "cell_type": "code",
<<<<<<< HEAD
   "execution_count": 20,
=======
   "execution_count": null,
>>>>>>> 8f720b2b4e9cec63e694a4d42aa154bd5f56dde0
   "metadata": {},
   "outputs": [],
   "source": [
    "# Select just the fields to be used\n",
    "invoices_claims_last_actived = invoices_claims_last_actived_all_fields[{\"member_id\"\n",
    "                                                                      , \"invoice_state\"\n",
    "                                                                      , \"invoice_id\"\n",
    "                                                                      , \"claim_state\"\n",
    "                                                                      , \"claim_id\"\n",
    "                                                                      , \"key\"  \n",
    "                                                                      , \"key.1\"\n",
    "                                                                      , \"key.2\"\n",
    "                                                                      , \"claim_start_date\"\n",
    "                                                                      , \"claim_end_date\"\n",
    "                                                                      , \"claim_funded_amount\"\n",
    "                                                                      , \"invoice_total\"\n",
    "                                                                      , \"claimed_units\"\n",
    "                                                                      , \"claimed_unit_price\"\n",
    "                                                                      }]\n",
    "\n",
    "# Rename some dataSet colums to create a name's pattern\n",
    "invoices_claims_last_actived.rename(columns={'claim_funded_amount':'funded_amount'\n",
    "                                           , 'invoice_total':'invoiced_amount_total'\n",
    "                                           , 'claimed__units_price':'claimed__units_amount'  \n",
    "                                           , 'key.1':'claim_level2_key'\n",
    "                                           , 'key.2':'claim_level1_key'\n",
    "                                           , 'key':'claim_level3_key'\n",
    "                                              } , inplace = True)                  "
   ]
  },
  {
   "cell_type": "code",
<<<<<<< HEAD
   "execution_count": 21,
   "metadata": {},
   "outputs": [
    {
     "output_type": "execute_result",
     "data": {
      "text/plain": [
       "array(['PAID', 'SCHEME_REJECTED', 'NOT_CLAIMABLE', 'CANCELLED',\n",
       "       'PENDING_APPROVAL', 'PENDING_REFUND', 'REFUNDED',\n",
       "       'OPERATOR_REJECTED', 'MEMBER_REJECTED', 'PENDING_CANCELLATION',\n",
       "       'PENDING_DISBURSEMENT', 'DRAFT_CLAIM', 'PENDING_REVIEW',\n",
       "       'SCHEME_AUTHORIZED', 'OPERATOR_AUTHORIZED'], dtype=object)"
      ]
     },
     "metadata": {},
     "execution_count": 21
    }
   ],
=======
   "execution_count": null,
   "metadata": {},
   "outputs": [],
>>>>>>> 8f720b2b4e9cec63e694a4d42aa154bd5f56dde0
   "source": [
    "# Check the claim_state To check whether there is any dump value\n",
    "invoices_claims_last_actived['claim_state'].unique()"
   ]
  },
  {
   "cell_type": "code",
<<<<<<< HEAD
   "execution_count": 22,
=======
   "execution_count": null,
>>>>>>> 8f720b2b4e9cec63e694a4d42aa154bd5f56dde0
   "metadata": {},
   "outputs": [],
   "source": [
    "invoices_claims_last_actived = invoices_claims_last_actived.drop(invoices_claims_last_actived[invoices_claims_last_actived.invoice_state.isna()].index)"
   ]
  },
  {
   "cell_type": "code",
<<<<<<< HEAD
   "execution_count": 23,
   "metadata": {},
   "outputs": [
    {
     "output_type": "execute_result",
     "data": {
      "text/plain": [
       "array(['ALL_PAID', 'INVOICE_REJECTED', 'SHORT_PAID', 'CANCELLED',\n",
       "       'PENDING_APPROVAL', 'PART_PAID', 'PENDING_REFUND',\n",
       "       'FULLY_REFUNDED', 'NOT_CLAIMABLE', 'PARTIALLY_REFUNDED',\n",
       "       'PENDING_REVIEW', 'PENDING_CANCELLATION', 'PENDING_CLAIM',\n",
       "       'ALL_APPROVED', 'DEED_ERROR_REVIEW_ALL', 'DRAFT_INVOICE',\n",
       "       'SHORT_PAYMENT_APPROVED', 'PARTIALLY_APPROVED'], dtype=object)"
      ]
     },
     "metadata": {},
     "execution_count": 23
    }
   ],
=======
   "execution_count": null,
   "metadata": {},
   "outputs": [],
>>>>>>> 8f720b2b4e9cec63e694a4d42aa154bd5f56dde0
   "source": [
    "# Check the claim_state To check whether there is any dump value\n",
    "invoices_claims_last_actived['invoice_state'].unique()"
   ]
  },
  {
   "cell_type": "code",
<<<<<<< HEAD
   "execution_count": 24,
   "metadata": {},
   "outputs": [
    {
     "output_type": "execute_result",
     "data": {
      "text/plain": [
       "array(['PAID', 'SCHEME_REJECTED', 'NOT_CLAIMABLE', 'CANCELLED',\n",
       "       'PENDING_APPROVAL', 'PENDING_REFUND', 'REFUNDED',\n",
       "       'OPERATOR_REJECTED', 'MEMBER_REJECTED', 'PENDING_CANCELLATION',\n",
       "       'PENDING_DISBURSEMENT', 'DRAFT_CLAIM', 'PENDING_REVIEW',\n",
       "       'SCHEME_AUTHORIZED', 'OPERATOR_AUTHORIZED'], dtype=object)"
      ]
     },
     "metadata": {},
     "execution_count": 24
    }
   ],
=======
   "execution_count": null,
   "metadata": {},
   "outputs": [],
>>>>>>> 8f720b2b4e9cec63e694a4d42aa154bd5f56dde0
   "source": [
    "invoices_claims_last_actived['claim_state'].unique()"
   ]
  },
  {
   "cell_type": "code",
<<<<<<< HEAD
   "execution_count": 25,
   "metadata": {},
   "outputs": [
    {
     "output_type": "display_data",
     "data": {
      "text/plain": "<Figure size 432x288 with 1 Axes>",
      "image/svg+xml": "<?xml version=\"1.0\" encoding=\"utf-8\" standalone=\"no\"?>\r\n<!DOCTYPE svg PUBLIC \"-//W3C//DTD SVG 1.1//EN\"\r\n  \"http://www.w3.org/Graphics/SVG/1.1/DTD/svg11.dtd\">\r\n<!-- Created with matplotlib (https://matplotlib.org/) -->\r\n<svg height=\"348.025156pt\" version=\"1.1\" viewBox=\"0 0 388.964375 348.025156\" width=\"388.964375pt\" xmlns=\"http://www.w3.org/2000/svg\" xmlns:xlink=\"http://www.w3.org/1999/xlink\">\r\n <defs>\r\n  <style type=\"text/css\">\r\n*{stroke-linecap:butt;stroke-linejoin:round;}\r\n  </style>\r\n </defs>\r\n <g id=\"figure_1\">\r\n  <g id=\"patch_1\">\r\n   <path d=\"M -0 348.025156 \r\nL 388.964375 348.025156 \r\nL 388.964375 0 \r\nL -0 0 \r\nz\r\n\" style=\"fill:#ffffff;\"/>\r\n  </g>\r\n  <g id=\"axes_1\">\r\n   <g id=\"patch_2\">\r\n    <path d=\"M 46.964375 224.64 \r\nL 381.764375 224.64 \r\nL 381.764375 7.2 \r\nL 46.964375 7.2 \r\nz\r\n\" style=\"fill:#ffffff;\"/>\r\n   </g>\r\n   <g id=\"matplotlib.axis_1\">\r\n    <g id=\"xtick_1\">\r\n     <g id=\"text_1\">\r\n      <!-- claimed_unit_price -->\r\n      <defs>\r\n       <path d=\"M 40.4375 19 \r\nL 49.078125 17.875 \r\nQ 47.65625 8.9375 41.8125 3.875 \r\nQ 35.984375 -1.171875 27.484375 -1.171875 \r\nQ 16.84375 -1.171875 10.375 5.78125 \r\nQ 3.90625 12.75 3.90625 25.734375 \r\nQ 3.90625 34.125 6.6875 40.421875 \r\nQ 9.46875 46.734375 15.15625 49.875 \r\nQ 20.84375 53.03125 27.546875 53.03125 \r\nQ 35.984375 53.03125 41.359375 48.75 \r\nQ 46.734375 44.484375 48.25 36.625 \r\nL 39.703125 35.296875 \r\nQ 38.484375 40.53125 35.375 43.15625 \r\nQ 32.28125 45.796875 27.875 45.796875 \r\nQ 21.234375 45.796875 17.078125 41.03125 \r\nQ 12.9375 36.28125 12.9375 25.984375 \r\nQ 12.9375 15.53125 16.9375 10.796875 \r\nQ 20.953125 6.0625 27.390625 6.0625 \r\nQ 32.5625 6.0625 36.03125 9.234375 \r\nQ 39.5 12.40625 40.4375 19 \r\nz\r\n\" id=\"ArialMT-99\"/>\r\n       <path d=\"M 6.390625 0 \r\nL 6.390625 71.578125 \r\nL 15.1875 71.578125 \r\nL 15.1875 0 \r\nz\r\n\" id=\"ArialMT-108\"/>\r\n       <path d=\"M 40.4375 6.390625 \r\nQ 35.546875 2.25 31.03125 0.53125 \r\nQ 26.515625 -1.171875 21.34375 -1.171875 \r\nQ 12.796875 -1.171875 8.203125 3 \r\nQ 3.609375 7.171875 3.609375 13.671875 \r\nQ 3.609375 17.484375 5.34375 20.625 \r\nQ 7.078125 23.78125 9.890625 25.6875 \r\nQ 12.703125 27.59375 16.21875 28.5625 \r\nQ 18.796875 29.25 24.03125 29.890625 \r\nQ 34.671875 31.15625 39.703125 32.90625 \r\nQ 39.75 34.71875 39.75 35.203125 \r\nQ 39.75 40.578125 37.25 42.78125 \r\nQ 33.890625 45.75 27.25 45.75 \r\nQ 21.046875 45.75 18.09375 43.578125 \r\nQ 15.140625 41.40625 13.71875 35.890625 \r\nL 5.125 37.0625 \r\nQ 6.296875 42.578125 8.984375 45.96875 \r\nQ 11.671875 49.359375 16.75 51.1875 \r\nQ 21.828125 53.03125 28.515625 53.03125 \r\nQ 35.15625 53.03125 39.296875 51.46875 \r\nQ 43.453125 49.90625 45.40625 47.53125 \r\nQ 47.359375 45.171875 48.140625 41.546875 \r\nQ 48.578125 39.3125 48.578125 33.453125 \r\nL 48.578125 21.734375 \r\nQ 48.578125 9.46875 49.140625 6.21875 \r\nQ 49.703125 2.984375 51.375 0 \r\nL 42.1875 0 \r\nQ 40.828125 2.734375 40.4375 6.390625 \r\nz\r\nM 39.703125 26.03125 \r\nQ 34.90625 24.078125 25.34375 22.703125 \r\nQ 19.921875 21.921875 17.671875 20.9375 \r\nQ 15.4375 19.96875 14.203125 18.09375 \r\nQ 12.984375 16.21875 12.984375 13.921875 \r\nQ 12.984375 10.40625 15.640625 8.0625 \r\nQ 18.3125 5.71875 23.4375 5.71875 \r\nQ 28.515625 5.71875 32.46875 7.9375 \r\nQ 36.421875 10.15625 38.28125 14.015625 \r\nQ 39.703125 17 39.703125 22.796875 \r\nz\r\n\" id=\"ArialMT-97\"/>\r\n       <path d=\"M 6.640625 61.46875 \r\nL 6.640625 71.578125 \r\nL 15.4375 71.578125 \r\nL 15.4375 61.46875 \r\nz\r\nM 6.640625 0 \r\nL 6.640625 51.859375 \r\nL 15.4375 51.859375 \r\nL 15.4375 0 \r\nz\r\n\" id=\"ArialMT-105\"/>\r\n       <path d=\"M 6.59375 0 \r\nL 6.59375 51.859375 \r\nL 14.453125 51.859375 \r\nL 14.453125 44.578125 \r\nQ 16.890625 48.390625 20.9375 50.703125 \r\nQ 25 53.03125 30.171875 53.03125 \r\nQ 35.9375 53.03125 39.625 50.640625 \r\nQ 43.3125 48.25 44.828125 43.953125 \r\nQ 50.984375 53.03125 60.84375 53.03125 \r\nQ 68.5625 53.03125 72.703125 48.75 \r\nQ 76.859375 44.484375 76.859375 35.59375 \r\nL 76.859375 0 \r\nL 68.109375 0 \r\nL 68.109375 32.671875 \r\nQ 68.109375 37.9375 67.25 40.25 \r\nQ 66.40625 42.578125 64.15625 43.984375 \r\nQ 61.921875 45.40625 58.890625 45.40625 \r\nQ 53.421875 45.40625 49.796875 41.765625 \r\nQ 46.1875 38.140625 46.1875 30.125 \r\nL 46.1875 0 \r\nL 37.40625 0 \r\nL 37.40625 33.6875 \r\nQ 37.40625 39.546875 35.25 42.46875 \r\nQ 33.109375 45.40625 28.21875 45.40625 \r\nQ 24.515625 45.40625 21.359375 43.453125 \r\nQ 18.21875 41.5 16.796875 37.734375 \r\nQ 15.375 33.984375 15.375 26.90625 \r\nL 15.375 0 \r\nz\r\n\" id=\"ArialMT-109\"/>\r\n       <path d=\"M 42.09375 16.703125 \r\nL 51.171875 15.578125 \r\nQ 49.03125 7.625 43.21875 3.21875 \r\nQ 37.40625 -1.171875 28.375 -1.171875 \r\nQ 17 -1.171875 10.328125 5.828125 \r\nQ 3.65625 12.84375 3.65625 25.484375 \r\nQ 3.65625 38.578125 10.390625 45.796875 \r\nQ 17.140625 53.03125 27.875 53.03125 \r\nQ 38.28125 53.03125 44.875 45.953125 \r\nQ 51.46875 38.875 51.46875 26.03125 \r\nQ 51.46875 25.25 51.421875 23.6875 \r\nL 12.75 23.6875 \r\nQ 13.234375 15.140625 17.578125 10.59375 \r\nQ 21.921875 6.0625 28.421875 6.0625 \r\nQ 33.25 6.0625 36.671875 8.59375 \r\nQ 40.09375 11.140625 42.09375 16.703125 \r\nz\r\nM 13.234375 30.90625 \r\nL 42.1875 30.90625 \r\nQ 41.609375 37.453125 38.875 40.71875 \r\nQ 34.671875 45.796875 27.984375 45.796875 \r\nQ 21.921875 45.796875 17.796875 41.75 \r\nQ 13.671875 37.703125 13.234375 30.90625 \r\nz\r\n\" id=\"ArialMT-101\"/>\r\n       <path d=\"M 40.234375 0 \r\nL 40.234375 6.546875 \r\nQ 35.296875 -1.171875 25.734375 -1.171875 \r\nQ 19.53125 -1.171875 14.328125 2.25 \r\nQ 9.125 5.671875 6.265625 11.796875 \r\nQ 3.421875 17.921875 3.421875 25.875 \r\nQ 3.421875 33.640625 6 39.96875 \r\nQ 8.59375 46.296875 13.765625 49.65625 \r\nQ 18.953125 53.03125 25.34375 53.03125 \r\nQ 30.03125 53.03125 33.6875 51.046875 \r\nQ 37.359375 49.078125 39.65625 45.90625 \r\nL 39.65625 71.578125 \r\nL 48.390625 71.578125 \r\nL 48.390625 0 \r\nz\r\nM 12.453125 25.875 \r\nQ 12.453125 15.921875 16.640625 10.984375 \r\nQ 20.84375 6.0625 26.5625 6.0625 \r\nQ 32.328125 6.0625 36.34375 10.765625 \r\nQ 40.375 15.484375 40.375 25.140625 \r\nQ 40.375 35.796875 36.265625 40.765625 \r\nQ 32.171875 45.75 26.171875 45.75 \r\nQ 20.3125 45.75 16.375 40.96875 \r\nQ 12.453125 36.1875 12.453125 25.875 \r\nz\r\n\" id=\"ArialMT-100\"/>\r\n       <path d=\"M -1.515625 -19.875 \r\nL -1.515625 -13.53125 \r\nL 56.734375 -13.53125 \r\nL 56.734375 -19.875 \r\nz\r\n\" id=\"ArialMT-95\"/>\r\n       <path d=\"M 40.578125 0 \r\nL 40.578125 7.625 \r\nQ 34.515625 -1.171875 24.125 -1.171875 \r\nQ 19.53125 -1.171875 15.546875 0.578125 \r\nQ 11.578125 2.34375 9.640625 5 \r\nQ 7.71875 7.671875 6.9375 11.53125 \r\nQ 6.390625 14.109375 6.390625 19.734375 \r\nL 6.390625 51.859375 \r\nL 15.1875 51.859375 \r\nL 15.1875 23.09375 \r\nQ 15.1875 16.21875 15.71875 13.8125 \r\nQ 16.546875 10.359375 19.234375 8.375 \r\nQ 21.921875 6.390625 25.875 6.390625 \r\nQ 29.828125 6.390625 33.296875 8.421875 \r\nQ 36.765625 10.453125 38.203125 13.9375 \r\nQ 39.65625 17.4375 39.65625 24.078125 \r\nL 39.65625 51.859375 \r\nL 48.4375 51.859375 \r\nL 48.4375 0 \r\nz\r\n\" id=\"ArialMT-117\"/>\r\n       <path d=\"M 6.59375 0 \r\nL 6.59375 51.859375 \r\nL 14.5 51.859375 \r\nL 14.5 44.484375 \r\nQ 20.21875 53.03125 31 53.03125 \r\nQ 35.6875 53.03125 39.625 51.34375 \r\nQ 43.5625 49.65625 45.515625 46.921875 \r\nQ 47.46875 44.1875 48.25 40.4375 \r\nQ 48.734375 37.984375 48.734375 31.890625 \r\nL 48.734375 0 \r\nL 39.9375 0 \r\nL 39.9375 31.546875 \r\nQ 39.9375 36.921875 38.90625 39.578125 \r\nQ 37.890625 42.234375 35.28125 43.8125 \r\nQ 32.671875 45.40625 29.15625 45.40625 \r\nQ 23.53125 45.40625 19.453125 41.84375 \r\nQ 15.375 38.28125 15.375 28.328125 \r\nL 15.375 0 \r\nz\r\n\" id=\"ArialMT-110\"/>\r\n       <path d=\"M 25.78125 7.859375 \r\nL 27.046875 0.09375 \r\nQ 23.34375 -0.6875 20.40625 -0.6875 \r\nQ 15.625 -0.6875 12.984375 0.828125 \r\nQ 10.359375 2.34375 9.28125 4.8125 \r\nQ 8.203125 7.28125 8.203125 15.1875 \r\nL 8.203125 45.015625 \r\nL 1.765625 45.015625 \r\nL 1.765625 51.859375 \r\nL 8.203125 51.859375 \r\nL 8.203125 64.703125 \r\nL 16.9375 69.96875 \r\nL 16.9375 51.859375 \r\nL 25.78125 51.859375 \r\nL 25.78125 45.015625 \r\nL 16.9375 45.015625 \r\nL 16.9375 14.703125 \r\nQ 16.9375 10.9375 17.40625 9.859375 \r\nQ 17.875 8.796875 18.921875 8.15625 \r\nQ 19.96875 7.515625 21.921875 7.515625 \r\nQ 23.390625 7.515625 25.78125 7.859375 \r\nz\r\n\" id=\"ArialMT-116\"/>\r\n       <path d=\"M 6.59375 -19.875 \r\nL 6.59375 51.859375 \r\nL 14.59375 51.859375 \r\nL 14.59375 45.125 \r\nQ 17.4375 49.078125 21 51.046875 \r\nQ 24.5625 53.03125 29.640625 53.03125 \r\nQ 36.28125 53.03125 41.359375 49.609375 \r\nQ 46.4375 46.1875 49.015625 39.953125 \r\nQ 51.609375 33.734375 51.609375 26.3125 \r\nQ 51.609375 18.359375 48.75 11.984375 \r\nQ 45.90625 5.609375 40.453125 2.21875 \r\nQ 35.015625 -1.171875 29 -1.171875 \r\nQ 24.609375 -1.171875 21.109375 0.6875 \r\nQ 17.625 2.546875 15.375 5.375 \r\nL 15.375 -19.875 \r\nz\r\nM 14.546875 25.640625 \r\nQ 14.546875 15.625 18.59375 10.84375 \r\nQ 22.65625 6.0625 28.421875 6.0625 \r\nQ 34.28125 6.0625 38.453125 11.015625 \r\nQ 42.625 15.96875 42.625 26.375 \r\nQ 42.625 36.28125 38.546875 41.203125 \r\nQ 34.46875 46.140625 28.8125 46.140625 \r\nQ 23.1875 46.140625 18.859375 40.890625 \r\nQ 14.546875 35.640625 14.546875 25.640625 \r\nz\r\n\" id=\"ArialMT-112\"/>\r\n       <path d=\"M 6.5 0 \r\nL 6.5 51.859375 \r\nL 14.40625 51.859375 \r\nL 14.40625 44 \r\nQ 17.4375 49.515625 20 51.265625 \r\nQ 22.5625 53.03125 25.640625 53.03125 \r\nQ 30.078125 53.03125 34.671875 50.203125 \r\nL 31.640625 42.046875 \r\nQ 28.421875 43.953125 25.203125 43.953125 \r\nQ 22.3125 43.953125 20.015625 42.21875 \r\nQ 17.71875 40.484375 16.75 37.40625 \r\nQ 15.28125 32.71875 15.28125 27.15625 \r\nL 15.28125 0 \r\nz\r\n\" id=\"ArialMT-114\"/>\r\n      </defs>\r\n      <g style=\"fill:#262626;\" transform=\"translate(105.608047 325.850781)rotate(-90)scale(0.11 -0.11)\">\r\n       <use xlink:href=\"#ArialMT-99\"/>\r\n       <use x=\"50\" xlink:href=\"#ArialMT-108\"/>\r\n       <use x=\"72.216797\" xlink:href=\"#ArialMT-97\"/>\r\n       <use x=\"127.832031\" xlink:href=\"#ArialMT-105\"/>\r\n       <use x=\"150.048828\" xlink:href=\"#ArialMT-109\"/>\r\n       <use x=\"233.349609\" xlink:href=\"#ArialMT-101\"/>\r\n       <use x=\"288.964844\" xlink:href=\"#ArialMT-100\"/>\r\n       <use x=\"344.580078\" xlink:href=\"#ArialMT-95\"/>\r\n       <use x=\"400.195312\" xlink:href=\"#ArialMT-117\"/>\r\n       <use x=\"455.810547\" xlink:href=\"#ArialMT-110\"/>\r\n       <use x=\"511.425781\" xlink:href=\"#ArialMT-105\"/>\r\n       <use x=\"533.642578\" xlink:href=\"#ArialMT-116\"/>\r\n       <use x=\"561.425781\" xlink:href=\"#ArialMT-95\"/>\r\n       <use x=\"617.041016\" xlink:href=\"#ArialMT-112\"/>\r\n       <use x=\"672.65625\" xlink:href=\"#ArialMT-114\"/>\r\n       <use x=\"705.957031\" xlink:href=\"#ArialMT-105\"/>\r\n       <use x=\"728.173828\" xlink:href=\"#ArialMT-99\"/>\r\n       <use x=\"778.173828\" xlink:href=\"#ArialMT-101\"/>\r\n      </g>\r\n     </g>\r\n    </g>\r\n    <g id=\"xtick_2\">\r\n     <g id=\"text_2\">\r\n      <!-- claimed_units -->\r\n      <defs>\r\n       <path d=\"M 3.078125 15.484375 \r\nL 11.765625 16.84375 \r\nQ 12.5 11.625 15.84375 8.84375 \r\nQ 19.1875 6.0625 25.203125 6.0625 \r\nQ 31.25 6.0625 34.171875 8.515625 \r\nQ 37.109375 10.984375 37.109375 14.3125 \r\nQ 37.109375 17.28125 34.515625 19 \r\nQ 32.71875 20.171875 25.53125 21.96875 \r\nQ 15.875 24.421875 12.140625 26.203125 \r\nQ 8.40625 27.984375 6.46875 31.125 \r\nQ 4.546875 34.28125 4.546875 38.09375 \r\nQ 4.546875 41.546875 6.125 44.5 \r\nQ 7.71875 47.46875 10.453125 49.421875 \r\nQ 12.5 50.921875 16.03125 51.96875 \r\nQ 19.578125 53.03125 23.640625 53.03125 \r\nQ 29.734375 53.03125 34.34375 51.265625 \r\nQ 38.96875 49.515625 41.15625 46.5 \r\nQ 43.359375 43.5 44.1875 38.484375 \r\nL 35.59375 37.3125 \r\nQ 35.015625 41.3125 32.203125 43.546875 \r\nQ 29.390625 45.796875 24.265625 45.796875 \r\nQ 18.21875 45.796875 15.625 43.796875 \r\nQ 13.03125 41.796875 13.03125 39.109375 \r\nQ 13.03125 37.40625 14.109375 36.03125 \r\nQ 15.1875 34.625 17.484375 33.6875 \r\nQ 18.796875 33.203125 25.25 31.453125 \r\nQ 34.578125 28.953125 38.25 27.359375 \r\nQ 41.9375 25.78125 44.03125 22.75 \r\nQ 46.140625 19.734375 46.140625 15.234375 \r\nQ 46.140625 10.84375 43.578125 6.953125 \r\nQ 41.015625 3.078125 36.171875 0.953125 \r\nQ 31.34375 -1.171875 25.25 -1.171875 \r\nQ 15.140625 -1.171875 9.84375 3.03125 \r\nQ 4.546875 7.234375 3.078125 15.484375 \r\nz\r\n\" id=\"ArialMT-115\"/>\r\n      </defs>\r\n      <g style=\"fill:#262626;\" transform=\"translate(217.208047 301.392969)rotate(-90)scale(0.11 -0.11)\">\r\n       <use xlink:href=\"#ArialMT-99\"/>\r\n       <use x=\"50\" xlink:href=\"#ArialMT-108\"/>\r\n       <use x=\"72.216797\" xlink:href=\"#ArialMT-97\"/>\r\n       <use x=\"127.832031\" xlink:href=\"#ArialMT-105\"/>\r\n       <use x=\"150.048828\" xlink:href=\"#ArialMT-109\"/>\r\n       <use x=\"233.349609\" xlink:href=\"#ArialMT-101\"/>\r\n       <use x=\"288.964844\" xlink:href=\"#ArialMT-100\"/>\r\n       <use x=\"344.580078\" xlink:href=\"#ArialMT-95\"/>\r\n       <use x=\"400.195312\" xlink:href=\"#ArialMT-117\"/>\r\n       <use x=\"455.810547\" xlink:href=\"#ArialMT-110\"/>\r\n       <use x=\"511.425781\" xlink:href=\"#ArialMT-105\"/>\r\n       <use x=\"533.642578\" xlink:href=\"#ArialMT-116\"/>\r\n       <use x=\"561.425781\" xlink:href=\"#ArialMT-115\"/>\r\n      </g>\r\n     </g>\r\n    </g>\r\n    <g id=\"xtick_3\">\r\n     <g id=\"text_3\">\r\n      <!-- funded_amount -->\r\n      <defs>\r\n       <path d=\"M 8.6875 0 \r\nL 8.6875 45.015625 \r\nL 0.921875 45.015625 \r\nL 0.921875 51.859375 \r\nL 8.6875 51.859375 \r\nL 8.6875 57.375 \r\nQ 8.6875 62.59375 9.625 65.140625 \r\nQ 10.890625 68.5625 14.078125 70.671875 \r\nQ 17.28125 72.796875 23.046875 72.796875 \r\nQ 26.765625 72.796875 31.25 71.921875 \r\nL 29.9375 64.265625 \r\nQ 27.203125 64.75 24.75 64.75 \r\nQ 20.75 64.75 19.09375 63.03125 \r\nQ 17.4375 61.328125 17.4375 56.640625 \r\nL 17.4375 51.859375 \r\nL 27.546875 51.859375 \r\nL 27.546875 45.015625 \r\nL 17.4375 45.015625 \r\nL 17.4375 0 \r\nz\r\n\" id=\"ArialMT-102\"/>\r\n       <path d=\"M 3.328125 25.921875 \r\nQ 3.328125 40.328125 11.328125 47.265625 \r\nQ 18.015625 53.03125 27.640625 53.03125 \r\nQ 38.328125 53.03125 45.109375 46.015625 \r\nQ 51.90625 39.015625 51.90625 26.65625 \r\nQ 51.90625 16.65625 48.90625 10.90625 \r\nQ 45.90625 5.171875 40.15625 2 \r\nQ 34.421875 -1.171875 27.640625 -1.171875 \r\nQ 16.75 -1.171875 10.03125 5.8125 \r\nQ 3.328125 12.796875 3.328125 25.921875 \r\nz\r\nM 12.359375 25.921875 \r\nQ 12.359375 15.96875 16.703125 11.015625 \r\nQ 21.046875 6.0625 27.640625 6.0625 \r\nQ 34.1875 6.0625 38.53125 11.03125 \r\nQ 42.875 16.015625 42.875 26.21875 \r\nQ 42.875 35.84375 38.5 40.796875 \r\nQ 34.125 45.75 27.640625 45.75 \r\nQ 21.046875 45.75 16.703125 40.8125 \r\nQ 12.359375 35.890625 12.359375 25.921875 \r\nz\r\n\" id=\"ArialMT-111\"/>\r\n      </defs>\r\n      <g style=\"fill:#262626;\" transform=\"translate(328.875078 310.584844)rotate(-90)scale(0.11 -0.11)\">\r\n       <use xlink:href=\"#ArialMT-102\"/>\r\n       <use x=\"27.783203\" xlink:href=\"#ArialMT-117\"/>\r\n       <use x=\"83.398438\" xlink:href=\"#ArialMT-110\"/>\r\n       <use x=\"139.013672\" xlink:href=\"#ArialMT-100\"/>\r\n       <use x=\"194.628906\" xlink:href=\"#ArialMT-101\"/>\r\n       <use x=\"250.244141\" xlink:href=\"#ArialMT-100\"/>\r\n       <use x=\"305.859375\" xlink:href=\"#ArialMT-95\"/>\r\n       <use x=\"361.474609\" xlink:href=\"#ArialMT-97\"/>\r\n       <use x=\"417.089844\" xlink:href=\"#ArialMT-109\"/>\r\n       <use x=\"500.390625\" xlink:href=\"#ArialMT-111\"/>\r\n       <use x=\"556.005859\" xlink:href=\"#ArialMT-117\"/>\r\n       <use x=\"611.621094\" xlink:href=\"#ArialMT-110\"/>\r\n       <use x=\"667.236328\" xlink:href=\"#ArialMT-116\"/>\r\n      </g>\r\n     </g>\r\n    </g>\r\n    <g id=\"text_4\">\r\n     <!-- Column -->\r\n     <defs>\r\n      <path d=\"M 58.796875 25.09375 \r\nL 68.265625 22.703125 \r\nQ 65.28125 11.03125 57.546875 4.90625 \r\nQ 49.8125 -1.21875 38.625 -1.21875 \r\nQ 27.046875 -1.21875 19.796875 3.484375 \r\nQ 12.546875 8.203125 8.765625 17.140625 \r\nQ 4.984375 26.078125 4.984375 36.328125 \r\nQ 4.984375 47.515625 9.25 55.828125 \r\nQ 13.53125 64.15625 21.40625 68.46875 \r\nQ 29.296875 72.796875 38.765625 72.796875 \r\nQ 49.515625 72.796875 56.828125 67.328125 \r\nQ 64.15625 61.859375 67.046875 51.953125 \r\nL 57.71875 49.75 \r\nQ 55.21875 57.5625 50.484375 61.125 \r\nQ 45.75 64.703125 38.578125 64.703125 \r\nQ 30.328125 64.703125 24.78125 60.734375 \r\nQ 19.234375 56.78125 16.984375 50.109375 \r\nQ 14.75 43.453125 14.75 36.375 \r\nQ 14.75 27.25 17.40625 20.4375 \r\nQ 20.0625 13.625 25.671875 10.25 \r\nQ 31.296875 6.890625 37.84375 6.890625 \r\nQ 45.796875 6.890625 51.3125 11.46875 \r\nQ 56.84375 16.0625 58.796875 25.09375 \r\nz\r\n\" id=\"ArialMT-67\"/>\r\n     </defs>\r\n     <g style=\"fill:#262626;\" transform=\"translate(193.690625 338.440156)scale(0.12 -0.12)\">\r\n      <use xlink:href=\"#ArialMT-67\"/>\r\n      <use x=\"72.216797\" xlink:href=\"#ArialMT-111\"/>\r\n      <use x=\"127.832031\" xlink:href=\"#ArialMT-108\"/>\r\n      <use x=\"150.048828\" xlink:href=\"#ArialMT-117\"/>\r\n      <use x=\"205.664062\" xlink:href=\"#ArialMT-109\"/>\r\n      <use x=\"288.964844\" xlink:href=\"#ArialMT-110\"/>\r\n     </g>\r\n    </g>\r\n   </g>\r\n   <g id=\"matplotlib.axis_2\">\r\n    <g id=\"ytick_1\">\r\n     <g id=\"line2d_1\">\r\n      <path clip-path=\"url(#pbf4f58c5c4)\" d=\"M 46.964375 224.64 \r\nL 381.764375 224.64 \r\n\" style=\"fill:none;stroke:#cccccc;stroke-linecap:round;\"/>\r\n     </g>\r\n     <g id=\"text_5\">\r\n      <!-- 0.0 -->\r\n      <defs>\r\n       <path d=\"M 4.15625 35.296875 \r\nQ 4.15625 48 6.765625 55.734375 \r\nQ 9.375 63.484375 14.515625 67.671875 \r\nQ 19.671875 71.875 27.484375 71.875 \r\nQ 33.25 71.875 37.59375 69.546875 \r\nQ 41.9375 67.234375 44.765625 62.859375 \r\nQ 47.609375 58.5 49.21875 52.21875 \r\nQ 50.828125 45.953125 50.828125 35.296875 \r\nQ 50.828125 22.703125 48.234375 14.96875 \r\nQ 45.65625 7.234375 40.5 3 \r\nQ 35.359375 -1.21875 27.484375 -1.21875 \r\nQ 17.140625 -1.21875 11.234375 6.203125 \r\nQ 4.15625 15.140625 4.15625 35.296875 \r\nz\r\nM 13.1875 35.296875 \r\nQ 13.1875 17.671875 17.3125 11.828125 \r\nQ 21.4375 6 27.484375 6 \r\nQ 33.546875 6 37.671875 11.859375 \r\nQ 41.796875 17.71875 41.796875 35.296875 \r\nQ 41.796875 52.984375 37.671875 58.78125 \r\nQ 33.546875 64.59375 27.390625 64.59375 \r\nQ 21.34375 64.59375 17.71875 59.46875 \r\nQ 13.1875 52.9375 13.1875 35.296875 \r\nz\r\n\" id=\"ArialMT-48\"/>\r\n       <path d=\"M 9.078125 0 \r\nL 9.078125 10.015625 \r\nL 19.09375 10.015625 \r\nL 19.09375 0 \r\nz\r\n\" id=\"ArialMT-46\"/>\r\n      </defs>\r\n      <g style=\"fill:#262626;\" transform=\"translate(22.174375 228.576797)scale(0.11 -0.11)\">\r\n       <use xlink:href=\"#ArialMT-48\"/>\r\n       <use x=\"55.615234\" xlink:href=\"#ArialMT-46\"/>\r\n       <use x=\"83.398438\" xlink:href=\"#ArialMT-48\"/>\r\n      </g>\r\n     </g>\r\n    </g>\r\n    <g id=\"ytick_2\">\r\n     <g id=\"line2d_2\">\r\n      <path clip-path=\"url(#pbf4f58c5c4)\" d=\"M 46.964375 199.987359 \r\nL 381.764375 199.987359 \r\n\" style=\"fill:none;stroke:#cccccc;stroke-linecap:round;\"/>\r\n     </g>\r\n     <g id=\"text_6\">\r\n      <!-- 0.2 -->\r\n      <defs>\r\n       <path d=\"M 50.34375 8.453125 \r\nL 50.34375 0 \r\nL 3.03125 0 \r\nQ 2.9375 3.171875 4.046875 6.109375 \r\nQ 5.859375 10.9375 9.828125 15.625 \r\nQ 13.8125 20.3125 21.34375 26.46875 \r\nQ 33.015625 36.03125 37.109375 41.625 \r\nQ 41.21875 47.21875 41.21875 52.203125 \r\nQ 41.21875 57.421875 37.46875 61 \r\nQ 33.734375 64.59375 27.734375 64.59375 \r\nQ 21.390625 64.59375 17.578125 60.78125 \r\nQ 13.765625 56.984375 13.71875 50.25 \r\nL 4.6875 51.171875 \r\nQ 5.609375 61.28125 11.65625 66.578125 \r\nQ 17.71875 71.875 27.9375 71.875 \r\nQ 38.234375 71.875 44.234375 66.15625 \r\nQ 50.25 60.453125 50.25 52 \r\nQ 50.25 47.703125 48.484375 43.546875 \r\nQ 46.734375 39.40625 42.65625 34.8125 \r\nQ 38.578125 30.21875 29.109375 22.21875 \r\nQ 21.1875 15.578125 18.9375 13.203125 \r\nQ 16.703125 10.84375 15.234375 8.453125 \r\nz\r\n\" id=\"ArialMT-50\"/>\r\n      </defs>\r\n      <g style=\"fill:#262626;\" transform=\"translate(22.174375 203.924156)scale(0.11 -0.11)\">\r\n       <use xlink:href=\"#ArialMT-48\"/>\r\n       <use x=\"55.615234\" xlink:href=\"#ArialMT-46\"/>\r\n       <use x=\"83.398438\" xlink:href=\"#ArialMT-50\"/>\r\n      </g>\r\n     </g>\r\n    </g>\r\n    <g id=\"ytick_3\">\r\n     <g id=\"line2d_3\">\r\n      <path clip-path=\"url(#pbf4f58c5c4)\" d=\"M 46.964375 175.334719 \r\nL 381.764375 175.334719 \r\n\" style=\"fill:none;stroke:#cccccc;stroke-linecap:round;\"/>\r\n     </g>\r\n     <g id=\"text_7\">\r\n      <!-- 0.4 -->\r\n      <defs>\r\n       <path d=\"M 32.328125 0 \r\nL 32.328125 17.140625 \r\nL 1.265625 17.140625 \r\nL 1.265625 25.203125 \r\nL 33.9375 71.578125 \r\nL 41.109375 71.578125 \r\nL 41.109375 25.203125 \r\nL 50.78125 25.203125 \r\nL 50.78125 17.140625 \r\nL 41.109375 17.140625 \r\nL 41.109375 0 \r\nz\r\nM 32.328125 25.203125 \r\nL 32.328125 57.46875 \r\nL 9.90625 25.203125 \r\nz\r\n\" id=\"ArialMT-52\"/>\r\n      </defs>\r\n      <g style=\"fill:#262626;\" transform=\"translate(22.174375 179.271516)scale(0.11 -0.11)\">\r\n       <use xlink:href=\"#ArialMT-48\"/>\r\n       <use x=\"55.615234\" xlink:href=\"#ArialMT-46\"/>\r\n       <use x=\"83.398438\" xlink:href=\"#ArialMT-52\"/>\r\n      </g>\r\n     </g>\r\n    </g>\r\n    <g id=\"ytick_4\">\r\n     <g id=\"line2d_4\">\r\n      <path clip-path=\"url(#pbf4f58c5c4)\" d=\"M 46.964375 150.682078 \r\nL 381.764375 150.682078 \r\n\" style=\"fill:none;stroke:#cccccc;stroke-linecap:round;\"/>\r\n     </g>\r\n     <g id=\"text_8\">\r\n      <!-- 0.6 -->\r\n      <defs>\r\n       <path d=\"M 49.75 54.046875 \r\nL 41.015625 53.375 \r\nQ 39.84375 58.546875 37.703125 60.890625 \r\nQ 34.125 64.65625 28.90625 64.65625 \r\nQ 24.703125 64.65625 21.53125 62.3125 \r\nQ 17.390625 59.28125 14.984375 53.46875 \r\nQ 12.59375 47.65625 12.5 36.921875 \r\nQ 15.671875 41.75 20.265625 44.09375 \r\nQ 24.859375 46.4375 29.890625 46.4375 \r\nQ 38.671875 46.4375 44.84375 39.96875 \r\nQ 51.03125 33.5 51.03125 23.25 \r\nQ 51.03125 16.5 48.125 10.71875 \r\nQ 45.21875 4.9375 40.140625 1.859375 \r\nQ 35.0625 -1.21875 28.609375 -1.21875 \r\nQ 17.625 -1.21875 10.6875 6.859375 \r\nQ 3.765625 14.9375 3.765625 33.5 \r\nQ 3.765625 54.25 11.421875 63.671875 \r\nQ 18.109375 71.875 29.4375 71.875 \r\nQ 37.890625 71.875 43.28125 67.140625 \r\nQ 48.6875 62.40625 49.75 54.046875 \r\nz\r\nM 13.875 23.1875 \r\nQ 13.875 18.65625 15.796875 14.5 \r\nQ 17.71875 10.359375 21.1875 8.171875 \r\nQ 24.65625 6 28.46875 6 \r\nQ 34.03125 6 38.03125 10.484375 \r\nQ 42.046875 14.984375 42.046875 22.703125 \r\nQ 42.046875 30.125 38.078125 34.390625 \r\nQ 34.125 38.671875 28.125 38.671875 \r\nQ 22.171875 38.671875 18.015625 34.390625 \r\nQ 13.875 30.125 13.875 23.1875 \r\nz\r\n\" id=\"ArialMT-54\"/>\r\n      </defs>\r\n      <g style=\"fill:#262626;\" transform=\"translate(22.174375 154.618875)scale(0.11 -0.11)\">\r\n       <use xlink:href=\"#ArialMT-48\"/>\r\n       <use x=\"55.615234\" xlink:href=\"#ArialMT-46\"/>\r\n       <use x=\"83.398438\" xlink:href=\"#ArialMT-54\"/>\r\n      </g>\r\n     </g>\r\n    </g>\r\n    <g id=\"ytick_5\">\r\n     <g id=\"line2d_5\">\r\n      <path clip-path=\"url(#pbf4f58c5c4)\" d=\"M 46.964375 126.029438 \r\nL 381.764375 126.029438 \r\n\" style=\"fill:none;stroke:#cccccc;stroke-linecap:round;\"/>\r\n     </g>\r\n     <g id=\"text_9\">\r\n      <!-- 0.8 -->\r\n      <defs>\r\n       <path d=\"M 17.671875 38.8125 \r\nQ 12.203125 40.828125 9.5625 44.53125 \r\nQ 6.9375 48.25 6.9375 53.421875 \r\nQ 6.9375 61.234375 12.546875 66.546875 \r\nQ 18.171875 71.875 27.484375 71.875 \r\nQ 36.859375 71.875 42.578125 66.421875 \r\nQ 48.296875 60.984375 48.296875 53.171875 \r\nQ 48.296875 48.1875 45.671875 44.5 \r\nQ 43.0625 40.828125 37.75 38.8125 \r\nQ 44.34375 36.671875 47.78125 31.875 \r\nQ 51.21875 27.09375 51.21875 20.453125 \r\nQ 51.21875 11.28125 44.71875 5.03125 \r\nQ 38.234375 -1.21875 27.640625 -1.21875 \r\nQ 17.046875 -1.21875 10.546875 5.046875 \r\nQ 4.046875 11.328125 4.046875 20.703125 \r\nQ 4.046875 27.6875 7.59375 32.390625 \r\nQ 11.140625 37.109375 17.671875 38.8125 \r\nz\r\nM 15.921875 53.71875 \r\nQ 15.921875 48.640625 19.1875 45.40625 \r\nQ 22.46875 42.1875 27.6875 42.1875 \r\nQ 32.765625 42.1875 36.015625 45.375 \r\nQ 39.265625 48.578125 39.265625 53.21875 \r\nQ 39.265625 58.0625 35.90625 61.359375 \r\nQ 32.5625 64.65625 27.59375 64.65625 \r\nQ 22.5625 64.65625 19.234375 61.421875 \r\nQ 15.921875 58.203125 15.921875 53.71875 \r\nz\r\nM 13.09375 20.65625 \r\nQ 13.09375 16.890625 14.875 13.375 \r\nQ 16.65625 9.859375 20.171875 7.921875 \r\nQ 23.6875 6 27.734375 6 \r\nQ 34.03125 6 38.125 10.046875 \r\nQ 42.234375 14.109375 42.234375 20.359375 \r\nQ 42.234375 26.703125 38.015625 30.859375 \r\nQ 33.796875 35.015625 27.4375 35.015625 \r\nQ 21.234375 35.015625 17.15625 30.90625 \r\nQ 13.09375 26.8125 13.09375 20.65625 \r\nz\r\n\" id=\"ArialMT-56\"/>\r\n      </defs>\r\n      <g style=\"fill:#262626;\" transform=\"translate(22.174375 129.966235)scale(0.11 -0.11)\">\r\n       <use xlink:href=\"#ArialMT-48\"/>\r\n       <use x=\"55.615234\" xlink:href=\"#ArialMT-46\"/>\r\n       <use x=\"83.398438\" xlink:href=\"#ArialMT-56\"/>\r\n      </g>\r\n     </g>\r\n    </g>\r\n    <g id=\"ytick_6\">\r\n     <g id=\"line2d_6\">\r\n      <path clip-path=\"url(#pbf4f58c5c4)\" d=\"M 46.964375 101.376797 \r\nL 381.764375 101.376797 \r\n\" style=\"fill:none;stroke:#cccccc;stroke-linecap:round;\"/>\r\n     </g>\r\n     <g id=\"text_10\">\r\n      <!-- 1.0 -->\r\n      <defs>\r\n       <path d=\"M 37.25 0 \r\nL 28.46875 0 \r\nL 28.46875 56 \r\nQ 25.296875 52.984375 20.140625 49.953125 \r\nQ 14.984375 46.921875 10.890625 45.40625 \r\nL 10.890625 53.90625 \r\nQ 18.265625 57.375 23.78125 62.296875 \r\nQ 29.296875 67.234375 31.59375 71.875 \r\nL 37.25 71.875 \r\nz\r\n\" id=\"ArialMT-49\"/>\r\n      </defs>\r\n      <g style=\"fill:#262626;\" transform=\"translate(22.174375 105.313594)scale(0.11 -0.11)\">\r\n       <use xlink:href=\"#ArialMT-49\"/>\r\n       <use x=\"55.615234\" xlink:href=\"#ArialMT-46\"/>\r\n       <use x=\"83.398438\" xlink:href=\"#ArialMT-48\"/>\r\n      </g>\r\n     </g>\r\n    </g>\r\n    <g id=\"ytick_7\">\r\n     <g id=\"line2d_7\">\r\n      <path clip-path=\"url(#pbf4f58c5c4)\" d=\"M 46.964375 76.724156 \r\nL 381.764375 76.724156 \r\n\" style=\"fill:none;stroke:#cccccc;stroke-linecap:round;\"/>\r\n     </g>\r\n     <g id=\"text_11\">\r\n      <!-- 1.2 -->\r\n      <g style=\"fill:#262626;\" transform=\"translate(22.174375 80.660953)scale(0.11 -0.11)\">\r\n       <use xlink:href=\"#ArialMT-49\"/>\r\n       <use x=\"55.615234\" xlink:href=\"#ArialMT-46\"/>\r\n       <use x=\"83.398438\" xlink:href=\"#ArialMT-50\"/>\r\n      </g>\r\n     </g>\r\n    </g>\r\n    <g id=\"ytick_8\">\r\n     <g id=\"line2d_8\">\r\n      <path clip-path=\"url(#pbf4f58c5c4)\" d=\"M 46.964375 52.071516 \r\nL 381.764375 52.071516 \r\n\" style=\"fill:none;stroke:#cccccc;stroke-linecap:round;\"/>\r\n     </g>\r\n     <g id=\"text_12\">\r\n      <!-- 1.4 -->\r\n      <g style=\"fill:#262626;\" transform=\"translate(22.174375 56.008313)scale(0.11 -0.11)\">\r\n       <use xlink:href=\"#ArialMT-49\"/>\r\n       <use x=\"55.615234\" xlink:href=\"#ArialMT-46\"/>\r\n       <use x=\"83.398438\" xlink:href=\"#ArialMT-52\"/>\r\n      </g>\r\n     </g>\r\n    </g>\r\n    <g id=\"ytick_9\">\r\n     <g id=\"line2d_9\">\r\n      <path clip-path=\"url(#pbf4f58c5c4)\" d=\"M 46.964375 27.418875 \r\nL 381.764375 27.418875 \r\n\" style=\"fill:none;stroke:#cccccc;stroke-linecap:round;\"/>\r\n     </g>\r\n     <g id=\"text_13\">\r\n      <!-- 1.6 -->\r\n      <g style=\"fill:#262626;\" transform=\"translate(22.174375 31.355672)scale(0.11 -0.11)\">\r\n       <use xlink:href=\"#ArialMT-49\"/>\r\n       <use x=\"55.615234\" xlink:href=\"#ArialMT-46\"/>\r\n       <use x=\"83.398438\" xlink:href=\"#ArialMT-54\"/>\r\n      </g>\r\n     </g>\r\n    </g>\r\n    <g id=\"text_14\">\r\n     <!-- Percentual -->\r\n     <defs>\r\n      <path d=\"M 7.71875 0 \r\nL 7.71875 71.578125 \r\nL 34.71875 71.578125 \r\nQ 41.84375 71.578125 45.609375 70.90625 \r\nQ 50.875 70.015625 54.4375 67.546875 \r\nQ 58.015625 65.09375 60.1875 60.640625 \r\nQ 62.359375 56.203125 62.359375 50.875 \r\nQ 62.359375 41.75 56.546875 35.421875 \r\nQ 50.734375 29.109375 35.546875 29.109375 \r\nL 17.1875 29.109375 \r\nL 17.1875 0 \r\nz\r\nM 17.1875 37.546875 \r\nL 35.6875 37.546875 \r\nQ 44.875 37.546875 48.734375 40.96875 \r\nQ 52.59375 44.390625 52.59375 50.59375 \r\nQ 52.59375 55.078125 50.3125 58.265625 \r\nQ 48.046875 61.46875 44.34375 62.5 \r\nQ 41.9375 63.140625 35.5 63.140625 \r\nL 17.1875 63.140625 \r\nz\r\n\" id=\"ArialMT-80\"/>\r\n     </defs>\r\n     <g style=\"fill:#262626;\" transform=\"translate(15.789375 144.602813)rotate(-90)scale(0.12 -0.12)\">\r\n      <use xlink:href=\"#ArialMT-80\"/>\r\n      <use x=\"66.699219\" xlink:href=\"#ArialMT-101\"/>\r\n      <use x=\"122.314453\" xlink:href=\"#ArialMT-114\"/>\r\n      <use x=\"155.615234\" xlink:href=\"#ArialMT-99\"/>\r\n      <use x=\"205.615234\" xlink:href=\"#ArialMT-101\"/>\r\n      <use x=\"261.230469\" xlink:href=\"#ArialMT-110\"/>\r\n      <use x=\"316.845703\" xlink:href=\"#ArialMT-116\"/>\r\n      <use x=\"344.628906\" xlink:href=\"#ArialMT-117\"/>\r\n      <use x=\"400.244141\" xlink:href=\"#ArialMT-97\"/>\r\n      <use x=\"455.859375\" xlink:href=\"#ArialMT-108\"/>\r\n     </g>\r\n    </g>\r\n   </g>\r\n   <g id=\"patch_3\">\r\n    <path clip-path=\"url(#pbf4f58c5c4)\" d=\"M 58.124375 224.64 \r\nL 147.404375 224.64 \r\nL 147.404375 216.855653 \r\nL 58.124375 216.855653 \r\nz\r\n\" style=\"fill:#5875a4;stroke:#ffffff;stroke-linejoin:miter;\"/>\r\n   </g>\r\n   <g id=\"patch_4\">\r\n    <path clip-path=\"url(#pbf4f58c5c4)\" d=\"M 169.724375 224.64 \r\nL 259.004375 224.64 \r\nL 259.004375 178.76204 \r\nL 169.724375 178.76204 \r\nz\r\n\" style=\"fill:#cc8963;stroke:#ffffff;stroke-linejoin:miter;\"/>\r\n   </g>\r\n   <g id=\"patch_5\">\r\n    <path clip-path=\"url(#pbf4f58c5c4)\" d=\"M 281.324375 224.64 \r\nL 370.604375 224.64 \r\nL 370.604375 17.554286 \r\nL 281.324375 17.554286 \r\nz\r\n\" style=\"fill:#5f9e6e;stroke:#ffffff;stroke-linejoin:miter;\"/>\r\n   </g>\r\n   <g id=\"line2d_10\">\r\n    <path clip-path=\"url(#pbf4f58c5c4)\" style=\"fill:none;stroke:#424242;stroke-linecap:round;stroke-width:2.7;\"/>\r\n   </g>\r\n   <g id=\"line2d_11\">\r\n    <path clip-path=\"url(#pbf4f58c5c4)\" style=\"fill:none;stroke:#424242;stroke-linecap:round;stroke-width:2.7;\"/>\r\n   </g>\r\n   <g id=\"line2d_12\">\r\n    <path clip-path=\"url(#pbf4f58c5c4)\" style=\"fill:none;stroke:#424242;stroke-linecap:round;stroke-width:2.7;\"/>\r\n   </g>\r\n   <g id=\"patch_6\">\r\n    <path d=\"M 46.964375 224.64 \r\nL 46.964375 7.2 \r\n\" style=\"fill:none;stroke:#cccccc;stroke-linecap:square;stroke-linejoin:miter;stroke-width:1.25;\"/>\r\n   </g>\r\n   <g id=\"patch_7\">\r\n    <path d=\"M 381.764375 224.64 \r\nL 381.764375 7.2 \r\n\" style=\"fill:none;stroke:#cccccc;stroke-linecap:square;stroke-linejoin:miter;stroke-width:1.25;\"/>\r\n   </g>\r\n   <g id=\"patch_8\">\r\n    <path d=\"M 46.964375 224.64 \r\nL 381.764375 224.64 \r\n\" style=\"fill:none;stroke:#cccccc;stroke-linecap:square;stroke-linejoin:miter;stroke-width:1.25;\"/>\r\n   </g>\r\n   <g id=\"patch_9\">\r\n    <path d=\"M 46.964375 7.2 \r\nL 381.764375 7.2 \r\n\" style=\"fill:none;stroke:#cccccc;stroke-linecap:square;stroke-linejoin:miter;stroke-width:1.25;\"/>\r\n   </g>\r\n  </g>\r\n </g>\r\n <defs>\r\n  <clipPath id=\"pbf4f58c5c4\">\r\n   <rect height=\"217.44\" width=\"334.8\" x=\"46.964375\" y=\"7.2\"/>\r\n  </clipPath>\r\n </defs>\r\n</svg>\r\n",
      "image/png": "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\n"
     },
     "metadata": {}
    },
    {
     "output_type": "stream",
     "name": "stdout",
     "text": [
      "                    Percentual              Column\nName                                              \nclaimed_unit_price    0.063152  claimed_unit_price\nclaimed_units         0.372195       claimed_units\nfunded_amount         1.680029       funded_amount\nNone\n"
     ]
    }
   ],
=======
   "execution_count": null,
   "metadata": {},
   "outputs": [],
>>>>>>> 8f720b2b4e9cec63e694a4d42aa154bd5f56dde0
   "source": [
    "# Check if there any Nan Field\n",
    "print(plotNaNValuesColums(invoices_claims_last_actived))"
   ]
  },
  {
   "cell_type": "code",
<<<<<<< HEAD
   "execution_count": 26,
   "metadata": {},
   "outputs": [
    {
     "output_type": "execute_result",
     "data": {
      "text/plain": [
       "                claim_state  claimed_units claim_end_date     invoice_state  \\\n",
       "587        PENDING_APPROVAL            1.0       7/8/2020  PENDING_APPROVAL   \n",
       "4257      OPERATOR_REJECTED            8.0       7/6/2020  INVOICE_REJECTED   \n",
       "4258      OPERATOR_REJECTED            1.0       7/7/2020  INVOICE_REJECTED   \n",
       "5420        MEMBER_REJECTED            1.0      7/24/2020  INVOICE_REJECTED   \n",
       "5470        MEMBER_REJECTED            1.0      7/21/2020  INVOICE_REJECTED   \n",
       "...                     ...            ...            ...               ...   \n",
       "446535  OPERATOR_AUTHORIZED            0.5     12/22/2020     PENDING_CLAIM   \n",
       "446536  OPERATOR_AUTHORIZED            0.5     12/23/2020     PENDING_CLAIM   \n",
       "446537  OPERATOR_AUTHORIZED            2.0     12/22/2020     PENDING_CLAIM   \n",
       "446538  OPERATOR_AUTHORIZED            1.0      4/15/2021     PENDING_CLAIM   \n",
       "446539  OPERATOR_AUTHORIZED           36.0       4/9/2021     PENDING_CLAIM   \n",
       "\n",
       "       claim_start_date  funded_amount  claimed_unit_price  \\\n",
       "587            7/8/2020            NaN              193.99   \n",
       "4257           7/6/2020            NaN               54.30   \n",
       "4258           7/7/2020            NaN                1.00   \n",
       "5420          7/24/2020            NaN              125.24   \n",
       "5470          7/21/2020            NaN               97.00   \n",
       "...                 ...            ...                 ...   \n",
       "446535       12/22/2020            NaN              124.05   \n",
       "446536       12/23/2020            NaN              124.05   \n",
       "446537       12/22/2020            NaN              124.05   \n",
       "446538        4/15/2021            NaN              190.00   \n",
       "446539         4/6/2021            NaN               16.00   \n",
       "\n",
       "                            claim_level2_key  \\\n",
       "587     7d0af57b-f597-11e9-bfb4-022d4762bb3c   \n",
       "4257    7d0af53b-f597-11e9-bfb4-022d4762bb3c   \n",
       "4258    7d0af71b-f597-11e9-bfb4-022d4762bb3c   \n",
       "5420    7d0af57b-f597-11e9-bfb4-022d4762bb3c   \n",
       "5470    7d0af57b-f597-11e9-bfb4-022d4762bb3c   \n",
       "...                                      ...   \n",
       "446535  7d0af57b-f597-11e9-bfb4-022d4762bb3c   \n",
       "446536  7d0af57b-f597-11e9-bfb4-022d4762bb3c   \n",
       "446537  7d0af57b-f597-11e9-bfb4-022d4762bb3c   \n",
       "446538  7d0af57b-f597-11e9-bfb4-022d4762bb3c   \n",
       "446539  7d0af57b-f597-11e9-bfb4-022d4762bb3c   \n",
       "\n",
       "                            claim_level3_key  member_id  claim_id  \\\n",
       "587     85e9e810-754f-11ea-ade9-022376bbb7c0        195      2660   \n",
       "4257    2d00284b-754f-11ea-ade9-022376bbb7c0        600     31321   \n",
       "4258    2d0020b4-754f-11ea-ade9-022376bbb7c0        600     31322   \n",
       "5420    85e9e8b9-754f-11ea-ade9-022376bbb7c0        846     33762   \n",
       "5470    85e9e810-754f-11ea-ade9-022376bbb7c0        575     34039   \n",
       "...                                      ...        ...       ...   \n",
       "446535  2d006104-754f-11ea-ade9-022376bbb7c0       4516   1006084   \n",
       "446536  2d006104-754f-11ea-ade9-022376bbb7c0       4516   1006085   \n",
       "446537  2d006104-754f-11ea-ade9-022376bbb7c0       4516   1006086   \n",
       "446538  85e9e810-754f-11ea-ade9-022376bbb7c0       5433   1006087   \n",
       "446539  85e9e810-754f-11ea-ade9-022376bbb7c0       5867   1006088   \n",
       "\n",
       "                            claim_level1_key  invoice_id  \\\n",
       "587     5874551b-f597-11e9-bfb4-022d4762bb3c        1685   \n",
       "4257    58745466-f597-11e9-bfb4-022d4762bb3c       19529   \n",
       "4258    58745466-f597-11e9-bfb4-022d4762bb3c       19529   \n",
       "5420    5874551b-f597-11e9-bfb4-022d4762bb3c       21023   \n",
       "5470    5874551b-f597-11e9-bfb4-022d4762bb3c       21211   \n",
       "...                                      ...         ...   \n",
       "446535  5874551b-f597-11e9-bfb4-022d4762bb3c      539305   \n",
       "446536  5874551b-f597-11e9-bfb4-022d4762bb3c      539306   \n",
       "446537  5874551b-f597-11e9-bfb4-022d4762bb3c      539307   \n",
       "446538  5874551b-f597-11e9-bfb4-022d4762bb3c      539308   \n",
       "446539  5874551b-f597-11e9-bfb4-022d4762bb3c      539309   \n",
       "\n",
       "        invoiced_amount_total  \n",
       "587                    193.99  \n",
       "4257                  1934.40  \n",
       "4258                  1934.40  \n",
       "5420                   125.24  \n",
       "5470                    97.00  \n",
       "...                       ...  \n",
       "446535                  62.02  \n",
       "446536                  62.02  \n",
       "446537                 248.10  \n",
       "446538                 190.00  \n",
       "446539                 576.00  \n",
       "\n",
       "[7502 rows x 14 columns]"
      ],
      "text/html": "<div>\n<style scoped>\n    .dataframe tbody tr th:only-of-type {\n        vertical-align: middle;\n    }\n\n    .dataframe tbody tr th {\n        vertical-align: top;\n    }\n\n    .dataframe thead th {\n        text-align: right;\n    }\n</style>\n<table border=\"1\" class=\"dataframe\">\n  <thead>\n    <tr style=\"text-align: right;\">\n      <th></th>\n      <th>claim_state</th>\n      <th>claimed_units</th>\n      <th>claim_end_date</th>\n      <th>invoice_state</th>\n      <th>claim_start_date</th>\n      <th>funded_amount</th>\n      <th>claimed_unit_price</th>\n      <th>claim_level2_key</th>\n      <th>claim_level3_key</th>\n      <th>member_id</th>\n      <th>claim_id</th>\n      <th>claim_level1_key</th>\n      <th>invoice_id</th>\n      <th>invoiced_amount_total</th>\n    </tr>\n  </thead>\n  <tbody>\n    <tr>\n      <th>587</th>\n      <td>PENDING_APPROVAL</td>\n      <td>1.0</td>\n      <td>7/8/2020</td>\n      <td>PENDING_APPROVAL</td>\n      <td>7/8/2020</td>\n      <td>NaN</td>\n      <td>193.99</td>\n      <td>7d0af57b-f597-11e9-bfb4-022d4762bb3c</td>\n      <td>85e9e810-754f-11ea-ade9-022376bbb7c0</td>\n      <td>195</td>\n      <td>2660</td>\n      <td>5874551b-f597-11e9-bfb4-022d4762bb3c</td>\n      <td>1685</td>\n      <td>193.99</td>\n    </tr>\n    <tr>\n      <th>4257</th>\n      <td>OPERATOR_REJECTED</td>\n      <td>8.0</td>\n      <td>7/6/2020</td>\n      <td>INVOICE_REJECTED</td>\n      <td>7/6/2020</td>\n      <td>NaN</td>\n      <td>54.30</td>\n      <td>7d0af53b-f597-11e9-bfb4-022d4762bb3c</td>\n      <td>2d00284b-754f-11ea-ade9-022376bbb7c0</td>\n      <td>600</td>\n      <td>31321</td>\n      <td>58745466-f597-11e9-bfb4-022d4762bb3c</td>\n      <td>19529</td>\n      <td>1934.40</td>\n    </tr>\n    <tr>\n      <th>4258</th>\n      <td>OPERATOR_REJECTED</td>\n      <td>1.0</td>\n      <td>7/7/2020</td>\n      <td>INVOICE_REJECTED</td>\n      <td>7/7/2020</td>\n      <td>NaN</td>\n      <td>1.00</td>\n      <td>7d0af71b-f597-11e9-bfb4-022d4762bb3c</td>\n      <td>2d0020b4-754f-11ea-ade9-022376bbb7c0</td>\n      <td>600</td>\n      <td>31322</td>\n      <td>58745466-f597-11e9-bfb4-022d4762bb3c</td>\n      <td>19529</td>\n      <td>1934.40</td>\n    </tr>\n    <tr>\n      <th>5420</th>\n      <td>MEMBER_REJECTED</td>\n      <td>1.0</td>\n      <td>7/24/2020</td>\n      <td>INVOICE_REJECTED</td>\n      <td>7/24/2020</td>\n      <td>NaN</td>\n      <td>125.24</td>\n      <td>7d0af57b-f597-11e9-bfb4-022d4762bb3c</td>\n      <td>85e9e8b9-754f-11ea-ade9-022376bbb7c0</td>\n      <td>846</td>\n      <td>33762</td>\n      <td>5874551b-f597-11e9-bfb4-022d4762bb3c</td>\n      <td>21023</td>\n      <td>125.24</td>\n    </tr>\n    <tr>\n      <th>5470</th>\n      <td>MEMBER_REJECTED</td>\n      <td>1.0</td>\n      <td>7/21/2020</td>\n      <td>INVOICE_REJECTED</td>\n      <td>7/21/2020</td>\n      <td>NaN</td>\n      <td>97.00</td>\n      <td>7d0af57b-f597-11e9-bfb4-022d4762bb3c</td>\n      <td>85e9e810-754f-11ea-ade9-022376bbb7c0</td>\n      <td>575</td>\n      <td>34039</td>\n      <td>5874551b-f597-11e9-bfb4-022d4762bb3c</td>\n      <td>21211</td>\n      <td>97.00</td>\n    </tr>\n    <tr>\n      <th>...</th>\n      <td>...</td>\n      <td>...</td>\n      <td>...</td>\n      <td>...</td>\n      <td>...</td>\n      <td>...</td>\n      <td>...</td>\n      <td>...</td>\n      <td>...</td>\n      <td>...</td>\n      <td>...</td>\n      <td>...</td>\n      <td>...</td>\n      <td>...</td>\n    </tr>\n    <tr>\n      <th>446535</th>\n      <td>OPERATOR_AUTHORIZED</td>\n      <td>0.5</td>\n      <td>12/22/2020</td>\n      <td>PENDING_CLAIM</td>\n      <td>12/22/2020</td>\n      <td>NaN</td>\n      <td>124.05</td>\n      <td>7d0af57b-f597-11e9-bfb4-022d4762bb3c</td>\n      <td>2d006104-754f-11ea-ade9-022376bbb7c0</td>\n      <td>4516</td>\n      <td>1006084</td>\n      <td>5874551b-f597-11e9-bfb4-022d4762bb3c</td>\n      <td>539305</td>\n      <td>62.02</td>\n    </tr>\n    <tr>\n      <th>446536</th>\n      <td>OPERATOR_AUTHORIZED</td>\n      <td>0.5</td>\n      <td>12/23/2020</td>\n      <td>PENDING_CLAIM</td>\n      <td>12/23/2020</td>\n      <td>NaN</td>\n      <td>124.05</td>\n      <td>7d0af57b-f597-11e9-bfb4-022d4762bb3c</td>\n      <td>2d006104-754f-11ea-ade9-022376bbb7c0</td>\n      <td>4516</td>\n      <td>1006085</td>\n      <td>5874551b-f597-11e9-bfb4-022d4762bb3c</td>\n      <td>539306</td>\n      <td>62.02</td>\n    </tr>\n    <tr>\n      <th>446537</th>\n      <td>OPERATOR_AUTHORIZED</td>\n      <td>2.0</td>\n      <td>12/22/2020</td>\n      <td>PENDING_CLAIM</td>\n      <td>12/22/2020</td>\n      <td>NaN</td>\n      <td>124.05</td>\n      <td>7d0af57b-f597-11e9-bfb4-022d4762bb3c</td>\n      <td>2d006104-754f-11ea-ade9-022376bbb7c0</td>\n      <td>4516</td>\n      <td>1006086</td>\n      <td>5874551b-f597-11e9-bfb4-022d4762bb3c</td>\n      <td>539307</td>\n      <td>248.10</td>\n    </tr>\n    <tr>\n      <th>446538</th>\n      <td>OPERATOR_AUTHORIZED</td>\n      <td>1.0</td>\n      <td>4/15/2021</td>\n      <td>PENDING_CLAIM</td>\n      <td>4/15/2021</td>\n      <td>NaN</td>\n      <td>190.00</td>\n      <td>7d0af57b-f597-11e9-bfb4-022d4762bb3c</td>\n      <td>85e9e810-754f-11ea-ade9-022376bbb7c0</td>\n      <td>5433</td>\n      <td>1006087</td>\n      <td>5874551b-f597-11e9-bfb4-022d4762bb3c</td>\n      <td>539308</td>\n      <td>190.00</td>\n    </tr>\n    <tr>\n      <th>446539</th>\n      <td>OPERATOR_AUTHORIZED</td>\n      <td>36.0</td>\n      <td>4/9/2021</td>\n      <td>PENDING_CLAIM</td>\n      <td>4/6/2021</td>\n      <td>NaN</td>\n      <td>16.00</td>\n      <td>7d0af57b-f597-11e9-bfb4-022d4762bb3c</td>\n      <td>85e9e810-754f-11ea-ade9-022376bbb7c0</td>\n      <td>5867</td>\n      <td>1006088</td>\n      <td>5874551b-f597-11e9-bfb4-022d4762bb3c</td>\n      <td>539309</td>\n      <td>576.00</td>\n    </tr>\n  </tbody>\n</table>\n<p>7502 rows × 14 columns</p>\n</div>"
     },
     "metadata": {},
     "execution_count": 26
    }
   ],
=======
   "execution_count": null,
   "metadata": {},
   "outputs": [],
>>>>>>> 8f720b2b4e9cec63e694a4d42aa154bd5f56dde0
   "source": [
    "# Check some invoiced_amount and invoiced_amount NaN Data to\n",
    "#  Check these data have in commum\n",
    "df_invoiced_units_NaN = invoices_claims_last_actived.loc[invoices_claims_last_actived['funded_amount'].isna()]\n",
    "df_invoiced_units_NaN"
   ]
  },
  {
   "cell_type": "code",
<<<<<<< HEAD
   "execution_count": 27,
   "metadata": {},
   "outputs": [
    {
     "output_type": "execute_result",
     "data": {
      "text/plain": [
       "Empty DataFrame\n",
       "Columns: []\n",
       "Index: [(ALL_APPROVED, NOT_CLAIMABLE), (ALL_PAID, CANCELLED), (ALL_PAID, NOT_CLAIMABLE), (ALL_PAID, PAID), (CANCELLED, CANCELLED), (DRAFT_INVOICE, DRAFT_CLAIM), (INVOICE_REJECTED, MEMBER_REJECTED), (INVOICE_REJECTED, NOT_CLAIMABLE), (INVOICE_REJECTED, OPERATOR_REJECTED), (NOT_CLAIMABLE, NOT_CLAIMABLE), (PENDING_APPROVAL, PENDING_APPROVAL), (PENDING_CLAIM, OPERATOR_AUTHORIZED), (PENDING_REVIEW, CANCELLED), (PENDING_REVIEW, PENDING_REVIEW)]"
      ],
      "text/html": "<div>\n<style scoped>\n    .dataframe tbody tr th:only-of-type {\n        vertical-align: middle;\n    }\n\n    .dataframe tbody tr th {\n        vertical-align: top;\n    }\n\n    .dataframe thead th {\n        text-align: right;\n    }\n</style>\n<table border=\"1\" class=\"dataframe\">\n  <thead>\n    <tr style=\"text-align: right;\">\n      <th></th>\n      <th></th>\n    </tr>\n    <tr>\n      <th>invoice_state</th>\n      <th>claim_state</th>\n    </tr>\n  </thead>\n  <tbody>\n    <tr>\n      <th>ALL_APPROVED</th>\n      <th>NOT_CLAIMABLE</th>\n    </tr>\n    <tr>\n      <th rowspan=\"3\" valign=\"top\">ALL_PAID</th>\n      <th>CANCELLED</th>\n    </tr>\n    <tr>\n      <th>NOT_CLAIMABLE</th>\n    </tr>\n    <tr>\n      <th>PAID</th>\n    </tr>\n    <tr>\n      <th>CANCELLED</th>\n      <th>CANCELLED</th>\n    </tr>\n    <tr>\n      <th>DRAFT_INVOICE</th>\n      <th>DRAFT_CLAIM</th>\n    </tr>\n    <tr>\n      <th rowspan=\"3\" valign=\"top\">INVOICE_REJECTED</th>\n      <th>MEMBER_REJECTED</th>\n    </tr>\n    <tr>\n      <th>NOT_CLAIMABLE</th>\n    </tr>\n    <tr>\n      <th>OPERATOR_REJECTED</th>\n    </tr>\n    <tr>\n      <th>NOT_CLAIMABLE</th>\n      <th>NOT_CLAIMABLE</th>\n    </tr>\n    <tr>\n      <th>PENDING_APPROVAL</th>\n      <th>PENDING_APPROVAL</th>\n    </tr>\n    <tr>\n      <th>PENDING_CLAIM</th>\n      <th>OPERATOR_AUTHORIZED</th>\n    </tr>\n    <tr>\n      <th rowspan=\"2\" valign=\"top\">PENDING_REVIEW</th>\n      <th>CANCELLED</th>\n    </tr>\n    <tr>\n      <th>PENDING_REVIEW</th>\n    </tr>\n  </tbody>\n</table>\n</div>"
     },
     "metadata": {},
     "execution_count": 27
    }
   ],
=======
   "execution_count": null,
   "metadata": {},
   "outputs": [],
>>>>>>> 8f720b2b4e9cec63e694a4d42aa154bd5f56dde0
   "source": [
    "# Group the state of invoice and claim of all null data\n",
    "#  And Keeps these records\n",
    "#   Because if 'funded_amount' is NaN means the claims is not PAID OR REFUNDED\n",
    "df_invoiced_units_NaN[{\"invoice_state\"\n",
    "                     , \"claim_state\"\n",
    "                      }].groupby([\"invoice_state\"\n",
    "                                , \"claim_state\"\n",
    "                                 ]).count()"
   ]
  },
  {
   "cell_type": "code",
<<<<<<< HEAD
   "execution_count": 28,
   "metadata": {},
   "outputs": [
    {
     "output_type": "execute_result",
     "data": {
      "text/plain": [
       "15"
      ]
     },
     "metadata": {},
     "execution_count": 28
    }
   ],
=======
   "execution_count": null,
   "metadata": {},
   "outputs": [],
>>>>>>> 8f720b2b4e9cec63e694a4d42aa154bd5f56dde0
   "source": [
    "# As seeing above some invoices stated ALL_PAID and PAID are also funded_amount NaN\n",
    "# Check The NaN fields\n",
    "len(invoices_claims_last_actived[(invoices_claims_last_actived['funded_amount'].isna())\n",
    "                               & (invoices_claims_last_actived['invoice_state'] == 'ALL_PAID')\n",
    "                               & (invoices_claims_last_actived['claim_state'] == 'PAID')\n",
    "                                ]\n",
    "   )"
   ]
  },
  {
   "cell_type": "code",
<<<<<<< HEAD
   "execution_count": 29,
   "metadata": {},
   "outputs": [
    {
     "output_type": "stream",
     "name": "stderr",
     "text": [
      "<ipython-input-29-b00eb68bc11b>:7: SettingWithCopyWarning: \nA value is trying to be set on a copy of a slice from a DataFrame.\nTry using .loc[row_indexer,col_indexer] = value instead\n\nSee the caveats in the documentation: https://pandas.pydata.org/pandas-docs/stable/user_guide/indexing.html#returning-a-view-versus-a-copy\n  df_null_funded_amount['funded_amount'] = df_null_funded_amount['claimed_unit_price'].astype(float) * df_null_funded_amount['claimed_units'].astype(float)\n"
     ]
    }
   ],
=======
   "execution_count": null,
   "metadata": {},
   "outputs": [],
>>>>>>> 8f720b2b4e9cec63e694a4d42aa154bd5f56dde0
   "source": [
    "df_null_funded_amount =  invoices_claims_last_actived[(invoices_claims_last_actived['funded_amount'].isna())\n",
    "                                                    & (invoices_claims_last_actived['invoice_state'] == 'ALL_PAID')\n",
    "                                                    & (invoices_claims_last_actived['claim_state'] == 'PAID')\n",
    "                                                     ]\n",
    "\n",
    "# Fixes The funded_amount NaN in invoice_state = ALL_PAID and claim_state = PAID\n",
    "df_null_funded_amount['funded_amount'] = df_null_funded_amount['claimed_unit_price'].astype(float) * df_null_funded_amount['claimed_units'].astype(float)\n",
    "\n",
<<<<<<< HEAD
=======
    "\n",
>>>>>>> 8f720b2b4e9cec63e694a4d42aa154bd5f56dde0
    "invoices_claims_last_actived = invoices_claims_last_actived.set_index('claim_id')\n",
    "invoices_claims_last_actived.update(df_null_funded_amount.set_index('claim_id'))\n",
    "invoices_claims_last_actived.reset_index(inplace=True)                                   "
   ]
  },
  {
   "cell_type": "code",
<<<<<<< HEAD
   "execution_count": 30,
=======
   "execution_count": null,
>>>>>>> 8f720b2b4e9cec63e694a4d42aa154bd5f56dde0
   "metadata": {},
   "outputs": [],
   "source": [
    "# Group the invoices from their claims\n",
    "invoices_claims_last_actived_cleased = invoices_claims_last_actived.groupby([\"member_id\"\n",
    "                                                                           , \"invoice_state\" \n",
    "                                                                           , \"claim_state\"\n",
    "                                                                           , \"claim_level1_key\"\n",
    "                                                                           , \"claim_level2_key\"\n",
    "                                                                           , \"claim_level3_key\"\n",
    "                                                                           , \"invoiced_amount_total\"]).agg({\"funded_amount\": \"sum\"}).reset_index()"
   ]
  },
  {
   "source": [
    "### Invoice and claims dataset From LAST COMPLETED plan"
   ],
   "cell_type": "markdown",
   "metadata": {}
  },
  {
   "cell_type": "code",
<<<<<<< HEAD
   "execution_count": 31,
   "metadata": {},
   "outputs": [
    {
     "output_type": "stream",
     "name": "stdout",
     "text": [
      "<class 'pandas.core.frame.DataFrame'>\nRangeIndex: 233380 entries, 0 to 233379\nData columns (total 14 columns):\n #   Column               Non-Null Count   Dtype  \n---  ------               --------------   -----  \n 0   member_id            233380 non-null  int64  \n 1   invoice_total        233380 non-null  float64\n 2   invoice_state        233380 non-null  object \n 3   invoice_id           233380 non-null  int64  \n 4   claim_id             233380 non-null  int64  \n 5   claim_start_date     233380 non-null  object \n 6   claim_end_date       233380 non-null  object \n 7   claim_state          233380 non-null  object \n 8   claim_funded_amount  232483 non-null  float64\n 9   claimed_units        232748 non-null  float64\n 10  claimed_unit_price   233316 non-null  float64\n 11  key                  233380 non-null  object \n 12  key.1                233380 non-null  object \n 13  key.2                233380 non-null  object \ndtypes: float64(4), int64(3), object(7)\nmemory usage: 18.7+ MB\n"
     ]
    }
   ],
=======
   "execution_count": null,
   "metadata": {},
   "outputs": [],
>>>>>>> 8f720b2b4e9cec63e694a4d42aa154bd5f56dde0
   "source": [
    "# Check the dataSet fields\n",
    "invoices_claims_last_completed_all_fields.info()"
   ]
  },
  {
   "cell_type": "code",
<<<<<<< HEAD
   "execution_count": 32,
   "metadata": {},
   "outputs": [
    {
     "output_type": "execute_result",
     "data": {
      "text/plain": [
       "   member_id  invoice_total invoice_state  invoice_id  claim_id  \\\n",
       "0         15          29.00      ALL_PAID          58        30   \n",
       "1         15        1525.26      ALL_PAID          82        32   \n",
       "2         15         130.00      ALL_PAID          41        33   \n",
       "3         15         104.49      ALL_PAID          79        34   \n",
       "\n",
       "  claim_start_date claim_end_date claim_state  claim_funded_amount  \\\n",
       "0        3/20/2020      3/20/2020        PAID                29.00   \n",
       "1       11/23/2019     11/23/2019        PAID               823.34   \n",
       "2         4/8/2020       4/8/2020        PAID               130.00   \n",
       "3        10/1/2019      10/1/2019        PAID                79.94   \n",
       "\n",
       "   claimed_units  claimed_unit_price                                   key  \\\n",
       "0            1.0               29.00  2d00284b-754f-11ea-ade9-022376bbb7c0   \n",
       "1           14.0               58.81  2d001ca0-754f-11ea-ade9-022376bbb7c0   \n",
       "2            2.6               50.00  2d001d20-754f-11ea-ade9-022376bbb7c0   \n",
       "3            1.0              104.49  2d001d6a-754f-11ea-ade9-022376bbb7c0   \n",
       "\n",
       "                                  key.1                                 key.2  \n",
       "0  7d0af53b-f597-11e9-bfb4-022d4762bb3c  58745466-f597-11e9-bfb4-022d4762bb3c  \n",
       "1  7d0af71b-f597-11e9-bfb4-022d4762bb3c  58745466-f597-11e9-bfb4-022d4762bb3c  \n",
       "2  7d0af71b-f597-11e9-bfb4-022d4762bb3c  58745466-f597-11e9-bfb4-022d4762bb3c  \n",
       "3  7d0af71b-f597-11e9-bfb4-022d4762bb3c  58745466-f597-11e9-bfb4-022d4762bb3c  "
      ],
      "text/html": "<div>\n<style scoped>\n    .dataframe tbody tr th:only-of-type {\n        vertical-align: middle;\n    }\n\n    .dataframe tbody tr th {\n        vertical-align: top;\n    }\n\n    .dataframe thead th {\n        text-align: right;\n    }\n</style>\n<table border=\"1\" class=\"dataframe\">\n  <thead>\n    <tr style=\"text-align: right;\">\n      <th></th>\n      <th>member_id</th>\n      <th>invoice_total</th>\n      <th>invoice_state</th>\n      <th>invoice_id</th>\n      <th>claim_id</th>\n      <th>claim_start_date</th>\n      <th>claim_end_date</th>\n      <th>claim_state</th>\n      <th>claim_funded_amount</th>\n      <th>claimed_units</th>\n      <th>claimed_unit_price</th>\n      <th>key</th>\n      <th>key.1</th>\n      <th>key.2</th>\n    </tr>\n  </thead>\n  <tbody>\n    <tr>\n      <th>0</th>\n      <td>15</td>\n      <td>29.00</td>\n      <td>ALL_PAID</td>\n      <td>58</td>\n      <td>30</td>\n      <td>3/20/2020</td>\n      <td>3/20/2020</td>\n      <td>PAID</td>\n      <td>29.00</td>\n      <td>1.0</td>\n      <td>29.00</td>\n      <td>2d00284b-754f-11ea-ade9-022376bbb7c0</td>\n      <td>7d0af53b-f597-11e9-bfb4-022d4762bb3c</td>\n      <td>58745466-f597-11e9-bfb4-022d4762bb3c</td>\n    </tr>\n    <tr>\n      <th>1</th>\n      <td>15</td>\n      <td>1525.26</td>\n      <td>ALL_PAID</td>\n      <td>82</td>\n      <td>32</td>\n      <td>11/23/2019</td>\n      <td>11/23/2019</td>\n      <td>PAID</td>\n      <td>823.34</td>\n      <td>14.0</td>\n      <td>58.81</td>\n      <td>2d001ca0-754f-11ea-ade9-022376bbb7c0</td>\n      <td>7d0af71b-f597-11e9-bfb4-022d4762bb3c</td>\n      <td>58745466-f597-11e9-bfb4-022d4762bb3c</td>\n    </tr>\n    <tr>\n      <th>2</th>\n      <td>15</td>\n      <td>130.00</td>\n      <td>ALL_PAID</td>\n      <td>41</td>\n      <td>33</td>\n      <td>4/8/2020</td>\n      <td>4/8/2020</td>\n      <td>PAID</td>\n      <td>130.00</td>\n      <td>2.6</td>\n      <td>50.00</td>\n      <td>2d001d20-754f-11ea-ade9-022376bbb7c0</td>\n      <td>7d0af71b-f597-11e9-bfb4-022d4762bb3c</td>\n      <td>58745466-f597-11e9-bfb4-022d4762bb3c</td>\n    </tr>\n    <tr>\n      <th>3</th>\n      <td>15</td>\n      <td>104.49</td>\n      <td>ALL_PAID</td>\n      <td>79</td>\n      <td>34</td>\n      <td>10/1/2019</td>\n      <td>10/1/2019</td>\n      <td>PAID</td>\n      <td>79.94</td>\n      <td>1.0</td>\n      <td>104.49</td>\n      <td>2d001d6a-754f-11ea-ade9-022376bbb7c0</td>\n      <td>7d0af71b-f597-11e9-bfb4-022d4762bb3c</td>\n      <td>58745466-f597-11e9-bfb4-022d4762bb3c</td>\n    </tr>\n  </tbody>\n</table>\n</div>"
     },
     "metadata": {},
     "execution_count": 32
    }
   ],
=======
   "execution_count": null,
   "metadata": {},
   "outputs": [],
>>>>>>> 8f720b2b4e9cec63e694a4d42aa154bd5f56dde0
   "source": [
    "invoices_claims_last_completed_all_fields.head(4)"
   ]
  },
  {
   "cell_type": "code",
<<<<<<< HEAD
   "execution_count": 33,
=======
   "execution_count": null,
>>>>>>> 8f720b2b4e9cec63e694a4d42aa154bd5f56dde0
   "metadata": {},
   "outputs": [],
   "source": [
    "# Select just the fields to be used\n",
    "invoices_claims_last_completed = invoices_claims_last_completed_all_fields[{\"member_id\"\n",
    "                                                                          , \"invoice_state\"\n",
    "                                                                          , \"invoice_id\"\n",
    "                                                                          , \"claim_state\"\n",
    "                                                                          , \"claim_id\"\n",
    "                                                                          , \"key\"  \n",
    "                                                                          , \"key.1\"\n",
    "                                                                          , \"key.2\"\n",
    "                                                                          , \"claim_start_date\"\n",
    "                                                                          , \"claim_end_date\"\n",
    "                                                                          , \"claim_funded_amount\"\n",
    "                                                                          , \"invoice_total\"\n",
    "                                                                          , \"claimed_units\"\n",
    "                                                                          , \"claimed_unit_price\"\n",
    "                                                                      }]\n",
    "\n",
    "# Rename some dataSet colums to create a name's pattern\n",
    "invoices_claims_last_completed.rename(columns={'claim_funded_amount':'funded_amount'\n",
    "                                             , 'invoice_total':'invoiced_amount_total'\n",
    "                                             , 'claimed__units_price':'claimed__units_amount'  \n",
    "                                             , 'key.1':'claim_level2_key'\n",
    "                                             , 'key.2':'claim_level1_key'\n",
    "                                             , 'key':'claim_level3_key'\n",
    "                                              } , inplace = True) "
   ]
  },
  {
   "cell_type": "code",
<<<<<<< HEAD
   "execution_count": 34,
   "metadata": {},
   "outputs": [
    {
     "output_type": "execute_result",
     "data": {
      "text/plain": [
       "array(['PAID', 'CANCELLED', 'REFUNDED', 'SCHEME_REJECTED',\n",
       "       'NOT_CLAIMABLE', 'PENDING_REFUND', 'OPERATOR_REJECTED',\n",
       "       'MEMBER_REJECTED', 'PENDING_APPROVAL', 'PENDING_DISBURSEMENT',\n",
       "       'SCHEME_AUTHORIZED'], dtype=object)"
      ]
     },
     "metadata": {},
     "execution_count": 34
    }
   ],
=======
   "execution_count": null,
   "metadata": {},
   "outputs": [],
>>>>>>> 8f720b2b4e9cec63e694a4d42aa154bd5f56dde0
   "source": [
    "# Check the claim_state To check whether there is any dump value\n",
    "invoices_claims_last_completed['claim_state'].unique()"
   ]
  },
  {
   "cell_type": "code",
<<<<<<< HEAD
   "execution_count": 35,
   "metadata": {},
   "outputs": [
    {
     "output_type": "execute_result",
     "data": {
      "text/plain": [
       "array(['ALL_PAID', 'SHORT_PAID', 'CANCELLED', 'FULLY_REFUNDED',\n",
       "       'INVOICE_REJECTED', 'PART_PAID', 'PENDING_REFUND', 'NOT_CLAIMABLE',\n",
       "       'PARTIALLY_APPROVED', 'SHORT_PAYMENT_APPROVED', 'PENDING_REVIEW',\n",
       "       'PARTIALLY_REFUNDED', 'PENDING_APPROVAL', 'ALL_APPROVED'],\n",
       "      dtype=object)"
      ]
     },
     "metadata": {},
     "execution_count": 35
    }
   ],
=======
   "execution_count": null,
   "metadata": {},
   "outputs": [],
>>>>>>> 8f720b2b4e9cec63e694a4d42aa154bd5f56dde0
   "source": [
    "# Check the claim_state To check whether there is any dump value\n",
    "invoices_claims_last_completed['invoice_state'].unique()"
   ]
  },
  {
   "cell_type": "code",
<<<<<<< HEAD
   "execution_count": 36,
   "metadata": {},
   "outputs": [
    {
     "output_type": "display_data",
     "data": {
      "text/plain": "<Figure size 432x288 with 1 Axes>",
      "image/svg+xml": "<?xml version=\"1.0\" encoding=\"utf-8\" standalone=\"no\"?>\r\n<!DOCTYPE svg PUBLIC \"-//W3C//DTD SVG 1.1//EN\"\r\n  \"http://www.w3.org/Graphics/SVG/1.1/DTD/svg11.dtd\">\r\n<!-- Created with matplotlib (https://matplotlib.org/) -->\r\n<svg height=\"350.038849pt\" version=\"1.1\" viewBox=\"0 0 395.081406 350.038849\" width=\"395.081406pt\" xmlns=\"http://www.w3.org/2000/svg\" xmlns:xlink=\"http://www.w3.org/1999/xlink\">\r\n <defs>\r\n  <style type=\"text/css\">\r\n*{stroke-linecap:butt;stroke-linejoin:round;}\r\n  </style>\r\n </defs>\r\n <g id=\"figure_1\">\r\n  <g id=\"patch_1\">\r\n   <path d=\"M -0 350.038849 \r\nL 395.081406 350.038849 \r\nL 395.081406 0 \r\nL -0 0 \r\nz\r\n\" style=\"fill:#ffffff;\"/>\r\n  </g>\r\n  <g id=\"axes_1\">\r\n   <g id=\"patch_2\">\r\n    <path d=\"M 53.081406 226.653693 \r\nL 387.881406 226.653693 \r\nL 387.881406 9.213693 \r\nL 53.081406 9.213693 \r\nz\r\n\" style=\"fill:#ffffff;\"/>\r\n   </g>\r\n   <g id=\"matplotlib.axis_1\">\r\n    <g id=\"xtick_1\">\r\n     <g id=\"text_1\">\r\n      <!-- claimed_unit_price -->\r\n      <defs>\r\n       <path d=\"M 40.4375 19 \r\nL 49.078125 17.875 \r\nQ 47.65625 8.9375 41.8125 3.875 \r\nQ 35.984375 -1.171875 27.484375 -1.171875 \r\nQ 16.84375 -1.171875 10.375 5.78125 \r\nQ 3.90625 12.75 3.90625 25.734375 \r\nQ 3.90625 34.125 6.6875 40.421875 \r\nQ 9.46875 46.734375 15.15625 49.875 \r\nQ 20.84375 53.03125 27.546875 53.03125 \r\nQ 35.984375 53.03125 41.359375 48.75 \r\nQ 46.734375 44.484375 48.25 36.625 \r\nL 39.703125 35.296875 \r\nQ 38.484375 40.53125 35.375 43.15625 \r\nQ 32.28125 45.796875 27.875 45.796875 \r\nQ 21.234375 45.796875 17.078125 41.03125 \r\nQ 12.9375 36.28125 12.9375 25.984375 \r\nQ 12.9375 15.53125 16.9375 10.796875 \r\nQ 20.953125 6.0625 27.390625 6.0625 \r\nQ 32.5625 6.0625 36.03125 9.234375 \r\nQ 39.5 12.40625 40.4375 19 \r\nz\r\n\" id=\"ArialMT-99\"/>\r\n       <path d=\"M 6.390625 0 \r\nL 6.390625 71.578125 \r\nL 15.1875 71.578125 \r\nL 15.1875 0 \r\nz\r\n\" id=\"ArialMT-108\"/>\r\n       <path d=\"M 40.4375 6.390625 \r\nQ 35.546875 2.25 31.03125 0.53125 \r\nQ 26.515625 -1.171875 21.34375 -1.171875 \r\nQ 12.796875 -1.171875 8.203125 3 \r\nQ 3.609375 7.171875 3.609375 13.671875 \r\nQ 3.609375 17.484375 5.34375 20.625 \r\nQ 7.078125 23.78125 9.890625 25.6875 \r\nQ 12.703125 27.59375 16.21875 28.5625 \r\nQ 18.796875 29.25 24.03125 29.890625 \r\nQ 34.671875 31.15625 39.703125 32.90625 \r\nQ 39.75 34.71875 39.75 35.203125 \r\nQ 39.75 40.578125 37.25 42.78125 \r\nQ 33.890625 45.75 27.25 45.75 \r\nQ 21.046875 45.75 18.09375 43.578125 \r\nQ 15.140625 41.40625 13.71875 35.890625 \r\nL 5.125 37.0625 \r\nQ 6.296875 42.578125 8.984375 45.96875 \r\nQ 11.671875 49.359375 16.75 51.1875 \r\nQ 21.828125 53.03125 28.515625 53.03125 \r\nQ 35.15625 53.03125 39.296875 51.46875 \r\nQ 43.453125 49.90625 45.40625 47.53125 \r\nQ 47.359375 45.171875 48.140625 41.546875 \r\nQ 48.578125 39.3125 48.578125 33.453125 \r\nL 48.578125 21.734375 \r\nQ 48.578125 9.46875 49.140625 6.21875 \r\nQ 49.703125 2.984375 51.375 0 \r\nL 42.1875 0 \r\nQ 40.828125 2.734375 40.4375 6.390625 \r\nz\r\nM 39.703125 26.03125 \r\nQ 34.90625 24.078125 25.34375 22.703125 \r\nQ 19.921875 21.921875 17.671875 20.9375 \r\nQ 15.4375 19.96875 14.203125 18.09375 \r\nQ 12.984375 16.21875 12.984375 13.921875 \r\nQ 12.984375 10.40625 15.640625 8.0625 \r\nQ 18.3125 5.71875 23.4375 5.71875 \r\nQ 28.515625 5.71875 32.46875 7.9375 \r\nQ 36.421875 10.15625 38.28125 14.015625 \r\nQ 39.703125 17 39.703125 22.796875 \r\nz\r\n\" id=\"ArialMT-97\"/>\r\n       <path d=\"M 6.640625 61.46875 \r\nL 6.640625 71.578125 \r\nL 15.4375 71.578125 \r\nL 15.4375 61.46875 \r\nz\r\nM 6.640625 0 \r\nL 6.640625 51.859375 \r\nL 15.4375 51.859375 \r\nL 15.4375 0 \r\nz\r\n\" id=\"ArialMT-105\"/>\r\n       <path d=\"M 6.59375 0 \r\nL 6.59375 51.859375 \r\nL 14.453125 51.859375 \r\nL 14.453125 44.578125 \r\nQ 16.890625 48.390625 20.9375 50.703125 \r\nQ 25 53.03125 30.171875 53.03125 \r\nQ 35.9375 53.03125 39.625 50.640625 \r\nQ 43.3125 48.25 44.828125 43.953125 \r\nQ 50.984375 53.03125 60.84375 53.03125 \r\nQ 68.5625 53.03125 72.703125 48.75 \r\nQ 76.859375 44.484375 76.859375 35.59375 \r\nL 76.859375 0 \r\nL 68.109375 0 \r\nL 68.109375 32.671875 \r\nQ 68.109375 37.9375 67.25 40.25 \r\nQ 66.40625 42.578125 64.15625 43.984375 \r\nQ 61.921875 45.40625 58.890625 45.40625 \r\nQ 53.421875 45.40625 49.796875 41.765625 \r\nQ 46.1875 38.140625 46.1875 30.125 \r\nL 46.1875 0 \r\nL 37.40625 0 \r\nL 37.40625 33.6875 \r\nQ 37.40625 39.546875 35.25 42.46875 \r\nQ 33.109375 45.40625 28.21875 45.40625 \r\nQ 24.515625 45.40625 21.359375 43.453125 \r\nQ 18.21875 41.5 16.796875 37.734375 \r\nQ 15.375 33.984375 15.375 26.90625 \r\nL 15.375 0 \r\nz\r\n\" id=\"ArialMT-109\"/>\r\n       <path d=\"M 42.09375 16.703125 \r\nL 51.171875 15.578125 \r\nQ 49.03125 7.625 43.21875 3.21875 \r\nQ 37.40625 -1.171875 28.375 -1.171875 \r\nQ 17 -1.171875 10.328125 5.828125 \r\nQ 3.65625 12.84375 3.65625 25.484375 \r\nQ 3.65625 38.578125 10.390625 45.796875 \r\nQ 17.140625 53.03125 27.875 53.03125 \r\nQ 38.28125 53.03125 44.875 45.953125 \r\nQ 51.46875 38.875 51.46875 26.03125 \r\nQ 51.46875 25.25 51.421875 23.6875 \r\nL 12.75 23.6875 \r\nQ 13.234375 15.140625 17.578125 10.59375 \r\nQ 21.921875 6.0625 28.421875 6.0625 \r\nQ 33.25 6.0625 36.671875 8.59375 \r\nQ 40.09375 11.140625 42.09375 16.703125 \r\nz\r\nM 13.234375 30.90625 \r\nL 42.1875 30.90625 \r\nQ 41.609375 37.453125 38.875 40.71875 \r\nQ 34.671875 45.796875 27.984375 45.796875 \r\nQ 21.921875 45.796875 17.796875 41.75 \r\nQ 13.671875 37.703125 13.234375 30.90625 \r\nz\r\n\" id=\"ArialMT-101\"/>\r\n       <path d=\"M 40.234375 0 \r\nL 40.234375 6.546875 \r\nQ 35.296875 -1.171875 25.734375 -1.171875 \r\nQ 19.53125 -1.171875 14.328125 2.25 \r\nQ 9.125 5.671875 6.265625 11.796875 \r\nQ 3.421875 17.921875 3.421875 25.875 \r\nQ 3.421875 33.640625 6 39.96875 \r\nQ 8.59375 46.296875 13.765625 49.65625 \r\nQ 18.953125 53.03125 25.34375 53.03125 \r\nQ 30.03125 53.03125 33.6875 51.046875 \r\nQ 37.359375 49.078125 39.65625 45.90625 \r\nL 39.65625 71.578125 \r\nL 48.390625 71.578125 \r\nL 48.390625 0 \r\nz\r\nM 12.453125 25.875 \r\nQ 12.453125 15.921875 16.640625 10.984375 \r\nQ 20.84375 6.0625 26.5625 6.0625 \r\nQ 32.328125 6.0625 36.34375 10.765625 \r\nQ 40.375 15.484375 40.375 25.140625 \r\nQ 40.375 35.796875 36.265625 40.765625 \r\nQ 32.171875 45.75 26.171875 45.75 \r\nQ 20.3125 45.75 16.375 40.96875 \r\nQ 12.453125 36.1875 12.453125 25.875 \r\nz\r\n\" id=\"ArialMT-100\"/>\r\n       <path d=\"M -1.515625 -19.875 \r\nL -1.515625 -13.53125 \r\nL 56.734375 -13.53125 \r\nL 56.734375 -19.875 \r\nz\r\n\" id=\"ArialMT-95\"/>\r\n       <path d=\"M 40.578125 0 \r\nL 40.578125 7.625 \r\nQ 34.515625 -1.171875 24.125 -1.171875 \r\nQ 19.53125 -1.171875 15.546875 0.578125 \r\nQ 11.578125 2.34375 9.640625 5 \r\nQ 7.71875 7.671875 6.9375 11.53125 \r\nQ 6.390625 14.109375 6.390625 19.734375 \r\nL 6.390625 51.859375 \r\nL 15.1875 51.859375 \r\nL 15.1875 23.09375 \r\nQ 15.1875 16.21875 15.71875 13.8125 \r\nQ 16.546875 10.359375 19.234375 8.375 \r\nQ 21.921875 6.390625 25.875 6.390625 \r\nQ 29.828125 6.390625 33.296875 8.421875 \r\nQ 36.765625 10.453125 38.203125 13.9375 \r\nQ 39.65625 17.4375 39.65625 24.078125 \r\nL 39.65625 51.859375 \r\nL 48.4375 51.859375 \r\nL 48.4375 0 \r\nz\r\n\" id=\"ArialMT-117\"/>\r\n       <path d=\"M 6.59375 0 \r\nL 6.59375 51.859375 \r\nL 14.5 51.859375 \r\nL 14.5 44.484375 \r\nQ 20.21875 53.03125 31 53.03125 \r\nQ 35.6875 53.03125 39.625 51.34375 \r\nQ 43.5625 49.65625 45.515625 46.921875 \r\nQ 47.46875 44.1875 48.25 40.4375 \r\nQ 48.734375 37.984375 48.734375 31.890625 \r\nL 48.734375 0 \r\nL 39.9375 0 \r\nL 39.9375 31.546875 \r\nQ 39.9375 36.921875 38.90625 39.578125 \r\nQ 37.890625 42.234375 35.28125 43.8125 \r\nQ 32.671875 45.40625 29.15625 45.40625 \r\nQ 23.53125 45.40625 19.453125 41.84375 \r\nQ 15.375 38.28125 15.375 28.328125 \r\nL 15.375 0 \r\nz\r\n\" id=\"ArialMT-110\"/>\r\n       <path d=\"M 25.78125 7.859375 \r\nL 27.046875 0.09375 \r\nQ 23.34375 -0.6875 20.40625 -0.6875 \r\nQ 15.625 -0.6875 12.984375 0.828125 \r\nQ 10.359375 2.34375 9.28125 4.8125 \r\nQ 8.203125 7.28125 8.203125 15.1875 \r\nL 8.203125 45.015625 \r\nL 1.765625 45.015625 \r\nL 1.765625 51.859375 \r\nL 8.203125 51.859375 \r\nL 8.203125 64.703125 \r\nL 16.9375 69.96875 \r\nL 16.9375 51.859375 \r\nL 25.78125 51.859375 \r\nL 25.78125 45.015625 \r\nL 16.9375 45.015625 \r\nL 16.9375 14.703125 \r\nQ 16.9375 10.9375 17.40625 9.859375 \r\nQ 17.875 8.796875 18.921875 8.15625 \r\nQ 19.96875 7.515625 21.921875 7.515625 \r\nQ 23.390625 7.515625 25.78125 7.859375 \r\nz\r\n\" id=\"ArialMT-116\"/>\r\n       <path d=\"M 6.59375 -19.875 \r\nL 6.59375 51.859375 \r\nL 14.59375 51.859375 \r\nL 14.59375 45.125 \r\nQ 17.4375 49.078125 21 51.046875 \r\nQ 24.5625 53.03125 29.640625 53.03125 \r\nQ 36.28125 53.03125 41.359375 49.609375 \r\nQ 46.4375 46.1875 49.015625 39.953125 \r\nQ 51.609375 33.734375 51.609375 26.3125 \r\nQ 51.609375 18.359375 48.75 11.984375 \r\nQ 45.90625 5.609375 40.453125 2.21875 \r\nQ 35.015625 -1.171875 29 -1.171875 \r\nQ 24.609375 -1.171875 21.109375 0.6875 \r\nQ 17.625 2.546875 15.375 5.375 \r\nL 15.375 -19.875 \r\nz\r\nM 14.546875 25.640625 \r\nQ 14.546875 15.625 18.59375 10.84375 \r\nQ 22.65625 6.0625 28.421875 6.0625 \r\nQ 34.28125 6.0625 38.453125 11.015625 \r\nQ 42.625 15.96875 42.625 26.375 \r\nQ 42.625 36.28125 38.546875 41.203125 \r\nQ 34.46875 46.140625 28.8125 46.140625 \r\nQ 23.1875 46.140625 18.859375 40.890625 \r\nQ 14.546875 35.640625 14.546875 25.640625 \r\nz\r\n\" id=\"ArialMT-112\"/>\r\n       <path d=\"M 6.5 0 \r\nL 6.5 51.859375 \r\nL 14.40625 51.859375 \r\nL 14.40625 44 \r\nQ 17.4375 49.515625 20 51.265625 \r\nQ 22.5625 53.03125 25.640625 53.03125 \r\nQ 30.078125 53.03125 34.671875 50.203125 \r\nL 31.640625 42.046875 \r\nQ 28.421875 43.953125 25.203125 43.953125 \r\nQ 22.3125 43.953125 20.015625 42.21875 \r\nQ 17.71875 40.484375 16.75 37.40625 \r\nQ 15.28125 32.71875 15.28125 27.15625 \r\nL 15.28125 0 \r\nz\r\n\" id=\"ArialMT-114\"/>\r\n      </defs>\r\n      <g style=\"fill:#262626;\" transform=\"translate(111.725078 327.864474)rotate(-90)scale(0.11 -0.11)\">\r\n       <use xlink:href=\"#ArialMT-99\"/>\r\n       <use x=\"50\" xlink:href=\"#ArialMT-108\"/>\r\n       <use x=\"72.216797\" xlink:href=\"#ArialMT-97\"/>\r\n       <use x=\"127.832031\" xlink:href=\"#ArialMT-105\"/>\r\n       <use x=\"150.048828\" xlink:href=\"#ArialMT-109\"/>\r\n       <use x=\"233.349609\" xlink:href=\"#ArialMT-101\"/>\r\n       <use x=\"288.964844\" xlink:href=\"#ArialMT-100\"/>\r\n       <use x=\"344.580078\" xlink:href=\"#ArialMT-95\"/>\r\n       <use x=\"400.195312\" xlink:href=\"#ArialMT-117\"/>\r\n       <use x=\"455.810547\" xlink:href=\"#ArialMT-110\"/>\r\n       <use x=\"511.425781\" xlink:href=\"#ArialMT-105\"/>\r\n       <use x=\"533.642578\" xlink:href=\"#ArialMT-116\"/>\r\n       <use x=\"561.425781\" xlink:href=\"#ArialMT-95\"/>\r\n       <use x=\"617.041016\" xlink:href=\"#ArialMT-112\"/>\r\n       <use x=\"672.65625\" xlink:href=\"#ArialMT-114\"/>\r\n       <use x=\"705.957031\" xlink:href=\"#ArialMT-105\"/>\r\n       <use x=\"728.173828\" xlink:href=\"#ArialMT-99\"/>\r\n       <use x=\"778.173828\" xlink:href=\"#ArialMT-101\"/>\r\n      </g>\r\n     </g>\r\n    </g>\r\n    <g id=\"xtick_2\">\r\n     <g id=\"text_2\">\r\n      <!-- claimed_units -->\r\n      <defs>\r\n       <path d=\"M 3.078125 15.484375 \r\nL 11.765625 16.84375 \r\nQ 12.5 11.625 15.84375 8.84375 \r\nQ 19.1875 6.0625 25.203125 6.0625 \r\nQ 31.25 6.0625 34.171875 8.515625 \r\nQ 37.109375 10.984375 37.109375 14.3125 \r\nQ 37.109375 17.28125 34.515625 19 \r\nQ 32.71875 20.171875 25.53125 21.96875 \r\nQ 15.875 24.421875 12.140625 26.203125 \r\nQ 8.40625 27.984375 6.46875 31.125 \r\nQ 4.546875 34.28125 4.546875 38.09375 \r\nQ 4.546875 41.546875 6.125 44.5 \r\nQ 7.71875 47.46875 10.453125 49.421875 \r\nQ 12.5 50.921875 16.03125 51.96875 \r\nQ 19.578125 53.03125 23.640625 53.03125 \r\nQ 29.734375 53.03125 34.34375 51.265625 \r\nQ 38.96875 49.515625 41.15625 46.5 \r\nQ 43.359375 43.5 44.1875 38.484375 \r\nL 35.59375 37.3125 \r\nQ 35.015625 41.3125 32.203125 43.546875 \r\nQ 29.390625 45.796875 24.265625 45.796875 \r\nQ 18.21875 45.796875 15.625 43.796875 \r\nQ 13.03125 41.796875 13.03125 39.109375 \r\nQ 13.03125 37.40625 14.109375 36.03125 \r\nQ 15.1875 34.625 17.484375 33.6875 \r\nQ 18.796875 33.203125 25.25 31.453125 \r\nQ 34.578125 28.953125 38.25 27.359375 \r\nQ 41.9375 25.78125 44.03125 22.75 \r\nQ 46.140625 19.734375 46.140625 15.234375 \r\nQ 46.140625 10.84375 43.578125 6.953125 \r\nQ 41.015625 3.078125 36.171875 0.953125 \r\nQ 31.34375 -1.171875 25.25 -1.171875 \r\nQ 15.140625 -1.171875 9.84375 3.03125 \r\nQ 4.546875 7.234375 3.078125 15.484375 \r\nz\r\n\" id=\"ArialMT-115\"/>\r\n      </defs>\r\n      <g style=\"fill:#262626;\" transform=\"translate(223.325078 303.406662)rotate(-90)scale(0.11 -0.11)\">\r\n       <use xlink:href=\"#ArialMT-99\"/>\r\n       <use x=\"50\" xlink:href=\"#ArialMT-108\"/>\r\n       <use x=\"72.216797\" xlink:href=\"#ArialMT-97\"/>\r\n       <use x=\"127.832031\" xlink:href=\"#ArialMT-105\"/>\r\n       <use x=\"150.048828\" xlink:href=\"#ArialMT-109\"/>\r\n       <use x=\"233.349609\" xlink:href=\"#ArialMT-101\"/>\r\n       <use x=\"288.964844\" xlink:href=\"#ArialMT-100\"/>\r\n       <use x=\"344.580078\" xlink:href=\"#ArialMT-95\"/>\r\n       <use x=\"400.195312\" xlink:href=\"#ArialMT-117\"/>\r\n       <use x=\"455.810547\" xlink:href=\"#ArialMT-110\"/>\r\n       <use x=\"511.425781\" xlink:href=\"#ArialMT-105\"/>\r\n       <use x=\"533.642578\" xlink:href=\"#ArialMT-116\"/>\r\n       <use x=\"561.425781\" xlink:href=\"#ArialMT-115\"/>\r\n      </g>\r\n     </g>\r\n    </g>\r\n    <g id=\"xtick_3\">\r\n     <g id=\"text_3\">\r\n      <!-- funded_amount -->\r\n      <defs>\r\n       <path d=\"M 8.6875 0 \r\nL 8.6875 45.015625 \r\nL 0.921875 45.015625 \r\nL 0.921875 51.859375 \r\nL 8.6875 51.859375 \r\nL 8.6875 57.375 \r\nQ 8.6875 62.59375 9.625 65.140625 \r\nQ 10.890625 68.5625 14.078125 70.671875 \r\nQ 17.28125 72.796875 23.046875 72.796875 \r\nQ 26.765625 72.796875 31.25 71.921875 \r\nL 29.9375 64.265625 \r\nQ 27.203125 64.75 24.75 64.75 \r\nQ 20.75 64.75 19.09375 63.03125 \r\nQ 17.4375 61.328125 17.4375 56.640625 \r\nL 17.4375 51.859375 \r\nL 27.546875 51.859375 \r\nL 27.546875 45.015625 \r\nL 17.4375 45.015625 \r\nL 17.4375 0 \r\nz\r\n\" id=\"ArialMT-102\"/>\r\n       <path d=\"M 3.328125 25.921875 \r\nQ 3.328125 40.328125 11.328125 47.265625 \r\nQ 18.015625 53.03125 27.640625 53.03125 \r\nQ 38.328125 53.03125 45.109375 46.015625 \r\nQ 51.90625 39.015625 51.90625 26.65625 \r\nQ 51.90625 16.65625 48.90625 10.90625 \r\nQ 45.90625 5.171875 40.15625 2 \r\nQ 34.421875 -1.171875 27.640625 -1.171875 \r\nQ 16.75 -1.171875 10.03125 5.8125 \r\nQ 3.328125 12.796875 3.328125 25.921875 \r\nz\r\nM 12.359375 25.921875 \r\nQ 12.359375 15.96875 16.703125 11.015625 \r\nQ 21.046875 6.0625 27.640625 6.0625 \r\nQ 34.1875 6.0625 38.53125 11.03125 \r\nQ 42.875 16.015625 42.875 26.21875 \r\nQ 42.875 35.84375 38.5 40.796875 \r\nQ 34.125 45.75 27.640625 45.75 \r\nQ 21.046875 45.75 16.703125 40.8125 \r\nQ 12.359375 35.890625 12.359375 25.921875 \r\nz\r\n\" id=\"ArialMT-111\"/>\r\n      </defs>\r\n      <g style=\"fill:#262626;\" transform=\"translate(334.992109 312.598537)rotate(-90)scale(0.11 -0.11)\">\r\n       <use xlink:href=\"#ArialMT-102\"/>\r\n       <use x=\"27.783203\" xlink:href=\"#ArialMT-117\"/>\r\n       <use x=\"83.398438\" xlink:href=\"#ArialMT-110\"/>\r\n       <use x=\"139.013672\" xlink:href=\"#ArialMT-100\"/>\r\n       <use x=\"194.628906\" xlink:href=\"#ArialMT-101\"/>\r\n       <use x=\"250.244141\" xlink:href=\"#ArialMT-100\"/>\r\n       <use x=\"305.859375\" xlink:href=\"#ArialMT-95\"/>\r\n       <use x=\"361.474609\" xlink:href=\"#ArialMT-97\"/>\r\n       <use x=\"417.089844\" xlink:href=\"#ArialMT-109\"/>\r\n       <use x=\"500.390625\" xlink:href=\"#ArialMT-111\"/>\r\n       <use x=\"556.005859\" xlink:href=\"#ArialMT-117\"/>\r\n       <use x=\"611.621094\" xlink:href=\"#ArialMT-110\"/>\r\n       <use x=\"667.236328\" xlink:href=\"#ArialMT-116\"/>\r\n      </g>\r\n     </g>\r\n    </g>\r\n    <g id=\"text_4\">\r\n     <!-- Column -->\r\n     <defs>\r\n      <path d=\"M 58.796875 25.09375 \r\nL 68.265625 22.703125 \r\nQ 65.28125 11.03125 57.546875 4.90625 \r\nQ 49.8125 -1.21875 38.625 -1.21875 \r\nQ 27.046875 -1.21875 19.796875 3.484375 \r\nQ 12.546875 8.203125 8.765625 17.140625 \r\nQ 4.984375 26.078125 4.984375 36.328125 \r\nQ 4.984375 47.515625 9.25 55.828125 \r\nQ 13.53125 64.15625 21.40625 68.46875 \r\nQ 29.296875 72.796875 38.765625 72.796875 \r\nQ 49.515625 72.796875 56.828125 67.328125 \r\nQ 64.15625 61.859375 67.046875 51.953125 \r\nL 57.71875 49.75 \r\nQ 55.21875 57.5625 50.484375 61.125 \r\nQ 45.75 64.703125 38.578125 64.703125 \r\nQ 30.328125 64.703125 24.78125 60.734375 \r\nQ 19.234375 56.78125 16.984375 50.109375 \r\nQ 14.75 43.453125 14.75 36.375 \r\nQ 14.75 27.25 17.40625 20.4375 \r\nQ 20.0625 13.625 25.671875 10.25 \r\nQ 31.296875 6.890625 37.84375 6.890625 \r\nQ 45.796875 6.890625 51.3125 11.46875 \r\nQ 56.84375 16.0625 58.796875 25.09375 \r\nz\r\n\" id=\"ArialMT-67\"/>\r\n     </defs>\r\n     <g style=\"fill:#262626;\" transform=\"translate(199.807656 340.453849)scale(0.12 -0.12)\">\r\n      <use xlink:href=\"#ArialMT-67\"/>\r\n      <use x=\"72.216797\" xlink:href=\"#ArialMT-111\"/>\r\n      <use x=\"127.832031\" xlink:href=\"#ArialMT-108\"/>\r\n      <use x=\"150.048828\" xlink:href=\"#ArialMT-117\"/>\r\n      <use x=\"205.664062\" xlink:href=\"#ArialMT-109\"/>\r\n      <use x=\"288.964844\" xlink:href=\"#ArialMT-110\"/>\r\n     </g>\r\n    </g>\r\n   </g>\r\n   <g id=\"matplotlib.axis_2\">\r\n    <g id=\"ytick_1\">\r\n     <g id=\"line2d_1\">\r\n      <path clip-path=\"url(#pe18700f4ec)\" d=\"M 53.081406 226.653693 \r\nL 387.881406 226.653693 \r\n\" style=\"fill:none;stroke:#cccccc;stroke-linecap:round;\"/>\r\n     </g>\r\n     <g id=\"text_5\">\r\n      <!-- 0.00 -->\r\n      <defs>\r\n       <path d=\"M 4.15625 35.296875 \r\nQ 4.15625 48 6.765625 55.734375 \r\nQ 9.375 63.484375 14.515625 67.671875 \r\nQ 19.671875 71.875 27.484375 71.875 \r\nQ 33.25 71.875 37.59375 69.546875 \r\nQ 41.9375 67.234375 44.765625 62.859375 \r\nQ 47.609375 58.5 49.21875 52.21875 \r\nQ 50.828125 45.953125 50.828125 35.296875 \r\nQ 50.828125 22.703125 48.234375 14.96875 \r\nQ 45.65625 7.234375 40.5 3 \r\nQ 35.359375 -1.21875 27.484375 -1.21875 \r\nQ 17.140625 -1.21875 11.234375 6.203125 \r\nQ 4.15625 15.140625 4.15625 35.296875 \r\nz\r\nM 13.1875 35.296875 \r\nQ 13.1875 17.671875 17.3125 11.828125 \r\nQ 21.4375 6 27.484375 6 \r\nQ 33.546875 6 37.671875 11.859375 \r\nQ 41.796875 17.71875 41.796875 35.296875 \r\nQ 41.796875 52.984375 37.671875 58.78125 \r\nQ 33.546875 64.59375 27.390625 64.59375 \r\nQ 21.34375 64.59375 17.71875 59.46875 \r\nQ 13.1875 52.9375 13.1875 35.296875 \r\nz\r\n\" id=\"ArialMT-48\"/>\r\n       <path d=\"M 9.078125 0 \r\nL 9.078125 10.015625 \r\nL 19.09375 10.015625 \r\nL 19.09375 0 \r\nz\r\n\" id=\"ArialMT-46\"/>\r\n      </defs>\r\n      <g style=\"fill:#262626;\" transform=\"translate(22.174375 230.59049)scale(0.11 -0.11)\">\r\n       <use xlink:href=\"#ArialMT-48\"/>\r\n       <use x=\"55.615234\" xlink:href=\"#ArialMT-46\"/>\r\n       <use x=\"83.398438\" xlink:href=\"#ArialMT-48\"/>\r\n       <use x=\"139.013672\" xlink:href=\"#ArialMT-48\"/>\r\n      </g>\r\n     </g>\r\n    </g>\r\n    <g id=\"ytick_2\">\r\n     <g id=\"line2d_2\">\r\n      <path clip-path=\"url(#pe18700f4ec)\" d=\"M 53.081406 199.714081 \r\nL 387.881406 199.714081 \r\n\" style=\"fill:none;stroke:#cccccc;stroke-linecap:round;\"/>\r\n     </g>\r\n     <g id=\"text_6\">\r\n      <!-- 0.05 -->\r\n      <defs>\r\n       <path d=\"M 4.15625 18.75 \r\nL 13.375 19.53125 \r\nQ 14.40625 12.796875 18.140625 9.390625 \r\nQ 21.875 6 27.15625 6 \r\nQ 33.5 6 37.890625 10.78125 \r\nQ 42.28125 15.578125 42.28125 23.484375 \r\nQ 42.28125 31 38.0625 35.34375 \r\nQ 33.84375 39.703125 27 39.703125 \r\nQ 22.75 39.703125 19.328125 37.765625 \r\nQ 15.921875 35.84375 13.96875 32.765625 \r\nL 5.71875 33.84375 \r\nL 12.640625 70.609375 \r\nL 48.25 70.609375 \r\nL 48.25 62.203125 \r\nL 19.671875 62.203125 \r\nL 15.828125 42.96875 \r\nQ 22.265625 47.46875 29.34375 47.46875 \r\nQ 38.71875 47.46875 45.15625 40.96875 \r\nQ 51.609375 34.46875 51.609375 24.265625 \r\nQ 51.609375 14.546875 45.953125 7.46875 \r\nQ 39.0625 -1.21875 27.15625 -1.21875 \r\nQ 17.390625 -1.21875 11.203125 4.25 \r\nQ 5.03125 9.71875 4.15625 18.75 \r\nz\r\n\" id=\"ArialMT-53\"/>\r\n      </defs>\r\n      <g style=\"fill:#262626;\" transform=\"translate(22.174375 203.650878)scale(0.11 -0.11)\">\r\n       <use xlink:href=\"#ArialMT-48\"/>\r\n       <use x=\"55.615234\" xlink:href=\"#ArialMT-46\"/>\r\n       <use x=\"83.398438\" xlink:href=\"#ArialMT-48\"/>\r\n       <use x=\"139.013672\" xlink:href=\"#ArialMT-53\"/>\r\n      </g>\r\n     </g>\r\n    </g>\r\n    <g id=\"ytick_3\">\r\n     <g id=\"line2d_3\">\r\n      <path clip-path=\"url(#pe18700f4ec)\" d=\"M 53.081406 172.774469 \r\nL 387.881406 172.774469 \r\n\" style=\"fill:none;stroke:#cccccc;stroke-linecap:round;\"/>\r\n     </g>\r\n     <g id=\"text_7\">\r\n      <!-- 0.10 -->\r\n      <defs>\r\n       <path d=\"M 37.25 0 \r\nL 28.46875 0 \r\nL 28.46875 56 \r\nQ 25.296875 52.984375 20.140625 49.953125 \r\nQ 14.984375 46.921875 10.890625 45.40625 \r\nL 10.890625 53.90625 \r\nQ 18.265625 57.375 23.78125 62.296875 \r\nQ 29.296875 67.234375 31.59375 71.875 \r\nL 37.25 71.875 \r\nz\r\n\" id=\"ArialMT-49\"/>\r\n      </defs>\r\n      <g style=\"fill:#262626;\" transform=\"translate(22.174375 176.711266)scale(0.11 -0.11)\">\r\n       <use xlink:href=\"#ArialMT-48\"/>\r\n       <use x=\"55.615234\" xlink:href=\"#ArialMT-46\"/>\r\n       <use x=\"83.398438\" xlink:href=\"#ArialMT-49\"/>\r\n       <use x=\"139.013672\" xlink:href=\"#ArialMT-48\"/>\r\n      </g>\r\n     </g>\r\n    </g>\r\n    <g id=\"ytick_4\">\r\n     <g id=\"line2d_4\">\r\n      <path clip-path=\"url(#pe18700f4ec)\" d=\"M 53.081406 145.834857 \r\nL 387.881406 145.834857 \r\n\" style=\"fill:none;stroke:#cccccc;stroke-linecap:round;\"/>\r\n     </g>\r\n     <g id=\"text_8\">\r\n      <!-- 0.15 -->\r\n      <g style=\"fill:#262626;\" transform=\"translate(22.174375 149.771654)scale(0.11 -0.11)\">\r\n       <use xlink:href=\"#ArialMT-48\"/>\r\n       <use x=\"55.615234\" xlink:href=\"#ArialMT-46\"/>\r\n       <use x=\"83.398438\" xlink:href=\"#ArialMT-49\"/>\r\n       <use x=\"139.013672\" xlink:href=\"#ArialMT-53\"/>\r\n      </g>\r\n     </g>\r\n    </g>\r\n    <g id=\"ytick_5\">\r\n     <g id=\"line2d_5\">\r\n      <path clip-path=\"url(#pe18700f4ec)\" d=\"M 53.081406 118.895245 \r\nL 387.881406 118.895245 \r\n\" style=\"fill:none;stroke:#cccccc;stroke-linecap:round;\"/>\r\n     </g>\r\n     <g id=\"text_9\">\r\n      <!-- 0.20 -->\r\n      <defs>\r\n       <path d=\"M 50.34375 8.453125 \r\nL 50.34375 0 \r\nL 3.03125 0 \r\nQ 2.9375 3.171875 4.046875 6.109375 \r\nQ 5.859375 10.9375 9.828125 15.625 \r\nQ 13.8125 20.3125 21.34375 26.46875 \r\nQ 33.015625 36.03125 37.109375 41.625 \r\nQ 41.21875 47.21875 41.21875 52.203125 \r\nQ 41.21875 57.421875 37.46875 61 \r\nQ 33.734375 64.59375 27.734375 64.59375 \r\nQ 21.390625 64.59375 17.578125 60.78125 \r\nQ 13.765625 56.984375 13.71875 50.25 \r\nL 4.6875 51.171875 \r\nQ 5.609375 61.28125 11.65625 66.578125 \r\nQ 17.71875 71.875 27.9375 71.875 \r\nQ 38.234375 71.875 44.234375 66.15625 \r\nQ 50.25 60.453125 50.25 52 \r\nQ 50.25 47.703125 48.484375 43.546875 \r\nQ 46.734375 39.40625 42.65625 34.8125 \r\nQ 38.578125 30.21875 29.109375 22.21875 \r\nQ 21.1875 15.578125 18.9375 13.203125 \r\nQ 16.703125 10.84375 15.234375 8.453125 \r\nz\r\n\" id=\"ArialMT-50\"/>\r\n      </defs>\r\n      <g style=\"fill:#262626;\" transform=\"translate(22.174375 122.832042)scale(0.11 -0.11)\">\r\n       <use xlink:href=\"#ArialMT-48\"/>\r\n       <use x=\"55.615234\" xlink:href=\"#ArialMT-46\"/>\r\n       <use x=\"83.398438\" xlink:href=\"#ArialMT-50\"/>\r\n       <use x=\"139.013672\" xlink:href=\"#ArialMT-48\"/>\r\n      </g>\r\n     </g>\r\n    </g>\r\n    <g id=\"ytick_6\">\r\n     <g id=\"line2d_6\">\r\n      <path clip-path=\"url(#pe18700f4ec)\" d=\"M 53.081406 91.955633 \r\nL 387.881406 91.955633 \r\n\" style=\"fill:none;stroke:#cccccc;stroke-linecap:round;\"/>\r\n     </g>\r\n     <g id=\"text_10\">\r\n      <!-- 0.25 -->\r\n      <g style=\"fill:#262626;\" transform=\"translate(22.174375 95.89243)scale(0.11 -0.11)\">\r\n       <use xlink:href=\"#ArialMT-48\"/>\r\n       <use x=\"55.615234\" xlink:href=\"#ArialMT-46\"/>\r\n       <use x=\"83.398438\" xlink:href=\"#ArialMT-50\"/>\r\n       <use x=\"139.013672\" xlink:href=\"#ArialMT-53\"/>\r\n      </g>\r\n     </g>\r\n    </g>\r\n    <g id=\"ytick_7\">\r\n     <g id=\"line2d_7\">\r\n      <path clip-path=\"url(#pe18700f4ec)\" d=\"M 53.081406 65.016021 \r\nL 387.881406 65.016021 \r\n\" style=\"fill:none;stroke:#cccccc;stroke-linecap:round;\"/>\r\n     </g>\r\n     <g id=\"text_11\">\r\n      <!-- 0.30 -->\r\n      <defs>\r\n       <path d=\"M 4.203125 18.890625 \r\nL 12.984375 20.0625 \r\nQ 14.5 12.59375 18.140625 9.296875 \r\nQ 21.78125 6 27 6 \r\nQ 33.203125 6 37.46875 10.296875 \r\nQ 41.75 14.59375 41.75 20.953125 \r\nQ 41.75 27 37.796875 30.921875 \r\nQ 33.84375 34.859375 27.734375 34.859375 \r\nQ 25.25 34.859375 21.53125 33.890625 \r\nL 22.515625 41.609375 \r\nQ 23.390625 41.5 23.921875 41.5 \r\nQ 29.546875 41.5 34.03125 44.421875 \r\nQ 38.53125 47.359375 38.53125 53.46875 \r\nQ 38.53125 58.296875 35.25 61.46875 \r\nQ 31.984375 64.65625 26.8125 64.65625 \r\nQ 21.6875 64.65625 18.265625 61.421875 \r\nQ 14.84375 58.203125 13.875 51.765625 \r\nL 5.078125 53.328125 \r\nQ 6.6875 62.15625 12.390625 67.015625 \r\nQ 18.109375 71.875 26.609375 71.875 \r\nQ 32.46875 71.875 37.390625 69.359375 \r\nQ 42.328125 66.84375 44.9375 62.5 \r\nQ 47.5625 58.15625 47.5625 53.265625 \r\nQ 47.5625 48.640625 45.0625 44.828125 \r\nQ 42.578125 41.015625 37.703125 38.765625 \r\nQ 44.046875 37.3125 47.5625 32.6875 \r\nQ 51.078125 28.078125 51.078125 21.140625 \r\nQ 51.078125 11.765625 44.234375 5.25 \r\nQ 37.40625 -1.265625 26.953125 -1.265625 \r\nQ 17.53125 -1.265625 11.296875 4.34375 \r\nQ 5.078125 9.96875 4.203125 18.890625 \r\nz\r\n\" id=\"ArialMT-51\"/>\r\n      </defs>\r\n      <g style=\"fill:#262626;\" transform=\"translate(22.174375 68.952818)scale(0.11 -0.11)\">\r\n       <use xlink:href=\"#ArialMT-48\"/>\r\n       <use x=\"55.615234\" xlink:href=\"#ArialMT-46\"/>\r\n       <use x=\"83.398438\" xlink:href=\"#ArialMT-51\"/>\r\n       <use x=\"139.013672\" xlink:href=\"#ArialMT-48\"/>\r\n      </g>\r\n     </g>\r\n    </g>\r\n    <g id=\"ytick_8\">\r\n     <g id=\"line2d_8\">\r\n      <path clip-path=\"url(#pe18700f4ec)\" d=\"M 53.081406 38.076409 \r\nL 387.881406 38.076409 \r\n\" style=\"fill:none;stroke:#cccccc;stroke-linecap:round;\"/>\r\n     </g>\r\n     <g id=\"text_12\">\r\n      <!-- 0.35 -->\r\n      <g style=\"fill:#262626;\" transform=\"translate(22.174375 42.013206)scale(0.11 -0.11)\">\r\n       <use xlink:href=\"#ArialMT-48\"/>\r\n       <use x=\"55.615234\" xlink:href=\"#ArialMT-46\"/>\r\n       <use x=\"83.398438\" xlink:href=\"#ArialMT-51\"/>\r\n       <use x=\"139.013672\" xlink:href=\"#ArialMT-53\"/>\r\n      </g>\r\n     </g>\r\n    </g>\r\n    <g id=\"ytick_9\">\r\n     <g id=\"line2d_9\">\r\n      <path clip-path=\"url(#pe18700f4ec)\" d=\"M 53.081406 11.136797 \r\nL 387.881406 11.136797 \r\n\" style=\"fill:none;stroke:#cccccc;stroke-linecap:round;\"/>\r\n     </g>\r\n     <g id=\"text_13\">\r\n      <!-- 0.40 -->\r\n      <defs>\r\n       <path d=\"M 32.328125 0 \r\nL 32.328125 17.140625 \r\nL 1.265625 17.140625 \r\nL 1.265625 25.203125 \r\nL 33.9375 71.578125 \r\nL 41.109375 71.578125 \r\nL 41.109375 25.203125 \r\nL 50.78125 25.203125 \r\nL 50.78125 17.140625 \r\nL 41.109375 17.140625 \r\nL 41.109375 0 \r\nz\r\nM 32.328125 25.203125 \r\nL 32.328125 57.46875 \r\nL 9.90625 25.203125 \r\nz\r\n\" id=\"ArialMT-52\"/>\r\n      </defs>\r\n      <g style=\"fill:#262626;\" transform=\"translate(22.174375 15.073594)scale(0.11 -0.11)\">\r\n       <use xlink:href=\"#ArialMT-48\"/>\r\n       <use x=\"55.615234\" xlink:href=\"#ArialMT-46\"/>\r\n       <use x=\"83.398438\" xlink:href=\"#ArialMT-52\"/>\r\n       <use x=\"139.013672\" xlink:href=\"#ArialMT-48\"/>\r\n      </g>\r\n     </g>\r\n    </g>\r\n    <g id=\"text_14\">\r\n     <!-- Percentual -->\r\n     <defs>\r\n      <path d=\"M 7.71875 0 \r\nL 7.71875 71.578125 \r\nL 34.71875 71.578125 \r\nQ 41.84375 71.578125 45.609375 70.90625 \r\nQ 50.875 70.015625 54.4375 67.546875 \r\nQ 58.015625 65.09375 60.1875 60.640625 \r\nQ 62.359375 56.203125 62.359375 50.875 \r\nQ 62.359375 41.75 56.546875 35.421875 \r\nQ 50.734375 29.109375 35.546875 29.109375 \r\nL 17.1875 29.109375 \r\nL 17.1875 0 \r\nz\r\nM 17.1875 37.546875 \r\nL 35.6875 37.546875 \r\nQ 44.875 37.546875 48.734375 40.96875 \r\nQ 52.59375 44.390625 52.59375 50.59375 \r\nQ 52.59375 55.078125 50.3125 58.265625 \r\nQ 48.046875 61.46875 44.34375 62.5 \r\nQ 41.9375 63.140625 35.5 63.140625 \r\nL 17.1875 63.140625 \r\nz\r\n\" id=\"ArialMT-80\"/>\r\n     </defs>\r\n     <g style=\"fill:#262626;\" transform=\"translate(15.789375 146.616506)rotate(-90)scale(0.12 -0.12)\">\r\n      <use xlink:href=\"#ArialMT-80\"/>\r\n      <use x=\"66.699219\" xlink:href=\"#ArialMT-101\"/>\r\n      <use x=\"122.314453\" xlink:href=\"#ArialMT-114\"/>\r\n      <use x=\"155.615234\" xlink:href=\"#ArialMT-99\"/>\r\n      <use x=\"205.615234\" xlink:href=\"#ArialMT-101\"/>\r\n      <use x=\"261.230469\" xlink:href=\"#ArialMT-110\"/>\r\n      <use x=\"316.845703\" xlink:href=\"#ArialMT-116\"/>\r\n      <use x=\"344.628906\" xlink:href=\"#ArialMT-117\"/>\r\n      <use x=\"400.244141\" xlink:href=\"#ArialMT-97\"/>\r\n      <use x=\"455.859375\" xlink:href=\"#ArialMT-108\"/>\r\n     </g>\r\n    </g>\r\n   </g>\r\n   <g id=\"patch_3\">\r\n    <path clip-path=\"url(#pe18700f4ec)\" d=\"M 64.241406 226.653693 \r\nL 153.521406 226.653693 \r\nL 153.521406 211.878347 \r\nL 64.241406 211.878347 \r\nz\r\n\" style=\"fill:#5875a4;stroke:#ffffff;stroke-linejoin:miter;\"/>\r\n   </g>\r\n   <g id=\"patch_4\">\r\n    <path clip-path=\"url(#pe18700f4ec)\" d=\"M 175.841406 226.653693 \r\nL 265.121406 226.653693 \r\nL 265.121406 80.747148 \r\nL 175.841406 80.747148 \r\nz\r\n\" style=\"fill:#cc8963;stroke:#ffffff;stroke-linejoin:miter;\"/>\r\n   </g>\r\n   <g id=\"patch_5\">\r\n    <path clip-path=\"url(#pe18700f4ec)\" d=\"M 287.441406 226.653693 \r\nL 376.721406 226.653693 \r\nL 376.721406 19.567979 \r\nL 287.441406 19.567979 \r\nz\r\n\" style=\"fill:#5f9e6e;stroke:#ffffff;stroke-linejoin:miter;\"/>\r\n   </g>\r\n   <g id=\"line2d_10\">\r\n    <path clip-path=\"url(#pe18700f4ec)\" style=\"fill:none;stroke:#424242;stroke-linecap:round;stroke-width:2.7;\"/>\r\n   </g>\r\n   <g id=\"line2d_11\">\r\n    <path clip-path=\"url(#pe18700f4ec)\" style=\"fill:none;stroke:#424242;stroke-linecap:round;stroke-width:2.7;\"/>\r\n   </g>\r\n   <g id=\"line2d_12\">\r\n    <path clip-path=\"url(#pe18700f4ec)\" style=\"fill:none;stroke:#424242;stroke-linecap:round;stroke-width:2.7;\"/>\r\n   </g>\r\n   <g id=\"patch_6\">\r\n    <path d=\"M 53.081406 226.653693 \r\nL 53.081406 9.213693 \r\n\" style=\"fill:none;stroke:#cccccc;stroke-linecap:square;stroke-linejoin:miter;stroke-width:1.25;\"/>\r\n   </g>\r\n   <g id=\"patch_7\">\r\n    <path d=\"M 387.881406 226.653693 \r\nL 387.881406 9.213693 \r\n\" style=\"fill:none;stroke:#cccccc;stroke-linecap:square;stroke-linejoin:miter;stroke-width:1.25;\"/>\r\n   </g>\r\n   <g id=\"patch_8\">\r\n    <path d=\"M 53.081406 226.653693 \r\nL 387.881406 226.653693 \r\n\" style=\"fill:none;stroke:#cccccc;stroke-linecap:square;stroke-linejoin:miter;stroke-width:1.25;\"/>\r\n   </g>\r\n   <g id=\"patch_9\">\r\n    <path d=\"M 53.081406 9.213693 \r\nL 387.881406 9.213693 \r\n\" style=\"fill:none;stroke:#cccccc;stroke-linecap:square;stroke-linejoin:miter;stroke-width:1.25;\"/>\r\n   </g>\r\n  </g>\r\n </g>\r\n <defs>\r\n  <clipPath id=\"pe18700f4ec\">\r\n   <rect height=\"217.44\" width=\"334.8\" x=\"53.081406\" y=\"9.213693\"/>\r\n  </clipPath>\r\n </defs>\r\n</svg>\r\n",
      "image/png": "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\n"
     },
     "metadata": {}
    },
    {
     "output_type": "stream",
     "name": "stdout",
     "text": [
      "                    Percentual              Column\nName                                              \nclaimed_unit_price    0.027423  claimed_unit_price\nclaimed_units         0.270803       claimed_units\nfunded_amount         0.384352       funded_amount\nNone\n"
     ]
    }
   ],
=======
   "execution_count": null,
   "metadata": {},
   "outputs": [],
>>>>>>> 8f720b2b4e9cec63e694a4d42aa154bd5f56dde0
   "source": [
    "# Check if there any Nan Field\n",
    "print(plotNaNValuesColums(invoices_claims_last_completed))"
   ]
  },
  {
   "cell_type": "code",
<<<<<<< HEAD
   "execution_count": 37,
   "metadata": {},
   "outputs": [
    {
     "output_type": "execute_result",
     "data": {
      "text/plain": [
       "              claim_state  claimed_units claim_end_date     invoice_state  \\\n",
       "106             CANCELLED            1.0      6/25/2020         CANCELLED   \n",
       "931             CANCELLED            8.0       6/8/2020         CANCELLED   \n",
       "18551   OPERATOR_REJECTED            4.0      5/23/2020  INVOICE_REJECTED   \n",
       "18552   OPERATOR_REJECTED            4.0      5/24/2020  INVOICE_REJECTED   \n",
       "19589           CANCELLED            4.0      6/12/2020         CANCELLED   \n",
       "...                   ...            ...            ...               ...   \n",
       "231720          CANCELLED           20.0      3/12/2021         CANCELLED   \n",
       "231971      NOT_CLAIMABLE            0.0      3/11/2021          ALL_PAID   \n",
       "231999    MEMBER_REJECTED            2.0      3/18/2021  INVOICE_REJECTED   \n",
       "232628      NOT_CLAIMABLE            0.0      3/16/2021          ALL_PAID   \n",
       "232842          CANCELLED            1.0      3/24/2021         CANCELLED   \n",
       "\n",
       "       claim_start_date  funded_amount  claimed_unit_price  \\\n",
       "106           6/25/2020            NaN                1.00   \n",
       "931            6/8/2020            NaN               48.28   \n",
       "18551         5/23/2020            NaN               75.00   \n",
       "18552         5/24/2020            NaN               95.00   \n",
       "19589         6/10/2020            NaN               62.49   \n",
       "...                 ...            ...                 ...   \n",
       "231720         3/8/2021            NaN                3.10   \n",
       "231971        3/11/2021            NaN               55.47   \n",
       "231999        3/18/2021            NaN               49.30   \n",
       "232628        3/16/2021            NaN               55.47   \n",
       "232842        3/24/2021            NaN              190.00   \n",
       "\n",
       "                            claim_level2_key  \\\n",
       "106     7d0af71b-f597-11e9-bfb4-022d4762bb3c   \n",
       "931     7d0af71b-f597-11e9-bfb4-022d4762bb3c   \n",
       "18551   7d0af53b-f597-11e9-bfb4-022d4762bb3c   \n",
       "18552   7d0af53b-f597-11e9-bfb4-022d4762bb3c   \n",
       "19589   7d0af53b-f597-11e9-bfb4-022d4762bb3c   \n",
       "...                                      ...   \n",
       "231720  7d0af71b-f597-11e9-bfb4-022d4762bb3c   \n",
       "231971  7d0af53b-f597-11e9-bfb4-022d4762bb3c   \n",
       "231999  7d0af71b-f597-11e9-bfb4-022d4762bb3c   \n",
       "232628  7d0af53b-f597-11e9-bfb4-022d4762bb3c   \n",
       "232842  7d0af57b-f597-11e9-bfb4-022d4762bb3c   \n",
       "\n",
       "                            claim_level3_key  member_id  claim_id  \\\n",
       "106     2d001c6e-754f-11ea-ade9-022376bbb7c0         21      1081   \n",
       "931     2d001d20-754f-11ea-ade9-022376bbb7c0        262      2717   \n",
       "18551   2d002864-754f-11ea-ade9-022376bbb7c0        658     31479   \n",
       "18552   2d00287d-754f-11ea-ade9-022376bbb7c0        658     31480   \n",
       "19589   85e98f73-754f-11ea-ade9-022376bbb7c0       1087     33585   \n",
       "...                                      ...        ...       ...   \n",
       "231720  2d001d52-754f-11ea-ade9-022376bbb7c0       3549    917898   \n",
       "231971  2d0032cb-754f-11ea-ade9-022376bbb7c0        533    926602   \n",
       "231999  2d001d20-754f-11ea-ade9-022376bbb7c0        359    927262   \n",
       "232628  2d00284b-754f-11ea-ade9-022376bbb7c0        533    948762   \n",
       "232842  85e9e7ba-754f-11ea-ade9-022376bbb7c0        822    956883   \n",
       "\n",
       "                            claim_level1_key  invoice_id  \\\n",
       "106     58745466-f597-11e9-bfb4-022d4762bb3c         825   \n",
       "931     58745466-f597-11e9-bfb4-022d4762bb3c        1724   \n",
       "18551   58745466-f597-11e9-bfb4-022d4762bb3c       19626   \n",
       "18552   58745466-f597-11e9-bfb4-022d4762bb3c       19626   \n",
       "19589   58745466-f597-11e9-bfb4-022d4762bb3c       20911   \n",
       "...                                      ...         ...   \n",
       "231720  58745466-f597-11e9-bfb4-022d4762bb3c      495718   \n",
       "231971  58745466-f597-11e9-bfb4-022d4762bb3c      499934   \n",
       "231999  58745466-f597-11e9-bfb4-022d4762bb3c      500343   \n",
       "232628  58745466-f597-11e9-bfb4-022d4762bb3c      511380   \n",
       "232842  5874551b-f597-11e9-bfb4-022d4762bb3c      515579   \n",
       "\n",
       "        invoiced_amount_total  \n",
       "106                      1.00  \n",
       "931                    502.24  \n",
       "18551                  680.00  \n",
       "18552                  680.00  \n",
       "19589                  257.96  \n",
       "...                       ...  \n",
       "231720                1244.92  \n",
       "231971                   0.00  \n",
       "231999                  98.60  \n",
       "232628                   0.00  \n",
       "232842                 190.00  \n",
       "\n",
       "[897 rows x 14 columns]"
      ],
      "text/html": "<div>\n<style scoped>\n    .dataframe tbody tr th:only-of-type {\n        vertical-align: middle;\n    }\n\n    .dataframe tbody tr th {\n        vertical-align: top;\n    }\n\n    .dataframe thead th {\n        text-align: right;\n    }\n</style>\n<table border=\"1\" class=\"dataframe\">\n  <thead>\n    <tr style=\"text-align: right;\">\n      <th></th>\n      <th>claim_state</th>\n      <th>claimed_units</th>\n      <th>claim_end_date</th>\n      <th>invoice_state</th>\n      <th>claim_start_date</th>\n      <th>funded_amount</th>\n      <th>claimed_unit_price</th>\n      <th>claim_level2_key</th>\n      <th>claim_level3_key</th>\n      <th>member_id</th>\n      <th>claim_id</th>\n      <th>claim_level1_key</th>\n      <th>invoice_id</th>\n      <th>invoiced_amount_total</th>\n    </tr>\n  </thead>\n  <tbody>\n    <tr>\n      <th>106</th>\n      <td>CANCELLED</td>\n      <td>1.0</td>\n      <td>6/25/2020</td>\n      <td>CANCELLED</td>\n      <td>6/25/2020</td>\n      <td>NaN</td>\n      <td>1.00</td>\n      <td>7d0af71b-f597-11e9-bfb4-022d4762bb3c</td>\n      <td>2d001c6e-754f-11ea-ade9-022376bbb7c0</td>\n      <td>21</td>\n      <td>1081</td>\n      <td>58745466-f597-11e9-bfb4-022d4762bb3c</td>\n      <td>825</td>\n      <td>1.00</td>\n    </tr>\n    <tr>\n      <th>931</th>\n      <td>CANCELLED</td>\n      <td>8.0</td>\n      <td>6/8/2020</td>\n      <td>CANCELLED</td>\n      <td>6/8/2020</td>\n      <td>NaN</td>\n      <td>48.28</td>\n      <td>7d0af71b-f597-11e9-bfb4-022d4762bb3c</td>\n      <td>2d001d20-754f-11ea-ade9-022376bbb7c0</td>\n      <td>262</td>\n      <td>2717</td>\n      <td>58745466-f597-11e9-bfb4-022d4762bb3c</td>\n      <td>1724</td>\n      <td>502.24</td>\n    </tr>\n    <tr>\n      <th>18551</th>\n      <td>OPERATOR_REJECTED</td>\n      <td>4.0</td>\n      <td>5/23/2020</td>\n      <td>INVOICE_REJECTED</td>\n      <td>5/23/2020</td>\n      <td>NaN</td>\n      <td>75.00</td>\n      <td>7d0af53b-f597-11e9-bfb4-022d4762bb3c</td>\n      <td>2d002864-754f-11ea-ade9-022376bbb7c0</td>\n      <td>658</td>\n      <td>31479</td>\n      <td>58745466-f597-11e9-bfb4-022d4762bb3c</td>\n      <td>19626</td>\n      <td>680.00</td>\n    </tr>\n    <tr>\n      <th>18552</th>\n      <td>OPERATOR_REJECTED</td>\n      <td>4.0</td>\n      <td>5/24/2020</td>\n      <td>INVOICE_REJECTED</td>\n      <td>5/24/2020</td>\n      <td>NaN</td>\n      <td>95.00</td>\n      <td>7d0af53b-f597-11e9-bfb4-022d4762bb3c</td>\n      <td>2d00287d-754f-11ea-ade9-022376bbb7c0</td>\n      <td>658</td>\n      <td>31480</td>\n      <td>58745466-f597-11e9-bfb4-022d4762bb3c</td>\n      <td>19626</td>\n      <td>680.00</td>\n    </tr>\n    <tr>\n      <th>19589</th>\n      <td>CANCELLED</td>\n      <td>4.0</td>\n      <td>6/12/2020</td>\n      <td>CANCELLED</td>\n      <td>6/10/2020</td>\n      <td>NaN</td>\n      <td>62.49</td>\n      <td>7d0af53b-f597-11e9-bfb4-022d4762bb3c</td>\n      <td>85e98f73-754f-11ea-ade9-022376bbb7c0</td>\n      <td>1087</td>\n      <td>33585</td>\n      <td>58745466-f597-11e9-bfb4-022d4762bb3c</td>\n      <td>20911</td>\n      <td>257.96</td>\n    </tr>\n    <tr>\n      <th>...</th>\n      <td>...</td>\n      <td>...</td>\n      <td>...</td>\n      <td>...</td>\n      <td>...</td>\n      <td>...</td>\n      <td>...</td>\n      <td>...</td>\n      <td>...</td>\n      <td>...</td>\n      <td>...</td>\n      <td>...</td>\n      <td>...</td>\n      <td>...</td>\n    </tr>\n    <tr>\n      <th>231720</th>\n      <td>CANCELLED</td>\n      <td>20.0</td>\n      <td>3/12/2021</td>\n      <td>CANCELLED</td>\n      <td>3/8/2021</td>\n      <td>NaN</td>\n      <td>3.10</td>\n      <td>7d0af71b-f597-11e9-bfb4-022d4762bb3c</td>\n      <td>2d001d52-754f-11ea-ade9-022376bbb7c0</td>\n      <td>3549</td>\n      <td>917898</td>\n      <td>58745466-f597-11e9-bfb4-022d4762bb3c</td>\n      <td>495718</td>\n      <td>1244.92</td>\n    </tr>\n    <tr>\n      <th>231971</th>\n      <td>NOT_CLAIMABLE</td>\n      <td>0.0</td>\n      <td>3/11/2021</td>\n      <td>ALL_PAID</td>\n      <td>3/11/2021</td>\n      <td>NaN</td>\n      <td>55.47</td>\n      <td>7d0af53b-f597-11e9-bfb4-022d4762bb3c</td>\n      <td>2d0032cb-754f-11ea-ade9-022376bbb7c0</td>\n      <td>533</td>\n      <td>926602</td>\n      <td>58745466-f597-11e9-bfb4-022d4762bb3c</td>\n      <td>499934</td>\n      <td>0.00</td>\n    </tr>\n    <tr>\n      <th>231999</th>\n      <td>MEMBER_REJECTED</td>\n      <td>2.0</td>\n      <td>3/18/2021</td>\n      <td>INVOICE_REJECTED</td>\n      <td>3/18/2021</td>\n      <td>NaN</td>\n      <td>49.30</td>\n      <td>7d0af71b-f597-11e9-bfb4-022d4762bb3c</td>\n      <td>2d001d20-754f-11ea-ade9-022376bbb7c0</td>\n      <td>359</td>\n      <td>927262</td>\n      <td>58745466-f597-11e9-bfb4-022d4762bb3c</td>\n      <td>500343</td>\n      <td>98.60</td>\n    </tr>\n    <tr>\n      <th>232628</th>\n      <td>NOT_CLAIMABLE</td>\n      <td>0.0</td>\n      <td>3/16/2021</td>\n      <td>ALL_PAID</td>\n      <td>3/16/2021</td>\n      <td>NaN</td>\n      <td>55.47</td>\n      <td>7d0af53b-f597-11e9-bfb4-022d4762bb3c</td>\n      <td>2d00284b-754f-11ea-ade9-022376bbb7c0</td>\n      <td>533</td>\n      <td>948762</td>\n      <td>58745466-f597-11e9-bfb4-022d4762bb3c</td>\n      <td>511380</td>\n      <td>0.00</td>\n    </tr>\n    <tr>\n      <th>232842</th>\n      <td>CANCELLED</td>\n      <td>1.0</td>\n      <td>3/24/2021</td>\n      <td>CANCELLED</td>\n      <td>3/24/2021</td>\n      <td>NaN</td>\n      <td>190.00</td>\n      <td>7d0af57b-f597-11e9-bfb4-022d4762bb3c</td>\n      <td>85e9e7ba-754f-11ea-ade9-022376bbb7c0</td>\n      <td>822</td>\n      <td>956883</td>\n      <td>5874551b-f597-11e9-bfb4-022d4762bb3c</td>\n      <td>515579</td>\n      <td>190.00</td>\n    </tr>\n  </tbody>\n</table>\n<p>897 rows × 14 columns</p>\n</div>"
     },
     "metadata": {},
     "execution_count": 37
    }
   ],
=======
   "execution_count": null,
   "metadata": {},
   "outputs": [],
>>>>>>> 8f720b2b4e9cec63e694a4d42aa154bd5f56dde0
   "source": [
    "# Check some invoiced_amount and invoiced_amount NaN Data to\n",
    "#  Check these data have in commum\n",
    "df_invoiced_units_NaN = invoices_claims_last_completed.loc[invoices_claims_last_completed['funded_amount'].isna()]\n",
    "df_invoiced_units_NaN"
   ]
  },
  {
   "cell_type": "code",
<<<<<<< HEAD
   "execution_count": 38,
=======
   "execution_count": null,
>>>>>>> 8f720b2b4e9cec63e694a4d42aa154bd5f56dde0
   "metadata": {},
   "outputs": [],
   "source": [
    "df_null_funded_amount =  invoices_claims_last_completed[(invoices_claims_last_completed['funded_amount'].isna())\n",
    "                                                      & (invoices_claims_last_completed['invoice_state'] == 'ALL_PAID')\n",
    "                                                      & (invoices_claims_last_completed['claim_state'] == 'PAID')\n",
    "                                                     ]\n",
    "\n",
    "# Fixes The funded_amount NaN in invoice_state = ALL_PAID and claim_state = PAID\n",
    "df_null_funded_amount['funded_amount'] = df_null_funded_amount['claimed_unit_price'].astype(float) * df_null_funded_amount['claimed_units'].astype(float)\n",
    "\n",
    "\n",
    "invoices_claims_last_completed = invoices_claims_last_completed.set_index('claim_id')\n",
    "invoices_claims_last_completed.update(df_null_funded_amount.set_index('claim_id'))\n",
    "invoices_claims_last_completed.reset_index(inplace=True)    "
   ]
  },
  {
   "cell_type": "code",
<<<<<<< HEAD
   "execution_count": 39,
   "metadata": {},
   "outputs": [
    {
     "output_type": "execute_result",
     "data": {
      "text/plain": [
       "Empty DataFrame\n",
       "Columns: []\n",
       "Index: [(ALL_PAID, NOT_CLAIMABLE), (CANCELLED, CANCELLED), (INVOICE_REJECTED, MEMBER_REJECTED), (INVOICE_REJECTED, NOT_CLAIMABLE), (INVOICE_REJECTED, OPERATOR_REJECTED), (NOT_CLAIMABLE, NOT_CLAIMABLE), (PENDING_APPROVAL, PENDING_APPROVAL), (PENDING_REVIEW, CANCELLED)]"
      ],
      "text/html": "<div>\n<style scoped>\n    .dataframe tbody tr th:only-of-type {\n        vertical-align: middle;\n    }\n\n    .dataframe tbody tr th {\n        vertical-align: top;\n    }\n\n    .dataframe thead th {\n        text-align: right;\n    }\n</style>\n<table border=\"1\" class=\"dataframe\">\n  <thead>\n    <tr style=\"text-align: right;\">\n      <th></th>\n      <th></th>\n    </tr>\n    <tr>\n      <th>invoice_state</th>\n      <th>claim_state</th>\n    </tr>\n  </thead>\n  <tbody>\n    <tr>\n      <th>ALL_PAID</th>\n      <th>NOT_CLAIMABLE</th>\n    </tr>\n    <tr>\n      <th>CANCELLED</th>\n      <th>CANCELLED</th>\n    </tr>\n    <tr>\n      <th rowspan=\"3\" valign=\"top\">INVOICE_REJECTED</th>\n      <th>MEMBER_REJECTED</th>\n    </tr>\n    <tr>\n      <th>NOT_CLAIMABLE</th>\n    </tr>\n    <tr>\n      <th>OPERATOR_REJECTED</th>\n    </tr>\n    <tr>\n      <th>NOT_CLAIMABLE</th>\n      <th>NOT_CLAIMABLE</th>\n    </tr>\n    <tr>\n      <th>PENDING_APPROVAL</th>\n      <th>PENDING_APPROVAL</th>\n    </tr>\n    <tr>\n      <th>PENDING_REVIEW</th>\n      <th>CANCELLED</th>\n    </tr>\n  </tbody>\n</table>\n</div>"
     },
     "metadata": {},
     "execution_count": 39
    }
   ],
=======
   "execution_count": null,
   "metadata": {},
   "outputs": [],
>>>>>>> 8f720b2b4e9cec63e694a4d42aa154bd5f56dde0
   "source": [
    "# Group the state of invoice and claim of all null data\n",
    "#  And Keeps these records\n",
    "#   Because if 'funded_amount' is NaN means the claims is not PAID OR REFUNDED\n",
    "df_invoiced_units_NaN[{\"invoice_state\"\n",
    "                     , \"claim_state\"\n",
    "                      }].groupby([\"invoice_state\"\n",
    "                                , \"claim_state\"\n",
    "                                 ]).count()"
   ]
  },
  {
   "cell_type": "code",
<<<<<<< HEAD
   "execution_count": 40,
   "metadata": {},
   "outputs": [
    {
     "output_type": "execute_result",
     "data": {
      "text/plain": [
       "0"
      ]
     },
     "metadata": {},
     "execution_count": 40
    }
   ],
=======
   "execution_count": null,
   "metadata": {},
   "outputs": [],
>>>>>>> 8f720b2b4e9cec63e694a4d42aa154bd5f56dde0
   "source": [
    "# As seeing above some invoices stated ALL_PAID and PAID are also funded_amount NaN\n",
    "# Check The NaN fields\n",
    "len(invoices_claims_last_completed[(invoices_claims_last_completed['funded_amount'].isna())\n",
    "                                 & (invoices_claims_last_completed['invoice_state'] == 'ALL_PAID')\n",
    "                                 & (invoices_claims_last_completed['claim_state'] == 'PAID')\n",
    "                                ]\n",
    "   )"
   ]
  },
  {
   "cell_type": "code",
   "execution_count": null,
   "metadata": {},
   "outputs": [],
   "source": []
  },
  {
   "cell_type": "code",
<<<<<<< HEAD
   "execution_count": 41,
=======
   "execution_count": null,
>>>>>>> 8f720b2b4e9cec63e694a4d42aa154bd5f56dde0
   "metadata": {},
   "outputs": [],
   "source": [
    "# Group the invoices from their claims\n",
    "invoices_claims_last_completed_cleased = invoices_claims_last_completed.groupby([\"member_id\"\n",
    "                                                                               , \"invoice_state\" \n",
    "                                                                               , \"claim_state\"\n",
    "                                                                               , \"claim_level1_key\"\n",
    "                                                                               , \"claim_level2_key\"\n",
    "                                                                               , \"claim_level3_key\"\n",
    "                                                                               , \"invoiced_amount_total\"]).agg({\"funded_amount\": \"sum\"}).reset_index()"
   ]
  },
  {
   "source": [
    "### Merge dataSets cleased"
   ],
   "cell_type": "markdown",
   "metadata": {}
  },
  {
   "source": [
    "### Merges members dataSet with plans and budgets dataSet"
   ],
   "cell_type": "markdown",
   "metadata": {}
  },
  {
   "cell_type": "code",
<<<<<<< HEAD
   "execution_count": 42,
=======
   "execution_count": null,
>>>>>>> 8f720b2b4e9cec63e694a4d42aa154bd5f56dde0
   "metadata": {},
   "outputs": [],
   "source": [
    "# Member dataSet with plans and budgets dataSet\n",
    "df_members_plans_budgets_merged = pd.merge(df_members_cleased, df_plans_budgets_cleased, on=[\"member_key\", \"member_key\"])"
   ]
  },
  {
   "source": [
    "### Merges last PLAN_DELIVERY_ACTIVED plan with members plans budgets merged dataSet"
   ],
   "cell_type": "markdown",
   "metadata": {}
  },
  {
   "cell_type": "code",
<<<<<<< HEAD
   "execution_count": 43,
   "metadata": {},
   "outputs": [
    {
     "output_type": "execute_result",
     "data": {
      "text/plain": [
       "       last_name           SA1                            member_key  \\\n",
       "0          Edney  Not Assigned  f8e1f640-c7f3-11ea-baa6-ebfe92aca975   \n",
       "1          Edney  Not Assigned  f8e1f640-c7f3-11ea-baa6-ebfe92aca975   \n",
       "2          Edney  Not Assigned  f8e1f640-c7f3-11ea-baa6-ebfe92aca975   \n",
       "3          Edney  Not Assigned  f8e1f640-c7f3-11ea-baa6-ebfe92aca975   \n",
       "4          Edney  Not Assigned  f8e1f640-c7f3-11ea-baa6-ebfe92aca975   \n",
       "...          ...           ...                                   ...   \n",
       "917004     Speed  Not Assigned  fc055650-c7f3-11ea-baa6-ebfe92aca975   \n",
       "917005     Speed  Not Assigned  fc055650-c7f3-11ea-baa6-ebfe92aca975   \n",
       "917006     Speed  Not Assigned  fc055650-c7f3-11ea-baa6-ebfe92aca975   \n",
       "917007     Speed  Not Assigned  fc055650-c7f3-11ea-baa6-ebfe92aca975   \n",
       "917008     Speed  Not Assigned  fc055650-c7f3-11ea-baa6-ebfe92aca975   \n",
       "\n",
       "        price_zone_code  disabilities  member_id first_name  \\\n",
       "0                Remote       Amputee       1350      Aaron   \n",
       "1                Remote       Amputee       1350      Aaron   \n",
       "2                Remote       Amputee       1350      Aaron   \n",
       "3                Remote       Amputee       1350      Aaron   \n",
       "4                Remote       Amputee       1350      Aaron   \n",
       "...                 ...           ...        ...        ...   \n",
       "917004  ACT_NSW_QLD_VIC  Not Assigned       1497    Zsa zsa   \n",
       "917005  ACT_NSW_QLD_VIC  Not Assigned       1497    Zsa zsa   \n",
       "917006  ACT_NSW_QLD_VIC  Not Assigned       1497    Zsa zsa   \n",
       "917007  ACT_NSW_QLD_VIC  Not Assigned       1497    Zsa zsa   \n",
       "917008  ACT_NSW_QLD_VIC  Not Assigned       1497    Zsa zsa   \n",
       "\n",
       "                                    plan_key           plan_status  \\\n",
       "0       ffa0a580-c7f3-11ea-b247-07c902e1140e  PLAN_DELIVERY_ACTIVE   \n",
       "1       ffa0a580-c7f3-11ea-b247-07c902e1140e  PLAN_DELIVERY_ACTIVE   \n",
       "2       ffa0a580-c7f3-11ea-b247-07c902e1140e  PLAN_DELIVERY_ACTIVE   \n",
       "3       ffa0a580-c7f3-11ea-b247-07c902e1140e  PLAN_DELIVERY_ACTIVE   \n",
       "4       ffa0a580-c7f3-11ea-b247-07c902e1140e  PLAN_DELIVERY_ACTIVE   \n",
       "...                                      ...                   ...   \n",
       "917004  00a98a00-c7f4-11ea-b247-07c902e1140e  PLAN_DELIVERY_ACTIVE   \n",
       "917005  00a98a00-c7f4-11ea-b247-07c902e1140e  PLAN_DELIVERY_ACTIVE   \n",
       "917006  00a98a00-c7f4-11ea-b247-07c902e1140e  PLAN_DELIVERY_ACTIVE   \n",
       "917007  00a98a00-c7f4-11ea-b247-07c902e1140e  PLAN_DELIVERY_ACTIVE   \n",
       "917008  00a98a00-c7f4-11ea-b247-07c902e1140e  PLAN_DELIVERY_ACTIVE   \n",
       "\n",
       "       plan_start_date  ...                     budget_level1_key  \\\n",
       "0           2020-04-30  ...  58745466-f597-11e9-bfb4-022d4762bb3c   \n",
       "1           2020-04-30  ...  58745466-f597-11e9-bfb4-022d4762bb3c   \n",
       "2           2020-04-30  ...  58745466-f597-11e9-bfb4-022d4762bb3c   \n",
       "3           2020-04-30  ...  58745466-f597-11e9-bfb4-022d4762bb3c   \n",
       "4           2020-04-30  ...  58745466-f597-11e9-bfb4-022d4762bb3c   \n",
       "...                ...  ...                                   ...   \n",
       "917004      2020-06-01  ...  5874551b-f597-11e9-bfb4-022d4762bb3c   \n",
       "917005      2020-06-01  ...  5874551b-f597-11e9-bfb4-022d4762bb3c   \n",
       "917006      2020-06-01  ...  5874551b-f597-11e9-bfb4-022d4762bb3c   \n",
       "917007      2020-06-01  ...  5874551b-f597-11e9-bfb4-022d4762bb3c   \n",
       "917008      2020-06-01  ...  5874551b-f597-11e9-bfb4-022d4762bb3c   \n",
       "\n",
       "       budget_level1_name budget_value_allocated invoice_state claim_state  \\\n",
       "0                    Core                2000.00      ALL_PAID        PAID   \n",
       "1                    Core                2000.00      ALL_PAID        PAID   \n",
       "2                    Core                2000.00      ALL_PAID        PAID   \n",
       "3                    Core                2000.00      ALL_PAID        PAID   \n",
       "4                    Core                2000.00      ALL_PAID        PAID   \n",
       "...                   ...                    ...           ...         ...   \n",
       "917004  Capacity Building               16004.25      ALL_PAID        PAID   \n",
       "917005  Capacity Building               16004.25      ALL_PAID        PAID   \n",
       "917006  Capacity Building               16004.25      ALL_PAID        PAID   \n",
       "917007  Capacity Building               16004.25      ALL_PAID        PAID   \n",
       "917008  Capacity Building               16004.25      ALL_PAID        PAID   \n",
       "\n",
       "                            claim_level1_key  \\\n",
       "0       58745466-f597-11e9-bfb4-022d4762bb3c   \n",
       "1       58745466-f597-11e9-bfb4-022d4762bb3c   \n",
       "2       58745466-f597-11e9-bfb4-022d4762bb3c   \n",
       "3       58745466-f597-11e9-bfb4-022d4762bb3c   \n",
       "4       58745466-f597-11e9-bfb4-022d4762bb3c   \n",
       "...                                      ...   \n",
       "917004  5874551b-f597-11e9-bfb4-022d4762bb3c   \n",
       "917005  5874551b-f597-11e9-bfb4-022d4762bb3c   \n",
       "917006  5874551b-f597-11e9-bfb4-022d4762bb3c   \n",
       "917007  5874551b-f597-11e9-bfb4-022d4762bb3c   \n",
       "917008  5874551b-f597-11e9-bfb4-022d4762bb3c   \n",
       "\n",
       "                            claim_level2_key  \\\n",
       "0       7d0af53b-f597-11e9-bfb4-022d4762bb3c   \n",
       "1       7d0af53b-f597-11e9-bfb4-022d4762bb3c   \n",
       "2       7d0af53b-f597-11e9-bfb4-022d4762bb3c   \n",
       "3       7d0af53b-f597-11e9-bfb4-022d4762bb3c   \n",
       "4       7d0af53b-f597-11e9-bfb4-022d4762bb3c   \n",
       "...                                      ...   \n",
       "917004  7d0af57b-f597-11e9-bfb4-022d4762bb3c   \n",
       "917005  7d0af57b-f597-11e9-bfb4-022d4762bb3c   \n",
       "917006  7d0af57b-f597-11e9-bfb4-022d4762bb3c   \n",
       "917007  7d0af57b-f597-11e9-bfb4-022d4762bb3c   \n",
       "917008  7d0af57b-f597-11e9-bfb4-022d4762bb3c   \n",
       "\n",
       "                            claim_level3_key  invoiced_amount_total  \\\n",
       "0       2d00284b-754f-11ea-ade9-022376bbb7c0                 152.04   \n",
       "1       2d00284b-754f-11ea-ade9-022376bbb7c0                 158.43   \n",
       "2       2d00284b-754f-11ea-ade9-022376bbb7c0                 219.08   \n",
       "3       2d00284b-754f-11ea-ade9-022376bbb7c0                 223.57   \n",
       "4       2d00284b-754f-11ea-ade9-022376bbb7c0                 239.82   \n",
       "...                                      ...                    ...   \n",
       "917004  85e9e51f-754f-11ea-ade9-022376bbb7c0                  96.60   \n",
       "917005  85e9e51f-754f-11ea-ade9-022376bbb7c0                 425.25   \n",
       "917006  85e9e810-754f-11ea-ade9-022376bbb7c0                  94.50   \n",
       "917007  85e9e810-754f-11ea-ade9-022376bbb7c0                  96.60   \n",
       "917008  85e9e810-754f-11ea-ade9-022376bbb7c0                 330.75   \n",
       "\n",
       "       funded_amount  \n",
       "0             304.08  \n",
       "1              81.39  \n",
       "2             152.04  \n",
       "3             152.04  \n",
       "4             162.78  \n",
       "...              ...  \n",
       "917004        966.00  \n",
       "917005        425.25  \n",
       "917006        189.00  \n",
       "917007        483.00  \n",
       "917008        330.75  \n",
       "\n",
       "[917009 rows x 26 columns]"
      ],
      "text/html": "<div>\n<style scoped>\n    .dataframe tbody tr th:only-of-type {\n        vertical-align: middle;\n    }\n\n    .dataframe tbody tr th {\n        vertical-align: top;\n    }\n\n    .dataframe thead th {\n        text-align: right;\n    }\n</style>\n<table border=\"1\" class=\"dataframe\">\n  <thead>\n    <tr style=\"text-align: right;\">\n      <th></th>\n      <th>last_name</th>\n      <th>SA1</th>\n      <th>member_key</th>\n      <th>price_zone_code</th>\n      <th>disabilities</th>\n      <th>member_id</th>\n      <th>first_name</th>\n      <th>plan_key</th>\n      <th>plan_status</th>\n      <th>plan_start_date</th>\n      <th>...</th>\n      <th>budget_level1_key</th>\n      <th>budget_level1_name</th>\n      <th>budget_value_allocated</th>\n      <th>invoice_state</th>\n      <th>claim_state</th>\n      <th>claim_level1_key</th>\n      <th>claim_level2_key</th>\n      <th>claim_level3_key</th>\n      <th>invoiced_amount_total</th>\n      <th>funded_amount</th>\n    </tr>\n  </thead>\n  <tbody>\n    <tr>\n      <th>0</th>\n      <td>Edney</td>\n      <td>Not Assigned</td>\n      <td>f8e1f640-c7f3-11ea-baa6-ebfe92aca975</td>\n      <td>Remote</td>\n      <td>Amputee</td>\n      <td>1350</td>\n      <td>Aaron</td>\n      <td>ffa0a580-c7f3-11ea-b247-07c902e1140e</td>\n      <td>PLAN_DELIVERY_ACTIVE</td>\n      <td>2020-04-30</td>\n      <td>...</td>\n      <td>58745466-f597-11e9-bfb4-022d4762bb3c</td>\n      <td>Core</td>\n      <td>2000.00</td>\n      <td>ALL_PAID</td>\n      <td>PAID</td>\n      <td>58745466-f597-11e9-bfb4-022d4762bb3c</td>\n      <td>7d0af53b-f597-11e9-bfb4-022d4762bb3c</td>\n      <td>2d00284b-754f-11ea-ade9-022376bbb7c0</td>\n      <td>152.04</td>\n      <td>304.08</td>\n    </tr>\n    <tr>\n      <th>1</th>\n      <td>Edney</td>\n      <td>Not Assigned</td>\n      <td>f8e1f640-c7f3-11ea-baa6-ebfe92aca975</td>\n      <td>Remote</td>\n      <td>Amputee</td>\n      <td>1350</td>\n      <td>Aaron</td>\n      <td>ffa0a580-c7f3-11ea-b247-07c902e1140e</td>\n      <td>PLAN_DELIVERY_ACTIVE</td>\n      <td>2020-04-30</td>\n      <td>...</td>\n      <td>58745466-f597-11e9-bfb4-022d4762bb3c</td>\n      <td>Core</td>\n      <td>2000.00</td>\n      <td>ALL_PAID</td>\n      <td>PAID</td>\n      <td>58745466-f597-11e9-bfb4-022d4762bb3c</td>\n      <td>7d0af53b-f597-11e9-bfb4-022d4762bb3c</td>\n      <td>2d00284b-754f-11ea-ade9-022376bbb7c0</td>\n      <td>158.43</td>\n      <td>81.39</td>\n    </tr>\n    <tr>\n      <th>2</th>\n      <td>Edney</td>\n      <td>Not Assigned</td>\n      <td>f8e1f640-c7f3-11ea-baa6-ebfe92aca975</td>\n      <td>Remote</td>\n      <td>Amputee</td>\n      <td>1350</td>\n      <td>Aaron</td>\n      <td>ffa0a580-c7f3-11ea-b247-07c902e1140e</td>\n      <td>PLAN_DELIVERY_ACTIVE</td>\n      <td>2020-04-30</td>\n      <td>...</td>\n      <td>58745466-f597-11e9-bfb4-022d4762bb3c</td>\n      <td>Core</td>\n      <td>2000.00</td>\n      <td>ALL_PAID</td>\n      <td>PAID</td>\n      <td>58745466-f597-11e9-bfb4-022d4762bb3c</td>\n      <td>7d0af53b-f597-11e9-bfb4-022d4762bb3c</td>\n      <td>2d00284b-754f-11ea-ade9-022376bbb7c0</td>\n      <td>219.08</td>\n      <td>152.04</td>\n    </tr>\n    <tr>\n      <th>3</th>\n      <td>Edney</td>\n      <td>Not Assigned</td>\n      <td>f8e1f640-c7f3-11ea-baa6-ebfe92aca975</td>\n      <td>Remote</td>\n      <td>Amputee</td>\n      <td>1350</td>\n      <td>Aaron</td>\n      <td>ffa0a580-c7f3-11ea-b247-07c902e1140e</td>\n      <td>PLAN_DELIVERY_ACTIVE</td>\n      <td>2020-04-30</td>\n      <td>...</td>\n      <td>58745466-f597-11e9-bfb4-022d4762bb3c</td>\n      <td>Core</td>\n      <td>2000.00</td>\n      <td>ALL_PAID</td>\n      <td>PAID</td>\n      <td>58745466-f597-11e9-bfb4-022d4762bb3c</td>\n      <td>7d0af53b-f597-11e9-bfb4-022d4762bb3c</td>\n      <td>2d00284b-754f-11ea-ade9-022376bbb7c0</td>\n      <td>223.57</td>\n      <td>152.04</td>\n    </tr>\n    <tr>\n      <th>4</th>\n      <td>Edney</td>\n      <td>Not Assigned</td>\n      <td>f8e1f640-c7f3-11ea-baa6-ebfe92aca975</td>\n      <td>Remote</td>\n      <td>Amputee</td>\n      <td>1350</td>\n      <td>Aaron</td>\n      <td>ffa0a580-c7f3-11ea-b247-07c902e1140e</td>\n      <td>PLAN_DELIVERY_ACTIVE</td>\n      <td>2020-04-30</td>\n      <td>...</td>\n      <td>58745466-f597-11e9-bfb4-022d4762bb3c</td>\n      <td>Core</td>\n      <td>2000.00</td>\n      <td>ALL_PAID</td>\n      <td>PAID</td>\n      <td>58745466-f597-11e9-bfb4-022d4762bb3c</td>\n      <td>7d0af53b-f597-11e9-bfb4-022d4762bb3c</td>\n      <td>2d00284b-754f-11ea-ade9-022376bbb7c0</td>\n      <td>239.82</td>\n      <td>162.78</td>\n    </tr>\n    <tr>\n      <th>...</th>\n      <td>...</td>\n      <td>...</td>\n      <td>...</td>\n      <td>...</td>\n      <td>...</td>\n      <td>...</td>\n      <td>...</td>\n      <td>...</td>\n      <td>...</td>\n      <td>...</td>\n      <td>...</td>\n      <td>...</td>\n      <td>...</td>\n      <td>...</td>\n      <td>...</td>\n      <td>...</td>\n      <td>...</td>\n      <td>...</td>\n      <td>...</td>\n      <td>...</td>\n      <td>...</td>\n    </tr>\n    <tr>\n      <th>917004</th>\n      <td>Speed</td>\n      <td>Not Assigned</td>\n      <td>fc055650-c7f3-11ea-baa6-ebfe92aca975</td>\n      <td>ACT_NSW_QLD_VIC</td>\n      <td>Not Assigned</td>\n      <td>1497</td>\n      <td>Zsa zsa</td>\n      <td>00a98a00-c7f4-11ea-b247-07c902e1140e</td>\n      <td>PLAN_DELIVERY_ACTIVE</td>\n      <td>2020-06-01</td>\n      <td>...</td>\n      <td>5874551b-f597-11e9-bfb4-022d4762bb3c</td>\n      <td>Capacity Building</td>\n      <td>16004.25</td>\n      <td>ALL_PAID</td>\n      <td>PAID</td>\n      <td>5874551b-f597-11e9-bfb4-022d4762bb3c</td>\n      <td>7d0af57b-f597-11e9-bfb4-022d4762bb3c</td>\n      <td>85e9e51f-754f-11ea-ade9-022376bbb7c0</td>\n      <td>96.60</td>\n      <td>966.00</td>\n    </tr>\n    <tr>\n      <th>917005</th>\n      <td>Speed</td>\n      <td>Not Assigned</td>\n      <td>fc055650-c7f3-11ea-baa6-ebfe92aca975</td>\n      <td>ACT_NSW_QLD_VIC</td>\n      <td>Not Assigned</td>\n      <td>1497</td>\n      <td>Zsa zsa</td>\n      <td>00a98a00-c7f4-11ea-b247-07c902e1140e</td>\n      <td>PLAN_DELIVERY_ACTIVE</td>\n      <td>2020-06-01</td>\n      <td>...</td>\n      <td>5874551b-f597-11e9-bfb4-022d4762bb3c</td>\n      <td>Capacity Building</td>\n      <td>16004.25</td>\n      <td>ALL_PAID</td>\n      <td>PAID</td>\n      <td>5874551b-f597-11e9-bfb4-022d4762bb3c</td>\n      <td>7d0af57b-f597-11e9-bfb4-022d4762bb3c</td>\n      <td>85e9e51f-754f-11ea-ade9-022376bbb7c0</td>\n      <td>425.25</td>\n      <td>425.25</td>\n    </tr>\n    <tr>\n      <th>917006</th>\n      <td>Speed</td>\n      <td>Not Assigned</td>\n      <td>fc055650-c7f3-11ea-baa6-ebfe92aca975</td>\n      <td>ACT_NSW_QLD_VIC</td>\n      <td>Not Assigned</td>\n      <td>1497</td>\n      <td>Zsa zsa</td>\n      <td>00a98a00-c7f4-11ea-b247-07c902e1140e</td>\n      <td>PLAN_DELIVERY_ACTIVE</td>\n      <td>2020-06-01</td>\n      <td>...</td>\n      <td>5874551b-f597-11e9-bfb4-022d4762bb3c</td>\n      <td>Capacity Building</td>\n      <td>16004.25</td>\n      <td>ALL_PAID</td>\n      <td>PAID</td>\n      <td>5874551b-f597-11e9-bfb4-022d4762bb3c</td>\n      <td>7d0af57b-f597-11e9-bfb4-022d4762bb3c</td>\n      <td>85e9e810-754f-11ea-ade9-022376bbb7c0</td>\n      <td>94.50</td>\n      <td>189.00</td>\n    </tr>\n    <tr>\n      <th>917007</th>\n      <td>Speed</td>\n      <td>Not Assigned</td>\n      <td>fc055650-c7f3-11ea-baa6-ebfe92aca975</td>\n      <td>ACT_NSW_QLD_VIC</td>\n      <td>Not Assigned</td>\n      <td>1497</td>\n      <td>Zsa zsa</td>\n      <td>00a98a00-c7f4-11ea-b247-07c902e1140e</td>\n      <td>PLAN_DELIVERY_ACTIVE</td>\n      <td>2020-06-01</td>\n      <td>...</td>\n      <td>5874551b-f597-11e9-bfb4-022d4762bb3c</td>\n      <td>Capacity Building</td>\n      <td>16004.25</td>\n      <td>ALL_PAID</td>\n      <td>PAID</td>\n      <td>5874551b-f597-11e9-bfb4-022d4762bb3c</td>\n      <td>7d0af57b-f597-11e9-bfb4-022d4762bb3c</td>\n      <td>85e9e810-754f-11ea-ade9-022376bbb7c0</td>\n      <td>96.60</td>\n      <td>483.00</td>\n    </tr>\n    <tr>\n      <th>917008</th>\n      <td>Speed</td>\n      <td>Not Assigned</td>\n      <td>fc055650-c7f3-11ea-baa6-ebfe92aca975</td>\n      <td>ACT_NSW_QLD_VIC</td>\n      <td>Not Assigned</td>\n      <td>1497</td>\n      <td>Zsa zsa</td>\n      <td>00a98a00-c7f4-11ea-b247-07c902e1140e</td>\n      <td>PLAN_DELIVERY_ACTIVE</td>\n      <td>2020-06-01</td>\n      <td>...</td>\n      <td>5874551b-f597-11e9-bfb4-022d4762bb3c</td>\n      <td>Capacity Building</td>\n      <td>16004.25</td>\n      <td>ALL_PAID</td>\n      <td>PAID</td>\n      <td>5874551b-f597-11e9-bfb4-022d4762bb3c</td>\n      <td>7d0af57b-f597-11e9-bfb4-022d4762bb3c</td>\n      <td>85e9e810-754f-11ea-ade9-022376bbb7c0</td>\n      <td>330.75</td>\n      <td>330.75</td>\n    </tr>\n  </tbody>\n</table>\n<p>917009 rows × 26 columns</p>\n</div>"
     },
     "metadata": {},
     "execution_count": 43
    }
   ],
   "source": [
    "invoices_claims_plan_delivery_active = df_members_plans_budgets_merged.loc[(df_members_plans_budgets_merged['plan_status'] == 'PLAN_DELIVERY_ACTIVE')]\n",
    "\n",
    "invoices_claims_plan_delivery_active = invoices_claims_plan_delivery_active.merge(invoices_claims_last_actived_cleased, on='member_id')"
=======
   "execution_count": null,
   "metadata": {},
   "outputs": [],
   "source": [
    "invoices_claims_plan_delivery_active = df_members_plans_budgets_merged.loc[(df_members_plans_budgets_merged['plan_status'] == 'PLAN_DELIVERY_ACTIVE')]\n",
    "\n",
    "invoices_claims_plan_delivery_active = invoices_claims_plan_delivery_active.merge(invoices_claims_last_actived_cleased, on='member_id')\n",
    "\n",
    "invoices_claims_plan_delivery_active"
>>>>>>> 8f720b2b4e9cec63e694a4d42aa154bd5f56dde0
   ]
  },
  {
   "cell_type": "code",
<<<<<<< HEAD
   "execution_count": 44,
=======
   "execution_count": null,
>>>>>>> 8f720b2b4e9cec63e694a4d42aa154bd5f56dde0
   "metadata": {},
   "outputs": [],
   "source": [
    "invoices_claims_plan_delivery_active = invoices_claims_plan_delivery_active[\n",
    "\n",
    "   (\n",
<<<<<<< HEAD
    "      (invoices_claims_plan_delivery_active.budget_level3_key == 'Not Assigned')\n",
=======
    "      (invoices_claims_plan_delivery_active.budget_level3_key == 'No Assigned')\n",
>>>>>>> 8f720b2b4e9cec63e694a4d42aa154bd5f56dde0
    "    & (invoices_claims_plan_delivery_active.budget_level2_key == invoices_claims_plan_delivery_active.claim_level2_key)\n",
    "    \n",
    "   )\n",
    "\n",
    "   |\n",
    "\n",
    "   (\n",
<<<<<<< HEAD
    "      (invoices_claims_plan_delivery_active.budget_level3_key != 'Not Assigned')\n",
=======
    "      (invoices_claims_plan_delivery_active.budget_level3_key != 'No Assigned')\n",
>>>>>>> 8f720b2b4e9cec63e694a4d42aa154bd5f56dde0
    "    & (invoices_claims_plan_delivery_active.budget_level3_key == invoices_claims_plan_delivery_active.claim_level3_key)\n",
    "    & (invoices_claims_plan_delivery_active.budget_level2_key == invoices_claims_plan_delivery_active.claim_level2_key)\n",
    "    & (invoices_claims_plan_delivery_active.budget_level1_key == invoices_claims_plan_delivery_active.budget_level1_key)\n",
    "   )\n",
    "\n",
    "       \n",
    "]"
   ]
  },
  {
   "source": [
    "### Merges last COMPLETED plan with members plans budgets merged dataSet"
   ],
   "cell_type": "markdown",
   "metadata": {}
  },
  {
   "cell_type": "code",
<<<<<<< HEAD
   "execution_count": 45,
=======
   "execution_count": null,
>>>>>>> 8f720b2b4e9cec63e694a4d42aa154bd5f56dde0
   "metadata": {},
   "outputs": [],
   "source": [
    "invoices_claims_plan_completed = df_members_plans_budgets_merged.loc[(df_members_plans_budgets_merged['plan_status'] == 'COMPLETED')]\n",
    "\n",
    "invoices_claims_plan_completed = invoices_claims_plan_completed.merge(invoices_claims_last_completed_cleased, on='member_id')\n",
    "\n",
    "invoices_claims_plan_completed = invoices_claims_plan_completed[\n",
    "\n",
    "   (\n",
<<<<<<< HEAD
    "      (invoices_claims_plan_completed.budget_level3_key == 'Not Assigned')\n",
=======
    "      (invoices_claims_plan_completed.budget_level3_key == 'No Assigned')\n",
>>>>>>> 8f720b2b4e9cec63e694a4d42aa154bd5f56dde0
    "    & (invoices_claims_plan_completed.budget_level2_key == invoices_claims_plan_completed.claim_level2_key)\n",
    "    \n",
    "   )\n",
    "\n",
    "   |\n",
    "\n",
    "   (\n",
<<<<<<< HEAD
    "      (invoices_claims_plan_completed.budget_level3_key != 'Not Assigned')\n",
=======
    "      (invoices_claims_plan_completed.budget_level3_key != 'No Assigned')\n",
>>>>>>> 8f720b2b4e9cec63e694a4d42aa154bd5f56dde0
    "    & (invoices_claims_plan_completed.budget_level3_key == invoices_claims_plan_completed.claim_level3_key)\n",
    "    & (invoices_claims_plan_completed.budget_level2_key == invoices_claims_plan_completed.claim_level2_key)\n",
    "    & (invoices_claims_plan_completed.budget_level1_key == invoices_claims_plan_completed.budget_level1_key)\n",
    "   )\n",
    "        \n",
    "]"
   ]
  },
  {
   "source": [
    "### Merges last COMPLETED plan dataSet with PLAN_DELIVERY_ACTIVED plan"
   ],
   "cell_type": "markdown",
   "metadata": {}
  },
  {
   "cell_type": "code",
<<<<<<< HEAD
   "execution_count": 46,
=======
   "execution_count": null,
>>>>>>> 8f720b2b4e9cec63e694a4d42aa154bd5f56dde0
   "metadata": {},
   "outputs": [],
   "source": [
    "frames = [invoices_claims_plan_delivery_active, invoices_claims_plan_completed]\n",
    "invoices_claims_merged = pd.concat(frames)"
   ]
  },
  {
   "cell_type": "code",
<<<<<<< HEAD
   "execution_count": 47,
=======
   "execution_count": null,
>>>>>>> 8f720b2b4e9cec63e694a4d42aa154bd5f56dde0
   "metadata": {},
   "outputs": [],
   "source": [
    "df_model = invoices_claims_merged.groupby([\"member_key\"\n",
    "                                         , \"first_name\"\n",
    "                                         , \"last_name\"\n",
    "                                         , \"disabilities\"\n",
    "                                         , \"SA1\"\n",
    "                                         , \"price_zone_code\"                                         \n",
    "                                         , \"plan_key\"\n",
    "                                         , \"plan_status\"\n",
    "                                         , \"plan_start_date\"\n",
    "                                         , \"plan_end_date\"                                                                               \n",
    "                                         , \"budget_level3_name\"\n",
    "                                         , \"budget_level3_key\"\n",
    "                                         , \"budget_level2_key\"\n",
    "                                         , \"budget_level2_name\"\n",
    "                                         , \"budget_level1_key\"\n",
    "                                         , \"budget_level1_name\"\n",
    "                                         , \"budget_value_allocated\"  \t\n",
    "                                         , \"invoice_state\"\n",
    "                                         , \"claim_state\"\n",
    "                                          ]).agg({\"invoiced_amount_total\": \"sum\", \"funded_amount\": \"sum\"}).reset_index()                                                          "
   ]
  },
  {
   "cell_type": "code",
<<<<<<< HEAD
   "execution_count": 48,
   "metadata": {},
   "outputs": [
    {
     "output_type": "execute_result",
     "data": {
      "text/plain": [
       "                              member_key first_name last_name  disabilities  \\\n",
       "14  007c1090-d6ca-11ea-bb8a-a73bf14c75f9     Janean   Potzold  Not Assigned   \n",
       "15  007c1090-d6ca-11ea-bb8a-a73bf14c75f9     Janean   Potzold  Not Assigned   \n",
       "16  007c1090-d6ca-11ea-bb8a-a73bf14c75f9     Janean   Potzold  Not Assigned   \n",
       "19  007c1090-d6ca-11ea-bb8a-a73bf14c75f9     Janean   Potzold  Not Assigned   \n",
       "\n",
       "             SA1  price_zone_code                              plan_key  \\\n",
       "14  Not Assigned  ACT_NSW_QLD_VIC  812de63d-76f2-4818-96f8-c92ab85c16a0   \n",
       "15  Not Assigned  ACT_NSW_QLD_VIC  812de63d-76f2-4818-96f8-c92ab85c16a0   \n",
       "16  Not Assigned  ACT_NSW_QLD_VIC  812de63d-76f2-4818-96f8-c92ab85c16a0   \n",
       "19  Not Assigned  ACT_NSW_QLD_VIC  8910b6c2-643b-421e-9da6-8f2fea8f3e9a   \n",
       "\n",
       "             plan_status plan_start_date plan_end_date  ... budget_level3_key  \\\n",
       "14  PLAN_DELIVERY_ACTIVE      2020-08-18    2021-08-18  ...      Not Assigned   \n",
       "15  PLAN_DELIVERY_ACTIVE      2020-08-18    2021-08-18  ...      Not Assigned   \n",
       "16  PLAN_DELIVERY_ACTIVE      2020-08-18    2021-08-18  ...      Not Assigned   \n",
       "19             COMPLETED      2020-08-14    2020-08-17  ...      Not Assigned   \n",
       "\n",
       "                       budget_level2_key            budget_level2_name  \\\n",
       "14  7d0af57b-f597-11e9-bfb4-022d4762bb3c  Improved daily living skills   \n",
       "15  7d0af57b-f597-11e9-bfb4-022d4762bb3c  Improved daily living skills   \n",
       "16  7d0af57b-f597-11e9-bfb4-022d4762bb3c  Improved daily living skills   \n",
       "19  7d0af57b-f597-11e9-bfb4-022d4762bb3c  Improved daily living skills   \n",
       "\n",
       "                       budget_level1_key budget_level1_name  \\\n",
       "14  5874551b-f597-11e9-bfb4-022d4762bb3c  Capacity Building   \n",
       "15  5874551b-f597-11e9-bfb4-022d4762bb3c  Capacity Building   \n",
       "16  5874551b-f597-11e9-bfb4-022d4762bb3c  Capacity Building   \n",
       "19  5874551b-f597-11e9-bfb4-022d4762bb3c  Capacity Building   \n",
       "\n",
       "   budget_value_allocated     invoice_state          claim_state  \\\n",
       "14                24504.0          ALL_PAID                 PAID   \n",
       "15                24504.0  INVOICE_REJECTED      SCHEME_REJECTED   \n",
       "16                24504.0     PENDING_CLAIM  OPERATOR_AUTHORIZED   \n",
       "19                 8168.0          ALL_PAID                 PAID   \n",
       "\n",
       "   invoiced_amount_total  funded_amount  \n",
       "14               7206.50        6886.68  \n",
       "15                387.98           0.00  \n",
       "16                193.99           0.00  \n",
       "19                678.97         678.97  \n",
       "\n",
       "[4 rows x 21 columns]"
      ],
      "text/html": "<div>\n<style scoped>\n    .dataframe tbody tr th:only-of-type {\n        vertical-align: middle;\n    }\n\n    .dataframe tbody tr th {\n        vertical-align: top;\n    }\n\n    .dataframe thead th {\n        text-align: right;\n    }\n</style>\n<table border=\"1\" class=\"dataframe\">\n  <thead>\n    <tr style=\"text-align: right;\">\n      <th></th>\n      <th>member_key</th>\n      <th>first_name</th>\n      <th>last_name</th>\n      <th>disabilities</th>\n      <th>SA1</th>\n      <th>price_zone_code</th>\n      <th>plan_key</th>\n      <th>plan_status</th>\n      <th>plan_start_date</th>\n      <th>plan_end_date</th>\n      <th>...</th>\n      <th>budget_level3_key</th>\n      <th>budget_level2_key</th>\n      <th>budget_level2_name</th>\n      <th>budget_level1_key</th>\n      <th>budget_level1_name</th>\n      <th>budget_value_allocated</th>\n      <th>invoice_state</th>\n      <th>claim_state</th>\n      <th>invoiced_amount_total</th>\n      <th>funded_amount</th>\n    </tr>\n  </thead>\n  <tbody>\n    <tr>\n      <th>14</th>\n      <td>007c1090-d6ca-11ea-bb8a-a73bf14c75f9</td>\n      <td>Janean</td>\n      <td>Potzold</td>\n      <td>Not Assigned</td>\n      <td>Not Assigned</td>\n      <td>ACT_NSW_QLD_VIC</td>\n      <td>812de63d-76f2-4818-96f8-c92ab85c16a0</td>\n      <td>PLAN_DELIVERY_ACTIVE</td>\n      <td>2020-08-18</td>\n      <td>2021-08-18</td>\n      <td>...</td>\n      <td>Not Assigned</td>\n      <td>7d0af57b-f597-11e9-bfb4-022d4762bb3c</td>\n      <td>Improved daily living skills</td>\n      <td>5874551b-f597-11e9-bfb4-022d4762bb3c</td>\n      <td>Capacity Building</td>\n      <td>24504.0</td>\n      <td>ALL_PAID</td>\n      <td>PAID</td>\n      <td>7206.50</td>\n      <td>6886.68</td>\n    </tr>\n    <tr>\n      <th>15</th>\n      <td>007c1090-d6ca-11ea-bb8a-a73bf14c75f9</td>\n      <td>Janean</td>\n      <td>Potzold</td>\n      <td>Not Assigned</td>\n      <td>Not Assigned</td>\n      <td>ACT_NSW_QLD_VIC</td>\n      <td>812de63d-76f2-4818-96f8-c92ab85c16a0</td>\n      <td>PLAN_DELIVERY_ACTIVE</td>\n      <td>2020-08-18</td>\n      <td>2021-08-18</td>\n      <td>...</td>\n      <td>Not Assigned</td>\n      <td>7d0af57b-f597-11e9-bfb4-022d4762bb3c</td>\n      <td>Improved daily living skills</td>\n      <td>5874551b-f597-11e9-bfb4-022d4762bb3c</td>\n      <td>Capacity Building</td>\n      <td>24504.0</td>\n      <td>INVOICE_REJECTED</td>\n      <td>SCHEME_REJECTED</td>\n      <td>387.98</td>\n      <td>0.00</td>\n    </tr>\n    <tr>\n      <th>16</th>\n      <td>007c1090-d6ca-11ea-bb8a-a73bf14c75f9</td>\n      <td>Janean</td>\n      <td>Potzold</td>\n      <td>Not Assigned</td>\n      <td>Not Assigned</td>\n      <td>ACT_NSW_QLD_VIC</td>\n      <td>812de63d-76f2-4818-96f8-c92ab85c16a0</td>\n      <td>PLAN_DELIVERY_ACTIVE</td>\n      <td>2020-08-18</td>\n      <td>2021-08-18</td>\n      <td>...</td>\n      <td>Not Assigned</td>\n      <td>7d0af57b-f597-11e9-bfb4-022d4762bb3c</td>\n      <td>Improved daily living skills</td>\n      <td>5874551b-f597-11e9-bfb4-022d4762bb3c</td>\n      <td>Capacity Building</td>\n      <td>24504.0</td>\n      <td>PENDING_CLAIM</td>\n      <td>OPERATOR_AUTHORIZED</td>\n      <td>193.99</td>\n      <td>0.00</td>\n    </tr>\n    <tr>\n      <th>19</th>\n      <td>007c1090-d6ca-11ea-bb8a-a73bf14c75f9</td>\n      <td>Janean</td>\n      <td>Potzold</td>\n      <td>Not Assigned</td>\n      <td>Not Assigned</td>\n      <td>ACT_NSW_QLD_VIC</td>\n      <td>8910b6c2-643b-421e-9da6-8f2fea8f3e9a</td>\n      <td>COMPLETED</td>\n      <td>2020-08-14</td>\n      <td>2020-08-17</td>\n      <td>...</td>\n      <td>Not Assigned</td>\n      <td>7d0af57b-f597-11e9-bfb4-022d4762bb3c</td>\n      <td>Improved daily living skills</td>\n      <td>5874551b-f597-11e9-bfb4-022d4762bb3c</td>\n      <td>Capacity Building</td>\n      <td>8168.0</td>\n      <td>ALL_PAID</td>\n      <td>PAID</td>\n      <td>678.97</td>\n      <td>678.97</td>\n    </tr>\n  </tbody>\n</table>\n<p>4 rows × 21 columns</p>\n</div>"
     },
     "metadata": {},
     "execution_count": 48
    }
   ],
=======
   "execution_count": null,
   "metadata": {},
   "outputs": [],
>>>>>>> 8f720b2b4e9cec63e694a4d42aa154bd5f56dde0
   "source": [
    "df_model.loc[(df_model['member_key'] == '007c1090-d6ca-11ea-bb8a-a73bf14c75f9')\n",
    "           & (df_model['budget_level2_key'] == '7d0af57b-f597-11e9-bfb4-022d4762bb3c')         \n",
    "]  "
   ]
  }
 ]
>>>>>>> 97b14aa546dc72a004eaf5395c6151929b5f41b5
}