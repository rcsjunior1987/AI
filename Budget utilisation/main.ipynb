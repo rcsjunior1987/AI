{
 "metadata": {
  "language_info": {
   "codemirror_mode": {
    "name": "ipython",
    "version": 3
   },
   "file_extension": ".py",
   "mimetype": "text/x-python",
   "name": "python",
   "nbconvert_exporter": "python",
   "pygments_lexer": "ipython3",
   "version": "3.8.5"
  },
  "orig_nbformat": 2,
  "kernelspec": {
   "name": "python385jvsc74a57bd0d7c375635162da09f0df265be1ff543fa0e54d4b5ed0ee516c18eaf6e6e8fe7a",
   "display_name": "Python 3.8.5 32-bit"
  },
  "metadata": {
   "interpreter": {
    "hash": "d7c375635162da09f0df265be1ff543fa0e54d4b5ed0ee516c18eaf6e6e8fe7a"
   }
  }
 },
 "nbformat": 4,
 "nbformat_minor": 2,
 "cells": [
  {
   "cell_type": "code",
   "execution_count": 1,
   "metadata": {},
   "outputs": [],
   "source": [
    "# -------------------------- LIBRARIES NECESSARY IN THIS PROJECT  -------------------------- #\n",
    "import pandas as pd\n",
    "import numpy as np\n",
    "\n",
    "# -------------------------- FUNCTIONS -------------------------- #\n",
    "\n",
    "def getDataSet(data_path):\n",
    "    return pd.read_csv(data_path)\n",
    "\n",
    "# -------------------------- PATH OF THE DATASETS USED IN THE PROJECT  -------------------------- #\n",
    "\n",
    "invoices_claims_last_actived_path=\"dataSets/Invoices_Claims_Last_Actived.csv\"\n",
    "invoices_claims_last_completed_path=\"dataSets/Invoices_Claims_Last_Completed.csv\"\n",
    "invoices_claims_path=\"dataSets/Invoices_Claims.csv\"\n",
    "members_supported=\"dataSets/Members_Supported.csv\"\n",
    "plans_budgets=\"dataSets/Plans_Budgets.csv\"\n",
    "providers=\"dataSets/Providers.csv\""
   ]
  },
  {
   "source": [
    "## 1. Data manipulation and cleansing<a name=\"preparation\"></a>"
   ],
   "cell_type": "markdown",
   "metadata": {}
  },
  {
   "source": [
    "### Upload dataSets"
   ],
   "cell_type": "markdown",
   "metadata": {}
  },
  {
   "cell_type": "code",
   "execution_count": 2,
   "metadata": {},
   "outputs": [
    {
     "output_type": "stream",
     "name": "stderr",
     "text": [
      "C:\\Users\\dttt1\\AppData\\Roaming\\Python\\Python38\\site-packages\\IPython\\core\\interactiveshell.py:3254: DtypeWarning: Columns (37,41,42,46,47,48) have mixed types.Specify dtype option on import or set low_memory=False.\n",
      "  if (await self.run_code(code, result,  async_=asy)):\n",
      "C:\\Users\\dttt1\\AppData\\Roaming\\Python\\Python38\\site-packages\\IPython\\core\\interactiveshell.py:3254: DtypeWarning: Columns (6) have mixed types.Specify dtype option on import or set low_memory=False.\n",
      "  if (await self.run_code(code, result,  async_=asy)):\n"
     ]
    }
   ],
   "source": [
    "# upload the dataSet with invoices and claims data\n",
    "invoices_claims_last_actived_all_fields = getDataSet(invoices_claims_last_actived_path)\n",
    "invoices_claims_last_completed_all_fields = getDataSet(invoices_claims_last_completed_path)\n",
    "\n",
    "# upload the dataSet with invoices and claims data\n",
    "df_plans_budgets_all_fields = getDataSet(plans_budgets)\n",
    "\n",
    "# upload the dataSet with invoices and claims data\n",
    "df_members_supported_all_fields = getDataSet(members_supported)"
   ]
  },
  {
   "source": [
    "### Members dataset cleasing"
   ],
   "cell_type": "markdown",
   "metadata": {}
  },
  {
   "cell_type": "code",
   "execution_count": 3,
   "metadata": {},
   "outputs": [
    {
     "output_type": "stream",
     "name": "stderr",
     "text": [
      "C:\\Users\\dttt1\\AppData\\Roaming\\Python\\Python38\\site-packages\\pandas\\core\\indexing.py:966: SettingWithCopyWarning: \nA value is trying to be set on a copy of a slice from a DataFrame.\nTry using .loc[row_indexer,col_indexer] = value instead\n\nSee the caveats in the documentation: https://pandas.pydata.org/pandas-docs/stable/user_guide/indexing.html#returning-a-view-versus-a-copy\n  self.obj[item] = s\nC:\\Users\\dttt1\\AppData\\Roaming\\Python\\Python38\\site-packages\\pandas\\core\\frame.py:4125: SettingWithCopyWarning: \nA value is trying to be set on a copy of a slice from a DataFrame\n\nSee the caveats in the documentation: https://pandas.pydata.org/pandas-docs/stable/user_guide/indexing.html#returning-a-view-versus-a-copy\n  return super().rename(\n"
     ]
    }
   ],
   "source": [
    "# Select just the fields to be used\n",
    "df_members_supported = df_members_supported_all_fields[{\"id\"\n",
    "                                                      , \"member_key\" \n",
    "                                                      , \"first_name\"\n",
    "                                                      , \"last_name\"\n",
    "                                                      , \"price_zone_code\"\n",
    "                                                      , \"u_disabilities\"\n",
    "                                                      , \"SA1\"\n",
    "                                                      }]\n",
    "\n",
    "# Check if there any Nan Field\n",
    "df_any_Nan = df_members_supported.isna().any()\n",
    "\n",
    "#  There are some u_disabilities, SA1 NaN\n",
    "# However, all records are keeped\n",
    "df_any_Nan\n",
    "\n",
    "# And it is assigned 'No Assigned' to both u_disabilities and SA1\n",
    "df_members_supported.loc[df_members_supported['u_disabilities'].isnull(),['u_disabilities']] = \"No Assigned\"\n",
    "df_members_supported.loc[df_members_supported['SA1'].isnull(),['SA1']] = \"No Assigned\"\n",
    "\n",
    "# Rename some dataSet colums to create a name's pattern\n",
    "df_members_supported.rename(columns={'id':'member_id'\n",
    "                                   , 'u_disabilities':'disabilities'\n",
    "                                    } , inplace = True)\n",
    "\n",
    "df_members_cleased = df_members_supported"
   ]
  },
  {
   "source": [
    "### Plains and budgets dataset cleasing"
   ],
   "cell_type": "markdown",
   "metadata": {}
  },
  {
   "cell_type": "code",
   "execution_count": 4,
   "metadata": {},
   "outputs": [],
   "source": [
    "# Select just the fields to be used\n",
    "df_plans_budgets = df_plans_budgets_all_fields[{\"member_key\"\n",
    "                                              , \"plan_key\"\n",
    "                                              , \"plan_start_date\" \n",
    "                                              , \"plan_start_date.1\"\n",
    "                                              , \"status\"\n",
    "                                              , \"budget_number\"\n",
    "                                              , \"level2_key\"\n",
    "                                              , \"level2_name\"\n",
    "                                              , \"level1_key\"\n",
    "                                              , \"level1_name\"\n",
    "                                              , \"item_category_level3_key\"\n",
    "                                              , \"name_stated_item\"\n",
    "                                              , \"value_allocated_budget\"\n",
    "                                              , \"status_budget\"\n",
    "                                              }]\n",
    "\n",
    "\n",
    "# Rename some dataSet colums to create a name's pattern\n",
    "df_plans_budgets.rename(columns={'plan_start_date.1':'plan_end_date'\n",
    "                               , 'status':'plan_status'                               \n",
    "                               , 'status_budget':'budget_status'\n",
    "                               , 'value_allocated_budget':'budget_value_allocated'\n",
    "                               , 'level2_key':'budget_level2_key'\n",
    "                               , 'level2_name':'budget_level2_name'\n",
    "                               , 'level2_display_name':'budget_level2_display_name'\n",
    "                               , 'level1_key':'budget_level1_key'\n",
    "                               , 'level1_name':'budget_level1_name'\n",
    "                               , 'item_category_level3_key':'budget_level3_key'\n",
    "                               , 'level3_reference_number':'budget_level3_reference_number'\n",
    "                               , 'name_stated_item':'budget_level3_name'                               \n",
    "                                } , inplace = True)\n",
    "\n",
    "\n",
    "# It keeps all plain, but deletes the no CONFIRMED budgets\n",
    "df_plans_budgets.drop(df_plans_budgets[df_plans_budgets.budget_status != 'CONFIRMED'].index)\n",
    "\n",
    "# Check if there is any NaN field\n",
    "df_any_Nan = df_plans_budgets.isna().any()\n",
    "df_any_Nan\n",
    "\n",
    "# if level3_key is null\n",
    "#   Assigns 'no assigned' in columns 'level3_key','level3_reference_number', 'stated_item_name'\n",
    "#    Because some budgts starts and level2 and, so level3 is null\n",
    "df_plans_budgets.loc[df_plans_budgets['budget_level3_key'].isnull(),['budget_level3_key', 'budget_level3_name']] = \"No Assigned\"\n",
    "\n",
    "# Check if there is any NaN field\n",
    "df_any_Nan = df_plans_budgets.isna().any()\n",
    "df_any_Nan\n",
    "\n",
    "# Check the why some budget_number are NaN\n",
    " # And figured out that they are null \n",
    " # because they are records created manually by users for balance\n",
    "budget_number_NaN = df_plans_budgets[df_plans_budgets[\"budget_number\"].isna()]\n",
    "budget_number_NaN\n",
    "\n",
    "# Deletes the records with budget_number are NaN \n",
    "#  And keeps the ones with level3_reference_number, stated_item_name, level3_key\n",
    "#   because if level3_reference_number, stated_item_name, level3_key are NaN\n",
    "#   Means the budget starts in level 2\n",
    "df_plans_budgets = df_plans_budgets.drop(df_plans_budgets[df_plans_budgets.budget_number.isna()].index)\n",
    "\n",
    "df_plans_budgets['plan_start_date'] = df_plans_budgets['plan_start_date'].astype('datetime64[ns]').dt.date\n",
    "df_plans_budgets['plan_end_date'] = df_plans_budgets['plan_end_date'].astype('datetime64[ns]').dt.date\n",
    "\n",
    "\n",
    "# Group the plans from their bugdets\n",
    "df_plans_budgets_cleased = df_plans_budgets.groupby([\"member_key\"\n",
    "                                                   , \"plan_key\"\n",
    "                                                   , \"plan_status\"\n",
    "                                                   , \"plan_start_date\"\n",
    "                                                   , \"plan_end_date\"\n",
    "                                                   , \"budget_status\"\n",
    "                                                   , \"budget_level3_name\"\n",
    "                                                   , \"budget_level3_key\" \n",
    "                                                   , \"budget_level2_key\"\n",
    "                                                   , \"budget_level2_name\"\n",
    "                                                   , \"budget_level1_key\"\n",
    "                                                   , \"budget_level1_name\"]).agg({\"budget_value_allocated\": \"sum\"}).reset_index()                             "
   ]
  },
  {
   "source": [
    "### Invoice and claims dataset cleasing"
   ],
   "cell_type": "markdown",
   "metadata": {}
  },
  {
   "cell_type": "code",
   "execution_count": 5,
   "metadata": {},
   "outputs": [
    {
     "output_type": "stream",
     "name": "stderr",
     "text": [
      "<ipython-input-5-55987713a981>:25: SettingWithCopyWarning: \n",
      "A value is trying to be set on a copy of a slice from a DataFrame.\n",
      "Try using .loc[row_indexer,col_indexer] = value instead\n",
      "\n",
      "See the caveats in the documentation: https://pandas.pydata.org/pandas-docs/stable/user_guide/indexing.html#returning-a-view-versus-a-copy\n",
      "  invoices_claims_last_actived['invoiced_amount'] = invoices_claims_last_actived['invoiced_unit_price'] * invoices_claims_last_actived['invoiced_units']\n",
      "<ipython-input-5-55987713a981>:57: SettingWithCopyWarning: \n",
      "A value is trying to be set on a copy of a slice from a DataFrame.\n",
      "Try using .loc[row_indexer,col_indexer] = value instead\n",
      "\n",
      "See the caveats in the documentation: https://pandas.pydata.org/pandas-docs/stable/user_guide/indexing.html#returning-a-view-versus-a-copy\n",
      "  invoices_claims_last_actived['claim_start_date'] = invoices_claims_last_actived['claim_start_date'].astype('datetime64[ns]').dt.date\n",
      "<ipython-input-5-55987713a981>:58: SettingWithCopyWarning: \n",
      "A value is trying to be set on a copy of a slice from a DataFrame.\n",
      "Try using .loc[row_indexer,col_indexer] = value instead\n",
      "\n",
      "See the caveats in the documentation: https://pandas.pydata.org/pandas-docs/stable/user_guide/indexing.html#returning-a-view-versus-a-copy\n",
      "  invoices_claims_last_actived['claim_end_date'] = invoices_claims_last_actived['claim_end_date'].astype('datetime64[ns]').dt.date\n"
     ]
    }
   ],
   "source": [
    "# Select just the fields to be used\n",
    "invoices_claims_last_actived = invoices_claims_last_actived_all_fields[{\"member_id\"\n",
    "                                                                      , \"invoice_state\"\n",
    "                                                                      , \"claim_state\"\n",
    "                                                                      , \"key\"  \n",
    "                                                                      , \"key.1\"\n",
    "                                                                      , \"key.2\"\n",
    "                                                                      , \"claim_start_date\"\n",
    "                                                                      , \"claim_end_date\"\n",
    "                                                                      , \"claim_funded_amount\"  \n",
    "                                                                      , \"funded_total\"\n",
    "                                                                      , \"invoiced_units\"\n",
    "                                                                      , \"invoiced_unit_price\"\n",
    "                                                                      }]\n",
    "\n",
    "# Rename some dataSet colums to create a name's pattern\n",
    "invoices_claims_last_actived.rename(columns={'funded_total':'invoiced_amount'\n",
    "                                           , 'claim_funded_amount':'funded_amount'\n",
    "                                           , 'key.1':'claim_level2_key'\n",
    "                                           , 'key.2':'claim_level1_key'\n",
    "                                           , 'key':'claim_level3_key'\n",
    "                                              } , inplace = True)\n",
    "\n",
    "\n",
    "invoices_claims_last_actived['invoiced_amount'] = invoices_claims_last_actived['invoiced_unit_price'] * invoices_claims_last_actived['invoiced_units'] \n",
    "\n",
    "\n",
    "# Get the name of columns with Nan values\n",
    "#  and figured out that some fields are Nan values\n",
    "df_any_Nan = invoices_claims_last_actived.isna().any()\n",
    "df_any_Nan\n",
    "\n",
    "# There are 'funded_amount' filds == NaN\n",
    "#   Checking their types it is seing that they are float64 typed \n",
    "#invoices_claims_last_actived.info()\n",
    "\n",
    "# Check The NaN fields\n",
    "df_invoices_claims_filtered = invoices_claims_last_actived[invoices_claims_last_actived.isna().any(axis=1)]\n",
    "\n",
    "# Check state of claims with NaN claim_state \n",
    "df_filtered = df_invoices_claims_filtered[{\"invoice_state\"\n",
    "                                         , \"claim_state\"\n",
    "                                         }]\n",
    "\n",
    "# Group the state of invoice and claim of all null data\n",
    "#  And Keeps these records\n",
    "#   Because if 'funded_amount' is NaN means the claims is not PAID OR REFUNDED\n",
    "df_filtered_grouped = df_invoices_claims_filtered.groupby([\"invoice_state\"\n",
    "                                                         , \"claim_state\"\n",
    "                                                          ]).count()\n",
    "\n",
    "# Some funded_amount == null, then they will be assinged as 0 and will not be deleted\n",
    "# Because if they are null means they are still waiting for approval\n",
    "invoices_claims_last_actived.loc[invoices_claims_last_actived['funded_amount'].isnull(),['funded_amount']] = 0\n",
    "\n",
    "#invoices_claims_last_actived['invoice_created_at'] = invoices_claims_last_actived['invoice_created_at'].astype('datetime64[ns]').dt.date\n",
    "invoices_claims_last_actived['claim_start_date'] = invoices_claims_last_actived['claim_start_date'].astype('datetime64[ns]').dt.date\n",
    "invoices_claims_last_actived['claim_end_date'] = invoices_claims_last_actived['claim_end_date'].astype('datetime64[ns]').dt.date\n",
    "\n",
    "# Group the invoices from their claims\n",
    "invoices_claims_last_actived_cleased = invoices_claims_last_actived.groupby([\"member_id\"\n",
    "                                                                           , \"invoice_state\" \n",
    "                                                                           , \"claim_state\"\n",
    "                                                                           , \"claim_level1_key\"\n",
    "                                                                           , \"claim_level2_key\"\n",
    "                                                                           , \"claim_level3_key\"]).agg({\"invoiced_amount\": \"sum\", \"funded_amount\": \"sum\"}).reset_index()                          "
   ]
  },
  {
   "cell_type": "code",
   "execution_count": 6,
   "metadata": {},
   "outputs": [
    {
     "output_type": "stream",
     "name": "stderr",
     "text": [
      "<ipython-input-6-48f7ed1e7734>:24: SettingWithCopyWarning: \n",
      "A value is trying to be set on a copy of a slice from a DataFrame.\n",
      "Try using .loc[row_indexer,col_indexer] = value instead\n",
      "\n",
      "See the caveats in the documentation: https://pandas.pydata.org/pandas-docs/stable/user_guide/indexing.html#returning-a-view-versus-a-copy\n",
      "  invoices_claims_last_completed['invoiced_amount'] = invoices_claims_last_completed['invoiced_unit_price'] * invoices_claims_last_completed['invoiced_units']\n",
      "<ipython-input-6-48f7ed1e7734>:53: SettingWithCopyWarning: \n",
      "A value is trying to be set on a copy of a slice from a DataFrame.\n",
      "Try using .loc[row_indexer,col_indexer] = value instead\n",
      "\n",
      "See the caveats in the documentation: https://pandas.pydata.org/pandas-docs/stable/user_guide/indexing.html#returning-a-view-versus-a-copy\n",
      "  invoices_claims_last_completed['claim_start_date'] = invoices_claims_last_completed['claim_start_date'].astype('datetime64[ns]').dt.date\n",
      "<ipython-input-6-48f7ed1e7734>:54: SettingWithCopyWarning: \n",
      "A value is trying to be set on a copy of a slice from a DataFrame.\n",
      "Try using .loc[row_indexer,col_indexer] = value instead\n",
      "\n",
      "See the caveats in the documentation: https://pandas.pydata.org/pandas-docs/stable/user_guide/indexing.html#returning-a-view-versus-a-copy\n",
      "  invoices_claims_last_completed['claim_end_date'] = invoices_claims_last_completed['claim_end_date'].astype('datetime64[ns]').dt.date\n"
     ]
    }
   ],
   "source": [
    "# Select just the fields to be used\n",
    "invoices_claims_last_completed = invoices_claims_last_completed_all_fields[{\"member_id\"\n",
    "                                                                          , \"invoice_state\"\n",
    "                                                                          , \"claim_state\"\n",
    "                                                                          , \"key\"  \n",
    "                                                                          , \"key.1\"\n",
    "                                                                          , \"key.2\"\n",
    "                                                                          , \"claim_start_date\"\n",
    "                                                                          , \"claim_end_date\"\n",
    "                                                                          , \"claim_funded_amount\"  \n",
    "                                                                          , \"funded_total\"\n",
    "                                                                          , \"invoiced_units\"\n",
    "                                                                          , \"invoiced_unit_price\"\n",
    "                                                                          }]\n",
    "\n",
    "# Rename some dataSet colums to create a name's pattern\n",
    "invoices_claims_last_completed.rename(columns={'funded_total':'invoice_amount'\n",
    "                                           , 'claim_funded_amount':'funded_amount'\n",
    "                                           , 'key.1':'claim_level2_key'\n",
    "                                           , 'key.2':'claim_level1_key'\n",
    "                                           , 'key':'claim_level3_key'\n",
    "                                              } , inplace = True)\n",
    "\n",
    "invoices_claims_last_completed['invoiced_amount'] = invoices_claims_last_completed['invoiced_unit_price'] * invoices_claims_last_completed['invoiced_units'] \n",
    "\n",
    "# Get the name of columns with Nan values\n",
    "#  and figured out that some fields are Nan values\n",
    "df_any_Nan = invoices_claims_last_completed.isna().any()\n",
    "df_any_Nan\n",
    "\n",
    "\n",
    "# Check The NaN fields\n",
    "df_invoices_claims_filtered = invoices_claims_last_completed[invoices_claims_last_completed.isna().any(axis=1)]\n",
    "\n",
    "# Check state of claims with NaN claim_state \n",
    "df_filtered = df_invoices_claims_filtered[{\"invoice_state\"\n",
    "                                         , \"claim_state\"\n",
    "                                         }]\n",
    "\n",
    "# Group the state of invoice and claim of all null data\n",
    "#  And Keeps these records\n",
    "#   Because if 'funded_amount' is NaN means the claims is not PAID OR REFUNDED\n",
    "df_filtered_grouped = df_invoices_claims_filtered.groupby([\"invoice_state\"\n",
    "                                                         , \"claim_state\"\n",
    "                                                          ]).count()\n",
    "\n",
    "# Some funded_amount == null, then they will be assinged as 0 and will not be deleted\n",
    "# Because if they are null means they were not paid\n",
    "invoices_claims_last_completed.loc[invoices_claims_last_completed['funded_amount'].isnull(),['funded_amount']] = 0\n",
    "\n",
    "#invoices_claims_last_completed['invoice_created_at'] = invoices_claims_last_completed['invoice_created_at'].astype('datetime64[ns]').dt.date\n",
    "\n",
    "invoices_claims_last_completed['claim_start_date'] = invoices_claims_last_completed['claim_start_date'].astype('datetime64[ns]').dt.date\n",
    "invoices_claims_last_completed['claim_end_date'] = invoices_claims_last_completed['claim_end_date'].astype('datetime64[ns]').dt.date\n",
    "\n",
    "# Group the invoices from their claims\n",
    "invoices_claims_last_completed_cleased = invoices_claims_last_completed.groupby([\"member_id\"\n",
    "                                                                               , \"invoice_state\" \n",
    "                                                                               , \"claim_state\"\n",
    "                                                                               , \"claim_level1_key\"\n",
    "                                                                               , \"claim_level2_key\"\n",
    "                                                                               , \"claim_level3_key\"]).agg({\"invoiced_amount\": \"sum\", \"funded_amount\": \"sum\"}).reset_index()"
   ]
  },
  {
   "source": [
    "### Merge dataSets cleased"
   ],
   "cell_type": "markdown",
   "metadata": {}
  },
  {
   "cell_type": "code",
   "execution_count": 7,
   "metadata": {},
   "outputs": [],
   "source": [
    "# Member dataSet with plans and budgets dataSet\n",
    "df_members_plans_budgets_merged = pd.merge(df_members_cleased, df_plans_budgets_cleased, on=[\"member_key\", \"member_key\"])            "
   ]
  },
  {
   "cell_type": "code",
   "execution_count": 8,
   "metadata": {},
   "outputs": [],
   "source": [
    "invoices_claims_plan_delivery_active = df_members_plans_budgets_merged.loc[(df_members_plans_budgets_merged['plan_status'] == 'PLAN_DELIVERY_ACTIVE')]\n",
    "\n",
    "invoices_claims_plan_delivery_active = invoices_claims_plan_delivery_active.merge(invoices_claims_last_actived_cleased, on='member_id')\n",
    "\n",
    "invoices_claims_plan_delivery_active = invoices_claims_plan_delivery_active[\n",
    "            (invoices_claims_plan_delivery_active.budget_level1_key == invoices_claims_plan_delivery_active.claim_level1_key)\n",
    "\n",
    "         &  (invoices_claims_plan_delivery_active.budget_level2_key == invoices_claims_plan_delivery_active.claim_level2_key)\n",
    "\n",
    "         &  ((invoices_claims_plan_delivery_active.budget_level3_key == 'No Assigned')\n",
    "          | ((invoices_claims_plan_delivery_active.budget_level3_key != 'No Assigned')\n",
    "           & (invoices_claims_plan_delivery_active.budget_level3_key == invoices_claims_plan_delivery_active.claim_level3_key)))\n",
    "        \n",
    "           ]"
   ]
  },
  {
   "cell_type": "code",
   "execution_count": 9,
   "metadata": {},
   "outputs": [],
   "source": [
    "invoices_claims_plan_completed = df_members_plans_budgets_merged.loc[(df_members_plans_budgets_merged['plan_status'] == 'COMPLETED')]\n",
    "\n",
    "invoices_claims_plan_completed = invoices_claims_plan_completed.merge(invoices_claims_last_completed_cleased, on='member_id')\n",
    "\n",
    "invoices_claims_plan_completed = invoices_claims_plan_completed[\n",
    "            (invoices_claims_plan_completed.budget_level1_key == invoices_claims_plan_completed.claim_level1_key)\n",
    "\n",
    "         &  (invoices_claims_plan_completed.budget_level2_key == invoices_claims_plan_completed.claim_level2_key)\n",
    "\n",
    "         &  ((invoices_claims_plan_completed.budget_level3_key == 'No Assigned')\n",
    "          | ((invoices_claims_plan_completed.budget_level3_key != 'No Assigned')\n",
    "           & (invoices_claims_plan_completed.budget_level3_key == invoices_claims_plan_completed.claim_level3_key)))\n",
    "        \n",
    "           ]"
   ]
  },
  {
   "cell_type": "code",
   "execution_count": 10,
   "metadata": {},
   "outputs": [],
   "source": [
    "frames = [invoices_claims_plan_delivery_active, invoices_claims_plan_completed]\n",
    "invoices_claims_merged = pd.concat(frames)"
   ]
  },
  {
   "cell_type": "code",
   "execution_count": 13,
   "metadata": {},
   "outputs": [],
   "source": [
    "df_model = invoices_claims_merged.groupby([\"member_key\"\n",
    "                                         , \"first_name\"\n",
    "                                         , \"last_name\"\n",
    "                                         , \"disabilities\"\n",
    "                                         , \"SA1\"\n",
    "                                         , \"price_zone_code\"                                         \n",
    "                                         , \"plan_key\"\n",
    "                                         , \"plan_status\"\n",
    "                                         , \"plan_start_date\"\n",
    "                                         , \"plan_end_date\"                                                                               \n",
    "                                         , \"budget_level3_name\"\n",
    "                                         , \"budget_level3_key\"\n",
    "                                         , \"budget_level2_key\"\n",
    "                                         , \"budget_level2_name\"\n",
    "                                         , \"budget_level1_key\"\n",
    "                                         , \"budget_level1_name\"\n",
    "                                         , \"budget_value_allocated\"  \t\n",
    "                                         , \"invoice_state\"\n",
    "                                         , \"claim_state\"\n",
    "                                          ]).agg({\"invoiced_amount\": \"sum\", \"funded_amount\": \"sum\"}).reset_index()                                                                 "
   ]
  },
  {
   "cell_type": "code",
   "execution_count": 14,
   "metadata": {},
   "outputs": [
    {
     "output_type": "execute_result",
     "data": {
      "text/plain": [
       "                              member_key first_name last_name disabilities  \\\n",
       "14  007c1090-d6ca-11ea-bb8a-a73bf14c75f9     Janean   Potzold  No Assigned   \n",
       "15  007c1090-d6ca-11ea-bb8a-a73bf14c75f9     Janean   Potzold  No Assigned   \n",
       "16  007c1090-d6ca-11ea-bb8a-a73bf14c75f9     Janean   Potzold  No Assigned   \n",
       "19  007c1090-d6ca-11ea-bb8a-a73bf14c75f9     Janean   Potzold  No Assigned   \n",
       "\n",
       "            SA1  price_zone_code                              plan_key  \\\n",
       "14  No Assigned  ACT_NSW_QLD_VIC  812de63d-76f2-4818-96f8-c92ab85c16a0   \n",
       "15  No Assigned  ACT_NSW_QLD_VIC  812de63d-76f2-4818-96f8-c92ab85c16a0   \n",
       "16  No Assigned  ACT_NSW_QLD_VIC  812de63d-76f2-4818-96f8-c92ab85c16a0   \n",
       "19  No Assigned  ACT_NSW_QLD_VIC  8910b6c2-643b-421e-9da6-8f2fea8f3e9a   \n",
       "\n",
       "             plan_status plan_start_date plan_end_date  ... budget_level3_key  \\\n",
       "14  PLAN_DELIVERY_ACTIVE      2020-08-18    2021-08-18  ...       No Assigned   \n",
       "15  PLAN_DELIVERY_ACTIVE      2020-08-18    2021-08-18  ...       No Assigned   \n",
       "16  PLAN_DELIVERY_ACTIVE      2020-08-18    2021-08-18  ...       No Assigned   \n",
       "19             COMPLETED      2020-08-14    2020-08-17  ...       No Assigned   \n",
       "\n",
       "                       budget_level2_key            budget_level2_name  \\\n",
       "14  7d0af57b-f597-11e9-bfb4-022d4762bb3c  Improved daily living skills   \n",
       "15  7d0af57b-f597-11e9-bfb4-022d4762bb3c  Improved daily living skills   \n",
       "16  7d0af57b-f597-11e9-bfb4-022d4762bb3c  Improved daily living skills   \n",
       "19  7d0af57b-f597-11e9-bfb4-022d4762bb3c  Improved daily living skills   \n",
       "\n",
       "                       budget_level1_key budget_level1_name  \\\n",
       "14  5874551b-f597-11e9-bfb4-022d4762bb3c  Capacity Building   \n",
       "15  5874551b-f597-11e9-bfb4-022d4762bb3c  Capacity Building   \n",
       "16  5874551b-f597-11e9-bfb4-022d4762bb3c  Capacity Building   \n",
       "19  5874551b-f597-11e9-bfb4-022d4762bb3c  Capacity Building   \n",
       "\n",
       "   budget_value_allocated     invoice_state          claim_state  \\\n",
       "14                24504.0          ALL_PAID                 PAID   \n",
       "15                24504.0  INVOICE_REJECTED      SCHEME_REJECTED   \n",
       "16                24504.0     PENDING_CLAIM  OPERATOR_AUTHORIZED   \n",
       "19                 8168.0          ALL_PAID                 PAID   \n",
       "\n",
       "   invoiced_amount  funded_amount  \n",
       "14        6886.650        6886.68  \n",
       "15         387.980           0.00  \n",
       "16         193.990           0.00  \n",
       "19         678.965         678.97  \n",
       "\n",
       "[4 rows x 21 columns]"
      ],
      "text/html": "<div>\n<style scoped>\n    .dataframe tbody tr th:only-of-type {\n        vertical-align: middle;\n    }\n\n    .dataframe tbody tr th {\n        vertical-align: top;\n    }\n\n    .dataframe thead th {\n        text-align: right;\n    }\n</style>\n<table border=\"1\" class=\"dataframe\">\n  <thead>\n    <tr style=\"text-align: right;\">\n      <th></th>\n      <th>member_key</th>\n      <th>first_name</th>\n      <th>last_name</th>\n      <th>disabilities</th>\n      <th>SA1</th>\n      <th>price_zone_code</th>\n      <th>plan_key</th>\n      <th>plan_status</th>\n      <th>plan_start_date</th>\n      <th>plan_end_date</th>\n      <th>...</th>\n      <th>budget_level3_key</th>\n      <th>budget_level2_key</th>\n      <th>budget_level2_name</th>\n      <th>budget_level1_key</th>\n      <th>budget_level1_name</th>\n      <th>budget_value_allocated</th>\n      <th>invoice_state</th>\n      <th>claim_state</th>\n      <th>invoiced_amount</th>\n      <th>funded_amount</th>\n    </tr>\n  </thead>\n  <tbody>\n    <tr>\n      <th>14</th>\n      <td>007c1090-d6ca-11ea-bb8a-a73bf14c75f9</td>\n      <td>Janean</td>\n      <td>Potzold</td>\n      <td>No Assigned</td>\n      <td>No Assigned</td>\n      <td>ACT_NSW_QLD_VIC</td>\n      <td>812de63d-76f2-4818-96f8-c92ab85c16a0</td>\n      <td>PLAN_DELIVERY_ACTIVE</td>\n      <td>2020-08-18</td>\n      <td>2021-08-18</td>\n      <td>...</td>\n      <td>No Assigned</td>\n      <td>7d0af57b-f597-11e9-bfb4-022d4762bb3c</td>\n      <td>Improved daily living skills</td>\n      <td>5874551b-f597-11e9-bfb4-022d4762bb3c</td>\n      <td>Capacity Building</td>\n      <td>24504.0</td>\n      <td>ALL_PAID</td>\n      <td>PAID</td>\n      <td>6886.650</td>\n      <td>6886.68</td>\n    </tr>\n    <tr>\n      <th>15</th>\n      <td>007c1090-d6ca-11ea-bb8a-a73bf14c75f9</td>\n      <td>Janean</td>\n      <td>Potzold</td>\n      <td>No Assigned</td>\n      <td>No Assigned</td>\n      <td>ACT_NSW_QLD_VIC</td>\n      <td>812de63d-76f2-4818-96f8-c92ab85c16a0</td>\n      <td>PLAN_DELIVERY_ACTIVE</td>\n      <td>2020-08-18</td>\n      <td>2021-08-18</td>\n      <td>...</td>\n      <td>No Assigned</td>\n      <td>7d0af57b-f597-11e9-bfb4-022d4762bb3c</td>\n      <td>Improved daily living skills</td>\n      <td>5874551b-f597-11e9-bfb4-022d4762bb3c</td>\n      <td>Capacity Building</td>\n      <td>24504.0</td>\n      <td>INVOICE_REJECTED</td>\n      <td>SCHEME_REJECTED</td>\n      <td>387.980</td>\n      <td>0.00</td>\n    </tr>\n    <tr>\n      <th>16</th>\n      <td>007c1090-d6ca-11ea-bb8a-a73bf14c75f9</td>\n      <td>Janean</td>\n      <td>Potzold</td>\n      <td>No Assigned</td>\n      <td>No Assigned</td>\n      <td>ACT_NSW_QLD_VIC</td>\n      <td>812de63d-76f2-4818-96f8-c92ab85c16a0</td>\n      <td>PLAN_DELIVERY_ACTIVE</td>\n      <td>2020-08-18</td>\n      <td>2021-08-18</td>\n      <td>...</td>\n      <td>No Assigned</td>\n      <td>7d0af57b-f597-11e9-bfb4-022d4762bb3c</td>\n      <td>Improved daily living skills</td>\n      <td>5874551b-f597-11e9-bfb4-022d4762bb3c</td>\n      <td>Capacity Building</td>\n      <td>24504.0</td>\n      <td>PENDING_CLAIM</td>\n      <td>OPERATOR_AUTHORIZED</td>\n      <td>193.990</td>\n      <td>0.00</td>\n    </tr>\n    <tr>\n      <th>19</th>\n      <td>007c1090-d6ca-11ea-bb8a-a73bf14c75f9</td>\n      <td>Janean</td>\n      <td>Potzold</td>\n      <td>No Assigned</td>\n      <td>No Assigned</td>\n      <td>ACT_NSW_QLD_VIC</td>\n      <td>8910b6c2-643b-421e-9da6-8f2fea8f3e9a</td>\n      <td>COMPLETED</td>\n      <td>2020-08-14</td>\n      <td>2020-08-17</td>\n      <td>...</td>\n      <td>No Assigned</td>\n      <td>7d0af57b-f597-11e9-bfb4-022d4762bb3c</td>\n      <td>Improved daily living skills</td>\n      <td>5874551b-f597-11e9-bfb4-022d4762bb3c</td>\n      <td>Capacity Building</td>\n      <td>8168.0</td>\n      <td>ALL_PAID</td>\n      <td>PAID</td>\n      <td>678.965</td>\n      <td>678.97</td>\n    </tr>\n  </tbody>\n</table>\n<p>4 rows × 21 columns</p>\n</div>"
     },
     "metadata": {},
     "execution_count": 14
    }
   ],
   "source": [
    "##**** TESTE\n",
    "\n",
    "df_model.loc[(df_model['member_key'] == '007c1090-d6ca-11ea-bb8a-a73bf14c75f9')\n",
    "                                              & (df_model['budget_level2_key'] == '7d0af57b-f597-11e9-bfb4-022d4762bb3c')         \n",
    "                                 ]  "
   ]
  }
 ]
}