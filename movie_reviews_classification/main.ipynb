{
 "cells": [
  {
   "cell_type": "code",
   "execution_count": 1,
   "source": [
    "import warnings\r\n",
    "warnings.filterwarnings(\"ignore\")\r\n",
    "\r\n",
    "import sys\r\n",
    "\r\n",
    "sys.path.append(\"../\")\r\n",
    "\r\n",
    "from depo.functions import Functions as func\r\n",
    "import pandas as pd"
   ],
   "outputs": [
    {
     "output_type": "stream",
     "name": "stderr",
     "text": [
      "[nltk_data] Downloading package stopwords to\n",
      "[nltk_data]     C:\\Users\\dttt1\\AppData\\Roaming\\nltk_data...\n",
      "[nltk_data]   Package stopwords is already up-to-date!\n"
     ]
    }
   ],
   "metadata": {}
  },
  {
   "cell_type": "code",
   "execution_count": 2,
   "source": [
    "df_train = func.open_file('dataSet.zip/train.csv')\r\n",
    "\r\n",
    "df_train.info()"
   ],
   "outputs": [
    {
     "output_type": "stream",
     "name": "stdout",
     "text": [
      "<class 'pandas.core.frame.DataFrame'>\n",
      "RangeIndex: 99 entries, 0 to 98\n",
      "Data columns (total 3 columns):\n",
      " #   Column  Non-Null Count  Dtype \n",
      "---  ------  --------------  ----- \n",
      " 0   id      99 non-null     int64 \n",
      " 1   text    99 non-null     object\n",
      " 2   genre   99 non-null     object\n",
      "dtypes: int64(1), object(2)\n",
      "memory usage: 2.4+ KB\n"
     ]
    }
   ],
   "metadata": {}
  },
  {
   "cell_type": "code",
   "execution_count": 3,
   "source": [
    "df_train.head()"
   ],
   "outputs": [
    {
     "output_type": "execute_result",
     "data": {
      "text/html": [
       "<div>\n",
       "<style scoped>\n",
       "    .dataframe tbody tr th:only-of-type {\n",
       "        vertical-align: middle;\n",
       "    }\n",
       "\n",
       "    .dataframe tbody tr th {\n",
       "        vertical-align: top;\n",
       "    }\n",
       "\n",
       "    .dataframe thead th {\n",
       "        text-align: right;\n",
       "    }\n",
       "</style>\n",
       "<table border=\"1\" class=\"dataframe\">\n",
       "  <thead>\n",
       "    <tr style=\"text-align: right;\">\n",
       "      <th></th>\n",
       "      <th>id</th>\n",
       "      <th>text</th>\n",
       "      <th>genre</th>\n",
       "    </tr>\n",
       "  </thead>\n",
       "  <tbody>\n",
       "    <tr>\n",
       "      <th>0</th>\n",
       "      <td>0</td>\n",
       "      <td>eady dead, maybe even wishing he was. INT. 2ND...</td>\n",
       "      <td>thriller</td>\n",
       "    </tr>\n",
       "    <tr>\n",
       "      <th>1</th>\n",
       "      <td>2</td>\n",
       "      <td>t, summa cum laude and all. And I'm about to l...</td>\n",
       "      <td>comedy</td>\n",
       "    </tr>\n",
       "    <tr>\n",
       "      <th>2</th>\n",
       "      <td>3</td>\n",
       "      <td>up Come, I have a surprise.... She takes him ...</td>\n",
       "      <td>drama</td>\n",
       "    </tr>\n",
       "    <tr>\n",
       "      <th>3</th>\n",
       "      <td>4</td>\n",
       "      <td>ded by the two detectives. INT. JEFF'S APARTME...</td>\n",
       "      <td>thriller</td>\n",
       "    </tr>\n",
       "    <tr>\n",
       "      <th>4</th>\n",
       "      <td>5</td>\n",
       "      <td>nd dismounts, just as the other children reach...</td>\n",
       "      <td>drama</td>\n",
       "    </tr>\n",
       "  </tbody>\n",
       "</table>\n",
       "</div>"
      ],
      "text/plain": [
       "   id                                               text     genre\n",
       "0   0  eady dead, maybe even wishing he was. INT. 2ND...  thriller\n",
       "1   2  t, summa cum laude and all. And I'm about to l...    comedy\n",
       "2   3   up Come, I have a surprise.... She takes him ...     drama\n",
       "3   4  ded by the two detectives. INT. JEFF'S APARTME...  thriller\n",
       "4   5  nd dismounts, just as the other children reach...     drama"
      ]
     },
     "metadata": {},
     "execution_count": 3
    }
   ],
   "metadata": {}
  },
  {
   "cell_type": "code",
   "execution_count": 4,
   "source": [
    "df_train = df_train.drop('id', axis=1)"
   ],
   "outputs": [],
   "metadata": {}
  },
  {
   "cell_type": "code",
   "execution_count": 5,
   "source": [
    "df_train.print_nan_columns()"
   ],
   "outputs": [
    {
     "output_type": "execute_result",
     "data": {
      "text/html": [
       "<div>\n",
       "<style scoped>\n",
       "    .dataframe tbody tr th:only-of-type {\n",
       "        vertical-align: middle;\n",
       "    }\n",
       "\n",
       "    .dataframe tbody tr th {\n",
       "        vertical-align: top;\n",
       "    }\n",
       "\n",
       "    .dataframe thead th {\n",
       "        text-align: right;\n",
       "    }\n",
       "</style>\n",
       "<table border=\"1\" class=\"dataframe\">\n",
       "  <thead>\n",
       "    <tr style=\"text-align: right;\">\n",
       "      <th></th>\n",
       "      <th>Missing Values</th>\n",
       "      <th>% Missing Values</th>\n",
       "      <th>Zero  Values</th>\n",
       "      <th>% Missing Values</th>\n",
       "      <th>Zero Missing Values</th>\n",
       "      <th>% Zero Missing Values</th>\n",
       "      <th>Data Type</th>\n",
       "    </tr>\n",
       "  </thead>\n",
       "  <tbody>\n",
       "    <tr>\n",
       "      <th>text</th>\n",
       "      <td>0</td>\n",
       "      <td>0.0</td>\n",
       "      <td>0</td>\n",
       "      <td>0.0</td>\n",
       "      <td>0</td>\n",
       "      <td>0.0</td>\n",
       "      <td>object</td>\n",
       "    </tr>\n",
       "    <tr>\n",
       "      <th>genre</th>\n",
       "      <td>0</td>\n",
       "      <td>0.0</td>\n",
       "      <td>0</td>\n",
       "      <td>0.0</td>\n",
       "      <td>0</td>\n",
       "      <td>0.0</td>\n",
       "      <td>object</td>\n",
       "    </tr>\n",
       "    <tr>\n",
       "      <th>Total</th>\n",
       "      <td>0</td>\n",
       "      <td>0.0</td>\n",
       "      <td>0</td>\n",
       "      <td>0.0</td>\n",
       "      <td>0</td>\n",
       "      <td>0.0</td>\n",
       "      <td>-</td>\n",
       "    </tr>\n",
       "  </tbody>\n",
       "</table>\n",
       "</div>"
      ],
      "text/plain": [
       "       Missing Values  % Missing Values  Zero  Values  % Missing Values  \\\n",
       "text                0               0.0             0               0.0   \n",
       "genre               0               0.0             0               0.0   \n",
       "Total               0               0.0             0               0.0   \n",
       "\n",
       "       Zero Missing Values  % Zero Missing Values Data Type  \n",
       "text                     0                    0.0    object  \n",
       "genre                    0                    0.0    object  \n",
       "Total                    0                    0.0         -  "
      ]
     },
     "metadata": {},
     "execution_count": 5
    }
   ],
   "metadata": {}
  },
  {
   "cell_type": "code",
   "execution_count": 6,
   "source": [
    "df_perc = (df_train[\"genre\"].value_counts() / len(df_train)) * 100\r\n",
    "df_perc.sort_values(inplace=True)  \r\n",
    "\r\n",
    "df_perc = df_perc.to_frame()\r\n",
    "df_perc.columns = ['percentage']\r\n",
    "df_perc.index.names = ['genre']\r\n",
    "df_perc['genre'] = df_perc.index\r\n",
    "\r\n",
    "import seaborn as sns\r\n",
    "import pylab as plt\r\n",
    "\r\n",
    "sns.set(style=\"whitegrid\", color_codes=True)\r\n",
    "sns.barplot(x = 'genre', y = 'percentage', data=df_perc)\r\n",
    "plt.title('Visualize the percentage of movies by genre')\r\n",
    "plt.show()\r\n"
   ],
   "outputs": [
    {
     "output_type": "display_data",
     "data": {
      "image/png": "[encoded data removed]",
      "text/plain": [
       "<Figure size 576x396 with 1 Axes>"
      ]
     },
     "metadata": {}
    }
   ],
   "metadata": {}
  },
  {
   "cell_type": "code",
   "execution_count": 7,
   "source": [
    "# Maps the genres to value\r\n",
    "genre_mapper = {'other': 0, 'action': 1, 'adventure': 2, 'comedy':3, 'drama':4, 'horror':5, 'romance':6, 'sci-fi':7, 'thriller': 8}\r\n",
    "df_train['genre_index'] = df_train['genre'].map(genre_mapper)\r\n",
    "df_train.head(10)"
   ],
   "outputs": [
    {
     "output_type": "execute_result",
     "data": {
      "text/html": [
       "<div>\n",
       "<style scoped>\n",
       "    .dataframe tbody tr th:only-of-type {\n",
       "        vertical-align: middle;\n",
       "    }\n",
       "\n",
       "    .dataframe tbody tr th {\n",
       "        vertical-align: top;\n",
       "    }\n",
       "\n",
       "    .dataframe thead th {\n",
       "        text-align: right;\n",
       "    }\n",
       "</style>\n",
       "<table border=\"1\" class=\"dataframe\">\n",
       "  <thead>\n",
       "    <tr style=\"text-align: right;\">\n",
       "      <th></th>\n",
       "      <th>text</th>\n",
       "      <th>genre</th>\n",
       "      <th>genre_index</th>\n",
       "    </tr>\n",
       "  </thead>\n",
       "  <tbody>\n",
       "    <tr>\n",
       "      <th>0</th>\n",
       "      <td>eady dead, maybe even wishing he was. INT. 2ND...</td>\n",
       "      <td>thriller</td>\n",
       "      <td>8</td>\n",
       "    </tr>\n",
       "    <tr>\n",
       "      <th>1</th>\n",
       "      <td>t, summa cum laude and all. And I'm about to l...</td>\n",
       "      <td>comedy</td>\n",
       "      <td>3</td>\n",
       "    </tr>\n",
       "    <tr>\n",
       "      <th>2</th>\n",
       "      <td>up Come, I have a surprise.... She takes him ...</td>\n",
       "      <td>drama</td>\n",
       "      <td>4</td>\n",
       "    </tr>\n",
       "    <tr>\n",
       "      <th>3</th>\n",
       "      <td>ded by the two detectives. INT. JEFF'S APARTME...</td>\n",
       "      <td>thriller</td>\n",
       "      <td>8</td>\n",
       "    </tr>\n",
       "    <tr>\n",
       "      <th>4</th>\n",
       "      <td>nd dismounts, just as the other children reach...</td>\n",
       "      <td>drama</td>\n",
       "      <td>4</td>\n",
       "    </tr>\n",
       "    <tr>\n",
       "      <th>5</th>\n",
       "      <td>breadth of the bluff. Gabe pulls out his ancie...</td>\n",
       "      <td>thriller</td>\n",
       "      <td>8</td>\n",
       "    </tr>\n",
       "    <tr>\n",
       "      <th>6</th>\n",
       "      <td>uilding. A MAN in pajamas runs out into the ra...</td>\n",
       "      <td>thriller</td>\n",
       "      <td>8</td>\n",
       "    </tr>\n",
       "    <tr>\n",
       "      <th>7</th>\n",
       "      <td>ELLES AND RITA HAYWORTH Just disgustingly rich...</td>\n",
       "      <td>drama</td>\n",
       "      <td>4</td>\n",
       "    </tr>\n",
       "    <tr>\n",
       "      <th>8</th>\n",
       "      <td>Memphis goes back into the garage, Budgy cack...</td>\n",
       "      <td>thriller</td>\n",
       "      <td>8</td>\n",
       "    </tr>\n",
       "    <tr>\n",
       "      <th>9</th>\n",
       "      <td>e reels as the world spins. Sweat pours off hi...</td>\n",
       "      <td>action</td>\n",
       "      <td>1</td>\n",
       "    </tr>\n",
       "  </tbody>\n",
       "</table>\n",
       "</div>"
      ],
      "text/plain": [
       "                                                text     genre  genre_index\n",
       "0  eady dead, maybe even wishing he was. INT. 2ND...  thriller            8\n",
       "1  t, summa cum laude and all. And I'm about to l...    comedy            3\n",
       "2   up Come, I have a surprise.... She takes him ...     drama            4\n",
       "3  ded by the two detectives. INT. JEFF'S APARTME...  thriller            8\n",
       "4  nd dismounts, just as the other children reach...     drama            4\n",
       "5  breadth of the bluff. Gabe pulls out his ancie...  thriller            8\n",
       "6  uilding. A MAN in pajamas runs out into the ra...  thriller            8\n",
       "7  ELLES AND RITA HAYWORTH Just disgustingly rich...     drama            4\n",
       "8   Memphis goes back into the garage, Budgy cack...  thriller            8\n",
       "9  e reels as the world spins. Sweat pours off hi...    action            1"
      ]
     },
     "metadata": {},
     "execution_count": 7
    }
   ],
   "metadata": {}
  },
  {
   "cell_type": "code",
   "execution_count": 8,
   "source": [
    "#df_train['text'] = df_train['text'].remove_special_characters()\r\n",
    "corpus = df_train['text'].get_stemme_text()"
   ],
   "outputs": [],
   "metadata": {}
  },
  {
   "cell_type": "code",
   "execution_count": 9,
   "source": [
    "df_movies_genres = pd.DataFrame(columns=['text', 'genre', 'genre_index'])\r\n",
    "\r\n",
    "#df_unique = df_train[{'genre', 'genre_index'}].sort_values(by = 'genre_index', ascending=True).unique()\r\n",
    "\r\n",
    "df_unique = df_train.drop_duplicates(['genre','genre_index'])[['genre','genre_index']]\r\n",
    "df_unique = df_unique.sort_values(by = 'genre_index', ascending=True).reset_index(drop=True)\r\n",
    "\r\n",
    "for i in range(0, len(df_unique)):\r\n",
    "    for j in list(df_train[df_train['genre_index']== df_unique['genre_index'][i]].index):\r\n",
    "        text = corpus[j]\r\n",
    "        genre = df_unique['genre'][i]\r\n",
    "        genre_index = df_unique['genre_index'][i]\r\n",
    "        \r\n",
    "        df_movies_genres = df_movies_genres.append({'text': text\r\n",
    "                                                  , 'genre': genre \r\n",
    "                                                  , 'genre_index': genre_index}, ignore_index=True) \r\n",
    "\r\n",
    "print(df_movies_genres)"
   ],
   "outputs": [
    {
     "output_type": "stream",
     "name": "stdout",
     "text": [
      "                                                 text     genre genre_index\n",
      "0   wan oh god paus alright shake carlotta carlott...     other           0\n",
      "1   e reel world spin sweat pour pressur build ins...    action           1\n",
      "2   enter hous int brownston day continu action wo...    action           1\n",
      "3   ow could know father even know fed oh know was...    action           1\n",
      "4   n spartan contort defiant sneer face int cryo ...    action           1\n",
      "..                                                ...       ...         ...\n",
      "94  upend hoist attach polic tow truck area less b...  thriller           8\n",
      "95  en helm offic mister branson plot laid sir rik...  thriller           8\n",
      "96  ok watch ground front melt like molten lava sw...  thriller           8\n",
      "97  kinda pretti thought mayb could lunch answer a...  thriller           8\n",
      "98  look opinion frank kidnap dorothi son husband ...  thriller           8\n",
      "\n",
      "[99 rows x 3 columns]\n"
     ]
    }
   ],
   "metadata": {}
  }
 ],
 "metadata": {
  "orig_nbformat": 4,
  "language_info": {
   "name": "python",
   "version": "3.9.6",
   "mimetype": "text/x-python",
   "codemirror_mode": {
    "name": "ipython",
    "version": 3
   },
   "pygments_lexer": "ipython3",
   "nbconvert_exporter": "python",
   "file_extension": ".py"
  },
  "kernelspec": {
   "name": "python3",
   "display_name": "Python 3.9.6 64-bit"
  },
  "interpreter": {
   "hash": "232151e7792eb4009285e9b1d63ba41488d76bd8b9c82159a69c73f066ed7f14"
  }
 },
 "nbformat": 4,
 "nbformat_minor": 2
}