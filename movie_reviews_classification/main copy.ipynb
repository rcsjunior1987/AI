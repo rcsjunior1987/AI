{
 "cells": [
  {
   "cell_type": "code",
   "execution_count": 1,
   "source": [
    "import warnings\r\n",
    "warnings.filterwarnings(\"ignore\")\r\n",
    "\r\n",
    "import sys\r\n",
    "\r\n",
    "sys.path.append(\"../\")\r\n",
    "\r\n",
    "from depo.functions import Functions as func\r\n",
    "import pandas as pd"
   ],
   "outputs": [
    {
     "output_type": "stream",
     "name": "stderr",
     "text": [
      "[nltk_data] Downloading package stopwords to\n",
      "[nltk_data]     C:\\Users\\dttt1\\AppData\\Roaming\\nltk_data...\n",
      "[nltk_data]   Package stopwords is already up-to-date!\n"
     ]
    }
   ],
   "metadata": {}
  },
  {
   "cell_type": "code",
   "execution_count": 2,
   "source": [
    "df_train = func.open_file('dataSet.zip/genres.csv')\r\n",
    "\r\n",
    "df_train.info()"
   ],
   "outputs": [
    {
     "output_type": "stream",
     "name": "stdout",
     "text": [
      "<class 'pandas.core.frame.DataFrame'>\n",
      "RangeIndex: 22579 entries, 0 to 22578\n",
      "Data columns (total 3 columns):\n",
      " #   Column       Non-Null Count  Dtype \n",
      "---  ------       --------------  ----- \n",
      " 0   text         22579 non-null  object\n",
      " 1   genre        22579 non-null  object\n",
      " 2   genre_index  22579 non-null  int64 \n",
      "dtypes: int64(1), object(2)\n",
      "memory usage: 529.3+ KB\n"
     ]
    }
   ],
   "metadata": {}
  },
  {
   "cell_type": "code",
   "execution_count": 3,
   "source": [
    "X = df_train['text'].get_bag_of_words(max_features=10000, ngram_range=(1,2))\r\n",
    "y = df_train['genre_index'].values"
   ],
   "outputs": [],
   "metadata": {}
  },
  {
   "cell_type": "code",
   "execution_count": 4,
   "source": [
    "from sklearn.model_selection import train_test_split, cross_val_predict, KFold, cross_val_score, GridSearchCV\r\n",
    "X_train, X_test, y_train, y_test = train_test_split(X, y, test_size=0.20, random_state=0)\r\n",
    "print('X_train size: {}, X_test size: {}'.format(X_train.shape, X_test.shape))\r\n",
    "\r\n",
    "# NaiveBayesMultinomialNB\r\n",
    "# SMOTEENN"
   ],
   "outputs": [
    {
     "output_type": "stream",
     "name": "stdout",
     "text": [
      "X_train size: (18063, 10000), X_test size: (4516, 10000)\n"
     ]
    }
   ],
   "metadata": {}
  },
  {
   "cell_type": "code",
   "execution_count": 5,
   "source": [
    "#func.print_models_scores(X, y)"
   ],
   "outputs": [],
   "metadata": {}
  },
  {
   "cell_type": "code",
   "execution_count": 6,
   "source": [
    "func.print_balanded_models_scores(X, y)"
   ],
   "outputs": [],
   "metadata": {}
  },
  {
   "cell_type": "code",
   "execution_count": null,
   "source": [
    "from sklearn.naive_bayes import MultinomialNB\r\n",
    "from sklearn.metrics import accuracy_score\r\n",
    "\r\n",
    "nb_classifier = MultinomialNB().fit(X_train, y_train)\r\n",
    "y_pred = nb_classifier.predict(X_test)\r\n",
    "\r\n",
    "score1 = accuracy_score(y_test, y_pred)\r\n",
    "print(\"Accuracy : {}%\".format(round(score1*100,2)))"
   ],
   "outputs": [],
   "metadata": {}
  },
  {
   "cell_type": "code",
   "execution_count": null,
   "source": [
    "#func.print_models_scores(X, y, X_test, y_test)\r\n",
    "\r\n",
    "#                Model_name  Accuracy  F1_score    Recall  Precision\r\n",
    "#0            XGBClassifier  0.348237  0.161615  0.180635   0.164818\r\n",
    "#1  NaiveBayesMultinomialNB  0.291667  0.160789  0.164352   0.172970"
   ],
   "outputs": [],
   "metadata": {}
  },
  {
   "cell_type": "code",
   "execution_count": null,
   "source": [
    "y_pred = cross_val_predict(MultinomialNB(), X_train, y_train, cv=KFold(n_splits=10, random_state=24, shuffle=True))\r\n",
    "score1 = accuracy_score(y_train, y_pred)\r\n",
    "print(\"Accuracy : {}%\".format(round(score1*100,2)))"
   ],
   "outputs": [],
   "metadata": {}
  },
  {
   "cell_type": "code",
   "execution_count": null,
   "source": [
    "\"\"\"\r\n",
    "# XGBClassifier\r\n",
    "import xgboost as xgb\r\n",
    "\r\n",
    "parameter = {\r\n",
    "            'max_depth':range(3,10,2)\r\n",
    "          , 'min_child_weight':range(1,6,2)\r\n",
    "            }\r\n",
    "\r\n",
    "grid_search = GridSearchCV(estimator = xgb.XGBClassifier()\r\n",
    "                         , param_grid=parameter\r\n",
    "                         , scoring=accuracy_score\r\n",
    "                         , n_jobs=-1\r\n",
    "                         , cv=5\r\n",
    "                          ).fit(X_train, y_train)\r\n",
    "\r\n",
    "print(\"Best parameters set found on development set:\")\r\n",
    "print()\r\n",
    "print(grid_search.best_params_)\r\n",
    "print()\r\n",
    "print(\"Grid scores on development set:\")\r\n",
    "print()\r\n",
    "#means = grid_search.cv_results_['params']\r\n",
    "\"\"\""
   ],
   "outputs": [],
   "metadata": {}
  }
 ],
 "metadata": {
  "orig_nbformat": 4,
  "language_info": {
   "name": "python",
   "version": "3.9.6",
   "mimetype": "text/x-python",
   "codemirror_mode": {
    "name": "ipython",
    "version": 3
   },
   "pygments_lexer": "ipython3",
   "nbconvert_exporter": "python",
   "file_extension": ".py"
  },
  "kernelspec": {
   "name": "python3",
   "display_name": "Python 3.9.6 64-bit"
  },
  "interpreter": {
   "hash": "232151e7792eb4009285e9b1d63ba41488d76bd8b9c82159a69c73f066ed7f14"
  }
 },
 "nbformat": 4,
 "nbformat_minor": 2
}