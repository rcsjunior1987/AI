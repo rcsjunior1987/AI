{
 "cells": [
  {
   "cell_type": "code",
   "execution_count": 1,
   "metadata": {},
   "outputs": [
    {
     "name": "stderr",
     "output_type": "stream",
     "text": [
      "[nltk_data] Downloading package stopwords to\n",
      "[nltk_data]     C:\\Users\\dttt1\\AppData\\Roaming\\nltk_data...\n",
      "[nltk_data]   Package stopwords is already up-to-date!\n"
     ]
    }
   ],
   "source": [
    "import warnings\n",
    "warnings.filterwarnings(\"ignore\")\n",
    "\n",
    "import sys\n",
    "\n",
    "sys.path.append(\"../\")\n",
    "\n",
    "from depo.functions import Functions as func\n",
    "import pandas as pd"
   ]
  },
  {
   "cell_type": "code",
   "execution_count": 2,
   "metadata": {},
   "outputs": [
    {
     "name": "stdout",
     "output_type": "stream",
     "text": [
      "<class 'pandas.core.frame.DataFrame'>\n",
      "RangeIndex: 22579 entries, 0 to 22578\n",
      "Data columns (total 3 columns):\n",
      " #   Column       Non-Null Count  Dtype \n",
      "---  ------       --------------  ----- \n",
      " 0   text         22579 non-null  object\n",
      " 1   genre        22579 non-null  object\n",
      " 2   genre_index  22579 non-null  int64 \n",
      "dtypes: int64(1), object(2)\n",
      "memory usage: 529.3+ KB\n"
     ]
    }
   ],
   "source": [
    "df_train = func.open_file('dataSet.zip/genres.csv')\n",
    "   \n",
    "df_train.info()"
   ]
  },
  {
   "cell_type": "code",
   "execution_count": 3,
   "metadata": {},
   "outputs": [],
   "source": [
    "X = df_train['text'].get_bag_of_words(max_features=10000, ngram_range=(1,2))\n",
    "y = df_train['genre_index'].values"
   ]
  },
  {
   "cell_type": "code",
   "execution_count": 4,
   "metadata": {},
   "outputs": [
    {
     "name": "stdout",
     "output_type": "stream",
     "text": [
      "X_train size: (18063, 10000), X_test size: (4516, 10000)\n"
     ]
    }
   ],
   "source": [
    "from sklearn.model_selection import train_test_split, cross_val_predict, KFold, cross_val_score, GridSearchCV\n",
    "X_train, X_test, y_train, y_test = train_test_split(X, y, test_size=0.20, random_state=0)\n",
    "print('X_train size: {}, X_test size: {}'.format(X_train.shape, X_test.shape))\n",
    "\n",
    "# NaiveBayesMultinomialNB\n",
    "# SMOTEENN"
   ]
  },
  {
   "cell_type": "code",
   "execution_count": 5,
   "metadata": {},
   "outputs": [],
   "source": [
    "#func.print_models_scores(X, y)"
   ]
  },
  {
   "cell_type": "code",
   "execution_count": 6,
   "metadata": {},
   "outputs": [],
   "source": [
    "func.print_balanded_models_scores(X, y)"
   ]
  },
  {
   "cell_type": "code",
   "execution_count": null,
   "metadata": {},
   "outputs": [],
   "source": [
    "from sklearn.naive_bayes import MultinomialNB\n",
    "from sklearn.metrics import accuracy_score\n",
    "\n",
    "nb_classifier = MultinomialNB().fit(X_train, y_train)\n",
    "y_pred = nb_classifier.predict(X_test)\n",
    "\n",
    "score1 = accuracy_score(y_test, y_pred)\n",
    "print(\"Accuracy : {}%\".format(round(score1*100,2)))"
   ]
  },
  {
   "cell_type": "code",
   "execution_count": null,
   "metadata": {},
   "outputs": [],
   "source": [
    "#func.print_models_scores(X, y, X_test, y_test)\n",
    "\n",
    "#                Model_name  Accuracy  F1_score    Recall  Precision\n",
    "#0            XGBClassifier  0.348237  0.161615  0.180635   0.164818\n",
    "#1  NaiveBayesMultinomialNB  0.291667  0.160789  0.164352   0.172970"
   ]
  },
  {
   "cell_type": "code",
   "execution_count": null,
   "metadata": {},
   "outputs": [],
   "source": [
    "y_pred = cross_val_predict(MultinomialNB(), X_train, y_train, cv=KFold(n_splits=10, random_state=24, shuffle=True))\n",
    "score1 = accuracy_score(y_train, y_pred)\n",
    "print(\"Accuracy : {}%\".format(round(score1*100,2)))"
   ]
  },
  {
   "cell_type": "code",
   "execution_count": null,
   "metadata": {},
   "outputs": [],
   "source": [
    "\"\"\"\n",
    "# XGBClassifier\n",
    "import xgboost as xgb\n",
    "\n",
    "parameter = {\n",
    "            'max_depth':range(3,10,2)\n",
    "          , 'min_child_weight':range(1,6,2)\n",
    "            }\n",
    "\n",
    "grid_search = GridSearchCV(estimator = xgb.XGBClassifier()\n",
    "                         , param_grid=parameter\n",
    "                         , scoring=accuracy_score\n",
    "                         , n_jobs=-1\n",
    "                         , cv=5\n",
    "                          ).fit(X_train, y_train)\n",
    "\n",
    "print(\"Best parameters set found on development set:\")\n",
    "print()\n",
    "print(grid_search.best_params_)\n",
    "print()\n",
    "print(\"Grid scores on development set:\")\n",
    "print()\n",
    "#means = grid_search.cv_results_['params']\n",
    "\"\"\""
   ]
  }
 ],
 "metadata": {
  "interpreter": {
   "hash": "232151e7792eb4009285e9b1d63ba41488d76bd8b9c82159a69c73f066ed7f14"
  },
  "kernelspec": {
   "display_name": "Python 3.9.6 64-bit",
   "name": "python3"
  },
  "language_info": {
   "codemirror_mode": {
    "name": "ipython",
    "version": 3
   },
   "file_extension": ".py",
   "mimetype": "text/x-python",
   "name": "python",
   "nbconvert_exporter": "python",
   "pygments_lexer": "ipython3",
   "version": "3.9.6"
  },
  "orig_nbformat": 4
 },
 "nbformat": 4,
 "nbformat_minor": 2
}
