{
 "metadata": {
  "language_info": {
   "codemirror_mode": {
    "name": "ipython",
    "version": 3
   },
   "file_extension": ".py",
   "mimetype": "text/x-python",
   "name": "python",
   "nbconvert_exporter": "python",
   "pygments_lexer": "ipython3",
   "version": "3.8.5"
  },
  "orig_nbformat": 2,
  "kernelspec": {
   "name": "python385jvsc74a57bd0d7c375635162da09f0df265be1ff543fa0e54d4b5ed0ee516c18eaf6e6e8fe7a",
   "display_name": "Python 3.8.5 32-bit"
  },
  "metadata": {
   "interpreter": {
    "hash": "d7c375635162da09f0df265be1ff543fa0e54d4b5ed0ee516c18eaf6e6e8fe7a"
   }
  }
 },
 "nbformat": 4,
 "nbformat_minor": 2,
 "cells": [
  {
   "cell_type": "code",
   "execution_count": 1,
   "metadata": {},
   "outputs": [],
   "source": [
    "# -------------------------- LIBRARIES NECESSARY IN THIS PROJECT  -------------------------- #\n",
    "\n",
    "import pandas as pd\n",
    "import numpy as np\n",
    "import seaborn as sns\n",
    "from datetime import *\n",
    "import zipfile\n",
    "import pylab as plt\n",
    "\n",
    "# -------------------------- FUNCTIONS -------------------------- #\n",
    "\n",
    "def getDataSet(data_path):\n",
    "    return pd.read_csv(data_path)\n",
    "\n",
    "def plotNaNValuesColums(dataSet):\n",
    "    # Gets the dataSet Columns with null values\n",
    "    #  and the Percentual of null values per column    \n",
    "    missing_values = (dataSet.isnull().sum() / len(dataSet)) * 100    \n",
    "    missing_values = missing_values[missing_values > 0]\n",
    "    missing_values.sort_values(inplace=True)   \n",
    "\n",
    "    missing_values = missing_values.to_frame()\n",
    "    missing_values.columns = ['Percentual']\n",
    "    missing_values.index.names = ['Name']\n",
    "    missing_values['Column'] = missing_values.index\n",
    "\n",
    "    # Plots the graph\n",
    "    sns.set(style=\"whitegrid\", color_codes=True)\n",
    "    sns.barplot(x = 'Column', y = 'Percentual', data=missing_values)\n",
    "    plt.xticks(rotation = 90)\n",
    "    plt.show()\n",
    "    print(missing_values)\n",
    "    \n",
    "def plotNotNaNValuesColums(dataSet):\n",
    "    # Gets the dataSet Columns with null values\n",
    "    #  and the Percentual of null values per column    \n",
    "    missing_values = (dataSet.notnull().sum() / len(dataSet)) * 100    \n",
    "    missing_values = missing_values[missing_values > 0]\n",
    "    missing_values.sort_values(inplace=True)   \n",
    "\n",
    "    missing_values = missing_values.to_frame()\n",
    "    missing_values.columns = ['Percentual']\n",
    "    missing_values.index.names = ['Name']\n",
    "    missing_values['Column'] = missing_values.index\n",
    "\n",
    "    # Plots the graph\n",
    "    sns.set(style=\"whitegrid\", color_codes=True)\n",
    "    sns.barplot(x = 'Column', y = 'Percentual', data=missing_values)\n",
    "    plt.xticks(rotation = 90)\n",
    "    plt.show()\n",
    "    print(missing_values)"
   ]
  },
  {
   "source": [
    "## Upload dataSets"
   ],
   "cell_type": "markdown",
   "metadata": {}
  },
  {
   "cell_type": "code",
   "execution_count": 2,
   "metadata": {},
   "outputs": [
    {
     "output_type": "stream",
     "name": "stderr",
     "text": [
      "C:\\Users\\dttt1\\AppData\\Roaming\\Python\\Python38\\site-packages\\IPython\\core\\interactiveshell.py:3062: DtypeWarning: Columns (6) have mixed types.Specify dtype option on import or set low_memory=False.\n  has_raised = await self.run_ast_nodes(code_ast.body, cell_name,\n"
     ]
    }
   ],
   "source": [
    "# -------------------------- PATH OF THE DATASETS USED IN THE PROJECT  -------------------------- #\n",
    "zf = zipfile.ZipFile('../dataSets/leapIn.zip')\n",
    "\n",
    "invoices_claims_last_actived_all_fields = pd.read_csv(zf.open('Invoices_Claims_Last_Actived.csv'))\n",
    "invoices_claims_last_completed_all_fields = pd.read_csv(zf.open('Invoices_Claims_Last_Completed.csv'))\n",
    "plans_budgets_all_fields = pd.read_csv(zf.open('Plans_Budgets.csv'))\n",
    "members_supported_all_fields = pd.read_csv(zf.open('Members_Supported.csv')) \n",
    "#providers_all_fields = pd.read_csv(zf.open('/Providers.csv'))"
   ]
  },
  {
   "source": [
    "## Data manipulation and cleansing<a name=\"preparation\"></a>"
   ],
   "cell_type": "markdown",
   "metadata": {}
  },
  {
   "source": [
    "### Members dataset cleasing"
   ],
   "cell_type": "markdown",
   "metadata": {}
  },
  {
   "cell_type": "code",
   "execution_count": 3,
   "metadata": {},
   "outputs": [
    {
     "output_type": "stream",
     "name": "stdout",
     "text": [
      "<class 'pandas.core.frame.DataFrame'>\nRangeIndex: 6019 entries, 0 to 6018\nData columns (total 12 columns):\n #   Column           Non-Null Count  Dtype  \n---  ------           --------------  -----  \n 0   id               6019 non-null   int64  \n 1   member_key       6019 non-null   object \n 2   date_of_birth    6019 non-null   object \n 3   first_name       6019 non-null   object \n 4   last_name        6019 non-null   object \n 5   price_zone_code  6019 non-null   object \n 6   u_disabilities   1272 non-null   object \n 7   u_gender         5304 non-null   object \n 8   SA1              735 non-null    float64\n 9   SA2              735 non-null    float64\n 10  SA3              735 non-null    float64\n 11  SA4              735 non-null    float64\ndtypes: float64(4), int64(1), object(7)\nmemory usage: 399.8+ KB\n"
     ]
    }
   ],
   "source": [
    "# Check the dataSet fields\n",
    "members_supported_all_fields.info()"
   ]
  },
  {
   "cell_type": "code",
   "execution_count": 4,
   "metadata": {},
   "outputs": [
    {
     "output_type": "execute_result",
     "data": {
      "text/plain": [
       "     id                            member_key date_of_birth first_name  \\\n",
       "0  1350  f8e1f640-c7f3-11ea-baa6-ebfe92aca975    1957-12-19      Aaron   \n",
       "1   435  df6fef80-c179-11ea-8a11-397bdc21f5a9    2002-11-04       Abba   \n",
       "2  3297  d4762b30-dcef-11ea-a5ac-61abce895864    2013-09-26       Abbe   \n",
       "3  3641  e03ed7f0-ddb7-11ea-a31a-7d25e47a5c0a    1969-12-15       Abbe   \n",
       "\n",
       "    last_name  price_zone_code u_disabilities u_gender  SA1  SA2  SA3  SA4  \n",
       "0       Edney           Remote        Amputee   Female  NaN  NaN  NaN  NaN  \n",
       "1  Joskovitch  ACT_NSW_QLD_VIC            NaN   Female  NaN  NaN  NaN  NaN  \n",
       "2    Claridge  ACT_NSW_QLD_VIC            NaN     Male  NaN  NaN  NaN  NaN  \n",
       "3    Kelloway  ACT_NSW_QLD_VIC  Mental health   Female  NaN  NaN  NaN  NaN  "
      ],
      "text/html": "<div>\n<style scoped>\n    .dataframe tbody tr th:only-of-type {\n        vertical-align: middle;\n    }\n\n    .dataframe tbody tr th {\n        vertical-align: top;\n    }\n\n    .dataframe thead th {\n        text-align: right;\n    }\n</style>\n<table border=\"1\" class=\"dataframe\">\n  <thead>\n    <tr style=\"text-align: right;\">\n      <th></th>\n      <th>id</th>\n      <th>member_key</th>\n      <th>date_of_birth</th>\n      <th>first_name</th>\n      <th>last_name</th>\n      <th>price_zone_code</th>\n      <th>u_disabilities</th>\n      <th>u_gender</th>\n      <th>SA1</th>\n      <th>SA2</th>\n      <th>SA3</th>\n      <th>SA4</th>\n    </tr>\n  </thead>\n  <tbody>\n    <tr>\n      <th>0</th>\n      <td>1350</td>\n      <td>f8e1f640-c7f3-11ea-baa6-ebfe92aca975</td>\n      <td>1957-12-19</td>\n      <td>Aaron</td>\n      <td>Edney</td>\n      <td>Remote</td>\n      <td>Amputee</td>\n      <td>Female</td>\n      <td>NaN</td>\n      <td>NaN</td>\n      <td>NaN</td>\n      <td>NaN</td>\n    </tr>\n    <tr>\n      <th>1</th>\n      <td>435</td>\n      <td>df6fef80-c179-11ea-8a11-397bdc21f5a9</td>\n      <td>2002-11-04</td>\n      <td>Abba</td>\n      <td>Joskovitch</td>\n      <td>ACT_NSW_QLD_VIC</td>\n      <td>NaN</td>\n      <td>Female</td>\n      <td>NaN</td>\n      <td>NaN</td>\n      <td>NaN</td>\n      <td>NaN</td>\n    </tr>\n    <tr>\n      <th>2</th>\n      <td>3297</td>\n      <td>d4762b30-dcef-11ea-a5ac-61abce895864</td>\n      <td>2013-09-26</td>\n      <td>Abbe</td>\n      <td>Claridge</td>\n      <td>ACT_NSW_QLD_VIC</td>\n      <td>NaN</td>\n      <td>Male</td>\n      <td>NaN</td>\n      <td>NaN</td>\n      <td>NaN</td>\n      <td>NaN</td>\n    </tr>\n    <tr>\n      <th>3</th>\n      <td>3641</td>\n      <td>e03ed7f0-ddb7-11ea-a31a-7d25e47a5c0a</td>\n      <td>1969-12-15</td>\n      <td>Abbe</td>\n      <td>Kelloway</td>\n      <td>ACT_NSW_QLD_VIC</td>\n      <td>Mental health</td>\n      <td>Female</td>\n      <td>NaN</td>\n      <td>NaN</td>\n      <td>NaN</td>\n      <td>NaN</td>\n    </tr>\n  </tbody>\n</table>\n</div>"
     },
     "metadata": {},
     "execution_count": 4
    }
   ],
   "source": [
    "members_supported_all_fields.head(4)"
   ]
  },
  {
   "cell_type": "code",
   "execution_count": 5,
   "metadata": {},
   "outputs": [
    {
     "output_type": "stream",
     "name": "stderr",
     "text": [
      "C:\\Users\\dttt1\\AppData\\Roaming\\Python\\Python38\\site-packages\\pandas\\core\\frame.py:4125: SettingWithCopyWarning: \nA value is trying to be set on a copy of a slice from a DataFrame\n\nSee the caveats in the documentation: https://pandas.pydata.org/pandas-docs/stable/user_guide/indexing.html#returning-a-view-versus-a-copy\n  return super().rename(\n"
     ]
    }
   ],
   "source": [
    "# Select just the fields to be used\n",
    "df_members_supported = members_supported_all_fields[{\"id\"\n",
    "                                                   , \"member_key\" \n",
    "                                                   , \"first_name\"\n",
    "                                                   , \"last_name\"\n",
    "                                                   , \"price_zone_code\"\n",
    "                                                   , \"u_disabilities\"\n",
    "                                                   , \"SA1\"\n",
    "                                                   }]\n",
    "\n",
    "# Rename some dataSet colums to create a name's pattern\n",
    "df_members_supported.rename(columns={'id':'member_id'\n",
    "                                   , 'u_disabilities':'disabilities'\n",
    "                                    } , inplace = True)                                    "
   ]
  },
  {
   "cell_type": "code",
   "execution_count": 6,
   "metadata": {},
   "outputs": [
    {
     "output_type": "display_data",
     "data": {
      "text/plain": "<Figure size 432x288 with 1 Axes>",
      "image/svg+xml": "<?xml version=\"1.0\" encoding=\"utf-8\" standalone=\"no\"?>\r\n<!DOCTYPE svg PUBLIC \"-//W3C//DTD SVG 1.1//EN\"\r\n  \"http://www.w3.org/Graphics/SVG/1.1/DTD/svg11.dtd\">\r\n<!-- Created with matplotlib (https://matplotlib.org/) -->\r\n<svg height=\"307.05875pt\" version=\"1.1\" viewBox=\"0 0 385.908437 307.05875\" width=\"385.908437pt\" xmlns=\"http://www.w3.org/2000/svg\" xmlns:xlink=\"http://www.w3.org/1999/xlink\">\r\n <defs>\r\n  <style type=\"text/css\">\r\n*{stroke-linecap:butt;stroke-linejoin:round;}\r\n  </style>\r\n </defs>\r\n <g id=\"figure_1\">\r\n  <g id=\"patch_1\">\r\n   <path d=\"M 0 307.05875 \r\nL 385.908437 307.05875 \r\nL 385.908437 0 \r\nL 0 0 \r\nz\r\n\" style=\"fill:#ffffff;\"/>\r\n  </g>\r\n  <g id=\"axes_1\">\r\n   <g id=\"patch_2\">\r\n    <path d=\"M 43.908438 224.64 \r\nL 378.708438 224.64 \r\nL 378.708438 7.2 \r\nL 43.908438 7.2 \r\nz\r\n\" style=\"fill:#ffffff;\"/>\r\n   </g>\r\n   <g id=\"matplotlib.axis_1\">\r\n    <g id=\"xtick_1\">\r\n     <g id=\"text_1\">\r\n      <!-- disabilities -->\r\n      <defs>\r\n       <path d=\"M 40.234375 0 \r\nL 40.234375 6.546875 \r\nQ 35.296875 -1.171875 25.734375 -1.171875 \r\nQ 19.53125 -1.171875 14.328125 2.25 \r\nQ 9.125 5.671875 6.265625 11.796875 \r\nQ 3.421875 17.921875 3.421875 25.875 \r\nQ 3.421875 33.640625 6 39.96875 \r\nQ 8.59375 46.296875 13.765625 49.65625 \r\nQ 18.953125 53.03125 25.34375 53.03125 \r\nQ 30.03125 53.03125 33.6875 51.046875 \r\nQ 37.359375 49.078125 39.65625 45.90625 \r\nL 39.65625 71.578125 \r\nL 48.390625 71.578125 \r\nL 48.390625 0 \r\nz\r\nM 12.453125 25.875 \r\nQ 12.453125 15.921875 16.640625 10.984375 \r\nQ 20.84375 6.0625 26.5625 6.0625 \r\nQ 32.328125 6.0625 36.34375 10.765625 \r\nQ 40.375 15.484375 40.375 25.140625 \r\nQ 40.375 35.796875 36.265625 40.765625 \r\nQ 32.171875 45.75 26.171875 45.75 \r\nQ 20.3125 45.75 16.375 40.96875 \r\nQ 12.453125 36.1875 12.453125 25.875 \r\nz\r\n\" id=\"ArialMT-100\"/>\r\n       <path d=\"M 6.640625 61.46875 \r\nL 6.640625 71.578125 \r\nL 15.4375 71.578125 \r\nL 15.4375 61.46875 \r\nz\r\nM 6.640625 0 \r\nL 6.640625 51.859375 \r\nL 15.4375 51.859375 \r\nL 15.4375 0 \r\nz\r\n\" id=\"ArialMT-105\"/>\r\n       <path d=\"M 3.078125 15.484375 \r\nL 11.765625 16.84375 \r\nQ 12.5 11.625 15.84375 8.84375 \r\nQ 19.1875 6.0625 25.203125 6.0625 \r\nQ 31.25 6.0625 34.171875 8.515625 \r\nQ 37.109375 10.984375 37.109375 14.3125 \r\nQ 37.109375 17.28125 34.515625 19 \r\nQ 32.71875 20.171875 25.53125 21.96875 \r\nQ 15.875 24.421875 12.140625 26.203125 \r\nQ 8.40625 27.984375 6.46875 31.125 \r\nQ 4.546875 34.28125 4.546875 38.09375 \r\nQ 4.546875 41.546875 6.125 44.5 \r\nQ 7.71875 47.46875 10.453125 49.421875 \r\nQ 12.5 50.921875 16.03125 51.96875 \r\nQ 19.578125 53.03125 23.640625 53.03125 \r\nQ 29.734375 53.03125 34.34375 51.265625 \r\nQ 38.96875 49.515625 41.15625 46.5 \r\nQ 43.359375 43.5 44.1875 38.484375 \r\nL 35.59375 37.3125 \r\nQ 35.015625 41.3125 32.203125 43.546875 \r\nQ 29.390625 45.796875 24.265625 45.796875 \r\nQ 18.21875 45.796875 15.625 43.796875 \r\nQ 13.03125 41.796875 13.03125 39.109375 \r\nQ 13.03125 37.40625 14.109375 36.03125 \r\nQ 15.1875 34.625 17.484375 33.6875 \r\nQ 18.796875 33.203125 25.25 31.453125 \r\nQ 34.578125 28.953125 38.25 27.359375 \r\nQ 41.9375 25.78125 44.03125 22.75 \r\nQ 46.140625 19.734375 46.140625 15.234375 \r\nQ 46.140625 10.84375 43.578125 6.953125 \r\nQ 41.015625 3.078125 36.171875 0.953125 \r\nQ 31.34375 -1.171875 25.25 -1.171875 \r\nQ 15.140625 -1.171875 9.84375 3.03125 \r\nQ 4.546875 7.234375 3.078125 15.484375 \r\nz\r\n\" id=\"ArialMT-115\"/>\r\n       <path d=\"M 40.4375 6.390625 \r\nQ 35.546875 2.25 31.03125 0.53125 \r\nQ 26.515625 -1.171875 21.34375 -1.171875 \r\nQ 12.796875 -1.171875 8.203125 3 \r\nQ 3.609375 7.171875 3.609375 13.671875 \r\nQ 3.609375 17.484375 5.34375 20.625 \r\nQ 7.078125 23.78125 9.890625 25.6875 \r\nQ 12.703125 27.59375 16.21875 28.5625 \r\nQ 18.796875 29.25 24.03125 29.890625 \r\nQ 34.671875 31.15625 39.703125 32.90625 \r\nQ 39.75 34.71875 39.75 35.203125 \r\nQ 39.75 40.578125 37.25 42.78125 \r\nQ 33.890625 45.75 27.25 45.75 \r\nQ 21.046875 45.75 18.09375 43.578125 \r\nQ 15.140625 41.40625 13.71875 35.890625 \r\nL 5.125 37.0625 \r\nQ 6.296875 42.578125 8.984375 45.96875 \r\nQ 11.671875 49.359375 16.75 51.1875 \r\nQ 21.828125 53.03125 28.515625 53.03125 \r\nQ 35.15625 53.03125 39.296875 51.46875 \r\nQ 43.453125 49.90625 45.40625 47.53125 \r\nQ 47.359375 45.171875 48.140625 41.546875 \r\nQ 48.578125 39.3125 48.578125 33.453125 \r\nL 48.578125 21.734375 \r\nQ 48.578125 9.46875 49.140625 6.21875 \r\nQ 49.703125 2.984375 51.375 0 \r\nL 42.1875 0 \r\nQ 40.828125 2.734375 40.4375 6.390625 \r\nz\r\nM 39.703125 26.03125 \r\nQ 34.90625 24.078125 25.34375 22.703125 \r\nQ 19.921875 21.921875 17.671875 20.9375 \r\nQ 15.4375 19.96875 14.203125 18.09375 \r\nQ 12.984375 16.21875 12.984375 13.921875 \r\nQ 12.984375 10.40625 15.640625 8.0625 \r\nQ 18.3125 5.71875 23.4375 5.71875 \r\nQ 28.515625 5.71875 32.46875 7.9375 \r\nQ 36.421875 10.15625 38.28125 14.015625 \r\nQ 39.703125 17 39.703125 22.796875 \r\nz\r\n\" id=\"ArialMT-97\"/>\r\n       <path d=\"M 14.703125 0 \r\nL 6.546875 0 \r\nL 6.546875 71.578125 \r\nL 15.328125 71.578125 \r\nL 15.328125 46.046875 \r\nQ 20.90625 53.03125 29.546875 53.03125 \r\nQ 34.328125 53.03125 38.59375 51.09375 \r\nQ 42.875 49.171875 45.625 45.671875 \r\nQ 48.390625 42.1875 49.953125 37.25 \r\nQ 51.515625 32.328125 51.515625 26.703125 \r\nQ 51.515625 13.375 44.921875 6.09375 \r\nQ 38.328125 -1.171875 29.109375 -1.171875 \r\nQ 19.921875 -1.171875 14.703125 6.5 \r\nz\r\nM 14.59375 26.3125 \r\nQ 14.59375 17 17.140625 12.84375 \r\nQ 21.296875 6.0625 28.375 6.0625 \r\nQ 34.125 6.0625 38.328125 11.0625 \r\nQ 42.53125 16.0625 42.53125 25.984375 \r\nQ 42.53125 36.140625 38.5 40.96875 \r\nQ 34.46875 45.796875 28.765625 45.796875 \r\nQ 23 45.796875 18.796875 40.796875 \r\nQ 14.59375 35.796875 14.59375 26.3125 \r\nz\r\n\" id=\"ArialMT-98\"/>\r\n       <path d=\"M 6.390625 0 \r\nL 6.390625 71.578125 \r\nL 15.1875 71.578125 \r\nL 15.1875 0 \r\nz\r\n\" id=\"ArialMT-108\"/>\r\n       <path d=\"M 25.78125 7.859375 \r\nL 27.046875 0.09375 \r\nQ 23.34375 -0.6875 20.40625 -0.6875 \r\nQ 15.625 -0.6875 12.984375 0.828125 \r\nQ 10.359375 2.34375 9.28125 4.8125 \r\nQ 8.203125 7.28125 8.203125 15.1875 \r\nL 8.203125 45.015625 \r\nL 1.765625 45.015625 \r\nL 1.765625 51.859375 \r\nL 8.203125 51.859375 \r\nL 8.203125 64.703125 \r\nL 16.9375 69.96875 \r\nL 16.9375 51.859375 \r\nL 25.78125 51.859375 \r\nL 25.78125 45.015625 \r\nL 16.9375 45.015625 \r\nL 16.9375 14.703125 \r\nQ 16.9375 10.9375 17.40625 9.859375 \r\nQ 17.875 8.796875 18.921875 8.15625 \r\nQ 19.96875 7.515625 21.921875 7.515625 \r\nQ 23.390625 7.515625 25.78125 7.859375 \r\nz\r\n\" id=\"ArialMT-116\"/>\r\n       <path d=\"M 42.09375 16.703125 \r\nL 51.171875 15.578125 \r\nQ 49.03125 7.625 43.21875 3.21875 \r\nQ 37.40625 -1.171875 28.375 -1.171875 \r\nQ 17 -1.171875 10.328125 5.828125 \r\nQ 3.65625 12.84375 3.65625 25.484375 \r\nQ 3.65625 38.578125 10.390625 45.796875 \r\nQ 17.140625 53.03125 27.875 53.03125 \r\nQ 38.28125 53.03125 44.875 45.953125 \r\nQ 51.46875 38.875 51.46875 26.03125 \r\nQ 51.46875 25.25 51.421875 23.6875 \r\nL 12.75 23.6875 \r\nQ 13.234375 15.140625 17.578125 10.59375 \r\nQ 21.921875 6.0625 28.421875 6.0625 \r\nQ 33.25 6.0625 36.671875 8.59375 \r\nQ 40.09375 11.140625 42.09375 16.703125 \r\nz\r\nM 13.234375 30.90625 \r\nL 42.1875 30.90625 \r\nQ 41.609375 37.453125 38.875 40.71875 \r\nQ 34.671875 45.796875 27.984375 45.796875 \r\nQ 21.921875 45.796875 17.796875 41.75 \r\nQ 13.671875 37.703125 13.234375 30.90625 \r\nz\r\n\" id=\"ArialMT-101\"/>\r\n      </defs>\r\n      <g style=\"fill:#262626;\" transform=\"translate(130.452109 284.884375)rotate(-90)scale(0.11 -0.11)\">\r\n       <use xlink:href=\"#ArialMT-100\"/>\r\n       <use x=\"55.615234\" xlink:href=\"#ArialMT-105\"/>\r\n       <use x=\"77.832031\" xlink:href=\"#ArialMT-115\"/>\r\n       <use x=\"127.832031\" xlink:href=\"#ArialMT-97\"/>\r\n       <use x=\"183.447266\" xlink:href=\"#ArialMT-98\"/>\r\n       <use x=\"239.0625\" xlink:href=\"#ArialMT-105\"/>\r\n       <use x=\"261.279297\" xlink:href=\"#ArialMT-108\"/>\r\n       <use x=\"283.496094\" xlink:href=\"#ArialMT-105\"/>\r\n       <use x=\"305.712891\" xlink:href=\"#ArialMT-116\"/>\r\n       <use x=\"333.496094\" xlink:href=\"#ArialMT-105\"/>\r\n       <use x=\"355.712891\" xlink:href=\"#ArialMT-101\"/>\r\n       <use x=\"411.328125\" xlink:href=\"#ArialMT-115\"/>\r\n      </g>\r\n     </g>\r\n    </g>\r\n    <g id=\"xtick_2\">\r\n     <g id=\"text_2\">\r\n      <!-- SA1 -->\r\n      <defs>\r\n       <path d=\"M 4.5 23 \r\nL 13.421875 23.78125 \r\nQ 14.0625 18.40625 16.375 14.96875 \r\nQ 18.703125 11.53125 23.578125 9.40625 \r\nQ 28.46875 7.28125 34.578125 7.28125 \r\nQ 39.984375 7.28125 44.140625 8.890625 \r\nQ 48.296875 10.5 50.3125 13.296875 \r\nQ 52.34375 16.109375 52.34375 19.4375 \r\nQ 52.34375 22.796875 50.390625 25.3125 \r\nQ 48.4375 27.828125 43.953125 29.546875 \r\nQ 41.0625 30.671875 31.203125 33.03125 \r\nQ 21.34375 35.40625 17.390625 37.5 \r\nQ 12.25 40.1875 9.734375 44.15625 \r\nQ 7.234375 48.140625 7.234375 53.078125 \r\nQ 7.234375 58.5 10.296875 63.203125 \r\nQ 13.375 67.921875 19.28125 70.359375 \r\nQ 25.203125 72.796875 32.421875 72.796875 \r\nQ 40.375 72.796875 46.453125 70.234375 \r\nQ 52.546875 67.671875 55.8125 62.6875 \r\nQ 59.078125 57.71875 59.328125 51.421875 \r\nL 50.25 50.734375 \r\nQ 49.515625 57.515625 45.28125 60.984375 \r\nQ 41.0625 64.453125 32.8125 64.453125 \r\nQ 24.21875 64.453125 20.28125 61.296875 \r\nQ 16.359375 58.15625 16.359375 53.71875 \r\nQ 16.359375 49.859375 19.140625 47.359375 \r\nQ 21.875 44.875 33.421875 42.265625 \r\nQ 44.96875 39.65625 49.265625 37.703125 \r\nQ 55.515625 34.8125 58.484375 30.390625 \r\nQ 61.46875 25.984375 61.46875 20.21875 \r\nQ 61.46875 14.5 58.203125 9.4375 \r\nQ 54.9375 4.390625 48.796875 1.578125 \r\nQ 42.671875 -1.21875 35.015625 -1.21875 \r\nQ 25.296875 -1.21875 18.71875 1.609375 \r\nQ 12.15625 4.4375 8.421875 10.125 \r\nQ 4.6875 15.828125 4.5 23 \r\nz\r\n\" id=\"ArialMT-83\"/>\r\n       <path d=\"M -0.140625 0 \r\nL 27.34375 71.578125 \r\nL 37.546875 71.578125 \r\nL 66.84375 0 \r\nL 56.0625 0 \r\nL 47.703125 21.6875 \r\nL 17.78125 21.6875 \r\nL 9.90625 0 \r\nz\r\nM 20.515625 29.390625 \r\nL 44.78125 29.390625 \r\nL 37.3125 49.21875 \r\nQ 33.890625 58.25 32.234375 64.0625 \r\nQ 30.859375 57.171875 28.375 50.390625 \r\nz\r\n\" id=\"ArialMT-65\"/>\r\n       <path d=\"M 37.25 0 \r\nL 28.46875 0 \r\nL 28.46875 56 \r\nQ 25.296875 52.984375 20.140625 49.953125 \r\nQ 14.984375 46.921875 10.890625 45.40625 \r\nL 10.890625 53.90625 \r\nQ 18.265625 57.375 23.78125 62.296875 \r\nQ 29.296875 67.234375 31.59375 71.875 \r\nL 37.25 71.875 \r\nz\r\n\" id=\"ArialMT-49\"/>\r\n      </defs>\r\n      <g style=\"fill:#262626;\" transform=\"translate(297.852109 254.931719)rotate(-90)scale(0.11 -0.11)\">\r\n       <use xlink:href=\"#ArialMT-83\"/>\r\n       <use x=\"66.699219\" xlink:href=\"#ArialMT-65\"/>\r\n       <use x=\"133.398438\" xlink:href=\"#ArialMT-49\"/>\r\n      </g>\r\n     </g>\r\n    </g>\r\n    <g id=\"text_3\">\r\n     <!-- Column -->\r\n     <defs>\r\n      <path d=\"M 58.796875 25.09375 \r\nL 68.265625 22.703125 \r\nQ 65.28125 11.03125 57.546875 4.90625 \r\nQ 49.8125 -1.21875 38.625 -1.21875 \r\nQ 27.046875 -1.21875 19.796875 3.484375 \r\nQ 12.546875 8.203125 8.765625 17.140625 \r\nQ 4.984375 26.078125 4.984375 36.328125 \r\nQ 4.984375 47.515625 9.25 55.828125 \r\nQ 13.53125 64.15625 21.40625 68.46875 \r\nQ 29.296875 72.796875 38.765625 72.796875 \r\nQ 49.515625 72.796875 56.828125 67.328125 \r\nQ 64.15625 61.859375 67.046875 51.953125 \r\nL 57.71875 49.75 \r\nQ 55.21875 57.5625 50.484375 61.125 \r\nQ 45.75 64.703125 38.578125 64.703125 \r\nQ 30.328125 64.703125 24.78125 60.734375 \r\nQ 19.234375 56.78125 16.984375 50.109375 \r\nQ 14.75 43.453125 14.75 36.375 \r\nQ 14.75 27.25 17.40625 20.4375 \r\nQ 20.0625 13.625 25.671875 10.25 \r\nQ 31.296875 6.890625 37.84375 6.890625 \r\nQ 45.796875 6.890625 51.3125 11.46875 \r\nQ 56.84375 16.0625 58.796875 25.09375 \r\nz\r\n\" id=\"ArialMT-67\"/>\r\n      <path d=\"M 3.328125 25.921875 \r\nQ 3.328125 40.328125 11.328125 47.265625 \r\nQ 18.015625 53.03125 27.640625 53.03125 \r\nQ 38.328125 53.03125 45.109375 46.015625 \r\nQ 51.90625 39.015625 51.90625 26.65625 \r\nQ 51.90625 16.65625 48.90625 10.90625 \r\nQ 45.90625 5.171875 40.15625 2 \r\nQ 34.421875 -1.171875 27.640625 -1.171875 \r\nQ 16.75 -1.171875 10.03125 5.8125 \r\nQ 3.328125 12.796875 3.328125 25.921875 \r\nz\r\nM 12.359375 25.921875 \r\nQ 12.359375 15.96875 16.703125 11.015625 \r\nQ 21.046875 6.0625 27.640625 6.0625 \r\nQ 34.1875 6.0625 38.53125 11.03125 \r\nQ 42.875 16.015625 42.875 26.21875 \r\nQ 42.875 35.84375 38.5 40.796875 \r\nQ 34.125 45.75 27.640625 45.75 \r\nQ 21.046875 45.75 16.703125 40.8125 \r\nQ 12.359375 35.890625 12.359375 25.921875 \r\nz\r\n\" id=\"ArialMT-111\"/>\r\n      <path d=\"M 40.578125 0 \r\nL 40.578125 7.625 \r\nQ 34.515625 -1.171875 24.125 -1.171875 \r\nQ 19.53125 -1.171875 15.546875 0.578125 \r\nQ 11.578125 2.34375 9.640625 5 \r\nQ 7.71875 7.671875 6.9375 11.53125 \r\nQ 6.390625 14.109375 6.390625 19.734375 \r\nL 6.390625 51.859375 \r\nL 15.1875 51.859375 \r\nL 15.1875 23.09375 \r\nQ 15.1875 16.21875 15.71875 13.8125 \r\nQ 16.546875 10.359375 19.234375 8.375 \r\nQ 21.921875 6.390625 25.875 6.390625 \r\nQ 29.828125 6.390625 33.296875 8.421875 \r\nQ 36.765625 10.453125 38.203125 13.9375 \r\nQ 39.65625 17.4375 39.65625 24.078125 \r\nL 39.65625 51.859375 \r\nL 48.4375 51.859375 \r\nL 48.4375 0 \r\nz\r\n\" id=\"ArialMT-117\"/>\r\n      <path d=\"M 6.59375 0 \r\nL 6.59375 51.859375 \r\nL 14.453125 51.859375 \r\nL 14.453125 44.578125 \r\nQ 16.890625 48.390625 20.9375 50.703125 \r\nQ 25 53.03125 30.171875 53.03125 \r\nQ 35.9375 53.03125 39.625 50.640625 \r\nQ 43.3125 48.25 44.828125 43.953125 \r\nQ 50.984375 53.03125 60.84375 53.03125 \r\nQ 68.5625 53.03125 72.703125 48.75 \r\nQ 76.859375 44.484375 76.859375 35.59375 \r\nL 76.859375 0 \r\nL 68.109375 0 \r\nL 68.109375 32.671875 \r\nQ 68.109375 37.9375 67.25 40.25 \r\nQ 66.40625 42.578125 64.15625 43.984375 \r\nQ 61.921875 45.40625 58.890625 45.40625 \r\nQ 53.421875 45.40625 49.796875 41.765625 \r\nQ 46.1875 38.140625 46.1875 30.125 \r\nL 46.1875 0 \r\nL 37.40625 0 \r\nL 37.40625 33.6875 \r\nQ 37.40625 39.546875 35.25 42.46875 \r\nQ 33.109375 45.40625 28.21875 45.40625 \r\nQ 24.515625 45.40625 21.359375 43.453125 \r\nQ 18.21875 41.5 16.796875 37.734375 \r\nQ 15.375 33.984375 15.375 26.90625 \r\nL 15.375 0 \r\nz\r\n\" id=\"ArialMT-109\"/>\r\n      <path d=\"M 6.59375 0 \r\nL 6.59375 51.859375 \r\nL 14.5 51.859375 \r\nL 14.5 44.484375 \r\nQ 20.21875 53.03125 31 53.03125 \r\nQ 35.6875 53.03125 39.625 51.34375 \r\nQ 43.5625 49.65625 45.515625 46.921875 \r\nQ 47.46875 44.1875 48.25 40.4375 \r\nQ 48.734375 37.984375 48.734375 31.890625 \r\nL 48.734375 0 \r\nL 39.9375 0 \r\nL 39.9375 31.546875 \r\nQ 39.9375 36.921875 38.90625 39.578125 \r\nQ 37.890625 42.234375 35.28125 43.8125 \r\nQ 32.671875 45.40625 29.15625 45.40625 \r\nQ 23.53125 45.40625 19.453125 41.84375 \r\nQ 15.375 38.28125 15.375 28.328125 \r\nL 15.375 0 \r\nz\r\n\" id=\"ArialMT-110\"/>\r\n     </defs>\r\n     <g style=\"fill:#262626;\" transform=\"translate(190.634688 297.47375)scale(0.12 -0.12)\">\r\n      <use xlink:href=\"#ArialMT-67\"/>\r\n      <use x=\"72.216797\" xlink:href=\"#ArialMT-111\"/>\r\n      <use x=\"127.832031\" xlink:href=\"#ArialMT-108\"/>\r\n      <use x=\"150.048828\" xlink:href=\"#ArialMT-117\"/>\r\n      <use x=\"205.664062\" xlink:href=\"#ArialMT-109\"/>\r\n      <use x=\"288.964844\" xlink:href=\"#ArialMT-110\"/>\r\n     </g>\r\n    </g>\r\n   </g>\r\n   <g id=\"matplotlib.axis_2\">\r\n    <g id=\"ytick_1\">\r\n     <g id=\"line2d_1\">\r\n      <path clip-path=\"url(#p2f81b67254)\" d=\"M 43.908438 224.64 \r\nL 378.708438 224.64 \r\n\" style=\"fill:none;stroke:#cccccc;stroke-linecap:round;\"/>\r\n     </g>\r\n     <g id=\"text_4\">\r\n      <!-- 0 -->\r\n      <defs>\r\n       <path d=\"M 4.15625 35.296875 \r\nQ 4.15625 48 6.765625 55.734375 \r\nQ 9.375 63.484375 14.515625 67.671875 \r\nQ 19.671875 71.875 27.484375 71.875 \r\nQ 33.25 71.875 37.59375 69.546875 \r\nQ 41.9375 67.234375 44.765625 62.859375 \r\nQ 47.609375 58.5 49.21875 52.21875 \r\nQ 50.828125 45.953125 50.828125 35.296875 \r\nQ 50.828125 22.703125 48.234375 14.96875 \r\nQ 45.65625 7.234375 40.5 3 \r\nQ 35.359375 -1.21875 27.484375 -1.21875 \r\nQ 17.140625 -1.21875 11.234375 6.203125 \r\nQ 4.15625 15.140625 4.15625 35.296875 \r\nz\r\nM 13.1875 35.296875 \r\nQ 13.1875 17.671875 17.3125 11.828125 \r\nQ 21.4375 6 27.484375 6 \r\nQ 33.546875 6 37.671875 11.859375 \r\nQ 41.796875 17.71875 41.796875 35.296875 \r\nQ 41.796875 52.984375 37.671875 58.78125 \r\nQ 33.546875 64.59375 27.390625 64.59375 \r\nQ 21.34375 64.59375 17.71875 59.46875 \r\nQ 13.1875 52.9375 13.1875 35.296875 \r\nz\r\n\" id=\"ArialMT-48\"/>\r\n      </defs>\r\n      <g style=\"fill:#262626;\" transform=\"translate(28.291406 228.576797)scale(0.11 -0.11)\">\r\n       <use xlink:href=\"#ArialMT-48\"/>\r\n      </g>\r\n     </g>\r\n    </g>\r\n    <g id=\"ytick_2\">\r\n     <g id=\"line2d_2\">\r\n      <path clip-path=\"url(#p2f81b67254)\" d=\"M 43.908438 177.461767 \r\nL 378.708438 177.461767 \r\n\" style=\"fill:none;stroke:#cccccc;stroke-linecap:round;\"/>\r\n     </g>\r\n     <g id=\"text_5\">\r\n      <!-- 20 -->\r\n      <defs>\r\n       <path d=\"M 50.34375 8.453125 \r\nL 50.34375 0 \r\nL 3.03125 0 \r\nQ 2.9375 3.171875 4.046875 6.109375 \r\nQ 5.859375 10.9375 9.828125 15.625 \r\nQ 13.8125 20.3125 21.34375 26.46875 \r\nQ 33.015625 36.03125 37.109375 41.625 \r\nQ 41.21875 47.21875 41.21875 52.203125 \r\nQ 41.21875 57.421875 37.46875 61 \r\nQ 33.734375 64.59375 27.734375 64.59375 \r\nQ 21.390625 64.59375 17.578125 60.78125 \r\nQ 13.765625 56.984375 13.71875 50.25 \r\nL 4.6875 51.171875 \r\nQ 5.609375 61.28125 11.65625 66.578125 \r\nQ 17.71875 71.875 27.9375 71.875 \r\nQ 38.234375 71.875 44.234375 66.15625 \r\nQ 50.25 60.453125 50.25 52 \r\nQ 50.25 47.703125 48.484375 43.546875 \r\nQ 46.734375 39.40625 42.65625 34.8125 \r\nQ 38.578125 30.21875 29.109375 22.21875 \r\nQ 21.1875 15.578125 18.9375 13.203125 \r\nQ 16.703125 10.84375 15.234375 8.453125 \r\nz\r\n\" id=\"ArialMT-50\"/>\r\n      </defs>\r\n      <g style=\"fill:#262626;\" transform=\"translate(22.174375 181.398564)scale(0.11 -0.11)\">\r\n       <use xlink:href=\"#ArialMT-50\"/>\r\n       <use x=\"55.615234\" xlink:href=\"#ArialMT-48\"/>\r\n      </g>\r\n     </g>\r\n    </g>\r\n    <g id=\"ytick_3\">\r\n     <g id=\"line2d_3\">\r\n      <path clip-path=\"url(#p2f81b67254)\" d=\"M 43.908438 130.283534 \r\nL 378.708438 130.283534 \r\n\" style=\"fill:none;stroke:#cccccc;stroke-linecap:round;\"/>\r\n     </g>\r\n     <g id=\"text_6\">\r\n      <!-- 40 -->\r\n      <defs>\r\n       <path d=\"M 32.328125 0 \r\nL 32.328125 17.140625 \r\nL 1.265625 17.140625 \r\nL 1.265625 25.203125 \r\nL 33.9375 71.578125 \r\nL 41.109375 71.578125 \r\nL 41.109375 25.203125 \r\nL 50.78125 25.203125 \r\nL 50.78125 17.140625 \r\nL 41.109375 17.140625 \r\nL 41.109375 0 \r\nz\r\nM 32.328125 25.203125 \r\nL 32.328125 57.46875 \r\nL 9.90625 25.203125 \r\nz\r\n\" id=\"ArialMT-52\"/>\r\n      </defs>\r\n      <g style=\"fill:#262626;\" transform=\"translate(22.174375 134.220331)scale(0.11 -0.11)\">\r\n       <use xlink:href=\"#ArialMT-52\"/>\r\n       <use x=\"55.615234\" xlink:href=\"#ArialMT-48\"/>\r\n      </g>\r\n     </g>\r\n    </g>\r\n    <g id=\"ytick_4\">\r\n     <g id=\"line2d_4\">\r\n      <path clip-path=\"url(#p2f81b67254)\" d=\"M 43.908438 83.105301 \r\nL 378.708438 83.105301 \r\n\" style=\"fill:none;stroke:#cccccc;stroke-linecap:round;\"/>\r\n     </g>\r\n     <g id=\"text_7\">\r\n      <!-- 60 -->\r\n      <defs>\r\n       <path d=\"M 49.75 54.046875 \r\nL 41.015625 53.375 \r\nQ 39.84375 58.546875 37.703125 60.890625 \r\nQ 34.125 64.65625 28.90625 64.65625 \r\nQ 24.703125 64.65625 21.53125 62.3125 \r\nQ 17.390625 59.28125 14.984375 53.46875 \r\nQ 12.59375 47.65625 12.5 36.921875 \r\nQ 15.671875 41.75 20.265625 44.09375 \r\nQ 24.859375 46.4375 29.890625 46.4375 \r\nQ 38.671875 46.4375 44.84375 39.96875 \r\nQ 51.03125 33.5 51.03125 23.25 \r\nQ 51.03125 16.5 48.125 10.71875 \r\nQ 45.21875 4.9375 40.140625 1.859375 \r\nQ 35.0625 -1.21875 28.609375 -1.21875 \r\nQ 17.625 -1.21875 10.6875 6.859375 \r\nQ 3.765625 14.9375 3.765625 33.5 \r\nQ 3.765625 54.25 11.421875 63.671875 \r\nQ 18.109375 71.875 29.4375 71.875 \r\nQ 37.890625 71.875 43.28125 67.140625 \r\nQ 48.6875 62.40625 49.75 54.046875 \r\nz\r\nM 13.875 23.1875 \r\nQ 13.875 18.65625 15.796875 14.5 \r\nQ 17.71875 10.359375 21.1875 8.171875 \r\nQ 24.65625 6 28.46875 6 \r\nQ 34.03125 6 38.03125 10.484375 \r\nQ 42.046875 14.984375 42.046875 22.703125 \r\nQ 42.046875 30.125 38.078125 34.390625 \r\nQ 34.125 38.671875 28.125 38.671875 \r\nQ 22.171875 38.671875 18.015625 34.390625 \r\nQ 13.875 30.125 13.875 23.1875 \r\nz\r\n\" id=\"ArialMT-54\"/>\r\n      </defs>\r\n      <g style=\"fill:#262626;\" transform=\"translate(22.174375 87.042098)scale(0.11 -0.11)\">\r\n       <use xlink:href=\"#ArialMT-54\"/>\r\n       <use x=\"55.615234\" xlink:href=\"#ArialMT-48\"/>\r\n      </g>\r\n     </g>\r\n    </g>\r\n    <g id=\"ytick_5\">\r\n     <g id=\"line2d_5\">\r\n      <path clip-path=\"url(#p2f81b67254)\" d=\"M 43.908438 35.927068 \r\nL 378.708438 35.927068 \r\n\" style=\"fill:none;stroke:#cccccc;stroke-linecap:round;\"/>\r\n     </g>\r\n     <g id=\"text_8\">\r\n      <!-- 80 -->\r\n      <defs>\r\n       <path d=\"M 17.671875 38.8125 \r\nQ 12.203125 40.828125 9.5625 44.53125 \r\nQ 6.9375 48.25 6.9375 53.421875 \r\nQ 6.9375 61.234375 12.546875 66.546875 \r\nQ 18.171875 71.875 27.484375 71.875 \r\nQ 36.859375 71.875 42.578125 66.421875 \r\nQ 48.296875 60.984375 48.296875 53.171875 \r\nQ 48.296875 48.1875 45.671875 44.5 \r\nQ 43.0625 40.828125 37.75 38.8125 \r\nQ 44.34375 36.671875 47.78125 31.875 \r\nQ 51.21875 27.09375 51.21875 20.453125 \r\nQ 51.21875 11.28125 44.71875 5.03125 \r\nQ 38.234375 -1.21875 27.640625 -1.21875 \r\nQ 17.046875 -1.21875 10.546875 5.046875 \r\nQ 4.046875 11.328125 4.046875 20.703125 \r\nQ 4.046875 27.6875 7.59375 32.390625 \r\nQ 11.140625 37.109375 17.671875 38.8125 \r\nz\r\nM 15.921875 53.71875 \r\nQ 15.921875 48.640625 19.1875 45.40625 \r\nQ 22.46875 42.1875 27.6875 42.1875 \r\nQ 32.765625 42.1875 36.015625 45.375 \r\nQ 39.265625 48.578125 39.265625 53.21875 \r\nQ 39.265625 58.0625 35.90625 61.359375 \r\nQ 32.5625 64.65625 27.59375 64.65625 \r\nQ 22.5625 64.65625 19.234375 61.421875 \r\nQ 15.921875 58.203125 15.921875 53.71875 \r\nz\r\nM 13.09375 20.65625 \r\nQ 13.09375 16.890625 14.875 13.375 \r\nQ 16.65625 9.859375 20.171875 7.921875 \r\nQ 23.6875 6 27.734375 6 \r\nQ 34.03125 6 38.125 10.046875 \r\nQ 42.234375 14.109375 42.234375 20.359375 \r\nQ 42.234375 26.703125 38.015625 30.859375 \r\nQ 33.796875 35.015625 27.4375 35.015625 \r\nQ 21.234375 35.015625 17.15625 30.90625 \r\nQ 13.09375 26.8125 13.09375 20.65625 \r\nz\r\n\" id=\"ArialMT-56\"/>\r\n      </defs>\r\n      <g style=\"fill:#262626;\" transform=\"translate(22.174375 39.863865)scale(0.11 -0.11)\">\r\n       <use xlink:href=\"#ArialMT-56\"/>\r\n       <use x=\"55.615234\" xlink:href=\"#ArialMT-48\"/>\r\n      </g>\r\n     </g>\r\n    </g>\r\n    <g id=\"text_9\">\r\n     <!-- Percentual -->\r\n     <defs>\r\n      <path d=\"M 7.71875 0 \r\nL 7.71875 71.578125 \r\nL 34.71875 71.578125 \r\nQ 41.84375 71.578125 45.609375 70.90625 \r\nQ 50.875 70.015625 54.4375 67.546875 \r\nQ 58.015625 65.09375 60.1875 60.640625 \r\nQ 62.359375 56.203125 62.359375 50.875 \r\nQ 62.359375 41.75 56.546875 35.421875 \r\nQ 50.734375 29.109375 35.546875 29.109375 \r\nL 17.1875 29.109375 \r\nL 17.1875 0 \r\nz\r\nM 17.1875 37.546875 \r\nL 35.6875 37.546875 \r\nQ 44.875 37.546875 48.734375 40.96875 \r\nQ 52.59375 44.390625 52.59375 50.59375 \r\nQ 52.59375 55.078125 50.3125 58.265625 \r\nQ 48.046875 61.46875 44.34375 62.5 \r\nQ 41.9375 63.140625 35.5 63.140625 \r\nL 17.1875 63.140625 \r\nz\r\n\" id=\"ArialMT-80\"/>\r\n      <path d=\"M 6.5 0 \r\nL 6.5 51.859375 \r\nL 14.40625 51.859375 \r\nL 14.40625 44 \r\nQ 17.4375 49.515625 20 51.265625 \r\nQ 22.5625 53.03125 25.640625 53.03125 \r\nQ 30.078125 53.03125 34.671875 50.203125 \r\nL 31.640625 42.046875 \r\nQ 28.421875 43.953125 25.203125 43.953125 \r\nQ 22.3125 43.953125 20.015625 42.21875 \r\nQ 17.71875 40.484375 16.75 37.40625 \r\nQ 15.28125 32.71875 15.28125 27.15625 \r\nL 15.28125 0 \r\nz\r\n\" id=\"ArialMT-114\"/>\r\n      <path d=\"M 40.4375 19 \r\nL 49.078125 17.875 \r\nQ 47.65625 8.9375 41.8125 3.875 \r\nQ 35.984375 -1.171875 27.484375 -1.171875 \r\nQ 16.84375 -1.171875 10.375 5.78125 \r\nQ 3.90625 12.75 3.90625 25.734375 \r\nQ 3.90625 34.125 6.6875 40.421875 \r\nQ 9.46875 46.734375 15.15625 49.875 \r\nQ 20.84375 53.03125 27.546875 53.03125 \r\nQ 35.984375 53.03125 41.359375 48.75 \r\nQ 46.734375 44.484375 48.25 36.625 \r\nL 39.703125 35.296875 \r\nQ 38.484375 40.53125 35.375 43.15625 \r\nQ 32.28125 45.796875 27.875 45.796875 \r\nQ 21.234375 45.796875 17.078125 41.03125 \r\nQ 12.9375 36.28125 12.9375 25.984375 \r\nQ 12.9375 15.53125 16.9375 10.796875 \r\nQ 20.953125 6.0625 27.390625 6.0625 \r\nQ 32.5625 6.0625 36.03125 9.234375 \r\nQ 39.5 12.40625 40.4375 19 \r\nz\r\n\" id=\"ArialMT-99\"/>\r\n     </defs>\r\n     <g style=\"fill:#262626;\" transform=\"translate(15.789375 144.602812)rotate(-90)scale(0.12 -0.12)\">\r\n      <use xlink:href=\"#ArialMT-80\"/>\r\n      <use x=\"66.699219\" xlink:href=\"#ArialMT-101\"/>\r\n      <use x=\"122.314453\" xlink:href=\"#ArialMT-114\"/>\r\n      <use x=\"155.615234\" xlink:href=\"#ArialMT-99\"/>\r\n      <use x=\"205.615234\" xlink:href=\"#ArialMT-101\"/>\r\n      <use x=\"261.230469\" xlink:href=\"#ArialMT-110\"/>\r\n      <use x=\"316.845703\" xlink:href=\"#ArialMT-116\"/>\r\n      <use x=\"344.628906\" xlink:href=\"#ArialMT-117\"/>\r\n      <use x=\"400.244141\" xlink:href=\"#ArialMT-97\"/>\r\n      <use x=\"455.859375\" xlink:href=\"#ArialMT-108\"/>\r\n     </g>\r\n    </g>\r\n   </g>\r\n   <g id=\"patch_3\">\r\n    <path clip-path=\"url(#p2f81b67254)\" d=\"M 60.648438 224.64 \r\nL 194.568438 224.64 \r\nL 194.568438 38.599901 \r\nL 60.648438 38.599901 \r\nz\r\n\" style=\"fill:#5875a4;stroke:#ffffff;stroke-linejoin:miter;\"/>\r\n   </g>\r\n   <g id=\"patch_4\">\r\n    <path clip-path=\"url(#p2f81b67254)\" d=\"M 228.048438 224.64 \r\nL 361.968437 224.64 \r\nL 361.968437 17.554286 \r\nL 228.048438 17.554286 \r\nz\r\n\" style=\"fill:#cc8963;stroke:#ffffff;stroke-linejoin:miter;\"/>\r\n   </g>\r\n   <g id=\"line2d_6\">\r\n    <path clip-path=\"url(#p2f81b67254)\" style=\"fill:none;stroke:#424242;stroke-linecap:round;stroke-width:2.7;\"/>\r\n   </g>\r\n   <g id=\"line2d_7\">\r\n    <path clip-path=\"url(#p2f81b67254)\" style=\"fill:none;stroke:#424242;stroke-linecap:round;stroke-width:2.7;\"/>\r\n   </g>\r\n   <g id=\"patch_5\">\r\n    <path d=\"M 43.908438 224.64 \r\nL 43.908438 7.2 \r\n\" style=\"fill:none;stroke:#cccccc;stroke-linecap:square;stroke-linejoin:miter;stroke-width:1.25;\"/>\r\n   </g>\r\n   <g id=\"patch_6\">\r\n    <path d=\"M 378.708438 224.64 \r\nL 378.708438 7.2 \r\n\" style=\"fill:none;stroke:#cccccc;stroke-linecap:square;stroke-linejoin:miter;stroke-width:1.25;\"/>\r\n   </g>\r\n   <g id=\"patch_7\">\r\n    <path d=\"M 43.908438 224.64 \r\nL 378.708438 224.64 \r\n\" style=\"fill:none;stroke:#cccccc;stroke-linecap:square;stroke-linejoin:miter;stroke-width:1.25;\"/>\r\n   </g>\r\n   <g id=\"patch_8\">\r\n    <path d=\"M 43.908438 7.2 \r\nL 378.708438 7.2 \r\n\" style=\"fill:none;stroke:#cccccc;stroke-linecap:square;stroke-linejoin:miter;stroke-width:1.25;\"/>\r\n   </g>\r\n  </g>\r\n </g>\r\n <defs>\r\n  <clipPath id=\"p2f81b67254\">\r\n   <rect height=\"217.44\" width=\"334.8\" x=\"43.908438\" y=\"7.2\"/>\r\n  </clipPath>\r\n </defs>\r\n</svg>\r\n",
      "image/png": "[encoded data removed]"
     },
     "metadata": {}
    },
    {
     "output_type": "stream",
     "name": "stdout",
     "text": [
      "              Percentual        Column\n",
      "Name                                  \n",
      "disabilities   78.866921  disabilities\n",
      "SA1            87.788669           SA1\n",
      "C:\\Users\\dttt1\\AppData\\Roaming\\Python\\Python38\\site-packages\\pandas\\core\\indexing.py:966: SettingWithCopyWarning: \n",
      "A value is trying to be set on a copy of a slice from a DataFrame.\n",
      "Try using .loc[row_indexer,col_indexer] = value instead\n",
      "\n",
      "See the caveats in the documentation: https://pandas.pydata.org/pandas-docs/stable/user_guide/indexing.html#returning-a-view-versus-a-copy\n",
      "  self.obj[item] = s\n"
     ]
    }
   ],
   "source": [
    "# Check if there any NaN Field\n",
    "plotNaNValuesColums(df_members_supported)\n",
    "\n",
    "# Although amount of null values in the columns is high they are keeped in the dataSet\n",
    "#  And it is assigned 'Not Assigned' to the null values in u_disabilities and SA1\n",
    "df_members_supported.loc[df_members_supported['disabilities'].isnull(),['disabilities']] = \"NA\"\n",
    "df_members_supported.loc[df_members_supported['SA1'].isnull(),['SA1']] = \"NA\"\n",
    "\n",
    "df_members_cleased = df_members_supported"
   ]
  },
  {
   "source": [
    "### Plans and budgets dataset cleasing"
   ],
   "cell_type": "markdown",
   "metadata": {}
  },
  {
   "cell_type": "code",
   "execution_count": 7,
   "metadata": {},
   "outputs": [
    {
     "output_type": "stream",
     "name": "stdout",
     "text": [
      "<class 'pandas.core.frame.DataFrame'>\nRangeIndex: 69470 entries, 0 to 69469\nData columns (total 18 columns):\n #   Column                    Non-Null Count  Dtype  \n---  ------                    --------------  -----  \n 0   member_key                69470 non-null  object \n 1   plan_key                  69470 non-null  object \n 2   plan_start_date           69470 non-null  object \n 3   plan_start_date.1         69470 non-null  object \n 4   status                    69470 non-null  object \n 5   id_budget                 69470 non-null  int64  \n 6   budget_number             66164 non-null  object \n 7   opening_balance           19824 non-null  float64\n 8   closing_balance           19824 non-null  float64\n 9   level2_key                69470 non-null  object \n 10  level2_name               69470 non-null  object \n 11  level1_key                69470 non-null  object \n 12  level1_name               69470 non-null  object \n 13  item_category_level3_key  1213 non-null   object \n 14  budget_level3_name        1213 non-null   object \n 15  value_allocated_budget    69470 non-null  float64\n 16  value_remained_budget     69470 non-null  float64\n 17  status_budget             69470 non-null  object \ndtypes: float64(4), int64(1), object(13)\nmemory usage: 6.1+ MB\n"
     ]
    }
   ],
   "source": [
    "# Check the dataSet fields\n",
    "plans_budgets_all_fields.info()"
   ]
  },
  {
   "cell_type": "code",
   "execution_count": 8,
   "metadata": {},
   "outputs": [
    {
     "output_type": "execute_result",
     "data": {
      "text/plain": [
       "                             member_key                              plan_key  \\\n",
       "0  ef0ab4c0-891b-11ea-a119-35e8388a5f49  29b86641-62d2-4eb2-9222-311b16ef74cc   \n",
       "1  6a535640-8b5c-11ea-9eec-315ed4b1385b  ea2cc969-6c3f-4dbc-9ebe-30df0c9f5b33   \n",
       "2  6a535640-8b5c-11ea-9eec-315ed4b1385b  ea2cc969-6c3f-4dbc-9ebe-30df0c9f5b33   \n",
       "3  472c17f0-9409-11ea-ba24-1f1ea52ce5bc  dd735ad0-05eb-42ce-91ba-36e1e032a67a   \n",
       "\n",
       "  plan_start_date plan_start_date.1                status  id_budget  \\\n",
       "0      2020-04-24        2021-04-23  PLAN_DELIVERY_ACTIVE          1   \n",
       "1      2020-04-20        2021-04-20  PLAN_DELIVERY_ACTIVE          2   \n",
       "2      2020-04-20        2021-04-20  PLAN_DELIVERY_ACTIVE          3   \n",
       "3      2019-09-11        2020-08-17             COMPLETED          4   \n",
       "\n",
       "  budget_number  opening_balance  closing_balance  \\\n",
       "0      55508918              NaN              NaN   \n",
       "1      55539563              NaN              NaN   \n",
       "2      55539563              NaN              NaN   \n",
       "3      55612635              NaN              NaN   \n",
       "\n",
       "                             level2_key                   level2_name  \\\n",
       "0  7d0af57b-f597-11e9-bfb4-022d4762bb3c  Improved daily living skills   \n",
       "1  7d0af57b-f597-11e9-bfb4-022d4762bb3c  Improved daily living skills   \n",
       "2  7d0af5b1-f597-11e9-bfb4-022d4762bb3c                   Consumables   \n",
       "3  7d0af57b-f597-11e9-bfb4-022d4762bb3c  Improved daily living skills   \n",
       "\n",
       "                             level1_key        level1_name  \\\n",
       "0  5874551b-f597-11e9-bfb4-022d4762bb3c  Capacity Building   \n",
       "1  5874551b-f597-11e9-bfb4-022d4762bb3c  Capacity Building   \n",
       "2  58745466-f597-11e9-bfb4-022d4762bb3c               Core   \n",
       "3  5874551b-f597-11e9-bfb4-022d4762bb3c  Capacity Building   \n",
       "\n",
       "  item_category_level3_key budget_level3_name  value_allocated_budget  \\\n",
       "0                      NaN                NaN                 8168.00   \n",
       "1                      NaN                NaN                 7682.04   \n",
       "2                      NaN                NaN                  300.00   \n",
       "3                      NaN                NaN                 6972.41   \n",
       "\n",
       "   value_remained_budget status_budget  \n",
       "0                8168.00     CONFIRMED  \n",
       "1                7682.04     CONFIRMED  \n",
       "2                 300.00     CONFIRMED  \n",
       "3                6972.41     CONFIRMED  "
      ],
      "text/html": "<div>\n<style scoped>\n    .dataframe tbody tr th:only-of-type {\n        vertical-align: middle;\n    }\n\n    .dataframe tbody tr th {\n        vertical-align: top;\n    }\n\n    .dataframe thead th {\n        text-align: right;\n    }\n</style>\n<table border=\"1\" class=\"dataframe\">\n  <thead>\n    <tr style=\"text-align: right;\">\n      <th></th>\n      <th>member_key</th>\n      <th>plan_key</th>\n      <th>plan_start_date</th>\n      <th>plan_start_date.1</th>\n      <th>status</th>\n      <th>id_budget</th>\n      <th>budget_number</th>\n      <th>opening_balance</th>\n      <th>closing_balance</th>\n      <th>level2_key</th>\n      <th>level2_name</th>\n      <th>level1_key</th>\n      <th>level1_name</th>\n      <th>item_category_level3_key</th>\n      <th>budget_level3_name</th>\n      <th>value_allocated_budget</th>\n      <th>value_remained_budget</th>\n      <th>status_budget</th>\n    </tr>\n  </thead>\n  <tbody>\n    <tr>\n      <th>0</th>\n      <td>ef0ab4c0-891b-11ea-a119-35e8388a5f49</td>\n      <td>29b86641-62d2-4eb2-9222-311b16ef74cc</td>\n      <td>2020-04-24</td>\n      <td>2021-04-23</td>\n      <td>PLAN_DELIVERY_ACTIVE</td>\n      <td>1</td>\n      <td>55508918</td>\n      <td>NaN</td>\n      <td>NaN</td>\n      <td>7d0af57b-f597-11e9-bfb4-022d4762bb3c</td>\n      <td>Improved daily living skills</td>\n      <td>5874551b-f597-11e9-bfb4-022d4762bb3c</td>\n      <td>Capacity Building</td>\n      <td>NaN</td>\n      <td>NaN</td>\n      <td>8168.00</td>\n      <td>8168.00</td>\n      <td>CONFIRMED</td>\n    </tr>\n    <tr>\n      <th>1</th>\n      <td>6a535640-8b5c-11ea-9eec-315ed4b1385b</td>\n      <td>ea2cc969-6c3f-4dbc-9ebe-30df0c9f5b33</td>\n      <td>2020-04-20</td>\n      <td>2021-04-20</td>\n      <td>PLAN_DELIVERY_ACTIVE</td>\n      <td>2</td>\n      <td>55539563</td>\n      <td>NaN</td>\n      <td>NaN</td>\n      <td>7d0af57b-f597-11e9-bfb4-022d4762bb3c</td>\n      <td>Improved daily living skills</td>\n      <td>5874551b-f597-11e9-bfb4-022d4762bb3c</td>\n      <td>Capacity Building</td>\n      <td>NaN</td>\n      <td>NaN</td>\n      <td>7682.04</td>\n      <td>7682.04</td>\n      <td>CONFIRMED</td>\n    </tr>\n    <tr>\n      <th>2</th>\n      <td>6a535640-8b5c-11ea-9eec-315ed4b1385b</td>\n      <td>ea2cc969-6c3f-4dbc-9ebe-30df0c9f5b33</td>\n      <td>2020-04-20</td>\n      <td>2021-04-20</td>\n      <td>PLAN_DELIVERY_ACTIVE</td>\n      <td>3</td>\n      <td>55539563</td>\n      <td>NaN</td>\n      <td>NaN</td>\n      <td>7d0af5b1-f597-11e9-bfb4-022d4762bb3c</td>\n      <td>Consumables</td>\n      <td>58745466-f597-11e9-bfb4-022d4762bb3c</td>\n      <td>Core</td>\n      <td>NaN</td>\n      <td>NaN</td>\n      <td>300.00</td>\n      <td>300.00</td>\n      <td>CONFIRMED</td>\n    </tr>\n    <tr>\n      <th>3</th>\n      <td>472c17f0-9409-11ea-ba24-1f1ea52ce5bc</td>\n      <td>dd735ad0-05eb-42ce-91ba-36e1e032a67a</td>\n      <td>2019-09-11</td>\n      <td>2020-08-17</td>\n      <td>COMPLETED</td>\n      <td>4</td>\n      <td>55612635</td>\n      <td>NaN</td>\n      <td>NaN</td>\n      <td>7d0af57b-f597-11e9-bfb4-022d4762bb3c</td>\n      <td>Improved daily living skills</td>\n      <td>5874551b-f597-11e9-bfb4-022d4762bb3c</td>\n      <td>Capacity Building</td>\n      <td>NaN</td>\n      <td>NaN</td>\n      <td>6972.41</td>\n      <td>6972.41</td>\n      <td>CONFIRMED</td>\n    </tr>\n  </tbody>\n</table>\n</div>"
     },
     "metadata": {},
     "execution_count": 8
    }
   ],
   "source": [
    "plans_budgets_all_fields.head(4)"
   ]
  },
  {
   "cell_type": "code",
   "execution_count": 9,
   "metadata": {},
   "outputs": [
    {
     "output_type": "stream",
     "name": "stderr",
     "text": [
      "C:\\Users\\dttt1\\AppData\\Roaming\\Python\\Python38\\site-packages\\pandas\\core\\frame.py:4125: SettingWithCopyWarning: \nA value is trying to be set on a copy of a slice from a DataFrame\n\nSee the caveats in the documentation: https://pandas.pydata.org/pandas-docs/stable/user_guide/indexing.html#returning-a-view-versus-a-copy\n  return super().rename(\n"
     ]
    }
   ],
   "source": [
    "# Select just the fields to be used\n",
    "df_plans_budgets = plans_budgets_all_fields[{\"member_key\"\n",
    "                                           , \"plan_key\"\n",
    "                                           , \"plan_start_date\" \n",
    "                                           , \"plan_start_date.1\"\n",
    "                                           , \"status\"\n",
    "                                           , \"budget_number\"                                              \n",
    "                                           , \"level2_key\"\n",
    "                                           , \"level2_name\"\n",
    "                                           , \"level1_key\"\n",
    "                                           , \"level1_name\"\n",
    "                                           , \"item_category_level3_key\"\n",
    "                                           , \"budget_level3_name\"\n",
    "                                           , \"opening_balance\"\n",
    "                                           , \"closing_balance\"\n",
    "                                           , \"value_allocated_budget\"\n",
    "                                           , \"status_budget\"\n",
    "                                           }]\n",
    "\n",
    "\n",
    "# Rename some dataSet colums to create a name's pattern\n",
    "df_plans_budgets.rename(columns={'plan_start_date.1':'plan_end_date'\n",
    "                               , 'status':'plan_status'                               \n",
    "                               , 'status_budget':'budget_status'\n",
    "                               , 'value_allocated_budget':'budget_amount'\n",
    "                               , 'level2_key':'budget_level2_key'\n",
    "                               , 'level2_name':'budget_level2_name'\n",
    "                               , 'level2_display_name':'budget_level2_display_name'\n",
    "                               , 'level1_key':'budget_level1_key'\n",
    "                               , 'level1_name':'budget_level1_name'\n",
    "                               , 'item_category_level3_key':'budget_level3_key'\n",
    "                               , 'level3_reference_number':'budget_level3_reference_number'\n",
    "                                } , inplace = True)                            "
   ]
  },
  {
   "cell_type": "code",
   "execution_count": 10,
   "metadata": {},
   "outputs": [
    {
     "output_type": "execute_result",
     "data": {
      "text/plain": [
       "array(['CONFIRMED', 'UNCONFIRMED'], dtype=object)"
      ]
     },
     "metadata": {},
     "execution_count": 10
    }
   ],
   "source": [
    "# Check the Budget's status in the dataSet\n",
    "np.unique(df_plans_budgets['budget_status'])"
   ]
  },
  {
   "cell_type": "code",
   "execution_count": 11,
   "metadata": {},
   "outputs": [
    {
     "output_type": "display_data",
     "data": {
      "text/plain": "<Figure size 432x288 with 1 Axes>",
      "image/svg+xml": "<?xml version=\"1.0\" encoding=\"utf-8\" standalone=\"no\"?>\r\n<!DOCTYPE svg PUBLIC \"-//W3C//DTD SVG 1.1//EN\"\r\n  \"http://www.w3.org/Graphics/SVG/1.1/DTD/svg11.dtd\">\r\n<!-- Created with matplotlib (https://matplotlib.org/) -->\r\n<svg height=\"358.4425pt\" version=\"1.1\" viewBox=\"0 0 392.025469 358.4425\" width=\"392.025469pt\" xmlns=\"http://www.w3.org/2000/svg\" xmlns:xlink=\"http://www.w3.org/1999/xlink\">\r\n <defs>\r\n  <style type=\"text/css\">\r\n*{stroke-linecap:butt;stroke-linejoin:round;}\r\n  </style>\r\n </defs>\r\n <g id=\"figure_1\">\r\n  <g id=\"patch_1\">\r\n   <path d=\"M 0 358.4425 \r\nL 392.025469 358.4425 \r\nL 392.025469 0 \r\nL 0 0 \r\nz\r\n\" style=\"fill:#ffffff;\"/>\r\n  </g>\r\n  <g id=\"axes_1\">\r\n   <g id=\"patch_2\">\r\n    <path d=\"M 50.025469 224.64 \r\nL 384.825469 224.64 \r\nL 384.825469 7.2 \r\nL 50.025469 7.2 \r\nz\r\n\" style=\"fill:#ffffff;\"/>\r\n   </g>\r\n   <g id=\"matplotlib.axis_1\">\r\n    <g id=\"xtick_1\">\r\n     <g id=\"text_1\">\r\n      <!-- budget_number -->\r\n      <defs>\r\n       <path d=\"M 14.703125 0 \r\nL 6.546875 0 \r\nL 6.546875 71.578125 \r\nL 15.328125 71.578125 \r\nL 15.328125 46.046875 \r\nQ 20.90625 53.03125 29.546875 53.03125 \r\nQ 34.328125 53.03125 38.59375 51.09375 \r\nQ 42.875 49.171875 45.625 45.671875 \r\nQ 48.390625 42.1875 49.953125 37.25 \r\nQ 51.515625 32.328125 51.515625 26.703125 \r\nQ 51.515625 13.375 44.921875 6.09375 \r\nQ 38.328125 -1.171875 29.109375 -1.171875 \r\nQ 19.921875 -1.171875 14.703125 6.5 \r\nz\r\nM 14.59375 26.3125 \r\nQ 14.59375 17 17.140625 12.84375 \r\nQ 21.296875 6.0625 28.375 6.0625 \r\nQ 34.125 6.0625 38.328125 11.0625 \r\nQ 42.53125 16.0625 42.53125 25.984375 \r\nQ 42.53125 36.140625 38.5 40.96875 \r\nQ 34.46875 45.796875 28.765625 45.796875 \r\nQ 23 45.796875 18.796875 40.796875 \r\nQ 14.59375 35.796875 14.59375 26.3125 \r\nz\r\n\" id=\"ArialMT-98\"/>\r\n       <path d=\"M 40.578125 0 \r\nL 40.578125 7.625 \r\nQ 34.515625 -1.171875 24.125 -1.171875 \r\nQ 19.53125 -1.171875 15.546875 0.578125 \r\nQ 11.578125 2.34375 9.640625 5 \r\nQ 7.71875 7.671875 6.9375 11.53125 \r\nQ 6.390625 14.109375 6.390625 19.734375 \r\nL 6.390625 51.859375 \r\nL 15.1875 51.859375 \r\nL 15.1875 23.09375 \r\nQ 15.1875 16.21875 15.71875 13.8125 \r\nQ 16.546875 10.359375 19.234375 8.375 \r\nQ 21.921875 6.390625 25.875 6.390625 \r\nQ 29.828125 6.390625 33.296875 8.421875 \r\nQ 36.765625 10.453125 38.203125 13.9375 \r\nQ 39.65625 17.4375 39.65625 24.078125 \r\nL 39.65625 51.859375 \r\nL 48.4375 51.859375 \r\nL 48.4375 0 \r\nz\r\n\" id=\"ArialMT-117\"/>\r\n       <path d=\"M 40.234375 0 \r\nL 40.234375 6.546875 \r\nQ 35.296875 -1.171875 25.734375 -1.171875 \r\nQ 19.53125 -1.171875 14.328125 2.25 \r\nQ 9.125 5.671875 6.265625 11.796875 \r\nQ 3.421875 17.921875 3.421875 25.875 \r\nQ 3.421875 33.640625 6 39.96875 \r\nQ 8.59375 46.296875 13.765625 49.65625 \r\nQ 18.953125 53.03125 25.34375 53.03125 \r\nQ 30.03125 53.03125 33.6875 51.046875 \r\nQ 37.359375 49.078125 39.65625 45.90625 \r\nL 39.65625 71.578125 \r\nL 48.390625 71.578125 \r\nL 48.390625 0 \r\nz\r\nM 12.453125 25.875 \r\nQ 12.453125 15.921875 16.640625 10.984375 \r\nQ 20.84375 6.0625 26.5625 6.0625 \r\nQ 32.328125 6.0625 36.34375 10.765625 \r\nQ 40.375 15.484375 40.375 25.140625 \r\nQ 40.375 35.796875 36.265625 40.765625 \r\nQ 32.171875 45.75 26.171875 45.75 \r\nQ 20.3125 45.75 16.375 40.96875 \r\nQ 12.453125 36.1875 12.453125 25.875 \r\nz\r\n\" id=\"ArialMT-100\"/>\r\n       <path d=\"M 4.984375 -4.296875 \r\nL 13.53125 -5.5625 \r\nQ 14.0625 -9.515625 16.5 -11.328125 \r\nQ 19.78125 -13.765625 25.4375 -13.765625 \r\nQ 31.546875 -13.765625 34.859375 -11.328125 \r\nQ 38.1875 -8.890625 39.359375 -4.5 \r\nQ 40.046875 -1.8125 39.984375 6.78125 \r\nQ 34.234375 0 25.640625 0 \r\nQ 14.9375 0 9.078125 7.71875 \r\nQ 3.21875 15.4375 3.21875 26.21875 \r\nQ 3.21875 33.640625 5.90625 39.90625 \r\nQ 8.59375 46.1875 13.6875 49.609375 \r\nQ 18.796875 53.03125 25.6875 53.03125 \r\nQ 34.859375 53.03125 40.828125 45.609375 \r\nL 40.828125 51.859375 \r\nL 48.921875 51.859375 \r\nL 48.921875 7.03125 \r\nQ 48.921875 -5.078125 46.453125 -10.125 \r\nQ 44 -15.1875 38.640625 -18.109375 \r\nQ 33.296875 -21.046875 25.484375 -21.046875 \r\nQ 16.21875 -21.046875 10.5 -16.875 \r\nQ 4.78125 -12.703125 4.984375 -4.296875 \r\nz\r\nM 12.25 26.859375 \r\nQ 12.25 16.65625 16.296875 11.96875 \r\nQ 20.359375 7.28125 26.46875 7.28125 \r\nQ 32.515625 7.28125 36.609375 11.9375 \r\nQ 40.71875 16.609375 40.71875 26.5625 \r\nQ 40.71875 36.078125 36.5 40.90625 \r\nQ 32.28125 45.75 26.3125 45.75 \r\nQ 20.453125 45.75 16.34375 40.984375 \r\nQ 12.25 36.234375 12.25 26.859375 \r\nz\r\n\" id=\"ArialMT-103\"/>\r\n       <path d=\"M 42.09375 16.703125 \r\nL 51.171875 15.578125 \r\nQ 49.03125 7.625 43.21875 3.21875 \r\nQ 37.40625 -1.171875 28.375 -1.171875 \r\nQ 17 -1.171875 10.328125 5.828125 \r\nQ 3.65625 12.84375 3.65625 25.484375 \r\nQ 3.65625 38.578125 10.390625 45.796875 \r\nQ 17.140625 53.03125 27.875 53.03125 \r\nQ 38.28125 53.03125 44.875 45.953125 \r\nQ 51.46875 38.875 51.46875 26.03125 \r\nQ 51.46875 25.25 51.421875 23.6875 \r\nL 12.75 23.6875 \r\nQ 13.234375 15.140625 17.578125 10.59375 \r\nQ 21.921875 6.0625 28.421875 6.0625 \r\nQ 33.25 6.0625 36.671875 8.59375 \r\nQ 40.09375 11.140625 42.09375 16.703125 \r\nz\r\nM 13.234375 30.90625 \r\nL 42.1875 30.90625 \r\nQ 41.609375 37.453125 38.875 40.71875 \r\nQ 34.671875 45.796875 27.984375 45.796875 \r\nQ 21.921875 45.796875 17.796875 41.75 \r\nQ 13.671875 37.703125 13.234375 30.90625 \r\nz\r\n\" id=\"ArialMT-101\"/>\r\n       <path d=\"M 25.78125 7.859375 \r\nL 27.046875 0.09375 \r\nQ 23.34375 -0.6875 20.40625 -0.6875 \r\nQ 15.625 -0.6875 12.984375 0.828125 \r\nQ 10.359375 2.34375 9.28125 4.8125 \r\nQ 8.203125 7.28125 8.203125 15.1875 \r\nL 8.203125 45.015625 \r\nL 1.765625 45.015625 \r\nL 1.765625 51.859375 \r\nL 8.203125 51.859375 \r\nL 8.203125 64.703125 \r\nL 16.9375 69.96875 \r\nL 16.9375 51.859375 \r\nL 25.78125 51.859375 \r\nL 25.78125 45.015625 \r\nL 16.9375 45.015625 \r\nL 16.9375 14.703125 \r\nQ 16.9375 10.9375 17.40625 9.859375 \r\nQ 17.875 8.796875 18.921875 8.15625 \r\nQ 19.96875 7.515625 21.921875 7.515625 \r\nQ 23.390625 7.515625 25.78125 7.859375 \r\nz\r\n\" id=\"ArialMT-116\"/>\r\n       <path d=\"M -1.515625 -19.875 \r\nL -1.515625 -13.53125 \r\nL 56.734375 -13.53125 \r\nL 56.734375 -19.875 \r\nz\r\n\" id=\"ArialMT-95\"/>\r\n       <path d=\"M 6.59375 0 \r\nL 6.59375 51.859375 \r\nL 14.5 51.859375 \r\nL 14.5 44.484375 \r\nQ 20.21875 53.03125 31 53.03125 \r\nQ 35.6875 53.03125 39.625 51.34375 \r\nQ 43.5625 49.65625 45.515625 46.921875 \r\nQ 47.46875 44.1875 48.25 40.4375 \r\nQ 48.734375 37.984375 48.734375 31.890625 \r\nL 48.734375 0 \r\nL 39.9375 0 \r\nL 39.9375 31.546875 \r\nQ 39.9375 36.921875 38.90625 39.578125 \r\nQ 37.890625 42.234375 35.28125 43.8125 \r\nQ 32.671875 45.40625 29.15625 45.40625 \r\nQ 23.53125 45.40625 19.453125 41.84375 \r\nQ 15.375 38.28125 15.375 28.328125 \r\nL 15.375 0 \r\nz\r\n\" id=\"ArialMT-110\"/>\r\n       <path d=\"M 6.59375 0 \r\nL 6.59375 51.859375 \r\nL 14.453125 51.859375 \r\nL 14.453125 44.578125 \r\nQ 16.890625 48.390625 20.9375 50.703125 \r\nQ 25 53.03125 30.171875 53.03125 \r\nQ 35.9375 53.03125 39.625 50.640625 \r\nQ 43.3125 48.25 44.828125 43.953125 \r\nQ 50.984375 53.03125 60.84375 53.03125 \r\nQ 68.5625 53.03125 72.703125 48.75 \r\nQ 76.859375 44.484375 76.859375 35.59375 \r\nL 76.859375 0 \r\nL 68.109375 0 \r\nL 68.109375 32.671875 \r\nQ 68.109375 37.9375 67.25 40.25 \r\nQ 66.40625 42.578125 64.15625 43.984375 \r\nQ 61.921875 45.40625 58.890625 45.40625 \r\nQ 53.421875 45.40625 49.796875 41.765625 \r\nQ 46.1875 38.140625 46.1875 30.125 \r\nL 46.1875 0 \r\nL 37.40625 0 \r\nL 37.40625 33.6875 \r\nQ 37.40625 39.546875 35.25 42.46875 \r\nQ 33.109375 45.40625 28.21875 45.40625 \r\nQ 24.515625 45.40625 21.359375 43.453125 \r\nQ 18.21875 41.5 16.796875 37.734375 \r\nQ 15.375 33.984375 15.375 26.90625 \r\nL 15.375 0 \r\nz\r\n\" id=\"ArialMT-109\"/>\r\n       <path d=\"M 6.5 0 \r\nL 6.5 51.859375 \r\nL 14.40625 51.859375 \r\nL 14.40625 44 \r\nQ 17.4375 49.515625 20 51.265625 \r\nQ 22.5625 53.03125 25.640625 53.03125 \r\nQ 30.078125 53.03125 34.671875 50.203125 \r\nL 31.640625 42.046875 \r\nQ 28.421875 43.953125 25.203125 43.953125 \r\nQ 22.3125 43.953125 20.015625 42.21875 \r\nQ 17.71875 40.484375 16.75 37.40625 \r\nQ 15.28125 32.71875 15.28125 27.15625 \r\nL 15.28125 0 \r\nz\r\n\" id=\"ArialMT-114\"/>\r\n      </defs>\r\n      <g style=\"fill:#262626;\" transform=\"translate(86.284688 311.191562)rotate(-90)scale(0.11 -0.11)\">\r\n       <use xlink:href=\"#ArialMT-98\"/>\r\n       <use x=\"55.615234\" xlink:href=\"#ArialMT-117\"/>\r\n       <use x=\"111.230469\" xlink:href=\"#ArialMT-100\"/>\r\n       <use x=\"166.845703\" xlink:href=\"#ArialMT-103\"/>\r\n       <use x=\"222.460938\" xlink:href=\"#ArialMT-101\"/>\r\n       <use x=\"278.076172\" xlink:href=\"#ArialMT-116\"/>\r\n       <use x=\"305.859375\" xlink:href=\"#ArialMT-95\"/>\r\n       <use x=\"361.474609\" xlink:href=\"#ArialMT-110\"/>\r\n       <use x=\"417.089844\" xlink:href=\"#ArialMT-117\"/>\r\n       <use x=\"472.705078\" xlink:href=\"#ArialMT-109\"/>\r\n       <use x=\"556.005859\" xlink:href=\"#ArialMT-98\"/>\r\n       <use x=\"611.621094\" xlink:href=\"#ArialMT-101\"/>\r\n       <use x=\"667.236328\" xlink:href=\"#ArialMT-114\"/>\r\n      </g>\r\n     </g>\r\n    </g>\r\n    <g id=\"xtick_2\">\r\n     <g id=\"text_2\">\r\n      <!-- closing_balance -->\r\n      <defs>\r\n       <path d=\"M 40.4375 19 \r\nL 49.078125 17.875 \r\nQ 47.65625 8.9375 41.8125 3.875 \r\nQ 35.984375 -1.171875 27.484375 -1.171875 \r\nQ 16.84375 -1.171875 10.375 5.78125 \r\nQ 3.90625 12.75 3.90625 25.734375 \r\nQ 3.90625 34.125 6.6875 40.421875 \r\nQ 9.46875 46.734375 15.15625 49.875 \r\nQ 20.84375 53.03125 27.546875 53.03125 \r\nQ 35.984375 53.03125 41.359375 48.75 \r\nQ 46.734375 44.484375 48.25 36.625 \r\nL 39.703125 35.296875 \r\nQ 38.484375 40.53125 35.375 43.15625 \r\nQ 32.28125 45.796875 27.875 45.796875 \r\nQ 21.234375 45.796875 17.078125 41.03125 \r\nQ 12.9375 36.28125 12.9375 25.984375 \r\nQ 12.9375 15.53125 16.9375 10.796875 \r\nQ 20.953125 6.0625 27.390625 6.0625 \r\nQ 32.5625 6.0625 36.03125 9.234375 \r\nQ 39.5 12.40625 40.4375 19 \r\nz\r\n\" id=\"ArialMT-99\"/>\r\n       <path d=\"M 6.390625 0 \r\nL 6.390625 71.578125 \r\nL 15.1875 71.578125 \r\nL 15.1875 0 \r\nz\r\n\" id=\"ArialMT-108\"/>\r\n       <path d=\"M 3.328125 25.921875 \r\nQ 3.328125 40.328125 11.328125 47.265625 \r\nQ 18.015625 53.03125 27.640625 53.03125 \r\nQ 38.328125 53.03125 45.109375 46.015625 \r\nQ 51.90625 39.015625 51.90625 26.65625 \r\nQ 51.90625 16.65625 48.90625 10.90625 \r\nQ 45.90625 5.171875 40.15625 2 \r\nQ 34.421875 -1.171875 27.640625 -1.171875 \r\nQ 16.75 -1.171875 10.03125 5.8125 \r\nQ 3.328125 12.796875 3.328125 25.921875 \r\nz\r\nM 12.359375 25.921875 \r\nQ 12.359375 15.96875 16.703125 11.015625 \r\nQ 21.046875 6.0625 27.640625 6.0625 \r\nQ 34.1875 6.0625 38.53125 11.03125 \r\nQ 42.875 16.015625 42.875 26.21875 \r\nQ 42.875 35.84375 38.5 40.796875 \r\nQ 34.125 45.75 27.640625 45.75 \r\nQ 21.046875 45.75 16.703125 40.8125 \r\nQ 12.359375 35.890625 12.359375 25.921875 \r\nz\r\n\" id=\"ArialMT-111\"/>\r\n       <path d=\"M 3.078125 15.484375 \r\nL 11.765625 16.84375 \r\nQ 12.5 11.625 15.84375 8.84375 \r\nQ 19.1875 6.0625 25.203125 6.0625 \r\nQ 31.25 6.0625 34.171875 8.515625 \r\nQ 37.109375 10.984375 37.109375 14.3125 \r\nQ 37.109375 17.28125 34.515625 19 \r\nQ 32.71875 20.171875 25.53125 21.96875 \r\nQ 15.875 24.421875 12.140625 26.203125 \r\nQ 8.40625 27.984375 6.46875 31.125 \r\nQ 4.546875 34.28125 4.546875 38.09375 \r\nQ 4.546875 41.546875 6.125 44.5 \r\nQ 7.71875 47.46875 10.453125 49.421875 \r\nQ 12.5 50.921875 16.03125 51.96875 \r\nQ 19.578125 53.03125 23.640625 53.03125 \r\nQ 29.734375 53.03125 34.34375 51.265625 \r\nQ 38.96875 49.515625 41.15625 46.5 \r\nQ 43.359375 43.5 44.1875 38.484375 \r\nL 35.59375 37.3125 \r\nQ 35.015625 41.3125 32.203125 43.546875 \r\nQ 29.390625 45.796875 24.265625 45.796875 \r\nQ 18.21875 45.796875 15.625 43.796875 \r\nQ 13.03125 41.796875 13.03125 39.109375 \r\nQ 13.03125 37.40625 14.109375 36.03125 \r\nQ 15.1875 34.625 17.484375 33.6875 \r\nQ 18.796875 33.203125 25.25 31.453125 \r\nQ 34.578125 28.953125 38.25 27.359375 \r\nQ 41.9375 25.78125 44.03125 22.75 \r\nQ 46.140625 19.734375 46.140625 15.234375 \r\nQ 46.140625 10.84375 43.578125 6.953125 \r\nQ 41.015625 3.078125 36.171875 0.953125 \r\nQ 31.34375 -1.171875 25.25 -1.171875 \r\nQ 15.140625 -1.171875 9.84375 3.03125 \r\nQ 4.546875 7.234375 3.078125 15.484375 \r\nz\r\n\" id=\"ArialMT-115\"/>\r\n       <path d=\"M 6.640625 61.46875 \r\nL 6.640625 71.578125 \r\nL 15.4375 71.578125 \r\nL 15.4375 61.46875 \r\nz\r\nM 6.640625 0 \r\nL 6.640625 51.859375 \r\nL 15.4375 51.859375 \r\nL 15.4375 0 \r\nz\r\n\" id=\"ArialMT-105\"/>\r\n       <path d=\"M 40.4375 6.390625 \r\nQ 35.546875 2.25 31.03125 0.53125 \r\nQ 26.515625 -1.171875 21.34375 -1.171875 \r\nQ 12.796875 -1.171875 8.203125 3 \r\nQ 3.609375 7.171875 3.609375 13.671875 \r\nQ 3.609375 17.484375 5.34375 20.625 \r\nQ 7.078125 23.78125 9.890625 25.6875 \r\nQ 12.703125 27.59375 16.21875 28.5625 \r\nQ 18.796875 29.25 24.03125 29.890625 \r\nQ 34.671875 31.15625 39.703125 32.90625 \r\nQ 39.75 34.71875 39.75 35.203125 \r\nQ 39.75 40.578125 37.25 42.78125 \r\nQ 33.890625 45.75 27.25 45.75 \r\nQ 21.046875 45.75 18.09375 43.578125 \r\nQ 15.140625 41.40625 13.71875 35.890625 \r\nL 5.125 37.0625 \r\nQ 6.296875 42.578125 8.984375 45.96875 \r\nQ 11.671875 49.359375 16.75 51.1875 \r\nQ 21.828125 53.03125 28.515625 53.03125 \r\nQ 35.15625 53.03125 39.296875 51.46875 \r\nQ 43.453125 49.90625 45.40625 47.53125 \r\nQ 47.359375 45.171875 48.140625 41.546875 \r\nQ 48.578125 39.3125 48.578125 33.453125 \r\nL 48.578125 21.734375 \r\nQ 48.578125 9.46875 49.140625 6.21875 \r\nQ 49.703125 2.984375 51.375 0 \r\nL 42.1875 0 \r\nQ 40.828125 2.734375 40.4375 6.390625 \r\nz\r\nM 39.703125 26.03125 \r\nQ 34.90625 24.078125 25.34375 22.703125 \r\nQ 19.921875 21.921875 17.671875 20.9375 \r\nQ 15.4375 19.96875 14.203125 18.09375 \r\nQ 12.984375 16.21875 12.984375 13.921875 \r\nQ 12.984375 10.40625 15.640625 8.0625 \r\nQ 18.3125 5.71875 23.4375 5.71875 \r\nQ 28.515625 5.71875 32.46875 7.9375 \r\nQ 36.421875 10.15625 38.28125 14.015625 \r\nQ 39.703125 17 39.703125 22.796875 \r\nz\r\n\" id=\"ArialMT-97\"/>\r\n      </defs>\r\n      <g style=\"fill:#262626;\" transform=\"translate(153.244687 313.025469)rotate(-90)scale(0.11 -0.11)\">\r\n       <use xlink:href=\"#ArialMT-99\"/>\r\n       <use x=\"50\" xlink:href=\"#ArialMT-108\"/>\r\n       <use x=\"72.216797\" xlink:href=\"#ArialMT-111\"/>\r\n       <use x=\"127.832031\" xlink:href=\"#ArialMT-115\"/>\r\n       <use x=\"177.832031\" xlink:href=\"#ArialMT-105\"/>\r\n       <use x=\"200.048828\" xlink:href=\"#ArialMT-110\"/>\r\n       <use x=\"255.664062\" xlink:href=\"#ArialMT-103\"/>\r\n       <use x=\"311.279297\" xlink:href=\"#ArialMT-95\"/>\r\n       <use x=\"366.894531\" xlink:href=\"#ArialMT-98\"/>\r\n       <use x=\"422.509766\" xlink:href=\"#ArialMT-97\"/>\r\n       <use x=\"478.125\" xlink:href=\"#ArialMT-108\"/>\r\n       <use x=\"500.341797\" xlink:href=\"#ArialMT-97\"/>\r\n       <use x=\"555.957031\" xlink:href=\"#ArialMT-110\"/>\r\n       <use x=\"611.572266\" xlink:href=\"#ArialMT-99\"/>\r\n       <use x=\"661.572266\" xlink:href=\"#ArialMT-101\"/>\r\n      </g>\r\n     </g>\r\n    </g>\r\n    <g id=\"xtick_3\">\r\n     <g id=\"text_3\">\r\n      <!-- opening_balance -->\r\n      <defs>\r\n       <path d=\"M 6.59375 -19.875 \r\nL 6.59375 51.859375 \r\nL 14.59375 51.859375 \r\nL 14.59375 45.125 \r\nQ 17.4375 49.078125 21 51.046875 \r\nQ 24.5625 53.03125 29.640625 53.03125 \r\nQ 36.28125 53.03125 41.359375 49.609375 \r\nQ 46.4375 46.1875 49.015625 39.953125 \r\nQ 51.609375 33.734375 51.609375 26.3125 \r\nQ 51.609375 18.359375 48.75 11.984375 \r\nQ 45.90625 5.609375 40.453125 2.21875 \r\nQ 35.015625 -1.171875 29 -1.171875 \r\nQ 24.609375 -1.171875 21.109375 0.6875 \r\nQ 17.625 2.546875 15.375 5.375 \r\nL 15.375 -19.875 \r\nz\r\nM 14.546875 25.640625 \r\nQ 14.546875 15.625 18.59375 10.84375 \r\nQ 22.65625 6.0625 28.421875 6.0625 \r\nQ 34.28125 6.0625 38.453125 11.015625 \r\nQ 42.625 15.96875 42.625 26.375 \r\nQ 42.625 36.28125 38.546875 41.203125 \r\nQ 34.46875 46.140625 28.8125 46.140625 \r\nQ 23.1875 46.140625 18.859375 40.890625 \r\nQ 14.546875 35.640625 14.546875 25.640625 \r\nz\r\n\" id=\"ArialMT-112\"/>\r\n      </defs>\r\n      <g style=\"fill:#262626;\" transform=\"translate(220.204688 317.9325)rotate(-90)scale(0.11 -0.11)\">\r\n       <use xlink:href=\"#ArialMT-111\"/>\r\n       <use x=\"55.615234\" xlink:href=\"#ArialMT-112\"/>\r\n       <use x=\"111.230469\" xlink:href=\"#ArialMT-101\"/>\r\n       <use x=\"166.845703\" xlink:href=\"#ArialMT-110\"/>\r\n       <use x=\"222.460938\" xlink:href=\"#ArialMT-105\"/>\r\n       <use x=\"244.677734\" xlink:href=\"#ArialMT-110\"/>\r\n       <use x=\"300.292969\" xlink:href=\"#ArialMT-103\"/>\r\n       <use x=\"355.908203\" xlink:href=\"#ArialMT-95\"/>\r\n       <use x=\"411.523438\" xlink:href=\"#ArialMT-98\"/>\r\n       <use x=\"467.138672\" xlink:href=\"#ArialMT-97\"/>\r\n       <use x=\"522.753906\" xlink:href=\"#ArialMT-108\"/>\r\n       <use x=\"544.970703\" xlink:href=\"#ArialMT-97\"/>\r\n       <use x=\"600.585938\" xlink:href=\"#ArialMT-110\"/>\r\n       <use x=\"656.201172\" xlink:href=\"#ArialMT-99\"/>\r\n       <use x=\"706.201172\" xlink:href=\"#ArialMT-101\"/>\r\n      </g>\r\n     </g>\r\n    </g>\r\n    <g id=\"xtick_4\">\r\n     <g id=\"text_4\">\r\n      <!-- budget_level3_key -->\r\n      <defs>\r\n       <path d=\"M 21 0 \r\nL 1.265625 51.859375 \r\nL 10.546875 51.859375 \r\nL 21.6875 20.796875 \r\nQ 23.484375 15.765625 25 10.359375 \r\nQ 26.171875 14.453125 28.265625 20.21875 \r\nL 39.796875 51.859375 \r\nL 48.828125 51.859375 \r\nL 29.203125 0 \r\nz\r\n\" id=\"ArialMT-118\"/>\r\n       <path d=\"M 4.203125 18.890625 \r\nL 12.984375 20.0625 \r\nQ 14.5 12.59375 18.140625 9.296875 \r\nQ 21.78125 6 27 6 \r\nQ 33.203125 6 37.46875 10.296875 \r\nQ 41.75 14.59375 41.75 20.953125 \r\nQ 41.75 27 37.796875 30.921875 \r\nQ 33.84375 34.859375 27.734375 34.859375 \r\nQ 25.25 34.859375 21.53125 33.890625 \r\nL 22.515625 41.609375 \r\nQ 23.390625 41.5 23.921875 41.5 \r\nQ 29.546875 41.5 34.03125 44.421875 \r\nQ 38.53125 47.359375 38.53125 53.46875 \r\nQ 38.53125 58.296875 35.25 61.46875 \r\nQ 31.984375 64.65625 26.8125 64.65625 \r\nQ 21.6875 64.65625 18.265625 61.421875 \r\nQ 14.84375 58.203125 13.875 51.765625 \r\nL 5.078125 53.328125 \r\nQ 6.6875 62.15625 12.390625 67.015625 \r\nQ 18.109375 71.875 26.609375 71.875 \r\nQ 32.46875 71.875 37.390625 69.359375 \r\nQ 42.328125 66.84375 44.9375 62.5 \r\nQ 47.5625 58.15625 47.5625 53.265625 \r\nQ 47.5625 48.640625 45.0625 44.828125 \r\nQ 42.578125 41.015625 37.703125 38.765625 \r\nQ 44.046875 37.3125 47.5625 32.6875 \r\nQ 51.078125 28.078125 51.078125 21.140625 \r\nQ 51.078125 11.765625 44.234375 5.25 \r\nQ 37.40625 -1.265625 26.953125 -1.265625 \r\nQ 17.53125 -1.265625 11.296875 4.34375 \r\nQ 5.078125 9.96875 4.203125 18.890625 \r\nz\r\n\" id=\"ArialMT-51\"/>\r\n       <path d=\"M 6.640625 0 \r\nL 6.640625 71.578125 \r\nL 15.4375 71.578125 \r\nL 15.4375 30.765625 \r\nL 36.234375 51.859375 \r\nL 47.609375 51.859375 \r\nL 27.78125 32.625 \r\nL 49.609375 0 \r\nL 38.765625 0 \r\nL 21.625 26.515625 \r\nL 15.4375 20.5625 \r\nL 15.4375 0 \r\nz\r\n\" id=\"ArialMT-107\"/>\r\n       <path d=\"M 6.203125 -19.96875 \r\nL 5.21875 -11.71875 \r\nQ 8.109375 -12.5 10.25 -12.5 \r\nQ 13.1875 -12.5 14.9375 -11.515625 \r\nQ 16.703125 -10.546875 17.828125 -8.796875 \r\nQ 18.65625 -7.46875 20.515625 -2.25 \r\nQ 20.75 -1.515625 21.296875 -0.09375 \r\nL 1.609375 51.859375 \r\nL 11.078125 51.859375 \r\nL 21.875 21.828125 \r\nQ 23.96875 16.109375 25.640625 9.8125 \r\nQ 27.15625 15.875 29.25 21.625 \r\nL 40.328125 51.859375 \r\nL 49.125 51.859375 \r\nL 29.390625 -0.875 \r\nQ 26.21875 -9.421875 24.46875 -12.640625 \r\nQ 22.125 -17 19.09375 -19.015625 \r\nQ 16.0625 -21.046875 11.859375 -21.046875 \r\nQ 9.328125 -21.046875 6.203125 -19.96875 \r\nz\r\n\" id=\"ArialMT-121\"/>\r\n      </defs>\r\n      <g style=\"fill:#262626;\" transform=\"translate(287.181016 325.871406)rotate(-90)scale(0.11 -0.11)\">\r\n       <use xlink:href=\"#ArialMT-98\"/>\r\n       <use x=\"55.615234\" xlink:href=\"#ArialMT-117\"/>\r\n       <use x=\"111.230469\" xlink:href=\"#ArialMT-100\"/>\r\n       <use x=\"166.845703\" xlink:href=\"#ArialMT-103\"/>\r\n       <use x=\"222.460938\" xlink:href=\"#ArialMT-101\"/>\r\n       <use x=\"278.076172\" xlink:href=\"#ArialMT-116\"/>\r\n       <use x=\"305.859375\" xlink:href=\"#ArialMT-95\"/>\r\n       <use x=\"361.474609\" xlink:href=\"#ArialMT-108\"/>\r\n       <use x=\"383.691406\" xlink:href=\"#ArialMT-101\"/>\r\n       <use x=\"439.306641\" xlink:href=\"#ArialMT-118\"/>\r\n       <use x=\"489.306641\" xlink:href=\"#ArialMT-101\"/>\r\n       <use x=\"544.921875\" xlink:href=\"#ArialMT-108\"/>\r\n       <use x=\"567.138672\" xlink:href=\"#ArialMT-51\"/>\r\n       <use x=\"622.753906\" xlink:href=\"#ArialMT-95\"/>\r\n       <use x=\"678.369141\" xlink:href=\"#ArialMT-107\"/>\r\n       <use x=\"728.369141\" xlink:href=\"#ArialMT-101\"/>\r\n       <use x=\"783.984375\" xlink:href=\"#ArialMT-121\"/>\r\n      </g>\r\n     </g>\r\n    </g>\r\n    <g id=\"xtick_5\">\r\n     <g id=\"text_5\">\r\n      <!-- budget_level3_name -->\r\n      <g style=\"fill:#262626;\" transform=\"translate(354.141016 336.268125)rotate(-90)scale(0.11 -0.11)\">\r\n       <use xlink:href=\"#ArialMT-98\"/>\r\n       <use x=\"55.615234\" xlink:href=\"#ArialMT-117\"/>\r\n       <use x=\"111.230469\" xlink:href=\"#ArialMT-100\"/>\r\n       <use x=\"166.845703\" xlink:href=\"#ArialMT-103\"/>\r\n       <use x=\"222.460938\" xlink:href=\"#ArialMT-101\"/>\r\n       <use x=\"278.076172\" xlink:href=\"#ArialMT-116\"/>\r\n       <use x=\"305.859375\" xlink:href=\"#ArialMT-95\"/>\r\n       <use x=\"361.474609\" xlink:href=\"#ArialMT-108\"/>\r\n       <use x=\"383.691406\" xlink:href=\"#ArialMT-101\"/>\r\n       <use x=\"439.306641\" xlink:href=\"#ArialMT-118\"/>\r\n       <use x=\"489.306641\" xlink:href=\"#ArialMT-101\"/>\r\n       <use x=\"544.921875\" xlink:href=\"#ArialMT-108\"/>\r\n       <use x=\"567.138672\" xlink:href=\"#ArialMT-51\"/>\r\n       <use x=\"622.753906\" xlink:href=\"#ArialMT-95\"/>\r\n       <use x=\"678.369141\" xlink:href=\"#ArialMT-110\"/>\r\n       <use x=\"733.984375\" xlink:href=\"#ArialMT-97\"/>\r\n       <use x=\"789.599609\" xlink:href=\"#ArialMT-109\"/>\r\n       <use x=\"872.900391\" xlink:href=\"#ArialMT-101\"/>\r\n      </g>\r\n     </g>\r\n    </g>\r\n    <g id=\"text_6\">\r\n     <!-- Column -->\r\n     <defs>\r\n      <path d=\"M 58.796875 25.09375 \r\nL 68.265625 22.703125 \r\nQ 65.28125 11.03125 57.546875 4.90625 \r\nQ 49.8125 -1.21875 38.625 -1.21875 \r\nQ 27.046875 -1.21875 19.796875 3.484375 \r\nQ 12.546875 8.203125 8.765625 17.140625 \r\nQ 4.984375 26.078125 4.984375 36.328125 \r\nQ 4.984375 47.515625 9.25 55.828125 \r\nQ 13.53125 64.15625 21.40625 68.46875 \r\nQ 29.296875 72.796875 38.765625 72.796875 \r\nQ 49.515625 72.796875 56.828125 67.328125 \r\nQ 64.15625 61.859375 67.046875 51.953125 \r\nL 57.71875 49.75 \r\nQ 55.21875 57.5625 50.484375 61.125 \r\nQ 45.75 64.703125 38.578125 64.703125 \r\nQ 30.328125 64.703125 24.78125 60.734375 \r\nQ 19.234375 56.78125 16.984375 50.109375 \r\nQ 14.75 43.453125 14.75 36.375 \r\nQ 14.75 27.25 17.40625 20.4375 \r\nQ 20.0625 13.625 25.671875 10.25 \r\nQ 31.296875 6.890625 37.84375 6.890625 \r\nQ 45.796875 6.890625 51.3125 11.46875 \r\nQ 56.84375 16.0625 58.796875 25.09375 \r\nz\r\n\" id=\"ArialMT-67\"/>\r\n     </defs>\r\n     <g style=\"fill:#262626;\" transform=\"translate(196.751719 348.8575)scale(0.12 -0.12)\">\r\n      <use xlink:href=\"#ArialMT-67\"/>\r\n      <use x=\"72.216797\" xlink:href=\"#ArialMT-111\"/>\r\n      <use x=\"127.832031\" xlink:href=\"#ArialMT-108\"/>\r\n      <use x=\"150.048828\" xlink:href=\"#ArialMT-117\"/>\r\n      <use x=\"205.664062\" xlink:href=\"#ArialMT-109\"/>\r\n      <use x=\"288.964844\" xlink:href=\"#ArialMT-110\"/>\r\n     </g>\r\n    </g>\r\n   </g>\r\n   <g id=\"matplotlib.axis_2\">\r\n    <g id=\"ytick_1\">\r\n     <g id=\"line2d_1\">\r\n      <path clip-path=\"url(#p82de3dfa40)\" d=\"M 50.025469 224.64 \r\nL 384.825469 224.64 \r\n\" style=\"fill:none;stroke:#cccccc;stroke-linecap:round;\"/>\r\n     </g>\r\n     <g id=\"text_7\">\r\n      <!-- 0 -->\r\n      <defs>\r\n       <path d=\"M 4.15625 35.296875 \r\nQ 4.15625 48 6.765625 55.734375 \r\nQ 9.375 63.484375 14.515625 67.671875 \r\nQ 19.671875 71.875 27.484375 71.875 \r\nQ 33.25 71.875 37.59375 69.546875 \r\nQ 41.9375 67.234375 44.765625 62.859375 \r\nQ 47.609375 58.5 49.21875 52.21875 \r\nQ 50.828125 45.953125 50.828125 35.296875 \r\nQ 50.828125 22.703125 48.234375 14.96875 \r\nQ 45.65625 7.234375 40.5 3 \r\nQ 35.359375 -1.21875 27.484375 -1.21875 \r\nQ 17.140625 -1.21875 11.234375 6.203125 \r\nQ 4.15625 15.140625 4.15625 35.296875 \r\nz\r\nM 13.1875 35.296875 \r\nQ 13.1875 17.671875 17.3125 11.828125 \r\nQ 21.4375 6 27.484375 6 \r\nQ 33.546875 6 37.671875 11.859375 \r\nQ 41.796875 17.71875 41.796875 35.296875 \r\nQ 41.796875 52.984375 37.671875 58.78125 \r\nQ 33.546875 64.59375 27.390625 64.59375 \r\nQ 21.34375 64.59375 17.71875 59.46875 \r\nQ 13.1875 52.9375 13.1875 35.296875 \r\nz\r\n\" id=\"ArialMT-48\"/>\r\n      </defs>\r\n      <g style=\"fill:#262626;\" transform=\"translate(34.408438 228.576797)scale(0.11 -0.11)\">\r\n       <use xlink:href=\"#ArialMT-48\"/>\r\n      </g>\r\n     </g>\r\n    </g>\r\n    <g id=\"ytick_2\">\r\n     <g id=\"line2d_2\">\r\n      <path clip-path=\"url(#p82de3dfa40)\" d=\"M 50.025469 182.48683 \r\nL 384.825469 182.48683 \r\n\" style=\"fill:none;stroke:#cccccc;stroke-linecap:round;\"/>\r\n     </g>\r\n     <g id=\"text_8\">\r\n      <!-- 20 -->\r\n      <defs>\r\n       <path d=\"M 50.34375 8.453125 \r\nL 50.34375 0 \r\nL 3.03125 0 \r\nQ 2.9375 3.171875 4.046875 6.109375 \r\nQ 5.859375 10.9375 9.828125 15.625 \r\nQ 13.8125 20.3125 21.34375 26.46875 \r\nQ 33.015625 36.03125 37.109375 41.625 \r\nQ 41.21875 47.21875 41.21875 52.203125 \r\nQ 41.21875 57.421875 37.46875 61 \r\nQ 33.734375 64.59375 27.734375 64.59375 \r\nQ 21.390625 64.59375 17.578125 60.78125 \r\nQ 13.765625 56.984375 13.71875 50.25 \r\nL 4.6875 51.171875 \r\nQ 5.609375 61.28125 11.65625 66.578125 \r\nQ 17.71875 71.875 27.9375 71.875 \r\nQ 38.234375 71.875 44.234375 66.15625 \r\nQ 50.25 60.453125 50.25 52 \r\nQ 50.25 47.703125 48.484375 43.546875 \r\nQ 46.734375 39.40625 42.65625 34.8125 \r\nQ 38.578125 30.21875 29.109375 22.21875 \r\nQ 21.1875 15.578125 18.9375 13.203125 \r\nQ 16.703125 10.84375 15.234375 8.453125 \r\nz\r\n\" id=\"ArialMT-50\"/>\r\n      </defs>\r\n      <g style=\"fill:#262626;\" transform=\"translate(28.291406 186.423627)scale(0.11 -0.11)\">\r\n       <use xlink:href=\"#ArialMT-50\"/>\r\n       <use x=\"55.615234\" xlink:href=\"#ArialMT-48\"/>\r\n      </g>\r\n     </g>\r\n    </g>\r\n    <g id=\"ytick_3\">\r\n     <g id=\"line2d_3\">\r\n      <path clip-path=\"url(#p82de3dfa40)\" d=\"M 50.025469 140.33366 \r\nL 384.825469 140.33366 \r\n\" style=\"fill:none;stroke:#cccccc;stroke-linecap:round;\"/>\r\n     </g>\r\n     <g id=\"text_9\">\r\n      <!-- 40 -->\r\n      <defs>\r\n       <path d=\"M 32.328125 0 \r\nL 32.328125 17.140625 \r\nL 1.265625 17.140625 \r\nL 1.265625 25.203125 \r\nL 33.9375 71.578125 \r\nL 41.109375 71.578125 \r\nL 41.109375 25.203125 \r\nL 50.78125 25.203125 \r\nL 50.78125 17.140625 \r\nL 41.109375 17.140625 \r\nL 41.109375 0 \r\nz\r\nM 32.328125 25.203125 \r\nL 32.328125 57.46875 \r\nL 9.90625 25.203125 \r\nz\r\n\" id=\"ArialMT-52\"/>\r\n      </defs>\r\n      <g style=\"fill:#262626;\" transform=\"translate(28.291406 144.270457)scale(0.11 -0.11)\">\r\n       <use xlink:href=\"#ArialMT-52\"/>\r\n       <use x=\"55.615234\" xlink:href=\"#ArialMT-48\"/>\r\n      </g>\r\n     </g>\r\n    </g>\r\n    <g id=\"ytick_4\">\r\n     <g id=\"line2d_4\">\r\n      <path clip-path=\"url(#p82de3dfa40)\" d=\"M 50.025469 98.18049 \r\nL 384.825469 98.18049 \r\n\" style=\"fill:none;stroke:#cccccc;stroke-linecap:round;\"/>\r\n     </g>\r\n     <g id=\"text_10\">\r\n      <!-- 60 -->\r\n      <defs>\r\n       <path d=\"M 49.75 54.046875 \r\nL 41.015625 53.375 \r\nQ 39.84375 58.546875 37.703125 60.890625 \r\nQ 34.125 64.65625 28.90625 64.65625 \r\nQ 24.703125 64.65625 21.53125 62.3125 \r\nQ 17.390625 59.28125 14.984375 53.46875 \r\nQ 12.59375 47.65625 12.5 36.921875 \r\nQ 15.671875 41.75 20.265625 44.09375 \r\nQ 24.859375 46.4375 29.890625 46.4375 \r\nQ 38.671875 46.4375 44.84375 39.96875 \r\nQ 51.03125 33.5 51.03125 23.25 \r\nQ 51.03125 16.5 48.125 10.71875 \r\nQ 45.21875 4.9375 40.140625 1.859375 \r\nQ 35.0625 -1.21875 28.609375 -1.21875 \r\nQ 17.625 -1.21875 10.6875 6.859375 \r\nQ 3.765625 14.9375 3.765625 33.5 \r\nQ 3.765625 54.25 11.421875 63.671875 \r\nQ 18.109375 71.875 29.4375 71.875 \r\nQ 37.890625 71.875 43.28125 67.140625 \r\nQ 48.6875 62.40625 49.75 54.046875 \r\nz\r\nM 13.875 23.1875 \r\nQ 13.875 18.65625 15.796875 14.5 \r\nQ 17.71875 10.359375 21.1875 8.171875 \r\nQ 24.65625 6 28.46875 6 \r\nQ 34.03125 6 38.03125 10.484375 \r\nQ 42.046875 14.984375 42.046875 22.703125 \r\nQ 42.046875 30.125 38.078125 34.390625 \r\nQ 34.125 38.671875 28.125 38.671875 \r\nQ 22.171875 38.671875 18.015625 34.390625 \r\nQ 13.875 30.125 13.875 23.1875 \r\nz\r\n\" id=\"ArialMT-54\"/>\r\n      </defs>\r\n      <g style=\"fill:#262626;\" transform=\"translate(28.291406 102.117287)scale(0.11 -0.11)\">\r\n       <use xlink:href=\"#ArialMT-54\"/>\r\n       <use x=\"55.615234\" xlink:href=\"#ArialMT-48\"/>\r\n      </g>\r\n     </g>\r\n    </g>\r\n    <g id=\"ytick_5\">\r\n     <g id=\"line2d_5\">\r\n      <path clip-path=\"url(#p82de3dfa40)\" d=\"M 50.025469 56.027321 \r\nL 384.825469 56.027321 \r\n\" style=\"fill:none;stroke:#cccccc;stroke-linecap:round;\"/>\r\n     </g>\r\n     <g id=\"text_11\">\r\n      <!-- 80 -->\r\n      <defs>\r\n       <path d=\"M 17.671875 38.8125 \r\nQ 12.203125 40.828125 9.5625 44.53125 \r\nQ 6.9375 48.25 6.9375 53.421875 \r\nQ 6.9375 61.234375 12.546875 66.546875 \r\nQ 18.171875 71.875 27.484375 71.875 \r\nQ 36.859375 71.875 42.578125 66.421875 \r\nQ 48.296875 60.984375 48.296875 53.171875 \r\nQ 48.296875 48.1875 45.671875 44.5 \r\nQ 43.0625 40.828125 37.75 38.8125 \r\nQ 44.34375 36.671875 47.78125 31.875 \r\nQ 51.21875 27.09375 51.21875 20.453125 \r\nQ 51.21875 11.28125 44.71875 5.03125 \r\nQ 38.234375 -1.21875 27.640625 -1.21875 \r\nQ 17.046875 -1.21875 10.546875 5.046875 \r\nQ 4.046875 11.328125 4.046875 20.703125 \r\nQ 4.046875 27.6875 7.59375 32.390625 \r\nQ 11.140625 37.109375 17.671875 38.8125 \r\nz\r\nM 15.921875 53.71875 \r\nQ 15.921875 48.640625 19.1875 45.40625 \r\nQ 22.46875 42.1875 27.6875 42.1875 \r\nQ 32.765625 42.1875 36.015625 45.375 \r\nQ 39.265625 48.578125 39.265625 53.21875 \r\nQ 39.265625 58.0625 35.90625 61.359375 \r\nQ 32.5625 64.65625 27.59375 64.65625 \r\nQ 22.5625 64.65625 19.234375 61.421875 \r\nQ 15.921875 58.203125 15.921875 53.71875 \r\nz\r\nM 13.09375 20.65625 \r\nQ 13.09375 16.890625 14.875 13.375 \r\nQ 16.65625 9.859375 20.171875 7.921875 \r\nQ 23.6875 6 27.734375 6 \r\nQ 34.03125 6 38.125 10.046875 \r\nQ 42.234375 14.109375 42.234375 20.359375 \r\nQ 42.234375 26.703125 38.015625 30.859375 \r\nQ 33.796875 35.015625 27.4375 35.015625 \r\nQ 21.234375 35.015625 17.15625 30.90625 \r\nQ 13.09375 26.8125 13.09375 20.65625 \r\nz\r\n\" id=\"ArialMT-56\"/>\r\n      </defs>\r\n      <g style=\"fill:#262626;\" transform=\"translate(28.291406 59.964117)scale(0.11 -0.11)\">\r\n       <use xlink:href=\"#ArialMT-56\"/>\r\n       <use x=\"55.615234\" xlink:href=\"#ArialMT-48\"/>\r\n      </g>\r\n     </g>\r\n    </g>\r\n    <g id=\"ytick_6\">\r\n     <g id=\"line2d_6\">\r\n      <path clip-path=\"url(#p82de3dfa40)\" d=\"M 50.025469 13.874151 \r\nL 384.825469 13.874151 \r\n\" style=\"fill:none;stroke:#cccccc;stroke-linecap:round;\"/>\r\n     </g>\r\n     <g id=\"text_12\">\r\n      <!-- 100 -->\r\n      <defs>\r\n       <path d=\"M 37.25 0 \r\nL 28.46875 0 \r\nL 28.46875 56 \r\nQ 25.296875 52.984375 20.140625 49.953125 \r\nQ 14.984375 46.921875 10.890625 45.40625 \r\nL 10.890625 53.90625 \r\nQ 18.265625 57.375 23.78125 62.296875 \r\nQ 29.296875 67.234375 31.59375 71.875 \r\nL 37.25 71.875 \r\nz\r\n\" id=\"ArialMT-49\"/>\r\n      </defs>\r\n      <g style=\"fill:#262626;\" transform=\"translate(22.174375 17.810948)scale(0.11 -0.11)\">\r\n       <use xlink:href=\"#ArialMT-49\"/>\r\n       <use x=\"55.615234\" xlink:href=\"#ArialMT-48\"/>\r\n       <use x=\"111.230469\" xlink:href=\"#ArialMT-48\"/>\r\n      </g>\r\n     </g>\r\n    </g>\r\n    <g id=\"text_13\">\r\n     <!-- Percentual -->\r\n     <defs>\r\n      <path d=\"M 7.71875 0 \r\nL 7.71875 71.578125 \r\nL 34.71875 71.578125 \r\nQ 41.84375 71.578125 45.609375 70.90625 \r\nQ 50.875 70.015625 54.4375 67.546875 \r\nQ 58.015625 65.09375 60.1875 60.640625 \r\nQ 62.359375 56.203125 62.359375 50.875 \r\nQ 62.359375 41.75 56.546875 35.421875 \r\nQ 50.734375 29.109375 35.546875 29.109375 \r\nL 17.1875 29.109375 \r\nL 17.1875 0 \r\nz\r\nM 17.1875 37.546875 \r\nL 35.6875 37.546875 \r\nQ 44.875 37.546875 48.734375 40.96875 \r\nQ 52.59375 44.390625 52.59375 50.59375 \r\nQ 52.59375 55.078125 50.3125 58.265625 \r\nQ 48.046875 61.46875 44.34375 62.5 \r\nQ 41.9375 63.140625 35.5 63.140625 \r\nL 17.1875 63.140625 \r\nz\r\n\" id=\"ArialMT-80\"/>\r\n     </defs>\r\n     <g style=\"fill:#262626;\" transform=\"translate(15.789375 144.602812)rotate(-90)scale(0.12 -0.12)\">\r\n      <use xlink:href=\"#ArialMT-80\"/>\r\n      <use x=\"66.699219\" xlink:href=\"#ArialMT-101\"/>\r\n      <use x=\"122.314453\" xlink:href=\"#ArialMT-114\"/>\r\n      <use x=\"155.615234\" xlink:href=\"#ArialMT-99\"/>\r\n      <use x=\"205.615234\" xlink:href=\"#ArialMT-101\"/>\r\n      <use x=\"261.230469\" xlink:href=\"#ArialMT-110\"/>\r\n      <use x=\"316.845703\" xlink:href=\"#ArialMT-116\"/>\r\n      <use x=\"344.628906\" xlink:href=\"#ArialMT-117\"/>\r\n      <use x=\"400.244141\" xlink:href=\"#ArialMT-97\"/>\r\n      <use x=\"455.859375\" xlink:href=\"#ArialMT-108\"/>\r\n     </g>\r\n    </g>\r\n   </g>\r\n   <g id=\"patch_3\">\r\n    <path clip-path=\"url(#p82de3dfa40)\" d=\"M 56.721469 224.64 \r\nL 110.289469 224.64 \r\nL 110.289469 214.609888 \r\nL 56.721469 214.609888 \r\nz\r\n\" style=\"fill:#5875a4;stroke:#ffffff;stroke-linejoin:miter;\"/>\r\n   </g>\r\n   <g id=\"patch_4\">\r\n    <path clip-path=\"url(#p82de3dfa40)\" d=\"M 123.681469 224.64 \r\nL 177.249469 224.64 \r\nL 177.249469 74.018417 \r\nL 123.681469 74.018417 \r\nz\r\n\" style=\"fill:#cc8963;stroke:#ffffff;stroke-linejoin:miter;\"/>\r\n   </g>\r\n   <g id=\"patch_5\">\r\n    <path clip-path=\"url(#p82de3dfa40)\" d=\"M 190.641469 224.64 \r\nL 244.209469 224.64 \r\nL 244.209469 74.018417 \r\nL 190.641469 74.018417 \r\nz\r\n\" style=\"fill:#5f9e6e;stroke:#ffffff;stroke-linejoin:miter;\"/>\r\n   </g>\r\n   <g id=\"patch_6\">\r\n    <path clip-path=\"url(#p82de3dfa40)\" d=\"M 257.601469 224.64 \r\nL 311.169469 224.64 \r\nL 311.169469 17.554286 \r\nL 257.601469 17.554286 \r\nz\r\n\" style=\"fill:#b55d60;stroke:#ffffff;stroke-linejoin:miter;\"/>\r\n   </g>\r\n   <g id=\"patch_7\">\r\n    <path clip-path=\"url(#p82de3dfa40)\" d=\"M 324.561469 224.64 \r\nL 378.129469 224.64 \r\nL 378.129469 17.554286 \r\nL 324.561469 17.554286 \r\nz\r\n\" style=\"fill:#857aab;stroke:#ffffff;stroke-linejoin:miter;\"/>\r\n   </g>\r\n   <g id=\"line2d_7\">\r\n    <path clip-path=\"url(#p82de3dfa40)\" style=\"fill:none;stroke:#424242;stroke-linecap:round;stroke-width:2.7;\"/>\r\n   </g>\r\n   <g id=\"line2d_8\">\r\n    <path clip-path=\"url(#p82de3dfa40)\" style=\"fill:none;stroke:#424242;stroke-linecap:round;stroke-width:2.7;\"/>\r\n   </g>\r\n   <g id=\"line2d_9\">\r\n    <path clip-path=\"url(#p82de3dfa40)\" style=\"fill:none;stroke:#424242;stroke-linecap:round;stroke-width:2.7;\"/>\r\n   </g>\r\n   <g id=\"line2d_10\">\r\n    <path clip-path=\"url(#p82de3dfa40)\" style=\"fill:none;stroke:#424242;stroke-linecap:round;stroke-width:2.7;\"/>\r\n   </g>\r\n   <g id=\"line2d_11\">\r\n    <path clip-path=\"url(#p82de3dfa40)\" style=\"fill:none;stroke:#424242;stroke-linecap:round;stroke-width:2.7;\"/>\r\n   </g>\r\n   <g id=\"patch_8\">\r\n    <path d=\"M 50.025469 224.64 \r\nL 50.025469 7.2 \r\n\" style=\"fill:none;stroke:#cccccc;stroke-linecap:square;stroke-linejoin:miter;stroke-width:1.25;\"/>\r\n   </g>\r\n   <g id=\"patch_9\">\r\n    <path d=\"M 384.825469 224.64 \r\nL 384.825469 7.2 \r\n\" style=\"fill:none;stroke:#cccccc;stroke-linecap:square;stroke-linejoin:miter;stroke-width:1.25;\"/>\r\n   </g>\r\n   <g id=\"patch_10\">\r\n    <path d=\"M 50.025469 224.64 \r\nL 384.825469 224.64 \r\n\" style=\"fill:none;stroke:#cccccc;stroke-linecap:square;stroke-linejoin:miter;stroke-width:1.25;\"/>\r\n   </g>\r\n   <g id=\"patch_11\">\r\n    <path d=\"M 50.025469 7.2 \r\nL 384.825469 7.2 \r\n\" style=\"fill:none;stroke:#cccccc;stroke-linecap:square;stroke-linejoin:miter;stroke-width:1.25;\"/>\r\n   </g>\r\n  </g>\r\n </g>\r\n <defs>\r\n  <clipPath id=\"p82de3dfa40\">\r\n   <rect height=\"217.44\" width=\"334.8\" x=\"50.025469\" y=\"7.2\"/>\r\n  </clipPath>\r\n </defs>\r\n</svg>\r\n",
      "image/png": "[encoded data removed]"
     },
     "metadata": {}
    },
    {
     "output_type": "stream",
     "name": "stdout",
     "text": [
      "                    Percentual              Column\nName                                              \nbudget_number         4.758889       budget_number\nclosing_balance      71.463941     closing_balance\nopening_balance      71.463941     opening_balance\nbudget_level3_key    98.253923   budget_level3_key\nbudget_level3_name   98.253923  budget_level3_name\nNone\n"
     ]
    }
   ],
   "source": [
    "# Check if there any Nan Field\n",
    "print(plotNaNValuesColums(df_plans_budgets))"
   ]
  },
  {
   "cell_type": "code",
   "execution_count": 12,
   "metadata": {},
   "outputs": [
    {
     "output_type": "execute_result",
     "data": {
      "text/plain": [
       "   plan_start_date                            member_key plan_status  \\\n",
       "63      2020-09-25  b3936f00-b462-11ea-9a7d-99d8a325124d   COMPLETED   \n",
       "64      2020-09-25  b3936f00-b462-11ea-9a7d-99d8a325124d   COMPLETED   \n",
       "65      2020-09-25  b3936f00-b462-11ea-9a7d-99d8a325124d   COMPLETED   \n",
       "66      2020-09-25  b3936f00-b462-11ea-9a7d-99d8a325124d   COMPLETED   \n",
       "\n",
       "   budget_number budget_level3_key  closing_balance  \\\n",
       "63           NaN               NaN          2833.24   \n",
       "64           NaN               NaN           232.74   \n",
       "65           NaN               NaN          7760.68   \n",
       "66           NaN               NaN             6.25   \n",
       "\n",
       "                                plan_key  opening_balance  \\\n",
       "63  b4ebac00-b462-11ea-a898-85942aaecf99              0.0   \n",
       "64  b4ebac00-b462-11ea-a898-85942aaecf99              0.0   \n",
       "65  b4ebac00-b462-11ea-a898-85942aaecf99              0.0   \n",
       "66  b4ebac00-b462-11ea-a898-85942aaecf99              0.0   \n",
       "\n",
       "                       budget_level2_key  budget_amount  \\\n",
       "63  7d0af71b-f597-11e9-bfb4-022d4762bb3c        9084.16   \n",
       "64  7d0af5b1-f597-11e9-bfb4-022d4762bb3c        2720.20   \n",
       "65  7d0af53b-f597-11e9-bfb4-022d4762bb3c       23353.72   \n",
       "66  7d0af57b-f597-11e9-bfb4-022d4762bb3c       12182.38   \n",
       "\n",
       "                       budget_level1_key plan_end_date budget_status  \\\n",
       "63  58745466-f597-11e9-bfb4-022d4762bb3c    2020-03-23     CONFIRMED   \n",
       "64  58745466-f597-11e9-bfb4-022d4762bb3c    2020-03-23     CONFIRMED   \n",
       "65  58745466-f597-11e9-bfb4-022d4762bb3c    2020-03-23     CONFIRMED   \n",
       "66  5874551b-f597-11e9-bfb4-022d4762bb3c    2020-03-23     CONFIRMED   \n",
       "\n",
       "   budget_level1_name budget_level3_name  \\\n",
       "63               Core                NaN   \n",
       "64               Core                NaN   \n",
       "65               Core                NaN   \n",
       "66  Capacity Building                NaN   \n",
       "\n",
       "                                   budget_level2_name  \n",
       "63                       Assistance with daily living  \n",
       "64                                        Consumables  \n",
       "65  Assistance with social and community participa...  \n",
       "66                       Improved daily living skills  "
      ],
      "text/html": "<div>\n<style scoped>\n    .dataframe tbody tr th:only-of-type {\n        vertical-align: middle;\n    }\n\n    .dataframe tbody tr th {\n        vertical-align: top;\n    }\n\n    .dataframe thead th {\n        text-align: right;\n    }\n</style>\n<table border=\"1\" class=\"dataframe\">\n  <thead>\n    <tr style=\"text-align: right;\">\n      <th></th>\n      <th>plan_start_date</th>\n      <th>member_key</th>\n      <th>plan_status</th>\n      <th>budget_number</th>\n      <th>budget_level3_key</th>\n      <th>closing_balance</th>\n      <th>plan_key</th>\n      <th>opening_balance</th>\n      <th>budget_level2_key</th>\n      <th>budget_amount</th>\n      <th>budget_level1_key</th>\n      <th>plan_end_date</th>\n      <th>budget_status</th>\n      <th>budget_level1_name</th>\n      <th>budget_level3_name</th>\n      <th>budget_level2_name</th>\n    </tr>\n  </thead>\n  <tbody>\n    <tr>\n      <th>63</th>\n      <td>2020-09-25</td>\n      <td>b3936f00-b462-11ea-9a7d-99d8a325124d</td>\n      <td>COMPLETED</td>\n      <td>NaN</td>\n      <td>NaN</td>\n      <td>2833.24</td>\n      <td>b4ebac00-b462-11ea-a898-85942aaecf99</td>\n      <td>0.0</td>\n      <td>7d0af71b-f597-11e9-bfb4-022d4762bb3c</td>\n      <td>9084.16</td>\n      <td>58745466-f597-11e9-bfb4-022d4762bb3c</td>\n      <td>2020-03-23</td>\n      <td>CONFIRMED</td>\n      <td>Core</td>\n      <td>NaN</td>\n      <td>Assistance with daily living</td>\n    </tr>\n    <tr>\n      <th>64</th>\n      <td>2020-09-25</td>\n      <td>b3936f00-b462-11ea-9a7d-99d8a325124d</td>\n      <td>COMPLETED</td>\n      <td>NaN</td>\n      <td>NaN</td>\n      <td>232.74</td>\n      <td>b4ebac00-b462-11ea-a898-85942aaecf99</td>\n      <td>0.0</td>\n      <td>7d0af5b1-f597-11e9-bfb4-022d4762bb3c</td>\n      <td>2720.20</td>\n      <td>58745466-f597-11e9-bfb4-022d4762bb3c</td>\n      <td>2020-03-23</td>\n      <td>CONFIRMED</td>\n      <td>Core</td>\n      <td>NaN</td>\n      <td>Consumables</td>\n    </tr>\n    <tr>\n      <th>65</th>\n      <td>2020-09-25</td>\n      <td>b3936f00-b462-11ea-9a7d-99d8a325124d</td>\n      <td>COMPLETED</td>\n      <td>NaN</td>\n      <td>NaN</td>\n      <td>7760.68</td>\n      <td>b4ebac00-b462-11ea-a898-85942aaecf99</td>\n      <td>0.0</td>\n      <td>7d0af53b-f597-11e9-bfb4-022d4762bb3c</td>\n      <td>23353.72</td>\n      <td>58745466-f597-11e9-bfb4-022d4762bb3c</td>\n      <td>2020-03-23</td>\n      <td>CONFIRMED</td>\n      <td>Core</td>\n      <td>NaN</td>\n      <td>Assistance with social and community participa...</td>\n    </tr>\n    <tr>\n      <th>66</th>\n      <td>2020-09-25</td>\n      <td>b3936f00-b462-11ea-9a7d-99d8a325124d</td>\n      <td>COMPLETED</td>\n      <td>NaN</td>\n      <td>NaN</td>\n      <td>6.25</td>\n      <td>b4ebac00-b462-11ea-a898-85942aaecf99</td>\n      <td>0.0</td>\n      <td>7d0af57b-f597-11e9-bfb4-022d4762bb3c</td>\n      <td>12182.38</td>\n      <td>5874551b-f597-11e9-bfb4-022d4762bb3c</td>\n      <td>2020-03-23</td>\n      <td>CONFIRMED</td>\n      <td>Capacity Building</td>\n      <td>NaN</td>\n      <td>Improved daily living skills</td>\n    </tr>\n  </tbody>\n</table>\n</div>"
     },
     "metadata": {},
     "execution_count": 12
    }
   ],
   "source": [
    "# Check some budget_number NaN Data to\n",
    "#  Check these data have in commum\n",
    "#   It is seen that when budget_number is null\n",
    "#    opening_balance and closing_balance are not null\n",
    "Null_budget_number = df_plans_budgets.loc[(df_plans_budgets['budget_number'].isna())]\n",
    "Null_budget_number.head(4)"
   ]
  },
  {
   "cell_type": "code",
   "execution_count": 13,
   "metadata": {},
   "outputs": [
    {
     "output_type": "execute_result",
     "data": {
      "text/plain": [
       "  plan_start_date                            member_key           plan_status  \\\n",
       "0      2020-04-24  ef0ab4c0-891b-11ea-a119-35e8388a5f49  PLAN_DELIVERY_ACTIVE   \n",
       "1      2020-04-20  6a535640-8b5c-11ea-9eec-315ed4b1385b  PLAN_DELIVERY_ACTIVE   \n",
       "2      2020-04-20  6a535640-8b5c-11ea-9eec-315ed4b1385b  PLAN_DELIVERY_ACTIVE   \n",
       "3      2019-09-11  472c17f0-9409-11ea-ba24-1f1ea52ce5bc             COMPLETED   \n",
       "\n",
       "  budget_number budget_level3_key  closing_balance  \\\n",
       "0      55508918               NaN              NaN   \n",
       "1      55539563               NaN              NaN   \n",
       "2      55539563               NaN              NaN   \n",
       "3      55612635               NaN              NaN   \n",
       "\n",
       "                               plan_key  opening_balance  \\\n",
       "0  29b86641-62d2-4eb2-9222-311b16ef74cc              NaN   \n",
       "1  ea2cc969-6c3f-4dbc-9ebe-30df0c9f5b33              NaN   \n",
       "2  ea2cc969-6c3f-4dbc-9ebe-30df0c9f5b33              NaN   \n",
       "3  dd735ad0-05eb-42ce-91ba-36e1e032a67a              NaN   \n",
       "\n",
       "                      budget_level2_key  budget_amount  \\\n",
       "0  7d0af57b-f597-11e9-bfb4-022d4762bb3c        8168.00   \n",
       "1  7d0af57b-f597-11e9-bfb4-022d4762bb3c        7682.04   \n",
       "2  7d0af5b1-f597-11e9-bfb4-022d4762bb3c         300.00   \n",
       "3  7d0af57b-f597-11e9-bfb4-022d4762bb3c        6972.41   \n",
       "\n",
       "                      budget_level1_key plan_end_date budget_status  \\\n",
       "0  5874551b-f597-11e9-bfb4-022d4762bb3c    2021-04-23     CONFIRMED   \n",
       "1  5874551b-f597-11e9-bfb4-022d4762bb3c    2021-04-20     CONFIRMED   \n",
       "2  58745466-f597-11e9-bfb4-022d4762bb3c    2021-04-20     CONFIRMED   \n",
       "3  5874551b-f597-11e9-bfb4-022d4762bb3c    2020-08-17     CONFIRMED   \n",
       "\n",
       "  budget_level1_name budget_level3_name            budget_level2_name  \n",
       "0  Capacity Building                NaN  Improved daily living skills  \n",
       "1  Capacity Building                NaN  Improved daily living skills  \n",
       "2               Core                NaN                   Consumables  \n",
       "3  Capacity Building                NaN  Improved daily living skills  "
      ],
      "text/html": "<div>\n<style scoped>\n    .dataframe tbody tr th:only-of-type {\n        vertical-align: middle;\n    }\n\n    .dataframe tbody tr th {\n        vertical-align: top;\n    }\n\n    .dataframe thead th {\n        text-align: right;\n    }\n</style>\n<table border=\"1\" class=\"dataframe\">\n  <thead>\n    <tr style=\"text-align: right;\">\n      <th></th>\n      <th>plan_start_date</th>\n      <th>member_key</th>\n      <th>plan_status</th>\n      <th>budget_number</th>\n      <th>budget_level3_key</th>\n      <th>closing_balance</th>\n      <th>plan_key</th>\n      <th>opening_balance</th>\n      <th>budget_level2_key</th>\n      <th>budget_amount</th>\n      <th>budget_level1_key</th>\n      <th>plan_end_date</th>\n      <th>budget_status</th>\n      <th>budget_level1_name</th>\n      <th>budget_level3_name</th>\n      <th>budget_level2_name</th>\n    </tr>\n  </thead>\n  <tbody>\n    <tr>\n      <th>0</th>\n      <td>2020-04-24</td>\n      <td>ef0ab4c0-891b-11ea-a119-35e8388a5f49</td>\n      <td>PLAN_DELIVERY_ACTIVE</td>\n      <td>55508918</td>\n      <td>NaN</td>\n      <td>NaN</td>\n      <td>29b86641-62d2-4eb2-9222-311b16ef74cc</td>\n      <td>NaN</td>\n      <td>7d0af57b-f597-11e9-bfb4-022d4762bb3c</td>\n      <td>8168.00</td>\n      <td>5874551b-f597-11e9-bfb4-022d4762bb3c</td>\n      <td>2021-04-23</td>\n      <td>CONFIRMED</td>\n      <td>Capacity Building</td>\n      <td>NaN</td>\n      <td>Improved daily living skills</td>\n    </tr>\n    <tr>\n      <th>1</th>\n      <td>2020-04-20</td>\n      <td>6a535640-8b5c-11ea-9eec-315ed4b1385b</td>\n      <td>PLAN_DELIVERY_ACTIVE</td>\n      <td>55539563</td>\n      <td>NaN</td>\n      <td>NaN</td>\n      <td>ea2cc969-6c3f-4dbc-9ebe-30df0c9f5b33</td>\n      <td>NaN</td>\n      <td>7d0af57b-f597-11e9-bfb4-022d4762bb3c</td>\n      <td>7682.04</td>\n      <td>5874551b-f597-11e9-bfb4-022d4762bb3c</td>\n      <td>2021-04-20</td>\n      <td>CONFIRMED</td>\n      <td>Capacity Building</td>\n      <td>NaN</td>\n      <td>Improved daily living skills</td>\n    </tr>\n    <tr>\n      <th>2</th>\n      <td>2020-04-20</td>\n      <td>6a535640-8b5c-11ea-9eec-315ed4b1385b</td>\n      <td>PLAN_DELIVERY_ACTIVE</td>\n      <td>55539563</td>\n      <td>NaN</td>\n      <td>NaN</td>\n      <td>ea2cc969-6c3f-4dbc-9ebe-30df0c9f5b33</td>\n      <td>NaN</td>\n      <td>7d0af5b1-f597-11e9-bfb4-022d4762bb3c</td>\n      <td>300.00</td>\n      <td>58745466-f597-11e9-bfb4-022d4762bb3c</td>\n      <td>2021-04-20</td>\n      <td>CONFIRMED</td>\n      <td>Core</td>\n      <td>NaN</td>\n      <td>Consumables</td>\n    </tr>\n    <tr>\n      <th>3</th>\n      <td>2019-09-11</td>\n      <td>472c17f0-9409-11ea-ba24-1f1ea52ce5bc</td>\n      <td>COMPLETED</td>\n      <td>55612635</td>\n      <td>NaN</td>\n      <td>NaN</td>\n      <td>dd735ad0-05eb-42ce-91ba-36e1e032a67a</td>\n      <td>NaN</td>\n      <td>7d0af57b-f597-11e9-bfb4-022d4762bb3c</td>\n      <td>6972.41</td>\n      <td>5874551b-f597-11e9-bfb4-022d4762bb3c</td>\n      <td>2020-08-17</td>\n      <td>CONFIRMED</td>\n      <td>Capacity Building</td>\n      <td>NaN</td>\n      <td>Improved daily living skills</td>\n    </tr>\n  </tbody>\n</table>\n</div>"
     },
     "metadata": {},
     "execution_count": 13
    }
   ],
   "source": [
    "# Check some budget_number Not NaN Data to\n",
    "#  Check these data have in commum\n",
    "#   It is seen that when budget_number is null\n",
    "#    opening_balance and closing_balance are null\n",
    "Null_budget_number = df_plans_budgets.loc[(df_plans_budgets['budget_number'].notna())]\n",
    "Null_budget_number.head(4)"
   ]
  },
  {
   "cell_type": "code",
   "execution_count": 14,
   "metadata": {},
   "outputs": [
    {
     "output_type": "display_data",
     "data": {
      "text/plain": "<Figure size 432x288 with 1 Axes>",
      "image/svg+xml": "<?xml version=\"1.0\" encoding=\"utf-8\" standalone=\"no\"?>\r\n<!DOCTYPE svg PUBLIC \"-//W3C//DTD SVG 1.1//EN\"\r\n  \"http://www.w3.org/Graphics/SVG/1.1/DTD/svg11.dtd\">\r\n<!-- Created with matplotlib (https://matplotlib.org/) -->\r\n<svg height=\"340.106875pt\" version=\"1.1\" viewBox=\"0 0 392.025469 340.106875\" width=\"392.025469pt\" xmlns=\"http://www.w3.org/2000/svg\" xmlns:xlink=\"http://www.w3.org/1999/xlink\">\r\n <defs>\r\n  <style type=\"text/css\">\r\n*{stroke-linecap:butt;stroke-linejoin:round;}\r\n  </style>\r\n </defs>\r\n <g id=\"figure_1\">\r\n  <g id=\"patch_1\">\r\n   <path d=\"M 0 340.106875 \r\nL 392.025469 340.106875 \r\nL 392.025469 0 \r\nL 0 0 \r\nz\r\n\" style=\"fill:#ffffff;\"/>\r\n  </g>\r\n  <g id=\"axes_1\">\r\n   <g id=\"patch_2\">\r\n    <path d=\"M 50.025469 224.64 \r\nL 384.825469 224.64 \r\nL 384.825469 7.2 \r\nL 50.025469 7.2 \r\nz\r\n\" style=\"fill:#ffffff;\"/>\r\n   </g>\r\n   <g id=\"matplotlib.axis_1\">\r\n    <g id=\"xtick_1\">\r\n     <g id=\"text_1\">\r\n      <!-- closing_balance -->\r\n      <defs>\r\n       <path d=\"M 40.4375 19 \r\nL 49.078125 17.875 \r\nQ 47.65625 8.9375 41.8125 3.875 \r\nQ 35.984375 -1.171875 27.484375 -1.171875 \r\nQ 16.84375 -1.171875 10.375 5.78125 \r\nQ 3.90625 12.75 3.90625 25.734375 \r\nQ 3.90625 34.125 6.6875 40.421875 \r\nQ 9.46875 46.734375 15.15625 49.875 \r\nQ 20.84375 53.03125 27.546875 53.03125 \r\nQ 35.984375 53.03125 41.359375 48.75 \r\nQ 46.734375 44.484375 48.25 36.625 \r\nL 39.703125 35.296875 \r\nQ 38.484375 40.53125 35.375 43.15625 \r\nQ 32.28125 45.796875 27.875 45.796875 \r\nQ 21.234375 45.796875 17.078125 41.03125 \r\nQ 12.9375 36.28125 12.9375 25.984375 \r\nQ 12.9375 15.53125 16.9375 10.796875 \r\nQ 20.953125 6.0625 27.390625 6.0625 \r\nQ 32.5625 6.0625 36.03125 9.234375 \r\nQ 39.5 12.40625 40.4375 19 \r\nz\r\n\" id=\"ArialMT-99\"/>\r\n       <path d=\"M 6.390625 0 \r\nL 6.390625 71.578125 \r\nL 15.1875 71.578125 \r\nL 15.1875 0 \r\nz\r\n\" id=\"ArialMT-108\"/>\r\n       <path d=\"M 3.328125 25.921875 \r\nQ 3.328125 40.328125 11.328125 47.265625 \r\nQ 18.015625 53.03125 27.640625 53.03125 \r\nQ 38.328125 53.03125 45.109375 46.015625 \r\nQ 51.90625 39.015625 51.90625 26.65625 \r\nQ 51.90625 16.65625 48.90625 10.90625 \r\nQ 45.90625 5.171875 40.15625 2 \r\nQ 34.421875 -1.171875 27.640625 -1.171875 \r\nQ 16.75 -1.171875 10.03125 5.8125 \r\nQ 3.328125 12.796875 3.328125 25.921875 \r\nz\r\nM 12.359375 25.921875 \r\nQ 12.359375 15.96875 16.703125 11.015625 \r\nQ 21.046875 6.0625 27.640625 6.0625 \r\nQ 34.1875 6.0625 38.53125 11.03125 \r\nQ 42.875 16.015625 42.875 26.21875 \r\nQ 42.875 35.84375 38.5 40.796875 \r\nQ 34.125 45.75 27.640625 45.75 \r\nQ 21.046875 45.75 16.703125 40.8125 \r\nQ 12.359375 35.890625 12.359375 25.921875 \r\nz\r\n\" id=\"ArialMT-111\"/>\r\n       <path d=\"M 3.078125 15.484375 \r\nL 11.765625 16.84375 \r\nQ 12.5 11.625 15.84375 8.84375 \r\nQ 19.1875 6.0625 25.203125 6.0625 \r\nQ 31.25 6.0625 34.171875 8.515625 \r\nQ 37.109375 10.984375 37.109375 14.3125 \r\nQ 37.109375 17.28125 34.515625 19 \r\nQ 32.71875 20.171875 25.53125 21.96875 \r\nQ 15.875 24.421875 12.140625 26.203125 \r\nQ 8.40625 27.984375 6.46875 31.125 \r\nQ 4.546875 34.28125 4.546875 38.09375 \r\nQ 4.546875 41.546875 6.125 44.5 \r\nQ 7.71875 47.46875 10.453125 49.421875 \r\nQ 12.5 50.921875 16.03125 51.96875 \r\nQ 19.578125 53.03125 23.640625 53.03125 \r\nQ 29.734375 53.03125 34.34375 51.265625 \r\nQ 38.96875 49.515625 41.15625 46.5 \r\nQ 43.359375 43.5 44.1875 38.484375 \r\nL 35.59375 37.3125 \r\nQ 35.015625 41.3125 32.203125 43.546875 \r\nQ 29.390625 45.796875 24.265625 45.796875 \r\nQ 18.21875 45.796875 15.625 43.796875 \r\nQ 13.03125 41.796875 13.03125 39.109375 \r\nQ 13.03125 37.40625 14.109375 36.03125 \r\nQ 15.1875 34.625 17.484375 33.6875 \r\nQ 18.796875 33.203125 25.25 31.453125 \r\nQ 34.578125 28.953125 38.25 27.359375 \r\nQ 41.9375 25.78125 44.03125 22.75 \r\nQ 46.140625 19.734375 46.140625 15.234375 \r\nQ 46.140625 10.84375 43.578125 6.953125 \r\nQ 41.015625 3.078125 36.171875 0.953125 \r\nQ 31.34375 -1.171875 25.25 -1.171875 \r\nQ 15.140625 -1.171875 9.84375 3.03125 \r\nQ 4.546875 7.234375 3.078125 15.484375 \r\nz\r\n\" id=\"ArialMT-115\"/>\r\n       <path d=\"M 6.640625 61.46875 \r\nL 6.640625 71.578125 \r\nL 15.4375 71.578125 \r\nL 15.4375 61.46875 \r\nz\r\nM 6.640625 0 \r\nL 6.640625 51.859375 \r\nL 15.4375 51.859375 \r\nL 15.4375 0 \r\nz\r\n\" id=\"ArialMT-105\"/>\r\n       <path d=\"M 6.59375 0 \r\nL 6.59375 51.859375 \r\nL 14.5 51.859375 \r\nL 14.5 44.484375 \r\nQ 20.21875 53.03125 31 53.03125 \r\nQ 35.6875 53.03125 39.625 51.34375 \r\nQ 43.5625 49.65625 45.515625 46.921875 \r\nQ 47.46875 44.1875 48.25 40.4375 \r\nQ 48.734375 37.984375 48.734375 31.890625 \r\nL 48.734375 0 \r\nL 39.9375 0 \r\nL 39.9375 31.546875 \r\nQ 39.9375 36.921875 38.90625 39.578125 \r\nQ 37.890625 42.234375 35.28125 43.8125 \r\nQ 32.671875 45.40625 29.15625 45.40625 \r\nQ 23.53125 45.40625 19.453125 41.84375 \r\nQ 15.375 38.28125 15.375 28.328125 \r\nL 15.375 0 \r\nz\r\n\" id=\"ArialMT-110\"/>\r\n       <path d=\"M 4.984375 -4.296875 \r\nL 13.53125 -5.5625 \r\nQ 14.0625 -9.515625 16.5 -11.328125 \r\nQ 19.78125 -13.765625 25.4375 -13.765625 \r\nQ 31.546875 -13.765625 34.859375 -11.328125 \r\nQ 38.1875 -8.890625 39.359375 -4.5 \r\nQ 40.046875 -1.8125 39.984375 6.78125 \r\nQ 34.234375 0 25.640625 0 \r\nQ 14.9375 0 9.078125 7.71875 \r\nQ 3.21875 15.4375 3.21875 26.21875 \r\nQ 3.21875 33.640625 5.90625 39.90625 \r\nQ 8.59375 46.1875 13.6875 49.609375 \r\nQ 18.796875 53.03125 25.6875 53.03125 \r\nQ 34.859375 53.03125 40.828125 45.609375 \r\nL 40.828125 51.859375 \r\nL 48.921875 51.859375 \r\nL 48.921875 7.03125 \r\nQ 48.921875 -5.078125 46.453125 -10.125 \r\nQ 44 -15.1875 38.640625 -18.109375 \r\nQ 33.296875 -21.046875 25.484375 -21.046875 \r\nQ 16.21875 -21.046875 10.5 -16.875 \r\nQ 4.78125 -12.703125 4.984375 -4.296875 \r\nz\r\nM 12.25 26.859375 \r\nQ 12.25 16.65625 16.296875 11.96875 \r\nQ 20.359375 7.28125 26.46875 7.28125 \r\nQ 32.515625 7.28125 36.609375 11.9375 \r\nQ 40.71875 16.609375 40.71875 26.5625 \r\nQ 40.71875 36.078125 36.5 40.90625 \r\nQ 32.28125 45.75 26.3125 45.75 \r\nQ 20.453125 45.75 16.34375 40.984375 \r\nQ 12.25 36.234375 12.25 26.859375 \r\nz\r\n\" id=\"ArialMT-103\"/>\r\n       <path d=\"M -1.515625 -19.875 \r\nL -1.515625 -13.53125 \r\nL 56.734375 -13.53125 \r\nL 56.734375 -19.875 \r\nz\r\n\" id=\"ArialMT-95\"/>\r\n       <path d=\"M 14.703125 0 \r\nL 6.546875 0 \r\nL 6.546875 71.578125 \r\nL 15.328125 71.578125 \r\nL 15.328125 46.046875 \r\nQ 20.90625 53.03125 29.546875 53.03125 \r\nQ 34.328125 53.03125 38.59375 51.09375 \r\nQ 42.875 49.171875 45.625 45.671875 \r\nQ 48.390625 42.1875 49.953125 37.25 \r\nQ 51.515625 32.328125 51.515625 26.703125 \r\nQ 51.515625 13.375 44.921875 6.09375 \r\nQ 38.328125 -1.171875 29.109375 -1.171875 \r\nQ 19.921875 -1.171875 14.703125 6.5 \r\nz\r\nM 14.59375 26.3125 \r\nQ 14.59375 17 17.140625 12.84375 \r\nQ 21.296875 6.0625 28.375 6.0625 \r\nQ 34.125 6.0625 38.328125 11.0625 \r\nQ 42.53125 16.0625 42.53125 25.984375 \r\nQ 42.53125 36.140625 38.5 40.96875 \r\nQ 34.46875 45.796875 28.765625 45.796875 \r\nQ 23 45.796875 18.796875 40.796875 \r\nQ 14.59375 35.796875 14.59375 26.3125 \r\nz\r\n\" id=\"ArialMT-98\"/>\r\n       <path d=\"M 40.4375 6.390625 \r\nQ 35.546875 2.25 31.03125 0.53125 \r\nQ 26.515625 -1.171875 21.34375 -1.171875 \r\nQ 12.796875 -1.171875 8.203125 3 \r\nQ 3.609375 7.171875 3.609375 13.671875 \r\nQ 3.609375 17.484375 5.34375 20.625 \r\nQ 7.078125 23.78125 9.890625 25.6875 \r\nQ 12.703125 27.59375 16.21875 28.5625 \r\nQ 18.796875 29.25 24.03125 29.890625 \r\nQ 34.671875 31.15625 39.703125 32.90625 \r\nQ 39.75 34.71875 39.75 35.203125 \r\nQ 39.75 40.578125 37.25 42.78125 \r\nQ 33.890625 45.75 27.25 45.75 \r\nQ 21.046875 45.75 18.09375 43.578125 \r\nQ 15.140625 41.40625 13.71875 35.890625 \r\nL 5.125 37.0625 \r\nQ 6.296875 42.578125 8.984375 45.96875 \r\nQ 11.671875 49.359375 16.75 51.1875 \r\nQ 21.828125 53.03125 28.515625 53.03125 \r\nQ 35.15625 53.03125 39.296875 51.46875 \r\nQ 43.453125 49.90625 45.40625 47.53125 \r\nQ 47.359375 45.171875 48.140625 41.546875 \r\nQ 48.578125 39.3125 48.578125 33.453125 \r\nL 48.578125 21.734375 \r\nQ 48.578125 9.46875 49.140625 6.21875 \r\nQ 49.703125 2.984375 51.375 0 \r\nL 42.1875 0 \r\nQ 40.828125 2.734375 40.4375 6.390625 \r\nz\r\nM 39.703125 26.03125 \r\nQ 34.90625 24.078125 25.34375 22.703125 \r\nQ 19.921875 21.921875 17.671875 20.9375 \r\nQ 15.4375 19.96875 14.203125 18.09375 \r\nQ 12.984375 16.21875 12.984375 13.921875 \r\nQ 12.984375 10.40625 15.640625 8.0625 \r\nQ 18.3125 5.71875 23.4375 5.71875 \r\nQ 28.515625 5.71875 32.46875 7.9375 \r\nQ 36.421875 10.15625 38.28125 14.015625 \r\nQ 39.703125 17 39.703125 22.796875 \r\nz\r\n\" id=\"ArialMT-97\"/>\r\n       <path d=\"M 42.09375 16.703125 \r\nL 51.171875 15.578125 \r\nQ 49.03125 7.625 43.21875 3.21875 \r\nQ 37.40625 -1.171875 28.375 -1.171875 \r\nQ 17 -1.171875 10.328125 5.828125 \r\nQ 3.65625 12.84375 3.65625 25.484375 \r\nQ 3.65625 38.578125 10.390625 45.796875 \r\nQ 17.140625 53.03125 27.875 53.03125 \r\nQ 38.28125 53.03125 44.875 45.953125 \r\nQ 51.46875 38.875 51.46875 26.03125 \r\nQ 51.46875 25.25 51.421875 23.6875 \r\nL 12.75 23.6875 \r\nQ 13.234375 15.140625 17.578125 10.59375 \r\nQ 21.921875 6.0625 28.421875 6.0625 \r\nQ 33.25 6.0625 36.671875 8.59375 \r\nQ 40.09375 11.140625 42.09375 16.703125 \r\nz\r\nM 13.234375 30.90625 \r\nL 42.1875 30.90625 \r\nQ 41.609375 37.453125 38.875 40.71875 \r\nQ 34.671875 45.796875 27.984375 45.796875 \r\nQ 21.921875 45.796875 17.796875 41.75 \r\nQ 13.671875 37.703125 13.234375 30.90625 \r\nz\r\n\" id=\"ArialMT-101\"/>\r\n      </defs>\r\n      <g style=\"fill:#262626;\" transform=\"translate(136.504687 313.025469)rotate(-90)scale(0.11 -0.11)\">\r\n       <use xlink:href=\"#ArialMT-99\"/>\r\n       <use x=\"50\" xlink:href=\"#ArialMT-108\"/>\r\n       <use x=\"72.216797\" xlink:href=\"#ArialMT-111\"/>\r\n       <use x=\"127.832031\" xlink:href=\"#ArialMT-115\"/>\r\n       <use x=\"177.832031\" xlink:href=\"#ArialMT-105\"/>\r\n       <use x=\"200.048828\" xlink:href=\"#ArialMT-110\"/>\r\n       <use x=\"255.664062\" xlink:href=\"#ArialMT-103\"/>\r\n       <use x=\"311.279297\" xlink:href=\"#ArialMT-95\"/>\r\n       <use x=\"366.894531\" xlink:href=\"#ArialMT-98\"/>\r\n       <use x=\"422.509766\" xlink:href=\"#ArialMT-97\"/>\r\n       <use x=\"478.125\" xlink:href=\"#ArialMT-108\"/>\r\n       <use x=\"500.341797\" xlink:href=\"#ArialMT-97\"/>\r\n       <use x=\"555.957031\" xlink:href=\"#ArialMT-110\"/>\r\n       <use x=\"611.572266\" xlink:href=\"#ArialMT-99\"/>\r\n       <use x=\"661.572266\" xlink:href=\"#ArialMT-101\"/>\r\n      </g>\r\n     </g>\r\n    </g>\r\n    <g id=\"xtick_2\">\r\n     <g id=\"text_2\">\r\n      <!-- opening_balance -->\r\n      <defs>\r\n       <path d=\"M 6.59375 -19.875 \r\nL 6.59375 51.859375 \r\nL 14.59375 51.859375 \r\nL 14.59375 45.125 \r\nQ 17.4375 49.078125 21 51.046875 \r\nQ 24.5625 53.03125 29.640625 53.03125 \r\nQ 36.28125 53.03125 41.359375 49.609375 \r\nQ 46.4375 46.1875 49.015625 39.953125 \r\nQ 51.609375 33.734375 51.609375 26.3125 \r\nQ 51.609375 18.359375 48.75 11.984375 \r\nQ 45.90625 5.609375 40.453125 2.21875 \r\nQ 35.015625 -1.171875 29 -1.171875 \r\nQ 24.609375 -1.171875 21.109375 0.6875 \r\nQ 17.625 2.546875 15.375 5.375 \r\nL 15.375 -19.875 \r\nz\r\nM 14.546875 25.640625 \r\nQ 14.546875 15.625 18.59375 10.84375 \r\nQ 22.65625 6.0625 28.421875 6.0625 \r\nQ 34.28125 6.0625 38.453125 11.015625 \r\nQ 42.625 15.96875 42.625 26.375 \r\nQ 42.625 36.28125 38.546875 41.203125 \r\nQ 34.46875 46.140625 28.8125 46.140625 \r\nQ 23.1875 46.140625 18.859375 40.890625 \r\nQ 14.546875 35.640625 14.546875 25.640625 \r\nz\r\n\" id=\"ArialMT-112\"/>\r\n      </defs>\r\n      <g style=\"fill:#262626;\" transform=\"translate(303.904687 317.9325)rotate(-90)scale(0.11 -0.11)\">\r\n       <use xlink:href=\"#ArialMT-111\"/>\r\n       <use x=\"55.615234\" xlink:href=\"#ArialMT-112\"/>\r\n       <use x=\"111.230469\" xlink:href=\"#ArialMT-101\"/>\r\n       <use x=\"166.845703\" xlink:href=\"#ArialMT-110\"/>\r\n       <use x=\"222.460938\" xlink:href=\"#ArialMT-105\"/>\r\n       <use x=\"244.677734\" xlink:href=\"#ArialMT-110\"/>\r\n       <use x=\"300.292969\" xlink:href=\"#ArialMT-103\"/>\r\n       <use x=\"355.908203\" xlink:href=\"#ArialMT-95\"/>\r\n       <use x=\"411.523438\" xlink:href=\"#ArialMT-98\"/>\r\n       <use x=\"467.138672\" xlink:href=\"#ArialMT-97\"/>\r\n       <use x=\"522.753906\" xlink:href=\"#ArialMT-108\"/>\r\n       <use x=\"544.970703\" xlink:href=\"#ArialMT-97\"/>\r\n       <use x=\"600.585938\" xlink:href=\"#ArialMT-110\"/>\r\n       <use x=\"656.201172\" xlink:href=\"#ArialMT-99\"/>\r\n       <use x=\"706.201172\" xlink:href=\"#ArialMT-101\"/>\r\n      </g>\r\n     </g>\r\n    </g>\r\n    <g id=\"text_3\">\r\n     <!-- Column -->\r\n     <defs>\r\n      <path d=\"M 58.796875 25.09375 \r\nL 68.265625 22.703125 \r\nQ 65.28125 11.03125 57.546875 4.90625 \r\nQ 49.8125 -1.21875 38.625 -1.21875 \r\nQ 27.046875 -1.21875 19.796875 3.484375 \r\nQ 12.546875 8.203125 8.765625 17.140625 \r\nQ 4.984375 26.078125 4.984375 36.328125 \r\nQ 4.984375 47.515625 9.25 55.828125 \r\nQ 13.53125 64.15625 21.40625 68.46875 \r\nQ 29.296875 72.796875 38.765625 72.796875 \r\nQ 49.515625 72.796875 56.828125 67.328125 \r\nQ 64.15625 61.859375 67.046875 51.953125 \r\nL 57.71875 49.75 \r\nQ 55.21875 57.5625 50.484375 61.125 \r\nQ 45.75 64.703125 38.578125 64.703125 \r\nQ 30.328125 64.703125 24.78125 60.734375 \r\nQ 19.234375 56.78125 16.984375 50.109375 \r\nQ 14.75 43.453125 14.75 36.375 \r\nQ 14.75 27.25 17.40625 20.4375 \r\nQ 20.0625 13.625 25.671875 10.25 \r\nQ 31.296875 6.890625 37.84375 6.890625 \r\nQ 45.796875 6.890625 51.3125 11.46875 \r\nQ 56.84375 16.0625 58.796875 25.09375 \r\nz\r\n\" id=\"ArialMT-67\"/>\r\n      <path d=\"M 40.578125 0 \r\nL 40.578125 7.625 \r\nQ 34.515625 -1.171875 24.125 -1.171875 \r\nQ 19.53125 -1.171875 15.546875 0.578125 \r\nQ 11.578125 2.34375 9.640625 5 \r\nQ 7.71875 7.671875 6.9375 11.53125 \r\nQ 6.390625 14.109375 6.390625 19.734375 \r\nL 6.390625 51.859375 \r\nL 15.1875 51.859375 \r\nL 15.1875 23.09375 \r\nQ 15.1875 16.21875 15.71875 13.8125 \r\nQ 16.546875 10.359375 19.234375 8.375 \r\nQ 21.921875 6.390625 25.875 6.390625 \r\nQ 29.828125 6.390625 33.296875 8.421875 \r\nQ 36.765625 10.453125 38.203125 13.9375 \r\nQ 39.65625 17.4375 39.65625 24.078125 \r\nL 39.65625 51.859375 \r\nL 48.4375 51.859375 \r\nL 48.4375 0 \r\nz\r\n\" id=\"ArialMT-117\"/>\r\n      <path d=\"M 6.59375 0 \r\nL 6.59375 51.859375 \r\nL 14.453125 51.859375 \r\nL 14.453125 44.578125 \r\nQ 16.890625 48.390625 20.9375 50.703125 \r\nQ 25 53.03125 30.171875 53.03125 \r\nQ 35.9375 53.03125 39.625 50.640625 \r\nQ 43.3125 48.25 44.828125 43.953125 \r\nQ 50.984375 53.03125 60.84375 53.03125 \r\nQ 68.5625 53.03125 72.703125 48.75 \r\nQ 76.859375 44.484375 76.859375 35.59375 \r\nL 76.859375 0 \r\nL 68.109375 0 \r\nL 68.109375 32.671875 \r\nQ 68.109375 37.9375 67.25 40.25 \r\nQ 66.40625 42.578125 64.15625 43.984375 \r\nQ 61.921875 45.40625 58.890625 45.40625 \r\nQ 53.421875 45.40625 49.796875 41.765625 \r\nQ 46.1875 38.140625 46.1875 30.125 \r\nL 46.1875 0 \r\nL 37.40625 0 \r\nL 37.40625 33.6875 \r\nQ 37.40625 39.546875 35.25 42.46875 \r\nQ 33.109375 45.40625 28.21875 45.40625 \r\nQ 24.515625 45.40625 21.359375 43.453125 \r\nQ 18.21875 41.5 16.796875 37.734375 \r\nQ 15.375 33.984375 15.375 26.90625 \r\nL 15.375 0 \r\nz\r\n\" id=\"ArialMT-109\"/>\r\n     </defs>\r\n     <g style=\"fill:#262626;\" transform=\"translate(196.751719 330.521875)scale(0.12 -0.12)\">\r\n      <use xlink:href=\"#ArialMT-67\"/>\r\n      <use x=\"72.216797\" xlink:href=\"#ArialMT-111\"/>\r\n      <use x=\"127.832031\" xlink:href=\"#ArialMT-108\"/>\r\n      <use x=\"150.048828\" xlink:href=\"#ArialMT-117\"/>\r\n      <use x=\"205.664062\" xlink:href=\"#ArialMT-109\"/>\r\n      <use x=\"288.964844\" xlink:href=\"#ArialMT-110\"/>\r\n     </g>\r\n    </g>\r\n   </g>\r\n   <g id=\"matplotlib.axis_2\">\r\n    <g id=\"ytick_1\">\r\n     <g id=\"line2d_1\">\r\n      <path clip-path=\"url(#p43ff026999)\" d=\"M 50.025469 224.64 \r\nL 384.825469 224.64 \r\n\" style=\"fill:none;stroke:#cccccc;stroke-linecap:round;\"/>\r\n     </g>\r\n     <g id=\"text_4\">\r\n      <!-- 0 -->\r\n      <defs>\r\n       <path d=\"M 4.15625 35.296875 \r\nQ 4.15625 48 6.765625 55.734375 \r\nQ 9.375 63.484375 14.515625 67.671875 \r\nQ 19.671875 71.875 27.484375 71.875 \r\nQ 33.25 71.875 37.59375 69.546875 \r\nQ 41.9375 67.234375 44.765625 62.859375 \r\nQ 47.609375 58.5 49.21875 52.21875 \r\nQ 50.828125 45.953125 50.828125 35.296875 \r\nQ 50.828125 22.703125 48.234375 14.96875 \r\nQ 45.65625 7.234375 40.5 3 \r\nQ 35.359375 -1.21875 27.484375 -1.21875 \r\nQ 17.140625 -1.21875 11.234375 6.203125 \r\nQ 4.15625 15.140625 4.15625 35.296875 \r\nz\r\nM 13.1875 35.296875 \r\nQ 13.1875 17.671875 17.3125 11.828125 \r\nQ 21.4375 6 27.484375 6 \r\nQ 33.546875 6 37.671875 11.859375 \r\nQ 41.796875 17.71875 41.796875 35.296875 \r\nQ 41.796875 52.984375 37.671875 58.78125 \r\nQ 33.546875 64.59375 27.390625 64.59375 \r\nQ 21.34375 64.59375 17.71875 59.46875 \r\nQ 13.1875 52.9375 13.1875 35.296875 \r\nz\r\n\" id=\"ArialMT-48\"/>\r\n      </defs>\r\n      <g style=\"fill:#262626;\" transform=\"translate(34.408438 228.576797)scale(0.11 -0.11)\">\r\n       <use xlink:href=\"#ArialMT-48\"/>\r\n      </g>\r\n     </g>\r\n    </g>\r\n    <g id=\"ytick_2\">\r\n     <g id=\"line2d_2\">\r\n      <path clip-path=\"url(#p43ff026999)\" d=\"M 50.025469 183.222857 \r\nL 384.825469 183.222857 \r\n\" style=\"fill:none;stroke:#cccccc;stroke-linecap:round;\"/>\r\n     </g>\r\n     <g id=\"text_5\">\r\n      <!-- 20 -->\r\n      <defs>\r\n       <path d=\"M 50.34375 8.453125 \r\nL 50.34375 0 \r\nL 3.03125 0 \r\nQ 2.9375 3.171875 4.046875 6.109375 \r\nQ 5.859375 10.9375 9.828125 15.625 \r\nQ 13.8125 20.3125 21.34375 26.46875 \r\nQ 33.015625 36.03125 37.109375 41.625 \r\nQ 41.21875 47.21875 41.21875 52.203125 \r\nQ 41.21875 57.421875 37.46875 61 \r\nQ 33.734375 64.59375 27.734375 64.59375 \r\nQ 21.390625 64.59375 17.578125 60.78125 \r\nQ 13.765625 56.984375 13.71875 50.25 \r\nL 4.6875 51.171875 \r\nQ 5.609375 61.28125 11.65625 66.578125 \r\nQ 17.71875 71.875 27.9375 71.875 \r\nQ 38.234375 71.875 44.234375 66.15625 \r\nQ 50.25 60.453125 50.25 52 \r\nQ 50.25 47.703125 48.484375 43.546875 \r\nQ 46.734375 39.40625 42.65625 34.8125 \r\nQ 38.578125 30.21875 29.109375 22.21875 \r\nQ 21.1875 15.578125 18.9375 13.203125 \r\nQ 16.703125 10.84375 15.234375 8.453125 \r\nz\r\n\" id=\"ArialMT-50\"/>\r\n      </defs>\r\n      <g style=\"fill:#262626;\" transform=\"translate(28.291406 187.159654)scale(0.11 -0.11)\">\r\n       <use xlink:href=\"#ArialMT-50\"/>\r\n       <use x=\"55.615234\" xlink:href=\"#ArialMT-48\"/>\r\n      </g>\r\n     </g>\r\n    </g>\r\n    <g id=\"ytick_3\">\r\n     <g id=\"line2d_3\">\r\n      <path clip-path=\"url(#p43ff026999)\" d=\"M 50.025469 141.805714 \r\nL 384.825469 141.805714 \r\n\" style=\"fill:none;stroke:#cccccc;stroke-linecap:round;\"/>\r\n     </g>\r\n     <g id=\"text_6\">\r\n      <!-- 40 -->\r\n      <defs>\r\n       <path d=\"M 32.328125 0 \r\nL 32.328125 17.140625 \r\nL 1.265625 17.140625 \r\nL 1.265625 25.203125 \r\nL 33.9375 71.578125 \r\nL 41.109375 71.578125 \r\nL 41.109375 25.203125 \r\nL 50.78125 25.203125 \r\nL 50.78125 17.140625 \r\nL 41.109375 17.140625 \r\nL 41.109375 0 \r\nz\r\nM 32.328125 25.203125 \r\nL 32.328125 57.46875 \r\nL 9.90625 25.203125 \r\nz\r\n\" id=\"ArialMT-52\"/>\r\n      </defs>\r\n      <g style=\"fill:#262626;\" transform=\"translate(28.291406 145.742511)scale(0.11 -0.11)\">\r\n       <use xlink:href=\"#ArialMT-52\"/>\r\n       <use x=\"55.615234\" xlink:href=\"#ArialMT-48\"/>\r\n      </g>\r\n     </g>\r\n    </g>\r\n    <g id=\"ytick_4\">\r\n     <g id=\"line2d_4\">\r\n      <path clip-path=\"url(#p43ff026999)\" d=\"M 50.025469 100.388571 \r\nL 384.825469 100.388571 \r\n\" style=\"fill:none;stroke:#cccccc;stroke-linecap:round;\"/>\r\n     </g>\r\n     <g id=\"text_7\">\r\n      <!-- 60 -->\r\n      <defs>\r\n       <path d=\"M 49.75 54.046875 \r\nL 41.015625 53.375 \r\nQ 39.84375 58.546875 37.703125 60.890625 \r\nQ 34.125 64.65625 28.90625 64.65625 \r\nQ 24.703125 64.65625 21.53125 62.3125 \r\nQ 17.390625 59.28125 14.984375 53.46875 \r\nQ 12.59375 47.65625 12.5 36.921875 \r\nQ 15.671875 41.75 20.265625 44.09375 \r\nQ 24.859375 46.4375 29.890625 46.4375 \r\nQ 38.671875 46.4375 44.84375 39.96875 \r\nQ 51.03125 33.5 51.03125 23.25 \r\nQ 51.03125 16.5 48.125 10.71875 \r\nQ 45.21875 4.9375 40.140625 1.859375 \r\nQ 35.0625 -1.21875 28.609375 -1.21875 \r\nQ 17.625 -1.21875 10.6875 6.859375 \r\nQ 3.765625 14.9375 3.765625 33.5 \r\nQ 3.765625 54.25 11.421875 63.671875 \r\nQ 18.109375 71.875 29.4375 71.875 \r\nQ 37.890625 71.875 43.28125 67.140625 \r\nQ 48.6875 62.40625 49.75 54.046875 \r\nz\r\nM 13.875 23.1875 \r\nQ 13.875 18.65625 15.796875 14.5 \r\nQ 17.71875 10.359375 21.1875 8.171875 \r\nQ 24.65625 6 28.46875 6 \r\nQ 34.03125 6 38.03125 10.484375 \r\nQ 42.046875 14.984375 42.046875 22.703125 \r\nQ 42.046875 30.125 38.078125 34.390625 \r\nQ 34.125 38.671875 28.125 38.671875 \r\nQ 22.171875 38.671875 18.015625 34.390625 \r\nQ 13.875 30.125 13.875 23.1875 \r\nz\r\n\" id=\"ArialMT-54\"/>\r\n      </defs>\r\n      <g style=\"fill:#262626;\" transform=\"translate(28.291406 104.325368)scale(0.11 -0.11)\">\r\n       <use xlink:href=\"#ArialMT-54\"/>\r\n       <use x=\"55.615234\" xlink:href=\"#ArialMT-48\"/>\r\n      </g>\r\n     </g>\r\n    </g>\r\n    <g id=\"ytick_5\">\r\n     <g id=\"line2d_5\">\r\n      <path clip-path=\"url(#p43ff026999)\" d=\"M 50.025469 58.971429 \r\nL 384.825469 58.971429 \r\n\" style=\"fill:none;stroke:#cccccc;stroke-linecap:round;\"/>\r\n     </g>\r\n     <g id=\"text_8\">\r\n      <!-- 80 -->\r\n      <defs>\r\n       <path d=\"M 17.671875 38.8125 \r\nQ 12.203125 40.828125 9.5625 44.53125 \r\nQ 6.9375 48.25 6.9375 53.421875 \r\nQ 6.9375 61.234375 12.546875 66.546875 \r\nQ 18.171875 71.875 27.484375 71.875 \r\nQ 36.859375 71.875 42.578125 66.421875 \r\nQ 48.296875 60.984375 48.296875 53.171875 \r\nQ 48.296875 48.1875 45.671875 44.5 \r\nQ 43.0625 40.828125 37.75 38.8125 \r\nQ 44.34375 36.671875 47.78125 31.875 \r\nQ 51.21875 27.09375 51.21875 20.453125 \r\nQ 51.21875 11.28125 44.71875 5.03125 \r\nQ 38.234375 -1.21875 27.640625 -1.21875 \r\nQ 17.046875 -1.21875 10.546875 5.046875 \r\nQ 4.046875 11.328125 4.046875 20.703125 \r\nQ 4.046875 27.6875 7.59375 32.390625 \r\nQ 11.140625 37.109375 17.671875 38.8125 \r\nz\r\nM 15.921875 53.71875 \r\nQ 15.921875 48.640625 19.1875 45.40625 \r\nQ 22.46875 42.1875 27.6875 42.1875 \r\nQ 32.765625 42.1875 36.015625 45.375 \r\nQ 39.265625 48.578125 39.265625 53.21875 \r\nQ 39.265625 58.0625 35.90625 61.359375 \r\nQ 32.5625 64.65625 27.59375 64.65625 \r\nQ 22.5625 64.65625 19.234375 61.421875 \r\nQ 15.921875 58.203125 15.921875 53.71875 \r\nz\r\nM 13.09375 20.65625 \r\nQ 13.09375 16.890625 14.875 13.375 \r\nQ 16.65625 9.859375 20.171875 7.921875 \r\nQ 23.6875 6 27.734375 6 \r\nQ 34.03125 6 38.125 10.046875 \r\nQ 42.234375 14.109375 42.234375 20.359375 \r\nQ 42.234375 26.703125 38.015625 30.859375 \r\nQ 33.796875 35.015625 27.4375 35.015625 \r\nQ 21.234375 35.015625 17.15625 30.90625 \r\nQ 13.09375 26.8125 13.09375 20.65625 \r\nz\r\n\" id=\"ArialMT-56\"/>\r\n      </defs>\r\n      <g style=\"fill:#262626;\" transform=\"translate(28.291406 62.908225)scale(0.11 -0.11)\">\r\n       <use xlink:href=\"#ArialMT-56\"/>\r\n       <use x=\"55.615234\" xlink:href=\"#ArialMT-48\"/>\r\n      </g>\r\n     </g>\r\n    </g>\r\n    <g id=\"ytick_6\">\r\n     <g id=\"line2d_6\">\r\n      <path clip-path=\"url(#p43ff026999)\" d=\"M 50.025469 17.554286 \r\nL 384.825469 17.554286 \r\n\" style=\"fill:none;stroke:#cccccc;stroke-linecap:round;\"/>\r\n     </g>\r\n     <g id=\"text_9\">\r\n      <!-- 100 -->\r\n      <defs>\r\n       <path d=\"M 37.25 0 \r\nL 28.46875 0 \r\nL 28.46875 56 \r\nQ 25.296875 52.984375 20.140625 49.953125 \r\nQ 14.984375 46.921875 10.890625 45.40625 \r\nL 10.890625 53.90625 \r\nQ 18.265625 57.375 23.78125 62.296875 \r\nQ 29.296875 67.234375 31.59375 71.875 \r\nL 37.25 71.875 \r\nz\r\n\" id=\"ArialMT-49\"/>\r\n      </defs>\r\n      <g style=\"fill:#262626;\" transform=\"translate(22.174375 21.491083)scale(0.11 -0.11)\">\r\n       <use xlink:href=\"#ArialMT-49\"/>\r\n       <use x=\"55.615234\" xlink:href=\"#ArialMT-48\"/>\r\n       <use x=\"111.230469\" xlink:href=\"#ArialMT-48\"/>\r\n      </g>\r\n     </g>\r\n    </g>\r\n    <g id=\"text_10\">\r\n     <!-- Percentual -->\r\n     <defs>\r\n      <path d=\"M 7.71875 0 \r\nL 7.71875 71.578125 \r\nL 34.71875 71.578125 \r\nQ 41.84375 71.578125 45.609375 70.90625 \r\nQ 50.875 70.015625 54.4375 67.546875 \r\nQ 58.015625 65.09375 60.1875 60.640625 \r\nQ 62.359375 56.203125 62.359375 50.875 \r\nQ 62.359375 41.75 56.546875 35.421875 \r\nQ 50.734375 29.109375 35.546875 29.109375 \r\nL 17.1875 29.109375 \r\nL 17.1875 0 \r\nz\r\nM 17.1875 37.546875 \r\nL 35.6875 37.546875 \r\nQ 44.875 37.546875 48.734375 40.96875 \r\nQ 52.59375 44.390625 52.59375 50.59375 \r\nQ 52.59375 55.078125 50.3125 58.265625 \r\nQ 48.046875 61.46875 44.34375 62.5 \r\nQ 41.9375 63.140625 35.5 63.140625 \r\nL 17.1875 63.140625 \r\nz\r\n\" id=\"ArialMT-80\"/>\r\n      <path d=\"M 6.5 0 \r\nL 6.5 51.859375 \r\nL 14.40625 51.859375 \r\nL 14.40625 44 \r\nQ 17.4375 49.515625 20 51.265625 \r\nQ 22.5625 53.03125 25.640625 53.03125 \r\nQ 30.078125 53.03125 34.671875 50.203125 \r\nL 31.640625 42.046875 \r\nQ 28.421875 43.953125 25.203125 43.953125 \r\nQ 22.3125 43.953125 20.015625 42.21875 \r\nQ 17.71875 40.484375 16.75 37.40625 \r\nQ 15.28125 32.71875 15.28125 27.15625 \r\nL 15.28125 0 \r\nz\r\n\" id=\"ArialMT-114\"/>\r\n      <path d=\"M 25.78125 7.859375 \r\nL 27.046875 0.09375 \r\nQ 23.34375 -0.6875 20.40625 -0.6875 \r\nQ 15.625 -0.6875 12.984375 0.828125 \r\nQ 10.359375 2.34375 9.28125 4.8125 \r\nQ 8.203125 7.28125 8.203125 15.1875 \r\nL 8.203125 45.015625 \r\nL 1.765625 45.015625 \r\nL 1.765625 51.859375 \r\nL 8.203125 51.859375 \r\nL 8.203125 64.703125 \r\nL 16.9375 69.96875 \r\nL 16.9375 51.859375 \r\nL 25.78125 51.859375 \r\nL 25.78125 45.015625 \r\nL 16.9375 45.015625 \r\nL 16.9375 14.703125 \r\nQ 16.9375 10.9375 17.40625 9.859375 \r\nQ 17.875 8.796875 18.921875 8.15625 \r\nQ 19.96875 7.515625 21.921875 7.515625 \r\nQ 23.390625 7.515625 25.78125 7.859375 \r\nz\r\n\" id=\"ArialMT-116\"/>\r\n     </defs>\r\n     <g style=\"fill:#262626;\" transform=\"translate(15.789375 144.602812)rotate(-90)scale(0.12 -0.12)\">\r\n      <use xlink:href=\"#ArialMT-80\"/>\r\n      <use x=\"66.699219\" xlink:href=\"#ArialMT-101\"/>\r\n      <use x=\"122.314453\" xlink:href=\"#ArialMT-114\"/>\r\n      <use x=\"155.615234\" xlink:href=\"#ArialMT-99\"/>\r\n      <use x=\"205.615234\" xlink:href=\"#ArialMT-101\"/>\r\n      <use x=\"261.230469\" xlink:href=\"#ArialMT-110\"/>\r\n      <use x=\"316.845703\" xlink:href=\"#ArialMT-116\"/>\r\n      <use x=\"344.628906\" xlink:href=\"#ArialMT-117\"/>\r\n      <use x=\"400.244141\" xlink:href=\"#ArialMT-97\"/>\r\n      <use x=\"455.859375\" xlink:href=\"#ArialMT-108\"/>\r\n     </g>\r\n    </g>\r\n   </g>\r\n   <g id=\"patch_3\">\r\n    <path clip-path=\"url(#p43ff026999)\" d=\"M 66.765469 224.64 \r\nL 200.685469 224.64 \r\nL 200.685469 17.554286 \r\nL 66.765469 17.554286 \r\nz\r\n\" style=\"fill:#5875a4;stroke:#ffffff;stroke-linejoin:miter;\"/>\r\n   </g>\r\n   <g id=\"patch_4\">\r\n    <path clip-path=\"url(#p43ff026999)\" d=\"M 234.165469 224.64 \r\nL 368.085469 224.64 \r\nL 368.085469 17.554286 \r\nL 234.165469 17.554286 \r\nz\r\n\" style=\"fill:#cc8963;stroke:#ffffff;stroke-linejoin:miter;\"/>\r\n   </g>\r\n   <g id=\"line2d_7\">\r\n    <path clip-path=\"url(#p43ff026999)\" style=\"fill:none;stroke:#424242;stroke-linecap:round;stroke-width:2.7;\"/>\r\n   </g>\r\n   <g id=\"line2d_8\">\r\n    <path clip-path=\"url(#p43ff026999)\" style=\"fill:none;stroke:#424242;stroke-linecap:round;stroke-width:2.7;\"/>\r\n   </g>\r\n   <g id=\"patch_5\">\r\n    <path d=\"M 50.025469 224.64 \r\nL 50.025469 7.2 \r\n\" style=\"fill:none;stroke:#cccccc;stroke-linecap:square;stroke-linejoin:miter;stroke-width:1.25;\"/>\r\n   </g>\r\n   <g id=\"patch_6\">\r\n    <path d=\"M 384.825469 224.64 \r\nL 384.825469 7.2 \r\n\" style=\"fill:none;stroke:#cccccc;stroke-linecap:square;stroke-linejoin:miter;stroke-width:1.25;\"/>\r\n   </g>\r\n   <g id=\"patch_7\">\r\n    <path d=\"M 50.025469 224.64 \r\nL 384.825469 224.64 \r\n\" style=\"fill:none;stroke:#cccccc;stroke-linecap:square;stroke-linejoin:miter;stroke-width:1.25;\"/>\r\n   </g>\r\n   <g id=\"patch_8\">\r\n    <path d=\"M 50.025469 7.2 \r\nL 384.825469 7.2 \r\n\" style=\"fill:none;stroke:#cccccc;stroke-linecap:square;stroke-linejoin:miter;stroke-width:1.25;\"/>\r\n   </g>\r\n  </g>\r\n </g>\r\n <defs>\r\n  <clipPath id=\"p43ff026999\">\r\n   <rect height=\"217.44\" width=\"334.8\" x=\"50.025469\" y=\"7.2\"/>\r\n  </clipPath>\r\n </defs>\r\n</svg>\r\n",
      "image/png": "[encoded data removed]"
     },
     "metadata": {}
    },
    {
     "output_type": "stream",
     "name": "stdout",
     "text": [
      "                 Percentual           Column\nName                                        \nclosing_balance       100.0  closing_balance\nopening_balance       100.0  opening_balance\n"
     ]
    }
   ],
   "source": [
    "# Plot the percentual of opening_balance and closing_balance not Nan with budget_number Nan\n",
    "Null_budget_number = df_plans_budgets[{'opening_balance', 'closing_balance'}].loc[(df_plans_budgets['budget_number'].isna())]\n",
    "plotNotNaNValuesColums(Null_budget_number)\n",
    "\n",
    "# Deletes the records with budget_number are NaN\n",
    "#  As They are rows that represents Balance\n",
    "df_plans_budgets = df_plans_budgets.drop(df_plans_budgets[df_plans_budgets.budget_number.isna()].index)\n",
    "\n",
    "#  And keeps the ones with level3_reference_number, stated_item_name, level3_key\n",
    "#   Assigns 'Not Assigned' in columns 'level3_key','level3_reference_number', 'stated_item_name'\n",
    "#   because if budget_level3_key, level3_key are NaN\n",
    "#   Means the budget starts in level 2\n",
    "df_plans_budgets.loc[df_plans_budgets['budget_level3_key'].isnull(),['budget_level3_key', 'budget_level3_name']] = \"NA\""
   ]
  },
  {
   "cell_type": "code",
   "execution_count": 15,
   "metadata": {},
   "outputs": [
    {
     "output_type": "execute_result",
     "data": {
      "text/plain": [
       "0"
      ]
     },
     "metadata": {},
     "execution_count": 15
    }
   ],
   "source": [
    "# Check if there is any DateTime column\n",
    "df_plans_budgets.select_dtypes(include=[np.datetime64]).any().count()"
   ]
  },
  {
   "cell_type": "code",
   "execution_count": 16,
   "metadata": {},
   "outputs": [],
   "source": [
    "df_plans_budgets['plan_start_date'] = pd.to_datetime(df_plans_budgets['plan_start_date']).dt.strftime('%Y-%m-%d')\n",
    "df_plans_budgets['plan_end_date'] = pd.to_datetime(df_plans_budgets['plan_end_date']).dt.strftime('%Y-%m-%d')"
   ]
  },
  {
   "cell_type": "code",
   "execution_count": 17,
   "metadata": {},
   "outputs": [],
   "source": [
    "# Group the plans from their bugdets\n",
    "df_plans_budgets_cleased = df_plans_budgets.groupby([\"member_key\"\n",
    "                                                   , \"plan_key\"\n",
    "                                                   , \"plan_status\"\n",
    "                                                   , \"plan_start_date\"\n",
    "                                                   , \"plan_end_date\"\n",
    "                                                   , \"budget_status\"\n",
    "                                                   , \"budget_level3_name\"\n",
    "                                                   , \"budget_level3_key\" \n",
    "                                                   , \"budget_level2_key\"\n",
    "                                                   , \"budget_level2_name\"\n",
    "                                                   , \"budget_level1_key\"\n",
    "                                                   , \"budget_level1_name\"]).agg({\"budget_amount\": \"sum\"}).reset_index()                                                   "
   ]
  },
  {
   "source": [
    "### Invoice and claims dataset cleasing"
   ],
   "cell_type": "markdown",
   "metadata": {}
  },
  {
   "source": [
    "### Invoice and claims dataset From LAST ACTIVED plan"
   ],
   "cell_type": "markdown",
   "metadata": {}
  },
  {
   "cell_type": "code",
   "execution_count": 18,
   "metadata": {},
   "outputs": [
    {
     "output_type": "stream",
     "name": "stdout",
     "text": [
      "<class 'pandas.core.frame.DataFrame'>\nRangeIndex: 446540 entries, 0 to 446539\nData columns (total 15 columns):\n #   Column               Non-Null Count   Dtype  \n---  ------               --------------   -----  \n 0   member_id            446540 non-null  int64  \n 1   invoice_state        446540 non-null  object \n 2   updated_at           446540 non-null  object \n 3   invoiced_amount      445023 non-null  float64\n 4   invoice_id           446540 non-null  int64  \n 5   claim_id             446540 non-null  int64  \n 6   claim_start_date     446540 non-null  object \n 7   claim_end_date       446540 non-null  object \n 8   claim_state          446540 non-null  object \n 9   claim_funded_amount  439038 non-null  float64\n 10  claimed_units        444878 non-null  float64\n 11  claimed_unit_price   446258 non-null  float64\n 12  key                  446540 non-null  object \n 13  key.1                446540 non-null  object \n 14  key.2                446540 non-null  object \ndtypes: float64(4), int64(3), object(8)\nmemory usage: 37.5+ MB\n"
     ]
    }
   ],
   "source": [
    "# Check the dataSet fields\n",
    "invoices_claims_last_actived_all_fields.info()"
   ]
  },
  {
   "cell_type": "code",
   "execution_count": 19,
   "metadata": {},
   "outputs": [
    {
     "output_type": "execute_result",
     "data": {
      "text/plain": [
       "   member_id     invoice_state           updated_at  invoiced_amount  \\\n",
       "0         53          ALL_PAID  2021-04-06 17:31:25           378.56   \n",
       "1         53  INVOICE_REJECTED  2021-04-06 17:37:39           378.56   \n",
       "2         53  INVOICE_REJECTED  2021-04-06 17:37:39            65.55   \n",
       "3         53          ALL_PAID  2021-04-06 17:31:25           374.94   \n",
       "\n",
       "   invoice_id  claim_id claim_start_date claim_end_date      claim_state  \\\n",
       "0         955      1212       2020-05-20     2020-05-29             PAID   \n",
       "1         931      1223       2020-06-03     2020-06-12  SCHEME_REJECTED   \n",
       "2         931      1247       2020-05-03     2020-06-12  SCHEME_REJECTED   \n",
       "3         955      1251       2020-05-18     2020-05-29             PAID   \n",
       "\n",
       "   claim_funded_amount  claimed_units  claimed_unit_price  \\\n",
       "0               378.56            7.0               54.08   \n",
       "1                 0.00            7.0               54.08   \n",
       "2                 0.00           69.0                0.95   \n",
       "3               374.94            6.0               62.49   \n",
       "\n",
       "                                    key                                 key.1  \\\n",
       "0  2d001d39-754f-11ea-ade9-022376bbb7c0  7d0af71b-f597-11e9-bfb4-022d4762bb3c   \n",
       "1  2d001d39-754f-11ea-ade9-022376bbb7c0  7d0af71b-f597-11e9-bfb4-022d4762bb3c   \n",
       "2  bf133220-754f-11ea-ade9-022376bbb7c0  7d0af53b-f597-11e9-bfb4-022d4762bb3c   \n",
       "3  85e97742-754f-11ea-ade9-022376bbb7c0  7d0af71b-f597-11e9-bfb4-022d4762bb3c   \n",
       "\n",
       "                                  key.2  \n",
       "0  58745466-f597-11e9-bfb4-022d4762bb3c  \n",
       "1  58745466-f597-11e9-bfb4-022d4762bb3c  \n",
       "2  58745466-f597-11e9-bfb4-022d4762bb3c  \n",
       "3  58745466-f597-11e9-bfb4-022d4762bb3c  "
      ],
      "text/html": "<div>\n<style scoped>\n    .dataframe tbody tr th:only-of-type {\n        vertical-align: middle;\n    }\n\n    .dataframe tbody tr th {\n        vertical-align: top;\n    }\n\n    .dataframe thead th {\n        text-align: right;\n    }\n</style>\n<table border=\"1\" class=\"dataframe\">\n  <thead>\n    <tr style=\"text-align: right;\">\n      <th></th>\n      <th>member_id</th>\n      <th>invoice_state</th>\n      <th>updated_at</th>\n      <th>invoiced_amount</th>\n      <th>invoice_id</th>\n      <th>claim_id</th>\n      <th>claim_start_date</th>\n      <th>claim_end_date</th>\n      <th>claim_state</th>\n      <th>claim_funded_amount</th>\n      <th>claimed_units</th>\n      <th>claimed_unit_price</th>\n      <th>key</th>\n      <th>key.1</th>\n      <th>key.2</th>\n    </tr>\n  </thead>\n  <tbody>\n    <tr>\n      <th>0</th>\n      <td>53</td>\n      <td>ALL_PAID</td>\n      <td>2021-04-06 17:31:25</td>\n      <td>378.56</td>\n      <td>955</td>\n      <td>1212</td>\n      <td>2020-05-20</td>\n      <td>2020-05-29</td>\n      <td>PAID</td>\n      <td>378.56</td>\n      <td>7.0</td>\n      <td>54.08</td>\n      <td>2d001d39-754f-11ea-ade9-022376bbb7c0</td>\n      <td>7d0af71b-f597-11e9-bfb4-022d4762bb3c</td>\n      <td>58745466-f597-11e9-bfb4-022d4762bb3c</td>\n    </tr>\n    <tr>\n      <th>1</th>\n      <td>53</td>\n      <td>INVOICE_REJECTED</td>\n      <td>2021-04-06 17:37:39</td>\n      <td>378.56</td>\n      <td>931</td>\n      <td>1223</td>\n      <td>2020-06-03</td>\n      <td>2020-06-12</td>\n      <td>SCHEME_REJECTED</td>\n      <td>0.00</td>\n      <td>7.0</td>\n      <td>54.08</td>\n      <td>2d001d39-754f-11ea-ade9-022376bbb7c0</td>\n      <td>7d0af71b-f597-11e9-bfb4-022d4762bb3c</td>\n      <td>58745466-f597-11e9-bfb4-022d4762bb3c</td>\n    </tr>\n    <tr>\n      <th>2</th>\n      <td>53</td>\n      <td>INVOICE_REJECTED</td>\n      <td>2021-04-06 17:37:39</td>\n      <td>65.55</td>\n      <td>931</td>\n      <td>1247</td>\n      <td>2020-05-03</td>\n      <td>2020-06-12</td>\n      <td>SCHEME_REJECTED</td>\n      <td>0.00</td>\n      <td>69.0</td>\n      <td>0.95</td>\n      <td>bf133220-754f-11ea-ade9-022376bbb7c0</td>\n      <td>7d0af53b-f597-11e9-bfb4-022d4762bb3c</td>\n      <td>58745466-f597-11e9-bfb4-022d4762bb3c</td>\n    </tr>\n    <tr>\n      <th>3</th>\n      <td>53</td>\n      <td>ALL_PAID</td>\n      <td>2021-04-06 17:31:25</td>\n      <td>374.94</td>\n      <td>955</td>\n      <td>1251</td>\n      <td>2020-05-18</td>\n      <td>2020-05-29</td>\n      <td>PAID</td>\n      <td>374.94</td>\n      <td>6.0</td>\n      <td>62.49</td>\n      <td>85e97742-754f-11ea-ade9-022376bbb7c0</td>\n      <td>7d0af71b-f597-11e9-bfb4-022d4762bb3c</td>\n      <td>58745466-f597-11e9-bfb4-022d4762bb3c</td>\n    </tr>\n  </tbody>\n</table>\n</div>"
     },
     "metadata": {},
     "execution_count": 19
    }
   ],
   "source": [
    "invoices_claims_last_actived_all_fields.head(4)"
   ]
  },
  {
   "cell_type": "code",
   "execution_count": 20,
   "metadata": {},
   "outputs": [],
   "source": [
    "# Select just the fields to be used\n",
    "invoices_claims_last_actived = invoices_claims_last_actived_all_fields[{\"member_id\"\n",
    "                                                                      , \"invoice_state\"\n",
    "                                                                      , \"invoice_id\"\n",
    "                                                                      , \"updated_at\"\n",
    "                                                                      , \"claim_state\"\n",
    "                                                                      , \"claim_id\"\n",
    "                                                                      , \"key\"  \n",
    "                                                                      , \"key.1\"\n",
    "                                                                      , \"key.2\"\n",
    "                                                                      , \"claim_start_date\"\n",
    "                                                                      , \"claim_end_date\"\n",
    "                                                                      , \"claim_funded_amount\"\n",
    "                                                                      , \"invoiced_amount\"\n",
    "                                                                      , \"claimed_units\"\n",
    "                                                                      , \"claimed_unit_price\"\n",
    "                                                                     }]\n",
    "\n",
    "# Rename some dataSet colums to create a name's pattern\n",
    "invoices_claims_last_actived.rename(columns={'claim_funded_amount':'funded_amount'                                           \n",
    "                                           , 'claimed__units_price':'claimed__units_amount'  \n",
    "                                           , 'key.1':'claim_level2_key'\n",
    "                                           , 'key.2':'claim_level1_key'\n",
    "                                           , 'key':'claim_level3_key'\n",
    "                                              } , inplace = True)                  "
   ]
  },
  {
   "cell_type": "code",
   "execution_count": 21,
   "metadata": {},
   "outputs": [
    {
     "output_type": "execute_result",
     "data": {
      "text/plain": [
       "array(['PAID', 'SCHEME_REJECTED', 'NOT_CLAIMABLE', 'CANCELLED',\n",
       "       'PENDING_APPROVAL', 'PENDING_REFUND', 'REFUNDED',\n",
       "       'OPERATOR_REJECTED', 'MEMBER_REJECTED', 'PENDING_CANCELLATION',\n",
       "       'PENDING_DISBURSEMENT', 'DRAFT_CLAIM', 'PENDING_REVIEW',\n",
       "       'SCHEME_AUTHORIZED', 'OPERATOR_AUTHORIZED'], dtype=object)"
      ]
     },
     "metadata": {},
     "execution_count": 21
    }
   ],
   "source": [
    "# Check the claim_state To check whether there is any dump value\n",
    "invoices_claims_last_actived['claim_state'].unique()"
   ]
  },
  {
   "cell_type": "code",
   "execution_count": 22,
   "metadata": {},
   "outputs": [],
   "source": [
    "invoices_claims_last_actived = invoices_claims_last_actived.drop(invoices_claims_last_actived[invoices_claims_last_actived.invoice_state.isna()].index)"
   ]
  },
  {
   "cell_type": "code",
   "execution_count": 23,
   "metadata": {},
   "outputs": [
    {
     "output_type": "execute_result",
     "data": {
      "text/plain": [
       "array(['ALL_PAID', 'INVOICE_REJECTED', 'SHORT_PAID', 'CANCELLED',\n",
       "       'PENDING_APPROVAL', 'PART_PAID', 'PENDING_REFUND',\n",
       "       'FULLY_REFUNDED', 'NOT_CLAIMABLE', 'PARTIALLY_REFUNDED',\n",
       "       'PENDING_REVIEW', 'PENDING_CANCELLATION', 'PENDING_CLAIM',\n",
       "       'ALL_APPROVED', 'DEED_ERROR_REVIEW_ALL', 'DRAFT_INVOICE',\n",
       "       'SHORT_PAYMENT_APPROVED', 'PARTIALLY_APPROVED'], dtype=object)"
      ]
     },
     "metadata": {},
     "execution_count": 23
    }
   ],
   "source": [
    "# Check the claim_state To check whether there is any dump value\n",
    "invoices_claims_last_actived['invoice_state'].unique()"
   ]
  },
  {
   "cell_type": "code",
   "execution_count": 24,
   "metadata": {},
   "outputs": [
    {
     "output_type": "execute_result",
     "data": {
      "text/plain": [
       "array(['PAID', 'SCHEME_REJECTED', 'NOT_CLAIMABLE', 'CANCELLED',\n",
       "       'PENDING_APPROVAL', 'PENDING_REFUND', 'REFUNDED',\n",
       "       'OPERATOR_REJECTED', 'MEMBER_REJECTED', 'PENDING_CANCELLATION',\n",
       "       'PENDING_DISBURSEMENT', 'DRAFT_CLAIM', 'PENDING_REVIEW',\n",
       "       'SCHEME_AUTHORIZED', 'OPERATOR_AUTHORIZED'], dtype=object)"
      ]
     },
     "metadata": {},
     "execution_count": 24
    }
   ],
   "source": [
    "invoices_claims_last_actived['claim_state'].unique()"
   ]
  },
  {
   "cell_type": "code",
   "execution_count": 25,
   "metadata": {},
   "outputs": [
    {
     "output_type": "display_data",
     "data": {
      "text/plain": "<Figure size 432x288 with 1 Axes>",
      "image/svg+xml": "<?xml version=\"1.0\" encoding=\"utf-8\" standalone=\"no\"?>\r\n<!DOCTYPE svg PUBLIC \"-//W3C//DTD SVG 1.1//EN\"\r\n  \"http://www.w3.org/Graphics/SVG/1.1/DTD/svg11.dtd\">\r\n<!-- Created with matplotlib (https://matplotlib.org/) -->\r\n<svg height=\"348.025156pt\" version=\"1.1\" viewBox=\"0 0 388.964375 348.025156\" width=\"388.964375pt\" xmlns=\"http://www.w3.org/2000/svg\" xmlns:xlink=\"http://www.w3.org/1999/xlink\">\r\n <defs>\r\n  <style type=\"text/css\">\r\n*{stroke-linecap:butt;stroke-linejoin:round;}\r\n  </style>\r\n </defs>\r\n <g id=\"figure_1\">\r\n  <g id=\"patch_1\">\r\n   <path d=\"M -0 348.025156 \r\nL 388.964375 348.025156 \r\nL 388.964375 0 \r\nL -0 0 \r\nz\r\n\" style=\"fill:#ffffff;\"/>\r\n  </g>\r\n  <g id=\"axes_1\">\r\n   <g id=\"patch_2\">\r\n    <path d=\"M 46.964375 224.64 \r\nL 381.764375 224.64 \r\nL 381.764375 7.2 \r\nL 46.964375 7.2 \r\nz\r\n\" style=\"fill:#ffffff;\"/>\r\n   </g>\r\n   <g id=\"matplotlib.axis_1\">\r\n    <g id=\"xtick_1\">\r\n     <g id=\"text_1\">\r\n      <!-- claimed_unit_price -->\r\n      <defs>\r\n       <path d=\"M 40.4375 19 \r\nL 49.078125 17.875 \r\nQ 47.65625 8.9375 41.8125 3.875 \r\nQ 35.984375 -1.171875 27.484375 -1.171875 \r\nQ 16.84375 -1.171875 10.375 5.78125 \r\nQ 3.90625 12.75 3.90625 25.734375 \r\nQ 3.90625 34.125 6.6875 40.421875 \r\nQ 9.46875 46.734375 15.15625 49.875 \r\nQ 20.84375 53.03125 27.546875 53.03125 \r\nQ 35.984375 53.03125 41.359375 48.75 \r\nQ 46.734375 44.484375 48.25 36.625 \r\nL 39.703125 35.296875 \r\nQ 38.484375 40.53125 35.375 43.15625 \r\nQ 32.28125 45.796875 27.875 45.796875 \r\nQ 21.234375 45.796875 17.078125 41.03125 \r\nQ 12.9375 36.28125 12.9375 25.984375 \r\nQ 12.9375 15.53125 16.9375 10.796875 \r\nQ 20.953125 6.0625 27.390625 6.0625 \r\nQ 32.5625 6.0625 36.03125 9.234375 \r\nQ 39.5 12.40625 40.4375 19 \r\nz\r\n\" id=\"ArialMT-99\"/>\r\n       <path d=\"M 6.390625 0 \r\nL 6.390625 71.578125 \r\nL 15.1875 71.578125 \r\nL 15.1875 0 \r\nz\r\n\" id=\"ArialMT-108\"/>\r\n       <path d=\"M 40.4375 6.390625 \r\nQ 35.546875 2.25 31.03125 0.53125 \r\nQ 26.515625 -1.171875 21.34375 -1.171875 \r\nQ 12.796875 -1.171875 8.203125 3 \r\nQ 3.609375 7.171875 3.609375 13.671875 \r\nQ 3.609375 17.484375 5.34375 20.625 \r\nQ 7.078125 23.78125 9.890625 25.6875 \r\nQ 12.703125 27.59375 16.21875 28.5625 \r\nQ 18.796875 29.25 24.03125 29.890625 \r\nQ 34.671875 31.15625 39.703125 32.90625 \r\nQ 39.75 34.71875 39.75 35.203125 \r\nQ 39.75 40.578125 37.25 42.78125 \r\nQ 33.890625 45.75 27.25 45.75 \r\nQ 21.046875 45.75 18.09375 43.578125 \r\nQ 15.140625 41.40625 13.71875 35.890625 \r\nL 5.125 37.0625 \r\nQ 6.296875 42.578125 8.984375 45.96875 \r\nQ 11.671875 49.359375 16.75 51.1875 \r\nQ 21.828125 53.03125 28.515625 53.03125 \r\nQ 35.15625 53.03125 39.296875 51.46875 \r\nQ 43.453125 49.90625 45.40625 47.53125 \r\nQ 47.359375 45.171875 48.140625 41.546875 \r\nQ 48.578125 39.3125 48.578125 33.453125 \r\nL 48.578125 21.734375 \r\nQ 48.578125 9.46875 49.140625 6.21875 \r\nQ 49.703125 2.984375 51.375 0 \r\nL 42.1875 0 \r\nQ 40.828125 2.734375 40.4375 6.390625 \r\nz\r\nM 39.703125 26.03125 \r\nQ 34.90625 24.078125 25.34375 22.703125 \r\nQ 19.921875 21.921875 17.671875 20.9375 \r\nQ 15.4375 19.96875 14.203125 18.09375 \r\nQ 12.984375 16.21875 12.984375 13.921875 \r\nQ 12.984375 10.40625 15.640625 8.0625 \r\nQ 18.3125 5.71875 23.4375 5.71875 \r\nQ 28.515625 5.71875 32.46875 7.9375 \r\nQ 36.421875 10.15625 38.28125 14.015625 \r\nQ 39.703125 17 39.703125 22.796875 \r\nz\r\n\" id=\"ArialMT-97\"/>\r\n       <path d=\"M 6.640625 61.46875 \r\nL 6.640625 71.578125 \r\nL 15.4375 71.578125 \r\nL 15.4375 61.46875 \r\nz\r\nM 6.640625 0 \r\nL 6.640625 51.859375 \r\nL 15.4375 51.859375 \r\nL 15.4375 0 \r\nz\r\n\" id=\"ArialMT-105\"/>\r\n       <path d=\"M 6.59375 0 \r\nL 6.59375 51.859375 \r\nL 14.453125 51.859375 \r\nL 14.453125 44.578125 \r\nQ 16.890625 48.390625 20.9375 50.703125 \r\nQ 25 53.03125 30.171875 53.03125 \r\nQ 35.9375 53.03125 39.625 50.640625 \r\nQ 43.3125 48.25 44.828125 43.953125 \r\nQ 50.984375 53.03125 60.84375 53.03125 \r\nQ 68.5625 53.03125 72.703125 48.75 \r\nQ 76.859375 44.484375 76.859375 35.59375 \r\nL 76.859375 0 \r\nL 68.109375 0 \r\nL 68.109375 32.671875 \r\nQ 68.109375 37.9375 67.25 40.25 \r\nQ 66.40625 42.578125 64.15625 43.984375 \r\nQ 61.921875 45.40625 58.890625 45.40625 \r\nQ 53.421875 45.40625 49.796875 41.765625 \r\nQ 46.1875 38.140625 46.1875 30.125 \r\nL 46.1875 0 \r\nL 37.40625 0 \r\nL 37.40625 33.6875 \r\nQ 37.40625 39.546875 35.25 42.46875 \r\nQ 33.109375 45.40625 28.21875 45.40625 \r\nQ 24.515625 45.40625 21.359375 43.453125 \r\nQ 18.21875 41.5 16.796875 37.734375 \r\nQ 15.375 33.984375 15.375 26.90625 \r\nL 15.375 0 \r\nz\r\n\" id=\"ArialMT-109\"/>\r\n       <path d=\"M 42.09375 16.703125 \r\nL 51.171875 15.578125 \r\nQ 49.03125 7.625 43.21875 3.21875 \r\nQ 37.40625 -1.171875 28.375 -1.171875 \r\nQ 17 -1.171875 10.328125 5.828125 \r\nQ 3.65625 12.84375 3.65625 25.484375 \r\nQ 3.65625 38.578125 10.390625 45.796875 \r\nQ 17.140625 53.03125 27.875 53.03125 \r\nQ 38.28125 53.03125 44.875 45.953125 \r\nQ 51.46875 38.875 51.46875 26.03125 \r\nQ 51.46875 25.25 51.421875 23.6875 \r\nL 12.75 23.6875 \r\nQ 13.234375 15.140625 17.578125 10.59375 \r\nQ 21.921875 6.0625 28.421875 6.0625 \r\nQ 33.25 6.0625 36.671875 8.59375 \r\nQ 40.09375 11.140625 42.09375 16.703125 \r\nz\r\nM 13.234375 30.90625 \r\nL 42.1875 30.90625 \r\nQ 41.609375 37.453125 38.875 40.71875 \r\nQ 34.671875 45.796875 27.984375 45.796875 \r\nQ 21.921875 45.796875 17.796875 41.75 \r\nQ 13.671875 37.703125 13.234375 30.90625 \r\nz\r\n\" id=\"ArialMT-101\"/>\r\n       <path d=\"M 40.234375 0 \r\nL 40.234375 6.546875 \r\nQ 35.296875 -1.171875 25.734375 -1.171875 \r\nQ 19.53125 -1.171875 14.328125 2.25 \r\nQ 9.125 5.671875 6.265625 11.796875 \r\nQ 3.421875 17.921875 3.421875 25.875 \r\nQ 3.421875 33.640625 6 39.96875 \r\nQ 8.59375 46.296875 13.765625 49.65625 \r\nQ 18.953125 53.03125 25.34375 53.03125 \r\nQ 30.03125 53.03125 33.6875 51.046875 \r\nQ 37.359375 49.078125 39.65625 45.90625 \r\nL 39.65625 71.578125 \r\nL 48.390625 71.578125 \r\nL 48.390625 0 \r\nz\r\nM 12.453125 25.875 \r\nQ 12.453125 15.921875 16.640625 10.984375 \r\nQ 20.84375 6.0625 26.5625 6.0625 \r\nQ 32.328125 6.0625 36.34375 10.765625 \r\nQ 40.375 15.484375 40.375 25.140625 \r\nQ 40.375 35.796875 36.265625 40.765625 \r\nQ 32.171875 45.75 26.171875 45.75 \r\nQ 20.3125 45.75 16.375 40.96875 \r\nQ 12.453125 36.1875 12.453125 25.875 \r\nz\r\n\" id=\"ArialMT-100\"/>\r\n       <path d=\"M -1.515625 -19.875 \r\nL -1.515625 -13.53125 \r\nL 56.734375 -13.53125 \r\nL 56.734375 -19.875 \r\nz\r\n\" id=\"ArialMT-95\"/>\r\n       <path d=\"M 40.578125 0 \r\nL 40.578125 7.625 \r\nQ 34.515625 -1.171875 24.125 -1.171875 \r\nQ 19.53125 -1.171875 15.546875 0.578125 \r\nQ 11.578125 2.34375 9.640625 5 \r\nQ 7.71875 7.671875 6.9375 11.53125 \r\nQ 6.390625 14.109375 6.390625 19.734375 \r\nL 6.390625 51.859375 \r\nL 15.1875 51.859375 \r\nL 15.1875 23.09375 \r\nQ 15.1875 16.21875 15.71875 13.8125 \r\nQ 16.546875 10.359375 19.234375 8.375 \r\nQ 21.921875 6.390625 25.875 6.390625 \r\nQ 29.828125 6.390625 33.296875 8.421875 \r\nQ 36.765625 10.453125 38.203125 13.9375 \r\nQ 39.65625 17.4375 39.65625 24.078125 \r\nL 39.65625 51.859375 \r\nL 48.4375 51.859375 \r\nL 48.4375 0 \r\nz\r\n\" id=\"ArialMT-117\"/>\r\n       <path d=\"M 6.59375 0 \r\nL 6.59375 51.859375 \r\nL 14.5 51.859375 \r\nL 14.5 44.484375 \r\nQ 20.21875 53.03125 31 53.03125 \r\nQ 35.6875 53.03125 39.625 51.34375 \r\nQ 43.5625 49.65625 45.515625 46.921875 \r\nQ 47.46875 44.1875 48.25 40.4375 \r\nQ 48.734375 37.984375 48.734375 31.890625 \r\nL 48.734375 0 \r\nL 39.9375 0 \r\nL 39.9375 31.546875 \r\nQ 39.9375 36.921875 38.90625 39.578125 \r\nQ 37.890625 42.234375 35.28125 43.8125 \r\nQ 32.671875 45.40625 29.15625 45.40625 \r\nQ 23.53125 45.40625 19.453125 41.84375 \r\nQ 15.375 38.28125 15.375 28.328125 \r\nL 15.375 0 \r\nz\r\n\" id=\"ArialMT-110\"/>\r\n       <path d=\"M 25.78125 7.859375 \r\nL 27.046875 0.09375 \r\nQ 23.34375 -0.6875 20.40625 -0.6875 \r\nQ 15.625 -0.6875 12.984375 0.828125 \r\nQ 10.359375 2.34375 9.28125 4.8125 \r\nQ 8.203125 7.28125 8.203125 15.1875 \r\nL 8.203125 45.015625 \r\nL 1.765625 45.015625 \r\nL 1.765625 51.859375 \r\nL 8.203125 51.859375 \r\nL 8.203125 64.703125 \r\nL 16.9375 69.96875 \r\nL 16.9375 51.859375 \r\nL 25.78125 51.859375 \r\nL 25.78125 45.015625 \r\nL 16.9375 45.015625 \r\nL 16.9375 14.703125 \r\nQ 16.9375 10.9375 17.40625 9.859375 \r\nQ 17.875 8.796875 18.921875 8.15625 \r\nQ 19.96875 7.515625 21.921875 7.515625 \r\nQ 23.390625 7.515625 25.78125 7.859375 \r\nz\r\n\" id=\"ArialMT-116\"/>\r\n       <path d=\"M 6.59375 -19.875 \r\nL 6.59375 51.859375 \r\nL 14.59375 51.859375 \r\nL 14.59375 45.125 \r\nQ 17.4375 49.078125 21 51.046875 \r\nQ 24.5625 53.03125 29.640625 53.03125 \r\nQ 36.28125 53.03125 41.359375 49.609375 \r\nQ 46.4375 46.1875 49.015625 39.953125 \r\nQ 51.609375 33.734375 51.609375 26.3125 \r\nQ 51.609375 18.359375 48.75 11.984375 \r\nQ 45.90625 5.609375 40.453125 2.21875 \r\nQ 35.015625 -1.171875 29 -1.171875 \r\nQ 24.609375 -1.171875 21.109375 0.6875 \r\nQ 17.625 2.546875 15.375 5.375 \r\nL 15.375 -19.875 \r\nz\r\nM 14.546875 25.640625 \r\nQ 14.546875 15.625 18.59375 10.84375 \r\nQ 22.65625 6.0625 28.421875 6.0625 \r\nQ 34.28125 6.0625 38.453125 11.015625 \r\nQ 42.625 15.96875 42.625 26.375 \r\nQ 42.625 36.28125 38.546875 41.203125 \r\nQ 34.46875 46.140625 28.8125 46.140625 \r\nQ 23.1875 46.140625 18.859375 40.890625 \r\nQ 14.546875 35.640625 14.546875 25.640625 \r\nz\r\n\" id=\"ArialMT-112\"/>\r\n       <path d=\"M 6.5 0 \r\nL 6.5 51.859375 \r\nL 14.40625 51.859375 \r\nL 14.40625 44 \r\nQ 17.4375 49.515625 20 51.265625 \r\nQ 22.5625 53.03125 25.640625 53.03125 \r\nQ 30.078125 53.03125 34.671875 50.203125 \r\nL 31.640625 42.046875 \r\nQ 28.421875 43.953125 25.203125 43.953125 \r\nQ 22.3125 43.953125 20.015625 42.21875 \r\nQ 17.71875 40.484375 16.75 37.40625 \r\nQ 15.28125 32.71875 15.28125 27.15625 \r\nL 15.28125 0 \r\nz\r\n\" id=\"ArialMT-114\"/>\r\n      </defs>\r\n      <g style=\"fill:#262626;\" transform=\"translate(91.658047 325.850781)rotate(-90)scale(0.11 -0.11)\">\r\n       <use xlink:href=\"#ArialMT-99\"/>\r\n       <use x=\"50\" xlink:href=\"#ArialMT-108\"/>\r\n       <use x=\"72.216797\" xlink:href=\"#ArialMT-97\"/>\r\n       <use x=\"127.832031\" xlink:href=\"#ArialMT-105\"/>\r\n       <use x=\"150.048828\" xlink:href=\"#ArialMT-109\"/>\r\n       <use x=\"233.349609\" xlink:href=\"#ArialMT-101\"/>\r\n       <use x=\"288.964844\" xlink:href=\"#ArialMT-100\"/>\r\n       <use x=\"344.580078\" xlink:href=\"#ArialMT-95\"/>\r\n       <use x=\"400.195312\" xlink:href=\"#ArialMT-117\"/>\r\n       <use x=\"455.810547\" xlink:href=\"#ArialMT-110\"/>\r\n       <use x=\"511.425781\" xlink:href=\"#ArialMT-105\"/>\r\n       <use x=\"533.642578\" xlink:href=\"#ArialMT-116\"/>\r\n       <use x=\"561.425781\" xlink:href=\"#ArialMT-95\"/>\r\n       <use x=\"617.041016\" xlink:href=\"#ArialMT-112\"/>\r\n       <use x=\"672.65625\" xlink:href=\"#ArialMT-114\"/>\r\n       <use x=\"705.957031\" xlink:href=\"#ArialMT-105\"/>\r\n       <use x=\"728.173828\" xlink:href=\"#ArialMT-99\"/>\r\n       <use x=\"778.173828\" xlink:href=\"#ArialMT-101\"/>\r\n      </g>\r\n     </g>\r\n    </g>\r\n    <g id=\"xtick_2\">\r\n     <g id=\"text_2\">\r\n      <!-- invoiced_amount -->\r\n      <defs>\r\n       <path d=\"M 21 0 \r\nL 1.265625 51.859375 \r\nL 10.546875 51.859375 \r\nL 21.6875 20.796875 \r\nQ 23.484375 15.765625 25 10.359375 \r\nQ 26.171875 14.453125 28.265625 20.21875 \r\nL 39.796875 51.859375 \r\nL 48.828125 51.859375 \r\nL 29.203125 0 \r\nz\r\n\" id=\"ArialMT-118\"/>\r\n       <path d=\"M 3.328125 25.921875 \r\nQ 3.328125 40.328125 11.328125 47.265625 \r\nQ 18.015625 53.03125 27.640625 53.03125 \r\nQ 38.328125 53.03125 45.109375 46.015625 \r\nQ 51.90625 39.015625 51.90625 26.65625 \r\nQ 51.90625 16.65625 48.90625 10.90625 \r\nQ 45.90625 5.171875 40.15625 2 \r\nQ 34.421875 -1.171875 27.640625 -1.171875 \r\nQ 16.75 -1.171875 10.03125 5.8125 \r\nQ 3.328125 12.796875 3.328125 25.921875 \r\nz\r\nM 12.359375 25.921875 \r\nQ 12.359375 15.96875 16.703125 11.015625 \r\nQ 21.046875 6.0625 27.640625 6.0625 \r\nQ 34.1875 6.0625 38.53125 11.03125 \r\nQ 42.875 16.015625 42.875 26.21875 \r\nQ 42.875 35.84375 38.5 40.796875 \r\nQ 34.125 45.75 27.640625 45.75 \r\nQ 21.046875 45.75 16.703125 40.8125 \r\nQ 12.359375 35.890625 12.359375 25.921875 \r\nz\r\n\" id=\"ArialMT-111\"/>\r\n      </defs>\r\n      <g style=\"fill:#262626;\" transform=\"translate(175.358047 317.3)rotate(-90)scale(0.11 -0.11)\">\r\n       <use xlink:href=\"#ArialMT-105\"/>\r\n       <use x=\"22.216797\" xlink:href=\"#ArialMT-110\"/>\r\n       <use x=\"77.832031\" xlink:href=\"#ArialMT-118\"/>\r\n       <use x=\"127.832031\" xlink:href=\"#ArialMT-111\"/>\r\n       <use x=\"183.447266\" xlink:href=\"#ArialMT-105\"/>\r\n       <use x=\"205.664062\" xlink:href=\"#ArialMT-99\"/>\r\n       <use x=\"255.664062\" xlink:href=\"#ArialMT-101\"/>\r\n       <use x=\"311.279297\" xlink:href=\"#ArialMT-100\"/>\r\n       <use x=\"366.894531\" xlink:href=\"#ArialMT-95\"/>\r\n       <use x=\"422.509766\" xlink:href=\"#ArialMT-97\"/>\r\n       <use x=\"478.125\" xlink:href=\"#ArialMT-109\"/>\r\n       <use x=\"561.425781\" xlink:href=\"#ArialMT-111\"/>\r\n       <use x=\"617.041016\" xlink:href=\"#ArialMT-117\"/>\r\n       <use x=\"672.65625\" xlink:href=\"#ArialMT-110\"/>\r\n       <use x=\"728.271484\" xlink:href=\"#ArialMT-116\"/>\r\n      </g>\r\n     </g>\r\n    </g>\r\n    <g id=\"xtick_3\">\r\n     <g id=\"text_3\">\r\n      <!-- claimed_units -->\r\n      <defs>\r\n       <path d=\"M 3.078125 15.484375 \r\nL 11.765625 16.84375 \r\nQ 12.5 11.625 15.84375 8.84375 \r\nQ 19.1875 6.0625 25.203125 6.0625 \r\nQ 31.25 6.0625 34.171875 8.515625 \r\nQ 37.109375 10.984375 37.109375 14.3125 \r\nQ 37.109375 17.28125 34.515625 19 \r\nQ 32.71875 20.171875 25.53125 21.96875 \r\nQ 15.875 24.421875 12.140625 26.203125 \r\nQ 8.40625 27.984375 6.46875 31.125 \r\nQ 4.546875 34.28125 4.546875 38.09375 \r\nQ 4.546875 41.546875 6.125 44.5 \r\nQ 7.71875 47.46875 10.453125 49.421875 \r\nQ 12.5 50.921875 16.03125 51.96875 \r\nQ 19.578125 53.03125 23.640625 53.03125 \r\nQ 29.734375 53.03125 34.34375 51.265625 \r\nQ 38.96875 49.515625 41.15625 46.5 \r\nQ 43.359375 43.5 44.1875 38.484375 \r\nL 35.59375 37.3125 \r\nQ 35.015625 41.3125 32.203125 43.546875 \r\nQ 29.390625 45.796875 24.265625 45.796875 \r\nQ 18.21875 45.796875 15.625 43.796875 \r\nQ 13.03125 41.796875 13.03125 39.109375 \r\nQ 13.03125 37.40625 14.109375 36.03125 \r\nQ 15.1875 34.625 17.484375 33.6875 \r\nQ 18.796875 33.203125 25.25 31.453125 \r\nQ 34.578125 28.953125 38.25 27.359375 \r\nQ 41.9375 25.78125 44.03125 22.75 \r\nQ 46.140625 19.734375 46.140625 15.234375 \r\nQ 46.140625 10.84375 43.578125 6.953125 \r\nQ 41.015625 3.078125 36.171875 0.953125 \r\nQ 31.34375 -1.171875 25.25 -1.171875 \r\nQ 15.140625 -1.171875 9.84375 3.03125 \r\nQ 4.546875 7.234375 3.078125 15.484375 \r\nz\r\n\" id=\"ArialMT-115\"/>\r\n      </defs>\r\n      <g style=\"fill:#262626;\" transform=\"translate(259.058047 301.392969)rotate(-90)scale(0.11 -0.11)\">\r\n       <use xlink:href=\"#ArialMT-99\"/>\r\n       <use x=\"50\" xlink:href=\"#ArialMT-108\"/>\r\n       <use x=\"72.216797\" xlink:href=\"#ArialMT-97\"/>\r\n       <use x=\"127.832031\" xlink:href=\"#ArialMT-105\"/>\r\n       <use x=\"150.048828\" xlink:href=\"#ArialMT-109\"/>\r\n       <use x=\"233.349609\" xlink:href=\"#ArialMT-101\"/>\r\n       <use x=\"288.964844\" xlink:href=\"#ArialMT-100\"/>\r\n       <use x=\"344.580078\" xlink:href=\"#ArialMT-95\"/>\r\n       <use x=\"400.195312\" xlink:href=\"#ArialMT-117\"/>\r\n       <use x=\"455.810547\" xlink:href=\"#ArialMT-110\"/>\r\n       <use x=\"511.425781\" xlink:href=\"#ArialMT-105\"/>\r\n       <use x=\"533.642578\" xlink:href=\"#ArialMT-116\"/>\r\n       <use x=\"561.425781\" xlink:href=\"#ArialMT-115\"/>\r\n      </g>\r\n     </g>\r\n    </g>\r\n    <g id=\"xtick_4\">\r\n     <g id=\"text_4\">\r\n      <!-- funded_amount -->\r\n      <defs>\r\n       <path d=\"M 8.6875 0 \r\nL 8.6875 45.015625 \r\nL 0.921875 45.015625 \r\nL 0.921875 51.859375 \r\nL 8.6875 51.859375 \r\nL 8.6875 57.375 \r\nQ 8.6875 62.59375 9.625 65.140625 \r\nQ 10.890625 68.5625 14.078125 70.671875 \r\nQ 17.28125 72.796875 23.046875 72.796875 \r\nQ 26.765625 72.796875 31.25 71.921875 \r\nL 29.9375 64.265625 \r\nQ 27.203125 64.75 24.75 64.75 \r\nQ 20.75 64.75 19.09375 63.03125 \r\nQ 17.4375 61.328125 17.4375 56.640625 \r\nL 17.4375 51.859375 \r\nL 27.546875 51.859375 \r\nL 27.546875 45.015625 \r\nL 17.4375 45.015625 \r\nL 17.4375 0 \r\nz\r\n\" id=\"ArialMT-102\"/>\r\n      </defs>\r\n      <g style=\"fill:#262626;\" transform=\"translate(342.825078 310.584844)rotate(-90)scale(0.11 -0.11)\">\r\n       <use xlink:href=\"#ArialMT-102\"/>\r\n       <use x=\"27.783203\" xlink:href=\"#ArialMT-117\"/>\r\n       <use x=\"83.398438\" xlink:href=\"#ArialMT-110\"/>\r\n       <use x=\"139.013672\" xlink:href=\"#ArialMT-100\"/>\r\n       <use x=\"194.628906\" xlink:href=\"#ArialMT-101\"/>\r\n       <use x=\"250.244141\" xlink:href=\"#ArialMT-100\"/>\r\n       <use x=\"305.859375\" xlink:href=\"#ArialMT-95\"/>\r\n       <use x=\"361.474609\" xlink:href=\"#ArialMT-97\"/>\r\n       <use x=\"417.089844\" xlink:href=\"#ArialMT-109\"/>\r\n       <use x=\"500.390625\" xlink:href=\"#ArialMT-111\"/>\r\n       <use x=\"556.005859\" xlink:href=\"#ArialMT-117\"/>\r\n       <use x=\"611.621094\" xlink:href=\"#ArialMT-110\"/>\r\n       <use x=\"667.236328\" xlink:href=\"#ArialMT-116\"/>\r\n      </g>\r\n     </g>\r\n    </g>\r\n    <g id=\"text_5\">\r\n     <!-- Column -->\r\n     <defs>\r\n      <path d=\"M 58.796875 25.09375 \r\nL 68.265625 22.703125 \r\nQ 65.28125 11.03125 57.546875 4.90625 \r\nQ 49.8125 -1.21875 38.625 -1.21875 \r\nQ 27.046875 -1.21875 19.796875 3.484375 \r\nQ 12.546875 8.203125 8.765625 17.140625 \r\nQ 4.984375 26.078125 4.984375 36.328125 \r\nQ 4.984375 47.515625 9.25 55.828125 \r\nQ 13.53125 64.15625 21.40625 68.46875 \r\nQ 29.296875 72.796875 38.765625 72.796875 \r\nQ 49.515625 72.796875 56.828125 67.328125 \r\nQ 64.15625 61.859375 67.046875 51.953125 \r\nL 57.71875 49.75 \r\nQ 55.21875 57.5625 50.484375 61.125 \r\nQ 45.75 64.703125 38.578125 64.703125 \r\nQ 30.328125 64.703125 24.78125 60.734375 \r\nQ 19.234375 56.78125 16.984375 50.109375 \r\nQ 14.75 43.453125 14.75 36.375 \r\nQ 14.75 27.25 17.40625 20.4375 \r\nQ 20.0625 13.625 25.671875 10.25 \r\nQ 31.296875 6.890625 37.84375 6.890625 \r\nQ 45.796875 6.890625 51.3125 11.46875 \r\nQ 56.84375 16.0625 58.796875 25.09375 \r\nz\r\n\" id=\"ArialMT-67\"/>\r\n     </defs>\r\n     <g style=\"fill:#262626;\" transform=\"translate(193.690625 338.440156)scale(0.12 -0.12)\">\r\n      <use xlink:href=\"#ArialMT-67\"/>\r\n      <use x=\"72.216797\" xlink:href=\"#ArialMT-111\"/>\r\n      <use x=\"127.832031\" xlink:href=\"#ArialMT-108\"/>\r\n      <use x=\"150.048828\" xlink:href=\"#ArialMT-117\"/>\r\n      <use x=\"205.664062\" xlink:href=\"#ArialMT-109\"/>\r\n      <use x=\"288.964844\" xlink:href=\"#ArialMT-110\"/>\r\n     </g>\r\n    </g>\r\n   </g>\r\n   <g id=\"matplotlib.axis_2\">\r\n    <g id=\"ytick_1\">\r\n     <g id=\"line2d_1\">\r\n      <path clip-path=\"url(#pbfa21b7b7e)\" d=\"M 46.964375 224.64 \r\nL 381.764375 224.64 \r\n\" style=\"fill:none;stroke:#cccccc;stroke-linecap:round;\"/>\r\n     </g>\r\n     <g id=\"text_6\">\r\n      <!-- 0.0 -->\r\n      <defs>\r\n       <path d=\"M 4.15625 35.296875 \r\nQ 4.15625 48 6.765625 55.734375 \r\nQ 9.375 63.484375 14.515625 67.671875 \r\nQ 19.671875 71.875 27.484375 71.875 \r\nQ 33.25 71.875 37.59375 69.546875 \r\nQ 41.9375 67.234375 44.765625 62.859375 \r\nQ 47.609375 58.5 49.21875 52.21875 \r\nQ 50.828125 45.953125 50.828125 35.296875 \r\nQ 50.828125 22.703125 48.234375 14.96875 \r\nQ 45.65625 7.234375 40.5 3 \r\nQ 35.359375 -1.21875 27.484375 -1.21875 \r\nQ 17.140625 -1.21875 11.234375 6.203125 \r\nQ 4.15625 15.140625 4.15625 35.296875 \r\nz\r\nM 13.1875 35.296875 \r\nQ 13.1875 17.671875 17.3125 11.828125 \r\nQ 21.4375 6 27.484375 6 \r\nQ 33.546875 6 37.671875 11.859375 \r\nQ 41.796875 17.71875 41.796875 35.296875 \r\nQ 41.796875 52.984375 37.671875 58.78125 \r\nQ 33.546875 64.59375 27.390625 64.59375 \r\nQ 21.34375 64.59375 17.71875 59.46875 \r\nQ 13.1875 52.9375 13.1875 35.296875 \r\nz\r\n\" id=\"ArialMT-48\"/>\r\n       <path d=\"M 9.078125 0 \r\nL 9.078125 10.015625 \r\nL 19.09375 10.015625 \r\nL 19.09375 0 \r\nz\r\n\" id=\"ArialMT-46\"/>\r\n      </defs>\r\n      <g style=\"fill:#262626;\" transform=\"translate(22.174375 228.576797)scale(0.11 -0.11)\">\r\n       <use xlink:href=\"#ArialMT-48\"/>\r\n       <use x=\"55.615234\" xlink:href=\"#ArialMT-46\"/>\r\n       <use x=\"83.398438\" xlink:href=\"#ArialMT-48\"/>\r\n      </g>\r\n     </g>\r\n    </g>\r\n    <g id=\"ytick_2\">\r\n     <g id=\"line2d_2\">\r\n      <path clip-path=\"url(#pbfa21b7b7e)\" d=\"M 46.964375 199.987359 \r\nL 381.764375 199.987359 \r\n\" style=\"fill:none;stroke:#cccccc;stroke-linecap:round;\"/>\r\n     </g>\r\n     <g id=\"text_7\">\r\n      <!-- 0.2 -->\r\n      <defs>\r\n       <path d=\"M 50.34375 8.453125 \r\nL 50.34375 0 \r\nL 3.03125 0 \r\nQ 2.9375 3.171875 4.046875 6.109375 \r\nQ 5.859375 10.9375 9.828125 15.625 \r\nQ 13.8125 20.3125 21.34375 26.46875 \r\nQ 33.015625 36.03125 37.109375 41.625 \r\nQ 41.21875 47.21875 41.21875 52.203125 \r\nQ 41.21875 57.421875 37.46875 61 \r\nQ 33.734375 64.59375 27.734375 64.59375 \r\nQ 21.390625 64.59375 17.578125 60.78125 \r\nQ 13.765625 56.984375 13.71875 50.25 \r\nL 4.6875 51.171875 \r\nQ 5.609375 61.28125 11.65625 66.578125 \r\nQ 17.71875 71.875 27.9375 71.875 \r\nQ 38.234375 71.875 44.234375 66.15625 \r\nQ 50.25 60.453125 50.25 52 \r\nQ 50.25 47.703125 48.484375 43.546875 \r\nQ 46.734375 39.40625 42.65625 34.8125 \r\nQ 38.578125 30.21875 29.109375 22.21875 \r\nQ 21.1875 15.578125 18.9375 13.203125 \r\nQ 16.703125 10.84375 15.234375 8.453125 \r\nz\r\n\" id=\"ArialMT-50\"/>\r\n      </defs>\r\n      <g style=\"fill:#262626;\" transform=\"translate(22.174375 203.924156)scale(0.11 -0.11)\">\r\n       <use xlink:href=\"#ArialMT-48\"/>\r\n       <use x=\"55.615234\" xlink:href=\"#ArialMT-46\"/>\r\n       <use x=\"83.398438\" xlink:href=\"#ArialMT-50\"/>\r\n      </g>\r\n     </g>\r\n    </g>\r\n    <g id=\"ytick_3\">\r\n     <g id=\"line2d_3\">\r\n      <path clip-path=\"url(#pbfa21b7b7e)\" d=\"M 46.964375 175.334719 \r\nL 381.764375 175.334719 \r\n\" style=\"fill:none;stroke:#cccccc;stroke-linecap:round;\"/>\r\n     </g>\r\n     <g id=\"text_8\">\r\n      <!-- 0.4 -->\r\n      <defs>\r\n       <path d=\"M 32.328125 0 \r\nL 32.328125 17.140625 \r\nL 1.265625 17.140625 \r\nL 1.265625 25.203125 \r\nL 33.9375 71.578125 \r\nL 41.109375 71.578125 \r\nL 41.109375 25.203125 \r\nL 50.78125 25.203125 \r\nL 50.78125 17.140625 \r\nL 41.109375 17.140625 \r\nL 41.109375 0 \r\nz\r\nM 32.328125 25.203125 \r\nL 32.328125 57.46875 \r\nL 9.90625 25.203125 \r\nz\r\n\" id=\"ArialMT-52\"/>\r\n      </defs>\r\n      <g style=\"fill:#262626;\" transform=\"translate(22.174375 179.271516)scale(0.11 -0.11)\">\r\n       <use xlink:href=\"#ArialMT-48\"/>\r\n       <use x=\"55.615234\" xlink:href=\"#ArialMT-46\"/>\r\n       <use x=\"83.398438\" xlink:href=\"#ArialMT-52\"/>\r\n      </g>\r\n     </g>\r\n    </g>\r\n    <g id=\"ytick_4\">\r\n     <g id=\"line2d_4\">\r\n      <path clip-path=\"url(#pbfa21b7b7e)\" d=\"M 46.964375 150.682078 \r\nL 381.764375 150.682078 \r\n\" style=\"fill:none;stroke:#cccccc;stroke-linecap:round;\"/>\r\n     </g>\r\n     <g id=\"text_9\">\r\n      <!-- 0.6 -->\r\n      <defs>\r\n       <path d=\"M 49.75 54.046875 \r\nL 41.015625 53.375 \r\nQ 39.84375 58.546875 37.703125 60.890625 \r\nQ 34.125 64.65625 28.90625 64.65625 \r\nQ 24.703125 64.65625 21.53125 62.3125 \r\nQ 17.390625 59.28125 14.984375 53.46875 \r\nQ 12.59375 47.65625 12.5 36.921875 \r\nQ 15.671875 41.75 20.265625 44.09375 \r\nQ 24.859375 46.4375 29.890625 46.4375 \r\nQ 38.671875 46.4375 44.84375 39.96875 \r\nQ 51.03125 33.5 51.03125 23.25 \r\nQ 51.03125 16.5 48.125 10.71875 \r\nQ 45.21875 4.9375 40.140625 1.859375 \r\nQ 35.0625 -1.21875 28.609375 -1.21875 \r\nQ 17.625 -1.21875 10.6875 6.859375 \r\nQ 3.765625 14.9375 3.765625 33.5 \r\nQ 3.765625 54.25 11.421875 63.671875 \r\nQ 18.109375 71.875 29.4375 71.875 \r\nQ 37.890625 71.875 43.28125 67.140625 \r\nQ 48.6875 62.40625 49.75 54.046875 \r\nz\r\nM 13.875 23.1875 \r\nQ 13.875 18.65625 15.796875 14.5 \r\nQ 17.71875 10.359375 21.1875 8.171875 \r\nQ 24.65625 6 28.46875 6 \r\nQ 34.03125 6 38.03125 10.484375 \r\nQ 42.046875 14.984375 42.046875 22.703125 \r\nQ 42.046875 30.125 38.078125 34.390625 \r\nQ 34.125 38.671875 28.125 38.671875 \r\nQ 22.171875 38.671875 18.015625 34.390625 \r\nQ 13.875 30.125 13.875 23.1875 \r\nz\r\n\" id=\"ArialMT-54\"/>\r\n      </defs>\r\n      <g style=\"fill:#262626;\" transform=\"translate(22.174375 154.618875)scale(0.11 -0.11)\">\r\n       <use xlink:href=\"#ArialMT-48\"/>\r\n       <use x=\"55.615234\" xlink:href=\"#ArialMT-46\"/>\r\n       <use x=\"83.398438\" xlink:href=\"#ArialMT-54\"/>\r\n      </g>\r\n     </g>\r\n    </g>\r\n    <g id=\"ytick_5\">\r\n     <g id=\"line2d_5\">\r\n      <path clip-path=\"url(#pbfa21b7b7e)\" d=\"M 46.964375 126.029438 \r\nL 381.764375 126.029438 \r\n\" style=\"fill:none;stroke:#cccccc;stroke-linecap:round;\"/>\r\n     </g>\r\n     <g id=\"text_10\">\r\n      <!-- 0.8 -->\r\n      <defs>\r\n       <path d=\"M 17.671875 38.8125 \r\nQ 12.203125 40.828125 9.5625 44.53125 \r\nQ 6.9375 48.25 6.9375 53.421875 \r\nQ 6.9375 61.234375 12.546875 66.546875 \r\nQ 18.171875 71.875 27.484375 71.875 \r\nQ 36.859375 71.875 42.578125 66.421875 \r\nQ 48.296875 60.984375 48.296875 53.171875 \r\nQ 48.296875 48.1875 45.671875 44.5 \r\nQ 43.0625 40.828125 37.75 38.8125 \r\nQ 44.34375 36.671875 47.78125 31.875 \r\nQ 51.21875 27.09375 51.21875 20.453125 \r\nQ 51.21875 11.28125 44.71875 5.03125 \r\nQ 38.234375 -1.21875 27.640625 -1.21875 \r\nQ 17.046875 -1.21875 10.546875 5.046875 \r\nQ 4.046875 11.328125 4.046875 20.703125 \r\nQ 4.046875 27.6875 7.59375 32.390625 \r\nQ 11.140625 37.109375 17.671875 38.8125 \r\nz\r\nM 15.921875 53.71875 \r\nQ 15.921875 48.640625 19.1875 45.40625 \r\nQ 22.46875 42.1875 27.6875 42.1875 \r\nQ 32.765625 42.1875 36.015625 45.375 \r\nQ 39.265625 48.578125 39.265625 53.21875 \r\nQ 39.265625 58.0625 35.90625 61.359375 \r\nQ 32.5625 64.65625 27.59375 64.65625 \r\nQ 22.5625 64.65625 19.234375 61.421875 \r\nQ 15.921875 58.203125 15.921875 53.71875 \r\nz\r\nM 13.09375 20.65625 \r\nQ 13.09375 16.890625 14.875 13.375 \r\nQ 16.65625 9.859375 20.171875 7.921875 \r\nQ 23.6875 6 27.734375 6 \r\nQ 34.03125 6 38.125 10.046875 \r\nQ 42.234375 14.109375 42.234375 20.359375 \r\nQ 42.234375 26.703125 38.015625 30.859375 \r\nQ 33.796875 35.015625 27.4375 35.015625 \r\nQ 21.234375 35.015625 17.15625 30.90625 \r\nQ 13.09375 26.8125 13.09375 20.65625 \r\nz\r\n\" id=\"ArialMT-56\"/>\r\n      </defs>\r\n      <g style=\"fill:#262626;\" transform=\"translate(22.174375 129.966235)scale(0.11 -0.11)\">\r\n       <use xlink:href=\"#ArialMT-48\"/>\r\n       <use x=\"55.615234\" xlink:href=\"#ArialMT-46\"/>\r\n       <use x=\"83.398438\" xlink:href=\"#ArialMT-56\"/>\r\n      </g>\r\n     </g>\r\n    </g>\r\n    <g id=\"ytick_6\">\r\n     <g id=\"line2d_6\">\r\n      <path clip-path=\"url(#pbfa21b7b7e)\" d=\"M 46.964375 101.376797 \r\nL 381.764375 101.376797 \r\n\" style=\"fill:none;stroke:#cccccc;stroke-linecap:round;\"/>\r\n     </g>\r\n     <g id=\"text_11\">\r\n      <!-- 1.0 -->\r\n      <defs>\r\n       <path d=\"M 37.25 0 \r\nL 28.46875 0 \r\nL 28.46875 56 \r\nQ 25.296875 52.984375 20.140625 49.953125 \r\nQ 14.984375 46.921875 10.890625 45.40625 \r\nL 10.890625 53.90625 \r\nQ 18.265625 57.375 23.78125 62.296875 \r\nQ 29.296875 67.234375 31.59375 71.875 \r\nL 37.25 71.875 \r\nz\r\n\" id=\"ArialMT-49\"/>\r\n      </defs>\r\n      <g style=\"fill:#262626;\" transform=\"translate(22.174375 105.313594)scale(0.11 -0.11)\">\r\n       <use xlink:href=\"#ArialMT-49\"/>\r\n       <use x=\"55.615234\" xlink:href=\"#ArialMT-46\"/>\r\n       <use x=\"83.398438\" xlink:href=\"#ArialMT-48\"/>\r\n      </g>\r\n     </g>\r\n    </g>\r\n    <g id=\"ytick_7\">\r\n     <g id=\"line2d_7\">\r\n      <path clip-path=\"url(#pbfa21b7b7e)\" d=\"M 46.964375 76.724156 \r\nL 381.764375 76.724156 \r\n\" style=\"fill:none;stroke:#cccccc;stroke-linecap:round;\"/>\r\n     </g>\r\n     <g id=\"text_12\">\r\n      <!-- 1.2 -->\r\n      <g style=\"fill:#262626;\" transform=\"translate(22.174375 80.660953)scale(0.11 -0.11)\">\r\n       <use xlink:href=\"#ArialMT-49\"/>\r\n       <use x=\"55.615234\" xlink:href=\"#ArialMT-46\"/>\r\n       <use x=\"83.398438\" xlink:href=\"#ArialMT-50\"/>\r\n      </g>\r\n     </g>\r\n    </g>\r\n    <g id=\"ytick_8\">\r\n     <g id=\"line2d_8\">\r\n      <path clip-path=\"url(#pbfa21b7b7e)\" d=\"M 46.964375 52.071516 \r\nL 381.764375 52.071516 \r\n\" style=\"fill:none;stroke:#cccccc;stroke-linecap:round;\"/>\r\n     </g>\r\n     <g id=\"text_13\">\r\n      <!-- 1.4 -->\r\n      <g style=\"fill:#262626;\" transform=\"translate(22.174375 56.008313)scale(0.11 -0.11)\">\r\n       <use xlink:href=\"#ArialMT-49\"/>\r\n       <use x=\"55.615234\" xlink:href=\"#ArialMT-46\"/>\r\n       <use x=\"83.398438\" xlink:href=\"#ArialMT-52\"/>\r\n      </g>\r\n     </g>\r\n    </g>\r\n    <g id=\"ytick_9\">\r\n     <g id=\"line2d_9\">\r\n      <path clip-path=\"url(#pbfa21b7b7e)\" d=\"M 46.964375 27.418875 \r\nL 381.764375 27.418875 \r\n\" style=\"fill:none;stroke:#cccccc;stroke-linecap:round;\"/>\r\n     </g>\r\n     <g id=\"text_14\">\r\n      <!-- 1.6 -->\r\n      <g style=\"fill:#262626;\" transform=\"translate(22.174375 31.355672)scale(0.11 -0.11)\">\r\n       <use xlink:href=\"#ArialMT-49\"/>\r\n       <use x=\"55.615234\" xlink:href=\"#ArialMT-46\"/>\r\n       <use x=\"83.398438\" xlink:href=\"#ArialMT-54\"/>\r\n      </g>\r\n     </g>\r\n    </g>\r\n    <g id=\"text_15\">\r\n     <!-- Percentual -->\r\n     <defs>\r\n      <path d=\"M 7.71875 0 \r\nL 7.71875 71.578125 \r\nL 34.71875 71.578125 \r\nQ 41.84375 71.578125 45.609375 70.90625 \r\nQ 50.875 70.015625 54.4375 67.546875 \r\nQ 58.015625 65.09375 60.1875 60.640625 \r\nQ 62.359375 56.203125 62.359375 50.875 \r\nQ 62.359375 41.75 56.546875 35.421875 \r\nQ 50.734375 29.109375 35.546875 29.109375 \r\nL 17.1875 29.109375 \r\nL 17.1875 0 \r\nz\r\nM 17.1875 37.546875 \r\nL 35.6875 37.546875 \r\nQ 44.875 37.546875 48.734375 40.96875 \r\nQ 52.59375 44.390625 52.59375 50.59375 \r\nQ 52.59375 55.078125 50.3125 58.265625 \r\nQ 48.046875 61.46875 44.34375 62.5 \r\nQ 41.9375 63.140625 35.5 63.140625 \r\nL 17.1875 63.140625 \r\nz\r\n\" id=\"ArialMT-80\"/>\r\n     </defs>\r\n     <g style=\"fill:#262626;\" transform=\"translate(15.789375 144.602813)rotate(-90)scale(0.12 -0.12)\">\r\n      <use xlink:href=\"#ArialMT-80\"/>\r\n      <use x=\"66.699219\" xlink:href=\"#ArialMT-101\"/>\r\n      <use x=\"122.314453\" xlink:href=\"#ArialMT-114\"/>\r\n      <use x=\"155.615234\" xlink:href=\"#ArialMT-99\"/>\r\n      <use x=\"205.615234\" xlink:href=\"#ArialMT-101\"/>\r\n      <use x=\"261.230469\" xlink:href=\"#ArialMT-110\"/>\r\n      <use x=\"316.845703\" xlink:href=\"#ArialMT-116\"/>\r\n      <use x=\"344.628906\" xlink:href=\"#ArialMT-117\"/>\r\n      <use x=\"400.244141\" xlink:href=\"#ArialMT-97\"/>\r\n      <use x=\"455.859375\" xlink:href=\"#ArialMT-108\"/>\r\n     </g>\r\n    </g>\r\n   </g>\r\n   <g id=\"patch_3\">\r\n    <path clip-path=\"url(#pbfa21b7b7e)\" d=\"M 55.334375 224.64 \r\nL 122.294375 224.64 \r\nL 122.294375 216.855653 \r\nL 55.334375 216.855653 \r\nz\r\n\" style=\"fill:#5875a4;stroke:#ffffff;stroke-linejoin:miter;\"/>\r\n   </g>\r\n   <g id=\"patch_4\">\r\n    <path clip-path=\"url(#pbfa21b7b7e)\" d=\"M 139.034375 224.64 \r\nL 205.994375 224.64 \r\nL 205.994375 182.76463 \r\nL 139.034375 182.76463 \r\nz\r\n\" style=\"fill:#cc8963;stroke:#ffffff;stroke-linejoin:miter;\"/>\r\n   </g>\r\n   <g id=\"patch_5\">\r\n    <path clip-path=\"url(#pbfa21b7b7e)\" d=\"M 222.734375 224.64 \r\nL 289.694375 224.64 \r\nL 289.694375 178.76204 \r\nL 222.734375 178.76204 \r\nz\r\n\" style=\"fill:#5f9e6e;stroke:#ffffff;stroke-linejoin:miter;\"/>\r\n   </g>\r\n   <g id=\"patch_6\">\r\n    <path clip-path=\"url(#pbfa21b7b7e)\" d=\"M 306.434375 224.64 \r\nL 373.394375 224.64 \r\nL 373.394375 17.554286 \r\nL 306.434375 17.554286 \r\nz\r\n\" style=\"fill:#b55d60;stroke:#ffffff;stroke-linejoin:miter;\"/>\r\n   </g>\r\n   <g id=\"line2d_10\">\r\n    <path clip-path=\"url(#pbfa21b7b7e)\" style=\"fill:none;stroke:#424242;stroke-linecap:round;stroke-width:2.7;\"/>\r\n   </g>\r\n   <g id=\"line2d_11\">\r\n    <path clip-path=\"url(#pbfa21b7b7e)\" style=\"fill:none;stroke:#424242;stroke-linecap:round;stroke-width:2.7;\"/>\r\n   </g>\r\n   <g id=\"line2d_12\">\r\n    <path clip-path=\"url(#pbfa21b7b7e)\" style=\"fill:none;stroke:#424242;stroke-linecap:round;stroke-width:2.7;\"/>\r\n   </g>\r\n   <g id=\"line2d_13\">\r\n    <path clip-path=\"url(#pbfa21b7b7e)\" style=\"fill:none;stroke:#424242;stroke-linecap:round;stroke-width:2.7;\"/>\r\n   </g>\r\n   <g id=\"patch_7\">\r\n    <path d=\"M 46.964375 224.64 \r\nL 46.964375 7.2 \r\n\" style=\"fill:none;stroke:#cccccc;stroke-linecap:square;stroke-linejoin:miter;stroke-width:1.25;\"/>\r\n   </g>\r\n   <g id=\"patch_8\">\r\n    <path d=\"M 381.764375 224.64 \r\nL 381.764375 7.2 \r\n\" style=\"fill:none;stroke:#cccccc;stroke-linecap:square;stroke-linejoin:miter;stroke-width:1.25;\"/>\r\n   </g>\r\n   <g id=\"patch_9\">\r\n    <path d=\"M 46.964375 224.64 \r\nL 381.764375 224.64 \r\n\" style=\"fill:none;stroke:#cccccc;stroke-linecap:square;stroke-linejoin:miter;stroke-width:1.25;\"/>\r\n   </g>\r\n   <g id=\"patch_10\">\r\n    <path d=\"M 46.964375 7.2 \r\nL 381.764375 7.2 \r\n\" style=\"fill:none;stroke:#cccccc;stroke-linecap:square;stroke-linejoin:miter;stroke-width:1.25;\"/>\r\n   </g>\r\n  </g>\r\n </g>\r\n <defs>\r\n  <clipPath id=\"pbfa21b7b7e\">\r\n   <rect height=\"217.44\" width=\"334.8\" x=\"46.964375\" y=\"7.2\"/>\r\n  </clipPath>\r\n </defs>\r\n</svg>\r\n",
      "image/png": "[encoded data removed]"
     },
     "metadata": {}
    },
    {
     "output_type": "stream",
     "name": "stdout",
     "text": [
      "                    Percentual              Column\nName                                              \nclaimed_unit_price    0.063152  claimed_unit_price\ninvoiced_amount       0.339723     invoiced_amount\nclaimed_units         0.372195       claimed_units\nfunded_amount         1.680029       funded_amount\nNone\n"
     ]
    }
   ],
   "source": [
    "# Check if there any Nan Field\n",
    "print(plotNaNValuesColums(invoices_claims_last_actived))"
   ]
  },
  {
   "cell_type": "code",
   "execution_count": 26,
   "metadata": {},
   "outputs": [
    {
     "output_type": "execute_result",
     "data": {
      "text/plain": [
       "        funded_amount  claimed_units                      claim_level2_key  \\\n",
       "560               NaN            1.0  7d0af57b-f597-11e9-bfb4-022d4762bb3c   \n",
       "4355              NaN            8.0  7d0af53b-f597-11e9-bfb4-022d4762bb3c   \n",
       "4356              NaN            1.0  7d0af71b-f597-11e9-bfb4-022d4762bb3c   \n",
       "5218              NaN            1.0  7d0af57b-f597-11e9-bfb4-022d4762bb3c   \n",
       "5493              NaN            1.0  7d0af57b-f597-11e9-bfb4-022d4762bb3c   \n",
       "...               ...            ...                                   ...   \n",
       "446535            NaN            0.5  7d0af57b-f597-11e9-bfb4-022d4762bb3c   \n",
       "446536            NaN            0.5  7d0af57b-f597-11e9-bfb4-022d4762bb3c   \n",
       "446537            NaN            2.0  7d0af57b-f597-11e9-bfb4-022d4762bb3c   \n",
       "446538            NaN            1.0  7d0af57b-f597-11e9-bfb4-022d4762bb3c   \n",
       "446539            NaN           36.0  7d0af57b-f597-11e9-bfb4-022d4762bb3c   \n",
       "\n",
       "        member_id  invoiced_amount  invoice_id claim_start_date  \\\n",
       "560           195          193.990        1685       2020-07-08   \n",
       "4355          600          434.400       19529       2020-07-06   \n",
       "4356          600         1500.000       19529       2020-07-07   \n",
       "5218          846          125.240       21023       2020-07-24   \n",
       "5493          575           97.000       21211       2020-07-21   \n",
       "...           ...              ...         ...              ...   \n",
       "446535       4516           62.025      539305       2020-12-22   \n",
       "446536       4516           62.025      539306       2020-12-23   \n",
       "446537       4516          248.100      539307       2020-12-22   \n",
       "446538       5433          190.000      539308       2021-04-15   \n",
       "446539       5867          576.000      539309       2021-04-06   \n",
       "\n",
       "       claim_end_date  claim_id                      claim_level1_key  \\\n",
       "560        2020-07-08      2660  5874551b-f597-11e9-bfb4-022d4762bb3c   \n",
       "4355       2020-07-06     31321  58745466-f597-11e9-bfb4-022d4762bb3c   \n",
       "4356       2020-07-07     31322  58745466-f597-11e9-bfb4-022d4762bb3c   \n",
       "5218       2020-07-24     33762  5874551b-f597-11e9-bfb4-022d4762bb3c   \n",
       "5493       2020-07-21     34039  5874551b-f597-11e9-bfb4-022d4762bb3c   \n",
       "...               ...       ...                                   ...   \n",
       "446535     2020-12-22   1006084  5874551b-f597-11e9-bfb4-022d4762bb3c   \n",
       "446536     2020-12-23   1006085  5874551b-f597-11e9-bfb4-022d4762bb3c   \n",
       "446537     2020-12-22   1006086  5874551b-f597-11e9-bfb4-022d4762bb3c   \n",
       "446538     2021-04-15   1006087  5874551b-f597-11e9-bfb4-022d4762bb3c   \n",
       "446539     2021-04-09   1006088  5874551b-f597-11e9-bfb4-022d4762bb3c   \n",
       "\n",
       "           invoice_state                      claim_level3_key  \\\n",
       "560     PENDING_APPROVAL  85e9e810-754f-11ea-ade9-022376bbb7c0   \n",
       "4355    INVOICE_REJECTED  2d00284b-754f-11ea-ade9-022376bbb7c0   \n",
       "4356    INVOICE_REJECTED  2d0020b4-754f-11ea-ade9-022376bbb7c0   \n",
       "5218    INVOICE_REJECTED  85e9e8b9-754f-11ea-ade9-022376bbb7c0   \n",
       "5493    INVOICE_REJECTED  85e9e810-754f-11ea-ade9-022376bbb7c0   \n",
       "...                  ...                                   ...   \n",
       "446535     PENDING_CLAIM  2d006104-754f-11ea-ade9-022376bbb7c0   \n",
       "446536     PENDING_CLAIM  2d006104-754f-11ea-ade9-022376bbb7c0   \n",
       "446537     PENDING_CLAIM  2d006104-754f-11ea-ade9-022376bbb7c0   \n",
       "446538     PENDING_CLAIM  85e9e810-754f-11ea-ade9-022376bbb7c0   \n",
       "446539     PENDING_CLAIM  85e9e810-754f-11ea-ade9-022376bbb7c0   \n",
       "\n",
       "        claimed_unit_price           updated_at          claim_state  \n",
       "560                 193.99  2020-07-09 02:08:38     PENDING_APPROVAL  \n",
       "4355                 54.30  2021-04-06 17:54:18    OPERATOR_REJECTED  \n",
       "4356                  1.00  2021-04-06 17:54:18    OPERATOR_REJECTED  \n",
       "5218                125.24  2021-04-06 17:59:32      MEMBER_REJECTED  \n",
       "5493                 97.00  2021-04-06 18:00:21      MEMBER_REJECTED  \n",
       "...                    ...                  ...                  ...  \n",
       "446535              124.05  2021-04-19 09:10:33  OPERATOR_AUTHORIZED  \n",
       "446536              124.05  2021-04-19 09:11:05  OPERATOR_AUTHORIZED  \n",
       "446537              124.05  2021-04-19 09:11:31  OPERATOR_AUTHORIZED  \n",
       "446538              190.00  2021-04-19 09:12:49  OPERATOR_AUTHORIZED  \n",
       "446539               16.00  2021-04-19 09:15:18  OPERATOR_AUTHORIZED  \n",
       "\n",
       "[7502 rows x 15 columns]"
      ],
      "text/html": "<div>\n<style scoped>\n    .dataframe tbody tr th:only-of-type {\n        vertical-align: middle;\n    }\n\n    .dataframe tbody tr th {\n        vertical-align: top;\n    }\n\n    .dataframe thead th {\n        text-align: right;\n    }\n</style>\n<table border=\"1\" class=\"dataframe\">\n  <thead>\n    <tr style=\"text-align: right;\">\n      <th></th>\n      <th>funded_amount</th>\n      <th>claimed_units</th>\n      <th>claim_level2_key</th>\n      <th>member_id</th>\n      <th>invoiced_amount</th>\n      <th>invoice_id</th>\n      <th>claim_start_date</th>\n      <th>claim_end_date</th>\n      <th>claim_id</th>\n      <th>claim_level1_key</th>\n      <th>invoice_state</th>\n      <th>claim_level3_key</th>\n      <th>claimed_unit_price</th>\n      <th>updated_at</th>\n      <th>claim_state</th>\n    </tr>\n  </thead>\n  <tbody>\n    <tr>\n      <th>560</th>\n      <td>NaN</td>\n      <td>1.0</td>\n      <td>7d0af57b-f597-11e9-bfb4-022d4762bb3c</td>\n      <td>195</td>\n      <td>193.990</td>\n      <td>1685</td>\n      <td>2020-07-08</td>\n      <td>2020-07-08</td>\n      <td>2660</td>\n      <td>5874551b-f597-11e9-bfb4-022d4762bb3c</td>\n      <td>PENDING_APPROVAL</td>\n      <td>85e9e810-754f-11ea-ade9-022376bbb7c0</td>\n      <td>193.99</td>\n      <td>2020-07-09 02:08:38</td>\n      <td>PENDING_APPROVAL</td>\n    </tr>\n    <tr>\n      <th>4355</th>\n      <td>NaN</td>\n      <td>8.0</td>\n      <td>7d0af53b-f597-11e9-bfb4-022d4762bb3c</td>\n      <td>600</td>\n      <td>434.400</td>\n      <td>19529</td>\n      <td>2020-07-06</td>\n      <td>2020-07-06</td>\n      <td>31321</td>\n      <td>58745466-f597-11e9-bfb4-022d4762bb3c</td>\n      <td>INVOICE_REJECTED</td>\n      <td>2d00284b-754f-11ea-ade9-022376bbb7c0</td>\n      <td>54.30</td>\n      <td>2021-04-06 17:54:18</td>\n      <td>OPERATOR_REJECTED</td>\n    </tr>\n    <tr>\n      <th>4356</th>\n      <td>NaN</td>\n      <td>1.0</td>\n      <td>7d0af71b-f597-11e9-bfb4-022d4762bb3c</td>\n      <td>600</td>\n      <td>1500.000</td>\n      <td>19529</td>\n      <td>2020-07-07</td>\n      <td>2020-07-07</td>\n      <td>31322</td>\n      <td>58745466-f597-11e9-bfb4-022d4762bb3c</td>\n      <td>INVOICE_REJECTED</td>\n      <td>2d0020b4-754f-11ea-ade9-022376bbb7c0</td>\n      <td>1.00</td>\n      <td>2021-04-06 17:54:18</td>\n      <td>OPERATOR_REJECTED</td>\n    </tr>\n    <tr>\n      <th>5218</th>\n      <td>NaN</td>\n      <td>1.0</td>\n      <td>7d0af57b-f597-11e9-bfb4-022d4762bb3c</td>\n      <td>846</td>\n      <td>125.240</td>\n      <td>21023</td>\n      <td>2020-07-24</td>\n      <td>2020-07-24</td>\n      <td>33762</td>\n      <td>5874551b-f597-11e9-bfb4-022d4762bb3c</td>\n      <td>INVOICE_REJECTED</td>\n      <td>85e9e8b9-754f-11ea-ade9-022376bbb7c0</td>\n      <td>125.24</td>\n      <td>2021-04-06 17:59:32</td>\n      <td>MEMBER_REJECTED</td>\n    </tr>\n    <tr>\n      <th>5493</th>\n      <td>NaN</td>\n      <td>1.0</td>\n      <td>7d0af57b-f597-11e9-bfb4-022d4762bb3c</td>\n      <td>575</td>\n      <td>97.000</td>\n      <td>21211</td>\n      <td>2020-07-21</td>\n      <td>2020-07-21</td>\n      <td>34039</td>\n      <td>5874551b-f597-11e9-bfb4-022d4762bb3c</td>\n      <td>INVOICE_REJECTED</td>\n      <td>85e9e810-754f-11ea-ade9-022376bbb7c0</td>\n      <td>97.00</td>\n      <td>2021-04-06 18:00:21</td>\n      <td>MEMBER_REJECTED</td>\n    </tr>\n    <tr>\n      <th>...</th>\n      <td>...</td>\n      <td>...</td>\n      <td>...</td>\n      <td>...</td>\n      <td>...</td>\n      <td>...</td>\n      <td>...</td>\n      <td>...</td>\n      <td>...</td>\n      <td>...</td>\n      <td>...</td>\n      <td>...</td>\n      <td>...</td>\n      <td>...</td>\n      <td>...</td>\n    </tr>\n    <tr>\n      <th>446535</th>\n      <td>NaN</td>\n      <td>0.5</td>\n      <td>7d0af57b-f597-11e9-bfb4-022d4762bb3c</td>\n      <td>4516</td>\n      <td>62.025</td>\n      <td>539305</td>\n      <td>2020-12-22</td>\n      <td>2020-12-22</td>\n      <td>1006084</td>\n      <td>5874551b-f597-11e9-bfb4-022d4762bb3c</td>\n      <td>PENDING_CLAIM</td>\n      <td>2d006104-754f-11ea-ade9-022376bbb7c0</td>\n      <td>124.05</td>\n      <td>2021-04-19 09:10:33</td>\n      <td>OPERATOR_AUTHORIZED</td>\n    </tr>\n    <tr>\n      <th>446536</th>\n      <td>NaN</td>\n      <td>0.5</td>\n      <td>7d0af57b-f597-11e9-bfb4-022d4762bb3c</td>\n      <td>4516</td>\n      <td>62.025</td>\n      <td>539306</td>\n      <td>2020-12-23</td>\n      <td>2020-12-23</td>\n      <td>1006085</td>\n      <td>5874551b-f597-11e9-bfb4-022d4762bb3c</td>\n      <td>PENDING_CLAIM</td>\n      <td>2d006104-754f-11ea-ade9-022376bbb7c0</td>\n      <td>124.05</td>\n      <td>2021-04-19 09:11:05</td>\n      <td>OPERATOR_AUTHORIZED</td>\n    </tr>\n    <tr>\n      <th>446537</th>\n      <td>NaN</td>\n      <td>2.0</td>\n      <td>7d0af57b-f597-11e9-bfb4-022d4762bb3c</td>\n      <td>4516</td>\n      <td>248.100</td>\n      <td>539307</td>\n      <td>2020-12-22</td>\n      <td>2020-12-22</td>\n      <td>1006086</td>\n      <td>5874551b-f597-11e9-bfb4-022d4762bb3c</td>\n      <td>PENDING_CLAIM</td>\n      <td>2d006104-754f-11ea-ade9-022376bbb7c0</td>\n      <td>124.05</td>\n      <td>2021-04-19 09:11:31</td>\n      <td>OPERATOR_AUTHORIZED</td>\n    </tr>\n    <tr>\n      <th>446538</th>\n      <td>NaN</td>\n      <td>1.0</td>\n      <td>7d0af57b-f597-11e9-bfb4-022d4762bb3c</td>\n      <td>5433</td>\n      <td>190.000</td>\n      <td>539308</td>\n      <td>2021-04-15</td>\n      <td>2021-04-15</td>\n      <td>1006087</td>\n      <td>5874551b-f597-11e9-bfb4-022d4762bb3c</td>\n      <td>PENDING_CLAIM</td>\n      <td>85e9e810-754f-11ea-ade9-022376bbb7c0</td>\n      <td>190.00</td>\n      <td>2021-04-19 09:12:49</td>\n      <td>OPERATOR_AUTHORIZED</td>\n    </tr>\n    <tr>\n      <th>446539</th>\n      <td>NaN</td>\n      <td>36.0</td>\n      <td>7d0af57b-f597-11e9-bfb4-022d4762bb3c</td>\n      <td>5867</td>\n      <td>576.000</td>\n      <td>539309</td>\n      <td>2021-04-06</td>\n      <td>2021-04-09</td>\n      <td>1006088</td>\n      <td>5874551b-f597-11e9-bfb4-022d4762bb3c</td>\n      <td>PENDING_CLAIM</td>\n      <td>85e9e810-754f-11ea-ade9-022376bbb7c0</td>\n      <td>16.00</td>\n      <td>2021-04-19 09:15:18</td>\n      <td>OPERATOR_AUTHORIZED</td>\n    </tr>\n  </tbody>\n</table>\n<p>7502 rows × 15 columns</p>\n</div>"
     },
     "metadata": {},
     "execution_count": 26
    }
   ],
   "source": [
    "# Check some invoiced_amount and invoiced_amount NaN Data to\n",
    "#  Check these data have in commum\n",
    "df_invoiced_units_NaN = invoices_claims_last_actived.loc[invoices_claims_last_actived['funded_amount'].isna()]\n",
    "df_invoiced_units_NaN"
   ]
  },
  {
   "cell_type": "code",
   "execution_count": 27,
   "metadata": {},
   "outputs": [
    {
     "output_type": "execute_result",
     "data": {
      "text/plain": [
       "Empty DataFrame\n",
       "Columns: []\n",
       "Index: [(ALL_APPROVED, NOT_CLAIMABLE), (ALL_PAID, CANCELLED), (ALL_PAID, NOT_CLAIMABLE), (ALL_PAID, PAID), (CANCELLED, CANCELLED), (DRAFT_INVOICE, DRAFT_CLAIM), (INVOICE_REJECTED, MEMBER_REJECTED), (INVOICE_REJECTED, NOT_CLAIMABLE), (INVOICE_REJECTED, OPERATOR_REJECTED), (NOT_CLAIMABLE, NOT_CLAIMABLE), (PENDING_APPROVAL, PENDING_APPROVAL), (PENDING_CLAIM, OPERATOR_AUTHORIZED), (PENDING_REVIEW, CANCELLED), (PENDING_REVIEW, PENDING_REVIEW)]"
      ],
      "text/html": "<div>\n<style scoped>\n    .dataframe tbody tr th:only-of-type {\n        vertical-align: middle;\n    }\n\n    .dataframe tbody tr th {\n        vertical-align: top;\n    }\n\n    .dataframe thead th {\n        text-align: right;\n    }\n</style>\n<table border=\"1\" class=\"dataframe\">\n  <thead>\n    <tr style=\"text-align: right;\">\n      <th></th>\n      <th></th>\n    </tr>\n    <tr>\n      <th>invoice_state</th>\n      <th>claim_state</th>\n    </tr>\n  </thead>\n  <tbody>\n    <tr>\n      <th>ALL_APPROVED</th>\n      <th>NOT_CLAIMABLE</th>\n    </tr>\n    <tr>\n      <th rowspan=\"3\" valign=\"top\">ALL_PAID</th>\n      <th>CANCELLED</th>\n    </tr>\n    <tr>\n      <th>NOT_CLAIMABLE</th>\n    </tr>\n    <tr>\n      <th>PAID</th>\n    </tr>\n    <tr>\n      <th>CANCELLED</th>\n      <th>CANCELLED</th>\n    </tr>\n    <tr>\n      <th>DRAFT_INVOICE</th>\n      <th>DRAFT_CLAIM</th>\n    </tr>\n    <tr>\n      <th rowspan=\"3\" valign=\"top\">INVOICE_REJECTED</th>\n      <th>MEMBER_REJECTED</th>\n    </tr>\n    <tr>\n      <th>NOT_CLAIMABLE</th>\n    </tr>\n    <tr>\n      <th>OPERATOR_REJECTED</th>\n    </tr>\n    <tr>\n      <th>NOT_CLAIMABLE</th>\n      <th>NOT_CLAIMABLE</th>\n    </tr>\n    <tr>\n      <th>PENDING_APPROVAL</th>\n      <th>PENDING_APPROVAL</th>\n    </tr>\n    <tr>\n      <th>PENDING_CLAIM</th>\n      <th>OPERATOR_AUTHORIZED</th>\n    </tr>\n    <tr>\n      <th rowspan=\"2\" valign=\"top\">PENDING_REVIEW</th>\n      <th>CANCELLED</th>\n    </tr>\n    <tr>\n      <th>PENDING_REVIEW</th>\n    </tr>\n  </tbody>\n</table>\n</div>"
     },
     "metadata": {},
     "execution_count": 27
    }
   ],
   "source": [
    "# Group the state of invoice and claim of all null data\n",
    "#  And Keeps these records\n",
    "#   Because if 'funded_amount' is NaN means the claims is not PAID OR REFUNDED\n",
    "df_invoiced_units_NaN[{\"invoice_state\"\n",
    "                     , \"claim_state\"\n",
    "                      }].groupby([\"invoice_state\"\n",
    "                                , \"claim_state\"\n",
    "                                 ]).count()"
   ]
  },
  {
   "cell_type": "code",
   "execution_count": 28,
   "metadata": {},
   "outputs": [
    {
     "output_type": "execute_result",
     "data": {
      "text/plain": [
       "15"
      ]
     },
     "metadata": {},
     "execution_count": 28
    }
   ],
   "source": [
    "# As seeing above some invoices stated ALL_PAID and PAID are also funded_amount NaN\n",
    "# Check The NaN fields\n",
    "len(invoices_claims_last_actived[(invoices_claims_last_actived['funded_amount'].isna())\n",
    "                               & (invoices_claims_last_actived['invoice_state'] == 'ALL_PAID')\n",
    "                               & (invoices_claims_last_actived['claim_state'] == 'PAID')\n",
    "                                ]\n",
    "   )"
   ]
  },
  {
   "cell_type": "code",
   "execution_count": 29,
   "metadata": {},
   "outputs": [
    {
     "output_type": "execute_result",
     "data": {
      "text/plain": [
       "Empty DataFrame\n",
       "Columns: []\n",
       "Index: [(ALL_APPROVED, PENDING_DISBURSEMENT), (ALL_APPROVED, SCHEME_AUTHORIZED), (ALL_PAID, CANCELLED), (ALL_PAID, NOT_CLAIMABLE), (ALL_PAID, OPERATOR_REJECTED), (ALL_PAID, PAID), (ALL_PAID, SCHEME_REJECTED), (CANCELLED, CANCELLED), (DEED_ERROR_REVIEW_ALL, PENDING_DISBURSEMENT), (FULLY_REFUNDED, NOT_CLAIMABLE), (FULLY_REFUNDED, REFUNDED), (FULLY_REFUNDED, SCHEME_REJECTED), (INVOICE_REJECTED, NOT_CLAIMABLE), (INVOICE_REJECTED, OPERATOR_REJECTED), (INVOICE_REJECTED, SCHEME_REJECTED), (NOT_CLAIMABLE, NOT_CLAIMABLE), (PARTIALLY_APPROVED, PENDING_DISBURSEMENT), (PARTIALLY_APPROVED, SCHEME_REJECTED), (PARTIALLY_REFUNDED, CANCELLED), (PARTIALLY_REFUNDED, PAID), (PARTIALLY_REFUNDED, REFUNDED), (PART_PAID, CANCELLED), (PART_PAID, NOT_CLAIMABLE), (PART_PAID, OPERATOR_REJECTED), (PART_PAID, PAID), (PART_PAID, SCHEME_REJECTED), (PENDING_CANCELLATION, PENDING_CANCELLATION), (PENDING_CANCELLATION, SCHEME_REJECTED), (PENDING_CLAIM, OPERATOR_AUTHORIZED), (PENDING_CLAIM, PAID), (PENDING_REFUND, PAID), (PENDING_REFUND, PENDING_REFUND), (SHORT_PAID, CANCELLED), (SHORT_PAID, NOT_CLAIMABLE), (SHORT_PAID, OPERATOR_REJECTED), (SHORT_PAID, PAID), (SHORT_PAYMENT_APPROVED, PENDING_DISBURSEMENT), (SHORT_PAYMENT_APPROVED, SCHEME_AUTHORIZED)]"
      ],
      "text/html": "<div>\n<style scoped>\n    .dataframe tbody tr th:only-of-type {\n        vertical-align: middle;\n    }\n\n    .dataframe tbody tr th {\n        vertical-align: top;\n    }\n\n    .dataframe thead th {\n        text-align: right;\n    }\n</style>\n<table border=\"1\" class=\"dataframe\">\n  <thead>\n    <tr style=\"text-align: right;\">\n      <th></th>\n      <th></th>\n    </tr>\n    <tr>\n      <th>invoice_state</th>\n      <th>claim_state</th>\n    </tr>\n  </thead>\n  <tbody>\n    <tr>\n      <th rowspan=\"2\" valign=\"top\">ALL_APPROVED</th>\n      <th>PENDING_DISBURSEMENT</th>\n    </tr>\n    <tr>\n      <th>SCHEME_AUTHORIZED</th>\n    </tr>\n    <tr>\n      <th rowspan=\"5\" valign=\"top\">ALL_PAID</th>\n      <th>CANCELLED</th>\n    </tr>\n    <tr>\n      <th>NOT_CLAIMABLE</th>\n    </tr>\n    <tr>\n      <th>OPERATOR_REJECTED</th>\n    </tr>\n    <tr>\n      <th>PAID</th>\n    </tr>\n    <tr>\n      <th>SCHEME_REJECTED</th>\n    </tr>\n    <tr>\n      <th>CANCELLED</th>\n      <th>CANCELLED</th>\n    </tr>\n    <tr>\n      <th>DEED_ERROR_REVIEW_ALL</th>\n      <th>PENDING_DISBURSEMENT</th>\n    </tr>\n    <tr>\n      <th rowspan=\"3\" valign=\"top\">FULLY_REFUNDED</th>\n      <th>NOT_CLAIMABLE</th>\n    </tr>\n    <tr>\n      <th>REFUNDED</th>\n    </tr>\n    <tr>\n      <th>SCHEME_REJECTED</th>\n    </tr>\n    <tr>\n      <th rowspan=\"3\" valign=\"top\">INVOICE_REJECTED</th>\n      <th>NOT_CLAIMABLE</th>\n    </tr>\n    <tr>\n      <th>OPERATOR_REJECTED</th>\n    </tr>\n    <tr>\n      <th>SCHEME_REJECTED</th>\n    </tr>\n    <tr>\n      <th>NOT_CLAIMABLE</th>\n      <th>NOT_CLAIMABLE</th>\n    </tr>\n    <tr>\n      <th rowspan=\"2\" valign=\"top\">PARTIALLY_APPROVED</th>\n      <th>PENDING_DISBURSEMENT</th>\n    </tr>\n    <tr>\n      <th>SCHEME_REJECTED</th>\n    </tr>\n    <tr>\n      <th rowspan=\"3\" valign=\"top\">PARTIALLY_REFUNDED</th>\n      <th>CANCELLED</th>\n    </tr>\n    <tr>\n      <th>PAID</th>\n    </tr>\n    <tr>\n      <th>REFUNDED</th>\n    </tr>\n    <tr>\n      <th rowspan=\"5\" valign=\"top\">PART_PAID</th>\n      <th>CANCELLED</th>\n    </tr>\n    <tr>\n      <th>NOT_CLAIMABLE</th>\n    </tr>\n    <tr>\n      <th>OPERATOR_REJECTED</th>\n    </tr>\n    <tr>\n      <th>PAID</th>\n    </tr>\n    <tr>\n      <th>SCHEME_REJECTED</th>\n    </tr>\n    <tr>\n      <th rowspan=\"2\" valign=\"top\">PENDING_CANCELLATION</th>\n      <th>PENDING_CANCELLATION</th>\n    </tr>\n    <tr>\n      <th>SCHEME_REJECTED</th>\n    </tr>\n    <tr>\n      <th rowspan=\"2\" valign=\"top\">PENDING_CLAIM</th>\n      <th>OPERATOR_AUTHORIZED</th>\n    </tr>\n    <tr>\n      <th>PAID</th>\n    </tr>\n    <tr>\n      <th rowspan=\"2\" valign=\"top\">PENDING_REFUND</th>\n      <th>PAID</th>\n    </tr>\n    <tr>\n      <th>PENDING_REFUND</th>\n    </tr>\n    <tr>\n      <th rowspan=\"4\" valign=\"top\">SHORT_PAID</th>\n      <th>CANCELLED</th>\n    </tr>\n    <tr>\n      <th>NOT_CLAIMABLE</th>\n    </tr>\n    <tr>\n      <th>OPERATOR_REJECTED</th>\n    </tr>\n    <tr>\n      <th>PAID</th>\n    </tr>\n    <tr>\n      <th rowspan=\"2\" valign=\"top\">SHORT_PAYMENT_APPROVED</th>\n      <th>PENDING_DISBURSEMENT</th>\n    </tr>\n    <tr>\n      <th>SCHEME_AUTHORIZED</th>\n    </tr>\n  </tbody>\n</table>\n</div>"
     },
     "metadata": {},
     "execution_count": 29
    }
   ],
   "source": [
    "df_invoiced_units_not_NaN = invoices_claims_last_actived.loc[invoices_claims_last_actived['funded_amount'].notna()]\n",
    "\n",
    "# Group the state of invoice and claim of not NaN\n",
    "df_invoiced_units_not_NaN[{\"invoice_state\"\n",
    "                         , \"claim_state\"\n",
    "                          }].groupby([\"invoice_state\"\n",
    "                                    , \"claim_state\"\n",
    "                                     ]).count()"
   ]
  },
  {
   "cell_type": "code",
   "execution_count": 30,
   "metadata": {},
   "outputs": [
    {
     "output_type": "execute_result",
     "data": {
      "text/plain": [
       "        invoice_id  funded_amount  claim_id invoice_state        claim_state\n",
       "440           1804           0.00      2851      ALL_PAID      NOT_CLAIMABLE\n",
       "442           1804           0.00      2853      ALL_PAID      NOT_CLAIMABLE\n",
       "490           1841           0.00      2906      ALL_PAID      NOT_CLAIMABLE\n",
       "613           1928           0.00      3025      ALL_PAID      NOT_CLAIMABLE\n",
       "1191         10173         123.52      8720      ALL_PAID          CANCELLED\n",
       "...            ...            ...       ...           ...                ...\n",
       "446250      538852         375.70   1005326  ALL_APPROVED  SCHEME_AUTHORIZED\n",
       "446251      538853         145.00   1005327  ALL_APPROVED  SCHEME_AUTHORIZED\n",
       "446252      538856         387.98   1005331  ALL_APPROVED  SCHEME_AUTHORIZED\n",
       "446253      538858         156.16   1005334  ALL_APPROVED  SCHEME_AUTHORIZED\n",
       "446256      538861         277.35   1005338  ALL_APPROVED  SCHEME_AUTHORIZED\n",
       "\n",
       "[10862 rows x 5 columns]"
      ],
      "text/html": "<div>\n<style scoped>\n    .dataframe tbody tr th:only-of-type {\n        vertical-align: middle;\n    }\n\n    .dataframe tbody tr th {\n        vertical-align: top;\n    }\n\n    .dataframe thead th {\n        text-align: right;\n    }\n</style>\n<table border=\"1\" class=\"dataframe\">\n  <thead>\n    <tr style=\"text-align: right;\">\n      <th></th>\n      <th>invoice_id</th>\n      <th>funded_amount</th>\n      <th>claim_id</th>\n      <th>invoice_state</th>\n      <th>claim_state</th>\n    </tr>\n  </thead>\n  <tbody>\n    <tr>\n      <th>440</th>\n      <td>1804</td>\n      <td>0.00</td>\n      <td>2851</td>\n      <td>ALL_PAID</td>\n      <td>NOT_CLAIMABLE</td>\n    </tr>\n    <tr>\n      <th>442</th>\n      <td>1804</td>\n      <td>0.00</td>\n      <td>2853</td>\n      <td>ALL_PAID</td>\n      <td>NOT_CLAIMABLE</td>\n    </tr>\n    <tr>\n      <th>490</th>\n      <td>1841</td>\n      <td>0.00</td>\n      <td>2906</td>\n      <td>ALL_PAID</td>\n      <td>NOT_CLAIMABLE</td>\n    </tr>\n    <tr>\n      <th>613</th>\n      <td>1928</td>\n      <td>0.00</td>\n      <td>3025</td>\n      <td>ALL_PAID</td>\n      <td>NOT_CLAIMABLE</td>\n    </tr>\n    <tr>\n      <th>1191</th>\n      <td>10173</td>\n      <td>123.52</td>\n      <td>8720</td>\n      <td>ALL_PAID</td>\n      <td>CANCELLED</td>\n    </tr>\n    <tr>\n      <th>...</th>\n      <td>...</td>\n      <td>...</td>\n      <td>...</td>\n      <td>...</td>\n      <td>...</td>\n    </tr>\n    <tr>\n      <th>446250</th>\n      <td>538852</td>\n      <td>375.70</td>\n      <td>1005326</td>\n      <td>ALL_APPROVED</td>\n      <td>SCHEME_AUTHORIZED</td>\n    </tr>\n    <tr>\n      <th>446251</th>\n      <td>538853</td>\n      <td>145.00</td>\n      <td>1005327</td>\n      <td>ALL_APPROVED</td>\n      <td>SCHEME_AUTHORIZED</td>\n    </tr>\n    <tr>\n      <th>446252</th>\n      <td>538856</td>\n      <td>387.98</td>\n      <td>1005331</td>\n      <td>ALL_APPROVED</td>\n      <td>SCHEME_AUTHORIZED</td>\n    </tr>\n    <tr>\n      <th>446253</th>\n      <td>538858</td>\n      <td>156.16</td>\n      <td>1005334</td>\n      <td>ALL_APPROVED</td>\n      <td>SCHEME_AUTHORIZED</td>\n    </tr>\n    <tr>\n      <th>446256</th>\n      <td>538861</td>\n      <td>277.35</td>\n      <td>1005338</td>\n      <td>ALL_APPROVED</td>\n      <td>SCHEME_AUTHORIZED</td>\n    </tr>\n  </tbody>\n</table>\n<p>10862 rows × 5 columns</p>\n</div>"
     },
     "metadata": {},
     "execution_count": 30
    }
   ],
   "source": [
    "df_invoiced_units_not_NaN[{'claim_id'\n",
    "                        , 'invoice_id'\n",
    "                        , 'invoice_id'\n",
    "                        , 'funded_amount'\n",
    "                        , 'invoice_state'\n",
    "                        , 'claim_state'\n",
    "                        }].loc[((df_invoiced_units_not_NaN['invoice_state'] == 'ALL_APPROVED') | (df_invoiced_units_not_NaN['invoice_state'] == 'ALL_PAID' ))\n",
    "                             & ((df_invoiced_units_not_NaN['claim_state'] != 'PAID'))\n",
    "                             ]"
   ]
  },
  {
   "cell_type": "code",
   "execution_count": 31,
   "metadata": {},
   "outputs": [
    {
     "output_type": "stream",
     "name": "stderr",
     "text": [
      "C:\\Users\\dttt1\\AppData\\Roaming\\Python\\Python38\\site-packages\\pandas\\core\\indexing.py:671: SettingWithCopyWarning: \nA value is trying to be set on a copy of a slice from a DataFrame\n\nSee the caveats in the documentation: https://pandas.pydata.org/pandas-docs/stable/user_guide/indexing.html#returning-a-view-versus-a-copy\n  self._setitem_with_indexer(indexer, value)\n"
     ]
    }
   ],
   "source": [
    "invoices_claims_last_actived['funded_amount'].loc[((invoices_claims_last_actived['invoice_state'] == 'ALL_APPROVED') | (invoices_claims_last_actived['invoice_state'] == 'ALL_PAID' ))\n",
    "                                                 & (invoices_claims_last_actived['claim_state'] != 'PAID')\n",
    "                                                 & (invoices_claims_last_actived['claim_state'] != 'PAID') \n",
    "                                                 & ( invoices_claims_last_actived['funded_amount'].notna()) \n",
    "                                                 ] = np.nan"
   ]
  },
  {
   "cell_type": "code",
   "execution_count": 32,
   "metadata": {},
   "outputs": [
    {
     "output_type": "stream",
     "name": "stderr",
     "text": [
      "<ipython-input-32-b00eb68bc11b>:7: SettingWithCopyWarning: \nA value is trying to be set on a copy of a slice from a DataFrame.\nTry using .loc[row_indexer,col_indexer] = value instead\n\nSee the caveats in the documentation: https://pandas.pydata.org/pandas-docs/stable/user_guide/indexing.html#returning-a-view-versus-a-copy\n  df_null_funded_amount['funded_amount'] = df_null_funded_amount['claimed_unit_price'].astype(float) * df_null_funded_amount['claimed_units'].astype(float)\n"
     ]
    }
   ],
   "source": [
    "df_null_funded_amount =  invoices_claims_last_actived[(invoices_claims_last_actived['funded_amount'].isna())\n",
    "                                                    & (invoices_claims_last_actived['invoice_state'] == 'ALL_PAID')\n",
    "                                                    & (invoices_claims_last_actived['claim_state'] == 'PAID')\n",
    "                                                     ]\n",
    "\n",
    "# Fixes The funded_amount NaN in invoice_state = ALL_PAID and claim_state = PAID\n",
    "df_null_funded_amount['funded_amount'] = df_null_funded_amount['claimed_unit_price'].astype(float) * df_null_funded_amount['claimed_units'].astype(float)\n",
    "\n",
    "invoices_claims_last_actived = invoices_claims_last_actived.set_index('claim_id')\n",
    "invoices_claims_last_actived.update(df_null_funded_amount.set_index('claim_id'))\n",
    "invoices_claims_last_actived.reset_index(inplace=True)                                   "
   ]
  },
  {
   "cell_type": "code",
   "execution_count": 33,
   "metadata": {},
   "outputs": [],
   "source": [
    "invoices_claims_last_actived['updated_at'] = pd.to_datetime(invoices_claims_last_actived['updated_at']).dt.strftime('%Y-%m-%d')"
   ]
  },
  {
   "cell_type": "code",
   "execution_count": 34,
   "metadata": {},
   "outputs": [],
   "source": [
    "# Group the invoices from their claims\n",
    "invoices_claims_last_actived_cleased = invoices_claims_last_actived.groupby([\"member_id\"\n",
    "                                                                           , \"invoice_state\"\n",
    "                                                                           , \"updated_at\"\n",
    "                                                                           , \"claim_state\"\n",
    "                                                                           , \"claim_level1_key\"\n",
    "                                                                           , \"claim_level2_key\"\n",
    "                                                                           , \"claim_level3_key\"]).agg({\"invoiced_amount\": \"sum\", \"funded_amount\": \"sum\"}).reset_index()"
   ]
  },
  {
   "source": [
    "### Invoice and claims dataset From LAST COMPLETED plan"
   ],
   "cell_type": "markdown",
   "metadata": {}
  },
  {
   "cell_type": "code",
   "execution_count": 35,
   "metadata": {},
   "outputs": [
    {
     "output_type": "stream",
     "name": "stdout",
     "text": [
      "<class 'pandas.core.frame.DataFrame'>\nRangeIndex: 233380 entries, 0 to 233379\nData columns (total 15 columns):\n #   Column               Non-Null Count   Dtype  \n---  ------               --------------   -----  \n 0   member_id            233380 non-null  int64  \n 1   invoice_state        233380 non-null  object \n 2   updated_at           233380 non-null  object \n 3   invoiced_amount      232765 non-null  float64\n 4   invoice_id           233380 non-null  int64  \n 5   claim_id             233380 non-null  int64  \n 6   claim_start_date     233380 non-null  object \n 7   claim_end_date       233380 non-null  object \n 8   claim_state          233380 non-null  object \n 9   claim_funded_amount  232483 non-null  float64\n 10  claimed_units        232748 non-null  float64\n 11  claimed_unit_price   233316 non-null  float64\n 12  key                  233380 non-null  object \n 13  key.1                233380 non-null  object \n 14  key.2                233380 non-null  object \ndtypes: float64(4), int64(3), object(8)\nmemory usage: 19.6+ MB\n"
     ]
    }
   ],
   "source": [
    "# Check the dataSet fields\n",
    "invoices_claims_last_completed_all_fields.info()"
   ]
  },
  {
   "cell_type": "code",
   "execution_count": 36,
   "metadata": {},
   "outputs": [
    {
     "output_type": "execute_result",
     "data": {
      "text/plain": [
       "   member_id invoice_state           updated_at  invoiced_amount  invoice_id  \\\n",
       "0         15      ALL_PAID  2021-04-06 16:54:08            29.00          58   \n",
       "1         15      ALL_PAID  2021-04-06 16:13:00           823.34          82   \n",
       "2         15      ALL_PAID  2021-04-06 16:59:43           130.00          41   \n",
       "3         15      ALL_PAID  2021-04-06 15:45:23           104.49          79   \n",
       "\n",
       "   claim_id claim_start_date claim_end_date claim_state  claim_funded_amount  \\\n",
       "0        30       2020-03-20     2020-03-20        PAID                29.00   \n",
       "1        32       2019-11-23     2019-11-23        PAID               823.34   \n",
       "2        33       2020-04-08     2020-04-08        PAID               130.00   \n",
       "3        34       2019-10-01     2019-10-01        PAID                79.94   \n",
       "\n",
       "   claimed_units  claimed_unit_price                                   key  \\\n",
       "0            1.0               29.00  2d00284b-754f-11ea-ade9-022376bbb7c0   \n",
       "1           14.0               58.81  2d001ca0-754f-11ea-ade9-022376bbb7c0   \n",
       "2            2.6               50.00  2d001d20-754f-11ea-ade9-022376bbb7c0   \n",
       "3            1.0              104.49  2d001d6a-754f-11ea-ade9-022376bbb7c0   \n",
       "\n",
       "                                  key.1                                 key.2  \n",
       "0  7d0af53b-f597-11e9-bfb4-022d4762bb3c  58745466-f597-11e9-bfb4-022d4762bb3c  \n",
       "1  7d0af71b-f597-11e9-bfb4-022d4762bb3c  58745466-f597-11e9-bfb4-022d4762bb3c  \n",
       "2  7d0af71b-f597-11e9-bfb4-022d4762bb3c  58745466-f597-11e9-bfb4-022d4762bb3c  \n",
       "3  7d0af71b-f597-11e9-bfb4-022d4762bb3c  58745466-f597-11e9-bfb4-022d4762bb3c  "
      ],
      "text/html": "<div>\n<style scoped>\n    .dataframe tbody tr th:only-of-type {\n        vertical-align: middle;\n    }\n\n    .dataframe tbody tr th {\n        vertical-align: top;\n    }\n\n    .dataframe thead th {\n        text-align: right;\n    }\n</style>\n<table border=\"1\" class=\"dataframe\">\n  <thead>\n    <tr style=\"text-align: right;\">\n      <th></th>\n      <th>member_id</th>\n      <th>invoice_state</th>\n      <th>updated_at</th>\n      <th>invoiced_amount</th>\n      <th>invoice_id</th>\n      <th>claim_id</th>\n      <th>claim_start_date</th>\n      <th>claim_end_date</th>\n      <th>claim_state</th>\n      <th>claim_funded_amount</th>\n      <th>claimed_units</th>\n      <th>claimed_unit_price</th>\n      <th>key</th>\n      <th>key.1</th>\n      <th>key.2</th>\n    </tr>\n  </thead>\n  <tbody>\n    <tr>\n      <th>0</th>\n      <td>15</td>\n      <td>ALL_PAID</td>\n      <td>2021-04-06 16:54:08</td>\n      <td>29.00</td>\n      <td>58</td>\n      <td>30</td>\n      <td>2020-03-20</td>\n      <td>2020-03-20</td>\n      <td>PAID</td>\n      <td>29.00</td>\n      <td>1.0</td>\n      <td>29.00</td>\n      <td>2d00284b-754f-11ea-ade9-022376bbb7c0</td>\n      <td>7d0af53b-f597-11e9-bfb4-022d4762bb3c</td>\n      <td>58745466-f597-11e9-bfb4-022d4762bb3c</td>\n    </tr>\n    <tr>\n      <th>1</th>\n      <td>15</td>\n      <td>ALL_PAID</td>\n      <td>2021-04-06 16:13:00</td>\n      <td>823.34</td>\n      <td>82</td>\n      <td>32</td>\n      <td>2019-11-23</td>\n      <td>2019-11-23</td>\n      <td>PAID</td>\n      <td>823.34</td>\n      <td>14.0</td>\n      <td>58.81</td>\n      <td>2d001ca0-754f-11ea-ade9-022376bbb7c0</td>\n      <td>7d0af71b-f597-11e9-bfb4-022d4762bb3c</td>\n      <td>58745466-f597-11e9-bfb4-022d4762bb3c</td>\n    </tr>\n    <tr>\n      <th>2</th>\n      <td>15</td>\n      <td>ALL_PAID</td>\n      <td>2021-04-06 16:59:43</td>\n      <td>130.00</td>\n      <td>41</td>\n      <td>33</td>\n      <td>2020-04-08</td>\n      <td>2020-04-08</td>\n      <td>PAID</td>\n      <td>130.00</td>\n      <td>2.6</td>\n      <td>50.00</td>\n      <td>2d001d20-754f-11ea-ade9-022376bbb7c0</td>\n      <td>7d0af71b-f597-11e9-bfb4-022d4762bb3c</td>\n      <td>58745466-f597-11e9-bfb4-022d4762bb3c</td>\n    </tr>\n    <tr>\n      <th>3</th>\n      <td>15</td>\n      <td>ALL_PAID</td>\n      <td>2021-04-06 15:45:23</td>\n      <td>104.49</td>\n      <td>79</td>\n      <td>34</td>\n      <td>2019-10-01</td>\n      <td>2019-10-01</td>\n      <td>PAID</td>\n      <td>79.94</td>\n      <td>1.0</td>\n      <td>104.49</td>\n      <td>2d001d6a-754f-11ea-ade9-022376bbb7c0</td>\n      <td>7d0af71b-f597-11e9-bfb4-022d4762bb3c</td>\n      <td>58745466-f597-11e9-bfb4-022d4762bb3c</td>\n    </tr>\n  </tbody>\n</table>\n</div>"
     },
     "metadata": {},
     "execution_count": 36
    }
   ],
   "source": [
    "invoices_claims_last_completed_all_fields.head(4)"
   ]
  },
  {
   "cell_type": "code",
   "execution_count": 37,
   "metadata": {},
   "outputs": [],
   "source": [
    "# Select just the fields to be used\n",
    "invoices_claims_last_completed = invoices_claims_last_completed_all_fields[{\"member_id\"\n",
    "                                                                          , \"invoice_state\"\n",
    "                                                                          , \"invoice_id\"\n",
    "                                                                          , \"updated_at\"\n",
    "                                                                          , \"claim_state\"\n",
    "                                                                          , \"claim_id\"\n",
    "                                                                          , \"key\"  \n",
    "                                                                          , \"key.1\"\n",
    "                                                                          , \"key.2\"\n",
    "                                                                          , \"claim_start_date\"\n",
    "                                                                          , \"claim_end_date\"\n",
    "                                                                          , \"claim_funded_amount\"\n",
    "                                                                          , \"invoiced_amount\"\n",
    "                                                                          , \"claimed_units\"\n",
    "                                                                          , \"claimed_unit_price\"\n",
    "                                                                      }]\n",
    "\n",
    "# Rename some dataSet colums to create a name's pattern\n",
    "invoices_claims_last_completed.rename(columns={'claim_funded_amount':'funded_amount'\n",
    "                                             , 'claimed__units_price':'claimed__units_amount'  \n",
    "                                             , 'key.1':'claim_level2_key'\n",
    "                                             , 'key.2':'claim_level1_key'\n",
    "                                             , 'key':'claim_level3_key'\n",
    "                                              } , inplace = True) "
   ]
  },
  {
   "cell_type": "code",
   "execution_count": 38,
   "metadata": {},
   "outputs": [
    {
     "output_type": "execute_result",
     "data": {
      "text/plain": [
       "array(['PAID', 'CANCELLED', 'REFUNDED', 'SCHEME_REJECTED',\n",
       "       'NOT_CLAIMABLE', 'PENDING_REFUND', 'OPERATOR_REJECTED',\n",
       "       'MEMBER_REJECTED', 'PENDING_APPROVAL', 'PENDING_DISBURSEMENT',\n",
       "       'SCHEME_AUTHORIZED'], dtype=object)"
      ]
     },
     "metadata": {},
     "execution_count": 38
    }
   ],
   "source": [
    "# Check the claim_state To check whether there is any dump value\n",
    "invoices_claims_last_completed['claim_state'].unique()"
   ]
  },
  {
   "cell_type": "code",
   "execution_count": 39,
   "metadata": {},
   "outputs": [
    {
     "output_type": "execute_result",
     "data": {
      "text/plain": [
       "array(['ALL_PAID', 'SHORT_PAID', 'CANCELLED', 'FULLY_REFUNDED',\n",
       "       'INVOICE_REJECTED', 'PART_PAID', 'PENDING_REFUND', 'NOT_CLAIMABLE',\n",
       "       'PARTIALLY_APPROVED', 'SHORT_PAYMENT_APPROVED', 'PENDING_REVIEW',\n",
       "       'PARTIALLY_REFUNDED', 'PENDING_APPROVAL', 'ALL_APPROVED'],\n",
       "      dtype=object)"
      ]
     },
     "metadata": {},
     "execution_count": 39
    }
   ],
   "source": [
    "# Check the claim_state To check whether there is any dump value\n",
    "invoices_claims_last_completed['invoice_state'].unique()"
   ]
  },
  {
   "cell_type": "code",
   "execution_count": 40,
   "metadata": {},
   "outputs": [
    {
     "output_type": "display_data",
     "data": {
      "text/plain": "<Figure size 432x288 with 1 Axes>",
      "image/svg+xml": "<?xml version=\"1.0\" encoding=\"utf-8\" standalone=\"no\"?>\r\n<!DOCTYPE svg PUBLIC \"-//W3C//DTD SVG 1.1//EN\"\r\n  \"http://www.w3.org/Graphics/SVG/1.1/DTD/svg11.dtd\">\r\n<!-- Created with matplotlib (https://matplotlib.org/) -->\r\n<svg height=\"350.038849pt\" version=\"1.1\" viewBox=\"0 0 395.081406 350.038849\" width=\"395.081406pt\" xmlns=\"http://www.w3.org/2000/svg\" xmlns:xlink=\"http://www.w3.org/1999/xlink\">\r\n <defs>\r\n  <style type=\"text/css\">\r\n*{stroke-linecap:butt;stroke-linejoin:round;}\r\n  </style>\r\n </defs>\r\n <g id=\"figure_1\">\r\n  <g id=\"patch_1\">\r\n   <path d=\"M -0 350.038849 \r\nL 395.081406 350.038849 \r\nL 395.081406 0 \r\nL -0 0 \r\nz\r\n\" style=\"fill:#ffffff;\"/>\r\n  </g>\r\n  <g id=\"axes_1\">\r\n   <g id=\"patch_2\">\r\n    <path d=\"M 53.081406 226.653693 \r\nL 387.881406 226.653693 \r\nL 387.881406 9.213693 \r\nL 53.081406 9.213693 \r\nz\r\n\" style=\"fill:#ffffff;\"/>\r\n   </g>\r\n   <g id=\"matplotlib.axis_1\">\r\n    <g id=\"xtick_1\">\r\n     <g id=\"text_1\">\r\n      <!-- claimed_unit_price -->\r\n      <defs>\r\n       <path d=\"M 40.4375 19 \r\nL 49.078125 17.875 \r\nQ 47.65625 8.9375 41.8125 3.875 \r\nQ 35.984375 -1.171875 27.484375 -1.171875 \r\nQ 16.84375 -1.171875 10.375 5.78125 \r\nQ 3.90625 12.75 3.90625 25.734375 \r\nQ 3.90625 34.125 6.6875 40.421875 \r\nQ 9.46875 46.734375 15.15625 49.875 \r\nQ 20.84375 53.03125 27.546875 53.03125 \r\nQ 35.984375 53.03125 41.359375 48.75 \r\nQ 46.734375 44.484375 48.25 36.625 \r\nL 39.703125 35.296875 \r\nQ 38.484375 40.53125 35.375 43.15625 \r\nQ 32.28125 45.796875 27.875 45.796875 \r\nQ 21.234375 45.796875 17.078125 41.03125 \r\nQ 12.9375 36.28125 12.9375 25.984375 \r\nQ 12.9375 15.53125 16.9375 10.796875 \r\nQ 20.953125 6.0625 27.390625 6.0625 \r\nQ 32.5625 6.0625 36.03125 9.234375 \r\nQ 39.5 12.40625 40.4375 19 \r\nz\r\n\" id=\"ArialMT-99\"/>\r\n       <path d=\"M 6.390625 0 \r\nL 6.390625 71.578125 \r\nL 15.1875 71.578125 \r\nL 15.1875 0 \r\nz\r\n\" id=\"ArialMT-108\"/>\r\n       <path d=\"M 40.4375 6.390625 \r\nQ 35.546875 2.25 31.03125 0.53125 \r\nQ 26.515625 -1.171875 21.34375 -1.171875 \r\nQ 12.796875 -1.171875 8.203125 3 \r\nQ 3.609375 7.171875 3.609375 13.671875 \r\nQ 3.609375 17.484375 5.34375 20.625 \r\nQ 7.078125 23.78125 9.890625 25.6875 \r\nQ 12.703125 27.59375 16.21875 28.5625 \r\nQ 18.796875 29.25 24.03125 29.890625 \r\nQ 34.671875 31.15625 39.703125 32.90625 \r\nQ 39.75 34.71875 39.75 35.203125 \r\nQ 39.75 40.578125 37.25 42.78125 \r\nQ 33.890625 45.75 27.25 45.75 \r\nQ 21.046875 45.75 18.09375 43.578125 \r\nQ 15.140625 41.40625 13.71875 35.890625 \r\nL 5.125 37.0625 \r\nQ 6.296875 42.578125 8.984375 45.96875 \r\nQ 11.671875 49.359375 16.75 51.1875 \r\nQ 21.828125 53.03125 28.515625 53.03125 \r\nQ 35.15625 53.03125 39.296875 51.46875 \r\nQ 43.453125 49.90625 45.40625 47.53125 \r\nQ 47.359375 45.171875 48.140625 41.546875 \r\nQ 48.578125 39.3125 48.578125 33.453125 \r\nL 48.578125 21.734375 \r\nQ 48.578125 9.46875 49.140625 6.21875 \r\nQ 49.703125 2.984375 51.375 0 \r\nL 42.1875 0 \r\nQ 40.828125 2.734375 40.4375 6.390625 \r\nz\r\nM 39.703125 26.03125 \r\nQ 34.90625 24.078125 25.34375 22.703125 \r\nQ 19.921875 21.921875 17.671875 20.9375 \r\nQ 15.4375 19.96875 14.203125 18.09375 \r\nQ 12.984375 16.21875 12.984375 13.921875 \r\nQ 12.984375 10.40625 15.640625 8.0625 \r\nQ 18.3125 5.71875 23.4375 5.71875 \r\nQ 28.515625 5.71875 32.46875 7.9375 \r\nQ 36.421875 10.15625 38.28125 14.015625 \r\nQ 39.703125 17 39.703125 22.796875 \r\nz\r\n\" id=\"ArialMT-97\"/>\r\n       <path d=\"M 6.640625 61.46875 \r\nL 6.640625 71.578125 \r\nL 15.4375 71.578125 \r\nL 15.4375 61.46875 \r\nz\r\nM 6.640625 0 \r\nL 6.640625 51.859375 \r\nL 15.4375 51.859375 \r\nL 15.4375 0 \r\nz\r\n\" id=\"ArialMT-105\"/>\r\n       <path d=\"M 6.59375 0 \r\nL 6.59375 51.859375 \r\nL 14.453125 51.859375 \r\nL 14.453125 44.578125 \r\nQ 16.890625 48.390625 20.9375 50.703125 \r\nQ 25 53.03125 30.171875 53.03125 \r\nQ 35.9375 53.03125 39.625 50.640625 \r\nQ 43.3125 48.25 44.828125 43.953125 \r\nQ 50.984375 53.03125 60.84375 53.03125 \r\nQ 68.5625 53.03125 72.703125 48.75 \r\nQ 76.859375 44.484375 76.859375 35.59375 \r\nL 76.859375 0 \r\nL 68.109375 0 \r\nL 68.109375 32.671875 \r\nQ 68.109375 37.9375 67.25 40.25 \r\nQ 66.40625 42.578125 64.15625 43.984375 \r\nQ 61.921875 45.40625 58.890625 45.40625 \r\nQ 53.421875 45.40625 49.796875 41.765625 \r\nQ 46.1875 38.140625 46.1875 30.125 \r\nL 46.1875 0 \r\nL 37.40625 0 \r\nL 37.40625 33.6875 \r\nQ 37.40625 39.546875 35.25 42.46875 \r\nQ 33.109375 45.40625 28.21875 45.40625 \r\nQ 24.515625 45.40625 21.359375 43.453125 \r\nQ 18.21875 41.5 16.796875 37.734375 \r\nQ 15.375 33.984375 15.375 26.90625 \r\nL 15.375 0 \r\nz\r\n\" id=\"ArialMT-109\"/>\r\n       <path d=\"M 42.09375 16.703125 \r\nL 51.171875 15.578125 \r\nQ 49.03125 7.625 43.21875 3.21875 \r\nQ 37.40625 -1.171875 28.375 -1.171875 \r\nQ 17 -1.171875 10.328125 5.828125 \r\nQ 3.65625 12.84375 3.65625 25.484375 \r\nQ 3.65625 38.578125 10.390625 45.796875 \r\nQ 17.140625 53.03125 27.875 53.03125 \r\nQ 38.28125 53.03125 44.875 45.953125 \r\nQ 51.46875 38.875 51.46875 26.03125 \r\nQ 51.46875 25.25 51.421875 23.6875 \r\nL 12.75 23.6875 \r\nQ 13.234375 15.140625 17.578125 10.59375 \r\nQ 21.921875 6.0625 28.421875 6.0625 \r\nQ 33.25 6.0625 36.671875 8.59375 \r\nQ 40.09375 11.140625 42.09375 16.703125 \r\nz\r\nM 13.234375 30.90625 \r\nL 42.1875 30.90625 \r\nQ 41.609375 37.453125 38.875 40.71875 \r\nQ 34.671875 45.796875 27.984375 45.796875 \r\nQ 21.921875 45.796875 17.796875 41.75 \r\nQ 13.671875 37.703125 13.234375 30.90625 \r\nz\r\n\" id=\"ArialMT-101\"/>\r\n       <path d=\"M 40.234375 0 \r\nL 40.234375 6.546875 \r\nQ 35.296875 -1.171875 25.734375 -1.171875 \r\nQ 19.53125 -1.171875 14.328125 2.25 \r\nQ 9.125 5.671875 6.265625 11.796875 \r\nQ 3.421875 17.921875 3.421875 25.875 \r\nQ 3.421875 33.640625 6 39.96875 \r\nQ 8.59375 46.296875 13.765625 49.65625 \r\nQ 18.953125 53.03125 25.34375 53.03125 \r\nQ 30.03125 53.03125 33.6875 51.046875 \r\nQ 37.359375 49.078125 39.65625 45.90625 \r\nL 39.65625 71.578125 \r\nL 48.390625 71.578125 \r\nL 48.390625 0 \r\nz\r\nM 12.453125 25.875 \r\nQ 12.453125 15.921875 16.640625 10.984375 \r\nQ 20.84375 6.0625 26.5625 6.0625 \r\nQ 32.328125 6.0625 36.34375 10.765625 \r\nQ 40.375 15.484375 40.375 25.140625 \r\nQ 40.375 35.796875 36.265625 40.765625 \r\nQ 32.171875 45.75 26.171875 45.75 \r\nQ 20.3125 45.75 16.375 40.96875 \r\nQ 12.453125 36.1875 12.453125 25.875 \r\nz\r\n\" id=\"ArialMT-100\"/>\r\n       <path d=\"M -1.515625 -19.875 \r\nL -1.515625 -13.53125 \r\nL 56.734375 -13.53125 \r\nL 56.734375 -19.875 \r\nz\r\n\" id=\"ArialMT-95\"/>\r\n       <path d=\"M 40.578125 0 \r\nL 40.578125 7.625 \r\nQ 34.515625 -1.171875 24.125 -1.171875 \r\nQ 19.53125 -1.171875 15.546875 0.578125 \r\nQ 11.578125 2.34375 9.640625 5 \r\nQ 7.71875 7.671875 6.9375 11.53125 \r\nQ 6.390625 14.109375 6.390625 19.734375 \r\nL 6.390625 51.859375 \r\nL 15.1875 51.859375 \r\nL 15.1875 23.09375 \r\nQ 15.1875 16.21875 15.71875 13.8125 \r\nQ 16.546875 10.359375 19.234375 8.375 \r\nQ 21.921875 6.390625 25.875 6.390625 \r\nQ 29.828125 6.390625 33.296875 8.421875 \r\nQ 36.765625 10.453125 38.203125 13.9375 \r\nQ 39.65625 17.4375 39.65625 24.078125 \r\nL 39.65625 51.859375 \r\nL 48.4375 51.859375 \r\nL 48.4375 0 \r\nz\r\n\" id=\"ArialMT-117\"/>\r\n       <path d=\"M 6.59375 0 \r\nL 6.59375 51.859375 \r\nL 14.5 51.859375 \r\nL 14.5 44.484375 \r\nQ 20.21875 53.03125 31 53.03125 \r\nQ 35.6875 53.03125 39.625 51.34375 \r\nQ 43.5625 49.65625 45.515625 46.921875 \r\nQ 47.46875 44.1875 48.25 40.4375 \r\nQ 48.734375 37.984375 48.734375 31.890625 \r\nL 48.734375 0 \r\nL 39.9375 0 \r\nL 39.9375 31.546875 \r\nQ 39.9375 36.921875 38.90625 39.578125 \r\nQ 37.890625 42.234375 35.28125 43.8125 \r\nQ 32.671875 45.40625 29.15625 45.40625 \r\nQ 23.53125 45.40625 19.453125 41.84375 \r\nQ 15.375 38.28125 15.375 28.328125 \r\nL 15.375 0 \r\nz\r\n\" id=\"ArialMT-110\"/>\r\n       <path d=\"M 25.78125 7.859375 \r\nL 27.046875 0.09375 \r\nQ 23.34375 -0.6875 20.40625 -0.6875 \r\nQ 15.625 -0.6875 12.984375 0.828125 \r\nQ 10.359375 2.34375 9.28125 4.8125 \r\nQ 8.203125 7.28125 8.203125 15.1875 \r\nL 8.203125 45.015625 \r\nL 1.765625 45.015625 \r\nL 1.765625 51.859375 \r\nL 8.203125 51.859375 \r\nL 8.203125 64.703125 \r\nL 16.9375 69.96875 \r\nL 16.9375 51.859375 \r\nL 25.78125 51.859375 \r\nL 25.78125 45.015625 \r\nL 16.9375 45.015625 \r\nL 16.9375 14.703125 \r\nQ 16.9375 10.9375 17.40625 9.859375 \r\nQ 17.875 8.796875 18.921875 8.15625 \r\nQ 19.96875 7.515625 21.921875 7.515625 \r\nQ 23.390625 7.515625 25.78125 7.859375 \r\nz\r\n\" id=\"ArialMT-116\"/>\r\n       <path d=\"M 6.59375 -19.875 \r\nL 6.59375 51.859375 \r\nL 14.59375 51.859375 \r\nL 14.59375 45.125 \r\nQ 17.4375 49.078125 21 51.046875 \r\nQ 24.5625 53.03125 29.640625 53.03125 \r\nQ 36.28125 53.03125 41.359375 49.609375 \r\nQ 46.4375 46.1875 49.015625 39.953125 \r\nQ 51.609375 33.734375 51.609375 26.3125 \r\nQ 51.609375 18.359375 48.75 11.984375 \r\nQ 45.90625 5.609375 40.453125 2.21875 \r\nQ 35.015625 -1.171875 29 -1.171875 \r\nQ 24.609375 -1.171875 21.109375 0.6875 \r\nQ 17.625 2.546875 15.375 5.375 \r\nL 15.375 -19.875 \r\nz\r\nM 14.546875 25.640625 \r\nQ 14.546875 15.625 18.59375 10.84375 \r\nQ 22.65625 6.0625 28.421875 6.0625 \r\nQ 34.28125 6.0625 38.453125 11.015625 \r\nQ 42.625 15.96875 42.625 26.375 \r\nQ 42.625 36.28125 38.546875 41.203125 \r\nQ 34.46875 46.140625 28.8125 46.140625 \r\nQ 23.1875 46.140625 18.859375 40.890625 \r\nQ 14.546875 35.640625 14.546875 25.640625 \r\nz\r\n\" id=\"ArialMT-112\"/>\r\n       <path d=\"M 6.5 0 \r\nL 6.5 51.859375 \r\nL 14.40625 51.859375 \r\nL 14.40625 44 \r\nQ 17.4375 49.515625 20 51.265625 \r\nQ 22.5625 53.03125 25.640625 53.03125 \r\nQ 30.078125 53.03125 34.671875 50.203125 \r\nL 31.640625 42.046875 \r\nQ 28.421875 43.953125 25.203125 43.953125 \r\nQ 22.3125 43.953125 20.015625 42.21875 \r\nQ 17.71875 40.484375 16.75 37.40625 \r\nQ 15.28125 32.71875 15.28125 27.15625 \r\nL 15.28125 0 \r\nz\r\n\" id=\"ArialMT-114\"/>\r\n      </defs>\r\n      <g style=\"fill:#262626;\" transform=\"translate(97.775078 327.864474)rotate(-90)scale(0.11 -0.11)\">\r\n       <use xlink:href=\"#ArialMT-99\"/>\r\n       <use x=\"50\" xlink:href=\"#ArialMT-108\"/>\r\n       <use x=\"72.216797\" xlink:href=\"#ArialMT-97\"/>\r\n       <use x=\"127.832031\" xlink:href=\"#ArialMT-105\"/>\r\n       <use x=\"150.048828\" xlink:href=\"#ArialMT-109\"/>\r\n       <use x=\"233.349609\" xlink:href=\"#ArialMT-101\"/>\r\n       <use x=\"288.964844\" xlink:href=\"#ArialMT-100\"/>\r\n       <use x=\"344.580078\" xlink:href=\"#ArialMT-95\"/>\r\n       <use x=\"400.195312\" xlink:href=\"#ArialMT-117\"/>\r\n       <use x=\"455.810547\" xlink:href=\"#ArialMT-110\"/>\r\n       <use x=\"511.425781\" xlink:href=\"#ArialMT-105\"/>\r\n       <use x=\"533.642578\" xlink:href=\"#ArialMT-116\"/>\r\n       <use x=\"561.425781\" xlink:href=\"#ArialMT-95\"/>\r\n       <use x=\"617.041016\" xlink:href=\"#ArialMT-112\"/>\r\n       <use x=\"672.65625\" xlink:href=\"#ArialMT-114\"/>\r\n       <use x=\"705.957031\" xlink:href=\"#ArialMT-105\"/>\r\n       <use x=\"728.173828\" xlink:href=\"#ArialMT-99\"/>\r\n       <use x=\"778.173828\" xlink:href=\"#ArialMT-101\"/>\r\n      </g>\r\n     </g>\r\n    </g>\r\n    <g id=\"xtick_2\">\r\n     <g id=\"text_2\">\r\n      <!-- invoiced_amount -->\r\n      <defs>\r\n       <path d=\"M 21 0 \r\nL 1.265625 51.859375 \r\nL 10.546875 51.859375 \r\nL 21.6875 20.796875 \r\nQ 23.484375 15.765625 25 10.359375 \r\nQ 26.171875 14.453125 28.265625 20.21875 \r\nL 39.796875 51.859375 \r\nL 48.828125 51.859375 \r\nL 29.203125 0 \r\nz\r\n\" id=\"ArialMT-118\"/>\r\n       <path d=\"M 3.328125 25.921875 \r\nQ 3.328125 40.328125 11.328125 47.265625 \r\nQ 18.015625 53.03125 27.640625 53.03125 \r\nQ 38.328125 53.03125 45.109375 46.015625 \r\nQ 51.90625 39.015625 51.90625 26.65625 \r\nQ 51.90625 16.65625 48.90625 10.90625 \r\nQ 45.90625 5.171875 40.15625 2 \r\nQ 34.421875 -1.171875 27.640625 -1.171875 \r\nQ 16.75 -1.171875 10.03125 5.8125 \r\nQ 3.328125 12.796875 3.328125 25.921875 \r\nz\r\nM 12.359375 25.921875 \r\nQ 12.359375 15.96875 16.703125 11.015625 \r\nQ 21.046875 6.0625 27.640625 6.0625 \r\nQ 34.1875 6.0625 38.53125 11.03125 \r\nQ 42.875 16.015625 42.875 26.21875 \r\nQ 42.875 35.84375 38.5 40.796875 \r\nQ 34.125 45.75 27.640625 45.75 \r\nQ 21.046875 45.75 16.703125 40.8125 \r\nQ 12.359375 35.890625 12.359375 25.921875 \r\nz\r\n\" id=\"ArialMT-111\"/>\r\n      </defs>\r\n      <g style=\"fill:#262626;\" transform=\"translate(181.475078 319.313693)rotate(-90)scale(0.11 -0.11)\">\r\n       <use xlink:href=\"#ArialMT-105\"/>\r\n       <use x=\"22.216797\" xlink:href=\"#ArialMT-110\"/>\r\n       <use x=\"77.832031\" xlink:href=\"#ArialMT-118\"/>\r\n       <use x=\"127.832031\" xlink:href=\"#ArialMT-111\"/>\r\n       <use x=\"183.447266\" xlink:href=\"#ArialMT-105\"/>\r\n       <use x=\"205.664062\" xlink:href=\"#ArialMT-99\"/>\r\n       <use x=\"255.664062\" xlink:href=\"#ArialMT-101\"/>\r\n       <use x=\"311.279297\" xlink:href=\"#ArialMT-100\"/>\r\n       <use x=\"366.894531\" xlink:href=\"#ArialMT-95\"/>\r\n       <use x=\"422.509766\" xlink:href=\"#ArialMT-97\"/>\r\n       <use x=\"478.125\" xlink:href=\"#ArialMT-109\"/>\r\n       <use x=\"561.425781\" xlink:href=\"#ArialMT-111\"/>\r\n       <use x=\"617.041016\" xlink:href=\"#ArialMT-117\"/>\r\n       <use x=\"672.65625\" xlink:href=\"#ArialMT-110\"/>\r\n       <use x=\"728.271484\" xlink:href=\"#ArialMT-116\"/>\r\n      </g>\r\n     </g>\r\n    </g>\r\n    <g id=\"xtick_3\">\r\n     <g id=\"text_3\">\r\n      <!-- claimed_units -->\r\n      <defs>\r\n       <path d=\"M 3.078125 15.484375 \r\nL 11.765625 16.84375 \r\nQ 12.5 11.625 15.84375 8.84375 \r\nQ 19.1875 6.0625 25.203125 6.0625 \r\nQ 31.25 6.0625 34.171875 8.515625 \r\nQ 37.109375 10.984375 37.109375 14.3125 \r\nQ 37.109375 17.28125 34.515625 19 \r\nQ 32.71875 20.171875 25.53125 21.96875 \r\nQ 15.875 24.421875 12.140625 26.203125 \r\nQ 8.40625 27.984375 6.46875 31.125 \r\nQ 4.546875 34.28125 4.546875 38.09375 \r\nQ 4.546875 41.546875 6.125 44.5 \r\nQ 7.71875 47.46875 10.453125 49.421875 \r\nQ 12.5 50.921875 16.03125 51.96875 \r\nQ 19.578125 53.03125 23.640625 53.03125 \r\nQ 29.734375 53.03125 34.34375 51.265625 \r\nQ 38.96875 49.515625 41.15625 46.5 \r\nQ 43.359375 43.5 44.1875 38.484375 \r\nL 35.59375 37.3125 \r\nQ 35.015625 41.3125 32.203125 43.546875 \r\nQ 29.390625 45.796875 24.265625 45.796875 \r\nQ 18.21875 45.796875 15.625 43.796875 \r\nQ 13.03125 41.796875 13.03125 39.109375 \r\nQ 13.03125 37.40625 14.109375 36.03125 \r\nQ 15.1875 34.625 17.484375 33.6875 \r\nQ 18.796875 33.203125 25.25 31.453125 \r\nQ 34.578125 28.953125 38.25 27.359375 \r\nQ 41.9375 25.78125 44.03125 22.75 \r\nQ 46.140625 19.734375 46.140625 15.234375 \r\nQ 46.140625 10.84375 43.578125 6.953125 \r\nQ 41.015625 3.078125 36.171875 0.953125 \r\nQ 31.34375 -1.171875 25.25 -1.171875 \r\nQ 15.140625 -1.171875 9.84375 3.03125 \r\nQ 4.546875 7.234375 3.078125 15.484375 \r\nz\r\n\" id=\"ArialMT-115\"/>\r\n      </defs>\r\n      <g style=\"fill:#262626;\" transform=\"translate(265.175078 303.406662)rotate(-90)scale(0.11 -0.11)\">\r\n       <use xlink:href=\"#ArialMT-99\"/>\r\n       <use x=\"50\" xlink:href=\"#ArialMT-108\"/>\r\n       <use x=\"72.216797\" xlink:href=\"#ArialMT-97\"/>\r\n       <use x=\"127.832031\" xlink:href=\"#ArialMT-105\"/>\r\n       <use x=\"150.048828\" xlink:href=\"#ArialMT-109\"/>\r\n       <use x=\"233.349609\" xlink:href=\"#ArialMT-101\"/>\r\n       <use x=\"288.964844\" xlink:href=\"#ArialMT-100\"/>\r\n       <use x=\"344.580078\" xlink:href=\"#ArialMT-95\"/>\r\n       <use x=\"400.195312\" xlink:href=\"#ArialMT-117\"/>\r\n       <use x=\"455.810547\" xlink:href=\"#ArialMT-110\"/>\r\n       <use x=\"511.425781\" xlink:href=\"#ArialMT-105\"/>\r\n       <use x=\"533.642578\" xlink:href=\"#ArialMT-116\"/>\r\n       <use x=\"561.425781\" xlink:href=\"#ArialMT-115\"/>\r\n      </g>\r\n     </g>\r\n    </g>\r\n    <g id=\"xtick_4\">\r\n     <g id=\"text_4\">\r\n      <!-- funded_amount -->\r\n      <defs>\r\n       <path d=\"M 8.6875 0 \r\nL 8.6875 45.015625 \r\nL 0.921875 45.015625 \r\nL 0.921875 51.859375 \r\nL 8.6875 51.859375 \r\nL 8.6875 57.375 \r\nQ 8.6875 62.59375 9.625 65.140625 \r\nQ 10.890625 68.5625 14.078125 70.671875 \r\nQ 17.28125 72.796875 23.046875 72.796875 \r\nQ 26.765625 72.796875 31.25 71.921875 \r\nL 29.9375 64.265625 \r\nQ 27.203125 64.75 24.75 64.75 \r\nQ 20.75 64.75 19.09375 63.03125 \r\nQ 17.4375 61.328125 17.4375 56.640625 \r\nL 17.4375 51.859375 \r\nL 27.546875 51.859375 \r\nL 27.546875 45.015625 \r\nL 17.4375 45.015625 \r\nL 17.4375 0 \r\nz\r\n\" id=\"ArialMT-102\"/>\r\n      </defs>\r\n      <g style=\"fill:#262626;\" transform=\"translate(348.942109 312.598537)rotate(-90)scale(0.11 -0.11)\">\r\n       <use xlink:href=\"#ArialMT-102\"/>\r\n       <use x=\"27.783203\" xlink:href=\"#ArialMT-117\"/>\r\n       <use x=\"83.398438\" xlink:href=\"#ArialMT-110\"/>\r\n       <use x=\"139.013672\" xlink:href=\"#ArialMT-100\"/>\r\n       <use x=\"194.628906\" xlink:href=\"#ArialMT-101\"/>\r\n       <use x=\"250.244141\" xlink:href=\"#ArialMT-100\"/>\r\n       <use x=\"305.859375\" xlink:href=\"#ArialMT-95\"/>\r\n       <use x=\"361.474609\" xlink:href=\"#ArialMT-97\"/>\r\n       <use x=\"417.089844\" xlink:href=\"#ArialMT-109\"/>\r\n       <use x=\"500.390625\" xlink:href=\"#ArialMT-111\"/>\r\n       <use x=\"556.005859\" xlink:href=\"#ArialMT-117\"/>\r\n       <use x=\"611.621094\" xlink:href=\"#ArialMT-110\"/>\r\n       <use x=\"667.236328\" xlink:href=\"#ArialMT-116\"/>\r\n      </g>\r\n     </g>\r\n    </g>\r\n    <g id=\"text_5\">\r\n     <!-- Column -->\r\n     <defs>\r\n      <path d=\"M 58.796875 25.09375 \r\nL 68.265625 22.703125 \r\nQ 65.28125 11.03125 57.546875 4.90625 \r\nQ 49.8125 -1.21875 38.625 -1.21875 \r\nQ 27.046875 -1.21875 19.796875 3.484375 \r\nQ 12.546875 8.203125 8.765625 17.140625 \r\nQ 4.984375 26.078125 4.984375 36.328125 \r\nQ 4.984375 47.515625 9.25 55.828125 \r\nQ 13.53125 64.15625 21.40625 68.46875 \r\nQ 29.296875 72.796875 38.765625 72.796875 \r\nQ 49.515625 72.796875 56.828125 67.328125 \r\nQ 64.15625 61.859375 67.046875 51.953125 \r\nL 57.71875 49.75 \r\nQ 55.21875 57.5625 50.484375 61.125 \r\nQ 45.75 64.703125 38.578125 64.703125 \r\nQ 30.328125 64.703125 24.78125 60.734375 \r\nQ 19.234375 56.78125 16.984375 50.109375 \r\nQ 14.75 43.453125 14.75 36.375 \r\nQ 14.75 27.25 17.40625 20.4375 \r\nQ 20.0625 13.625 25.671875 10.25 \r\nQ 31.296875 6.890625 37.84375 6.890625 \r\nQ 45.796875 6.890625 51.3125 11.46875 \r\nQ 56.84375 16.0625 58.796875 25.09375 \r\nz\r\n\" id=\"ArialMT-67\"/>\r\n     </defs>\r\n     <g style=\"fill:#262626;\" transform=\"translate(199.807656 340.453849)scale(0.12 -0.12)\">\r\n      <use xlink:href=\"#ArialMT-67\"/>\r\n      <use x=\"72.216797\" xlink:href=\"#ArialMT-111\"/>\r\n      <use x=\"127.832031\" xlink:href=\"#ArialMT-108\"/>\r\n      <use x=\"150.048828\" xlink:href=\"#ArialMT-117\"/>\r\n      <use x=\"205.664062\" xlink:href=\"#ArialMT-109\"/>\r\n      <use x=\"288.964844\" xlink:href=\"#ArialMT-110\"/>\r\n     </g>\r\n    </g>\r\n   </g>\r\n   <g id=\"matplotlib.axis_2\">\r\n    <g id=\"ytick_1\">\r\n     <g id=\"line2d_1\">\r\n      <path clip-path=\"url(#p8d8132fae7)\" d=\"M 53.081406 226.653693 \r\nL 387.881406 226.653693 \r\n\" style=\"fill:none;stroke:#cccccc;stroke-linecap:round;\"/>\r\n     </g>\r\n     <g id=\"text_6\">\r\n      <!-- 0.00 -->\r\n      <defs>\r\n       <path d=\"M 4.15625 35.296875 \r\nQ 4.15625 48 6.765625 55.734375 \r\nQ 9.375 63.484375 14.515625 67.671875 \r\nQ 19.671875 71.875 27.484375 71.875 \r\nQ 33.25 71.875 37.59375 69.546875 \r\nQ 41.9375 67.234375 44.765625 62.859375 \r\nQ 47.609375 58.5 49.21875 52.21875 \r\nQ 50.828125 45.953125 50.828125 35.296875 \r\nQ 50.828125 22.703125 48.234375 14.96875 \r\nQ 45.65625 7.234375 40.5 3 \r\nQ 35.359375 -1.21875 27.484375 -1.21875 \r\nQ 17.140625 -1.21875 11.234375 6.203125 \r\nQ 4.15625 15.140625 4.15625 35.296875 \r\nz\r\nM 13.1875 35.296875 \r\nQ 13.1875 17.671875 17.3125 11.828125 \r\nQ 21.4375 6 27.484375 6 \r\nQ 33.546875 6 37.671875 11.859375 \r\nQ 41.796875 17.71875 41.796875 35.296875 \r\nQ 41.796875 52.984375 37.671875 58.78125 \r\nQ 33.546875 64.59375 27.390625 64.59375 \r\nQ 21.34375 64.59375 17.71875 59.46875 \r\nQ 13.1875 52.9375 13.1875 35.296875 \r\nz\r\n\" id=\"ArialMT-48\"/>\r\n       <path d=\"M 9.078125 0 \r\nL 9.078125 10.015625 \r\nL 19.09375 10.015625 \r\nL 19.09375 0 \r\nz\r\n\" id=\"ArialMT-46\"/>\r\n      </defs>\r\n      <g style=\"fill:#262626;\" transform=\"translate(22.174375 230.59049)scale(0.11 -0.11)\">\r\n       <use xlink:href=\"#ArialMT-48\"/>\r\n       <use x=\"55.615234\" xlink:href=\"#ArialMT-46\"/>\r\n       <use x=\"83.398438\" xlink:href=\"#ArialMT-48\"/>\r\n       <use x=\"139.013672\" xlink:href=\"#ArialMT-48\"/>\r\n      </g>\r\n     </g>\r\n    </g>\r\n    <g id=\"ytick_2\">\r\n     <g id=\"line2d_2\">\r\n      <path clip-path=\"url(#p8d8132fae7)\" d=\"M 53.081406 199.714081 \r\nL 387.881406 199.714081 \r\n\" style=\"fill:none;stroke:#cccccc;stroke-linecap:round;\"/>\r\n     </g>\r\n     <g id=\"text_7\">\r\n      <!-- 0.05 -->\r\n      <defs>\r\n       <path d=\"M 4.15625 18.75 \r\nL 13.375 19.53125 \r\nQ 14.40625 12.796875 18.140625 9.390625 \r\nQ 21.875 6 27.15625 6 \r\nQ 33.5 6 37.890625 10.78125 \r\nQ 42.28125 15.578125 42.28125 23.484375 \r\nQ 42.28125 31 38.0625 35.34375 \r\nQ 33.84375 39.703125 27 39.703125 \r\nQ 22.75 39.703125 19.328125 37.765625 \r\nQ 15.921875 35.84375 13.96875 32.765625 \r\nL 5.71875 33.84375 \r\nL 12.640625 70.609375 \r\nL 48.25 70.609375 \r\nL 48.25 62.203125 \r\nL 19.671875 62.203125 \r\nL 15.828125 42.96875 \r\nQ 22.265625 47.46875 29.34375 47.46875 \r\nQ 38.71875 47.46875 45.15625 40.96875 \r\nQ 51.609375 34.46875 51.609375 24.265625 \r\nQ 51.609375 14.546875 45.953125 7.46875 \r\nQ 39.0625 -1.21875 27.15625 -1.21875 \r\nQ 17.390625 -1.21875 11.203125 4.25 \r\nQ 5.03125 9.71875 4.15625 18.75 \r\nz\r\n\" id=\"ArialMT-53\"/>\r\n      </defs>\r\n      <g style=\"fill:#262626;\" transform=\"translate(22.174375 203.650878)scale(0.11 -0.11)\">\r\n       <use xlink:href=\"#ArialMT-48\"/>\r\n       <use x=\"55.615234\" xlink:href=\"#ArialMT-46\"/>\r\n       <use x=\"83.398438\" xlink:href=\"#ArialMT-48\"/>\r\n       <use x=\"139.013672\" xlink:href=\"#ArialMT-53\"/>\r\n      </g>\r\n     </g>\r\n    </g>\r\n    <g id=\"ytick_3\">\r\n     <g id=\"line2d_3\">\r\n      <path clip-path=\"url(#p8d8132fae7)\" d=\"M 53.081406 172.774469 \r\nL 387.881406 172.774469 \r\n\" style=\"fill:none;stroke:#cccccc;stroke-linecap:round;\"/>\r\n     </g>\r\n     <g id=\"text_8\">\r\n      <!-- 0.10 -->\r\n      <defs>\r\n       <path d=\"M 37.25 0 \r\nL 28.46875 0 \r\nL 28.46875 56 \r\nQ 25.296875 52.984375 20.140625 49.953125 \r\nQ 14.984375 46.921875 10.890625 45.40625 \r\nL 10.890625 53.90625 \r\nQ 18.265625 57.375 23.78125 62.296875 \r\nQ 29.296875 67.234375 31.59375 71.875 \r\nL 37.25 71.875 \r\nz\r\n\" id=\"ArialMT-49\"/>\r\n      </defs>\r\n      <g style=\"fill:#262626;\" transform=\"translate(22.174375 176.711266)scale(0.11 -0.11)\">\r\n       <use xlink:href=\"#ArialMT-48\"/>\r\n       <use x=\"55.615234\" xlink:href=\"#ArialMT-46\"/>\r\n       <use x=\"83.398438\" xlink:href=\"#ArialMT-49\"/>\r\n       <use x=\"139.013672\" xlink:href=\"#ArialMT-48\"/>\r\n      </g>\r\n     </g>\r\n    </g>\r\n    <g id=\"ytick_4\">\r\n     <g id=\"line2d_4\">\r\n      <path clip-path=\"url(#p8d8132fae7)\" d=\"M 53.081406 145.834857 \r\nL 387.881406 145.834857 \r\n\" style=\"fill:none;stroke:#cccccc;stroke-linecap:round;\"/>\r\n     </g>\r\n     <g id=\"text_9\">\r\n      <!-- 0.15 -->\r\n      <g style=\"fill:#262626;\" transform=\"translate(22.174375 149.771654)scale(0.11 -0.11)\">\r\n       <use xlink:href=\"#ArialMT-48\"/>\r\n       <use x=\"55.615234\" xlink:href=\"#ArialMT-46\"/>\r\n       <use x=\"83.398438\" xlink:href=\"#ArialMT-49\"/>\r\n       <use x=\"139.013672\" xlink:href=\"#ArialMT-53\"/>\r\n      </g>\r\n     </g>\r\n    </g>\r\n    <g id=\"ytick_5\">\r\n     <g id=\"line2d_5\">\r\n      <path clip-path=\"url(#p8d8132fae7)\" d=\"M 53.081406 118.895245 \r\nL 387.881406 118.895245 \r\n\" style=\"fill:none;stroke:#cccccc;stroke-linecap:round;\"/>\r\n     </g>\r\n     <g id=\"text_10\">\r\n      <!-- 0.20 -->\r\n      <defs>\r\n       <path d=\"M 50.34375 8.453125 \r\nL 50.34375 0 \r\nL 3.03125 0 \r\nQ 2.9375 3.171875 4.046875 6.109375 \r\nQ 5.859375 10.9375 9.828125 15.625 \r\nQ 13.8125 20.3125 21.34375 26.46875 \r\nQ 33.015625 36.03125 37.109375 41.625 \r\nQ 41.21875 47.21875 41.21875 52.203125 \r\nQ 41.21875 57.421875 37.46875 61 \r\nQ 33.734375 64.59375 27.734375 64.59375 \r\nQ 21.390625 64.59375 17.578125 60.78125 \r\nQ 13.765625 56.984375 13.71875 50.25 \r\nL 4.6875 51.171875 \r\nQ 5.609375 61.28125 11.65625 66.578125 \r\nQ 17.71875 71.875 27.9375 71.875 \r\nQ 38.234375 71.875 44.234375 66.15625 \r\nQ 50.25 60.453125 50.25 52 \r\nQ 50.25 47.703125 48.484375 43.546875 \r\nQ 46.734375 39.40625 42.65625 34.8125 \r\nQ 38.578125 30.21875 29.109375 22.21875 \r\nQ 21.1875 15.578125 18.9375 13.203125 \r\nQ 16.703125 10.84375 15.234375 8.453125 \r\nz\r\n\" id=\"ArialMT-50\"/>\r\n      </defs>\r\n      <g style=\"fill:#262626;\" transform=\"translate(22.174375 122.832042)scale(0.11 -0.11)\">\r\n       <use xlink:href=\"#ArialMT-48\"/>\r\n       <use x=\"55.615234\" xlink:href=\"#ArialMT-46\"/>\r\n       <use x=\"83.398438\" xlink:href=\"#ArialMT-50\"/>\r\n       <use x=\"139.013672\" xlink:href=\"#ArialMT-48\"/>\r\n      </g>\r\n     </g>\r\n    </g>\r\n    <g id=\"ytick_6\">\r\n     <g id=\"line2d_6\">\r\n      <path clip-path=\"url(#p8d8132fae7)\" d=\"M 53.081406 91.955633 \r\nL 387.881406 91.955633 \r\n\" style=\"fill:none;stroke:#cccccc;stroke-linecap:round;\"/>\r\n     </g>\r\n     <g id=\"text_11\">\r\n      <!-- 0.25 -->\r\n      <g style=\"fill:#262626;\" transform=\"translate(22.174375 95.89243)scale(0.11 -0.11)\">\r\n       <use xlink:href=\"#ArialMT-48\"/>\r\n       <use x=\"55.615234\" xlink:href=\"#ArialMT-46\"/>\r\n       <use x=\"83.398438\" xlink:href=\"#ArialMT-50\"/>\r\n       <use x=\"139.013672\" xlink:href=\"#ArialMT-53\"/>\r\n      </g>\r\n     </g>\r\n    </g>\r\n    <g id=\"ytick_7\">\r\n     <g id=\"line2d_7\">\r\n      <path clip-path=\"url(#p8d8132fae7)\" d=\"M 53.081406 65.016021 \r\nL 387.881406 65.016021 \r\n\" style=\"fill:none;stroke:#cccccc;stroke-linecap:round;\"/>\r\n     </g>\r\n     <g id=\"text_12\">\r\n      <!-- 0.30 -->\r\n      <defs>\r\n       <path d=\"M 4.203125 18.890625 \r\nL 12.984375 20.0625 \r\nQ 14.5 12.59375 18.140625 9.296875 \r\nQ 21.78125 6 27 6 \r\nQ 33.203125 6 37.46875 10.296875 \r\nQ 41.75 14.59375 41.75 20.953125 \r\nQ 41.75 27 37.796875 30.921875 \r\nQ 33.84375 34.859375 27.734375 34.859375 \r\nQ 25.25 34.859375 21.53125 33.890625 \r\nL 22.515625 41.609375 \r\nQ 23.390625 41.5 23.921875 41.5 \r\nQ 29.546875 41.5 34.03125 44.421875 \r\nQ 38.53125 47.359375 38.53125 53.46875 \r\nQ 38.53125 58.296875 35.25 61.46875 \r\nQ 31.984375 64.65625 26.8125 64.65625 \r\nQ 21.6875 64.65625 18.265625 61.421875 \r\nQ 14.84375 58.203125 13.875 51.765625 \r\nL 5.078125 53.328125 \r\nQ 6.6875 62.15625 12.390625 67.015625 \r\nQ 18.109375 71.875 26.609375 71.875 \r\nQ 32.46875 71.875 37.390625 69.359375 \r\nQ 42.328125 66.84375 44.9375 62.5 \r\nQ 47.5625 58.15625 47.5625 53.265625 \r\nQ 47.5625 48.640625 45.0625 44.828125 \r\nQ 42.578125 41.015625 37.703125 38.765625 \r\nQ 44.046875 37.3125 47.5625 32.6875 \r\nQ 51.078125 28.078125 51.078125 21.140625 \r\nQ 51.078125 11.765625 44.234375 5.25 \r\nQ 37.40625 -1.265625 26.953125 -1.265625 \r\nQ 17.53125 -1.265625 11.296875 4.34375 \r\nQ 5.078125 9.96875 4.203125 18.890625 \r\nz\r\n\" id=\"ArialMT-51\"/>\r\n      </defs>\r\n      <g style=\"fill:#262626;\" transform=\"translate(22.174375 68.952818)scale(0.11 -0.11)\">\r\n       <use xlink:href=\"#ArialMT-48\"/>\r\n       <use x=\"55.615234\" xlink:href=\"#ArialMT-46\"/>\r\n       <use x=\"83.398438\" xlink:href=\"#ArialMT-51\"/>\r\n       <use x=\"139.013672\" xlink:href=\"#ArialMT-48\"/>\r\n      </g>\r\n     </g>\r\n    </g>\r\n    <g id=\"ytick_8\">\r\n     <g id=\"line2d_8\">\r\n      <path clip-path=\"url(#p8d8132fae7)\" d=\"M 53.081406 38.076409 \r\nL 387.881406 38.076409 \r\n\" style=\"fill:none;stroke:#cccccc;stroke-linecap:round;\"/>\r\n     </g>\r\n     <g id=\"text_13\">\r\n      <!-- 0.35 -->\r\n      <g style=\"fill:#262626;\" transform=\"translate(22.174375 42.013206)scale(0.11 -0.11)\">\r\n       <use xlink:href=\"#ArialMT-48\"/>\r\n       <use x=\"55.615234\" xlink:href=\"#ArialMT-46\"/>\r\n       <use x=\"83.398438\" xlink:href=\"#ArialMT-51\"/>\r\n       <use x=\"139.013672\" xlink:href=\"#ArialMT-53\"/>\r\n      </g>\r\n     </g>\r\n    </g>\r\n    <g id=\"ytick_9\">\r\n     <g id=\"line2d_9\">\r\n      <path clip-path=\"url(#p8d8132fae7)\" d=\"M 53.081406 11.136797 \r\nL 387.881406 11.136797 \r\n\" style=\"fill:none;stroke:#cccccc;stroke-linecap:round;\"/>\r\n     </g>\r\n     <g id=\"text_14\">\r\n      <!-- 0.40 -->\r\n      <defs>\r\n       <path d=\"M 32.328125 0 \r\nL 32.328125 17.140625 \r\nL 1.265625 17.140625 \r\nL 1.265625 25.203125 \r\nL 33.9375 71.578125 \r\nL 41.109375 71.578125 \r\nL 41.109375 25.203125 \r\nL 50.78125 25.203125 \r\nL 50.78125 17.140625 \r\nL 41.109375 17.140625 \r\nL 41.109375 0 \r\nz\r\nM 32.328125 25.203125 \r\nL 32.328125 57.46875 \r\nL 9.90625 25.203125 \r\nz\r\n\" id=\"ArialMT-52\"/>\r\n      </defs>\r\n      <g style=\"fill:#262626;\" transform=\"translate(22.174375 15.073594)scale(0.11 -0.11)\">\r\n       <use xlink:href=\"#ArialMT-48\"/>\r\n       <use x=\"55.615234\" xlink:href=\"#ArialMT-46\"/>\r\n       <use x=\"83.398438\" xlink:href=\"#ArialMT-52\"/>\r\n       <use x=\"139.013672\" xlink:href=\"#ArialMT-48\"/>\r\n      </g>\r\n     </g>\r\n    </g>\r\n    <g id=\"text_15\">\r\n     <!-- Percentual -->\r\n     <defs>\r\n      <path d=\"M 7.71875 0 \r\nL 7.71875 71.578125 \r\nL 34.71875 71.578125 \r\nQ 41.84375 71.578125 45.609375 70.90625 \r\nQ 50.875 70.015625 54.4375 67.546875 \r\nQ 58.015625 65.09375 60.1875 60.640625 \r\nQ 62.359375 56.203125 62.359375 50.875 \r\nQ 62.359375 41.75 56.546875 35.421875 \r\nQ 50.734375 29.109375 35.546875 29.109375 \r\nL 17.1875 29.109375 \r\nL 17.1875 0 \r\nz\r\nM 17.1875 37.546875 \r\nL 35.6875 37.546875 \r\nQ 44.875 37.546875 48.734375 40.96875 \r\nQ 52.59375 44.390625 52.59375 50.59375 \r\nQ 52.59375 55.078125 50.3125 58.265625 \r\nQ 48.046875 61.46875 44.34375 62.5 \r\nQ 41.9375 63.140625 35.5 63.140625 \r\nL 17.1875 63.140625 \r\nz\r\n\" id=\"ArialMT-80\"/>\r\n     </defs>\r\n     <g style=\"fill:#262626;\" transform=\"translate(15.789375 146.616506)rotate(-90)scale(0.12 -0.12)\">\r\n      <use xlink:href=\"#ArialMT-80\"/>\r\n      <use x=\"66.699219\" xlink:href=\"#ArialMT-101\"/>\r\n      <use x=\"122.314453\" xlink:href=\"#ArialMT-114\"/>\r\n      <use x=\"155.615234\" xlink:href=\"#ArialMT-99\"/>\r\n      <use x=\"205.615234\" xlink:href=\"#ArialMT-101\"/>\r\n      <use x=\"261.230469\" xlink:href=\"#ArialMT-110\"/>\r\n      <use x=\"316.845703\" xlink:href=\"#ArialMT-116\"/>\r\n      <use x=\"344.628906\" xlink:href=\"#ArialMT-117\"/>\r\n      <use x=\"400.244141\" xlink:href=\"#ArialMT-97\"/>\r\n      <use x=\"455.859375\" xlink:href=\"#ArialMT-108\"/>\r\n     </g>\r\n    </g>\r\n   </g>\r\n   <g id=\"patch_3\">\r\n    <path clip-path=\"url(#p8d8132fae7)\" d=\"M 61.451406 226.653693 \r\nL 128.411406 226.653693 \r\nL 128.411406 211.878347 \r\nL 61.451406 211.878347 \r\nz\r\n\" style=\"fill:#5875a4;stroke:#ffffff;stroke-linejoin:miter;\"/>\r\n   </g>\r\n   <g id=\"patch_4\">\r\n    <path clip-path=\"url(#p8d8132fae7)\" d=\"M 145.151406 226.653693 \r\nL 212.111406 226.653693 \r\nL 212.111406 84.671849 \r\nL 145.151406 84.671849 \r\nz\r\n\" style=\"fill:#cc8963;stroke:#ffffff;stroke-linejoin:miter;\"/>\r\n   </g>\r\n   <g id=\"patch_5\">\r\n    <path clip-path=\"url(#p8d8132fae7)\" d=\"M 228.851406 226.653693 \r\nL 295.811406 226.653693 \r\nL 295.811406 80.747148 \r\nL 228.851406 80.747148 \r\nz\r\n\" style=\"fill:#5f9e6e;stroke:#ffffff;stroke-linejoin:miter;\"/>\r\n   </g>\r\n   <g id=\"patch_6\">\r\n    <path clip-path=\"url(#p8d8132fae7)\" d=\"M 312.551406 226.653693 \r\nL 379.511406 226.653693 \r\nL 379.511406 19.567979 \r\nL 312.551406 19.567979 \r\nz\r\n\" style=\"fill:#b55d60;stroke:#ffffff;stroke-linejoin:miter;\"/>\r\n   </g>\r\n   <g id=\"line2d_10\">\r\n    <path clip-path=\"url(#p8d8132fae7)\" style=\"fill:none;stroke:#424242;stroke-linecap:round;stroke-width:2.7;\"/>\r\n   </g>\r\n   <g id=\"line2d_11\">\r\n    <path clip-path=\"url(#p8d8132fae7)\" style=\"fill:none;stroke:#424242;stroke-linecap:round;stroke-width:2.7;\"/>\r\n   </g>\r\n   <g id=\"line2d_12\">\r\n    <path clip-path=\"url(#p8d8132fae7)\" style=\"fill:none;stroke:#424242;stroke-linecap:round;stroke-width:2.7;\"/>\r\n   </g>\r\n   <g id=\"line2d_13\">\r\n    <path clip-path=\"url(#p8d8132fae7)\" style=\"fill:none;stroke:#424242;stroke-linecap:round;stroke-width:2.7;\"/>\r\n   </g>\r\n   <g id=\"patch_7\">\r\n    <path d=\"M 53.081406 226.653693 \r\nL 53.081406 9.213693 \r\n\" style=\"fill:none;stroke:#cccccc;stroke-linecap:square;stroke-linejoin:miter;stroke-width:1.25;\"/>\r\n   </g>\r\n   <g id=\"patch_8\">\r\n    <path d=\"M 387.881406 226.653693 \r\nL 387.881406 9.213693 \r\n\" style=\"fill:none;stroke:#cccccc;stroke-linecap:square;stroke-linejoin:miter;stroke-width:1.25;\"/>\r\n   </g>\r\n   <g id=\"patch_9\">\r\n    <path d=\"M 53.081406 226.653693 \r\nL 387.881406 226.653693 \r\n\" style=\"fill:none;stroke:#cccccc;stroke-linecap:square;stroke-linejoin:miter;stroke-width:1.25;\"/>\r\n   </g>\r\n   <g id=\"patch_10\">\r\n    <path d=\"M 53.081406 9.213693 \r\nL 387.881406 9.213693 \r\n\" style=\"fill:none;stroke:#cccccc;stroke-linecap:square;stroke-linejoin:miter;stroke-width:1.25;\"/>\r\n   </g>\r\n  </g>\r\n </g>\r\n <defs>\r\n  <clipPath id=\"p8d8132fae7\">\r\n   <rect height=\"217.44\" width=\"334.8\" x=\"53.081406\" y=\"9.213693\"/>\r\n  </clipPath>\r\n </defs>\r\n</svg>\r\n",
      "image/png": "[encoded data removed]"
     },
     "metadata": {}
    },
    {
     "output_type": "stream",
     "name": "stdout",
     "text": [
      "                    Percentual              Column\nName                                              \nclaimed_unit_price    0.027423  claimed_unit_price\ninvoiced_amount       0.263519     invoiced_amount\nclaimed_units         0.270803       claimed_units\nfunded_amount         0.384352       funded_amount\nNone\n"
     ]
    }
   ],
   "source": [
    "# Check if there any Nan Field\n",
    "print(plotNaNValuesColums(invoices_claims_last_completed))"
   ]
  },
  {
   "cell_type": "code",
   "execution_count": 41,
   "metadata": {},
   "outputs": [
    {
     "output_type": "execute_result",
     "data": {
      "text/plain": [
       "        funded_amount  claimed_units                      claim_level2_key  \\\n",
       "106               NaN            1.0  7d0af71b-f597-11e9-bfb4-022d4762bb3c   \n",
       "895               NaN            8.0  7d0af71b-f597-11e9-bfb4-022d4762bb3c   \n",
       "18286             NaN            4.0  7d0af53b-f597-11e9-bfb4-022d4762bb3c   \n",
       "18287             NaN            4.0  7d0af53b-f597-11e9-bfb4-022d4762bb3c   \n",
       "19351             NaN            4.0  7d0af53b-f597-11e9-bfb4-022d4762bb3c   \n",
       "...               ...            ...                                   ...   \n",
       "231700            NaN           20.0  7d0af71b-f597-11e9-bfb4-022d4762bb3c   \n",
       "231987            NaN            0.0  7d0af53b-f597-11e9-bfb4-022d4762bb3c   \n",
       "231992            NaN            2.0  7d0af71b-f597-11e9-bfb4-022d4762bb3c   \n",
       "232644            NaN            0.0  7d0af53b-f597-11e9-bfb4-022d4762bb3c   \n",
       "232844            NaN            1.0  7d0af57b-f597-11e9-bfb4-022d4762bb3c   \n",
       "\n",
       "        member_id  invoiced_amount  invoice_id claim_start_date  \\\n",
       "106            21             1.00         825       2020-06-25   \n",
       "895           262           386.24        1724       2020-06-08   \n",
       "18286         658           300.00       19626       2020-05-23   \n",
       "18287         658           380.00       19626       2020-05-24   \n",
       "19351        1087           249.96       20911       2020-06-10   \n",
       "...           ...              ...         ...              ...   \n",
       "231700       3549            62.00      495718       2021-03-08   \n",
       "231987        533             0.00      499934       2021-03-11   \n",
       "231992        359            98.60      500343       2021-03-18   \n",
       "232644        533             0.00      511380       2021-03-16   \n",
       "232844        822           190.00      515579       2021-03-24   \n",
       "\n",
       "       claim_end_date  claim_id                      claim_level1_key  \\\n",
       "106        2020-06-25      1081  58745466-f597-11e9-bfb4-022d4762bb3c   \n",
       "895        2020-06-08      2717  58745466-f597-11e9-bfb4-022d4762bb3c   \n",
       "18286      2020-05-23     31479  58745466-f597-11e9-bfb4-022d4762bb3c   \n",
       "18287      2020-05-24     31480  58745466-f597-11e9-bfb4-022d4762bb3c   \n",
       "19351      2020-06-12     33585  58745466-f597-11e9-bfb4-022d4762bb3c   \n",
       "...               ...       ...                                   ...   \n",
       "231700     2021-03-12    917898  58745466-f597-11e9-bfb4-022d4762bb3c   \n",
       "231987     2021-03-11    926602  58745466-f597-11e9-bfb4-022d4762bb3c   \n",
       "231992     2021-03-18    927262  58745466-f597-11e9-bfb4-022d4762bb3c   \n",
       "232644     2021-03-16    948762  58745466-f597-11e9-bfb4-022d4762bb3c   \n",
       "232844     2021-03-24    956883  5874551b-f597-11e9-bfb4-022d4762bb3c   \n",
       "\n",
       "           invoice_state                      claim_level3_key  \\\n",
       "106            CANCELLED  2d001c6e-754f-11ea-ade9-022376bbb7c0   \n",
       "895            CANCELLED  2d001d20-754f-11ea-ade9-022376bbb7c0   \n",
       "18286   INVOICE_REJECTED  2d002864-754f-11ea-ade9-022376bbb7c0   \n",
       "18287   INVOICE_REJECTED  2d00287d-754f-11ea-ade9-022376bbb7c0   \n",
       "19351          CANCELLED  85e98f73-754f-11ea-ade9-022376bbb7c0   \n",
       "...                  ...                                   ...   \n",
       "231700         CANCELLED  2d001d52-754f-11ea-ade9-022376bbb7c0   \n",
       "231987          ALL_PAID  2d0032cb-754f-11ea-ade9-022376bbb7c0   \n",
       "231992  INVOICE_REJECTED  2d001d20-754f-11ea-ade9-022376bbb7c0   \n",
       "232644          ALL_PAID  2d00284b-754f-11ea-ade9-022376bbb7c0   \n",
       "232844         CANCELLED  85e9e7ba-754f-11ea-ade9-022376bbb7c0   \n",
       "\n",
       "        claimed_unit_price           updated_at        claim_state  \n",
       "106                   1.00  2021-04-06 17:41:23          CANCELLED  \n",
       "895                  48.28  2021-04-06 17:50:24          CANCELLED  \n",
       "18286                75.00  2021-04-06 17:54:51  OPERATOR_REJECTED  \n",
       "18287                95.00  2021-04-06 17:54:51  OPERATOR_REJECTED  \n",
       "19351                62.49  2021-04-06 17:59:05          CANCELLED  \n",
       "...                    ...                  ...                ...  \n",
       "231700                3.10  2021-04-06 22:56:28          CANCELLED  \n",
       "231987               55.47  2021-04-06 22:59:41      NOT_CLAIMABLE  \n",
       "231992               49.30  2021-04-06 22:59:59    MEMBER_REJECTED  \n",
       "232644               55.47  2021-04-06 23:08:26      NOT_CLAIMABLE  \n",
       "232844              190.00  2021-04-06 23:11:34          CANCELLED  \n",
       "\n",
       "[897 rows x 15 columns]"
      ],
      "text/html": "<div>\n<style scoped>\n    .dataframe tbody tr th:only-of-type {\n        vertical-align: middle;\n    }\n\n    .dataframe tbody tr th {\n        vertical-align: top;\n    }\n\n    .dataframe thead th {\n        text-align: right;\n    }\n</style>\n<table border=\"1\" class=\"dataframe\">\n  <thead>\n    <tr style=\"text-align: right;\">\n      <th></th>\n      <th>funded_amount</th>\n      <th>claimed_units</th>\n      <th>claim_level2_key</th>\n      <th>member_id</th>\n      <th>invoiced_amount</th>\n      <th>invoice_id</th>\n      <th>claim_start_date</th>\n      <th>claim_end_date</th>\n      <th>claim_id</th>\n      <th>claim_level1_key</th>\n      <th>invoice_state</th>\n      <th>claim_level3_key</th>\n      <th>claimed_unit_price</th>\n      <th>updated_at</th>\n      <th>claim_state</th>\n    </tr>\n  </thead>\n  <tbody>\n    <tr>\n      <th>106</th>\n      <td>NaN</td>\n      <td>1.0</td>\n      <td>7d0af71b-f597-11e9-bfb4-022d4762bb3c</td>\n      <td>21</td>\n      <td>1.00</td>\n      <td>825</td>\n      <td>2020-06-25</td>\n      <td>2020-06-25</td>\n      <td>1081</td>\n      <td>58745466-f597-11e9-bfb4-022d4762bb3c</td>\n      <td>CANCELLED</td>\n      <td>2d001c6e-754f-11ea-ade9-022376bbb7c0</td>\n      <td>1.00</td>\n      <td>2021-04-06 17:41:23</td>\n      <td>CANCELLED</td>\n    </tr>\n    <tr>\n      <th>895</th>\n      <td>NaN</td>\n      <td>8.0</td>\n      <td>7d0af71b-f597-11e9-bfb4-022d4762bb3c</td>\n      <td>262</td>\n      <td>386.24</td>\n      <td>1724</td>\n      <td>2020-06-08</td>\n      <td>2020-06-08</td>\n      <td>2717</td>\n      <td>58745466-f597-11e9-bfb4-022d4762bb3c</td>\n      <td>CANCELLED</td>\n      <td>2d001d20-754f-11ea-ade9-022376bbb7c0</td>\n      <td>48.28</td>\n      <td>2021-04-06 17:50:24</td>\n      <td>CANCELLED</td>\n    </tr>\n    <tr>\n      <th>18286</th>\n      <td>NaN</td>\n      <td>4.0</td>\n      <td>7d0af53b-f597-11e9-bfb4-022d4762bb3c</td>\n      <td>658</td>\n      <td>300.00</td>\n      <td>19626</td>\n      <td>2020-05-23</td>\n      <td>2020-05-23</td>\n      <td>31479</td>\n      <td>58745466-f597-11e9-bfb4-022d4762bb3c</td>\n      <td>INVOICE_REJECTED</td>\n      <td>2d002864-754f-11ea-ade9-022376bbb7c0</td>\n      <td>75.00</td>\n      <td>2021-04-06 17:54:51</td>\n      <td>OPERATOR_REJECTED</td>\n    </tr>\n    <tr>\n      <th>18287</th>\n      <td>NaN</td>\n      <td>4.0</td>\n      <td>7d0af53b-f597-11e9-bfb4-022d4762bb3c</td>\n      <td>658</td>\n      <td>380.00</td>\n      <td>19626</td>\n      <td>2020-05-24</td>\n      <td>2020-05-24</td>\n      <td>31480</td>\n      <td>58745466-f597-11e9-bfb4-022d4762bb3c</td>\n      <td>INVOICE_REJECTED</td>\n      <td>2d00287d-754f-11ea-ade9-022376bbb7c0</td>\n      <td>95.00</td>\n      <td>2021-04-06 17:54:51</td>\n      <td>OPERATOR_REJECTED</td>\n    </tr>\n    <tr>\n      <th>19351</th>\n      <td>NaN</td>\n      <td>4.0</td>\n      <td>7d0af53b-f597-11e9-bfb4-022d4762bb3c</td>\n      <td>1087</td>\n      <td>249.96</td>\n      <td>20911</td>\n      <td>2020-06-10</td>\n      <td>2020-06-12</td>\n      <td>33585</td>\n      <td>58745466-f597-11e9-bfb4-022d4762bb3c</td>\n      <td>CANCELLED</td>\n      <td>85e98f73-754f-11ea-ade9-022376bbb7c0</td>\n      <td>62.49</td>\n      <td>2021-04-06 17:59:05</td>\n      <td>CANCELLED</td>\n    </tr>\n    <tr>\n      <th>...</th>\n      <td>...</td>\n      <td>...</td>\n      <td>...</td>\n      <td>...</td>\n      <td>...</td>\n      <td>...</td>\n      <td>...</td>\n      <td>...</td>\n      <td>...</td>\n      <td>...</td>\n      <td>...</td>\n      <td>...</td>\n      <td>...</td>\n      <td>...</td>\n      <td>...</td>\n    </tr>\n    <tr>\n      <th>231700</th>\n      <td>NaN</td>\n      <td>20.0</td>\n      <td>7d0af71b-f597-11e9-bfb4-022d4762bb3c</td>\n      <td>3549</td>\n      <td>62.00</td>\n      <td>495718</td>\n      <td>2021-03-08</td>\n      <td>2021-03-12</td>\n      <td>917898</td>\n      <td>58745466-f597-11e9-bfb4-022d4762bb3c</td>\n      <td>CANCELLED</td>\n      <td>2d001d52-754f-11ea-ade9-022376bbb7c0</td>\n      <td>3.10</td>\n      <td>2021-04-06 22:56:28</td>\n      <td>CANCELLED</td>\n    </tr>\n    <tr>\n      <th>231987</th>\n      <td>NaN</td>\n      <td>0.0</td>\n      <td>7d0af53b-f597-11e9-bfb4-022d4762bb3c</td>\n      <td>533</td>\n      <td>0.00</td>\n      <td>499934</td>\n      <td>2021-03-11</td>\n      <td>2021-03-11</td>\n      <td>926602</td>\n      <td>58745466-f597-11e9-bfb4-022d4762bb3c</td>\n      <td>ALL_PAID</td>\n      <td>2d0032cb-754f-11ea-ade9-022376bbb7c0</td>\n      <td>55.47</td>\n      <td>2021-04-06 22:59:41</td>\n      <td>NOT_CLAIMABLE</td>\n    </tr>\n    <tr>\n      <th>231992</th>\n      <td>NaN</td>\n      <td>2.0</td>\n      <td>7d0af71b-f597-11e9-bfb4-022d4762bb3c</td>\n      <td>359</td>\n      <td>98.60</td>\n      <td>500343</td>\n      <td>2021-03-18</td>\n      <td>2021-03-18</td>\n      <td>927262</td>\n      <td>58745466-f597-11e9-bfb4-022d4762bb3c</td>\n      <td>INVOICE_REJECTED</td>\n      <td>2d001d20-754f-11ea-ade9-022376bbb7c0</td>\n      <td>49.30</td>\n      <td>2021-04-06 22:59:59</td>\n      <td>MEMBER_REJECTED</td>\n    </tr>\n    <tr>\n      <th>232644</th>\n      <td>NaN</td>\n      <td>0.0</td>\n      <td>7d0af53b-f597-11e9-bfb4-022d4762bb3c</td>\n      <td>533</td>\n      <td>0.00</td>\n      <td>511380</td>\n      <td>2021-03-16</td>\n      <td>2021-03-16</td>\n      <td>948762</td>\n      <td>58745466-f597-11e9-bfb4-022d4762bb3c</td>\n      <td>ALL_PAID</td>\n      <td>2d00284b-754f-11ea-ade9-022376bbb7c0</td>\n      <td>55.47</td>\n      <td>2021-04-06 23:08:26</td>\n      <td>NOT_CLAIMABLE</td>\n    </tr>\n    <tr>\n      <th>232844</th>\n      <td>NaN</td>\n      <td>1.0</td>\n      <td>7d0af57b-f597-11e9-bfb4-022d4762bb3c</td>\n      <td>822</td>\n      <td>190.00</td>\n      <td>515579</td>\n      <td>2021-03-24</td>\n      <td>2021-03-24</td>\n      <td>956883</td>\n      <td>5874551b-f597-11e9-bfb4-022d4762bb3c</td>\n      <td>CANCELLED</td>\n      <td>85e9e7ba-754f-11ea-ade9-022376bbb7c0</td>\n      <td>190.00</td>\n      <td>2021-04-06 23:11:34</td>\n      <td>CANCELLED</td>\n    </tr>\n  </tbody>\n</table>\n<p>897 rows × 15 columns</p>\n</div>"
     },
     "metadata": {},
     "execution_count": 41
    }
   ],
   "source": [
    "# Check some invoiced_amount and invoiced_amount NaN Data to\n",
    "#  Check these data have in commum\n",
    "df_invoiced_units_NaN = invoices_claims_last_completed.loc[invoices_claims_last_completed['funded_amount'].isna()]\n",
    "df_invoiced_units_NaN"
   ]
  },
  {
   "cell_type": "code",
   "execution_count": 42,
   "metadata": {},
   "outputs": [],
   "source": [
    "df_null_funded_amount =  invoices_claims_last_completed[(invoices_claims_last_completed['funded_amount'].isna())\n",
    "                                                      & (invoices_claims_last_completed['invoice_state'] == 'ALL_PAID')\n",
    "                                                      & (invoices_claims_last_completed['claim_state'] == 'PAID')\n",
    "                                                     ]\n",
    "\n",
    "# Fixes The funded_amount NaN in invoice_state = ALL_PAID and claim_state = PAID\n",
    "df_null_funded_amount['funded_amount'] = df_null_funded_amount['claimed_unit_price'].astype(float) * df_null_funded_amount['claimed_units'].astype(float)\n",
    "\n",
    "\n",
    "invoices_claims_last_completed = invoices_claims_last_completed.set_index('claim_id')\n",
    "invoices_claims_last_completed.update(df_null_funded_amount.set_index('claim_id'))\n",
    "invoices_claims_last_completed.reset_index(inplace=True)    "
   ]
  },
  {
   "cell_type": "code",
   "execution_count": 43,
   "metadata": {},
   "outputs": [
    {
     "output_type": "execute_result",
     "data": {
      "text/plain": [
       "Empty DataFrame\n",
       "Columns: []\n",
       "Index: [(ALL_PAID, NOT_CLAIMABLE), (CANCELLED, CANCELLED), (INVOICE_REJECTED, MEMBER_REJECTED), (INVOICE_REJECTED, NOT_CLAIMABLE), (INVOICE_REJECTED, OPERATOR_REJECTED), (NOT_CLAIMABLE, NOT_CLAIMABLE), (PENDING_APPROVAL, PENDING_APPROVAL), (PENDING_REVIEW, CANCELLED)]"
      ],
      "text/html": "<div>\n<style scoped>\n    .dataframe tbody tr th:only-of-type {\n        vertical-align: middle;\n    }\n\n    .dataframe tbody tr th {\n        vertical-align: top;\n    }\n\n    .dataframe thead th {\n        text-align: right;\n    }\n</style>\n<table border=\"1\" class=\"dataframe\">\n  <thead>\n    <tr style=\"text-align: right;\">\n      <th></th>\n      <th></th>\n    </tr>\n    <tr>\n      <th>invoice_state</th>\n      <th>claim_state</th>\n    </tr>\n  </thead>\n  <tbody>\n    <tr>\n      <th>ALL_PAID</th>\n      <th>NOT_CLAIMABLE</th>\n    </tr>\n    <tr>\n      <th>CANCELLED</th>\n      <th>CANCELLED</th>\n    </tr>\n    <tr>\n      <th rowspan=\"3\" valign=\"top\">INVOICE_REJECTED</th>\n      <th>MEMBER_REJECTED</th>\n    </tr>\n    <tr>\n      <th>NOT_CLAIMABLE</th>\n    </tr>\n    <tr>\n      <th>OPERATOR_REJECTED</th>\n    </tr>\n    <tr>\n      <th>NOT_CLAIMABLE</th>\n      <th>NOT_CLAIMABLE</th>\n    </tr>\n    <tr>\n      <th>PENDING_APPROVAL</th>\n      <th>PENDING_APPROVAL</th>\n    </tr>\n    <tr>\n      <th>PENDING_REVIEW</th>\n      <th>CANCELLED</th>\n    </tr>\n  </tbody>\n</table>\n</div>"
     },
     "metadata": {},
     "execution_count": 43
    }
   ],
   "source": [
    "# Group the state of invoice and claim of all null data\n",
    "#  And Keeps these records\n",
    "#   Because if 'funded_amount' is NaN means the claims is not PAID OR REFUNDED\n",
    "df_invoiced_units_NaN[{\"invoice_state\"\n",
    "                     , \"claim_state\"\n",
    "                      }].groupby([\"invoice_state\"\n",
    "                                , \"claim_state\"\n",
    "                                 ]).count()"
   ]
  },
  {
   "cell_type": "code",
   "execution_count": 44,
   "metadata": {},
   "outputs": [
    {
     "output_type": "execute_result",
     "data": {
      "text/plain": [
       "0"
      ]
     },
     "metadata": {},
     "execution_count": 44
    }
   ],
   "source": [
    "# As seeing above some invoices stated ALL_PAID and PAID are also funded_amount NaN\n",
    "# Check The NaN fields\n",
    "len(invoices_claims_last_completed[(invoices_claims_last_completed['funded_amount'].isna())\n",
    "                                 & (invoices_claims_last_completed['invoice_state'] == 'ALL_PAID')\n",
    "                                 & (invoices_claims_last_completed['claim_state'] == 'PAID')\n",
    "                                ]\n",
    "   )"
   ]
  },
  {
   "cell_type": "code",
   "execution_count": 45,
   "metadata": {},
   "outputs": [
    {
     "output_type": "execute_result",
     "data": {
      "text/plain": [
       "Empty DataFrame\n",
       "Columns: []\n",
       "Index: [(ALL_APPROVED, PAID), (ALL_APPROVED, PENDING_DISBURSEMENT), (ALL_APPROVED, SCHEME_AUTHORIZED), (ALL_PAID, CANCELLED), (ALL_PAID, NOT_CLAIMABLE), (ALL_PAID, OPERATOR_REJECTED), (ALL_PAID, PAID), (ALL_PAID, SCHEME_REJECTED), (CANCELLED, CANCELLED), (CANCELLED, NOT_CLAIMABLE), (FULLY_REFUNDED, NOT_CLAIMABLE), (FULLY_REFUNDED, REFUNDED), (FULLY_REFUNDED, SCHEME_REJECTED), (INVOICE_REJECTED, NOT_CLAIMABLE), (INVOICE_REJECTED, OPERATOR_REJECTED), (INVOICE_REJECTED, SCHEME_REJECTED), (NOT_CLAIMABLE, NOT_CLAIMABLE), (PARTIALLY_APPROVED, PAID), (PARTIALLY_APPROVED, SCHEME_REJECTED), (PARTIALLY_REFUNDED, CANCELLED), (PARTIALLY_REFUNDED, PAID), (PARTIALLY_REFUNDED, REFUNDED), (PART_PAID, CANCELLED), (PART_PAID, NOT_CLAIMABLE), (PART_PAID, OPERATOR_REJECTED), (PART_PAID, PAID), (PART_PAID, SCHEME_REJECTED), (PENDING_REFUND, PAID), (PENDING_REFUND, PENDING_REFUND), (PENDING_REFUND, SCHEME_REJECTED), (SHORT_PAID, CANCELLED), (SHORT_PAID, OPERATOR_REJECTED), (SHORT_PAID, PAID), (SHORT_PAID, SCHEME_REJECTED), (SHORT_PAYMENT_APPROVED, PAID)]"
      ],
      "text/html": "<div>\n<style scoped>\n    .dataframe tbody tr th:only-of-type {\n        vertical-align: middle;\n    }\n\n    .dataframe tbody tr th {\n        vertical-align: top;\n    }\n\n    .dataframe thead th {\n        text-align: right;\n    }\n</style>\n<table border=\"1\" class=\"dataframe\">\n  <thead>\n    <tr style=\"text-align: right;\">\n      <th></th>\n      <th></th>\n    </tr>\n    <tr>\n      <th>invoice_state</th>\n      <th>claim_state</th>\n    </tr>\n  </thead>\n  <tbody>\n    <tr>\n      <th rowspan=\"3\" valign=\"top\">ALL_APPROVED</th>\n      <th>PAID</th>\n    </tr>\n    <tr>\n      <th>PENDING_DISBURSEMENT</th>\n    </tr>\n    <tr>\n      <th>SCHEME_AUTHORIZED</th>\n    </tr>\n    <tr>\n      <th rowspan=\"5\" valign=\"top\">ALL_PAID</th>\n      <th>CANCELLED</th>\n    </tr>\n    <tr>\n      <th>NOT_CLAIMABLE</th>\n    </tr>\n    <tr>\n      <th>OPERATOR_REJECTED</th>\n    </tr>\n    <tr>\n      <th>PAID</th>\n    </tr>\n    <tr>\n      <th>SCHEME_REJECTED</th>\n    </tr>\n    <tr>\n      <th rowspan=\"2\" valign=\"top\">CANCELLED</th>\n      <th>CANCELLED</th>\n    </tr>\n    <tr>\n      <th>NOT_CLAIMABLE</th>\n    </tr>\n    <tr>\n      <th rowspan=\"3\" valign=\"top\">FULLY_REFUNDED</th>\n      <th>NOT_CLAIMABLE</th>\n    </tr>\n    <tr>\n      <th>REFUNDED</th>\n    </tr>\n    <tr>\n      <th>SCHEME_REJECTED</th>\n    </tr>\n    <tr>\n      <th rowspan=\"3\" valign=\"top\">INVOICE_REJECTED</th>\n      <th>NOT_CLAIMABLE</th>\n    </tr>\n    <tr>\n      <th>OPERATOR_REJECTED</th>\n    </tr>\n    <tr>\n      <th>SCHEME_REJECTED</th>\n    </tr>\n    <tr>\n      <th>NOT_CLAIMABLE</th>\n      <th>NOT_CLAIMABLE</th>\n    </tr>\n    <tr>\n      <th rowspan=\"2\" valign=\"top\">PARTIALLY_APPROVED</th>\n      <th>PAID</th>\n    </tr>\n    <tr>\n      <th>SCHEME_REJECTED</th>\n    </tr>\n    <tr>\n      <th rowspan=\"3\" valign=\"top\">PARTIALLY_REFUNDED</th>\n      <th>CANCELLED</th>\n    </tr>\n    <tr>\n      <th>PAID</th>\n    </tr>\n    <tr>\n      <th>REFUNDED</th>\n    </tr>\n    <tr>\n      <th rowspan=\"5\" valign=\"top\">PART_PAID</th>\n      <th>CANCELLED</th>\n    </tr>\n    <tr>\n      <th>NOT_CLAIMABLE</th>\n    </tr>\n    <tr>\n      <th>OPERATOR_REJECTED</th>\n    </tr>\n    <tr>\n      <th>PAID</th>\n    </tr>\n    <tr>\n      <th>SCHEME_REJECTED</th>\n    </tr>\n    <tr>\n      <th rowspan=\"3\" valign=\"top\">PENDING_REFUND</th>\n      <th>PAID</th>\n    </tr>\n    <tr>\n      <th>PENDING_REFUND</th>\n    </tr>\n    <tr>\n      <th>SCHEME_REJECTED</th>\n    </tr>\n    <tr>\n      <th rowspan=\"4\" valign=\"top\">SHORT_PAID</th>\n      <th>CANCELLED</th>\n    </tr>\n    <tr>\n      <th>OPERATOR_REJECTED</th>\n    </tr>\n    <tr>\n      <th>PAID</th>\n    </tr>\n    <tr>\n      <th>SCHEME_REJECTED</th>\n    </tr>\n    <tr>\n      <th>SHORT_PAYMENT_APPROVED</th>\n      <th>PAID</th>\n    </tr>\n  </tbody>\n</table>\n</div>"
     },
     "metadata": {},
     "execution_count": 45
    }
   ],
   "source": [
    "df_invoiced_units_not_NaN = invoices_claims_last_completed.loc[invoices_claims_last_completed['funded_amount'].notna()]\n",
    "\n",
    "# Group the state of invoice and claim of not NaN\n",
    "df_invoiced_units_not_NaN[{\"invoice_state\"\n",
    "                         , \"claim_state\"\n",
    "                          }].groupby([\"invoice_state\"\n",
    "                                    , \"claim_state\"\n",
    "                                     ]).count()"
   ]
  },
  {
   "cell_type": "code",
   "execution_count": 46,
   "metadata": {},
   "outputs": [
    {
     "output_type": "execute_result",
     "data": {
      "text/plain": [
       "        invoice_id  funded_amount  claim_id invoice_state  \\\n",
       "19383        20212           0.00     32443      ALL_PAID   \n",
       "19384        20212           0.00     32444      ALL_PAID   \n",
       "21712        25881           0.00     43003      ALL_PAID   \n",
       "31194        47477           0.00     75874      ALL_PAID   \n",
       "45442        62947           0.00    101231      ALL_PAID   \n",
       "...            ...            ...       ...           ...   \n",
       "233375      535282         775.96    997155  ALL_APPROVED   \n",
       "233376      535849         190.00    998291  ALL_APPROVED   \n",
       "233377      536383         380.10    999403  ALL_APPROVED   \n",
       "233378      536829         240.00   1000311  ALL_APPROVED   \n",
       "233379      537607         914.89   1002165  ALL_APPROVED   \n",
       "\n",
       "                 claim_state  \n",
       "19383          NOT_CLAIMABLE  \n",
       "19384          NOT_CLAIMABLE  \n",
       "21712        SCHEME_REJECTED  \n",
       "31194        SCHEME_REJECTED  \n",
       "45442      OPERATOR_REJECTED  \n",
       "...                      ...  \n",
       "233375  PENDING_DISBURSEMENT  \n",
       "233376  PENDING_DISBURSEMENT  \n",
       "233377  PENDING_DISBURSEMENT  \n",
       "233378  PENDING_DISBURSEMENT  \n",
       "233379     SCHEME_AUTHORIZED  \n",
       "\n",
       "[131 rows x 5 columns]"
      ],
      "text/html": "<div>\n<style scoped>\n    .dataframe tbody tr th:only-of-type {\n        vertical-align: middle;\n    }\n\n    .dataframe tbody tr th {\n        vertical-align: top;\n    }\n\n    .dataframe thead th {\n        text-align: right;\n    }\n</style>\n<table border=\"1\" class=\"dataframe\">\n  <thead>\n    <tr style=\"text-align: right;\">\n      <th></th>\n      <th>invoice_id</th>\n      <th>funded_amount</th>\n      <th>claim_id</th>\n      <th>invoice_state</th>\n      <th>claim_state</th>\n    </tr>\n  </thead>\n  <tbody>\n    <tr>\n      <th>19383</th>\n      <td>20212</td>\n      <td>0.00</td>\n      <td>32443</td>\n      <td>ALL_PAID</td>\n      <td>NOT_CLAIMABLE</td>\n    </tr>\n    <tr>\n      <th>19384</th>\n      <td>20212</td>\n      <td>0.00</td>\n      <td>32444</td>\n      <td>ALL_PAID</td>\n      <td>NOT_CLAIMABLE</td>\n    </tr>\n    <tr>\n      <th>21712</th>\n      <td>25881</td>\n      <td>0.00</td>\n      <td>43003</td>\n      <td>ALL_PAID</td>\n      <td>SCHEME_REJECTED</td>\n    </tr>\n    <tr>\n      <th>31194</th>\n      <td>47477</td>\n      <td>0.00</td>\n      <td>75874</td>\n      <td>ALL_PAID</td>\n      <td>SCHEME_REJECTED</td>\n    </tr>\n    <tr>\n      <th>45442</th>\n      <td>62947</td>\n      <td>0.00</td>\n      <td>101231</td>\n      <td>ALL_PAID</td>\n      <td>OPERATOR_REJECTED</td>\n    </tr>\n    <tr>\n      <th>...</th>\n      <td>...</td>\n      <td>...</td>\n      <td>...</td>\n      <td>...</td>\n      <td>...</td>\n    </tr>\n    <tr>\n      <th>233375</th>\n      <td>535282</td>\n      <td>775.96</td>\n      <td>997155</td>\n      <td>ALL_APPROVED</td>\n      <td>PENDING_DISBURSEMENT</td>\n    </tr>\n    <tr>\n      <th>233376</th>\n      <td>535849</td>\n      <td>190.00</td>\n      <td>998291</td>\n      <td>ALL_APPROVED</td>\n      <td>PENDING_DISBURSEMENT</td>\n    </tr>\n    <tr>\n      <th>233377</th>\n      <td>536383</td>\n      <td>380.10</td>\n      <td>999403</td>\n      <td>ALL_APPROVED</td>\n      <td>PENDING_DISBURSEMENT</td>\n    </tr>\n    <tr>\n      <th>233378</th>\n      <td>536829</td>\n      <td>240.00</td>\n      <td>1000311</td>\n      <td>ALL_APPROVED</td>\n      <td>PENDING_DISBURSEMENT</td>\n    </tr>\n    <tr>\n      <th>233379</th>\n      <td>537607</td>\n      <td>914.89</td>\n      <td>1002165</td>\n      <td>ALL_APPROVED</td>\n      <td>SCHEME_AUTHORIZED</td>\n    </tr>\n  </tbody>\n</table>\n<p>131 rows × 5 columns</p>\n</div>"
     },
     "metadata": {},
     "execution_count": 46
    }
   ],
   "source": [
    "df_invoiced_units_not_NaN[{'claim_id'\n",
    "                        , 'invoice_id'\n",
    "                        , 'invoice_id'\n",
    "                        , 'funded_amount'\n",
    "                        , 'invoice_state'\n",
    "                        , 'claim_state'\n",
    "                        }].loc[((df_invoiced_units_not_NaN['invoice_state'] == 'ALL_APPROVED') | (df_invoiced_units_not_NaN['invoice_state'] == 'ALL_PAID' ))\n",
    "                             & ((df_invoiced_units_not_NaN['claim_state'] != 'PAID'))\n",
    "                             ]"
   ]
  },
  {
   "cell_type": "code",
   "execution_count": 47,
   "metadata": {},
   "outputs": [
    {
     "output_type": "stream",
     "name": "stderr",
     "text": [
      "C:\\Users\\dttt1\\AppData\\Roaming\\Python\\Python38\\site-packages\\pandas\\core\\indexing.py:671: SettingWithCopyWarning: \nA value is trying to be set on a copy of a slice from a DataFrame\n\nSee the caveats in the documentation: https://pandas.pydata.org/pandas-docs/stable/user_guide/indexing.html#returning-a-view-versus-a-copy\n  self._setitem_with_indexer(indexer, value)\n"
     ]
    }
   ],
   "source": [
    "invoices_claims_last_completed['funded_amount'].loc[((invoices_claims_last_completed['invoice_state'] == 'ALL_APPROVED') | (invoices_claims_last_completed['invoice_state'] == 'ALL_PAID' ))\n",
    "                              & (invoices_claims_last_completed['claim_state'] != 'PAID')\n",
    "                              &  (invoices_claims_last_completed['claim_state'] != 'PAID') \n",
    "                              &  ( invoices_claims_last_completed['funded_amount'].notna()) \n",
    "                             ] = np.nan"
   ]
  },
  {
   "cell_type": "code",
   "execution_count": 48,
   "metadata": {},
   "outputs": [],
   "source": [
    "invoices_claims_last_completed['updated_at'] = pd.to_datetime(invoices_claims_last_completed['updated_at']).dt.strftime('%Y-%m-%d')"
   ]
  },
  {
   "cell_type": "code",
   "execution_count": 49,
   "metadata": {},
   "outputs": [],
   "source": [
    "# Group the invoices from their claims\n",
    "invoices_claims_last_completed_cleased = invoices_claims_last_completed.groupby([\"member_id\"\n",
    "                                                                               , \"invoice_state\"\n",
    "                                                                               , \"updated_at\" \n",
    "                                                                               , \"claim_state\"\n",
    "                                                                               , \"claim_level1_key\"\n",
    "                                                                               , \"claim_level2_key\"\n",
    "                                                                               , \"claim_level3_key\"]).agg({\"invoiced_amount\": \"sum\", \"funded_amount\": \"sum\"}).reset_index()"
   ]
  },
  {
   "source": [
    "### Merge dataSets cleased"
   ],
   "cell_type": "markdown",
   "metadata": {}
  },
  {
   "source": [
    "### Merges members dataSet with plans and budgets dataSet"
   ],
   "cell_type": "markdown",
   "metadata": {}
  },
  {
   "cell_type": "code",
   "execution_count": 50,
   "metadata": {},
   "outputs": [],
   "source": [
    "# Member dataSet with plans and budgets dataSet\n",
    "df_members_plans_budgets_merged = pd.merge(df_members_cleased, df_plans_budgets_cleased, on=[\"member_key\", \"member_key\"])"
   ]
  },
  {
   "source": [
    "### Merges last COMPLETED plan with members plans budgets merged dataSet"
   ],
   "cell_type": "markdown",
   "metadata": {}
  },
  {
   "cell_type": "code",
   "execution_count": 51,
   "metadata": {},
   "outputs": [],
   "source": [
    "df_members_plans_completed = df_members_plans_budgets_merged.loc[df_members_plans_budgets_merged['plan_status'] == 'COMPLETED']\n",
    "\n",
    "invoices_completed_merged = df_members_plans_completed.merge(invoices_claims_last_completed_cleased, on='member_id')\n",
    "\n",
    "invoices_claims_plan_completed_merged = invoices_completed_merged.loc[\n",
    "\n",
    "                                    (\n",
    "                                         ((invoices_completed_merged['budget_level3_key'] == 'NA')\n",
    "                                        & (invoices_completed_merged['budget_level2_key'] ==  invoices_completed_merged['claim_level2_key']) \n",
    "                                        & (invoices_completed_merged['budget_level1_key'] ==  invoices_completed_merged['claim_level1_key'])   \n",
    "                                          )\n",
    "\n",
    "                                        \n",
    "                                    )\n",
    "\n",
    "                                    |\n",
    "\n",
    "                                    (\n",
    "      \n",
    "                                          (invoices_completed_merged['budget_level3_key'] != 'NA')\n",
    "                                        & (invoices_completed_merged['budget_level3_key'] == invoices_completed_merged['claim_level3_key'] )\n",
    "                                        & (invoices_completed_merged['budget_level2_key'] == invoices_completed_merged['claim_level2_key'] )\n",
    "                                        & (invoices_completed_merged['budget_level1_key'] == invoices_completed_merged['claim_level1_key'] )\n",
    "                                    )\n",
    "\n",
    "\n",
    "                                ]"
   ]
  },
  {
   "source": [
    "### Merges last PLAN_DELIVERY_ACTIVED plan with members plans budgets merged dataSet"
   ],
   "cell_type": "markdown",
   "metadata": {}
  },
  {
   "cell_type": "code",
   "execution_count": 52,
   "metadata": {},
   "outputs": [],
   "source": [
    "df_members_plans_actived = df_members_plans_budgets_merged.loc[df_members_plans_budgets_merged['plan_status'] == 'PLAN_DELIVERY_ACTIVE']\n",
    "\n",
    "invoices_actived_merged = df_members_plans_actived.merge(invoices_claims_last_actived_cleased, on='member_id')\n",
    "\n",
    "invoices_claims_plan_actived_merged = invoices_actived_merged.loc[\n",
    "\n",
    "                                    (\n",
    "                                         ((invoices_actived_merged['budget_level3_key'] == 'NA')\n",
    "                                        & (invoices_actived_merged['budget_level2_key'] ==  invoices_actived_merged['claim_level2_key']) \n",
    "                                        & (invoices_actived_merged['budget_level1_key'] ==  invoices_actived_merged['claim_level1_key'])   \n",
    "                                          )\n",
    "\n",
    "                                        \n",
    "                                    )\n",
    "\n",
    "                                    |\n",
    "\n",
    "                                    (\n",
    "      \n",
    "                                          (invoices_actived_merged['budget_level3_key'] != 'NA')\n",
    "                                        & (invoices_actived_merged['budget_level3_key'] == invoices_actived_merged['claim_level3_key'] )\n",
    "                                        & (invoices_actived_merged['budget_level2_key'] == invoices_actived_merged['claim_level2_key'] )\n",
    "                                        & (invoices_actived_merged['budget_level1_key'] == invoices_actived_merged['claim_level1_key'] )\n",
    "                                    )\n",
    "\n",
    "\n",
    "                                ]"
   ]
  },
  {
   "source": [
    "### Merges last COMPLETED plan dataSet with PLAN_DELIVERY_ACTIVED plan"
   ],
   "cell_type": "markdown",
   "metadata": {}
  },
  {
   "cell_type": "code",
   "execution_count": 53,
   "metadata": {},
   "outputs": [],
   "source": [
    "frames = [invoices_claims_plan_actived_merged, invoices_claims_plan_completed_merged]\n",
    "invoices_claims_merged = pd.concat(frames)\n",
    "\n",
    "invoices_claims_merged.rename(columns={\n",
    "                                      'invoiced_amount':'requested_amount'\n",
    "                                    , 'budget_amount':'allocated_amount'\n",
    "                                      } , inplace = True)"
   ]
  },
  {
   "cell_type": "code",
   "execution_count": 54,
   "metadata": {},
   "outputs": [],
   "source": [
    "invoices_claims_merged.rename(columns={'invoiced_amount':'requested_amount'\n",
    "                                      } , inplace = True)\n",
    "\n",
    "invoices_claims_merged['updated_at'] = pd.to_datetime(invoices_claims_merged['updated_at']).dt.strftime('%Y-%m')\n",
    "invoices_claims_merged['plan_start_date'] = pd.to_datetime(invoices_claims_merged['plan_start_date']).dt.strftime('%Y-%m')\n",
    "invoices_claims_merged['plan_end_date'] = pd.to_datetime(invoices_claims_merged['plan_end_date']).dt.strftime('%Y-%m')"
   ]
  },
  {
   "cell_type": "code",
   "execution_count": 55,
   "metadata": {},
   "outputs": [],
   "source": [
    "df_merged = invoices_claims_merged.groupby([\"member_key\"\n",
    "                                         , \"updated_at\"\n",
    "                                         , \"first_name\"\n",
    "                                         , \"last_name\"\n",
    "                                         , \"disabilities\"\n",
    "                                         , \"SA1\"\n",
    "                                         , \"price_zone_code\"\n",
    "                                         , \"plan_key\"\n",
    "                                         , \"plan_status\"\n",
    "                                         , \"plan_start_date\"\n",
    "                                         , \"plan_end_date\"\n",
    "                                         , \"budget_level3_name\"\n",
    "                                         , \"budget_level3_key\"\n",
    "                                         , \"budget_level2_key\"\n",
    "                                         , \"budget_level2_name\"\n",
    "                                         , \"budget_level1_key\"\n",
    "                                         , \"budget_level1_name\"\n",
    "                                         , \"invoice_state\"\n",
    "                                         , \"claim_state\"\n",
    "                                         , \"allocated_amount\"\n",
    "                                          ]).agg({\"requested_amount\": \"sum\", \"funded_amount\": \"sum\"}).reset_index()                                          "
   ]
  },
  {
   "cell_type": "code",
   "execution_count": 56,
   "metadata": {},
   "outputs": [],
   "source": [
    "df_total = df_merged.groupby([\"member_key\"\n",
    "                                          ]).agg({\"allocated_amount\": \"sum\"\n",
    "                                                , \"requested_amount\": \"sum\"\n",
    "                                                , \"funded_amount\": \"sum\"}).reset_index()"
   ]
  },
  {
   "cell_type": "code",
   "execution_count": 57,
   "metadata": {},
   "outputs": [],
   "source": [
    "df_total.rename(columns={'allocated_amount':'allocated_amount_total'\n",
    "                        , 'requested_amount':'requested_amount_total'\n",
    "                        , 'funded_amount':'funded_amount_total'\n",
    "                        } , inplace = True)\n",
    "\n",
    "df_model = df_merged.merge(df_total, on='member_key')"
   ]
  },
  {
   "cell_type": "code",
   "execution_count": 58,
   "metadata": {},
   "outputs": [],
   "source": [
    "compression_opts = dict(method='zip',\n",
    "                        archive_name='main.csv')\n",
    "\n",
    "df_model.to_csv('../dataSets/main.zip', compression=compression_opts)"
   ]
  },
  {
   "cell_type": "code",
   "execution_count": null,
   "metadata": {},
   "outputs": [],
   "source": []
  }
 ]
}