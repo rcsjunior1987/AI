{
 "cells": [
  {
   "cell_type": "code",
   "execution_count": 1,
   "metadata": {},
   "outputs": [],
   "source": [
    "# -------------------------- LIBRARIES NECESSARY IN THIS PROJECT  -------------------------- #\r\n",
    "\r\n",
    "import pandas as pd\r\n",
    "import numpy as np\r\n",
    "import seaborn as sns\r\n",
    "from datetime import *\r\n",
    "import zipfile\r\n",
    "import pylab as plt\r\n",
    "\r\n",
    "import sklearn\r\n",
    "from sklearn.linear_model import LogisticRegression\r\n",
    "from sklearn.model_selection import train_test_split\r\n",
    "from sklearn.metrics import confusion_matrix\r\n",
    "\r\n",
    "# -------------------------- FUNCTIONS -------------------------- #\r\n",
    "\r\n",
    "def getDataSet(data_path):\r\n",
    "    return pd.read_csv(data_path)\r\n",
    "\r\n",
    "def plotNaNValuesColums(dataSet):\r\n",
    "    # Gets the dataSet Columns with null values\r\n",
    "    #  and the Percentual of null values per column    \r\n",
    "    missing_values = (dataSet.isnull().sum() / len(dataSet)) * 100    \r\n",
    "    missing_values = missing_values[missing_values > 0]\r\n",
    "    missing_values.sort_values(inplace=True)   \r\n",
    "\r\n",
    "    missing_values = missing_values.to_frame()\r\n",
    "    missing_values.columns = ['Percentual']\r\n",
    "    missing_values.index.names = ['Name']\r\n",
    "    missing_values['Column'] = missing_values.index\r\n",
    "\r\n",
    "    # Plots the graph\r\n",
    "    sns.set(style=\"whitegrid\", color_codes=True)\r\n",
    "    sns.barplot(x = 'Column', y = 'Percentual', data=missing_values)\r\n",
    "    plt.xticks(rotation = 90)\r\n",
    "    plt.show()\r\n",
    "    print(missing_values)\r\n",
    "    \r\n",
    "def plotNotNaNValuesColums(dataSet):\r\n",
    "    # Gets the dataSet Columns with null values\r\n",
    "    #  and the Percentual of null values per column    \r\n",
    "    missing_values = (dataSet.notnull().sum() / len(dataSet)) * 100    \r\n",
    "    missing_values = missing_values[missing_values > 0]\r\n",
    "    missing_values.sort_values(inplace=True)   \r\n",
    "\r\n",
    "    missing_values = missing_values.to_frame()\r\n",
    "    missing_values.columns = ['Percentual']\r\n",
    "    missing_values.index.names = ['Name']\r\n",
    "    missing_values['Column'] = missing_values.index\r\n",
    "\r\n",
    "    # Plots the graph\r\n",
    "    sns.set(style=\"whitegrid\", color_codes=True)\r\n",
    "    sns.barplot(x = 'Column', y = 'Percentual', data=missing_values)\r\n",
    "    plt.xticks(rotation = 90)\r\n",
    "    plt.show()\r\n",
    "    print(missing_values)"
   ]
  },
  {
   "cell_type": "markdown",
   "metadata": {},
   "source": [
    "## Upload dataSets"
   ]
  },
  {
   "cell_type": "markdown",
   "metadata": {},
   "source": [
    "### Members dataset cleasing"
   ]
  },
  {
   "cell_type": "code",
   "execution_count": 2,
   "metadata": {},
   "outputs": [],
   "source": [
    "# -------------------------- PATH OF THE DATASETS USED IN THE PROJECT  -------------------------- #\n",
    "zf = zipfile.ZipFile('../dataSets/main.zip')\n",
    "\n",
    "main_data_set_all_fields = pd.read_csv(zf.open('main.csv'))"
   ]
  },
  {
   "cell_type": "markdown",
   "metadata": {},
   "source": [
    "## Data manipulation and cleansing"
   ]
  },
  {
   "cell_type": "code",
   "execution_count": 3,
   "metadata": {},
   "outputs": [
    {
     "name": "stdout",
     "output_type": "stream",
     "text": [
      "<class 'pandas.core.frame.DataFrame'>\n",
      "RangeIndex: 32950 entries, 0 to 32949\n",
      "Data columns (total 26 columns):\n",
      " #   Column                  Non-Null Count  Dtype  \n",
      "---  ------                  --------------  -----  \n",
      " 0   Unnamed: 0              32950 non-null  int64  \n",
      " 1   member_key              32950 non-null  object \n",
      " 2   updated_at              32950 non-null  object \n",
      " 3   first_name              32950 non-null  object \n",
      " 4   last_name               32950 non-null  object \n",
      " 5   disabilities            8383 non-null   object \n",
      " 6   SA1                     3751 non-null   float64\n",
      " 7   price_zone_code         32950 non-null  object \n",
      " 8   plan_key                32950 non-null  object \n",
      " 9   plan_status             32950 non-null  object \n",
      " 10  plan_start_date         32950 non-null  object \n",
      " 11  plan_end_date           32950 non-null  object \n",
      " 12  budget_level3_name      840 non-null    object \n",
      " 13  budget_level3_key       840 non-null    object \n",
      " 14  budget_level2_key       32950 non-null  object \n",
      " 15  budget_level2_name      32950 non-null  object \n",
      " 16  budget_level1_key       32950 non-null  object \n",
      " 17  budget_level1_name      32950 non-null  object \n",
      " 18  invoice_state           32950 non-null  object \n",
      " 19  claim_state             32950 non-null  object \n",
      " 20  allocated_amount        32950 non-null  float64\n",
      " 21  requested_amount        32950 non-null  float64\n",
      " 22  funded_amount           32950 non-null  float64\n",
      " 23  allocated_amount_total  32950 non-null  float64\n",
      " 24  requested_amount_total  32950 non-null  float64\n",
      " 25  funded_amount_total     32950 non-null  float64\n",
      "dtypes: float64(7), int64(1), object(18)\n",
      "memory usage: 4.3+ MB\n"
     ]
    }
   ],
   "source": [
    "# Check the dataSet fields\n",
    "main_data_set_all_fields.info()"
   ]
  },
  {
   "cell_type": "code",
   "execution_count": 4,
   "metadata": {},
   "outputs": [
    {
     "data": {
      "text/html": "<div>\n<style scoped>\n    .dataframe tbody tr th:only-of-type {\n        vertical-align: middle;\n    }\n\n    .dataframe tbody tr th {\n        vertical-align: top;\n    }\n\n    .dataframe thead th {\n        text-align: right;\n    }\n</style>\n<table border=\"1\" class=\"dataframe\">\n  <thead>\n    <tr style=\"text-align: right;\">\n      <th></th>\n      <th>Unnamed: 0</th>\n      <th>member_key</th>\n      <th>updated_at</th>\n      <th>first_name</th>\n      <th>last_name</th>\n      <th>disabilities</th>\n      <th>SA1</th>\n      <th>price_zone_code</th>\n      <th>plan_key</th>\n      <th>plan_status</th>\n      <th>...</th>\n      <th>budget_level1_key</th>\n      <th>budget_level1_name</th>\n      <th>invoice_state</th>\n      <th>claim_state</th>\n      <th>allocated_amount</th>\n      <th>requested_amount</th>\n      <th>funded_amount</th>\n      <th>allocated_amount_total</th>\n      <th>requested_amount_total</th>\n      <th>funded_amount_total</th>\n    </tr>\n  </thead>\n  <tbody>\n    <tr>\n      <th>0</th>\n      <td>0</td>\n      <td>00109970-7029-11eb-81d6-9d4df94b6224</td>\n      <td>2021-04</td>\n      <td>Wynny</td>\n      <td>Pressman</td>\n      <td>NaN</td>\n      <td>NaN</td>\n      <td>ACT_NSW_QLD_VIC</td>\n      <td>588427f1-e45d-4a6e-b307-9c68a13849ef</td>\n      <td>PLAN_DELIVERY_ACTIVE</td>\n      <td>...</td>\n      <td>58745466-f597-11e9-bfb4-022d4762bb3c</td>\n      <td>Core</td>\n      <td>ALL_PAID</td>\n      <td>PAID</td>\n      <td>50000.00</td>\n      <td>98.8000</td>\n      <td>98.80</td>\n      <td>272168.34</td>\n      <td>11316.7000</td>\n      <td>11316.70</td>\n    </tr>\n    <tr>\n      <th>1</th>\n      <td>1</td>\n      <td>00109970-7029-11eb-81d6-9d4df94b6224</td>\n      <td>2021-04</td>\n      <td>Wynny</td>\n      <td>Pressman</td>\n      <td>NaN</td>\n      <td>NaN</td>\n      <td>ACT_NSW_QLD_VIC</td>\n      <td>588427f1-e45d-4a6e-b307-9c68a13849ef</td>\n      <td>PLAN_DELIVERY_ACTIVE</td>\n      <td>...</td>\n      <td>58745466-f597-11e9-bfb4-022d4762bb3c</td>\n      <td>Core</td>\n      <td>ALL_PAID</td>\n      <td>PAID</td>\n      <td>222168.34</td>\n      <td>11217.9000</td>\n      <td>11217.90</td>\n      <td>272168.34</td>\n      <td>11316.7000</td>\n      <td>11316.70</td>\n    </tr>\n    <tr>\n      <th>2</th>\n      <td>2</td>\n      <td>0010f240-3b5d-11eb-aa73-7be7bbd3c758</td>\n      <td>2021-04</td>\n      <td>Beryl</td>\n      <td>McDuff</td>\n      <td>Asperger syndrome</td>\n      <td>3138648.0</td>\n      <td>ACT_NSW_QLD_VIC</td>\n      <td>ef286fe8-8b36-4d77-97a0-59f9ef3df9b8</td>\n      <td>PLAN_DELIVERY_ACTIVE</td>\n      <td>...</td>\n      <td>5874551b-f597-11e9-bfb4-022d4762bb3c</td>\n      <td>Capacity Building</td>\n      <td>ALL_PAID</td>\n      <td>PAID</td>\n      <td>9801.60</td>\n      <td>2559.6384</td>\n      <td>2559.67</td>\n      <td>9801.60</td>\n      <td>2559.6384</td>\n      <td>2559.67</td>\n    </tr>\n    <tr>\n      <th>3</th>\n      <td>3</td>\n      <td>00117a50-cbc6-11ea-805a-75fc51d39a77</td>\n      <td>2021-04</td>\n      <td>Jethro</td>\n      <td>Perchard</td>\n      <td>NaN</td>\n      <td>NaN</td>\n      <td>ACT_NSW_QLD_VIC</td>\n      <td>8aa26238-d922-4963-bcaf-427d24a610bc</td>\n      <td>COMPLETED</td>\n      <td>...</td>\n      <td>5874551b-f597-11e9-bfb4-022d4762bb3c</td>\n      <td>Capacity Building</td>\n      <td>ALL_PAID</td>\n      <td>PAID</td>\n      <td>64524.00</td>\n      <td>8503.6500</td>\n      <td>8503.65</td>\n      <td>64524.00</td>\n      <td>8503.6500</td>\n      <td>8503.65</td>\n    </tr>\n  </tbody>\n</table>\n<p>4 rows × 26 columns</p>\n</div>",
      "text/plain": "   Unnamed: 0                            member_key updated_at first_name  \\\n0           0  00109970-7029-11eb-81d6-9d4df94b6224    2021-04      Wynny   \n1           1  00109970-7029-11eb-81d6-9d4df94b6224    2021-04      Wynny   \n2           2  0010f240-3b5d-11eb-aa73-7be7bbd3c758    2021-04      Beryl   \n3           3  00117a50-cbc6-11ea-805a-75fc51d39a77    2021-04     Jethro   \n\n  last_name       disabilities        SA1  price_zone_code  \\\n0  Pressman                NaN        NaN  ACT_NSW_QLD_VIC   \n1  Pressman                NaN        NaN  ACT_NSW_QLD_VIC   \n2    McDuff  Asperger syndrome  3138648.0  ACT_NSW_QLD_VIC   \n3  Perchard                NaN        NaN  ACT_NSW_QLD_VIC   \n\n                               plan_key           plan_status  ...  \\\n0  588427f1-e45d-4a6e-b307-9c68a13849ef  PLAN_DELIVERY_ACTIVE  ...   \n1  588427f1-e45d-4a6e-b307-9c68a13849ef  PLAN_DELIVERY_ACTIVE  ...   \n2  ef286fe8-8b36-4d77-97a0-59f9ef3df9b8  PLAN_DELIVERY_ACTIVE  ...   \n3  8aa26238-d922-4963-bcaf-427d24a610bc             COMPLETED  ...   \n\n                      budget_level1_key budget_level1_name invoice_state  \\\n0  58745466-f597-11e9-bfb4-022d4762bb3c               Core      ALL_PAID   \n1  58745466-f597-11e9-bfb4-022d4762bb3c               Core      ALL_PAID   \n2  5874551b-f597-11e9-bfb4-022d4762bb3c  Capacity Building      ALL_PAID   \n3  5874551b-f597-11e9-bfb4-022d4762bb3c  Capacity Building      ALL_PAID   \n\n  claim_state allocated_amount requested_amount funded_amount  \\\n0        PAID         50000.00          98.8000         98.80   \n1        PAID        222168.34       11217.9000      11217.90   \n2        PAID          9801.60        2559.6384       2559.67   \n3        PAID         64524.00        8503.6500       8503.65   \n\n  allocated_amount_total requested_amount_total funded_amount_total  \n0              272168.34             11316.7000            11316.70  \n1              272168.34             11316.7000            11316.70  \n2                9801.60              2559.6384             2559.67  \n3               64524.00              8503.6500             8503.65  \n\n[4 rows x 26 columns]"
     },
     "execution_count": 4,
     "metadata": {},
     "output_type": "execute_result"
    }
   ],
   "source": [
    "main_data_set_all_fields.head(4)"
   ]
  },
  {
   "cell_type": "code",
   "execution_count": 5,
   "metadata": {},
   "outputs": [],
   "source": [
    "main_data_No_NaN = main_data_set_all_fields.replace(np.nan, 'NA')\r\n",
    "\r\n",
    "main_data_No_NaN = main_data_No_NaN[(main_data_No_NaN[\"plan_status\"] == 'PLAN_DELIVERY_ACTIVE')]\r\n",
    "\r\n",
    "# main_data_No_NaN['updated_at'] = pd.to_datetime(main_data_No_NaN['updated_at']).dt.strftime('%Y-%m')"
   ]
  },
  {
   "cell_type": "code",
   "execution_count": 6,
   "metadata": {},
   "outputs": [
    {
     "data": {
      "text/html": "<div>\n<style scoped>\n    .dataframe tbody tr th:only-of-type {\n        vertical-align: middle;\n    }\n\n    .dataframe tbody tr th {\n        vertical-align: top;\n    }\n\n    .dataframe thead th {\n        text-align: right;\n    }\n</style>\n<table border=\"1\" class=\"dataframe\">\n  <thead>\n    <tr style=\"text-align: right;\">\n      <th></th>\n      <th>member_key</th>\n      <th>first_name</th>\n      <th>last_name</th>\n      <th>budget_level1_key</th>\n      <th>budget_level1_name</th>\n      <th>plan_start_date</th>\n      <th>plan_end_date</th>\n      <th>allocated_amount_total</th>\n      <th>funded_amount</th>\n      <th>allocated_amount</th>\n    </tr>\n  </thead>\n  <tbody>\n    <tr>\n      <th>0</th>\n      <td>00109970-7029-11eb-81d6-9d4df94b6224</td>\n      <td>Wynny</td>\n      <td>Pressman</td>\n      <td>58745466-f597-11e9-bfb4-022d4762bb3c</td>\n      <td>Core</td>\n      <td>2021-02</td>\n      <td>2024-02</td>\n      <td>272168.34</td>\n      <td>11316.70</td>\n      <td>272168.34</td>\n    </tr>\n    <tr>\n      <th>1</th>\n      <td>0010f240-3b5d-11eb-aa73-7be7bbd3c758</td>\n      <td>Beryl</td>\n      <td>McDuff</td>\n      <td>5874551b-f597-11e9-bfb4-022d4762bb3c</td>\n      <td>Capacity Building</td>\n      <td>2020-09</td>\n      <td>2021-09</td>\n      <td>9801.60</td>\n      <td>2559.67</td>\n      <td>9801.60</td>\n    </tr>\n    <tr>\n      <th>2</th>\n      <td>0011ebe0-7722-11eb-9ade-8f3368e47951</td>\n      <td>Eamon</td>\n      <td>Gammage</td>\n      <td>58745466-f597-11e9-bfb4-022d4762bb3c</td>\n      <td>Core</td>\n      <td>2021-02</td>\n      <td>2024-02</td>\n      <td>312025.20</td>\n      <td>3629.66</td>\n      <td>294000.00</td>\n    </tr>\n    <tr>\n      <th>3</th>\n      <td>0011ebe0-7722-11eb-9ade-8f3368e47951</td>\n      <td>Eamon</td>\n      <td>Gammage</td>\n      <td>5874551b-f597-11e9-bfb4-022d4762bb3c</td>\n      <td>Capacity Building</td>\n      <td>2021-02</td>\n      <td>2024-02</td>\n      <td>312025.20</td>\n      <td>691.27</td>\n      <td>18025.20</td>\n    </tr>\n    <tr>\n      <th>4</th>\n      <td>007c1090-d6ca-11ea-bb8a-a73bf14c75f9</td>\n      <td>Janean</td>\n      <td>Potzold</td>\n      <td>58745466-f597-11e9-bfb4-022d4762bb3c</td>\n      <td>Core</td>\n      <td>2020-08</td>\n      <td>2021-08</td>\n      <td>155148.97</td>\n      <td>4213.97</td>\n      <td>73368.83</td>\n    </tr>\n    <tr>\n      <th>...</th>\n      <td>...</td>\n      <td>...</td>\n      <td>...</td>\n      <td>...</td>\n      <td>...</td>\n      <td>...</td>\n      <td>...</td>\n      <td>...</td>\n      <td>...</td>\n      <td>...</td>\n    </tr>\n    <tr>\n      <th>9266</th>\n      <td>ff630c80-d094-11ea-847f-196f66acbe45</td>\n      <td>Mureil</td>\n      <td>Labb</td>\n      <td>5874551b-f597-11e9-bfb4-022d4762bb3c</td>\n      <td>Capacity Building</td>\n      <td>2020-06</td>\n      <td>2021-06</td>\n      <td>19623.84</td>\n      <td>2069.29</td>\n      <td>19002.84</td>\n    </tr>\n    <tr>\n      <th>9267</th>\n      <td>ff656e00-7fce-11eb-8e57-d94003868067</td>\n      <td>Jeramie</td>\n      <td>Burgot</td>\n      <td>58745466-f597-11e9-bfb4-022d4762bb3c</td>\n      <td>Core</td>\n      <td>2021-03</td>\n      <td>2022-03</td>\n      <td>48587.66</td>\n      <td>204.36</td>\n      <td>3000.00</td>\n    </tr>\n    <tr>\n      <th>9268</th>\n      <td>ff656e00-7fce-11eb-8e57-d94003868067</td>\n      <td>Jeramie</td>\n      <td>Burgot</td>\n      <td>5874551b-f597-11e9-bfb4-022d4762bb3c</td>\n      <td>Capacity Building</td>\n      <td>2021-03</td>\n      <td>2022-03</td>\n      <td>48587.66</td>\n      <td>750.25</td>\n      <td>45587.66</td>\n    </tr>\n    <tr>\n      <th>9269</th>\n      <td>ffddfbc0-0861-11eb-92a0-2d24c44fa781</td>\n      <td>Allard</td>\n      <td>Postle</td>\n      <td>5874551b-f597-11e9-bfb4-022d4762bb3c</td>\n      <td>Capacity Building</td>\n      <td>2020-09</td>\n      <td>2021-09</td>\n      <td>18817.03</td>\n      <td>5508.97</td>\n      <td>18817.03</td>\n    </tr>\n    <tr>\n      <th>9270</th>\n      <td>ffe69c40-f3f2-11ea-b4b1-b16848150c7f</td>\n      <td>Johanna</td>\n      <td>Hadley</td>\n      <td>5874551b-f597-11e9-bfb4-022d4762bb3c</td>\n      <td>Capacity Building</td>\n      <td>2020-09</td>\n      <td>2021-09</td>\n      <td>16101.17</td>\n      <td>9051.73</td>\n      <td>16101.17</td>\n    </tr>\n  </tbody>\n</table>\n<p>9271 rows × 10 columns</p>\n</div>",
      "text/plain": "                                member_key first_name last_name  \\\n0     00109970-7029-11eb-81d6-9d4df94b6224      Wynny  Pressman   \n1     0010f240-3b5d-11eb-aa73-7be7bbd3c758      Beryl    McDuff   \n2     0011ebe0-7722-11eb-9ade-8f3368e47951      Eamon   Gammage   \n3     0011ebe0-7722-11eb-9ade-8f3368e47951      Eamon   Gammage   \n4     007c1090-d6ca-11ea-bb8a-a73bf14c75f9     Janean   Potzold   \n...                                    ...        ...       ...   \n9266  ff630c80-d094-11ea-847f-196f66acbe45     Mureil      Labb   \n9267  ff656e00-7fce-11eb-8e57-d94003868067    Jeramie    Burgot   \n9268  ff656e00-7fce-11eb-8e57-d94003868067    Jeramie    Burgot   \n9269  ffddfbc0-0861-11eb-92a0-2d24c44fa781     Allard    Postle   \n9270  ffe69c40-f3f2-11ea-b4b1-b16848150c7f    Johanna    Hadley   \n\n                         budget_level1_key budget_level1_name plan_start_date  \\\n0     58745466-f597-11e9-bfb4-022d4762bb3c               Core         2021-02   \n1     5874551b-f597-11e9-bfb4-022d4762bb3c  Capacity Building         2020-09   \n2     58745466-f597-11e9-bfb4-022d4762bb3c               Core         2021-02   \n3     5874551b-f597-11e9-bfb4-022d4762bb3c  Capacity Building         2021-02   \n4     58745466-f597-11e9-bfb4-022d4762bb3c               Core         2020-08   \n...                                    ...                ...             ...   \n9266  5874551b-f597-11e9-bfb4-022d4762bb3c  Capacity Building         2020-06   \n9267  58745466-f597-11e9-bfb4-022d4762bb3c               Core         2021-03   \n9268  5874551b-f597-11e9-bfb4-022d4762bb3c  Capacity Building         2021-03   \n9269  5874551b-f597-11e9-bfb4-022d4762bb3c  Capacity Building         2020-09   \n9270  5874551b-f597-11e9-bfb4-022d4762bb3c  Capacity Building         2020-09   \n\n     plan_end_date  allocated_amount_total  funded_amount  allocated_amount  \n0          2024-02               272168.34       11316.70         272168.34  \n1          2021-09                 9801.60        2559.67           9801.60  \n2          2024-02               312025.20        3629.66         294000.00  \n3          2024-02               312025.20         691.27          18025.20  \n4          2021-08               155148.97        4213.97          73368.83  \n...            ...                     ...            ...               ...  \n9266       2021-06                19623.84        2069.29          19002.84  \n9267       2022-03                48587.66         204.36           3000.00  \n9268       2022-03                48587.66         750.25          45587.66  \n9269       2021-09                18817.03        5508.97          18817.03  \n9270       2021-09                16101.17        9051.73          16101.17  \n\n[9271 rows x 10 columns]"
     },
     "execution_count": 6,
     "metadata": {},
     "output_type": "execute_result"
    }
   ],
   "source": [
    "# Select just the fields to be used\r\n",
    "main_data_set = main_data_No_NaN.groupby([\r\n",
    "                                           \"member_key\"\r\n",
    "                                         , \"first_name\"\r\n",
    "                                         , \"last_name\"\r\n",
    "                                         , \"budget_level1_key\"\r\n",
    "                                         , \"budget_level1_name\"\r\n",
    "                                         , \"plan_start_date\"\r\n",
    "                                         , \"plan_end_date\"\r\n",
    "                                         , \"allocated_amount_total\"\r\n",
    "                                        ]).agg({\"funded_amount\": \"sum\", \"allocated_amount\": \"sum\"}).reset_index().copy()\r\n",
    "\r\n",
    "\r\n",
    "\r\n",
    "main_data_set"
   ]
  },
  {
   "cell_type": "code",
   "execution_count": 7,
   "metadata": {},
   "outputs": [
    {
     "data": {
      "text/html": "<div>\n<style scoped>\n    .dataframe tbody tr th:only-of-type {\n        vertical-align: middle;\n    }\n\n    .dataframe tbody tr th {\n        vertical-align: top;\n    }\n\n    .dataframe thead th {\n        text-align: right;\n    }\n</style>\n<table border=\"1\" class=\"dataframe\">\n  <thead>\n    <tr style=\"text-align: right;\">\n      <th></th>\n      <th>member_key</th>\n      <th>first_name</th>\n      <th>last_name</th>\n      <th>budget_level1_key</th>\n      <th>budget_level1_name</th>\n      <th>plan_start_date</th>\n      <th>plan_end_date</th>\n      <th>allocated_amount_total</th>\n      <th>funded_amount</th>\n      <th>allocated_amount</th>\n      <th>plan_months_total</th>\n    </tr>\n  </thead>\n  <tbody>\n    <tr>\n      <th>0</th>\n      <td>00109970-7029-11eb-81d6-9d4df94b6224</td>\n      <td>Wynny</td>\n      <td>Pressman</td>\n      <td>58745466-f597-11e9-bfb4-022d4762bb3c</td>\n      <td>Core</td>\n      <td>2021-02</td>\n      <td>2024-02</td>\n      <td>272168.34</td>\n      <td>11316.70</td>\n      <td>272168.34</td>\n      <td>36</td>\n    </tr>\n    <tr>\n      <th>1</th>\n      <td>0010f240-3b5d-11eb-aa73-7be7bbd3c758</td>\n      <td>Beryl</td>\n      <td>McDuff</td>\n      <td>5874551b-f597-11e9-bfb4-022d4762bb3c</td>\n      <td>Capacity Building</td>\n      <td>2020-09</td>\n      <td>2021-09</td>\n      <td>9801.60</td>\n      <td>2559.67</td>\n      <td>9801.60</td>\n      <td>12</td>\n    </tr>\n    <tr>\n      <th>2</th>\n      <td>0011ebe0-7722-11eb-9ade-8f3368e47951</td>\n      <td>Eamon</td>\n      <td>Gammage</td>\n      <td>58745466-f597-11e9-bfb4-022d4762bb3c</td>\n      <td>Core</td>\n      <td>2021-02</td>\n      <td>2024-02</td>\n      <td>312025.20</td>\n      <td>3629.66</td>\n      <td>294000.00</td>\n      <td>36</td>\n    </tr>\n    <tr>\n      <th>3</th>\n      <td>0011ebe0-7722-11eb-9ade-8f3368e47951</td>\n      <td>Eamon</td>\n      <td>Gammage</td>\n      <td>5874551b-f597-11e9-bfb4-022d4762bb3c</td>\n      <td>Capacity Building</td>\n      <td>2021-02</td>\n      <td>2024-02</td>\n      <td>312025.20</td>\n      <td>691.27</td>\n      <td>18025.20</td>\n      <td>36</td>\n    </tr>\n    <tr>\n      <th>4</th>\n      <td>007c1090-d6ca-11ea-bb8a-a73bf14c75f9</td>\n      <td>Janean</td>\n      <td>Potzold</td>\n      <td>58745466-f597-11e9-bfb4-022d4762bb3c</td>\n      <td>Core</td>\n      <td>2020-08</td>\n      <td>2021-08</td>\n      <td>155148.97</td>\n      <td>4213.97</td>\n      <td>73368.83</td>\n      <td>12</td>\n    </tr>\n    <tr>\n      <th>...</th>\n      <td>...</td>\n      <td>...</td>\n      <td>...</td>\n      <td>...</td>\n      <td>...</td>\n      <td>...</td>\n      <td>...</td>\n      <td>...</td>\n      <td>...</td>\n      <td>...</td>\n      <td>...</td>\n    </tr>\n    <tr>\n      <th>9266</th>\n      <td>ff630c80-d094-11ea-847f-196f66acbe45</td>\n      <td>Mureil</td>\n      <td>Labb</td>\n      <td>5874551b-f597-11e9-bfb4-022d4762bb3c</td>\n      <td>Capacity Building</td>\n      <td>2020-06</td>\n      <td>2021-06</td>\n      <td>19623.84</td>\n      <td>2069.29</td>\n      <td>19002.84</td>\n      <td>12</td>\n    </tr>\n    <tr>\n      <th>9267</th>\n      <td>ff656e00-7fce-11eb-8e57-d94003868067</td>\n      <td>Jeramie</td>\n      <td>Burgot</td>\n      <td>58745466-f597-11e9-bfb4-022d4762bb3c</td>\n      <td>Core</td>\n      <td>2021-03</td>\n      <td>2022-03</td>\n      <td>48587.66</td>\n      <td>204.36</td>\n      <td>3000.00</td>\n      <td>12</td>\n    </tr>\n    <tr>\n      <th>9268</th>\n      <td>ff656e00-7fce-11eb-8e57-d94003868067</td>\n      <td>Jeramie</td>\n      <td>Burgot</td>\n      <td>5874551b-f597-11e9-bfb4-022d4762bb3c</td>\n      <td>Capacity Building</td>\n      <td>2021-03</td>\n      <td>2022-03</td>\n      <td>48587.66</td>\n      <td>750.25</td>\n      <td>45587.66</td>\n      <td>12</td>\n    </tr>\n    <tr>\n      <th>9269</th>\n      <td>ffddfbc0-0861-11eb-92a0-2d24c44fa781</td>\n      <td>Allard</td>\n      <td>Postle</td>\n      <td>5874551b-f597-11e9-bfb4-022d4762bb3c</td>\n      <td>Capacity Building</td>\n      <td>2020-09</td>\n      <td>2021-09</td>\n      <td>18817.03</td>\n      <td>5508.97</td>\n      <td>18817.03</td>\n      <td>12</td>\n    </tr>\n    <tr>\n      <th>9270</th>\n      <td>ffe69c40-f3f2-11ea-b4b1-b16848150c7f</td>\n      <td>Johanna</td>\n      <td>Hadley</td>\n      <td>5874551b-f597-11e9-bfb4-022d4762bb3c</td>\n      <td>Capacity Building</td>\n      <td>2020-09</td>\n      <td>2021-09</td>\n      <td>16101.17</td>\n      <td>9051.73</td>\n      <td>16101.17</td>\n      <td>12</td>\n    </tr>\n  </tbody>\n</table>\n<p>8875 rows × 11 columns</p>\n</div>",
      "text/plain": "                                member_key first_name last_name  \\\n0     00109970-7029-11eb-81d6-9d4df94b6224      Wynny  Pressman   \n1     0010f240-3b5d-11eb-aa73-7be7bbd3c758      Beryl    McDuff   \n2     0011ebe0-7722-11eb-9ade-8f3368e47951      Eamon   Gammage   \n3     0011ebe0-7722-11eb-9ade-8f3368e47951      Eamon   Gammage   \n4     007c1090-d6ca-11ea-bb8a-a73bf14c75f9     Janean   Potzold   \n...                                    ...        ...       ...   \n9266  ff630c80-d094-11ea-847f-196f66acbe45     Mureil      Labb   \n9267  ff656e00-7fce-11eb-8e57-d94003868067    Jeramie    Burgot   \n9268  ff656e00-7fce-11eb-8e57-d94003868067    Jeramie    Burgot   \n9269  ffddfbc0-0861-11eb-92a0-2d24c44fa781     Allard    Postle   \n9270  ffe69c40-f3f2-11ea-b4b1-b16848150c7f    Johanna    Hadley   \n\n                         budget_level1_key budget_level1_name plan_start_date  \\\n0     58745466-f597-11e9-bfb4-022d4762bb3c               Core         2021-02   \n1     5874551b-f597-11e9-bfb4-022d4762bb3c  Capacity Building         2020-09   \n2     58745466-f597-11e9-bfb4-022d4762bb3c               Core         2021-02   \n3     5874551b-f597-11e9-bfb4-022d4762bb3c  Capacity Building         2021-02   \n4     58745466-f597-11e9-bfb4-022d4762bb3c               Core         2020-08   \n...                                    ...                ...             ...   \n9266  5874551b-f597-11e9-bfb4-022d4762bb3c  Capacity Building         2020-06   \n9267  58745466-f597-11e9-bfb4-022d4762bb3c               Core         2021-03   \n9268  5874551b-f597-11e9-bfb4-022d4762bb3c  Capacity Building         2021-03   \n9269  5874551b-f597-11e9-bfb4-022d4762bb3c  Capacity Building         2020-09   \n9270  5874551b-f597-11e9-bfb4-022d4762bb3c  Capacity Building         2020-09   \n\n     plan_end_date  allocated_amount_total  funded_amount  allocated_amount  \\\n0          2024-02               272168.34       11316.70         272168.34   \n1          2021-09                 9801.60        2559.67           9801.60   \n2          2024-02               312025.20        3629.66         294000.00   \n3          2024-02               312025.20         691.27          18025.20   \n4          2021-08               155148.97        4213.97          73368.83   \n...            ...                     ...            ...               ...   \n9266       2021-06                19623.84        2069.29          19002.84   \n9267       2022-03                48587.66         204.36           3000.00   \n9268       2022-03                48587.66         750.25          45587.66   \n9269       2021-09                18817.03        5508.97          18817.03   \n9270       2021-09                16101.17        9051.73          16101.17   \n\n      plan_months_total  \n0                    36  \n1                    12  \n2                    36  \n3                    36  \n4                    12  \n...                 ...  \n9266                 12  \n9267                 12  \n9268                 12  \n9269                 12  \n9270                 12  \n\n[8875 rows x 11 columns]"
     },
     "execution_count": 7,
     "metadata": {},
     "output_type": "execute_result"
    }
   ],
   "source": [
    "#months_total = main_data_set[{\r\n",
    "#                              \"member_key\"\r\n",
    "#                            , \"plan_start_date\"\r\n",
    "#                            , \"plan_end_date\"}].groupby([\r\n",
    "#                                                        \"member_key\"\r\n",
    "#                                                      , \"plan_start_date\"\r\n",
    "#                                                      , \"plan_end_date\"\r\n",
    "#                                                        ]).count().reset_index()\r\n",
    "\r\n",
    "months_total = main_data_set[{\r\n",
    "                              \"member_key\"\r\n",
    "                            , \"plan_start_date\"\r\n",
    "                            , \"plan_end_date\"}].copy()\r\n",
    "\r\n",
    "months_total['plan_months_total'] = ((pd.to_datetime(months_total['plan_end_date']).dt.year\r\n",
    "                                   -  pd.to_datetime(months_total['plan_start_date']).dt.year) * 12) + (pd.to_datetime(months_total['plan_end_date']).dt.month\r\n",
    "                                   -  pd.to_datetime(months_total['plan_start_date']).dt.month)\r\n",
    "\r\n",
    "months_total_merged = months_total[{\"member_key\", \"plan_months_total\"}]\r\n",
    "                            \r\n",
    "months_total_merged = months_total[{\r\n",
    "                                    \"member_key\"\r\n",
    "                                  , \"plan_months_total\"\r\n",
    "                            }].groupby([\r\n",
    "                                       \"member_key\"\r\n",
    "                                     , \"plan_months_total\"\r\n",
    "                                       ]).count().reset_index()\r\n",
    "\r\n",
    "months_total_merged = pd.merge(main_data_set, months_total_merged, how=\"left\", on=[\"member_key\"])\r\n",
    "\r\n",
    "months_total_merged = months_total_merged.loc[months_total_merged[\"plan_months_total\"] >= 12]\r\n",
    "\r\n",
    "months_total_merged"
   ]
  },
  {
   "cell_type": "code",
   "execution_count": 8,
   "metadata": {},
   "outputs": [
    {
     "data": {
      "text/html": "<div>\n<style scoped>\n    .dataframe tbody tr th:only-of-type {\n        vertical-align: middle;\n    }\n\n    .dataframe tbody tr th {\n        vertical-align: top;\n    }\n\n    .dataframe thead th {\n        text-align: right;\n    }\n</style>\n<table border=\"1\" class=\"dataframe\">\n  <thead>\n    <tr style=\"text-align: right;\">\n      <th></th>\n      <th>member_key</th>\n      <th>first_name</th>\n      <th>last_name</th>\n      <th>budget_level1_key</th>\n      <th>budget_level1_name</th>\n      <th>plan_start_date</th>\n      <th>plan_end_date</th>\n      <th>allocated_amount_total</th>\n      <th>funded_amount</th>\n      <th>allocated_amount</th>\n      <th>plan_months_total</th>\n      <th>allocated_amount_month</th>\n    </tr>\n  </thead>\n  <tbody>\n    <tr>\n      <th>0</th>\n      <td>00109970-7029-11eb-81d6-9d4df94b6224</td>\n      <td>Wynny</td>\n      <td>Pressman</td>\n      <td>58745466-f597-11e9-bfb4-022d4762bb3c</td>\n      <td>Core</td>\n      <td>2021-02</td>\n      <td>2024-02</td>\n      <td>272168.34</td>\n      <td>11316.70</td>\n      <td>272168.34</td>\n      <td>36</td>\n      <td>7560.231667</td>\n    </tr>\n    <tr>\n      <th>1</th>\n      <td>0010f240-3b5d-11eb-aa73-7be7bbd3c758</td>\n      <td>Beryl</td>\n      <td>McDuff</td>\n      <td>5874551b-f597-11e9-bfb4-022d4762bb3c</td>\n      <td>Capacity Building</td>\n      <td>2020-09</td>\n      <td>2021-09</td>\n      <td>9801.60</td>\n      <td>2559.67</td>\n      <td>9801.60</td>\n      <td>12</td>\n      <td>816.800000</td>\n    </tr>\n    <tr>\n      <th>2</th>\n      <td>0011ebe0-7722-11eb-9ade-8f3368e47951</td>\n      <td>Eamon</td>\n      <td>Gammage</td>\n      <td>58745466-f597-11e9-bfb4-022d4762bb3c</td>\n      <td>Core</td>\n      <td>2021-02</td>\n      <td>2024-02</td>\n      <td>312025.20</td>\n      <td>3629.66</td>\n      <td>294000.00</td>\n      <td>36</td>\n      <td>8166.666667</td>\n    </tr>\n    <tr>\n      <th>3</th>\n      <td>0011ebe0-7722-11eb-9ade-8f3368e47951</td>\n      <td>Eamon</td>\n      <td>Gammage</td>\n      <td>5874551b-f597-11e9-bfb4-022d4762bb3c</td>\n      <td>Capacity Building</td>\n      <td>2021-02</td>\n      <td>2024-02</td>\n      <td>312025.20</td>\n      <td>691.27</td>\n      <td>18025.20</td>\n      <td>36</td>\n      <td>500.700000</td>\n    </tr>\n    <tr>\n      <th>4</th>\n      <td>007c1090-d6ca-11ea-bb8a-a73bf14c75f9</td>\n      <td>Janean</td>\n      <td>Potzold</td>\n      <td>58745466-f597-11e9-bfb4-022d4762bb3c</td>\n      <td>Core</td>\n      <td>2020-08</td>\n      <td>2021-08</td>\n      <td>155148.97</td>\n      <td>4213.97</td>\n      <td>73368.83</td>\n      <td>12</td>\n      <td>6114.069167</td>\n    </tr>\n    <tr>\n      <th>...</th>\n      <td>...</td>\n      <td>...</td>\n      <td>...</td>\n      <td>...</td>\n      <td>...</td>\n      <td>...</td>\n      <td>...</td>\n      <td>...</td>\n      <td>...</td>\n      <td>...</td>\n      <td>...</td>\n      <td>...</td>\n    </tr>\n    <tr>\n      <th>8870</th>\n      <td>ff630c80-d094-11ea-847f-196f66acbe45</td>\n      <td>Mureil</td>\n      <td>Labb</td>\n      <td>5874551b-f597-11e9-bfb4-022d4762bb3c</td>\n      <td>Capacity Building</td>\n      <td>2020-06</td>\n      <td>2021-06</td>\n      <td>19623.84</td>\n      <td>2069.29</td>\n      <td>19002.84</td>\n      <td>12</td>\n      <td>1583.570000</td>\n    </tr>\n    <tr>\n      <th>8871</th>\n      <td>ff656e00-7fce-11eb-8e57-d94003868067</td>\n      <td>Jeramie</td>\n      <td>Burgot</td>\n      <td>58745466-f597-11e9-bfb4-022d4762bb3c</td>\n      <td>Core</td>\n      <td>2021-03</td>\n      <td>2022-03</td>\n      <td>48587.66</td>\n      <td>204.36</td>\n      <td>3000.00</td>\n      <td>12</td>\n      <td>250.000000</td>\n    </tr>\n    <tr>\n      <th>8872</th>\n      <td>ff656e00-7fce-11eb-8e57-d94003868067</td>\n      <td>Jeramie</td>\n      <td>Burgot</td>\n      <td>5874551b-f597-11e9-bfb4-022d4762bb3c</td>\n      <td>Capacity Building</td>\n      <td>2021-03</td>\n      <td>2022-03</td>\n      <td>48587.66</td>\n      <td>750.25</td>\n      <td>45587.66</td>\n      <td>12</td>\n      <td>3798.971667</td>\n    </tr>\n    <tr>\n      <th>8873</th>\n      <td>ffddfbc0-0861-11eb-92a0-2d24c44fa781</td>\n      <td>Allard</td>\n      <td>Postle</td>\n      <td>5874551b-f597-11e9-bfb4-022d4762bb3c</td>\n      <td>Capacity Building</td>\n      <td>2020-09</td>\n      <td>2021-09</td>\n      <td>18817.03</td>\n      <td>5508.97</td>\n      <td>18817.03</td>\n      <td>12</td>\n      <td>1568.085833</td>\n    </tr>\n    <tr>\n      <th>8874</th>\n      <td>ffe69c40-f3f2-11ea-b4b1-b16848150c7f</td>\n      <td>Johanna</td>\n      <td>Hadley</td>\n      <td>5874551b-f597-11e9-bfb4-022d4762bb3c</td>\n      <td>Capacity Building</td>\n      <td>2020-09</td>\n      <td>2021-09</td>\n      <td>16101.17</td>\n      <td>9051.73</td>\n      <td>16101.17</td>\n      <td>12</td>\n      <td>1341.764167</td>\n    </tr>\n  </tbody>\n</table>\n<p>8875 rows × 12 columns</p>\n</div>",
      "text/plain": "                                member_key first_name last_name  \\\n0     00109970-7029-11eb-81d6-9d4df94b6224      Wynny  Pressman   \n1     0010f240-3b5d-11eb-aa73-7be7bbd3c758      Beryl    McDuff   \n2     0011ebe0-7722-11eb-9ade-8f3368e47951      Eamon   Gammage   \n3     0011ebe0-7722-11eb-9ade-8f3368e47951      Eamon   Gammage   \n4     007c1090-d6ca-11ea-bb8a-a73bf14c75f9     Janean   Potzold   \n...                                    ...        ...       ...   \n8870  ff630c80-d094-11ea-847f-196f66acbe45     Mureil      Labb   \n8871  ff656e00-7fce-11eb-8e57-d94003868067    Jeramie    Burgot   \n8872  ff656e00-7fce-11eb-8e57-d94003868067    Jeramie    Burgot   \n8873  ffddfbc0-0861-11eb-92a0-2d24c44fa781     Allard    Postle   \n8874  ffe69c40-f3f2-11ea-b4b1-b16848150c7f    Johanna    Hadley   \n\n                         budget_level1_key budget_level1_name plan_start_date  \\\n0     58745466-f597-11e9-bfb4-022d4762bb3c               Core         2021-02   \n1     5874551b-f597-11e9-bfb4-022d4762bb3c  Capacity Building         2020-09   \n2     58745466-f597-11e9-bfb4-022d4762bb3c               Core         2021-02   \n3     5874551b-f597-11e9-bfb4-022d4762bb3c  Capacity Building         2021-02   \n4     58745466-f597-11e9-bfb4-022d4762bb3c               Core         2020-08   \n...                                    ...                ...             ...   \n8870  5874551b-f597-11e9-bfb4-022d4762bb3c  Capacity Building         2020-06   \n8871  58745466-f597-11e9-bfb4-022d4762bb3c               Core         2021-03   \n8872  5874551b-f597-11e9-bfb4-022d4762bb3c  Capacity Building         2021-03   \n8873  5874551b-f597-11e9-bfb4-022d4762bb3c  Capacity Building         2020-09   \n8874  5874551b-f597-11e9-bfb4-022d4762bb3c  Capacity Building         2020-09   \n\n     plan_end_date  allocated_amount_total  funded_amount  allocated_amount  \\\n0          2024-02               272168.34       11316.70         272168.34   \n1          2021-09                 9801.60        2559.67           9801.60   \n2          2024-02               312025.20        3629.66         294000.00   \n3          2024-02               312025.20         691.27          18025.20   \n4          2021-08               155148.97        4213.97          73368.83   \n...            ...                     ...            ...               ...   \n8870       2021-06                19623.84        2069.29          19002.84   \n8871       2022-03                48587.66         204.36           3000.00   \n8872       2022-03                48587.66         750.25          45587.66   \n8873       2021-09                18817.03        5508.97          18817.03   \n8874       2021-09                16101.17        9051.73          16101.17   \n\n      plan_months_total  allocated_amount_month  \n0                    36             7560.231667  \n1                    12              816.800000  \n2                    36             8166.666667  \n3                    36              500.700000  \n4                    12             6114.069167  \n...                 ...                     ...  \n8870                 12             1583.570000  \n8871                 12              250.000000  \n8872                 12             3798.971667  \n8873                 12             1568.085833  \n8874                 12             1341.764167  \n\n[8875 rows x 12 columns]"
     },
     "execution_count": 8,
     "metadata": {},
     "output_type": "execute_result"
    }
   ],
   "source": [
    "allocated_amount_month = months_total_merged[{\r\n",
    "                                              \"member_key\"\r\n",
    "                                            , \"budget_level1_key\"\r\n",
    "                                            , \"plan_months_total\"\r\n",
    "                                            , \"allocated_amount\"\r\n",
    "                                            }].copy()\r\n",
    "\r\n",
    "allocated_amount_month[\"allocated_amount_month\"] = allocated_amount_month[\"allocated_amount\"] / allocated_amount_month[\"plan_months_total\"]                                                    \r\n",
    "\r\n",
    "allocated_amount_month = allocated_amount_month[{'member_key', 'budget_level1_key', 'allocated_amount_month'}]\r\n",
    "\r\n",
    "months_total_merged_monthly = pd.merge(months_total_merged, allocated_amount_month, how=\"left\", on=[\"member_key\", \"budget_level1_key\"])\r\n",
    "\r\n",
    "months_total_merged_monthly"
   ]
  },
  {
   "cell_type": "code",
   "execution_count": 9,
   "metadata": {},
   "outputs": [],
   "source": [
    "#allocated_amount_month = months_total_merged.groupby([\r\n",
    "#                                                        \"member_key\"\r\n",
    "#                                                      , \"budget_level1_key\"\r\n",
    "#                                                      , \"plan_months_total\"\r\n",
    "#                                                        ]).agg({\"allocated_amount\": \"sum\"}).reset_index()\r\n",
    "\r\n",
    "#allocated_amount_month[\"allocated_amount_month\"] = allocated_amount_month[\"allocated_amount\"] / allocated_amount_month[\"plan_months_total\"]                                                    \r\n",
    "#allocated_amount_month = allocated_amount_month[{'member_key', 'budget_level1_key', 'allocated_amount_month'}]\r\n",
    "\r\n",
    "#months_total_merged_monthly = pd.merge(months_total_merged, allocated_amount_month, how=\"left\", on=[\"member_key\", \"budget_level1_key\"])\r\n",
    "\r\n",
    "#months_total_merged_monthly"
   ]
  },
  {
   "cell_type": "code",
   "execution_count": 10,
   "metadata": {},
   "outputs": [],
   "source": [
    "#month_today = main_data_set[{\r\n",
    "#                           \"member_key\"\r\n",
    "#                         , \"budget_level1_key\"\r\n",
    "#                         , \"plan_start_date\"\r\n",
    "#                            }].groupby([\r\n",
    "#                                       \"member_key\"\r\n",
    "#                                     , \"budget_level1_key\"\r\n",
    "#                                     , \"plan_start_date\"\r\n",
    "#                                       ]).count().reset_index()\r\n",
    "\r\n",
    "\r\n",
    "month_today = main_data_set[{\r\n",
    "                           \"member_key\"\r\n",
    "                         , \"budget_level1_key\"\r\n",
    "                         , \"plan_start_date\"\r\n",
    "                            }].copy()\r\n",
    "\r\n",
    "\r\n",
    "month_today['month_actual'] = ((pd.to_datetime(\"today\").year -  pd.to_datetime(month_today['plan_start_date']).dt.year) * 12)                                                                                                                     + (pd.to_datetime(\"today\").month - pd.to_datetime(month_today['plan_start_date']).dt.month)\r\n",
    "\r\n",
    "month_today = month_today[{'member_key', 'budget_level1_key', 'month_actual'}]\r\n",
    "\r\n",
    "month_actual = pd.merge(months_total_merged_monthly, month_today, how=\"left\", on=[\"member_key\", \"budget_level1_key\"])\r\n",
    "\r\n",
    "month_actual[\"spent_amount_predicted\"] = month_actual[\"allocated_amount_month\"] * month_actual[\"month_actual\"]"
   ]
  },
  {
   "cell_type": "code",
   "execution_count": 11,
   "metadata": {},
   "outputs": [],
   "source": [
    "#month_actual['spent_amount_predicted_percentage'] = (month_actual['spent_amount_predicted'] / month_actual['allocated_amount']) * 100\r\n",
    "#month_actual['funded_amount_percentage'] = (month_actual['funded_amount'] / month_actual['allocated_amount']) * 100"
   ]
  },
  {
   "cell_type": "code",
   "execution_count": 12,
   "metadata": {},
   "outputs": [],
   "source": [
    "#month_actual['months_missing'] = month_actual['plan_months_total'] - month_actual['month_actual']\r\n",
    "\r\n",
    "month_actual['funded_amount'] = month_actual['funded_amount'].round(2)\r\n",
    "month_actual['allocated_amount'] = month_actual['allocated_amount'].round(2)\r\n",
    "\r\n",
    "month_actual['allocated_amount_month'] = month_actual['allocated_amount_month'].round(2)\r\n",
    "month_actual['spent_amount_predicted'] = month_actual['spent_amount_predicted'].round(2)\r\n",
    "\r\n",
    "\r\n",
    "#month_actual['spent_amount_predicted_percentage'] = month_actual['spent_amount_predicted_percentage'].round(2)\r\n",
    "#month_actual['funded_amount_percentage'] = month_actual['funded_amount_percentage'].round(2)"
   ]
  },
  {
   "cell_type": "code",
   "execution_count": 13,
   "metadata": {},
   "outputs": [
    {
     "data": {
      "text/html": "<div>\n<style scoped>\n    .dataframe tbody tr th:only-of-type {\n        vertical-align: middle;\n    }\n\n    .dataframe tbody tr th {\n        vertical-align: top;\n    }\n\n    .dataframe thead th {\n        text-align: right;\n    }\n</style>\n<table border=\"1\" class=\"dataframe\">\n  <thead>\n    <tr style=\"text-align: right;\">\n      <th></th>\n      <th>allocated_amount_total</th>\n      <th>member_key</th>\n      <th>budget_level1_name</th>\n      <th>month_actual</th>\n      <th>funded_amount</th>\n      <th>first_name</th>\n      <th>spent_amount_predicted</th>\n      <th>budget_level1_key</th>\n      <th>last_name</th>\n      <th>plan_months_total</th>\n    </tr>\n  </thead>\n  <tbody>\n    <tr>\n      <th>0</th>\n      <td>272168.34</td>\n      <td>00109970-7029-11eb-81d6-9d4df94b6224</td>\n      <td>Core</td>\n      <td>3</td>\n      <td>11316.70</td>\n      <td>Wynny</td>\n      <td>22680.69</td>\n      <td>58745466-f597-11e9-bfb4-022d4762bb3c</td>\n      <td>Pressman</td>\n      <td>36</td>\n    </tr>\n    <tr>\n      <th>1</th>\n      <td>9801.60</td>\n      <td>0010f240-3b5d-11eb-aa73-7be7bbd3c758</td>\n      <td>Capacity Building</td>\n      <td>8</td>\n      <td>2559.67</td>\n      <td>Beryl</td>\n      <td>6534.40</td>\n      <td>5874551b-f597-11e9-bfb4-022d4762bb3c</td>\n      <td>McDuff</td>\n      <td>12</td>\n    </tr>\n    <tr>\n      <th>2</th>\n      <td>312025.20</td>\n      <td>0011ebe0-7722-11eb-9ade-8f3368e47951</td>\n      <td>Core</td>\n      <td>3</td>\n      <td>3629.66</td>\n      <td>Eamon</td>\n      <td>24500.00</td>\n      <td>58745466-f597-11e9-bfb4-022d4762bb3c</td>\n      <td>Gammage</td>\n      <td>36</td>\n    </tr>\n    <tr>\n      <th>3</th>\n      <td>312025.20</td>\n      <td>0011ebe0-7722-11eb-9ade-8f3368e47951</td>\n      <td>Capacity Building</td>\n      <td>3</td>\n      <td>691.27</td>\n      <td>Eamon</td>\n      <td>1502.10</td>\n      <td>5874551b-f597-11e9-bfb4-022d4762bb3c</td>\n      <td>Gammage</td>\n      <td>36</td>\n    </tr>\n    <tr>\n      <th>4</th>\n      <td>155148.97</td>\n      <td>007c1090-d6ca-11ea-bb8a-a73bf14c75f9</td>\n      <td>Core</td>\n      <td>9</td>\n      <td>4213.97</td>\n      <td>Janean</td>\n      <td>55026.62</td>\n      <td>58745466-f597-11e9-bfb4-022d4762bb3c</td>\n      <td>Potzold</td>\n      <td>12</td>\n    </tr>\n    <tr>\n      <th>...</th>\n      <td>...</td>\n      <td>...</td>\n      <td>...</td>\n      <td>...</td>\n      <td>...</td>\n      <td>...</td>\n      <td>...</td>\n      <td>...</td>\n      <td>...</td>\n      <td>...</td>\n    </tr>\n    <tr>\n      <th>8870</th>\n      <td>19623.84</td>\n      <td>ff630c80-d094-11ea-847f-196f66acbe45</td>\n      <td>Capacity Building</td>\n      <td>11</td>\n      <td>2069.29</td>\n      <td>Mureil</td>\n      <td>17419.27</td>\n      <td>5874551b-f597-11e9-bfb4-022d4762bb3c</td>\n      <td>Labb</td>\n      <td>12</td>\n    </tr>\n    <tr>\n      <th>8871</th>\n      <td>48587.66</td>\n      <td>ff656e00-7fce-11eb-8e57-d94003868067</td>\n      <td>Core</td>\n      <td>2</td>\n      <td>204.36</td>\n      <td>Jeramie</td>\n      <td>500.00</td>\n      <td>58745466-f597-11e9-bfb4-022d4762bb3c</td>\n      <td>Burgot</td>\n      <td>12</td>\n    </tr>\n    <tr>\n      <th>8872</th>\n      <td>48587.66</td>\n      <td>ff656e00-7fce-11eb-8e57-d94003868067</td>\n      <td>Capacity Building</td>\n      <td>2</td>\n      <td>750.25</td>\n      <td>Jeramie</td>\n      <td>7597.94</td>\n      <td>5874551b-f597-11e9-bfb4-022d4762bb3c</td>\n      <td>Burgot</td>\n      <td>12</td>\n    </tr>\n    <tr>\n      <th>8873</th>\n      <td>18817.03</td>\n      <td>ffddfbc0-0861-11eb-92a0-2d24c44fa781</td>\n      <td>Capacity Building</td>\n      <td>8</td>\n      <td>5508.97</td>\n      <td>Allard</td>\n      <td>12544.69</td>\n      <td>5874551b-f597-11e9-bfb4-022d4762bb3c</td>\n      <td>Postle</td>\n      <td>12</td>\n    </tr>\n    <tr>\n      <th>8874</th>\n      <td>16101.17</td>\n      <td>ffe69c40-f3f2-11ea-b4b1-b16848150c7f</td>\n      <td>Capacity Building</td>\n      <td>8</td>\n      <td>9051.73</td>\n      <td>Johanna</td>\n      <td>10734.11</td>\n      <td>5874551b-f597-11e9-bfb4-022d4762bb3c</td>\n      <td>Hadley</td>\n      <td>12</td>\n    </tr>\n  </tbody>\n</table>\n<p>8875 rows × 10 columns</p>\n</div>",
      "text/plain": "      allocated_amount_total                            member_key  \\\n0                  272168.34  00109970-7029-11eb-81d6-9d4df94b6224   \n1                    9801.60  0010f240-3b5d-11eb-aa73-7be7bbd3c758   \n2                  312025.20  0011ebe0-7722-11eb-9ade-8f3368e47951   \n3                  312025.20  0011ebe0-7722-11eb-9ade-8f3368e47951   \n4                  155148.97  007c1090-d6ca-11ea-bb8a-a73bf14c75f9   \n...                      ...                                   ...   \n8870                19623.84  ff630c80-d094-11ea-847f-196f66acbe45   \n8871                48587.66  ff656e00-7fce-11eb-8e57-d94003868067   \n8872                48587.66  ff656e00-7fce-11eb-8e57-d94003868067   \n8873                18817.03  ffddfbc0-0861-11eb-92a0-2d24c44fa781   \n8874                16101.17  ffe69c40-f3f2-11ea-b4b1-b16848150c7f   \n\n     budget_level1_name  month_actual  funded_amount first_name  \\\n0                  Core             3       11316.70      Wynny   \n1     Capacity Building             8        2559.67      Beryl   \n2                  Core             3        3629.66      Eamon   \n3     Capacity Building             3         691.27      Eamon   \n4                  Core             9        4213.97     Janean   \n...                 ...           ...            ...        ...   \n8870  Capacity Building            11        2069.29     Mureil   \n8871               Core             2         204.36    Jeramie   \n8872  Capacity Building             2         750.25    Jeramie   \n8873  Capacity Building             8        5508.97     Allard   \n8874  Capacity Building             8        9051.73    Johanna   \n\n      spent_amount_predicted                     budget_level1_key last_name  \\\n0                   22680.69  58745466-f597-11e9-bfb4-022d4762bb3c  Pressman   \n1                    6534.40  5874551b-f597-11e9-bfb4-022d4762bb3c    McDuff   \n2                   24500.00  58745466-f597-11e9-bfb4-022d4762bb3c   Gammage   \n3                    1502.10  5874551b-f597-11e9-bfb4-022d4762bb3c   Gammage   \n4                   55026.62  58745466-f597-11e9-bfb4-022d4762bb3c   Potzold   \n...                      ...                                   ...       ...   \n8870                17419.27  5874551b-f597-11e9-bfb4-022d4762bb3c      Labb   \n8871                  500.00  58745466-f597-11e9-bfb4-022d4762bb3c    Burgot   \n8872                 7597.94  5874551b-f597-11e9-bfb4-022d4762bb3c    Burgot   \n8873                12544.69  5874551b-f597-11e9-bfb4-022d4762bb3c    Postle   \n8874                10734.11  5874551b-f597-11e9-bfb4-022d4762bb3c    Hadley   \n\n      plan_months_total  \n0                    36  \n1                    12  \n2                    36  \n3                    36  \n4                    12  \n...                 ...  \n8870                 12  \n8871                 12  \n8872                 12  \n8873                 12  \n8874                 12  \n\n[8875 rows x 10 columns]"
     },
     "execution_count": 13,
     "metadata": {},
     "output_type": "execute_result"
    }
   ],
   "source": [
    "main_data_set = month_actual[{\r\n",
    "                              \"member_key\"\r\n",
    "                            , \"first_name\" \r\n",
    "                            , \"last_name\" \r\n",
    "                            , \"budget_level1_key\"\r\n",
    "                            , \"budget_level1_name\"\r\n",
    "                            , \"plan_months_total\"\r\n",
    "                            , \"month_actual\"\r\n",
    "                            , \"allocated_amount_total\"\r\n",
    "                            , \"funded_amount\"\r\n",
    "                            , \"plan_months_total\"\r\n",
    "                            , \"spent_amount_predicted\"\r\n",
    "                            }].copy()\r\n",
    "\r\n",
    "#main_data_set = month_actual.groupby([\r\n",
    "#                                       \"member_key\"\r\n",
    "#                                      , \"first_name\" \r\n",
    "#                                      , \"last_name\" \r\n",
    "#                                      , \"budget_level1_key\"\r\n",
    "#                                      , \"budget_level1_name\"\r\n",
    "#                                      , \"plan_months_total\"\r\n",
    "#                                      , \"months_missing\"\r\n",
    "#                                      ]).agg({\r\n",
    "#                                                #\"funded_amount\": \"sum\"\r\n",
    "#                                                 \"spent_amount_predicted_percentage\": \"sum\"\r\n",
    "#                                               , \"funded_amount_percentage\": \"sum\"\r\n",
    "#                                            }).reset_index()\r\n",
    "\r\n",
    "main_data_set.sort_values(by=['member_key', 'budget_level1_key'], inplace=True)\r\n",
    "\r\n",
    "main_data_set\r\n",
    "\r\n",
    "#main_data_set.loc[main_data_set['first_name'] == 'Janean']"
   ]
  },
  {
   "cell_type": "code",
   "execution_count": 14,
   "metadata": {},
   "outputs": [],
   "source": [
    "#main_data_set['spending_status'] = np.where((main_data_set['funded_amount_percentage'] < main_data_set['spent_amount_predicted_percentage']), 0, 1)\r\n",
    "#main_data_set['spending_status'] = np.where((main_data_set['funded_amount_percentage'] == main_data_set['spent_amount_predicted_percentage']), 2, main_data_set['spending_status'])\r\n",
    "\r\n",
    "main_data_set['spending_status'] = np.where((main_data_set['funded_amount'] < main_data_set['spent_amount_predicted']), 'Underspending', 'Overspending')\r\n",
    "#main_data_set['spending_status'] = np.where((main_data_set['funded_amount'] == main_data_set['spent_amount_predicted']), 2, main_data_set['spending_status'])"
   ]
  },
  {
   "cell_type": "code",
   "execution_count": 15,
   "metadata": {},
   "outputs": [],
   "source": [
    "df_model = main_data_set[{'funded_amount'\r\n",
    "                        , 'spent_amount_predicted'\r\n",
    "                        , 'month_actual'\r\n",
    "                        , 'plan_months_total'\r\n",
    "                        , 'spending_status'}].copy()"
   ]
  },
  {
   "cell_type": "code",
   "execution_count": 16,
   "metadata": {},
   "outputs": [],
   "source": [
    "#df_model = main_data_set[{'spent_amount_predicted_percentage', 'funded_amount_percentage', 'spending_status'}].loc[\r\n",
    "#                                                                                                                  (main_data_set['spent_amount_predicted_percentage'] >0)\r\n",
    "#                                                                                                                & (main_data_set['funded_amount_percentage'] >0)\r\n",
    "\r\n",
    "#                                                                                                                & (main_data_set['spending_status'] != 2)\r\n",
    "\r\n",
    "#                                                                                                                  ]"
   ]
  },
  {
   "cell_type": "code",
   "execution_count": 17,
   "metadata": {},
   "outputs": [
    {
     "data": {
      "text/html": "<div>\n<style scoped>\n    .dataframe tbody tr th:only-of-type {\n        vertical-align: middle;\n    }\n\n    .dataframe tbody tr th {\n        vertical-align: top;\n    }\n\n    .dataframe thead th {\n        text-align: right;\n    }\n</style>\n<table border=\"1\" class=\"dataframe\">\n  <thead>\n    <tr style=\"text-align: right;\">\n      <th></th>\n      <th>spending_status</th>\n      <th>funded_amount</th>\n      <th>month_actual</th>\n      <th>spent_amount_predicted</th>\n      <th>plan_months_total</th>\n    </tr>\n  </thead>\n  <tbody>\n    <tr>\n      <th>0</th>\n      <td>Underspending</td>\n      <td>11316.70</td>\n      <td>3</td>\n      <td>22680.69</td>\n      <td>36</td>\n    </tr>\n    <tr>\n      <th>1</th>\n      <td>Underspending</td>\n      <td>2559.67</td>\n      <td>8</td>\n      <td>6534.40</td>\n      <td>12</td>\n    </tr>\n    <tr>\n      <th>2</th>\n      <td>Underspending</td>\n      <td>3629.66</td>\n      <td>3</td>\n      <td>24500.00</td>\n      <td>36</td>\n    </tr>\n    <tr>\n      <th>3</th>\n      <td>Underspending</td>\n      <td>691.27</td>\n      <td>3</td>\n      <td>1502.10</td>\n      <td>36</td>\n    </tr>\n    <tr>\n      <th>4</th>\n      <td>Underspending</td>\n      <td>4213.97</td>\n      <td>9</td>\n      <td>55026.62</td>\n      <td>12</td>\n    </tr>\n  </tbody>\n</table>\n</div>",
      "text/plain": "  spending_status  funded_amount  month_actual  spent_amount_predicted  \\\n0   Underspending       11316.70             3                22680.69   \n1   Underspending        2559.67             8                 6534.40   \n2   Underspending        3629.66             3                24500.00   \n3   Underspending         691.27             3                 1502.10   \n4   Underspending        4213.97             9                55026.62   \n\n   plan_months_total  \n0                 36  \n1                 12  \n2                 36  \n3                 36  \n4                 12  "
     },
     "execution_count": 17,
     "metadata": {},
     "output_type": "execute_result"
    }
   ],
   "source": [
    "df_model.head()"
   ]
  },
  {
   "cell_type": "code",
   "execution_count": 18,
   "metadata": {},
   "outputs": [],
   "source": [
    "#df_model.plot(x='spent_amount_predicted_percentage', y='funded_amount_percentage', style='o')\r\n",
    "#plt.title('Hours vs Percentage')\r\n",
    "#plt.xlabel('Hours Studied')\r\n",
    "#plt.ylabel('Percentage Score')\r\n",
    "#plt.show()"
   ]
  },
  {
   "cell_type": "code",
   "execution_count": 19,
   "metadata": {},
   "outputs": [],
   "source": [
    "x = df_model[{'funded_amount', 'spent_amount_predicted', 'month_actual', 'plan_months_total'}]\r\n",
    "y = df_model['spending_status']\r\n",
    "\r\n",
    "normalized_range = sklearn.preprocessing.MinMaxScaler(feature_range=(-1,1))\r\n",
    "x = normalized_range.fit_transform(x)"
   ]
  },
  {
   "cell_type": "code",
   "execution_count": 20,
   "metadata": {},
   "outputs": [],
   "source": [
    "x_train, x_test, y_train, y_test = train_test_split(x, y, test_size=0.25)"
   ]
  },
  {
   "cell_type": "code",
   "execution_count": 21,
   "metadata": {},
   "outputs": [],
   "source": [
    "regression = LogisticRegression(random_state=0, multi_class='multinomial', penalty='none', solver='newton-cg', max_iter = 200, warm_start = False).fit(x_train, y_train)\r\n",
    "\r\n",
    "regression.fit(x_train, y_train)"
   ]
  },
  {
   "cell_type": "code",
   "execution_count": null,
   "metadata": {},
   "outputs": [],
   "source": [
    "prediction_score = regression.score(x_test, y_test)\r\n",
    "print('Prediction score: ', prediction_score * 100)"
   ]
  },
  {
   "cell_type": "code",
   "execution_count": null,
   "metadata": {},
   "outputs": [],
   "source": [
    "print(regression.intercept_)"
   ]
  },
  {
   "cell_type": "code",
   "execution_count": null,
   "metadata": {},
   "outputs": [],
   "source": [
    "print(regression.coef_)"
   ]
  },
  {
   "cell_type": "code",
   "execution_count": null,
   "metadata": {},
   "outputs": [],
   "source": [
    "y_pred = regression.predict(x_test)"
   ]
  },
  {
   "cell_type": "code",
   "execution_count": null,
   "metadata": {},
   "outputs": [],
   "source": [
    "confusion_matrix(y_test, y_pred)\r\n",
    "#confmtrx = np.array(confusion_matrix)\r\n",
    "\r\n",
    "#confmtrx"
   ]
  },
  {
   "cell_type": "code",
   "execution_count": null,
   "metadata": {},
   "outputs": [],
   "source": [
    "#df = pd.DataFrame({'Actual': y_test, 'Predicted': y_pred})\r\n",
    "#df.head(20)\r\n",
    "\r\n",
    "#df.loc[ (df['Actual'] == 1) & (df['Predicted'] == 1)]"
   ]
  },
  {
   "cell_type": "code",
   "execution_count": null,
   "metadata": {},
   "outputs": [],
   "source": [
    "model_to_be_predicted = main_data_set_all_fields\r\n",
    "\r\n",
    "for index in range(len(model_to_be_predicted)):\r\n",
    "    member_key = ' member_key: ' + model_to_be_predicted['member_key'].iloc[index] + ' First name: ' + model_to_be_predicted['first_name'].iloc[index] + ' in Level 1 == ' + model_to_be_predicted['budget_level1_name'].iloc[index]\r\n",
    "\r\n",
    "    funded_amount_percentage = model_to_be_predicted['funded_amount_percentage'].iloc[index]\r\n",
    "    spent_percentage = model_to_be_predicted['spent_amount_predicted_percentage'].iloc[index]\r\n",
    "\r\n",
    "    test = logisticRegression.predict((np.array([spent_percentage, funded_amount_percentage]).reshape(1, -1)))\r\n",
    "    if test == 0:  \r\n",
    "        print(member_key + ' -------------- UNDERSPENDING')\r\n",
    "    else:\r\n",
    "        print(member_key + ' -------------- OVERSPENDING')"
   ]
  },
  {
   "cell_type": "code",
   "execution_count": null,
   "metadata": {},
   "outputs": [],
   "source": [
    "#compression_opts = dict(method='zip',\r\n",
    "#                        archive_name='prediction.csv')\r\n",
    "\r\n",
    "#main_data_set.to_csv('../dataSets/prediction.zip', compression=compression_opts)"
   ]
  }
 ],
 "metadata": {
  "kernelspec": {
   "display_name": "Python 3.8.5 32-bit",
   "name": "python385jvsc74a57bd0d7c375635162da09f0df265be1ff543fa0e54d4b5ed0ee516c18eaf6e6e8fe7a"
  },
  "language_info": {
   "codemirror_mode": {
    "name": "ipython",
    "version": 3
   },
   "file_extension": ".py",
   "mimetype": "text/x-python",
   "name": "python",
   "nbconvert_exporter": "python",
   "pygments_lexer": "ipython3",
   "version": "3.8.5"
  },
  "metadata": {
   "interpreter": {
    "hash": "d7c375635162da09f0df265be1ff543fa0e54d4b5ed0ee516c18eaf6e6e8fe7a"
   }
  },
  "orig_nbformat": 2
 },
 "nbformat": 4,
 "nbformat_minor": 2
}